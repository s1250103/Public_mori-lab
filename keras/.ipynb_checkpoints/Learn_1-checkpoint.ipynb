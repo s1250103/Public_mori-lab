{
 "cells": [
  {
   "cell_type": "code",
   "execution_count": 12,
   "metadata": {},
   "outputs": [],
   "source": [
    "%matplotlib inline\n",
    "import numpy as np \n",
    "from PIL import Image # 画像処理らいビラ利PillowのImageクラスをインポート\n",
    "import matplotlib.pyplot as plt # 描画ライブラリ\n",
    "import os \n",
    "import sys \n",
    "from keras.datasets import mnist # Kerasに内蔵されたMNISTを使う\n",
    "import keras"
   ]
  },
  {
   "cell_type": "code",
   "execution_count": null,
   "metadata": {},
   "outputs": [],
   "source": [
    "def plot_mnist(X, y, result_dir): # Xは画像データ, yはラベル(0～9)\n",
    "    row, col = 10,10 # 10行10列で画像を描画\n",
    "    plt.figure() # 描画開始\n",
    "    fig, axes = plt.subplots(\n",
    "        row,col,figsize=(10,10), # 描画全体のサイズ(単位はインチ)\n",
    "        gridspec_kw={'wspace':0, 'hspace':0.05}) # 画像間の上下間隔\n",
    "\n",
    "    # 10種類ごとにまとめて描画\n",
    "    nclasses = 10\n",
    "    for targetClass in range(nclasses):\n",
    "        targetIdx = []\n",
    "        # クラスclassIDの画像のインデックスリストを取得\n",
    "        for i in range(len(y)):\n",
    "            if y[i] == targetClass: \n",
    "                targetIdx.append(i) \n",
    "                \n",
    "        # 各クラスからランダムに選んだ最初の10個の画像を描画\n",
    "        np.random.shuffle(targetIdx)\n",
    "        for i in range(col):  \n",
    "            idx = targetIdx[i]\n",
    "            img = Image.fromarray(X[idx]) # 実数配列から画像データに変換\n",
    "            axes[targetClass][i].set_axis_off() # 軸は表示しない\n",
    "            axes[targetClass][i].imshow(img, cmap=plt.get_cmap('gray'))\n",
    "\n",
    "    plt.savefig(os.path.join(result_dir, 'MNIST-sample.jpg')) # 画像を保存\n",
    "    plt.show() "
   ]
  },
  {
   "cell_type": "code",
   "execution_count": null,
   "metadata": {},
   "outputs": [],
   "source": []
  }
 ],
 "metadata": {
  "kernelspec": {
   "display_name": "Python 3",
   "language": "python",
   "name": "python3"
  },
  "language_info": {
   "codemirror_mode": {
    "name": "ipython",
    "version": 3
   },
   "file_extension": ".py",
   "mimetype": "text/x-python",
   "name": "python",
   "nbconvert_exporter": "python",
   "pygments_lexer": "ipython3",
   "version": "3.7.9"
  }
 },
 "nbformat": 4,
 "nbformat_minor": 4
}
