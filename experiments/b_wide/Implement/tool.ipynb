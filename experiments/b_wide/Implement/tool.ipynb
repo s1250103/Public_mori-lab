{
  "nbformat": 4,
  "nbformat_minor": 0,
  "metadata": {
    "colab": {
      "name": "tool.ipynb",
      "provenance": [],
      "collapsed_sections": [
        "o7aF5olQLzzr"
      ],
      "toc_visible": true,
      "include_colab_link": true
    },
    "kernelspec": {
      "display_name": "Python 3",
      "name": "python3"
    },
    "accelerator": "GPU"
  },
  "cells": [
    {
      "cell_type": "markdown",
      "metadata": {
        "id": "view-in-github",
        "colab_type": "text"
      },
      "source": [
        "<a href=\"https://colab.research.google.com/github/s1250103/Public_mori-lab/blob/b__wide/experiments/b_wide/Implement/tool.ipynb\" target=\"_parent\"><img src=\"https://colab.research.google.com/assets/colab-badge.svg\" alt=\"Open In Colab\"/></a>"
      ]
    },
    {
      "cell_type": "markdown",
      "metadata": {
        "id": "4fqSbLjWDevK"
      },
      "source": [
        "# 開発用モジュール"
      ]
    },
    {
      "cell_type": "code",
      "metadata": {
        "id": "jiO3ZwVib3Oh"
      },
      "source": [
        "import matplotlib.pyplot as plt\n",
        "import cv2\n",
        "def display_ndarray(image):\n",
        "  img = cv2.cvtColor(image, cv2.COLOR_BGR2RGB)\n",
        "  plt.imshow(img)\n",
        "  plt.show()"
      ],
      "execution_count": 1,
      "outputs": []
    },
    {
      "cell_type": "code",
      "metadata": {
        "id": "v8NV4EfFIytI"
      },
      "source": [
        "from tensorflow.keras import layers, models, initializers, callbacks\n",
        "import tensorflow as tf\n",
        "import numpy as np\n",
        "from tensorflow.keras.utils import plot_model"
      ],
      "execution_count": 2,
      "outputs": []
    },
    {
      "cell_type": "markdown",
      "metadata": {
        "id": "o7aF5olQLzzr"
      },
      "source": [
        "# [A-2]環境構築"
      ]
    },
    {
      "cell_type": "code",
      "metadata": {
        "colab": {
          "base_uri": "https://localhost:8080/"
        },
        "id": "8VLZTe-_Fz-G",
        "outputId": "8826c5c2-ebf9-45ac-a1f9-fae3e0eef2a0"
      },
      "source": [
        "#@title gdrive マウント\n",
        "from google.colab import drive\n",
        "from os import path\n",
        "if not path.exists('/content/drive'):\n",
        "  drive.mount('/content/drive')\n",
        "else:\n",
        "  print(\"Already confirm\")\n"
      ],
      "execution_count": 3,
      "outputs": [
        {
          "output_type": "stream",
          "text": [
            "Mounted at /content/drive\n"
          ],
          "name": "stdout"
        }
      ]
    },
    {
      "cell_type": "code",
      "metadata": {
        "id": "VVHimjBTJ_7Y"
      },
      "source": [
        "#@title 一時的にファイルを置くディレクトリ'desk'を作成\n",
        "import os\n",
        "desk = '/content/desk'\n",
        "if not os.path.exists(desk):\n",
        "  os.mkdir(desk)\n",
        "os.chdir(desk)"
      ],
      "execution_count": 4,
      "outputs": []
    },
    {
      "cell_type": "code",
      "metadata": {
        "id": "EYjxmEMpAZU1",
        "cellView": "code",
        "colab": {
          "base_uri": "https://localhost:8080/"
        },
        "outputId": "43bd98ba-bfa6-4440-f0c5-508e5ccd4ab1"
      },
      "source": [
        "#@title 必要なファイルを'desk'にコピー\n",
        "\n",
        "wants_paths = [\n",
        "'/content/drive/MyDrive/colab/dence1223/key20201218.h5',\n",
        "'/content/drive/MyDrive/colab/dence1223/normalTrainLabels.npz',\n",
        "'/content/drive/MyDrive/colab/dence1223/normalTrainVideos.npz'\n",
        "]\n",
        "\n",
        "import shutil\n",
        "for want in wants_paths:\n",
        "  if not os.path.exists(os.path.join(desk, os.path.basename(want))):\n",
        "    shutil.copy2(want, desk)\n",
        "    print(\"get : \", want)\n",
        "            "
      ],
      "execution_count": 7,
      "outputs": [
        {
          "output_type": "stream",
          "text": [
            "get :  /content/drive/MyDrive/colab/dence1223/normalTrainLabels.npz\n",
            "get :  /content/drive/MyDrive/colab/dence1223/normalTrainVideos.npz\n"
          ],
          "name": "stdout"
        }
      ]
    },
    {
      "cell_type": "code",
      "metadata": {
        "id": "eBIQL82BN3Ny"
      },
      "source": [
        "#@title データフォーマットを規定\n",
        "class video_format:\n",
        "  name = \"video_format\"\n",
        "  # サンプリングされたCMデータの仕様\n",
        "  playtime = \"15秒\"\n",
        "  displaysize = \"(any, any, RGB)\"\n",
        "  videoformat = \"any\"\n",
        "  # モデルが扱うCMデータ(上のようなデータは、下のように変換される)\n",
        "  HEIGHT = 45\n",
        "  WIDTH = 80\n",
        "  FRAME_SIZE = 30\n",
        "  COLOR = \"RGB\"\n",
        "  FPS = \"2 (FRAME_SIZE / playtime)\" # 定義ではなく上から導かれた値\n",
        "  \n",
        "format1 = video_format()"
      ],
      "execution_count": 8,
      "outputs": []
    },
    {
      "cell_type": "markdown",
      "metadata": {
        "id": "8acjLttSNX2W"
      },
      "source": [
        "# [A-1]データ取得・整形"
      ]
    },
    {
      "cell_type": "markdown",
      "metadata": {
        "id": "fOOHfdAyM8ev"
      },
      "source": [
        "## [A-1-1]データ取得"
      ]
    },
    {
      "cell_type": "code",
      "metadata": {
        "id": "sAZLB2SbjlBz"
      },
      "source": [
        "import os\n",
        "import cv2\n",
        "\n",
        "# ディレクトリ名とラベルとの対応\n",
        "ruleLabel = {\n",
        "    '0.other' : 0, \n",
        "    '1.food' : 1,\n",
        "    '2.car' : 2,\n",
        "    '3.cosme' : 3}\n",
        "    \n",
        "class DataWithLabel:\n",
        "  data = \"video data\"\n",
        "  label = \"train label\"\n",
        "  def __init__(self, data, label):\n",
        "    self.data = data\n",
        "    self.label = label\n",
        "\n",
        "def getData(path):\n",
        "  dwls = []\n",
        "\n",
        "  dir_classes = os.listdir(path)\n",
        "  for dir_class in dir_classes:\n",
        "    print(dir_class)\n",
        "    path_dir_class = os.path.join(path, dir_class)\n",
        "    videosInTheClass = os.listdir(path_dir_class)\n",
        "    for videoInTheClass in videosInTheClass:\n",
        "      path_videoInTheClass = os.path.join(path_dir_class, videoInTheClass)\n",
        "      print(path_videoInTheClass) # 扱うビデオデータのパスを確認\n",
        "      video_cvformat = cv2.VideoCapture(path_videoInTheClass)\n",
        "      label = ruleLabel[dir_class]\n",
        "      print(\"Attached the label :\", label)\n",
        "\n",
        "      dwl = DataWithLabel(video_cvformat, label)\n",
        "      dwls.append(dwl)\n",
        "      print(\"________\")\n",
        "\n",
        "  return dwls\n"
      ],
      "execution_count": null,
      "outputs": []
    },
    {
      "cell_type": "code",
      "metadata": {
        "id": "SW8mokcv-Cxm"
      },
      "source": [
        "import os\n",
        "path_trainData = \"/content/drive/MyDrive/train_data\"\n",
        "path_testData = \"/content/drive/MyDrive/test_data\"\n",
        "\n",
        "if not os.path.isdir(path_trainData):\n",
        "  print(\"no train data\")\n",
        "if not os.path.isdir(path_testData):\n",
        "  print(\"no test data\")\n",
        "\n",
        "# 訓練データ取得\n",
        "dwls_train = getData(path_trainData)\n",
        "# 訓練データ取得\n",
        "dwls_test = getData(path_testData)"
      ],
      "execution_count": 12,
      "outputs": []
    },
    {
      "cell_type": "markdown",
      "metadata": {
        "id": "2HJppVhmNrE4"
      },
      "source": [
        "## [A-1-2]データ整形"
      ]
    },
    {
      "cell_type": "code",
      "metadata": {
        "id": "yrXmBPkKtnZm",
        "cellView": "code"
      },
      "source": [
        "import numpy as np\n",
        "import math\n",
        "\n",
        "def makeUp_data(dwls):\n",
        "  for count_dwl, dwl in enumerate(dwls):\n",
        "    print(\"loading : \", count_dwl)\n",
        "    framesize = int(dwl.data.get(cv2.CAP_PROP_FRAME_COUNT)) # フレームの数\n",
        "    cutTiming = math.floor(framesize / format1.FRAME_SIZE)\n",
        "\n",
        "    cutTail = cutTiming * format1.FRAME_SIZE\n",
        "\n",
        "    normalVideo = []\n",
        "    count = 0\n",
        "    # フレーム３０枚分を１つの動画から間伐する\n",
        "    while count <= cutTail - 1:\n",
        "      IO, frame = dwl.data.read()\n",
        "      if (count % cutTiming) == 0: \n",
        "        if not IO:\n",
        "          print(\"error in : \", count_dwl) \n",
        "          break\n",
        "        else: \n",
        "          fixedFrame = cv2.resize(frame, dsize=(format1.WIDTH, format1.HEIGHT))\n",
        "          fixedFrame = fixedFrame.flatten().astype(np.float32)/255.0\n",
        "          normalVideo.append(fixedFrame)\n",
        "      else:\n",
        "        pass\n",
        "\n",
        "      count += 1\n",
        "\n",
        "\n",
        "    dwl.data = np.array(normalVideo)\n"
      ],
      "execution_count": null,
      "outputs": []
    },
    {
      "cell_type": "code",
      "metadata": {
        "id": "E41X1fK6v5-6"
      },
      "source": [
        "makeUp_data(dwls_train)\n",
        "makeUp_data(dwls_test)"
      ],
      "execution_count": null,
      "outputs": []
    },
    {
      "cell_type": "markdown",
      "metadata": {
        "id": "C_n2tzxvwaRv"
      },
      "source": [
        "## [A-1-3]データ保存"
      ]
    },
    {
      "cell_type": "code",
      "metadata": {
        "id": "HnxvDwlleaMZ",
        "cellView": "code"
      },
      "source": [
        "def save_data(dwls, saveName):\n",
        "  videos = []\n",
        "  labels = []\n",
        "  for dwl in dwls:\n",
        "    videos.append(dwl.data.flatten())\n",
        "    labels.append(dwl.label)\n",
        "  \n",
        "  name_videos = saveName + \"Videos\"\n",
        "  name_labels = saveName + \"Labels\"\n",
        "\n",
        "  np.savez(os.path.join(desk, name_videos), *videos)\n",
        "  np.savez(os.path.join(desk, name_labels), *labels)"
      ],
      "execution_count": 18,
      "outputs": []
    },
    {
      "cell_type": "code",
      "metadata": {
        "id": "gbrCK1OOwkyF"
      },
      "source": [
        "save_data(dwls_train, \"normalTrain\")\n",
        "save_data(dwls_test, \"normalTest\")"
      ],
      "execution_count": null,
      "outputs": []
    },
    {
      "cell_type": "markdown",
      "metadata": {
        "id": "M0qUvB9aa_bI"
      },
      "source": [
        "試しに読み込んでみる"
      ]
    },
    {
      "cell_type": "code",
      "metadata": {
        "id": "lzkqRdHtmGHb"
      },
      "source": [
        "import numpy as np\n",
        "\n",
        "v = np.load('/content/desk/normalTrainVideos.npz')\n",
        "oneVideo = v['arr_0']\n",
        "# display_ndarray(oneVideo[10])"
      ],
      "execution_count": 13,
      "outputs": []
    },
    {
      "cell_type": "code",
      "metadata": {
        "colab": {
          "base_uri": "https://localhost:8080/"
        },
        "id": "6f8jhe8lSdRI",
        "outputId": "845f7e37-ba6f-4204-9ee6-f66d343ac00d"
      },
      "source": [
        "oneVideo.shape"
      ],
      "execution_count": 14,
      "outputs": [
        {
          "output_type": "execute_result",
          "data": {
            "text/plain": [
              "(324000,)"
            ]
          },
          "metadata": {
            "tags": []
          },
          "execution_count": 14
        }
      ]
    },
    {
      "cell_type": "code",
      "metadata": {
        "id": "1lDFcSwHGduA"
      },
      "source": [
        "import numpy as np\n",
        "\n",
        "v = np.load('/content/desk/normalTestVideos.npz')\n",
        "oneVideo = v['arr_7']\n",
        "display_ndarray(oneVideo[2])"
      ],
      "execution_count": null,
      "outputs": []
    },
    {
      "cell_type": "markdown",
      "metadata": {
        "id": "2AghYWryL0CS"
      },
      "source": [
        "# [A-3]モデルの作成"
      ]
    },
    {
      "cell_type": "code",
      "metadata": {
        "colab": {
          "base_uri": "https://localhost:8080/"
        },
        "id": "S89YfRxnLDud",
        "outputId": "18565fb0-eb89-44ce-9c52-d52c19050d2a"
      },
      "source": [
        "#@title 入力データの情報を規定\n",
        "colorSet = {'BW' : 1, 'RGB' : 3}\n",
        "\n",
        "#入力層の設定\n",
        "input_frameWIDTH = format1.WIDTH\n",
        "input_frameHEIGHT = format1.HEIGHT\n",
        "input_frameSIZE = format1.FRAME_SIZE\n",
        "input_frameCOLOR = colorSet['RGB']\n",
        "input_allPattern = input_frameWIDTH * input_frameHEIGHT * input_frameSIZE * input_frameCOLOR\n",
        "\n",
        "print(\n",
        "    input_frameWIDTH,\n",
        "    input_frameHEIGHT,\n",
        "    input_frameSIZE,\n",
        "    input_frameCOLOR,\n",
        "    input_allPattern )"
      ],
      "execution_count": null,
      "outputs": [
        {
          "output_type": "stream",
          "text": [
            "80 45 30 3 324000\n"
          ],
          "name": "stdout"
        }
      ]
    },
    {
      "cell_type": "markdown",
      "metadata": {
        "id": "Zz9okc8dSalT"
      },
      "source": [
        "## [A-3-2]モデルの作成"
      ]
    },
    {
      "cell_type": "code",
      "metadata": {
        "id": "A9hlEm4-b_ey"
      },
      "source": [
        "from tensorflow.keras import layers, models, initializers, callbacks\n",
        "import tensorflow as tf\n",
        "import numpy as np\n",
        "\n",
        "seedKey = 20201218\n",
        "\n",
        "np.random.seed(seedKey)\n",
        "tf.random.set_seed(seedKey)\n",
        "\n",
        "model = models.Sequential([\n",
        "    # 入力層        \n",
        "    layers.Reshape(\n",
        "        (input_frameSIZE, input_frameHEIGHT, input_frameWIDTH,  input_frameCOLOR), \n",
        "        input_shape=(input_allPattern,),\n",
        "        name='ENTRANCE' ),\n",
        "    # 中間層\n",
        "    layers.Flatten(\n",
        "        name='RIVER' ),\n",
        "    layers.Dense(\n",
        "      1024, # 1024項\n",
        "      activation='relu',\n",
        "      name='DAM' ),\n",
        "    # 出力層\n",
        "    layers.Dense(4, activation='softmax', name='WATERSUPPLY')\n",
        "])\n",
        "\n",
        "name_model = 'key' + str(seedKey)\n",
        "name_model = name_model + '.h5'\n",
        "path_model = os.path.join('/content/desk/', name_model)\n",
        "model.save(path_model)"
      ],
      "execution_count": null,
      "outputs": []
    },
    {
      "cell_type": "code",
      "metadata": {
        "id": "2zTmwfOlcWR6"
      },
      "source": [
        "#表示\n",
        "model.summary()\n",
        "from tensorflow.keras.utils import plot_model\n",
        "# plot_model(\n",
        "#   model,\n",
        "#   show_shapes=True,\n",
        "#   )"
      ],
      "execution_count": null,
      "outputs": []
    },
    {
      "cell_type": "markdown",
      "metadata": {
        "id": "7mYb1Eo8LzSZ"
      },
      "source": [
        "# [A-4]学習"
      ]
    },
    {
      "cell_type": "markdown",
      "metadata": {
        "id": "SAj3WKKgGzH5"
      },
      "source": [
        "## [A-4-1]データ用意\n"
      ]
    },
    {
      "cell_type": "code",
      "metadata": {
        "colab": {
          "base_uri": "https://localhost:8080/"
        },
        "id": "m1J7DrpaIYbG",
        "outputId": "4cf1afce-bc09-4b9f-e866-d4c68ab13923"
      },
      "source": [
        "#@title 入力データの情報を規定\n",
        "colorSet = {'BW' : 1, 'RGB' : 3}\n",
        "\n",
        "#入力層の設定\n",
        "input_frameWIDTH = format1.WIDTH\n",
        "input_frameHEIGHT = format1.HEIGHT\n",
        "input_frameSIZE = format1.FRAME_SIZE\n",
        "input_frameCOLOR = colorSet['RGB']\n",
        "input_allPattern = input_frameWIDTH * input_frameHEIGHT * input_frameSIZE * input_frameCOLOR\n",
        "\n",
        "print(\n",
        "    input_frameWIDTH,\n",
        "    input_frameHEIGHT,\n",
        "    input_frameSIZE,\n",
        "    input_frameCOLOR,\n",
        "    input_allPattern )"
      ],
      "execution_count": 21,
      "outputs": [
        {
          "output_type": "stream",
          "text": [
            "80 45 30 3 324000\n"
          ],
          "name": "stdout"
        }
      ]
    },
    {
      "cell_type": "markdown",
      "metadata": {
        "id": "EtBH4noVG9N3"
      },
      "source": [
        "### [A-4-1-1]訓練データ用意\n"
      ]
    },
    {
      "cell_type": "code",
      "metadata": {
        "id": "st7bA8hCePqA"
      },
      "source": [
        "#@title 訓練データ用意\n",
        "import numpy as np\n",
        "\n",
        "v = np.load('/content/desk/normalTrainVideos.npz')\n",
        "l = np.load('/content/desk/normalTrainLabels.npz')\n",
        "\n",
        "train_videos = []\n",
        "train_labels = []\n",
        "for i in v.files:\n",
        "  train_videos.append(v[i])\n",
        "for i in l.files:\n",
        "  train_labels.append(l[i])\n",
        "\n",
        "train_videos = np.array(train_videos)\n",
        "train_labels = np.array(train_labels)\n",
        "train_labels = tf.keras.utils.to_categorical(train_labels, 4)"
      ],
      "execution_count": 23,
      "outputs": []
    },
    {
      "cell_type": "markdown",
      "metadata": {
        "id": "XEmwMArpHHoG"
      },
      "source": [
        "### [A-4-1-2]テストデータ用意\n"
      ]
    },
    {
      "cell_type": "code",
      "metadata": {
        "id": "4u8F_cPhHYHf"
      },
      "source": [
        "#@title テストデータ用意\n",
        "import numpy as np\n",
        "\n",
        "v = np.load('/content/desk/normalTrainVideos.npz')\n",
        "l = np.load('/content/desk/normalTrainLabels.npz')"
      ],
      "execution_count": 24,
      "outputs": []
    },
    {
      "cell_type": "code",
      "metadata": {
        "id": "_l6Lz8kwHjkJ"
      },
      "source": [
        "test_videos = []\n",
        "test_labels = []\n",
        "for i in v.files:\n",
        "  test_videos.append(v[i])\n",
        "for i in l.files:\n",
        "  test_labels.append(l[i])\n",
        "\n",
        "test_videos = np.array(test_videos)\n",
        "test_labels = np.array(test_labels)\n",
        "test_labels = tf.keras.utils.to_categorical(test_labels, 4)"
      ],
      "execution_count": 28,
      "outputs": []
    },
    {
      "cell_type": "markdown",
      "metadata": {
        "id": "gN9MMkqbuYv9"
      },
      "source": [
        "## 学習実行"
      ]
    },
    {
      "cell_type": "code",
      "metadata": {
        "id": "N-1ykomzuNT7"
      },
      "source": [
        "# loss\n",
        "mse = tf.keras.losses.MeanSquaredError()\n",
        "cce = tf.keras.losses.CategoricalCrossentropy()\n",
        "# optimizer\n",
        "sgd = keras.optimizers.SGD(lr=0.00001, momentum=0.0, decay=0.0, nesterov=False)"
      ],
      "execution_count": 83,
      "outputs": []
    },
    {
      "cell_type": "code",
      "metadata": {
        "id": "X7Hj2dSEsF1x",
        "colab": {
          "base_uri": "https://localhost:8080/"
        },
        "outputId": "1e509859-c866-41ec-e42a-38efe21faf8b"
      },
      "source": [
        "# モデル準備\n",
        "from tensorflow.keras.utils import plot_model\n",
        "import keras\n",
        "import gc\n",
        "\n",
        "model = models.load_model('/content/desk/key20201218.h5')\n",
        "\n",
        "# コンパイル\n",
        "model.compile(\n",
        "    optimizer=sgd, \n",
        "    loss=mse,\n",
        "    metrics=['acc'])\n",
        "\n",
        "# 実行\n",
        "history = model.fit(\n",
        "      train_videos, \n",
        "      train_labels, \n",
        "      # validation_data=(test_videos, test_labels),\n",
        "      batch_size=16,\n",
        "      epochs=512,\n",
        "      verbose=0)\n",
        "print(\"Complete.\")\n",
        "\n",
        "# プロット\n",
        "plotLoss(history)\n",
        "plotAcc(history)"
      ],
      "execution_count": null,
      "outputs": [
        {
          "output_type": "stream",
          "text": [
            "WARNING:tensorflow:No training configuration found in the save file, so the model was *not* compiled. Compile it manually.\n"
          ],
          "name": "stdout"
        }
      ]
    },
    {
      "cell_type": "markdown",
      "metadata": {
        "id": "iZsey6JXgMlv"
      },
      "source": [
        "# [A-5]学習の評価"
      ]
    },
    {
      "cell_type": "code",
      "metadata": {
        "id": "S2QcmAt1xl15"
      },
      "source": [
        "from pandas import DataFrame\n",
        "import matplotlib.pyplot as plt\n",
        "import os\n",
        "\n",
        "def savePlot(fig, plus):\n",
        "  # name = inv_losses[pick_loss]\n",
        "  name = 'tmp'\n",
        "  name = name + '_' + plus\n",
        "  path_image = os.path.join(desk, name)\n",
        "  fig.savefig(path_image)\n",
        "\n",
        "def plotAcc(history):\n",
        "  fig = plt.figure()\n",
        "  ACC = fig.add_subplot(1,1,1)\n",
        "  props = {\n",
        "      'title' : 'plot of ACCURACY',\n",
        "      'xlabel' : 'epoch',\n",
        "      'ylabel' : 'value'\n",
        "  }\n",
        "  ACC.set(**props)\n",
        "  acc = DataFrame(history.history['acc'])\n",
        "  # val_acc = DataFrame(history.history['val_acc'])\n",
        "  ACC.plot(acc, label='acc', marker='o', color='blue')\n",
        "  # ACC.plot(val_acc, label='val_acc', marker='o', linestyle='--', color='orange')\n",
        "  ACC.legend()\n",
        "\n",
        "  savePlot(fig, 'acc')\n",
        "\n",
        "def plotLoss(history):\n",
        "  fig = plt.figure()\n",
        "  LOSS = fig.add_subplot(1,1,1)\n",
        "  props = {\n",
        "      'title' : 'plot of LOSS',\n",
        "      'xlabel' : 'epoch',\n",
        "      'ylabel' : 'value'\n",
        "  }\n",
        "  LOSS.set(**props)\n",
        "  loss = DataFrame(history.history['loss'])\n",
        "  # val_loss = DataFrame(history.history['val_loss'])\n",
        "  LOSS.plot(loss, label='loss', marker='o', color='blue')\n",
        "  # LOSS.plot(val_loss, label='val_loss', marker='o', linestyle='--', color='orange')\n",
        "  LOSS.legend()\n",
        "\n",
        "  savePlot(fig, 'loss')"
      ],
      "execution_count": 35,
      "outputs": []
    },
    {
      "cell_type": "code",
      "metadata": {
        "id": "hum5R9DQgcp3"
      },
      "source": [
        "#@title accuracy, loss 描画\n",
        "plotLoss(history)\n",
        "plotAcc(history)"
      ],
      "execution_count": null,
      "outputs": []
    },
    {
      "cell_type": "markdown",
      "metadata": {
        "id": "7xECtuTNphxI"
      },
      "source": [
        "#ストレージへ保存"
      ]
    },
    {
      "cell_type": "code",
      "metadata": {
        "id": "Ss4IH3BWq1ed"
      },
      "source": [
        "import shutil\n",
        "\n",
        "shelf = '/content/drive/MyDrive/colab'\n",
        "book = 'dence1223'\n",
        "shelf_book = os.path.join(shelf, book)\n",
        "if not os.path.exists(shelf_book):\n",
        "  os.mkdir(shelf_book)\n",
        "\n",
        "wants_paths = [\n",
        "'/content/desk/normalTestLabels.npz',\n",
        "'/content/desk/normalTestVideos.npz'\n",
        "]       "
      ],
      "execution_count": 60,
      "outputs": []
    },
    {
      "cell_type": "code",
      "metadata": {
        "id": "Df4WB_241-X9"
      },
      "source": [
        "for want in wants_paths:\n",
        "  shutil.copy2(\n",
        "      want,\n",
        "      shelf_book\n",
        "  )"
      ],
      "execution_count": 61,
      "outputs": []
    },
    {
      "cell_type": "markdown",
      "metadata": {
        "id": "K4fLap4v1xYb"
      },
      "source": [
        "#掃き溜め"
      ]
    },
    {
      "cell_type": "code",
      "metadata": {
        "id": "TbR5DmQysEJl"
      },
      "source": [
        "%tensorflow_version 2.x\n",
        "!pip2 install --upgrade google-auth-oauthlib grpcio >/dev/null 2>&1\n",
        "import shutil\n",
        "from tensorflow.keras import layers, models, initializers, callbacks\n",
        "log_dir = '/tmp/log'\n",
        "shutil.rmtree(log_dir, ignore_errors=True)\n",
        "tensorboard_callback = callbacks.TensorBoard(log_dir=log_dir,\n",
        "                                             histogram_freq=1)"
      ],
      "execution_count": null,
      "outputs": []
    },
    {
      "cell_type": "code",
      "metadata": {
        "id": "D_jDvyYmDkYG"
      },
      "source": [
        "losses = {\n",
        "    'CCE' : 'categorical_crossentropy',\n",
        "    'SCE' : 'sparse_categorical_crossentropy',\n",
        "\n",
        "    'MSE' : 'mean_squared_error',\n",
        "    'MSLE' : 'mean_squared_logarithmic_error',\n",
        "    'MAE' : 'mean_absolute_error',\n",
        "}\n",
        "def inverse_dict(d):\n",
        "    return {v:k for k,v in d.items()}\n",
        "\n",
        "inv_losses = inverse_dict(losses)\n"
      ],
      "execution_count": 139,
      "outputs": []
    },
    {
      "cell_type": "code",
      "metadata": {
        "id": "0_l9fiK4yfVu"
      },
      "source": [
        "#@title 学習\n",
        "%%time\n",
        "history = model.fit(\n",
        "      train_videos, train_labels, \n",
        "      validation_data=(test_videos, test_labels),\n",
        "      batch_size=16, epochs= 30,\n",
        "      # callbacks=[tensorboard_callback]\n",
        "      )\n",
        "print(\"Complete.\")"
      ],
      "execution_count": null,
      "outputs": []
    },
    {
      "cell_type": "code",
      "metadata": {
        "id": "mCneOHGy6VXw"
      },
      "source": [
        "!curl -OL https://bin.equinox.io/c/4VmDzA7iaHb/ngrok-stable-linux-amd64.zip\n",
        "!unzip -o ngrok-stable-linux-amd64.zip"
      ],
      "execution_count": null,
      "outputs": []
    },
    {
      "cell_type": "code",
      "metadata": {
        "id": "o3oGrHRwWz58",
        "colab": {
          "base_uri": "https://localhost:8080/"
        },
        "outputId": "77002d56-abf7-48b7-8160-f5523bd62275"
      },
      "source": [
        "get_ipython().system_raw(\n",
        "    'tensorboard --logdir {} --host 0.0.0.0 --port 6006 &'\n",
        "    .format(log_dir)\n",
        ")\n",
        "get_ipython().system_raw('./ngrok http 6006 &')\n",
        "!curl -s http://localhost:4040/api/tunnels | python3 -c \\\n",
        "    \"import sys, json; print(json.load(sys.stdin)['tunnels'][0]['public_url'])\""
      ],
      "execution_count": null,
      "outputs": [
        {
          "output_type": "stream",
          "text": [
            "https://6b5d01d27e35.ngrok.io\n"
          ],
          "name": "stdout"
        }
      ]
    }
  ]
}