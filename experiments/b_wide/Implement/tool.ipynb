{
  "nbformat": 4,
  "nbformat_minor": 0,
  "metadata": {
    "colab": {
      "name": "tool.ipynb",
      "provenance": [],
      "collapsed_sections": [
        "o7aF5olQLzzr"
      ],
      "toc_visible": true,
      "authorship_tag": "ABX9TyO9HMM+a9lahSINBZrEDUha",
      "include_colab_link": true
    },
    "kernelspec": {
      "display_name": "Python 3",
      "name": "python3"
    },
    "accelerator": "GPU"
  },
  "cells": [
    {
      "cell_type": "markdown",
      "metadata": {
        "id": "view-in-github",
        "colab_type": "text"
      },
      "source": [
        "<a href=\"https://colab.research.google.com/github/s1250103/Public_mori-lab/blob/b__wide/experiments/b_wide/Implement/tool.ipynb\" target=\"_parent\"><img src=\"https://colab.research.google.com/assets/colab-badge.svg\" alt=\"Open In Colab\"/></a>"
      ]
    },
    {
      "cell_type": "code",
      "metadata": {
        "id": "C8UBf7akbOia"
      },
      "source": [
        "import gc\n",
        "del model\n",
        "gc.collect()"
      ],
      "execution_count": null,
      "outputs": []
    },
    {
      "cell_type": "markdown",
      "metadata": {
        "id": "4fqSbLjWDevK"
      },
      "source": [
        "# 開発用モジュール"
      ]
    },
    {
      "cell_type": "code",
      "metadata": {
        "id": "jiO3ZwVib3Oh"
      },
      "source": [
        "import matplotlib.pyplot as plt\n",
        "import cv2\n",
        "def display_ndarray(image):\n",
        "  img = cv2.cvtColor(image, cv2.COLOR_BGR2RGB)\n",
        "  plt.imshow(img)\n",
        "  plt.show()"
      ],
      "execution_count": 1,
      "outputs": []
    },
    {
      "cell_type": "code",
      "metadata": {
        "id": "v8NV4EfFIytI"
      },
      "source": [
        "from tensorflow.keras import layers, models, initializers, callbacks\n",
        "import tensorflow as tf\n",
        "import numpy as np\n",
        "from tensorflow.keras.utils import plot_model"
      ],
      "execution_count": 2,
      "outputs": []
    },
    {
      "cell_type": "markdown",
      "metadata": {
        "id": "o7aF5olQLzzr"
      },
      "source": [
        "# [A-2]環境構築"
      ]
    },
    {
      "cell_type": "code",
      "metadata": {
        "colab": {
          "base_uri": "https://localhost:8080/"
        },
        "id": "8VLZTe-_Fz-G",
        "outputId": "cafa68b5-7e1d-42c0-b325-6921c8c9b674"
      },
      "source": [
        "#@title gdrive マウント\n",
        "from google.colab import drive\n",
        "from os import path\n",
        "if not path.exists('/content/drive'):\n",
        "  drive.mount('/content/drive')\n",
        "else:\n",
        "  print(\"Already confirm\")\n"
      ],
      "execution_count": 3,
      "outputs": [
        {
          "output_type": "stream",
          "text": [
            "Mounted at /content/drive\n"
          ],
          "name": "stdout"
        }
      ]
    },
    {
      "cell_type": "code",
      "metadata": {
        "id": "VVHimjBTJ_7Y"
      },
      "source": [
        "#@title 一時的にファイルを置くディレクトリ'desk'を作成\n",
        "import os\n",
        "desk = '/content/desk'\n",
        "if not os.path.exists(desk):\n",
        "  os.mkdir(desk)\n",
        "os.chdir(desk)"
      ],
      "execution_count": 4,
      "outputs": []
    },
    {
      "cell_type": "code",
      "metadata": {
        "id": "EYjxmEMpAZU1"
      },
      "source": [
        "#@title 必要なファイルを'desk'にコピー\n",
        "\n",
        "wants_paths = [\n",
        "'/content/drive/MyDrive/colab/dence1223/key20201218.h5',\n",
        "'/content/drive/MyDrive/colab/dence1223/normalTrainLabels.npz',\n",
        "'/content/drive/MyDrive/colab/dence1223/normalTrainVideos.npz',\n",
        "'/content/drive/MyDrive/colab/dence1223/normalTestLabels.npz',\n",
        "'/content/drive/MyDrive/colab/dence1223/normalTestVideos.npz',\n",
        "]\n",
        "\n",
        "import shutil\n",
        "for want in wants_paths:\n",
        "  shutil.copy2(want, desk)\n",
        "            "
      ],
      "execution_count": 5,
      "outputs": []
    },
    {
      "cell_type": "code",
      "metadata": {
        "id": "eBIQL82BN3Ny"
      },
      "source": [
        "#@title データフォーマットを規定\n",
        "class video_format:\n",
        "  name = \"video_format\"\n",
        "  # サンプリングされたCMデータの仕様\n",
        "  playtime = \"15秒\"\n",
        "  displaysize = \"(any, any, RGB)\"\n",
        "  videoformat = \"any\"\n",
        "  # モデルが扱うCMデータ(上のようなデータは、下のように変換される)\n",
        "  HEIGHT = 45\n",
        "  WIDTH = 80\n",
        "  FRAME_SIZE = 30\n",
        "  COLOR = \"RGB\"\n",
        "  FPS = \"2 (FRAME_SIZE / playtime)\" # 定義ではなく上から導かれた値\n",
        "  \n",
        "format1 = video_format()"
      ],
      "execution_count": 6,
      "outputs": []
    },
    {
      "cell_type": "markdown",
      "metadata": {
        "id": "8acjLttSNX2W"
      },
      "source": [
        "# [A-1]データ取得・整形"
      ]
    },
    {
      "cell_type": "markdown",
      "metadata": {
        "id": "fOOHfdAyM8ev"
      },
      "source": [
        "## [A-1-1]データ取得"
      ]
    },
    {
      "cell_type": "code",
      "metadata": {
        "id": "SW8mokcv-Cxm"
      },
      "source": [
        "path_trainData = \"/content/drive/MyDrive/train_data\"\n",
        "path_testData = \"/content/drive/MyDrive/test_data\"\n",
        "\n",
        "import os\n",
        "if not os.path.isdir(path_trainData):\n",
        "  print(\"no train data\")\n",
        "if not os.path.isdir(path_testData):\n",
        "  print(\"no test data\")"
      ],
      "execution_count": 3,
      "outputs": []
    },
    {
      "cell_type": "code",
      "metadata": {
        "id": "AJGasjeNp8m_"
      },
      "source": [
        "class DataWithLabel:\n",
        "  data = \"video data\"\n",
        "  label = \"train label\"\n",
        "  def __init__(self, data, label):\n",
        "    self.data = data\n",
        "    self.label = label"
      ],
      "execution_count": 4,
      "outputs": []
    },
    {
      "cell_type": "code",
      "metadata": {
        "id": "YDYnJys3Hn78"
      },
      "source": [
        "# ディレクトリ名とラベルとの対応\n",
        "ruleLabel = {\n",
        "    '0.other' : 0, \n",
        "    '1.food' : 1,\n",
        "    '2.car' : 2,\n",
        "    '3.cosme' : 3\n",
        "    }"
      ],
      "execution_count": 5,
      "outputs": []
    },
    {
      "cell_type": "code",
      "metadata": {
        "colab": {
          "base_uri": "https://localhost:8080/",
          "height": 647
        },
        "id": "sAZLB2SbjlBz",
        "outputId": "f8805646-99b3-4d71-87e0-778a56e65e64"
      },
      "source": [
        "#@title 訓練データ取得\n",
        "import os\n",
        "import cv2\n",
        "\n",
        "dwls = []\n",
        "\n",
        "dir_classes = os.listdir(path_trainData)\n",
        "for dir_class in dir_classes:\n",
        "  print(dir_class)\n",
        "  path_dir_class = os.path.join(path_trainData, dir_class)\n",
        "  videosInTheClass = os.listdir(path_dir_class)\n",
        "  for videoInTheClass in videosInTheClass:\n",
        "    path_videoInTheClass = os.path.join(path_dir_class, videoInTheClass)\n",
        "    print(path_videoInTheClass) # 扱うビデオデータのパスを確認\n",
        "    video_cvformat = cv2.VideoCapture(path_videoInTheClass)\n",
        "    label = ruleLabel[dir_class]\n",
        "    print(\"Attached the label :\", label)\n",
        "\n",
        "    dwl = DataWithLabel(video_cvformat, label)\n",
        "    dwls.append(dwl)\n",
        "    print(\"________\")\n"
      ],
      "execution_count": 6,
      "outputs": [
        {
          "output_type": "stream",
          "text": [
            "0.other\n",
            "/content/drive/MyDrive/train_data/0.other/いきなり！黄金伝説.mp4\n",
            "Attached the label : 0\n",
            "________\n",
            "/content/drive/MyDrive/train_data/0.other/刑事7人.mp4\n",
            "Attached the label : 0\n",
            "________\n",
            "/content/drive/MyDrive/train_data/0.other/メットライフ生命_MetLife.mp4\n",
            "Attached the label : 0\n",
            "________\n",
            "/content/drive/MyDrive/train_data/0.other/ZURICH_保険_チューリッヒ保険_30秒.mp4\n",
            "Attached the label : 0\n",
            "________\n",
            "/content/drive/MyDrive/train_data/0.other/刑事7人[2].mp4\n",
            "Attached the label : 0\n",
            "________\n",
            "/content/drive/MyDrive/train_data/0.other/Yamato_宅急便コンパクト.mpg\n",
            "Attached the label : 0\n",
            "________\n",
            "/content/drive/MyDrive/train_data/0.other/XFLAG_ゲーム_モンスターストライク超獣神祭.mp4\n",
            "Attached the label : 0\n",
            "________\n",
            "/content/drive/MyDrive/train_data/0.other/au_MOON Challange.mp4\n"
          ],
          "name": "stdout"
        },
        {
          "output_type": "error",
          "ename": "KeyboardInterrupt",
          "evalue": "ignored",
          "traceback": [
            "\u001b[0;31m---------------------------------------------------------------------------\u001b[0m",
            "\u001b[0;31mKeyboardInterrupt\u001b[0m                         Traceback (most recent call last)",
            "\u001b[0;32m<ipython-input-6-0a1e89b8e6a5>\u001b[0m in \u001b[0;36m<module>\u001b[0;34m()\u001b[0m\n\u001b[1;32m     13\u001b[0m     \u001b[0mpath_videoInTheClass\u001b[0m \u001b[0;34m=\u001b[0m \u001b[0mos\u001b[0m\u001b[0;34m.\u001b[0m\u001b[0mpath\u001b[0m\u001b[0;34m.\u001b[0m\u001b[0mjoin\u001b[0m\u001b[0;34m(\u001b[0m\u001b[0mpath_dir_class\u001b[0m\u001b[0;34m,\u001b[0m \u001b[0mvideoInTheClass\u001b[0m\u001b[0;34m)\u001b[0m\u001b[0;34m\u001b[0m\u001b[0;34m\u001b[0m\u001b[0m\n\u001b[1;32m     14\u001b[0m     \u001b[0mprint\u001b[0m\u001b[0;34m(\u001b[0m\u001b[0mpath_videoInTheClass\u001b[0m\u001b[0;34m)\u001b[0m \u001b[0;31m# 扱うビデオデータのパスを確認\u001b[0m\u001b[0;34m\u001b[0m\u001b[0;34m\u001b[0m\u001b[0m\n\u001b[0;32m---> 15\u001b[0;31m     \u001b[0mvideo_cvformat\u001b[0m \u001b[0;34m=\u001b[0m \u001b[0mcv2\u001b[0m\u001b[0;34m.\u001b[0m\u001b[0mVideoCapture\u001b[0m\u001b[0;34m(\u001b[0m\u001b[0mpath_videoInTheClass\u001b[0m\u001b[0;34m)\u001b[0m\u001b[0;34m\u001b[0m\u001b[0;34m\u001b[0m\u001b[0m\n\u001b[0m\u001b[1;32m     16\u001b[0m     \u001b[0mlabel\u001b[0m \u001b[0;34m=\u001b[0m \u001b[0mruleLabel\u001b[0m\u001b[0;34m[\u001b[0m\u001b[0mdir_class\u001b[0m\u001b[0;34m]\u001b[0m\u001b[0;34m\u001b[0m\u001b[0;34m\u001b[0m\u001b[0m\n\u001b[1;32m     17\u001b[0m     \u001b[0mprint\u001b[0m\u001b[0;34m(\u001b[0m\u001b[0;34m\"Attached the label :\"\u001b[0m\u001b[0;34m,\u001b[0m \u001b[0mlabel\u001b[0m\u001b[0;34m)\u001b[0m\u001b[0;34m\u001b[0m\u001b[0;34m\u001b[0m\u001b[0m\n",
            "\u001b[0;31mKeyboardInterrupt\u001b[0m: "
          ]
        }
      ]
    },
    {
      "cell_type": "code",
      "metadata": {
        "id": "npKpavDDCD9Z"
      },
      "source": [
        "#@title テストデータ取得\n",
        "import os\n",
        "import cv2\n",
        "\n",
        "dwls_test = []\n",
        "\n",
        "dir_classes = os.listdir(path_testData)\n",
        "for dir_class in dir_classes:\n",
        "  print(dir_class)\n",
        "  path_dir_class = os.path.join(path_testData, dir_class)\n",
        "  videosInTheClass = os.listdir(path_dir_class)\n",
        "  for videoInTheClass in videosInTheClass:\n",
        "    path_videoInTheClass = os.path.join(path_dir_class, videoInTheClass)\n",
        "    print(path_videoInTheClass) # 扱うビデオデータのパスを確認\n",
        "    video_cvformat = cv2.VideoCapture(path_videoInTheClass)\n",
        "    label = ruleLabel[dir_class]\n",
        "    print(\"Attached the label :\", label)\n",
        "\n",
        "    dwl = DataWithLabel(video_cvformat, label)\n",
        "    dwls_test.append(dwl)\n",
        "    print(\"________\")\n"
      ],
      "execution_count": null,
      "outputs": []
    },
    {
      "cell_type": "markdown",
      "metadata": {
        "id": "2HJppVhmNrE4"
      },
      "source": [
        "## [A-1-2]データ整形"
      ]
    },
    {
      "cell_type": "markdown",
      "metadata": {
        "id": "JUs7-VmTCvk4"
      },
      "source": [
        "### [A-1-2-1]訓練データ整形"
      ]
    },
    {
      "cell_type": "code",
      "metadata": {
        "id": "yrXmBPkKtnZm"
      },
      "source": [
        "#@title データ整形\n",
        "import numpy as np\n",
        "import math\n",
        "\n",
        "for count_dwl, dwl in enumerate(dwls):\n",
        "  print(\"loading : \", count_dwl)\n",
        "  framesize = int(dwl.data.get(cv2.CAP_PROP_FRAME_COUNT)) # フレームの数\n",
        "  cutTiming = math.floor(framesize / format1.FRAME_SIZE)\n",
        "\n",
        "  cutTail = cutTiming * format1.FRAME_SIZE\n",
        "\n",
        "  normalVideo = []\n",
        "  count = 0\n",
        "  # フレーム３０枚分を１つの動画から間伐する\n",
        "  while count <= cutTail - 1:\n",
        "    IO, frame = dwl.data.read()\n",
        "    if (count % cutTiming) == 0: \n",
        "      if not IO:\n",
        "        print(\"error in : \", count_dwl) \n",
        "        break\n",
        "      else: \n",
        "        fixedFrame = cv2.resize(frame, dsize=(format1.WIDTH, format1.HEIGHT))\n",
        "        normalVideo.append(fixedFrame)\n",
        "    else:\n",
        "      pass\n",
        "\n",
        "    count += 1\n",
        "\n",
        "  dwl.data = np.array(normalVideo)"
      ],
      "execution_count": null,
      "outputs": []
    },
    {
      "cell_type": "code",
      "metadata": {
        "id": "XrZbDMf_AabM"
      },
      "source": [
        "#@title 無作為抽出して確認\n",
        "picks = [39, 40, 89, 112]\n",
        "\n",
        "for pick in picks:\n",
        "  sample = dwls[pick].data\n",
        "  print(pick)\n",
        "  for i in range(30):\n",
        "    display_ndarray(sample[i])"
      ],
      "execution_count": null,
      "outputs": []
    },
    {
      "cell_type": "code",
      "metadata": {
        "id": "HnxvDwlleaMZ"
      },
      "source": [
        "#@title 整形データを保存\n",
        "videos = []\n",
        "labels = []\n",
        "for dwl in dwls:\n",
        "  videos.append(dwl.data)\n",
        "  labels.append(dwl.label)\n",
        "  \n",
        "np.savez(os.path.join(desk, 'normalTrainVideos'), *videos)\n",
        "np.savez(os.path.join(desk, 'normalTrainLabels'), *labels)"
      ],
      "execution_count": null,
      "outputs": []
    },
    {
      "cell_type": "markdown",
      "metadata": {
        "id": "M0qUvB9aa_bI"
      },
      "source": [
        "試しに読み込んでみる"
      ]
    },
    {
      "cell_type": "code",
      "metadata": {
        "id": "lzkqRdHtmGHb"
      },
      "source": [
        "import numpy as np\n",
        "\n",
        "v = np.load('/content/desk/normalTrainVideos.npz')\n",
        "oneVideo = v['arr_0']\n",
        "display_ndarray(oneVideo[10])"
      ],
      "execution_count": null,
      "outputs": []
    },
    {
      "cell_type": "markdown",
      "metadata": {
        "id": "DHsxTl1TDGWO"
      },
      "source": [
        "### [A-1-2-2]テストデータ整形"
      ]
    },
    {
      "cell_type": "code",
      "metadata": {
        "id": "isk6fpj2DOgK"
      },
      "source": [
        "#@title データ整形\n",
        "import numpy as np\n",
        "import math\n",
        "\n",
        "for count_dwl, dwl in enumerate(dwls_test):\n",
        "  print(\"loading : \", count_dwl)\n",
        "  framesize = int(dwl.data.get(cv2.CAP_PROP_FRAME_COUNT)) # フレームの数\n",
        "  cutTiming = math.floor(framesize / format1.FRAME_SIZE)\n",
        "\n",
        "  cutTail = cutTiming * format1.FRAME_SIZE\n",
        "\n",
        "  normalVideo = []\n",
        "  count = 0\n",
        "  # フレーム３０枚分を１つの動画から間伐する\n",
        "  while count <= cutTail - 1:\n",
        "    IO, frame = dwl.data.read()\n",
        "    if (count % cutTiming) == 0: \n",
        "      if not IO:\n",
        "        print(\"error in : \", count_dwl) \n",
        "        break\n",
        "      else: \n",
        "        fixedFrame = cv2.resize(frame, dsize=(format1.WIDTH, format1.HEIGHT))\n",
        "        normalVideo.append(fixedFrame)\n",
        "    else:\n",
        "      pass\n",
        "\n",
        "    count += 1\n",
        "\n",
        "  dwl.data = np.array(normalVideo)\n",
        "print(\"Complete.\")"
      ],
      "execution_count": null,
      "outputs": []
    },
    {
      "cell_type": "code",
      "metadata": {
        "id": "-WLehIS8DtLu"
      },
      "source": [
        "#@title 無作為抽出して確認\n",
        "picks = [39, 40, 89, 112]\n",
        "\n",
        "for pick in picks:\n",
        "  sample = dwls_test[pick].data\n",
        "  print(pick)\n",
        "  for i in range(30):\n",
        "    display_ndarray(sample[i])"
      ],
      "execution_count": null,
      "outputs": []
    },
    {
      "cell_type": "code",
      "metadata": {
        "id": "_tOnKq-SD3Ra"
      },
      "source": [
        "#@title 整形データを保存\n",
        "videos = []\n",
        "labels = []\n",
        "for dwl in dwls_test:\n",
        "  videos.append(dwl.data)\n",
        "  labels.append(dwl.label)\n",
        "  \n",
        "np.savez(os.path.join(desk, 'normalTestVideos'), *videos)\n",
        "np.savez(os.path.join(desk, 'normalTestLabels'), *labels)"
      ],
      "execution_count": null,
      "outputs": []
    },
    {
      "cell_type": "code",
      "metadata": {
        "id": "1lDFcSwHGduA"
      },
      "source": [
        "import numpy as np\n",
        "\n",
        "v = np.load('/content/desk/normalTestVideos.npz')\n",
        "oneVideo = v['arr_7']\n",
        "display_ndarray(oneVideo[2])"
      ],
      "execution_count": null,
      "outputs": []
    },
    {
      "cell_type": "markdown",
      "metadata": {
        "id": "2AghYWryL0CS"
      },
      "source": [
        "# [A-3]モデルの作成"
      ]
    },
    {
      "cell_type": "code",
      "metadata": {
        "colab": {
          "base_uri": "https://localhost:8080/"
        },
        "id": "S89YfRxnLDud",
        "outputId": "18565fb0-eb89-44ce-9c52-d52c19050d2a"
      },
      "source": [
        "#@title 入力データの情報を規定\n",
        "colorSet = {'BW' : 1, 'RGB' : 3}\n",
        "\n",
        "#入力層の設定\n",
        "input_frameWIDTH = format1.WIDTH\n",
        "input_frameHEIGHT = format1.HEIGHT\n",
        "input_frameSIZE = format1.FRAME_SIZE\n",
        "input_frameCOLOR = colorSet['RGB']\n",
        "input_allPattern = input_frameWIDTH * input_frameHEIGHT * input_frameSIZE * input_frameCOLOR\n",
        "\n",
        "print(\n",
        "    input_frameWIDTH,\n",
        "    input_frameHEIGHT,\n",
        "    input_frameSIZE,\n",
        "    input_frameCOLOR,\n",
        "    input_allPattern )"
      ],
      "execution_count": 26,
      "outputs": [
        {
          "output_type": "stream",
          "text": [
            "80 45 30 3 324000\n"
          ],
          "name": "stdout"
        }
      ]
    },
    {
      "cell_type": "markdown",
      "metadata": {
        "id": "Zz9okc8dSalT"
      },
      "source": [
        "## [A-3-2]モデルの作成"
      ]
    },
    {
      "cell_type": "code",
      "metadata": {
        "id": "A9hlEm4-b_ey"
      },
      "source": [
        "from tensorflow.keras import layers, models, initializers, callbacks\n",
        "import tensorflow as tf\n",
        "import numpy as np\n",
        "\n",
        "seedKey = 20201218\n",
        "\n",
        "np.random.seed(seedKey)\n",
        "tf.random.set_seed(seedKey)\n",
        "\n",
        "model = models.Sequential([\n",
        "    # 入力層        \n",
        "    layers.Reshape(\n",
        "        (input_frameSIZE, input_frameHEIGHT, input_frameWIDTH,  input_frameCOLOR), \n",
        "        input_shape=(input_allPattern,),\n",
        "        name='ENTRANCE' ),\n",
        "    # 中間層\n",
        "    layers.Flatten(\n",
        "        name='RIVER' ),\n",
        "    layers.Dense(\n",
        "      1024, # 1024項\n",
        "      activation='relu',\n",
        "      name='DAM' ),\n",
        "    # 出力層\n",
        "    layers.Dense(4, activation='softmax', name='WATERSUPPLY')\n",
        "])\n",
        "\n",
        "name_model = 'key' + str(seedKey)\n",
        "name_model = name_model + '.h5'\n",
        "path_model = os.path.join('/content/desk/', name_model)\n",
        "model.save(path_model)"
      ],
      "execution_count": 23,
      "outputs": []
    },
    {
      "cell_type": "code",
      "metadata": {
        "colab": {
          "base_uri": "https://localhost:8080/",
          "height": 805
        },
        "id": "2zTmwfOlcWR6",
        "outputId": "7ecac62a-5597-47eb-8a6a-641ea90df795"
      },
      "source": [
        "#表示\n",
        "model.summary()\n",
        "from tensorflow.keras.utils import plot_model\n",
        "plot_model(\n",
        "  model,\n",
        "  show_shapes=True,\n",
        "  )"
      ],
      "execution_count": 24,
      "outputs": [
        {
          "output_type": "stream",
          "text": [
            "Model: \"sequential\"\n",
            "_________________________________________________________________\n",
            "Layer (type)                 Output Shape              Param #   \n",
            "=================================================================\n",
            "ENTRANCE (Reshape)           (None, 30, 45, 80, 3)     0         \n",
            "_________________________________________________________________\n",
            "RIVER (Flatten)              (None, 324000)            0         \n",
            "_________________________________________________________________\n",
            "DAM (Dense)                  (None, 1024)              331777024 \n",
            "_________________________________________________________________\n",
            "WATERSUPPLY (Dense)          (None, 4)                 4100      \n",
            "=================================================================\n",
            "Total params: 331,781,124\n",
            "Trainable params: 331,781,124\n",
            "Non-trainable params: 0\n",
            "_________________________________________________________________\n"
          ],
          "name": "stdout"
        },
        {
          "output_type": "execute_result",
          "data": {
            "image/png": "[encoded data removed]",
            "text/plain": [
              "<IPython.core.display.Image object>"
            ]
          },
          "metadata": {
            "tags": []
          },
          "execution_count": 24
        }
      ]
    },
    {
      "cell_type": "code",
      "metadata": {
        "id": "8encqhfXIh9E"
      },
      "source": [
        "refresh(model)"
      ],
      "execution_count": null,
      "outputs": []
    },
    {
      "cell_type": "markdown",
      "metadata": {
        "id": "7mYb1Eo8LzSZ"
      },
      "source": [
        "# [A-4]学習"
      ]
    },
    {
      "cell_type": "markdown",
      "metadata": {
        "id": "SAj3WKKgGzH5"
      },
      "source": [
        "## [A-4-1]データ用意\n"
      ]
    },
    {
      "cell_type": "code",
      "metadata": {
        "colab": {
          "base_uri": "https://localhost:8080/"
        },
        "id": "m1J7DrpaIYbG",
        "outputId": "b54ecc1d-6359-4433-8631-a0734efa7ba2"
      },
      "source": [
        "#@title 入力データの情報を規定\n",
        "colorSet = {'BW' : 1, 'RGB' : 3}\n",
        "\n",
        "#入力層の設定\n",
        "input_frameWIDTH = format1.WIDTH\n",
        "input_frameHEIGHT = format1.HEIGHT\n",
        "input_frameSIZE = format1.FRAME_SIZE\n",
        "input_frameCOLOR = colorSet['RGB']\n",
        "input_allPattern = input_frameWIDTH * input_frameHEIGHT * input_frameSIZE * input_frameCOLOR\n",
        "\n",
        "print(\n",
        "    input_frameWIDTH,\n",
        "    input_frameHEIGHT,\n",
        "    input_frameSIZE,\n",
        "    input_frameCOLOR,\n",
        "    input_allPattern )"
      ],
      "execution_count": 7,
      "outputs": [
        {
          "output_type": "stream",
          "text": [
            "80 45 30 3 324000\n"
          ],
          "name": "stdout"
        }
      ]
    },
    {
      "cell_type": "markdown",
      "metadata": {
        "id": "EtBH4noVG9N3"
      },
      "source": [
        "### [A-4-1-1]訓練データ用意\n"
      ]
    },
    {
      "cell_type": "code",
      "metadata": {
        "id": "st7bA8hCePqA"
      },
      "source": [
        "#@title 訓練データ用意\n",
        "import numpy as np\n",
        "\n",
        "v = np.load('/content/desk/normalTrainVideos.npz')\n",
        "l = np.load('/content/desk/normalTrainLabels.npz')"
      ],
      "execution_count": 8,
      "outputs": []
    },
    {
      "cell_type": "code",
      "metadata": {
        "id": "4qoDYT4lbiGT"
      },
      "source": [
        "train_videos = []\n",
        "train_labels = []\n",
        "for i in v.files:\n",
        "  train_videos.append(v[i])\n",
        "for i in l.files:\n",
        "  train_labels.append(l[i])\n",
        "\n",
        "train_videos = np.array(train_videos)\n",
        "train_labels = np.array(train_labels)"
      ],
      "execution_count": 18,
      "outputs": []
    },
    {
      "cell_type": "markdown",
      "metadata": {
        "id": "Fs9zc-XNHItj"
      },
      "source": [
        "見てみる"
      ]
    },
    {
      "cell_type": "code",
      "metadata": {
        "colab": {
          "base_uri": "https://localhost:8080/",
          "height": 255
        },
        "id": "C2Btx6VmdASh",
        "outputId": "307d4dc8-f4a7-49c1-f607-ffb125058529"
      },
      "source": [
        "sample = train_videos[8]\n",
        "image1 = sample[1]\n",
        "display_ndarray(image1)\n",
        "\n",
        "print(len(train_videos) == len(train_labels))"
      ],
      "execution_count": 19,
      "outputs": [
        {
          "output_type": "display_data",
          "data": {
            "image/png": "[encoded data removed]",
            "text/plain": [
              "<Figure size 432x288 with 1 Axes>"
            ]
          },
          "metadata": {
            "tags": [],
            "needs_background": "light"
          }
        },
        {
          "output_type": "stream",
          "text": [
            "True\n"
          ],
          "name": "stdout"
        }
      ]
    },
    {
      "cell_type": "code",
      "metadata": {
        "id": "Q8x2GgsSCtpH",
        "outputId": "0e4b52d6-3884-4aa8-a3ec-fa0da7636ee4",
        "colab": {
          "base_uri": "https://localhost:8080/"
        }
      },
      "source": [
        "train_videos.shape"
      ],
      "execution_count": 24,
      "outputs": [
        {
          "output_type": "execute_result",
          "data": {
            "text/plain": [
              "(129, 30, 45, 80, 3)"
            ]
          },
          "metadata": {
            "tags": []
          },
          "execution_count": 24
        }
      ]
    },
    {
      "cell_type": "code",
      "metadata": {
        "id": "dUB4xLOXB_Ot",
        "outputId": "8a3132cd-4e84-44f0-ade9-e16034481b2e",
        "colab": {
          "base_uri": "https://localhost:8080/"
        }
      },
      "source": [
        "train_videos[0][0][0][0]"
      ],
      "execution_count": 30,
      "outputs": [
        {
          "output_type": "execute_result",
          "data": {
            "text/plain": [
              "array([54, 69, 72], dtype=uint8)"
            ]
          },
          "metadata": {
            "tags": []
          },
          "execution_count": 30
        }
      ]
    },
    {
      "cell_type": "code",
      "metadata": {
        "id": "7x3OkrjCCE8R",
        "outputId": "5955abbb-0be5-4bf9-d543-a14a053310b6",
        "colab": {
          "base_uri": "https://localhost:8080/",
          "height": 168
        }
      },
      "source": [
        "a = sample.reshape(1, 30*45*80).astype('float32') / 255"
      ],
      "execution_count": 22,
      "outputs": [
        {
          "output_type": "error",
          "ename": "ValueError",
          "evalue": "ignored",
          "traceback": [
            "\u001b[0;31m---------------------------------------------------------------------------\u001b[0m",
            "\u001b[0;31mValueError\u001b[0m                                Traceback (most recent call last)",
            "\u001b[0;32m<ipython-input-22-be007cff2957>\u001b[0m in \u001b[0;36m<module>\u001b[0;34m()\u001b[0m\n\u001b[0;32m----> 1\u001b[0;31m \u001b[0ma\u001b[0m \u001b[0;34m=\u001b[0m \u001b[0msample\u001b[0m\u001b[0;34m.\u001b[0m\u001b[0mreshape\u001b[0m\u001b[0;34m(\u001b[0m\u001b[0;36m1\u001b[0m\u001b[0;34m,\u001b[0m \u001b[0;36m30\u001b[0m\u001b[0;34m*\u001b[0m\u001b[0;36m45\u001b[0m\u001b[0;34m*\u001b[0m\u001b[0;36m80\u001b[0m\u001b[0;34m)\u001b[0m\u001b[0;34m.\u001b[0m\u001b[0mastype\u001b[0m\u001b[0;34m(\u001b[0m\u001b[0;34m'float32'\u001b[0m\u001b[0;34m)\u001b[0m \u001b[0;34m/\u001b[0m \u001b[0;36m255\u001b[0m\u001b[0;34m\u001b[0m\u001b[0;34m\u001b[0m\u001b[0m\n\u001b[0m",
            "\u001b[0;31mValueError\u001b[0m: cannot reshape array of size 324000 into shape (1,108000)"
          ]
        }
      ]
    },
    {
      "cell_type": "code",
      "metadata": {
        "colab": {
          "base_uri": "https://localhost:8080/"
        },
        "id": "MqL3sIIys4oT",
        "outputId": "8b2eb2dd-15b4-477f-86bb-e6cb7a865cd0"
      },
      "source": [
        "# データを一列にする\n",
        "train_videos = train_videos.reshape(len(train_videos), input_allPattern).astype('float32')/255\n",
        "# train_labels = tf.keras.utils.to_categorical(train_labels, 4)\n",
        "print(train_videos.shape)"
      ],
      "execution_count": 11,
      "outputs": [
        {
          "output_type": "stream",
          "text": [
            "(129, 324000)\n"
          ],
          "name": "stdout"
        }
      ]
    },
    {
      "cell_type": "code",
      "metadata": {
        "id": "FXdiMXKkBj3W"
      },
      "source": [
        "d1 = train_videos[0]\n",
        "d2 = d1[0]"
      ],
      "execution_count": 15,
      "outputs": []
    },
    {
      "cell_type": "code",
      "metadata": {
        "id": "ncgf1kKoAnCG",
        "outputId": "721bac14-f4f5-4a4b-b8b8-c67eeecc4081",
        "colab": {
          "base_uri": "https://localhost:8080/"
        }
      },
      "source": [
        "type(d2)"
      ],
      "execution_count": 17,
      "outputs": [
        {
          "output_type": "execute_result",
          "data": {
            "text/plain": [
              "numpy.float32"
            ]
          },
          "metadata": {
            "tags": []
          },
          "execution_count": 17
        }
      ]
    },
    {
      "cell_type": "markdown",
      "metadata": {
        "id": "XEmwMArpHHoG"
      },
      "source": [
        "### [A-4-1-2]テストデータ用意\n"
      ]
    },
    {
      "cell_type": "code",
      "metadata": {
        "id": "4u8F_cPhHYHf"
      },
      "source": [
        "#@title テストデータ用意\n",
        "import numpy as np\n",
        "\n",
        "v = np.load('/content/desk/normalTestVideos.npz')\n",
        "l = np.load('/content/desk/normalTestLabels.npz')"
      ],
      "execution_count": 10,
      "outputs": []
    },
    {
      "cell_type": "code",
      "metadata": {
        "id": "_l6Lz8kwHjkJ"
      },
      "source": [
        "test_videos = []\n",
        "test_labels = []\n",
        "for i in v.files:\n",
        "  test_videos.append(v[i])\n",
        "for i in l.files:\n",
        "  test_labels.append(l[i])\n",
        "\n",
        "test_videos = np.array(test_videos)\n",
        "test_labels = np.array(test_labels)"
      ],
      "execution_count": 11,
      "outputs": []
    },
    {
      "cell_type": "markdown",
      "metadata": {
        "id": "ohqlSSqLH8ov"
      },
      "source": [
        "見てみる"
      ]
    },
    {
      "cell_type": "code",
      "metadata": {
        "colab": {
          "base_uri": "https://localhost:8080/",
          "height": 255
        },
        "id": "7834mMl1H8ov",
        "outputId": "32ed886e-aed1-4018-8e76-802f028a3caf"
      },
      "source": [
        "sample = test_videos[8]\n",
        "image1 = sample[1]\n",
        "display_ndarray(image1)\n",
        "\n",
        "print(len(test_videos) == len(test_labels))"
      ],
      "execution_count": 12,
      "outputs": [
        {
          "output_type": "display_data",
          "data": {
            "image/png": "[encoded data removed]",
            "text/plain": [
              "<Figure size 432x288 with 1 Axes>"
            ]
          },
          "metadata": {
            "tags": [],
            "needs_background": "light"
          }
        },
        {
          "output_type": "stream",
          "text": [
            "True\n"
          ],
          "name": "stdout"
        }
      ]
    },
    {
      "cell_type": "code",
      "metadata": {
        "colab": {
          "base_uri": "https://localhost:8080/"
        },
        "id": "mlHjJH1XH8ow",
        "outputId": "62530b97-bb50-4c73-bdec-f99926b5d6b8"
      },
      "source": [
        "# データを一列にする\n",
        "test_videos = test_videos.reshape(len(test_videos), input_allPattern).astype('float32')/255\n",
        "# test_labels = tf.keras.utils.to_categorical(test_labels, 4)\n",
        "print(test_videos.shape)"
      ],
      "execution_count": 13,
      "outputs": [
        {
          "output_type": "stream",
          "text": [
            "(124, 324000)\n"
          ],
          "name": "stdout"
        }
      ]
    },
    {
      "cell_type": "markdown",
      "metadata": {
        "id": "cMbGKOj8Hnt-"
      },
      "source": [
        "## [A-4-2]モデル用意\n"
      ]
    },
    {
      "cell_type": "code",
      "metadata": {
        "id": "rSEWOZfudtW-"
      },
      "source": [
        "#@title モデル用意\n",
        "from tensorflow.keras.utils import plot_model\n",
        "model = models.load_model('/content/desk/key20201218.h5')\n",
        "model.summary()\n",
        "plot_model(\n",
        "  model,\n",
        "  show_shapes=True,\n",
        "  )"
      ],
      "execution_count": null,
      "outputs": []
    },
    {
      "cell_type": "markdown",
      "metadata": {
        "id": "gN9MMkqbuYv9"
      },
      "source": [
        "## 学習"
      ]
    },
    {
      "cell_type": "code",
      "metadata": {
        "id": "fGXNxyk6Wp3X"
      },
      "source": [
        "y_true = [[0, 1, 0], [0, 0, 1]]\n",
        "y_pred = [[0.05, 0.95, 0], [0.1, 0.8, 0.1]]\n",
        "loss = tf.keras.losses.categorical_crossentropy(y_true, y_pred)\n",
        "assert loss.shape == (2,)\n",
        "loss.numpy()"
      ],
      "execution_count": null,
      "outputs": []
    },
    {
      "cell_type": "code",
      "metadata": {
        "id": "IjTdQlQvUPLY"
      },
      "source": [
        "from keras import losses"
      ],
      "execution_count": null,
      "outputs": []
    },
    {
      "cell_type": "code",
      "metadata": {
        "id": "D_jDvyYmDkYG"
      },
      "source": [
        "losses = {\n",
        "    'CCE' : 'categorical_crossentropy',\n",
        "    'SCE' : 'sparse_categorical_crossentropy',\n",
        "\n",
        "    'MSE' : 'mean_squared_error',\n",
        "    'MSLE' : 'mean_squared_logarithmic_error',\n",
        "    'MAE' : 'mean_absolute_error',\n",
        "}\n",
        "def inverse_dict(d):\n",
        "    return {v:k for k,v in d.items()}\n",
        "\n",
        "inv_losses = inverse_dict(losses)\n"
      ],
      "execution_count": null,
      "outputs": []
    },
    {
      "cell_type": "code",
      "metadata": {
        "id": "cKgCe6ZXla7i"
      },
      "source": [
        "#@title 学習方法の設定\n",
        "pick_loss = losses['SCE']\n",
        "# pick_loss = losses['MSE']\n",
        "\n",
        "model.compile(\n",
        "    optimizer='adam', \n",
        "    loss = pick_loss,\n",
        "    metrics=['acc'])"
      ],
      "execution_count": null,
      "outputs": []
    },
    {
      "cell_type": "code",
      "metadata": {
        "id": "X7Hj2dSEsF1x"
      },
      "source": [
        "#@title 学習\n",
        "%%time\n",
        "history = model.fit(\n",
        "      train_videos, \n",
        "      train_labels, \n",
        "      validation_data=(test_videos, test_labels),\n",
        "      batch_size=8,\n",
        "      epochs=64\n",
        "      )\n",
        "print(\"Complete.\")"
      ],
      "execution_count": null,
      "outputs": []
    },
    {
      "cell_type": "markdown",
      "metadata": {
        "id": "iZsey6JXgMlv"
      },
      "source": [
        "# [A-5]学習の評価"
      ]
    },
    {
      "cell_type": "code",
      "metadata": {
        "id": "S2QcmAt1xl15"
      },
      "source": [
        "from pandas import DataFrame\n",
        "import matplotlib.pyplot as plt\n",
        "import os\n",
        "\n",
        "def savePlot(fig, plus):\n",
        "  # name = inv_losses[pick_loss]\n",
        "  name = 'tmp'\n",
        "  name = name + '_' + plus\n",
        "  path_image = os.path.join(desk, name)\n",
        "  fig.savefig(path_image)\n",
        "\n",
        "def plotAcc(history):\n",
        "  fig = plt.figure()\n",
        "  ACC = fig.add_subplot(1,1,1)\n",
        "  props = {\n",
        "      'title' : 'plot of ACCURACY',\n",
        "      'xlabel' : 'epoch',\n",
        "      'ylabel' : 'value'\n",
        "  }\n",
        "  ACC.set(**props)\n",
        "  acc = DataFrame(history.history['acc'])\n",
        "  # val_acc = DataFrame(history.history['val_acc'])\n",
        "  ACC.plot(acc, label='acc', marker='o', color='blue')\n",
        "  # ACC.plot(val_acc, label='val_acc', marker='o', linestyle='--', color='orange')\n",
        "  ACC.legend()\n",
        "\n",
        "  savePlot(fig, 'acc')\n",
        "\n",
        "def plotLoss(history):\n",
        "  fig = plt.figure()\n",
        "  LOSS = fig.add_subplot(1,1,1)\n",
        "  props = {\n",
        "      'title' : 'plot of LOSS',\n",
        "      'xlabel' : 'epoch',\n",
        "      'ylabel' : 'value'\n",
        "  }\n",
        "  LOSS.set(**props)\n",
        "  loss = DataFrame(history.history['loss'])\n",
        "  # val_loss = DataFrame(history.history['val_loss'])\n",
        "  LOSS.plot(loss, label='loss', marker='o', color='blue')\n",
        "  # LOSS.plot(val_loss, label='val_loss', marker='o', linestyle='--', color='orange')\n",
        "  LOSS.legend()\n",
        "\n",
        "  savePlot(fig, 'loss')"
      ],
      "execution_count": 22,
      "outputs": []
    },
    {
      "cell_type": "code",
      "metadata": {
        "colab": {
          "base_uri": "https://localhost:8080/",
          "height": 573
        },
        "id": "hum5R9DQgcp3",
        "outputId": "a2c5f56c-4150-4d39-d076-6803deb919e8"
      },
      "source": [
        "#@title accuracy, loss 描画\n",
        "plotLoss(history)\n",
        "plotAcc(history)"
      ],
      "execution_count": 121,
      "outputs": [
        {
          "output_type": "display_data",
          "data": {
            "image/png": "[encoded data removed]",
            "text/plain": [
              "<Figure size 432x288 with 1 Axes>"
            ]
          },
          "metadata": {
            "tags": [],
            "needs_background": "light"
          }
        },
        {
          "output_type": "display_data",
          "data": {
            "image/png": "[encoded data removed]",
            "text/plain": [
              "<Figure size 432x288 with 1 Axes>"
            ]
          },
          "metadata": {
            "tags": [],
            "needs_background": "light"
          }
        }
      ]
    },
    {
      "cell_type": "markdown",
      "metadata": {
        "id": "7xECtuTNphxI"
      },
      "source": [
        "#ストレージへ保存"
      ]
    },
    {
      "cell_type": "code",
      "metadata": {
        "id": "Ss4IH3BWq1ed"
      },
      "source": [
        "shelf = '/content/drive/MyDrive/colab'\n",
        "book = 'dence1223'\n",
        "shelf_book = os.path.join(shelf, book)\n",
        "if not os.path.exists(shelf_book):\n",
        "  os.mkdir(shelf_book)\n",
        "\n",
        "wants_paths = [\n",
        "'/content/desk/normalTestLabels.npz',\n",
        "'/content/desk/normalTestVideos.npz'\n",
        "]\n",
        "\n",
        "import shutil\n",
        "for want in wants_paths:\n",
        "  shutil.copy2(\n",
        "      want,\n",
        "      shelf_book\n",
        "  )\n",
        "            "
      ],
      "execution_count": 18,
      "outputs": []
    },
    {
      "cell_type": "code",
      "metadata": {
        "id": "TbR5DmQysEJl"
      },
      "source": [
        "%tensorflow_version 2.x\n",
        "!pip2 install --upgrade google-auth-oauthlib grpcio >/dev/null 2>&1\n",
        "import shutil\n",
        "from tensorflow.keras import layers, models, initializers, callbacks\n",
        "log_dir = '/tmp/log'\n",
        "shutil.rmtree(log_dir, ignore_errors=True)\n",
        "tensorboard_callback = callbacks.TensorBoard(log_dir=log_dir,\n",
        "                                             histogram_freq=1)"
      ],
      "execution_count": 13,
      "outputs": []
    },
    {
      "cell_type": "code",
      "metadata": {
        "id": "0_l9fiK4yfVu"
      },
      "source": [
        "#@title 学習\n",
        "%%time\n",
        "history = model.fit(\n",
        "      train_videos, train_labels, \n",
        "      validation_data=(test_videos, test_labels),\n",
        "      batch_size=16, epochs= 30,\n",
        "      # callbacks=[tensorboard_callback]\n",
        "      )\n",
        "print(\"Complete.\")"
      ],
      "execution_count": null,
      "outputs": []
    },
    {
      "cell_type": "code",
      "metadata": {
        "id": "mCneOHGy6VXw"
      },
      "source": [
        "!curl -OL https://bin.equinox.io/c/4VmDzA7iaHb/ngrok-stable-linux-amd64.zip\n",
        "!unzip -o ngrok-stable-linux-amd64.zip"
      ],
      "execution_count": null,
      "outputs": []
    },
    {
      "cell_type": "code",
      "metadata": {
        "id": "o3oGrHRwWz58",
        "colab": {
          "base_uri": "https://localhost:8080/"
        },
        "outputId": "77002d56-abf7-48b7-8160-f5523bd62275"
      },
      "source": [
        "get_ipython().system_raw(\n",
        "    'tensorboard --logdir {} --host 0.0.0.0 --port 6006 &'\n",
        "    .format(log_dir)\n",
        ")\n",
        "get_ipython().system_raw('./ngrok http 6006 &')\n",
        "!curl -s http://localhost:4040/api/tunnels | python3 -c \\\n",
        "    \"import sys, json; print(json.load(sys.stdin)['tunnels'][0]['public_url'])\""
      ],
      "execution_count": 33,
      "outputs": [
        {
          "output_type": "stream",
          "text": [
            "https://6b5d01d27e35.ngrok.io\n"
          ],
          "name": "stdout"
        }
      ]
    },
    {
      "cell_type": "markdown",
      "metadata": {
        "id": "wGBBv1xM3o3o"
      },
      "source": [
        "# [A-6]テスト"
      ]
    },
    {
      "cell_type": "code",
      "metadata": {
        "id": "WVCL3yt3UacW"
      },
      "source": [
        "from pandas import DataFrame\n",
        "import matplotlib.pyplot as plt\n",
        "import os\n",
        "\n",
        "def savePlot(fig, plus):\n",
        "  # name = inv_losses[pick_loss]\n",
        "  name = 'tmp'\n",
        "  name = name + '_' + plus\n",
        "  path_image = os.path.join(desk, name)\n",
        "  fig.savefig(path_image)\n",
        "\n",
        "def plotAcc(history):\n",
        "  fig = plt.figure()\n",
        "  ACC = fig.add_subplot(1,1,1)\n",
        "  props = {\n",
        "      'title' : 'plot of ACCURACY',\n",
        "      'xlabel' : 'epoch',\n",
        "      'ylabel' : 'value'\n",
        "  }\n",
        "  ACC.set(**props)\n",
        "  acc = DataFrame(history.history['acc'])\n",
        "  # val_acc = DataFrame(history.history['val_acc'])\n",
        "  ACC.plot(acc, label='acc', marker='o', color='blue')\n",
        "  # ACC.plot(val_acc, label='val_acc', marker='o', linestyle='--', color='orange')\n",
        "  ACC.legend()\n",
        "\n",
        "  savePlot(fig, 'acc')\n",
        "\n",
        "def plotLoss(history):\n",
        "  fig = plt.figure()\n",
        "  LOSS = fig.add_subplot(1,1,1)\n",
        "  props = {\n",
        "      'title' : 'plot of LOSS',\n",
        "      'xlabel' : 'epoch',\n",
        "      'ylabel' : 'value'\n",
        "  }\n",
        "  LOSS.set(**props)\n",
        "  loss = DataFrame(history.history['loss'])\n",
        "  # val_loss = DataFrame(history.history['val_loss'])\n",
        "  LOSS.plot(loss, label='loss', marker='o', color='blue')\n",
        "  # LOSS.plot(val_loss, label='val_loss', marker='o', linestyle='--', color='orange')\n",
        "  LOSS.legend()\n",
        "\n",
        "  savePlot(fig, 'loss')"
      ],
      "execution_count": 14,
      "outputs": []
    },
    {
      "cell_type": "markdown",
      "metadata": {
        "id": "XTMceWeLk1CL"
      },
      "source": [
        "##学習"
      ]
    },
    {
      "cell_type": "code",
      "metadata": {
        "colab": {
          "base_uri": "https://localhost:8080/",
          "height": 1000
        },
        "id": "8a4tdVKGSnz_",
        "outputId": "8a020ac2-96a0-4a76-cd66-724cfc5b23b4"
      },
      "source": [
        "#@title mse\n",
        "loss = 'mean_squared_error'\n",
        "\n",
        "# モデル用意\n",
        "from tensorflow.keras.utils import plot_model\n",
        "from tensorflow.keras import layers, models, initializers, callbacks\n",
        "import gc\n",
        "\n",
        "model = models.load_model('/content/desk/key20201218.h5')\n",
        "\n",
        "# コンパイル\n",
        "model.compile(\n",
        "    optimizer='adam', \n",
        "    loss = loss,\n",
        "    metrics=['acc'])\n",
        "\n",
        "# 学習\n",
        "history = model.fit(\n",
        "    train_videos, train_labels, \n",
        "    batch_size=16, epochs= 30,)\n",
        "\n",
        "print(\"Complete.\")\n",
        "\n",
        "plotLoss(history)\n",
        "plotAcc(history)"
      ],
      "execution_count": 15,
      "outputs": [
        {
          "output_type": "stream",
          "text": [
            "WARNING:tensorflow:No training configuration found in the save file, so the model was *not* compiled. Compile it manually.\n",
            "Epoch 1/30\n",
            "9/9 [==============================] - 1s 74ms/step - loss: 1.8656 - acc: 0.1212\n",
            "Epoch 2/30\n",
            "9/9 [==============================] - 1s 73ms/step - loss: 1.6822 - acc: 0.1243\n",
            "Epoch 3/30\n",
            "9/9 [==============================] - 1s 73ms/step - loss: 1.6453 - acc: 0.1221\n",
            "Epoch 4/30\n",
            "9/9 [==============================] - 1s 73ms/step - loss: 2.0232 - acc: 0.1651\n",
            "Epoch 5/30\n",
            "9/9 [==============================] - 1s 73ms/step - loss: 1.6093 - acc: 0.1031\n",
            "Epoch 6/30\n",
            "9/9 [==============================] - 1s 72ms/step - loss: 1.5665 - acc: 0.1021\n",
            "Epoch 7/30\n",
            "9/9 [==============================] - 1s 73ms/step - loss: 1.5947 - acc: 0.0889\n",
            "Epoch 8/30\n",
            "9/9 [==============================] - 1s 73ms/step - loss: 1.4882 - acc: 0.0959\n",
            "Epoch 9/30\n",
            "9/9 [==============================] - 1s 73ms/step - loss: 1.8805 - acc: 0.1572\n",
            "Epoch 10/30\n",
            "9/9 [==============================] - 1s 74ms/step - loss: 1.7636 - acc: 0.1419\n",
            "Epoch 11/30\n",
            "9/9 [==============================] - 1s 74ms/step - loss: 2.0452 - acc: 0.1575\n",
            "Epoch 12/30\n",
            "9/9 [==============================] - 1s 71ms/step - loss: 1.8105 - acc: 0.1327\n",
            "Epoch 13/30\n",
            "9/9 [==============================] - 1s 74ms/step - loss: 1.9071 - acc: 0.1534\n",
            "Epoch 14/30\n",
            "9/9 [==============================] - 1s 74ms/step - loss: 1.6465 - acc: 0.1224\n",
            "Epoch 15/30\n",
            "9/9 [==============================] - 1s 73ms/step - loss: 1.8182 - acc: 0.1438\n",
            "Epoch 16/30\n",
            "9/9 [==============================] - 1s 72ms/step - loss: 1.6084 - acc: 0.1006\n",
            "Epoch 17/30\n",
            "9/9 [==============================] - 1s 73ms/step - loss: 1.6627 - acc: 0.1162\n",
            "Epoch 18/30\n",
            "9/9 [==============================] - 1s 73ms/step - loss: 1.6947 - acc: 0.1305\n",
            "Epoch 19/30\n",
            "9/9 [==============================] - 1s 72ms/step - loss: 1.6257 - acc: 0.1228\n",
            "Epoch 20/30\n",
            "9/9 [==============================] - 1s 73ms/step - loss: 1.7209 - acc: 0.1147\n",
            "Epoch 21/30\n",
            "9/9 [==============================] - 1s 73ms/step - loss: 1.5898 - acc: 0.1021\n",
            "Epoch 22/30\n",
            "9/9 [==============================] - 1s 72ms/step - loss: 1.8846 - acc: 0.1447\n",
            "Epoch 23/30\n",
            "9/9 [==============================] - 1s 73ms/step - loss: 1.6737 - acc: 0.1247\n",
            "Epoch 24/30\n",
            "9/9 [==============================] - 1s 74ms/step - loss: 1.5468 - acc: 0.1165\n",
            "Epoch 25/30\n",
            "9/9 [==============================] - 1s 72ms/step - loss: 1.7868 - acc: 0.1244\n",
            "Epoch 26/30\n",
            "9/9 [==============================] - 1s 73ms/step - loss: 1.6577 - acc: 0.1211\n",
            "Epoch 27/30\n",
            "9/9 [==============================] - 1s 72ms/step - loss: 1.8089 - acc: 0.1282\n",
            "Epoch 28/30\n",
            "9/9 [==============================] - 1s 73ms/step - loss: 1.7057 - acc: 0.1370\n",
            "Epoch 29/30\n",
            "9/9 [==============================] - 1s 73ms/step - loss: 1.8314 - acc: 0.1271\n",
            "Epoch 30/30\n",
            "9/9 [==============================] - 1s 73ms/step - loss: 1.6274 - acc: 0.1105\n",
            "Complete.\n"
          ],
          "name": "stdout"
        },
        {
          "output_type": "display_data",
          "data": {
            "image/png": "[encoded data removed]",
            "text/plain": [
              "<Figure size 432x288 with 1 Axes>"
            ]
          },
          "metadata": {
            "tags": [],
            "needs_background": "light"
          }
        },
        {
          "output_type": "display_data",
          "data": {
            "image/png": "[encoded data removed]",
            "text/plain": [
              "<Figure size 432x288 with 1 Axes>"
            ]
          },
          "metadata": {
            "tags": [],
            "needs_background": "light"
          }
        }
      ]
    },
    {
      "cell_type": "code",
      "metadata": {
        "colab": {
          "base_uri": "https://localhost:8080/",
          "height": 1000
        },
        "id": "2UmISTpslRQj",
        "outputId": "c8453d10-b3a7-45ba-f7aa-fb3bc7f2a550"
      },
      "source": [
        "#@title cee\n",
        "loss = 'sparse_categorical_crossentropy'\n",
        "\n",
        "# モデル用意\n",
        "from tensorflow.keras.utils import plot_model\n",
        "from tensorflow.keras import layers, models, initializers, callbacks\n",
        "import gc\n",
        "\n",
        "model = models.load_model('/content/desk/key20201218.h5')\n",
        "\n",
        "# コンパイル\n",
        "model.compile(\n",
        "    optimizer='adam', \n",
        "    loss = loss,\n",
        "    metrics=['acc'])\n",
        "\n",
        "# 学習\n",
        "history = model.fit(\n",
        "    train_videos, train_labels, \n",
        "    batch_size=16, epochs= 30,)\n",
        "\n",
        "print(\"Complete.\")\n",
        "\n",
        "plotLoss(history)\n",
        "plotAcc(history)"
      ],
      "execution_count": 16,
      "outputs": [
        {
          "output_type": "stream",
          "text": [
            "WARNING:tensorflow:No training configuration found in the save file, so the model was *not* compiled. Compile it manually.\n",
            "Epoch 1/30\n",
            "9/9 [==============================] - 1s 72ms/step - loss: 649.0117 - acc: 0.2480\n",
            "Epoch 2/30\n",
            "9/9 [==============================] - 1s 73ms/step - loss: 654.7886 - acc: 0.2275\n",
            "Epoch 3/30\n",
            "9/9 [==============================] - 1s 72ms/step - loss: 247.0328 - acc: 0.3769\n",
            "Epoch 4/30\n",
            "9/9 [==============================] - 1s 72ms/step - loss: 192.6326 - acc: 0.3754\n",
            "Epoch 5/30\n",
            "9/9 [==============================] - 1s 71ms/step - loss: 161.6309 - acc: 0.4886\n",
            "Epoch 6/30\n",
            "9/9 [==============================] - 1s 73ms/step - loss: 116.8564 - acc: 0.4468\n",
            "Epoch 7/30\n",
            "9/9 [==============================] - 1s 73ms/step - loss: 42.3944 - acc: 0.7441\n",
            "Epoch 8/30\n",
            "9/9 [==============================] - 1s 73ms/step - loss: 26.9238 - acc: 0.6645\n",
            "Epoch 9/30\n",
            "9/9 [==============================] - 1s 72ms/step - loss: 28.8097 - acc: 0.6706\n",
            "Epoch 10/30\n",
            "9/9 [==============================] - 1s 73ms/step - loss: 15.4711 - acc: 0.7509\n",
            "Epoch 11/30\n",
            "9/9 [==============================] - 1s 73ms/step - loss: 8.8931 - acc: 0.7653\n",
            "Epoch 12/30\n",
            "9/9 [==============================] - 1s 72ms/step - loss: 2.5882 - acc: 0.8381\n",
            "Epoch 13/30\n",
            "9/9 [==============================] - 1s 73ms/step - loss: 4.9157 - acc: 0.8488\n",
            "Epoch 14/30\n",
            "9/9 [==============================] - 1s 73ms/step - loss: 12.2719 - acc: 0.7680\n",
            "Epoch 15/30\n",
            "9/9 [==============================] - 1s 72ms/step - loss: 5.8967 - acc: 0.8392\n",
            "Epoch 16/30\n",
            "9/9 [==============================] - 1s 71ms/step - loss: 0.3080 - acc: 0.9734\n",
            "Epoch 17/30\n",
            "9/9 [==============================] - 1s 73ms/step - loss: 0.7810 - acc: 0.9514\n",
            "Epoch 18/30\n",
            "9/9 [==============================] - 1s 72ms/step - loss: 0.7200 - acc: 0.9537\n",
            "Epoch 19/30\n",
            "9/9 [==============================] - 1s 71ms/step - loss: 1.2527 - acc: 0.9346\n",
            "Epoch 20/30\n",
            "9/9 [==============================] - 1s 73ms/step - loss: 2.7075 - acc: 0.9221\n",
            "Epoch 21/30\n",
            "9/9 [==============================] - 1s 73ms/step - loss: 1.5932 - acc: 0.9061\n",
            "Epoch 22/30\n",
            "9/9 [==============================] - 1s 72ms/step - loss: 0.8585 - acc: 0.9629\n",
            "Epoch 23/30\n",
            "9/9 [==============================] - 1s 71ms/step - loss: 0.4419 - acc: 0.9597\n",
            "Epoch 24/30\n",
            "9/9 [==============================] - 1s 72ms/step - loss: 0.0439 - acc: 0.9957\n",
            "Epoch 25/30\n",
            "9/9 [==============================] - 1s 73ms/step - loss: 0.0148 - acc: 0.9977\n",
            "Epoch 26/30\n",
            "9/9 [==============================] - 1s 72ms/step - loss: 0.0000e+00 - acc: 1.0000\n",
            "Epoch 27/30\n",
            "9/9 [==============================] - 1s 73ms/step - loss: 0.0000e+00 - acc: 1.0000\n",
            "Epoch 28/30\n",
            "9/9 [==============================] - 1s 73ms/step - loss: 2.2098e-09 - acc: 1.0000\n",
            "Epoch 29/30\n",
            "9/9 [==============================] - 1s 72ms/step - loss: 2.4028e-08 - acc: 1.0000\n",
            "Epoch 30/30\n",
            "9/9 [==============================] - 1s 72ms/step - loss: 3.9159e-08 - acc: 1.0000\n",
            "Complete.\n"
          ],
          "name": "stdout"
        },
        {
          "output_type": "display_data",
          "data": {
            "image/png": "[encoded data removed]",
            "text/plain": [
              "<Figure size 432x288 with 1 Axes>"
            ]
          },
          "metadata": {
            "tags": [],
            "needs_background": "light"
          }
        },
        {
          "output_type": "display_data",
          "data": {
            "image/png": "[encoded data removed]",
            "text/plain": [
              "<Figure size 432x288 with 1 Axes>"
            ]
          },
          "metadata": {
            "tags": [],
            "needs_background": "light"
          }
        }
      ]
    },
    {
      "cell_type": "code",
      "metadata": {
        "id": "cNNT81fArKxc"
      },
      "source": [
        "exit()"
      ],
      "execution_count": 29,
      "outputs": []
    }
  ]
}