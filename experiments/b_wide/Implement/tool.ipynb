{
  "nbformat": 4,
  "nbformat_minor": 0,
  "metadata": {
    "colab": {
      "name": "tool.ipynb",
      "provenance": [],
      "collapsed_sections": [
        "o7aF5olQLzzr"
      ],
      "toc_visible": true,
      "include_colab_link": true
    },
    "kernelspec": {
      "display_name": "Python 3",
      "name": "python3"
    },
    "accelerator": "GPU"
  },
  "cells": [
    {
      "cell_type": "markdown",
      "metadata": {
        "id": "view-in-github",
        "colab_type": "text"
      },
      "source": [
        "<a href=\"https://colab.research.google.com/github/s1250103/Public_mori-lab/blob/b__wide/experiments/b_wide/Implement/tool.ipynb\" target=\"_parent\"><img src=\"https://colab.research.google.com/assets/colab-badge.svg\" alt=\"Open In Colab\"/></a>"
      ]
    },
    {
      "cell_type": "markdown",
      "metadata": {
        "id": "4fqSbLjWDevK"
      },
      "source": [
        "# 開発用モジュール"
      ]
    },
    {
      "cell_type": "code",
      "metadata": {
        "id": "jiO3ZwVib3Oh"
      },
      "source": [
        "import matplotlib.pyplot as plt\n",
        "import cv2\n",
        "def display_ndarray(image):\n",
        "  img = cv2.cvtColor(image, cv2.COLOR_BGR2RGB)\n",
        "  plt.imshow(img)\n",
        "  plt.show()"
      ],
      "execution_count": 1,
      "outputs": []
    },
    {
      "cell_type": "code",
      "metadata": {
        "id": "v8NV4EfFIytI"
      },
      "source": [
        "from tensorflow.keras import layers, models, initializers, callbacks\n",
        "import tensorflow as tf\n",
        "import numpy as np\n",
        "from tensorflow.keras.utils import plot_model"
      ],
      "execution_count": 2,
      "outputs": []
    },
    {
      "cell_type": "markdown",
      "metadata": {
        "id": "o7aF5olQLzzr"
      },
      "source": [
        "# [A-2]環境構築"
      ]
    },
    {
      "cell_type": "code",
      "metadata": {
        "colab": {
          "base_uri": "https://localhost:8080/"
        },
        "id": "8VLZTe-_Fz-G",
        "outputId": "c22dacd3-532a-4aeb-b7cb-de22421dce20"
      },
      "source": [
        "#@title gdrive マウント\n",
        "from google.colab import drive\n",
        "from os import path\n",
        "if not path.exists('/content/drive'):\n",
        "  drive.mount('/content/drive')\n",
        "else:\n",
        "  print(\"Already confirm\")\n"
      ],
      "execution_count": 3,
      "outputs": [
        {
          "output_type": "stream",
          "text": [
            "Mounted at /content/drive\n"
          ],
          "name": "stdout"
        }
      ]
    },
    {
      "cell_type": "code",
      "metadata": {
        "id": "VVHimjBTJ_7Y"
      },
      "source": [
        "#@title 一時的にファイルを置くディレクトリ'desk'を作成\n",
        "import os\n",
        "desk = '/content/desk'\n",
        "if not os.path.exists(desk):\n",
        "  os.mkdir(desk)\n",
        "os.chdir(desk)"
      ],
      "execution_count": 4,
      "outputs": []
    },
    {
      "cell_type": "code",
      "metadata": {
        "id": "EYjxmEMpAZU1",
        "cellView": "code",
        "outputId": "eb50e2f1-a3a7-4135-ebc2-f182ef1f27b8",
        "colab": {
          "base_uri": "https://localhost:8080/"
        }
      },
      "source": [
        "#@title 必要なファイルを'desk'にコピー\n",
        "\n",
        "wants_paths = [\n",
        "'/content/drive/MyDrive/colab/dence1223/key20201218.h5',\n",
        "]\n",
        "\n",
        "import shutil\n",
        "for want in wants_paths:\n",
        "  if not os.path.exists(os.path.join(desk, os.path.basename(want))):\n",
        "    shutil.copy2(want, desk)\n",
        "    print(\"get : \", want)\n",
        "            "
      ],
      "execution_count": 5,
      "outputs": [
        {
          "output_type": "stream",
          "text": [
            "get :  /content/drive/MyDrive/colab/dence1223/key20201218.h5\n"
          ],
          "name": "stdout"
        }
      ]
    },
    {
      "cell_type": "code",
      "metadata": {
        "id": "eBIQL82BN3Ny"
      },
      "source": [
        "#@title データフォーマットを規定\n",
        "class video_format:\n",
        "  name = \"video_format\"\n",
        "  # サンプリングされたCMデータの仕様\n",
        "  playtime = \"15秒\"\n",
        "  displaysize = \"(any, any, RGB)\"\n",
        "  videoformat = \"any\"\n",
        "  # モデルが扱うCMデータ(上のようなデータは、下のように変換される)\n",
        "  HEIGHT = 45\n",
        "  WIDTH = 80\n",
        "  FRAME_SIZE = 30\n",
        "  COLOR = \"RGB\"\n",
        "  FPS = \"2 (FRAME_SIZE / playtime)\" # 定義ではなく上から導かれた値\n",
        "  \n",
        "format1 = video_format()"
      ],
      "execution_count": 6,
      "outputs": []
    },
    {
      "cell_type": "markdown",
      "metadata": {
        "id": "8acjLttSNX2W"
      },
      "source": [
        "# [A-1]データ取得・整形"
      ]
    },
    {
      "cell_type": "markdown",
      "metadata": {
        "id": "fOOHfdAyM8ev"
      },
      "source": [
        "## [A-1-1]データ取得"
      ]
    },
    {
      "cell_type": "code",
      "metadata": {
        "id": "SW8mokcv-Cxm"
      },
      "source": [
        "path_trainData = \"/content/drive/MyDrive/train_data\"\n",
        "path_testData = \"/content/drive/MyDrive/test_data\"\n",
        "\n",
        "import os\n",
        "if not os.path.isdir(path_trainData):\n",
        "  print(\"no train data\")\n",
        "if not os.path.isdir(path_testData):\n",
        "  print(\"no test data\")"
      ],
      "execution_count": 7,
      "outputs": []
    },
    {
      "cell_type": "code",
      "metadata": {
        "id": "AJGasjeNp8m_"
      },
      "source": [
        "class DataWithLabel:\n",
        "  data = \"video data\"\n",
        "  label = \"train label\"\n",
        "  def __init__(self, data, label):\n",
        "    self.data = data\n",
        "    self.label = label"
      ],
      "execution_count": 8,
      "outputs": []
    },
    {
      "cell_type": "code",
      "metadata": {
        "id": "YDYnJys3Hn78"
      },
      "source": [
        "# ディレクトリ名とラベルとの対応\n",
        "ruleLabel = {\n",
        "    '0.other' : 0, \n",
        "    '1.food' : 1,\n",
        "    '2.car' : 2,\n",
        "    '3.cosme' : 3\n",
        "    }"
      ],
      "execution_count": 9,
      "outputs": []
    },
    {
      "cell_type": "code",
      "metadata": {
        "colab": {
          "base_uri": "https://localhost:8080/"
        },
        "id": "sAZLB2SbjlBz",
        "outputId": "4cabb2b5-2959-4e0f-88ca-c9a24479a772"
      },
      "source": [
        "#@title 訓練データ取得\n",
        "import os\n",
        "import cv2\n",
        "\n",
        "dwls = []\n",
        "\n",
        "dir_classes = os.listdir(path_trainData)\n",
        "for dir_class in dir_classes:\n",
        "  print(dir_class)\n",
        "  path_dir_class = os.path.join(path_trainData, dir_class)\n",
        "  videosInTheClass = os.listdir(path_dir_class)\n",
        "  for videoInTheClass in videosInTheClass:\n",
        "    path_videoInTheClass = os.path.join(path_dir_class, videoInTheClass)\n",
        "    print(path_videoInTheClass) # 扱うビデオデータのパスを確認\n",
        "    video_cvformat = cv2.VideoCapture(path_videoInTheClass)\n",
        "    label = ruleLabel[dir_class]\n",
        "    print(\"Attached the label :\", label)\n",
        "\n",
        "    dwl = DataWithLabel(video_cvformat, label)\n",
        "    dwls.append(dwl)\n",
        "    print(\"________\")\n"
      ],
      "execution_count": 10,
      "outputs": [
        {
          "output_type": "stream",
          "text": [
            "0.other\n",
            "/content/drive/MyDrive/train_data/0.other/いきなり！黄金伝説.mp4\n",
            "Attached the label : 0\n",
            "________\n",
            "/content/drive/MyDrive/train_data/0.other/刑事7人.mp4\n",
            "Attached the label : 0\n",
            "________\n",
            "/content/drive/MyDrive/train_data/0.other/メットライフ生命_MetLife.mp4\n",
            "Attached the label : 0\n",
            "________\n",
            "/content/drive/MyDrive/train_data/0.other/ZURICH_保険_チューリッヒ保険_30秒.mp4\n",
            "Attached the label : 0\n",
            "________\n",
            "/content/drive/MyDrive/train_data/0.other/刑事7人[2].mp4\n",
            "Attached the label : 0\n",
            "________\n",
            "/content/drive/MyDrive/train_data/0.other/Yamato_宅急便コンパクト.mpg\n",
            "Attached the label : 0\n",
            "________\n",
            "/content/drive/MyDrive/train_data/0.other/XFLAG_ゲーム_モンスターストライク超獣神祭.mp4\n",
            "Attached the label : 0\n",
            "________\n",
            "/content/drive/MyDrive/train_data/0.other/au_MOON Challange.mp4\n",
            "Attached the label : 0\n",
            "________\n",
            "/content/drive/MyDrive/train_data/0.other/gsk_薬品_ボルタレン.mp4\n",
            "Attached the label : 0\n",
            "________\n",
            "/content/drive/MyDrive/train_data/0.other/楽天_RMobile.mp4\n",
            "Attached the label : 0\n",
            "________\n",
            "/content/drive/MyDrive/train_data/0.other/楽天_アプリ_ラクマ.mp4\n",
            "Attached the label : 0\n",
            "________\n",
            "/content/drive/MyDrive/train_data/0.other/亀岡工務店_KDS.mp4\n",
            "Attached the label : 0\n",
            "________\n",
            "/content/drive/MyDrive/train_data/0.other/厚生労働省_臨時福祉給付金.mp4\n",
            "Attached the label : 0\n",
            "________\n",
            "/content/drive/MyDrive/train_data/0.other/楽天_クレジットカード_楽天カード.mp4\n",
            "Attached the label : 0\n",
            "________\n",
            "/content/drive/MyDrive/train_data/0.other/japanet_通販_Goods for you_30秒.mp4\n",
            "Attached the label : 0\n",
            "________\n",
            "/content/drive/MyDrive/train_data/0.other/小林製薬_サラサーティ.mp4\n",
            "Attached the label : 0\n",
            "________\n",
            "/content/drive/MyDrive/train_data/0.other/タケダ_薬品_アリナミンA.mp4\n",
            "Attached the label : 0\n",
            "________\n",
            "/content/drive/MyDrive/train_data/0.other/住友生命_未来デザイン1UP.mp4\n",
            "Attached the label : 0\n",
            "________\n",
            "/content/drive/MyDrive/train_data/0.other/ダイソン_掃除_dyson v8.mp4\n",
            "Attached the label : 0\n",
            "________\n",
            "/content/drive/MyDrive/train_data/0.other/unicharm_シルコット.mp4\n",
            "Attached the label : 0\n",
            "________\n",
            "/content/drive/MyDrive/train_data/0.other/コロプラ_白猫テニス.mp4\n",
            "Attached the label : 0\n",
            "________\n",
            "/content/drive/MyDrive/train_data/0.other/au_ケータイ_au star.mp4\n",
            "Attached the label : 0\n",
            "________\n",
            "/content/drive/MyDrive/train_data/0.other/ノーシンAI頭痛薬.mp4\n",
            "Attached the label : 0\n",
            "________\n",
            "/content/drive/MyDrive/train_data/0.other/健康コーポレーション_美容_ライザップ.mp4\n",
            "Attached the label : 0\n",
            "________\n",
            "/content/drive/MyDrive/train_data/0.other/ロート_スキンAQUA 日焼け留め.mpg\n",
            "Attached the label : 0\n",
            "________\n",
            "/content/drive/MyDrive/train_data/0.other/ソフラン_クイーンズシルク.mp4\n",
            "Attached the label : 0\n",
            "________\n",
            "/content/drive/MyDrive/train_data/0.other/家庭教師のトライ_夏トライ.mp4\n",
            "Attached the label : 0\n",
            "________\n",
            "/content/drive/MyDrive/train_data/0.other/タケダ_薬_アリナミンEX PLUS.mp4\n",
            "Attached the label : 0\n",
            "________\n",
            "/content/drive/MyDrive/train_data/0.other/郡山ふれあい科学館_観光_スペースパーク.mp4\n",
            "Attached the label : 0\n",
            "________\n",
            "/content/drive/MyDrive/train_data/0.other/イーライリリー_医療_いつの間にか骨折.mp4\n",
            "Attached the label : 0\n",
            "________\n",
            "/content/drive/MyDrive/train_data/0.other/unicharm_男性用さわやかうす型パッド.mp4\n",
            "Attached the label : 0\n",
            "________\n",
            "/content/drive/MyDrive/train_data/0.other/ニトリ_わんぱく組.mp4\n",
            "Attached the label : 0\n",
            "________\n",
            "/content/drive/MyDrive/train_data/0.other/コロプラ_白猫プロジェクト.mp4\n",
            "Attached the label : 0\n",
            "________\n",
            "/content/drive/MyDrive/train_data/0.other/たまのや_こころネットグループ.mp4\n",
            "Attached the label : 0\n",
            "________\n",
            "/content/drive/MyDrive/train_data/0.other/会津日新館_観光_会津日新館.mp4\n",
            "Attached the label : 0\n",
            "________\n",
            "/content/drive/MyDrive/train_data/0.other/au_Wallet_30秒.mpg\n",
            "Attached the label : 0\n",
            "________\n",
            "/content/drive/MyDrive/train_data/0.other/niraku_パチスロ_niraku.mp4\n",
            "Attached the label : 0\n",
            "________\n",
            "/content/drive/MyDrive/train_data/0.other/小林製薬_ハレナース.mp4\n",
            "Attached the label : 0\n",
            "________\n",
            "/content/drive/MyDrive/train_data/0.other/music.jp_音楽アプリ_m.mp4\n",
            "Attached the label : 0\n",
            "________\n",
            "/content/drive/MyDrive/train_data/0.other/東宝_青空エール.mp4\n",
            "Attached the label : 0\n",
            "________\n",
            "/content/drive/MyDrive/train_data/0.other/小林製薬_生理用品_サラサーティ 天然コットン100%.mp4\n",
            "Attached the label : 0\n",
            "________\n",
            "/content/drive/MyDrive/train_data/0.other/大成建設_For a lively life_30秒.mpg\n",
            "Attached the label : 0\n",
            "________\n",
            "/content/drive/MyDrive/train_data/0.other/東映アニメーション_映画_ポッピンQ.mp4\n",
            "Attached the label : 0\n",
            "________\n",
            "/content/drive/MyDrive/train_data/0.other/第一三共_第一三共胃腸薬プラス.mp4\n",
            "Attached the label : 0\n",
            "________\n",
            "/content/drive/MyDrive/train_data/0.other/大塚製薬_洗髪料_ULOS.mp4\n",
            "Attached the label : 0\n",
            "________\n",
            "/content/drive/MyDrive/train_data/0.other/東京ディズニーリゾート.mp4\n",
            "Attached the label : 0\n",
            "________\n",
            "/content/drive/MyDrive/train_data/0.other/太田胃散_整腸薬.mp4\n",
            "Attached the label : 0\n",
            "________\n",
            "/content/drive/MyDrive/train_data/0.other/東北電力_よりそうちから_30秒.mp4\n",
            "Attached the label : 0\n",
            "________\n",
            "/content/drive/MyDrive/train_data/0.other/第一三共_クリーンデンタル.mp4\n",
            "Attached the label : 0\n",
            "________\n",
            "/content/drive/MyDrive/train_data/0.other/東北電力_東北電力.mp4\n",
            "Attached the label : 0\n",
            "________\n",
            "/content/drive/MyDrive/train_data/0.other/大東電機工業_THRIVE.mp4\n",
            "Attached the label : 0\n",
            "________\n",
            "/content/drive/MyDrive/train_data/0.other/新潟市水族館_観光_マリアピア.mp4\n",
            "Attached the label : 0\n",
            "________\n",
            "/content/drive/MyDrive/train_data/0.other/大東建託_賃貸経営受託システム.mp4\n",
            "Attached the label : 0\n",
            "________\n",
            "2.car\n",
            "/content/drive/MyDrive/train_data/2.car/NISSAN_X-Trail_Hybrid.mpg\n",
            "Attached the label : 2\n",
            "________\n",
            "/content/drive/MyDrive/train_data/2.car/DAIHATSU_車_NEW WAKE.mp4\n",
            "Attached the label : 2\n",
            "________\n",
            "/content/drive/MyDrive/train_data/2.car/DAIHATSU_Tanto_Custom.mpg\n",
            "Attached the label : 2\n",
            "________\n",
            "/content/drive/MyDrive/train_data/2.car/HONDA_Freed_Hybrid.mpg\n",
            "Attached the label : 2\n",
            "________\n",
            "/content/drive/MyDrive/train_data/2.car/ENEOS_車_ガソリンスタンド_30秒.mp4\n",
            "Attached the label : 2\n",
            "________\n",
            "/content/drive/MyDrive/train_data/2.car/SUBARU_FORESTER.mp4\n",
            "Attached the label : 2\n",
            "________\n",
            "/content/drive/MyDrive/train_data/2.car/Honda_N-Box.mpg\n",
            "Attached the label : 2\n",
            "________\n",
            "/content/drive/MyDrive/train_data/2.car/DAIHATSU_車_CAST.mp4\n",
            "Attached the label : 2\n",
            "________\n",
            "/content/drive/MyDrive/train_data/2.car/HONDA_車_Honda Cars 福島.mp4\n",
            "Attached the label : 2\n",
            "________\n",
            "/content/drive/MyDrive/train_data/2.car/NISSAN_CUBE.mpg\n",
            "Attached the label : 2\n",
            "________\n",
            "/content/drive/MyDrive/train_data/2.car/DUNLOP_タイヤ_Winter MAXX 02.mp4\n",
            "Attached the label : 2\n",
            "________\n",
            "/content/drive/MyDrive/train_data/2.car/HONDA_車_NBOX.mp4\n",
            "Attached the label : 2\n",
            "________\n",
            "/content/drive/MyDrive/train_data/2.car/Honda_N-Custom.mpg\n",
            "Attached the label : 2\n",
            "________\n",
            "/content/drive/MyDrive/train_data/2.car/SUBARU_FORESTER[2].mp4\n",
            "Attached the label : 2\n",
            "________\n",
            "/content/drive/MyDrive/train_data/2.car/cosmo_車_コスモスマートビークル_30秒.mp4\n",
            "Attached the label : 2\n",
            "________\n",
            "/content/drive/MyDrive/train_data/2.car/SUZUKI_車_ソリオ.mp4\n",
            "Attached the label : 2\n",
            "________\n",
            "3.cosme\n",
            "/content/drive/MyDrive/train_data/3.cosme/Biore_洗顔料_おうちdeエステ 洗顔ジェル.mp4\n",
            "Attached the label : 3\n",
            "________\n",
            "/content/drive/MyDrive/train_data/3.cosme/Reveur_洗髪料_Fraicheur.mp4\n",
            "Attached the label : 3\n",
            "________\n",
            "/content/drive/MyDrive/train_data/3.cosme/Kao_Primavista_パウダー.mpg\n",
            "Attached the label : 3\n",
            "________\n",
            "/content/drive/MyDrive/train_data/3.cosme/Kanebo_美容液_DEW.mp4\n",
            "Attached the label : 3\n",
            "________\n",
            "/content/drive/MyDrive/train_data/3.cosme/Biore_洗顔料_おうちdeエステ コットンマスク.mp4\n",
            "Attached the label : 3\n",
            "________\n",
            "/content/drive/MyDrive/train_data/3.cosme/Eisai_薬品_チョコラBBプラス.mp4\n",
            "Attached the label : 3\n",
            "________\n",
            "/content/drive/MyDrive/train_data/3.cosme/IEON_GLAMATICAL.mp4\n",
            "Attached the label : 3\n",
            "________\n",
            "/content/drive/MyDrive/train_data/3.cosme/Kose_化粧品_ファシオワンダーカールマスカラ.mp4\n",
            "Attached the label : 3\n",
            "________\n",
            "/content/drive/MyDrive/train_data/3.cosme/Kao_新エッセンシャルキューティクルケアシャンプー.mpg\n",
            "Attached the label : 3\n",
            "________\n",
            "/content/drive/MyDrive/train_data/3.cosme/Kao_Segreta.mp4\n",
            "Attached the label : 3\n",
            "________\n",
            "/content/drive/MyDrive/train_data/3.cosme/Kao_Primavista_下地.mpg\n",
            "Attached the label : 3\n",
            "________\n",
            "/content/drive/MyDrive/train_data/3.cosme/資生堂_Perfect_Watery_Oil.mpg\n",
            "Attached the label : 3\n",
            "________\n",
            "/content/drive/MyDrive/train_data/3.cosme/Kose_化粧品_ESPRIQUE.mp4\n",
            "Attached the label : 3\n",
            "________\n",
            "/content/drive/MyDrive/train_data/3.cosme/資生堂_Anessa_B.mpg\n",
            "Attached the label : 3\n",
            "________\n",
            "/content/drive/MyDrive/train_data/3.cosme/ガシー・レンカー・ジャパン_proactive+_30秒.mp4\n",
            "Attached the label : 3\n",
            "________\n",
            "/content/drive/MyDrive/train_data/3.cosme/Kao_リーゼ.mpg\n",
            "Attached the label : 3\n",
            "________\n",
            "1.food\n",
            "/content/drive/MyDrive/train_data/1.food/UHA味覚糖_菓子_e-maのど飴.mp4\n",
            "Attached the label : 1\n",
            "________\n",
            "/content/drive/MyDrive/train_data/1.food/幸楽苑_食品_豚バラチャーシュー麺.mp4\n",
            "Attached the label : 1\n",
            "________\n",
            "/content/drive/MyDrive/train_data/1.food/meiji_LG21.mp4\n",
            "Attached the label : 1\n",
            "________\n",
            "/content/drive/MyDrive/train_data/1.food/Yamazaki_ランチパック.mp4\n",
            "Attached the label : 1\n",
            "________\n",
            "/content/drive/MyDrive/train_data/1.food/meiji_ヨーグルト_LG21.mp4\n",
            "Attached the label : 1\n",
            "________\n",
            "/content/drive/MyDrive/train_data/1.food/meiji_エッセルスーパーカップ.mp4\n",
            "Attached the label : 1\n",
            "________\n",
            "/content/drive/MyDrive/train_data/1.food/Yamazaki_Daily_YAMAZAKI.mp4\n",
            "Attached the label : 1\n",
            "________\n",
            "/content/drive/MyDrive/train_data/1.food/UHA味覚糖_ぷっちょ とろけるグミ.mp4\n",
            "Attached the label : 1\n",
            "________\n",
            "/content/drive/MyDrive/train_data/1.food/meiji_Poifull.mp4\n",
            "Attached the label : 1\n",
            "________\n",
            "/content/drive/MyDrive/train_data/1.food/meiji_ポリポリ元気.mp4\n",
            "Attached the label : 1\n",
            "________\n",
            "/content/drive/MyDrive/train_data/1.food/柏屋_薄皮饅頭.mp4\n",
            "Attached the label : 1\n",
            "________\n",
            "/content/drive/MyDrive/train_data/1.food/pal-system_カスタードプリン.mp4\n",
            "Attached the label : 1\n",
            "________\n",
            "/content/drive/MyDrive/train_data/1.food/pepsi_STRONG_5.0GV.mp4\n",
            "Attached the label : 1\n",
            "________\n",
            "/content/drive/MyDrive/train_data/1.food/ケンタッキー_食品_カーネリングポテト.mp4\n",
            "Attached the label : 1\n",
            "________\n",
            "/content/drive/MyDrive/train_data/1.food/ヤクルト_ジョア.mpg\n",
            "Attached the label : 1\n",
            "________\n",
            "/content/drive/MyDrive/train_data/1.food/びっくりドンキー_食品_本格スパイシーカレー.mp4\n",
            "Attached the label : 1\n",
            "________\n",
            "/content/drive/MyDrive/train_data/1.food/雪印メグミルク_食品_ガセリ菌SPヨーグルト.mp4\n",
            "Attached the label : 1\n",
            "________\n",
            "/content/drive/MyDrive/train_data/1.food/pokka sapporo_食品_こんがりパン コーンポタージュ.mp4\n",
            "Attached the label : 1\n",
            "________\n",
            "/content/drive/MyDrive/train_data/1.food/キューピー_食品_黒ごまと五穀.mp4\n",
            "Attached the label : 1\n",
            "________\n",
            "/content/drive/MyDrive/train_data/1.food/かっぱ寿司_食品_うまいもの祭り 夏かっぱ.mp4\n",
            "Attached the label : 1\n",
            "________\n",
            "/content/drive/MyDrive/train_data/1.food/丸亀製麺_釜揚げうどん.mp4\n",
            "Attached the label : 1\n",
            "________\n",
            "/content/drive/MyDrive/train_data/1.food/雪印メグミルク_食品_さけるチーズ.mp4\n",
            "Attached the label : 1\n",
            "________\n",
            "/content/drive/MyDrive/train_data/1.food/はごろもフーズ_シーチキンSmile.mp4\n",
            "Attached the label : 1\n",
            "________\n",
            "/content/drive/MyDrive/train_data/1.food/キリン_コーヒー_FIRE.mp4\n",
            "Attached the label : 1\n",
            "________\n",
            "/content/drive/MyDrive/train_data/1.food/いろはす_飲料_いろはすサイダー.mp4\n",
            "Attached the label : 1\n",
            "________\n",
            "/content/drive/MyDrive/train_data/1.food/大塚製薬_食品_カロリーメイトゼリー.mp4\n",
            "Attached the label : 1\n",
            "________\n",
            "/content/drive/MyDrive/train_data/1.food/poddi_10分ごはん.mp4\n",
            "Attached the label : 1\n",
            "________\n",
            "/content/drive/MyDrive/train_data/1.food/永谷園_あさげ.mp4\n",
            "Attached the label : 1\n",
            "________\n",
            "/content/drive/MyDrive/train_data/1.food/伊藤園_飲料_おーいお茶.mp4\n",
            "Attached the label : 1\n",
            "________\n",
            "/content/drive/MyDrive/train_data/1.food/龍角散_菓子_のどすっきり飴.mp4\n",
            "Attached the label : 1\n",
            "________\n",
            "/content/drive/MyDrive/train_data/1.food/セブン&アイHLDGS_食品_ヨークベニマルの鰻.mp4\n",
            "Attached the label : 1\n",
            "________\n",
            "/content/drive/MyDrive/train_data/1.food/柏屋_薄皮饅頭.mpg\n",
            "Attached the label : 1\n",
            "________\n",
            "/content/drive/MyDrive/train_data/1.food/ペヤング_食品_ペヤングヌードル.mp4\n",
            "Attached the label : 1\n",
            "________\n",
            "/content/drive/MyDrive/train_data/1.food/森永乳業_飲料_アロエステ.mp4\n",
            "Attached the label : 1\n",
            "________\n",
            "/content/drive/MyDrive/train_data/1.food/エバラ_プチッと調味料.mp4\n",
            "Attached the label : 1\n",
            "________\n",
            "/content/drive/MyDrive/train_data/1.food/かっぱ寿司_食品_超うまいもの祭.mp4\n",
            "Attached the label : 1\n",
            "________\n",
            "/content/drive/MyDrive/train_data/1.food/銀のスプーン_三ツ星グルメ.mp4\n",
            "Attached the label : 1\n",
            "________\n",
            "/content/drive/MyDrive/train_data/1.food/白鶴_酒_大吟醸.mp4\n",
            "Attached the label : 1\n",
            "________\n",
            "/content/drive/MyDrive/train_data/1.food/永谷園_お茶漬け海苔.mp4\n",
            "Attached the label : 1\n",
            "________\n",
            "/content/drive/MyDrive/train_data/1.food/大正製薬_飲料_リポビタンfine.mp4\n",
            "Attached the label : 1\n",
            "________\n",
            "/content/drive/MyDrive/train_data/1.food/フジパン_本仕込.mp4\n",
            "Attached the label : 1\n",
            "________\n",
            "/content/drive/MyDrive/train_data/1.food/三幸製菓_チーズアーモンド.mp4\n",
            "Attached the label : 1\n",
            "________\n",
            "/content/drive/MyDrive/train_data/1.food/白鶴_酒_まる.mp4\n",
            "Attached the label : 1\n",
            "________\n",
            "/content/drive/MyDrive/train_data/1.food/永谷園_食品_麦茶漬け.mp4\n",
            "Attached the label : 1\n",
            "________\n"
          ],
          "name": "stdout"
        }
      ]
    },
    {
      "cell_type": "code",
      "metadata": {
        "id": "npKpavDDCD9Z"
      },
      "source": [
        "#@title テストデータ取得\n",
        "import os\n",
        "import cv2\n",
        "\n",
        "dwls_test = []\n",
        "\n",
        "dir_classes = os.listdir(path_testData)\n",
        "for dir_class in dir_classes:\n",
        "  print(dir_class)\n",
        "  path_dir_class = os.path.join(path_testData, dir_class)\n",
        "  videosInTheClass = os.listdir(path_dir_class)\n",
        "  for videoInTheClass in videosInTheClass:\n",
        "    path_videoInTheClass = os.path.join(path_dir_class, videoInTheClass)\n",
        "    print(path_videoInTheClass) # 扱うビデオデータのパスを確認\n",
        "    video_cvformat = cv2.VideoCapture(path_videoInTheClass)\n",
        "    label = ruleLabel[dir_class]\n",
        "    print(\"Attached the label :\", label)\n",
        "\n",
        "    dwl = DataWithLabel(video_cvformat, label)\n",
        "    dwls_test.append(dwl)\n",
        "    print(\"________\")\n",
        "\n",
        "    break\n"
      ],
      "execution_count": null,
      "outputs": []
    },
    {
      "cell_type": "markdown",
      "metadata": {
        "id": "2HJppVhmNrE4"
      },
      "source": [
        "## [A-1-2]データ整形"
      ]
    },
    {
      "cell_type": "markdown",
      "metadata": {
        "id": "JUs7-VmTCvk4"
      },
      "source": [
        "### [A-1-2-1]訓練データ整形"
      ]
    },
    {
      "cell_type": "code",
      "metadata": {
        "id": "yrXmBPkKtnZm",
        "cellView": "code",
        "colab": {
          "base_uri": "https://localhost:8080/"
        },
        "outputId": "171d713a-53b9-4c3e-9ce7-12a8bece2462"
      },
      "source": [
        "#@title データ整形\n",
        "import numpy as np\n",
        "import math\n",
        "\n",
        "\n",
        "for count_dwl, dwl in enumerate(dwls):\n",
        "  print(\"loading : \", count_dwl)\n",
        "  framesize = int(dwl.data.get(cv2.CAP_PROP_FRAME_COUNT)) # フレームの数\n",
        "  cutTiming = math.floor(framesize / format1.FRAME_SIZE)\n",
        "\n",
        "  cutTail = cutTiming * format1.FRAME_SIZE\n",
        "\n",
        "  normalVideo = []\n",
        "  count = 0\n",
        "  # フレーム３０枚分を１つの動画から間伐する\n",
        "  while count <= cutTail - 1:\n",
        "    IO, frame = dwl.data.read()\n",
        "    if (count % cutTiming) == 0: \n",
        "      if not IO:\n",
        "        print(\"error in : \", count_dwl) \n",
        "        break\n",
        "      else: \n",
        "        fixedFrame = cv2.resize(frame, dsize=(format1.WIDTH, format1.HEIGHT))\n",
        "        fixedFrame = fixedFrame.flatten().astype(np.float32)/255.0\n",
        "        normalVideo.append(fixedFrame)\n",
        "    else:\n",
        "      pass\n",
        "\n",
        "    count += 1\n",
        "\n",
        "\n",
        "  dwl.data = np.array(normalVideo)\n"
      ],
      "execution_count": 11,
      "outputs": [
        {
          "output_type": "stream",
          "text": [
            "loading :  0\n",
            "loading :  1\n",
            "loading :  2\n",
            "loading :  3\n",
            "loading :  4\n",
            "loading :  5\n",
            "loading :  6\n",
            "loading :  7\n",
            "loading :  8\n",
            "loading :  9\n",
            "loading :  10\n",
            "loading :  11\n",
            "loading :  12\n",
            "loading :  13\n",
            "loading :  14\n",
            "loading :  15\n",
            "loading :  16\n",
            "loading :  17\n",
            "loading :  18\n",
            "loading :  19\n",
            "loading :  20\n",
            "loading :  21\n",
            "loading :  22\n",
            "loading :  23\n",
            "loading :  24\n",
            "loading :  25\n",
            "loading :  26\n",
            "loading :  27\n",
            "loading :  28\n",
            "loading :  29\n",
            "loading :  30\n",
            "loading :  31\n",
            "loading :  32\n",
            "loading :  33\n",
            "loading :  34\n",
            "loading :  35\n",
            "loading :  36\n",
            "loading :  37\n",
            "loading :  38\n",
            "loading :  39\n",
            "loading :  40\n",
            "loading :  41\n",
            "loading :  42\n",
            "loading :  43\n",
            "loading :  44\n",
            "loading :  45\n",
            "loading :  46\n",
            "loading :  47\n",
            "loading :  48\n",
            "loading :  49\n",
            "loading :  50\n",
            "loading :  51\n",
            "loading :  52\n",
            "loading :  53\n",
            "loading :  54\n",
            "loading :  55\n",
            "loading :  56\n",
            "loading :  57\n",
            "loading :  58\n",
            "loading :  59\n",
            "loading :  60\n",
            "loading :  61\n",
            "loading :  62\n",
            "loading :  63\n",
            "loading :  64\n",
            "loading :  65\n",
            "loading :  66\n",
            "loading :  67\n",
            "loading :  68\n",
            "loading :  69\n",
            "loading :  70\n",
            "loading :  71\n",
            "loading :  72\n",
            "loading :  73\n",
            "loading :  74\n",
            "loading :  75\n",
            "loading :  76\n",
            "loading :  77\n",
            "loading :  78\n",
            "loading :  79\n",
            "loading :  80\n",
            "loading :  81\n",
            "loading :  82\n",
            "loading :  83\n",
            "loading :  84\n",
            "loading :  85\n",
            "loading :  86\n",
            "loading :  87\n",
            "loading :  88\n",
            "loading :  89\n",
            "loading :  90\n",
            "loading :  91\n",
            "loading :  92\n",
            "loading :  93\n",
            "loading :  94\n",
            "loading :  95\n",
            "loading :  96\n",
            "loading :  97\n",
            "loading :  98\n",
            "loading :  99\n",
            "loading :  100\n",
            "loading :  101\n",
            "loading :  102\n",
            "loading :  103\n",
            "loading :  104\n",
            "loading :  105\n",
            "loading :  106\n",
            "loading :  107\n",
            "loading :  108\n",
            "loading :  109\n",
            "loading :  110\n",
            "loading :  111\n",
            "loading :  112\n",
            "loading :  113\n",
            "loading :  114\n",
            "loading :  115\n",
            "loading :  116\n",
            "loading :  117\n",
            "loading :  118\n",
            "loading :  119\n",
            "loading :  120\n",
            "loading :  121\n",
            "loading :  122\n",
            "loading :  123\n",
            "loading :  124\n",
            "loading :  125\n",
            "loading :  126\n",
            "loading :  127\n",
            "loading :  128\n"
          ],
          "name": "stdout"
        }
      ]
    },
    {
      "cell_type": "code",
      "metadata": {
        "id": "XrZbDMf_AabM"
      },
      "source": [
        "# #@title 無作為抽出して確認\n",
        "# picks = [39, 40, 89, 112]\n",
        "\n",
        "# for pick in picks:\n",
        "#   sample = dwls[pick].data\n",
        "#   print(pick)\n",
        "#   for i in range(30):\n",
        "#     display_ndarray(sample[i])"
      ],
      "execution_count": null,
      "outputs": []
    },
    {
      "cell_type": "code",
      "metadata": {
        "id": "HnxvDwlleaMZ"
      },
      "source": [
        "#@title 整形データを保存\n",
        "videos = []\n",
        "labels = []\n",
        "for dwl in dwls:\n",
        "  videos.append(dwl.data.flatten())\n",
        "  labels.append(dwl.label)\n",
        "  \n",
        "np.savez(os.path.join(desk, 'normalTrainVideos'), *videos)\n",
        "np.savez(os.path.join(desk, 'normalTrainLabels'), *labels)"
      ],
      "execution_count": 12,
      "outputs": []
    },
    {
      "cell_type": "markdown",
      "metadata": {
        "id": "M0qUvB9aa_bI"
      },
      "source": [
        "試しに読み込んでみる"
      ]
    },
    {
      "cell_type": "code",
      "metadata": {
        "id": "lzkqRdHtmGHb"
      },
      "source": [
        "import numpy as np\n",
        "\n",
        "v = np.load('/content/desk/normalTrainVideos.npz')\n",
        "oneVideo = v['arr_0']\n",
        "# display_ndarray(oneVideo[10])"
      ],
      "execution_count": 13,
      "outputs": []
    },
    {
      "cell_type": "code",
      "metadata": {
        "id": "6f8jhe8lSdRI",
        "outputId": "845f7e37-ba6f-4204-9ee6-f66d343ac00d",
        "colab": {
          "base_uri": "https://localhost:8080/"
        }
      },
      "source": [
        "oneVideo.shape"
      ],
      "execution_count": 14,
      "outputs": [
        {
          "output_type": "execute_result",
          "data": {
            "text/plain": [
              "(324000,)"
            ]
          },
          "metadata": {
            "tags": []
          },
          "execution_count": 14
        }
      ]
    },
    {
      "cell_type": "markdown",
      "metadata": {
        "id": "DHsxTl1TDGWO"
      },
      "source": [
        "### [A-1-2-2]テストデータ整形"
      ]
    },
    {
      "cell_type": "code",
      "metadata": {
        "id": "isk6fpj2DOgK"
      },
      "source": [
        "#@title データ整形\n",
        "import numpy as np\n",
        "import math\n",
        "\n",
        "for count_dwl, dwl in enumerate(dwls_test):\n",
        "  print(\"loading : \", count_dwl)\n",
        "  framesize = int(dwl.data.get(cv2.CAP_PROP_FRAME_COUNT)) # フレームの数\n",
        "  cutTiming = math.floor(framesize / format1.FRAME_SIZE)\n",
        "\n",
        "  cutTail = cutTiming * format1.FRAME_SIZE\n",
        "\n",
        "  normalVideo = []\n",
        "  count = 0\n",
        "  # フレーム３０枚分を１つの動画から間伐する\n",
        "  while count <= cutTail - 1:\n",
        "    IO, frame = dwl.data.read()\n",
        "    if (count % cutTiming) == 0: \n",
        "      if not IO:\n",
        "        print(\"error in : \", count_dwl) \n",
        "        break\n",
        "      else: \n",
        "        fixedFrame = cv2.resize(frame, dsize=(format1.WIDTH, format1.HEIGHT))\n",
        "        normalVideo.append(fixedFrame)\n",
        "    else:\n",
        "      pass\n",
        "\n",
        "    count += 1\n",
        "\n",
        "  dwl.data = np.array(normalVideo)\n",
        "print(\"Complete.\")"
      ],
      "execution_count": null,
      "outputs": []
    },
    {
      "cell_type": "code",
      "metadata": {
        "id": "-WLehIS8DtLu"
      },
      "source": [
        "#@title 無作為抽出して確認\n",
        "picks = [39, 40, 89, 112]\n",
        "\n",
        "for pick in picks:\n",
        "  sample = dwls_test[pick].data\n",
        "  print(pick)\n",
        "  for i in range(30):\n",
        "    display_ndarray(sample[i])"
      ],
      "execution_count": null,
      "outputs": []
    },
    {
      "cell_type": "code",
      "metadata": {
        "id": "_tOnKq-SD3Ra"
      },
      "source": [
        "#@title 整形データを保存\n",
        "videos = []\n",
        "labels = []\n",
        "for dwl in dwls_test:\n",
        "  videos.append(dwl.data)\n",
        "  labels.append(dwl.label)\n",
        "  \n",
        "np.savez(os.path.join(desk, 'normalTestVideos'), *videos)\n",
        "np.savez(os.path.join(desk, 'normalTestLabels'), *labels)"
      ],
      "execution_count": null,
      "outputs": []
    },
    {
      "cell_type": "code",
      "metadata": {
        "id": "1lDFcSwHGduA"
      },
      "source": [
        "import numpy as np\n",
        "\n",
        "v = np.load('/content/desk/normalTestVideos.npz')\n",
        "oneVideo = v['arr_7']\n",
        "display_ndarray(oneVideo[2])"
      ],
      "execution_count": null,
      "outputs": []
    },
    {
      "cell_type": "markdown",
      "metadata": {
        "id": "2AghYWryL0CS"
      },
      "source": [
        "# [A-3]モデルの作成"
      ]
    },
    {
      "cell_type": "code",
      "metadata": {
        "colab": {
          "base_uri": "https://localhost:8080/"
        },
        "id": "S89YfRxnLDud",
        "outputId": "18565fb0-eb89-44ce-9c52-d52c19050d2a"
      },
      "source": [
        "#@title 入力データの情報を規定\n",
        "colorSet = {'BW' : 1, 'RGB' : 3}\n",
        "\n",
        "#入力層の設定\n",
        "input_frameWIDTH = format1.WIDTH\n",
        "input_frameHEIGHT = format1.HEIGHT\n",
        "input_frameSIZE = format1.FRAME_SIZE\n",
        "input_frameCOLOR = colorSet['RGB']\n",
        "input_allPattern = input_frameWIDTH * input_frameHEIGHT * input_frameSIZE * input_frameCOLOR\n",
        "\n",
        "print(\n",
        "    input_frameWIDTH,\n",
        "    input_frameHEIGHT,\n",
        "    input_frameSIZE,\n",
        "    input_frameCOLOR,\n",
        "    input_allPattern )"
      ],
      "execution_count": null,
      "outputs": [
        {
          "output_type": "stream",
          "text": [
            "80 45 30 3 324000\n"
          ],
          "name": "stdout"
        }
      ]
    },
    {
      "cell_type": "markdown",
      "metadata": {
        "id": "Zz9okc8dSalT"
      },
      "source": [
        "## [A-3-2]モデルの作成"
      ]
    },
    {
      "cell_type": "code",
      "metadata": {
        "id": "A9hlEm4-b_ey"
      },
      "source": [
        "from tensorflow.keras import layers, models, initializers, callbacks\n",
        "import tensorflow as tf\n",
        "import numpy as np\n",
        "\n",
        "seedKey = 20201218\n",
        "\n",
        "np.random.seed(seedKey)\n",
        "tf.random.set_seed(seedKey)\n",
        "\n",
        "model = models.Sequential([\n",
        "    # 入力層        \n",
        "    layers.Reshape(\n",
        "        (input_frameSIZE, input_frameHEIGHT, input_frameWIDTH,  input_frameCOLOR), \n",
        "        input_shape=(input_allPattern,),\n",
        "        name='ENTRANCE' ),\n",
        "    # 中間層\n",
        "    layers.Flatten(\n",
        "        name='RIVER' ),\n",
        "    layers.Dense(\n",
        "      1024, # 1024項\n",
        "      activation='relu',\n",
        "      name='DAM' ),\n",
        "    # 出力層\n",
        "    layers.Dense(4, activation='softmax', name='WATERSUPPLY')\n",
        "])\n",
        "\n",
        "name_model = 'key' + str(seedKey)\n",
        "name_model = name_model + '.h5'\n",
        "path_model = os.path.join('/content/desk/', name_model)\n",
        "model.save(path_model)"
      ],
      "execution_count": null,
      "outputs": []
    },
    {
      "cell_type": "code",
      "metadata": {
        "colab": {
          "base_uri": "https://localhost:8080/",
          "height": 805
        },
        "id": "2zTmwfOlcWR6",
        "outputId": "a427419a-0749-411f-d933-02a05e2a91ff"
      },
      "source": [
        "#表示\n",
        "model.summary()\n",
        "from tensorflow.keras.utils import plot_model\n",
        "# plot_model(\n",
        "#   model,\n",
        "#   show_shapes=True,\n",
        "#   )"
      ],
      "execution_count": 85,
      "outputs": [
        {
          "output_type": "stream",
          "text": [
            "Model: \"sequential\"\n",
            "_________________________________________________________________\n",
            "Layer (type)                 Output Shape              Param #   \n",
            "=================================================================\n",
            "ENTRANCE (Reshape)           (None, 30, 45, 80, 3)     0         \n",
            "_________________________________________________________________\n",
            "RIVER (Flatten)              (None, 324000)            0         \n",
            "_________________________________________________________________\n",
            "DAM (Dense)                  (None, 1024)              331777024 \n",
            "_________________________________________________________________\n",
            "WATERSUPPLY (Dense)          (None, 4)                 4100      \n",
            "=================================================================\n",
            "Total params: 331,781,124\n",
            "Trainable params: 331,781,124\n",
            "Non-trainable params: 0\n",
            "_________________________________________________________________\n"
          ],
          "name": "stdout"
        },
        {
          "output_type": "execute_result",
          "data": {
            "image/png": "[encoded data removed]",
            "text/plain": [
              "<IPython.core.display.Image object>"
            ]
          },
          "metadata": {
            "tags": []
          },
          "execution_count": 85
        }
      ]
    },
    {
      "cell_type": "markdown",
      "metadata": {
        "id": "7mYb1Eo8LzSZ"
      },
      "source": [
        "# [A-4]学習"
      ]
    },
    {
      "cell_type": "markdown",
      "metadata": {
        "id": "SAj3WKKgGzH5"
      },
      "source": [
        "## [A-4-1]データ用意\n"
      ]
    },
    {
      "cell_type": "code",
      "metadata": {
        "colab": {
          "base_uri": "https://localhost:8080/"
        },
        "id": "m1J7DrpaIYbG",
        "outputId": "dbddb920-0c3b-4233-ccae-f27a86991874"
      },
      "source": [
        "#@title 入力データの情報を規定\n",
        "colorSet = {'BW' : 1, 'RGB' : 3}\n",
        "\n",
        "#入力層の設定\n",
        "input_frameWIDTH = format1.WIDTH\n",
        "input_frameHEIGHT = format1.HEIGHT\n",
        "input_frameSIZE = format1.FRAME_SIZE\n",
        "input_frameCOLOR = colorSet['RGB']\n",
        "input_allPattern = input_frameWIDTH * input_frameHEIGHT * input_frameSIZE * input_frameCOLOR\n",
        "\n",
        "print(\n",
        "    input_frameWIDTH,\n",
        "    input_frameHEIGHT,\n",
        "    input_frameSIZE,\n",
        "    input_frameCOLOR,\n",
        "    input_allPattern )"
      ],
      "execution_count": 15,
      "outputs": [
        {
          "output_type": "stream",
          "text": [
            "80 45 30 3 324000\n"
          ],
          "name": "stdout"
        }
      ]
    },
    {
      "cell_type": "markdown",
      "metadata": {
        "id": "EtBH4noVG9N3"
      },
      "source": [
        "### [A-4-1-1]訓練データ用意\n"
      ]
    },
    {
      "cell_type": "code",
      "metadata": {
        "id": "st7bA8hCePqA"
      },
      "source": [
        "#@title 訓練データ用意\n",
        "import numpy as np\n",
        "\n",
        "v = np.load('/content/desk/normalTrainVideos.npz')\n",
        "l = np.load('/content/desk/normalTrainLabels.npz')\n",
        "\n",
        "train_videos = []\n",
        "train_labels = []\n",
        "for i in v.files:\n",
        "  train_videos.append(v[i])\n",
        "for i in l.files:\n",
        "  train_labels.append(l[i])\n",
        "\n",
        "train_videos = np.array(train_videos)\n",
        "train_labels = np.array(train_labels)"
      ],
      "execution_count": 87,
      "outputs": []
    },
    {
      "cell_type": "code",
      "metadata": {
        "id": "GxjmmaeYZPeJ"
      },
      "source": [
        "train_labels = tf.keras.utils.to_categorical(train_labels, 4)"
      ],
      "execution_count": 88,
      "outputs": []
    },
    {
      "cell_type": "markdown",
      "metadata": {
        "id": "Fs9zc-XNHItj"
      },
      "source": [
        "見てみる"
      ]
    },
    {
      "cell_type": "markdown",
      "metadata": {
        "id": "XEmwMArpHHoG"
      },
      "source": [
        "### [A-4-1-2]テストデータ用意\n"
      ]
    },
    {
      "cell_type": "code",
      "metadata": {
        "id": "4u8F_cPhHYHf"
      },
      "source": [
        "#@title テストデータ用意\n",
        "import numpy as np\n",
        "\n",
        "v = np.load('/content/desk/normalTrainVideos.npz')\n",
        "l = np.load('/content/desk/normalTrainLabels.npz')"
      ],
      "execution_count": 90,
      "outputs": []
    },
    {
      "cell_type": "code",
      "metadata": {
        "id": "_l6Lz8kwHjkJ"
      },
      "source": [
        "test_videos = []\n",
        "test_labels = []\n",
        "for i in v.files:\n",
        "  test_videos.append(v[i])\n",
        "for i in l.files:\n",
        "  test_labels.append(l[i])\n",
        "\n",
        "test_videos = np.array(test_videos)\n",
        "test_labels = np.array(test_labels)"
      ],
      "execution_count": 91,
      "outputs": []
    },
    {
      "cell_type": "markdown",
      "metadata": {
        "id": "ohqlSSqLH8ov"
      },
      "source": [
        "見てみる"
      ]
    },
    {
      "cell_type": "code",
      "metadata": {
        "colab": {
          "base_uri": "https://localhost:8080/"
        },
        "id": "7834mMl1H8ov",
        "outputId": "32ed886e-aed1-4018-8e76-802f028a3caf"
      },
      "source": [
        "sample = test_videos[8]\n",
        "image1 = sample[1]\n",
        "display_ndarray(image1)\n",
        "\n",
        "print(len(test_videos) == len(test_labels))"
      ],
      "execution_count": null,
      "outputs": [
        {
          "output_type": "display_data",
          "data": {
            "image/png": "[encoded data removed]",
            "text/plain": [
              "<Figure size 432x288 with 1 Axes>"
            ]
          },
          "metadata": {
            "tags": [],
            "needs_background": "light"
          }
        },
        {
          "output_type": "stream",
          "text": [
            "True\n"
          ],
          "name": "stdout"
        }
      ]
    },
    {
      "cell_type": "code",
      "metadata": {
        "colab": {
          "base_uri": "https://localhost:8080/"
        },
        "id": "mlHjJH1XH8ow",
        "outputId": "62530b97-bb50-4c73-bdec-f99926b5d6b8"
      },
      "source": [
        "# データを一列にする\n",
        "test_videos = test_videos.reshape(len(test_videos), input_allPattern).astype('float32')/255\n",
        "# test_labels = tf.keras.utils.to_categorical(test_labels, 4)\n",
        "print(test_videos.shape)"
      ],
      "execution_count": null,
      "outputs": [
        {
          "output_type": "stream",
          "text": [
            "(124, 324000)\n"
          ],
          "name": "stdout"
        }
      ]
    },
    {
      "cell_type": "markdown",
      "metadata": {
        "id": "cMbGKOj8Hnt-"
      },
      "source": [
        "## [A-4-2]モデル用意\n"
      ]
    },
    {
      "cell_type": "code",
      "metadata": {
        "id": "rSEWOZfudtW-",
        "outputId": "42d3a7eb-e579-45d6-c726-3b267ca1d9f5",
        "colab": {
          "base_uri": "https://localhost:8080/"
        }
      },
      "source": [
        "#@title モデル用意\n",
        "from tensorflow.keras.utils import plot_model\n",
        "model = models.load_model('/content/desk/key20201218.h5')\n",
        "# model.summary()\n",
        "# plot_model(\n",
        "#   model,\n",
        "#   show_shapes=True,\n",
        "#   )"
      ],
      "execution_count": 153,
      "outputs": [
        {
          "output_type": "stream",
          "text": [
            "WARNING:tensorflow:No training configuration found in the save file, so the model was *not* compiled. Compile it manually.\n"
          ],
          "name": "stdout"
        }
      ]
    },
    {
      "cell_type": "markdown",
      "metadata": {
        "id": "gN9MMkqbuYv9"
      },
      "source": [
        "## 学習"
      ]
    },
    {
      "cell_type": "code",
      "metadata": {
        "id": "qHCIqr-5gJA7"
      },
      "source": [
        "def loss(logits, labels):\n",
        "  error = -tf.reduce_sum(input_tensor=labels*tf.math.log(tf.clip_by_value(logits,1e-12,1.0)),axis=[1])\n",
        "\n",
        "    tf.compat.v1.summary.scalar(\"cross_entropy\", cross_entropy)\n",
        "    print(cross_entropy)\n",
        "    return cross_entropy"
      ],
      "execution_count": null,
      "outputs": []
    },
    {
      "cell_type": "code",
      "metadata": {
        "id": "B7lYTJKIc7Xj"
      },
      "source": [
        "import numpy as np\n",
        "import tensorflow as tf\n",
        "\n",
        "def huber_loss(y_true, y_pred, clip_delta=1.0):\n",
        "  error = y_true - y_pred\n",
        "  cond  = tf.keras.backend.abs(error) < clip_delta\n",
        "\n",
        "  squared_loss = tf.keras.backend.square(error)\n",
        "  # linear_loss  = clip_delta * (tf.keras.backend.abs(error) - 0.5 * clip_delta)\n",
        "\n",
        "  return squared_loss * 1000\n",
        "\n",
        "def huber_loss_mean(y_true, y_pred, clip_delta=1.0):\n",
        "  # buf.append(y_pred)\n",
        "  return tf.keras.backend.mean(huber_loss(y_true, y_pred, clip_delta)) \n"
      ],
      "execution_count": 104,
      "outputs": []
    },
    {
      "cell_type": "code",
      "metadata": {
        "id": "_yDfO1ARub-M"
      },
      "source": [
        "y_true = [[3999999, 1, 2], [8, 10, 33]]\n",
        "y_pred = [[0.05, 0.95, 0], [0.1, 0.8, 0.1]]"
      ],
      "execution_count": 116,
      "outputs": []
    },
    {
      "cell_type": "code",
      "metadata": {
        "id": "hFmZ6upGr_kc",
        "outputId": "6649ad1f-62d1-408a-c7c1-bd6f62700339",
        "colab": {
          "base_uri": "https://localhost:8080/"
        }
      },
      "source": [
        "cce = tf.keras.losses.CategoricalCrossentropy()\n",
        "cce(y_true, y_pred).numpy()"
      ],
      "execution_count": 117,
      "outputs": [
        {
          "output_type": "execute_result",
          "data": {
            "text/plain": [
              "5991527.5"
            ]
          },
          "metadata": {
            "tags": []
          },
          "execution_count": 117
        }
      ]
    },
    {
      "cell_type": "code",
      "metadata": {
        "id": "N-1ykomzuNT7",
        "outputId": "df2efbe0-a785-446f-b1d0-803234dc5096",
        "colab": {
          "base_uri": "https://localhost:8080/"
        }
      },
      "source": [
        "# mse = tf.keras.losses.MeanSquaredError()\n",
        "mse(y_true, y_pred).numpy()\n",
        "# cce(y_true, y_pred).numpy()"
      ],
      "execution_count": 119,
      "outputs": [
        {
          "output_type": "execute_result",
          "data": {
            "text/plain": [
              "2666665300000.0"
            ]
          },
          "metadata": {
            "tags": []
          },
          "execution_count": 119
        }
      ]
    },
    {
      "cell_type": "code",
      "metadata": {
        "id": "sjUUPupE7V62"
      },
      "source": [
        "sgd = keras.optimizers.SGD(lr=0.01, momentum=0.0, decay=0.0, nesterov=False)"
      ],
      "execution_count": 154,
      "outputs": []
    },
    {
      "cell_type": "code",
      "metadata": {
        "id": "cKgCe6ZXla7i"
      },
      "source": [
        "#@title 学習方法の設定\n",
        "\n",
        "model.compile(\n",
        "    optimizer=sgd, \n",
        "    loss=mse,\n",
        "    metrics=['acc'])"
      ],
      "execution_count": 155,
      "outputs": []
    },
    {
      "cell_type": "code",
      "metadata": {
        "id": "X7Hj2dSEsF1x",
        "outputId": "8ad7f51a-4550-4b1a-c3e5-230379f35da8",
        "colab": {
          "base_uri": "https://localhost:8080/"
        }
      },
      "source": [
        "#@title 学習\n",
        "%%time\n",
        "history = model.fit(\n",
        "      train_videos, \n",
        "      train_labels, \n",
        "      # validation_data=(test_videos, test_labels),\n",
        "      batch_size=8,\n",
        "      epochs=47\n",
        "      )\n",
        "print(\"Complete.\")"
      ],
      "execution_count": 156,
      "outputs": [
        {
          "output_type": "stream",
          "text": [
            "Epoch 1/47\n",
            "17/17 [==============================] - 1s 36ms/step - loss: 0.3151 - acc: 0.2580\n",
            "Epoch 2/47\n",
            "17/17 [==============================] - 1s 36ms/step - loss: 0.3272 - acc: 0.3454\n",
            "Epoch 3/47\n",
            "17/17 [==============================] - 1s 36ms/step - loss: 0.3382 - acc: 0.3224\n",
            "Epoch 4/47\n",
            "17/17 [==============================] - 1s 36ms/step - loss: 0.3185 - acc: 0.3615\n",
            "Epoch 5/47\n",
            "17/17 [==============================] - 1s 35ms/step - loss: 0.3277 - acc: 0.3434\n",
            "Epoch 6/47\n",
            "17/17 [==============================] - 1s 36ms/step - loss: 0.3116 - acc: 0.3758\n",
            "Epoch 7/47\n",
            "17/17 [==============================] - 1s 36ms/step - loss: 0.3208 - acc: 0.3543\n",
            "Epoch 8/47\n",
            "17/17 [==============================] - 1s 36ms/step - loss: 0.3416 - acc: 0.3110\n",
            "Epoch 9/47\n",
            "17/17 [==============================] - 1s 37ms/step - loss: 0.3276 - acc: 0.3428\n",
            "Epoch 10/47\n",
            "17/17 [==============================] - 1s 36ms/step - loss: 0.3246 - acc: 0.3496\n",
            "Epoch 11/47\n",
            "17/17 [==============================] - 1s 36ms/step - loss: 0.3207 - acc: 0.3565\n",
            "Epoch 12/47\n",
            "17/17 [==============================] - 1s 36ms/step - loss: 0.3318 - acc: 0.3233\n",
            "Epoch 13/47\n",
            "17/17 [==============================] - 1s 37ms/step - loss: 0.2751 - acc: 0.4496\n",
            "Epoch 14/47\n",
            "17/17 [==============================] - 1s 36ms/step - loss: 0.2698 - acc: 0.4603\n",
            "Epoch 15/47\n",
            "17/17 [==============================] - 1s 35ms/step - loss: 0.3023 - acc: 0.3953\n",
            "Epoch 16/47\n",
            "17/17 [==============================] - 1s 35ms/step - loss: 0.2936 - acc: 0.4126\n",
            "Epoch 17/47\n",
            "17/17 [==============================] - 1s 37ms/step - loss: 0.2790 - acc: 0.4419\n",
            "Epoch 18/47\n",
            "17/17 [==============================] - 1s 36ms/step - loss: 0.2888 - acc: 0.4220\n",
            "Epoch 19/47\n",
            "17/17 [==============================] - 1s 36ms/step - loss: 0.2870 - acc: 0.4258\n",
            "Epoch 20/47\n",
            "17/17 [==============================] - 1s 36ms/step - loss: 0.3074 - acc: 0.3851\n",
            "Epoch 21/47\n",
            "17/17 [==============================] - 1s 36ms/step - loss: 0.2814 - acc: 0.4371\n",
            "Epoch 22/47\n",
            "17/17 [==============================] - 1s 36ms/step - loss: 0.2979 - acc: 0.4034\n",
            "Epoch 23/47\n",
            "17/17 [==============================] - 1s 36ms/step - loss: 0.2645 - acc: 0.4706\n",
            "Epoch 24/47\n",
            "17/17 [==============================] - 1s 36ms/step - loss: 0.2866 - acc: 0.4265\n",
            "Epoch 25/47\n",
            "17/17 [==============================] - 1s 36ms/step - loss: 0.2791 - acc: 0.4411\n",
            "Epoch 26/47\n",
            "17/17 [==============================] - 1s 36ms/step - loss: 0.3037 - acc: 0.3914\n",
            "Epoch 27/47\n",
            "17/17 [==============================] - 1s 36ms/step - loss: 0.3085 - acc: 0.3824\n",
            "Epoch 28/47\n",
            "17/17 [==============================] - 1s 37ms/step - loss: 0.2929 - acc: 0.4136\n",
            "Epoch 29/47\n",
            "17/17 [==============================] - 1s 36ms/step - loss: 0.3093 - acc: 0.3805\n",
            "Epoch 30/47\n",
            "17/17 [==============================] - 1s 37ms/step - loss: 0.3058 - acc: 0.3881\n",
            "Epoch 31/47\n",
            "17/17 [==============================] - 1s 36ms/step - loss: 0.2564 - acc: 0.4860\n",
            "Epoch 32/47\n",
            "17/17 [==============================] - 1s 36ms/step - loss: 0.2858 - acc: 0.4273\n",
            "Epoch 33/47\n",
            "17/17 [==============================] - 1s 36ms/step - loss: 0.3081 - acc: 0.3817\n",
            "Epoch 34/47\n",
            "17/17 [==============================] - 1s 36ms/step - loss: 0.3029 - acc: 0.3914\n",
            "Epoch 35/47\n",
            "17/17 [==============================] - 1s 36ms/step - loss: 0.2715 - acc: 0.4545\n",
            "Epoch 36/47\n",
            "17/17 [==============================] - 1s 36ms/step - loss: 0.3333 - acc: 0.3322\n",
            "Epoch 37/47\n",
            "17/17 [==============================] - 1s 36ms/step - loss: 0.2949 - acc: 0.4092\n",
            "Epoch 38/47\n",
            "17/17 [==============================] - 1s 36ms/step - loss: 0.2903 - acc: 0.4187\n",
            "Epoch 39/47\n",
            "17/17 [==============================] - 1s 36ms/step - loss: 0.2985 - acc: 0.4025\n",
            "Epoch 40/47\n",
            "17/17 [==============================] - 1s 37ms/step - loss: 0.2988 - acc: 0.4020\n",
            "Epoch 41/47\n",
            "17/17 [==============================] - 1s 36ms/step - loss: 0.2611 - acc: 0.4770\n",
            "Epoch 42/47\n",
            "17/17 [==============================] - 1s 36ms/step - loss: 0.3047 - acc: 0.3896\n",
            "Epoch 43/47\n",
            "17/17 [==============================] - 1s 36ms/step - loss: 0.3349 - acc: 0.3288\n",
            "Epoch 44/47\n",
            "17/17 [==============================] - 1s 36ms/step - loss: 0.2886 - acc: 0.4213\n",
            "Epoch 45/47\n",
            "17/17 [==============================] - 1s 35ms/step - loss: 0.2992 - acc: 0.3955\n",
            "Epoch 46/47\n",
            "17/17 [==============================] - 1s 36ms/step - loss: 0.2860 - acc: 0.4271\n",
            "Epoch 47/47\n",
            "17/17 [==============================] - 1s 36ms/step - loss: 0.2874 - acc: 0.4236\n",
            "Complete.\n",
            "CPU times: user 19.6 s, sys: 8.17 s, total: 27.8 s\n",
            "Wall time: 29.4 s\n"
          ],
          "name": "stdout"
        }
      ]
    },
    {
      "cell_type": "code",
      "metadata": {
        "colab": {
          "base_uri": "https://localhost:8080/"
        },
        "id": "Xzb0V4Yroqau",
        "outputId": "79cca4a5-3658-427c-aa14-9f9da6f3c477"
      },
      "source": [
        "type(buf[0])"
      ],
      "execution_count": 28,
      "outputs": [
        {
          "output_type": "execute_result",
          "data": {
            "text/plain": [
              "tensorflow.python.framework.ops.Tensor"
            ]
          },
          "metadata": {
            "tags": []
          },
          "execution_count": 28
        }
      ]
    },
    {
      "cell_type": "code",
      "metadata": {
        "id": "xJFJ_xhnp-T_",
        "outputId": "f454ae43-73ef-4560-ee34-497b0616947e",
        "colab": {
          "base_uri": "https://localhost:8080/"
        }
      },
      "source": [
        "# Compute some values using a Tensor\n",
        "c = tf.constant([[1.0, 2.0], [3.0, 4.0]])\n",
        "d = tf.constant([[1.0, 1.0], [0.0, 1.0]])\n",
        "e = tf.matmul(c, d)\n",
        "print(e)"
      ],
      "execution_count": 35,
      "outputs": [
        {
          "output_type": "stream",
          "text": [
            "tf.Tensor(\n",
            "[[1. 3.]\n",
            " [3. 7.]], shape=(2, 2), dtype=float32)\n"
          ],
          "name": "stdout"
        }
      ]
    },
    {
      "cell_type": "code",
      "metadata": {
        "id": "nVXEbHB2qDlF",
        "outputId": "97490260-6b2a-47aa-f67e-371c8c47545e",
        "colab": {
          "base_uri": "https://localhost:8080/"
        }
      },
      "source": [
        "print(buf[1].shape[1])"
      ],
      "execution_count": 50,
      "outputs": [
        {
          "output_type": "stream",
          "text": [
            "4\n"
          ],
          "name": "stdout"
        }
      ]
    },
    {
      "cell_type": "code",
      "metadata": {
        "id": "_z9g_itPqksY",
        "outputId": "4fdcce8d-3a1d-4439-c3fa-c352296cb300",
        "colab": {
          "base_uri": "https://localhost:8080/"
        }
      },
      "source": [
        "for i in buf:\n",
        "  print(i)"
      ],
      "execution_count": 51,
      "outputs": [
        {
          "output_type": "stream",
          "text": [
            "Tensor(\"sequential/WATERSUPPLY/Softmax:0\", shape=(None, 4), dtype=float32)\n",
            "Tensor(\"sequential/WATERSUPPLY/Softmax:0\", shape=(None, 4), dtype=float32)\n"
          ],
          "name": "stdout"
        }
      ]
    },
    {
      "cell_type": "code",
      "metadata": {
        "id": "D_jDvyYmDkYG"
      },
      "source": [
        "losses = {\n",
        "    'CCE' : 'categorical_crossentropy',\n",
        "    'SCE' : 'sparse_categorical_crossentropy',\n",
        "\n",
        "    'MSE' : 'mean_squared_error',\n",
        "    'MSLE' : 'mean_squared_logarithmic_error',\n",
        "    'MAE' : 'mean_absolute_error',\n",
        "}\n",
        "def inverse_dict(d):\n",
        "    return {v:k for k,v in d.items()}\n",
        "\n",
        "inv_losses = inverse_dict(losses)\n"
      ],
      "execution_count": 139,
      "outputs": []
    },
    {
      "cell_type": "markdown",
      "metadata": {
        "id": "iZsey6JXgMlv"
      },
      "source": [
        "# [A-5]学習の評価"
      ]
    },
    {
      "cell_type": "code",
      "metadata": {
        "id": "S2QcmAt1xl15"
      },
      "source": [
        "from pandas import DataFrame\n",
        "import matplotlib.pyplot as plt\n",
        "import os\n",
        "\n",
        "def savePlot(fig, plus):\n",
        "  # name = inv_losses[pick_loss]\n",
        "  name = 'tmp'\n",
        "  name = name + '_' + plus\n",
        "  path_image = os.path.join(desk, name)\n",
        "  fig.savefig(path_image)\n",
        "\n",
        "def plotAcc(history):\n",
        "  fig = plt.figure()\n",
        "  ACC = fig.add_subplot(1,1,1)\n",
        "  props = {\n",
        "      'title' : 'plot of ACCURACY',\n",
        "      'xlabel' : 'epoch',\n",
        "      'ylabel' : 'value'\n",
        "  }\n",
        "  ACC.set(**props)\n",
        "  acc = DataFrame(history.history['acc'])\n",
        "  # val_acc = DataFrame(history.history['val_acc'])\n",
        "  ACC.plot(acc, label='acc', marker='o', color='blue')\n",
        "  # ACC.plot(val_acc, label='val_acc', marker='o', linestyle='--', color='orange')\n",
        "  ACC.legend()\n",
        "\n",
        "  savePlot(fig, 'acc')\n",
        "\n",
        "def plotLoss(history):\n",
        "  fig = plt.figure()\n",
        "  LOSS = fig.add_subplot(1,1,1)\n",
        "  props = {\n",
        "      'title' : 'plot of LOSS',\n",
        "      'xlabel' : 'epoch',\n",
        "      'ylabel' : 'value'\n",
        "  }\n",
        "  LOSS.set(**props)\n",
        "  loss = DataFrame(history.history['loss'])\n",
        "  # val_loss = DataFrame(history.history['val_loss'])\n",
        "  LOSS.plot(loss, label='loss', marker='o', color='blue')\n",
        "  # LOSS.plot(val_loss, label='val_loss', marker='o', linestyle='--', color='orange')\n",
        "  LOSS.legend()\n",
        "\n",
        "  savePlot(fig, 'loss')"
      ],
      "execution_count": 93,
      "outputs": []
    },
    {
      "cell_type": "code",
      "metadata": {
        "colab": {
          "base_uri": "https://localhost:8080/",
          "height": 573
        },
        "id": "hum5R9DQgcp3",
        "outputId": "355af314-8cbd-4428-cb82-5af5040a85b3"
      },
      "source": [
        "#@title accuracy, loss 描画\n",
        "plotLoss(history)\n",
        "plotAcc(history)"
      ],
      "execution_count": 157,
      "outputs": [
        {
          "output_type": "display_data",
          "data": {
            "image/png": "[encoded data removed]",
            "text/plain": [
              "<Figure size 432x288 with 1 Axes>"
            ]
          },
          "metadata": {
            "tags": [],
            "needs_background": "light"
          }
        },
        {
          "output_type": "display_data",
          "data": {
            "image/png": "[encoded data removed]",
            "text/plain": [
              "<Figure size 432x288 with 1 Axes>"
            ]
          },
          "metadata": {
            "tags": [],
            "needs_background": "light"
          }
        }
      ]
    },
    {
      "cell_type": "markdown",
      "metadata": {
        "id": "7xECtuTNphxI"
      },
      "source": [
        "#ストレージへ保存"
      ]
    },
    {
      "cell_type": "code",
      "metadata": {
        "id": "Ss4IH3BWq1ed"
      },
      "source": [
        "shelf = '/content/drive/MyDrive/colab'\n",
        "book = 'dence1223'\n",
        "shelf_book = os.path.join(shelf, book)\n",
        "if not os.path.exists(shelf_book):\n",
        "  os.mkdir(shelf_book)\n",
        "\n",
        "wants_paths = [\n",
        "'/content/desk/normalTestLabels.npz',\n",
        "'/content/desk/normalTestVideos.npz'\n",
        "]\n",
        "\n",
        "import shutil\n",
        "for want in wants_paths:\n",
        "  shutil.copy2(\n",
        "      want,\n",
        "      shelf_book\n",
        "  )\n",
        "            "
      ],
      "execution_count": null,
      "outputs": []
    },
    {
      "cell_type": "code",
      "metadata": {
        "id": "TbR5DmQysEJl"
      },
      "source": [
        "%tensorflow_version 2.x\n",
        "!pip2 install --upgrade google-auth-oauthlib grpcio >/dev/null 2>&1\n",
        "import shutil\n",
        "from tensorflow.keras import layers, models, initializers, callbacks\n",
        "log_dir = '/tmp/log'\n",
        "shutil.rmtree(log_dir, ignore_errors=True)\n",
        "tensorboard_callback = callbacks.TensorBoard(log_dir=log_dir,\n",
        "                                             histogram_freq=1)"
      ],
      "execution_count": null,
      "outputs": []
    },
    {
      "cell_type": "code",
      "metadata": {
        "id": "0_l9fiK4yfVu"
      },
      "source": [
        "#@title 学習\n",
        "%%time\n",
        "history = model.fit(\n",
        "      train_videos, train_labels, \n",
        "      validation_data=(test_videos, test_labels),\n",
        "      batch_size=16, epochs= 30,\n",
        "      # callbacks=[tensorboard_callback]\n",
        "      )\n",
        "print(\"Complete.\")"
      ],
      "execution_count": null,
      "outputs": []
    },
    {
      "cell_type": "code",
      "metadata": {
        "id": "mCneOHGy6VXw"
      },
      "source": [
        "!curl -OL https://bin.equinox.io/c/4VmDzA7iaHb/ngrok-stable-linux-amd64.zip\n",
        "!unzip -o ngrok-stable-linux-amd64.zip"
      ],
      "execution_count": null,
      "outputs": []
    },
    {
      "cell_type": "code",
      "metadata": {
        "id": "o3oGrHRwWz58",
        "colab": {
          "base_uri": "https://localhost:8080/"
        },
        "outputId": "77002d56-abf7-48b7-8160-f5523bd62275"
      },
      "source": [
        "get_ipython().system_raw(\n",
        "    'tensorboard --logdir {} --host 0.0.0.0 --port 6006 &'\n",
        "    .format(log_dir)\n",
        ")\n",
        "get_ipython().system_raw('./ngrok http 6006 &')\n",
        "!curl -s http://localhost:4040/api/tunnels | python3 -c \\\n",
        "    \"import sys, json; print(json.load(sys.stdin)['tunnels'][0]['public_url'])\""
      ],
      "execution_count": null,
      "outputs": [
        {
          "output_type": "stream",
          "text": [
            "https://6b5d01d27e35.ngrok.io\n"
          ],
          "name": "stdout"
        }
      ]
    },
    {
      "cell_type": "markdown",
      "metadata": {
        "id": "wGBBv1xM3o3o"
      },
      "source": [
        "# [A-6]テスト"
      ]
    },
    {
      "cell_type": "code",
      "metadata": {
        "id": "WVCL3yt3UacW"
      },
      "source": [
        "from pandas import DataFrame\n",
        "import matplotlib.pyplot as plt\n",
        "import os\n",
        "\n",
        "def savePlot(fig, plus):\n",
        "  # name = inv_losses[pick_loss]\n",
        "  name = 'tmp'\n",
        "  name = name + '_' + plus\n",
        "  path_image = os.path.join(desk, name)\n",
        "  fig.savefig(path_image)\n",
        "\n",
        "def plotAcc(history):\n",
        "  fig = plt.figure()\n",
        "  ACC = fig.add_subplot(1,1,1)\n",
        "  props = {\n",
        "      'title' : 'plot of ACCURACY',\n",
        "      'xlabel' : 'epoch',\n",
        "      'ylabel' : 'value'\n",
        "  }\n",
        "  ACC.set(**props)\n",
        "  acc = DataFrame(history.history['acc'])\n",
        "  # val_acc = DataFrame(history.history['val_acc'])\n",
        "  ACC.plot(acc, label='acc', marker='o', color='blue')\n",
        "  # ACC.plot(val_acc, label='val_acc', marker='o', linestyle='--', color='orange')\n",
        "  ACC.legend()\n",
        "\n",
        "  savePlot(fig, 'acc')\n",
        "\n",
        "def plotLoss(history):\n",
        "  fig = plt.figure()\n",
        "  LOSS = fig.add_subplot(1,1,1)\n",
        "  props = {\n",
        "      'title' : 'plot of LOSS',\n",
        "      'xlabel' : 'epoch',\n",
        "      'ylabel' : 'value'\n",
        "  }\n",
        "  LOSS.set(**props)\n",
        "  loss = DataFrame(history.history['loss'])\n",
        "  # val_loss = DataFrame(history.history['val_loss'])\n",
        "  LOSS.plot(loss, label='loss', marker='o', color='blue')\n",
        "  # LOSS.plot(val_loss, label='val_loss', marker='o', linestyle='--', color='orange')\n",
        "  LOSS.legend()\n",
        "\n",
        "  savePlot(fig, 'loss')"
      ],
      "execution_count": null,
      "outputs": []
    },
    {
      "cell_type": "markdown",
      "metadata": {
        "id": "XTMceWeLk1CL"
      },
      "source": [
        "##学習"
      ]
    },
    {
      "cell_type": "code",
      "metadata": {
        "colab": {
          "base_uri": "https://localhost:8080/",
          "height": 1000
        },
        "id": "8a4tdVKGSnz_",
        "outputId": "8a020ac2-96a0-4a76-cd66-724cfc5b23b4"
      },
      "source": [
        "#@title mse\n",
        "loss = 'mean_squared_error'\n",
        "\n",
        "# モデル用意\n",
        "from tensorflow.keras.utils import plot_model\n",
        "from tensorflow.keras import layers, models, initializers, callbacks\n",
        "import gc\n",
        "\n",
        "model = models.load_model('/content/desk/key20201218.h5')\n",
        "\n",
        "# コンパイル\n",
        "model.compile(\n",
        "    optimizer='adam', \n",
        "    loss = loss,\n",
        "    metrics=['acc'])\n",
        "\n",
        "# 学習\n",
        "history = model.fit(\n",
        "    train_videos, train_labels, \n",
        "    batch_size=16, epochs= 30,)\n",
        "\n",
        "print(\"Complete.\")\n",
        "\n",
        "plotLoss(history)\n",
        "plotAcc(history)"
      ],
      "execution_count": null,
      "outputs": [
        {
          "output_type": "stream",
          "text": [
            "WARNING:tensorflow:No training configuration found in the save file, so the model was *not* compiled. Compile it manually.\n",
            "Epoch 1/30\n",
            "9/9 [==============================] - 1s 74ms/step - loss: 1.8656 - acc: 0.1212\n",
            "Epoch 2/30\n",
            "9/9 [==============================] - 1s 73ms/step - loss: 1.6822 - acc: 0.1243\n",
            "Epoch 3/30\n",
            "9/9 [==============================] - 1s 73ms/step - loss: 1.6453 - acc: 0.1221\n",
            "Epoch 4/30\n",
            "9/9 [==============================] - 1s 73ms/step - loss: 2.0232 - acc: 0.1651\n",
            "Epoch 5/30\n",
            "9/9 [==============================] - 1s 73ms/step - loss: 1.6093 - acc: 0.1031\n",
            "Epoch 6/30\n",
            "9/9 [==============================] - 1s 72ms/step - loss: 1.5665 - acc: 0.1021\n",
            "Epoch 7/30\n",
            "9/9 [==============================] - 1s 73ms/step - loss: 1.5947 - acc: 0.0889\n",
            "Epoch 8/30\n",
            "9/9 [==============================] - 1s 73ms/step - loss: 1.4882 - acc: 0.0959\n",
            "Epoch 9/30\n",
            "9/9 [==============================] - 1s 73ms/step - loss: 1.8805 - acc: 0.1572\n",
            "Epoch 10/30\n",
            "9/9 [==============================] - 1s 74ms/step - loss: 1.7636 - acc: 0.1419\n",
            "Epoch 11/30\n",
            "9/9 [==============================] - 1s 74ms/step - loss: 2.0452 - acc: 0.1575\n",
            "Epoch 12/30\n",
            "9/9 [==============================] - 1s 71ms/step - loss: 1.8105 - acc: 0.1327\n",
            "Epoch 13/30\n",
            "9/9 [==============================] - 1s 74ms/step - loss: 1.9071 - acc: 0.1534\n",
            "Epoch 14/30\n",
            "9/9 [==============================] - 1s 74ms/step - loss: 1.6465 - acc: 0.1224\n",
            "Epoch 15/30\n",
            "9/9 [==============================] - 1s 73ms/step - loss: 1.8182 - acc: 0.1438\n",
            "Epoch 16/30\n",
            "9/9 [==============================] - 1s 72ms/step - loss: 1.6084 - acc: 0.1006\n",
            "Epoch 17/30\n",
            "9/9 [==============================] - 1s 73ms/step - loss: 1.6627 - acc: 0.1162\n",
            "Epoch 18/30\n",
            "9/9 [==============================] - 1s 73ms/step - loss: 1.6947 - acc: 0.1305\n",
            "Epoch 19/30\n",
            "9/9 [==============================] - 1s 72ms/step - loss: 1.6257 - acc: 0.1228\n",
            "Epoch 20/30\n",
            "9/9 [==============================] - 1s 73ms/step - loss: 1.7209 - acc: 0.1147\n",
            "Epoch 21/30\n",
            "9/9 [==============================] - 1s 73ms/step - loss: 1.5898 - acc: 0.1021\n",
            "Epoch 22/30\n",
            "9/9 [==============================] - 1s 72ms/step - loss: 1.8846 - acc: 0.1447\n",
            "Epoch 23/30\n",
            "9/9 [==============================] - 1s 73ms/step - loss: 1.6737 - acc: 0.1247\n",
            "Epoch 24/30\n",
            "9/9 [==============================] - 1s 74ms/step - loss: 1.5468 - acc: 0.1165\n",
            "Epoch 25/30\n",
            "9/9 [==============================] - 1s 72ms/step - loss: 1.7868 - acc: 0.1244\n",
            "Epoch 26/30\n",
            "9/9 [==============================] - 1s 73ms/step - loss: 1.6577 - acc: 0.1211\n",
            "Epoch 27/30\n",
            "9/9 [==============================] - 1s 72ms/step - loss: 1.8089 - acc: 0.1282\n",
            "Epoch 28/30\n",
            "9/9 [==============================] - 1s 73ms/step - loss: 1.7057 - acc: 0.1370\n",
            "Epoch 29/30\n",
            "9/9 [==============================] - 1s 73ms/step - loss: 1.8314 - acc: 0.1271\n",
            "Epoch 30/30\n",
            "9/9 [==============================] - 1s 73ms/step - loss: 1.6274 - acc: 0.1105\n",
            "Complete.\n"
          ],
          "name": "stdout"
        },
        {
          "output_type": "display_data",
          "data": {
            "image/png": "[encoded data removed]",
            "text/plain": [
              "<Figure size 432x288 with 1 Axes>"
            ]
          },
          "metadata": {
            "tags": [],
            "needs_background": "light"
          }
        },
        {
          "output_type": "display_data",
          "data": {
            "image/png": "[encoded data removed]",
            "text/plain": [
              "<Figure size 432x288 with 1 Axes>"
            ]
          },
          "metadata": {
            "tags": [],
            "needs_background": "light"
          }
        }
      ]
    },
    {
      "cell_type": "code",
      "metadata": {
        "colab": {
          "base_uri": "https://localhost:8080/",
          "height": 1000
        },
        "id": "2UmISTpslRQj",
        "outputId": "c8453d10-b3a7-45ba-f7aa-fb3bc7f2a550"
      },
      "source": [
        "#@title cee\n",
        "loss = 'sparse_categorical_crossentropy'\n",
        "\n",
        "# モデル用意\n",
        "from tensorflow.keras.utils import plot_model\n",
        "from tensorflow.keras import layers, models, initializers, callbacks\n",
        "import gc\n",
        "\n",
        "model = models.load_model('/content/desk/key20201218.h5')\n",
        "\n",
        "# コンパイル\n",
        "model.compile(\n",
        "    optimizer='adam', \n",
        "    loss = loss,\n",
        "    metrics=['acc'])\n",
        "\n",
        "# 学習\n",
        "history = model.fit(\n",
        "    train_videos, train_labels, \n",
        "    batch_size=16, epochs= 30,)\n",
        "\n",
        "print(\"Complete.\")\n",
        "\n",
        "plotLoss(history)\n",
        "plotAcc(history)"
      ],
      "execution_count": null,
      "outputs": [
        {
          "output_type": "stream",
          "text": [
            "WARNING:tensorflow:No training configuration found in the save file, so the model was *not* compiled. Compile it manually.\n",
            "Epoch 1/30\n",
            "9/9 [==============================] - 1s 72ms/step - loss: 649.0117 - acc: 0.2480\n",
            "Epoch 2/30\n",
            "9/9 [==============================] - 1s 73ms/step - loss: 654.7886 - acc: 0.2275\n",
            "Epoch 3/30\n",
            "9/9 [==============================] - 1s 72ms/step - loss: 247.0328 - acc: 0.3769\n",
            "Epoch 4/30\n",
            "9/9 [==============================] - 1s 72ms/step - loss: 192.6326 - acc: 0.3754\n",
            "Epoch 5/30\n",
            "9/9 [==============================] - 1s 71ms/step - loss: 161.6309 - acc: 0.4886\n",
            "Epoch 6/30\n",
            "9/9 [==============================] - 1s 73ms/step - loss: 116.8564 - acc: 0.4468\n",
            "Epoch 7/30\n",
            "9/9 [==============================] - 1s 73ms/step - loss: 42.3944 - acc: 0.7441\n",
            "Epoch 8/30\n",
            "9/9 [==============================] - 1s 73ms/step - loss: 26.9238 - acc: 0.6645\n",
            "Epoch 9/30\n",
            "9/9 [==============================] - 1s 72ms/step - loss: 28.8097 - acc: 0.6706\n",
            "Epoch 10/30\n",
            "9/9 [==============================] - 1s 73ms/step - loss: 15.4711 - acc: 0.7509\n",
            "Epoch 11/30\n",
            "9/9 [==============================] - 1s 73ms/step - loss: 8.8931 - acc: 0.7653\n",
            "Epoch 12/30\n",
            "9/9 [==============================] - 1s 72ms/step - loss: 2.5882 - acc: 0.8381\n",
            "Epoch 13/30\n",
            "9/9 [==============================] - 1s 73ms/step - loss: 4.9157 - acc: 0.8488\n",
            "Epoch 14/30\n",
            "9/9 [==============================] - 1s 73ms/step - loss: 12.2719 - acc: 0.7680\n",
            "Epoch 15/30\n",
            "9/9 [==============================] - 1s 72ms/step - loss: 5.8967 - acc: 0.8392\n",
            "Epoch 16/30\n",
            "9/9 [==============================] - 1s 71ms/step - loss: 0.3080 - acc: 0.9734\n",
            "Epoch 17/30\n",
            "9/9 [==============================] - 1s 73ms/step - loss: 0.7810 - acc: 0.9514\n",
            "Epoch 18/30\n",
            "9/9 [==============================] - 1s 72ms/step - loss: 0.7200 - acc: 0.9537\n",
            "Epoch 19/30\n",
            "9/9 [==============================] - 1s 71ms/step - loss: 1.2527 - acc: 0.9346\n",
            "Epoch 20/30\n",
            "9/9 [==============================] - 1s 73ms/step - loss: 2.7075 - acc: 0.9221\n",
            "Epoch 21/30\n",
            "9/9 [==============================] - 1s 73ms/step - loss: 1.5932 - acc: 0.9061\n",
            "Epoch 22/30\n",
            "9/9 [==============================] - 1s 72ms/step - loss: 0.8585 - acc: 0.9629\n",
            "Epoch 23/30\n",
            "9/9 [==============================] - 1s 71ms/step - loss: 0.4419 - acc: 0.9597\n",
            "Epoch 24/30\n",
            "9/9 [==============================] - 1s 72ms/step - loss: 0.0439 - acc: 0.9957\n",
            "Epoch 25/30\n",
            "9/9 [==============================] - 1s 73ms/step - loss: 0.0148 - acc: 0.9977\n",
            "Epoch 26/30\n",
            "9/9 [==============================] - 1s 72ms/step - loss: 0.0000e+00 - acc: 1.0000\n",
            "Epoch 27/30\n",
            "9/9 [==============================] - 1s 73ms/step - loss: 0.0000e+00 - acc: 1.0000\n",
            "Epoch 28/30\n",
            "9/9 [==============================] - 1s 73ms/step - loss: 2.2098e-09 - acc: 1.0000\n",
            "Epoch 29/30\n",
            "9/9 [==============================] - 1s 72ms/step - loss: 2.4028e-08 - acc: 1.0000\n",
            "Epoch 30/30\n",
            "9/9 [==============================] - 1s 72ms/step - loss: 3.9159e-08 - acc: 1.0000\n",
            "Complete.\n"
          ],
          "name": "stdout"
        },
        {
          "output_type": "display_data",
          "data": {
            "image/png": "[encoded data removed]",
            "text/plain": [
              "<Figure size 432x288 with 1 Axes>"
            ]
          },
          "metadata": {
            "tags": [],
            "needs_background": "light"
          }
        },
        {
          "output_type": "display_data",
          "data": {
            "image/png": "[encoded data removed]",
            "text/plain": [
              "<Figure size 432x288 with 1 Axes>"
            ]
          },
          "metadata": {
            "tags": [],
            "needs_background": "light"
          }
        }
      ]
    },
    {
      "cell_type": "markdown",
      "metadata": {
        "id": "FnZhMC8RPAbC"
      },
      "source": [
        "#訓練データ読み込み実験"
      ]
    },
    {
      "cell_type": "code",
      "metadata": {
        "id": "9uMJRAkRPObk"
      },
      "source": [
        "class DataWithLabel:\n",
        "  data = \"video data\"\n",
        "  label = \"train label\"\n",
        "  def __init__(self, data, label):\n",
        "    self.data = data\n",
        "    self.label = label"
      ],
      "execution_count": null,
      "outputs": []
    },
    {
      "cell_type": "code",
      "metadata": {
        "id": "9QyRXU7kPObl"
      },
      "source": [
        "# ディレクトリ名とラベルとの対応\n",
        "ruleLabel = {\n",
        "    '0.other' : 0, \n",
        "    '1.food' : 1,\n",
        "    '2.car' : 2,\n",
        "    '3.cosme' : 3\n",
        "    }"
      ],
      "execution_count": null,
      "outputs": []
    },
    {
      "cell_type": "code",
      "metadata": {
        "id": "pCJZiaewPObl",
        "outputId": "d147dd43-7fbc-4a3c-84d3-1312354d81de",
        "colab": {
          "base_uri": "https://localhost:8080/"
        }
      },
      "source": [
        "#@title 訓練データ取得\n",
        "import os\n",
        "import cv2\n",
        "\n",
        "dwls = []\n",
        "\n",
        "dir_classes = os.listdir(path_trainData)\n",
        "for dir_class in dir_classes:\n",
        "  print(dir_class)\n",
        "  path_dir_class = os.path.join(path_trainData, dir_class)\n",
        "  videosInTheClass = os.listdir(path_dir_class)\n",
        "  for videoInTheClass in videosInTheClass:\n",
        "    path_videoInTheClass = os.path.join(path_dir_class, videoInTheClass)\n",
        "    print(path_videoInTheClass) # 扱うビデオデータのパスを確認\n",
        "    video_cvformat = cv2.VideoCapture(path_videoInTheClass)\n",
        "    label = ruleLabel[dir_class]\n",
        "    print(\"Attached the label :\", label)\n",
        "\n",
        "    dwl = DataWithLabel(video_cvformat, label)\n",
        "    dwls.append(dwl)\n",
        "    print(\"________\")\n",
        "    break\n",
        "  break"
      ],
      "execution_count": 19,
      "outputs": [
        {
          "output_type": "stream",
          "text": [
            "0.other\n",
            "/content/drive/MyDrive/train_data/0.other/いきなり！黄金伝説.mp4\n",
            "Attached the label : 0\n",
            "________\n"
          ],
          "name": "stdout"
        }
      ]
    },
    {
      "cell_type": "markdown",
      "metadata": {
        "id": "gFC9EmmFPYSP"
      },
      "source": [
        "### [A-1-2-1]訓練データ整形"
      ]
    },
    {
      "cell_type": "code",
      "metadata": {
        "cellView": "code",
        "colab": {
          "base_uri": "https://localhost:8080/"
        },
        "id": "Ys7kN1nEPYSP",
        "outputId": "9e4cbb2d-a5b1-431b-ed72-0d6ddca1db43"
      },
      "source": [
        "#@title データ整形\n",
        "import numpy as np\n",
        "import math\n",
        "\n",
        "for count_dwl, dwl in enumerate(dwls):\n",
        "  print(\"loading : \", count_dwl)\n",
        "  framesize = int(dwl.data.get(cv2.CAP_PROP_FRAME_COUNT)) # フレームの数\n",
        "  cutTiming = math.floor(framesize / format1.FRAME_SIZE)\n",
        "\n",
        "  cutTail = cutTiming * format1.FRAME_SIZE\n",
        "\n",
        "  normalVideo = []\n",
        "  count = 0\n",
        "  # フレーム３０枚分を１つの動画から間伐する\n",
        "  while count <= cutTail - 1:\n",
        "    IO, frame = dwl.data.read()\n",
        "    if (count % cutTiming) == 0: \n",
        "      if not IO:\n",
        "        print(\"error in : \", count_dwl) \n",
        "        break\n",
        "      else: \n",
        "        fixedFrame = cv2.resize(frame, dsize=(format1.WIDTH, format1.HEIGHT))\n",
        "        fixedFrame = fixedFrame.flatten().astype(np.float32)/255.0\n",
        "        normalVideo.append(fixedFrame)\n",
        "    else:\n",
        "      pass\n",
        "\n",
        "    count += 1\n",
        "\n",
        "  dwl.data = np.array(normalVideo)"
      ],
      "execution_count": 20,
      "outputs": [
        {
          "output_type": "stream",
          "text": [
            "loading :  0\n"
          ],
          "name": "stdout"
        }
      ]
    },
    {
      "cell_type": "code",
      "metadata": {
        "id": "CaIrI60SPbw0",
        "outputId": "eddcb0f7-9880-45ec-c0f2-911491becc11",
        "colab": {
          "base_uri": "https://localhost:8080/"
        }
      },
      "source": [
        "normalVideo[0].shape"
      ],
      "execution_count": 23,
      "outputs": [
        {
          "output_type": "execute_result",
          "data": {
            "text/plain": [
              "(10800,)"
            ]
          },
          "metadata": {
            "tags": []
          },
          "execution_count": 23
        }
      ]
    }
  ]
}