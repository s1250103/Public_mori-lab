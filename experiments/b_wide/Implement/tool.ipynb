{
  "nbformat": 4,
  "nbformat_minor": 0,
  "metadata": {
    "colab": {
      "name": "tool.ipynb",
      "provenance": [],
      "collapsed_sections": [
        "o7aF5olQLzzr"
      ],
      "authorship_tag": "ABX9TyOu8pAQtvFlUTsYeoTsy0o5",
      "include_colab_link": true
    },
    "kernelspec": {
      "display_name": "Python 3",
      "name": "python3"
    },
    "accelerator": "GPU"
  },
  "cells": [
    {
      "cell_type": "markdown",
      "metadata": {
        "id": "view-in-github",
        "colab_type": "text"
      },
      "source": [
        "<a href=\"https://colab.research.google.com/github/s1250103/Public_mori-lab/blob/b__wide/experiments/b_wide/Implement/tool.ipynb\" target=\"_parent\"><img src=\"https://colab.research.google.com/assets/colab-badge.svg\" alt=\"Open In Colab\"/></a>"
      ]
    },
    {
      "cell_type": "markdown",
      "metadata": {
        "id": "o7aF5olQLzzr"
      },
      "source": [
        "# [A-2]環境構築"
      ]
    },
    {
      "cell_type": "code",
      "metadata": {
        "colab": {
          "base_uri": "https://localhost:8080/"
        },
        "id": "8VLZTe-_Fz-G",
        "outputId": "ffec4fc9-ddd7-473f-e95e-31222742ff6a"
      },
      "source": [
        "#@title gdrive マウント\n",
        "from google.colab import drive\n",
        "from os import path\n",
        "if not path.exists('/content/drive'):\n",
        "  drive.mount('/content/drive')\n",
        "else:\n",
        "  print(\"Already confirm\")\n"
      ],
      "execution_count": 224,
      "outputs": [
        {
          "output_type": "stream",
          "text": [
            "Already confirm\n"
          ],
          "name": "stdout"
        }
      ]
    },
    {
      "cell_type": "code",
      "metadata": {
        "id": "VVHimjBTJ_7Y"
      },
      "source": [
        "import os\n",
        "desk = '/content/desk'\n",
        "if not os.path.exists(desk):\n",
        "  os.mkdir(desk)\n",
        "os.chdir(desk)"
      ],
      "execution_count": 267,
      "outputs": []
    },
    {
      "cell_type": "code",
      "metadata": {
        "id": "lqHU__Qmcw-A",
        "outputId": "a8b2cbf4-44c3-4f48-c550-acea995bf8c9",
        "colab": {
          "base_uri": "https://localhost:8080/",
          "height": 35
        }
      },
      "source": [
        "import shutil\n",
        "\n",
        "shutil.copy2(\n",
        "    '/content/drive/MyDrive/colab/dence/key20201218.h5',\n",
        "    desk\n",
        "  )\n",
        "              "
      ],
      "execution_count": 3,
      "outputs": [
        {
          "output_type": "execute_result",
          "data": {
            "application/vnd.google.colaboratory.intrinsic+json": {
              "type": "string"
            },
            "text/plain": [
              "'/content/desk/key20201218.h5'"
            ]
          },
          "metadata": {
            "tags": []
          },
          "execution_count": 3
        }
      ]
    },
    {
      "cell_type": "code",
      "metadata": {
        "id": "92ieFFZn_tb8"
      },
      "source": [
        "shelf = '/content/drive/MyDrive/colab/dence'\n",
        "if not os.path.exists(shelf):\n",
        "  os.mkdir(shelf)"
      ],
      "execution_count": null,
      "outputs": []
    },
    {
      "cell_type": "code",
      "metadata": {
        "id": "eBIQL82BN3Ny"
      },
      "source": [
        "#@title データフォーマットを規定\n",
        "class video_format:\n",
        "  name = \"video_format\"\n",
        "  # サンプリングされたCMデータの仕様\n",
        "  playtime = \"15秒\"\n",
        "  displaysize = \"(any, any, RGB)\"\n",
        "  videoformat = \"any\"\n",
        "  # モデルが扱うCMデータ(上のようなデータは、下のように変換される)\n",
        "  HEIGHT = 45\n",
        "  WIDTH = 80\n",
        "  FRAME_SIZE = 30\n",
        "  COLOR = \"RGB\"\n",
        "  FPS = \"2 (FRAME_SIZE / playtime)\" # 定義ではなく上から導かれた値\n",
        "  \n",
        "format1 = video_format()"
      ],
      "execution_count": 69,
      "outputs": []
    },
    {
      "cell_type": "markdown",
      "metadata": {
        "id": "8acjLttSNX2W"
      },
      "source": [
        "# [A-1]データ取得・整形"
      ]
    },
    {
      "cell_type": "markdown",
      "metadata": {
        "id": "fOOHfdAyM8ev"
      },
      "source": [
        "## [A-1-1]データ取得"
      ]
    },
    {
      "cell_type": "code",
      "metadata": {
        "id": "SW8mokcv-Cxm",
        "colab": {
          "base_uri": "https://localhost:8080/"
        },
        "outputId": "d73810ee-99ea-4493-d3ea-dcb72c8fc7cb"
      },
      "source": [
        "path_trainData = \"/content/drive/MyDrive/train_data\"\n",
        "path_testData = \"/content/drive/MyDrive/test_data\"\n",
        "\n",
        "import os\n",
        "if not os.path.isdir(path_trainData):\n",
        "  exit()\n",
        "if not os.path.isdir(path_testData):\n",
        "  exit()"
      ],
      "execution_count": 17,
      "outputs": [
        {
          "output_type": "stream",
          "text": [
            "@confirm train data path\n",
            "@confirm test data path\n"
          ],
          "name": "stdout"
        }
      ]
    },
    {
      "cell_type": "code",
      "metadata": {
        "id": "AJGasjeNp8m_"
      },
      "source": [
        "class DataWithLabel:\n",
        "  data = \"video data\"\n",
        "  label = \"train label\"\n",
        "  def __init__(self, data, label):\n",
        "    self.data = data\n",
        "    self.label = label"
      ],
      "execution_count": 46,
      "outputs": []
    },
    {
      "cell_type": "code",
      "metadata": {
        "id": "YDYnJys3Hn78"
      },
      "source": [
        "# ディレクトリ名とラベルとの対応\n",
        "ruleLabel = {\n",
        "    '0.other' : 0, \n",
        "    '1.food' : 1,\n",
        "    '2.car' : 2,\n",
        "    '3.cosme' : 3\n",
        "    }"
      ],
      "execution_count": 53,
      "outputs": []
    },
    {
      "cell_type": "code",
      "metadata": {
        "id": "sAZLB2SbjlBz",
        "outputId": "f1dc865c-5eb3-493e-9330-20a03c102a41",
        "colab": {
          "base_uri": "https://localhost:8080/"
        }
      },
      "source": [
        "import os\n",
        "import cv2\n",
        "\n",
        "dwls = []\n",
        "\n",
        "for dir_class in dir_classes:\n",
        "  print(dir_class)\n",
        "  path_dir_class = os.path.join(path_trainData, dir_class)\n",
        "  videosInTheClass = os.listdir(path_dir_class)\n",
        "  for videoInTheClass in videosInTheClass:\n",
        "    path_videoInTheClass = os.path.join(path_dir_class, videoInTheClass)\n",
        "    print(path_videoInTheClass) # 扱うビデオデータのパスを確認\n",
        "    video_cvformat = cv2.VideoCapture(path_videoInTheClass)\n",
        "    label = ruleLabel[dir_class]\n",
        "    print(\"Attached the label :\", label)\n",
        "\n",
        "    dwl = DataWithLabel(video_cvformat, label)\n",
        "    dwls.append(dwl)\n",
        "    print(\"________\")\n"
      ],
      "execution_count": 260,
      "outputs": [
        {
          "output_type": "stream",
          "text": [
            "0.other\n",
            "/content/drive/MyDrive/train_data/0.other/いきなり！黄金伝説.mp4\n",
            "Attached the label : 0\n",
            "________\n",
            "/content/drive/MyDrive/train_data/0.other/刑事7人.mp4\n",
            "Attached the label : 0\n",
            "________\n",
            "/content/drive/MyDrive/train_data/0.other/メットライフ生命_MetLife.mp4\n",
            "Attached the label : 0\n",
            "________\n",
            "/content/drive/MyDrive/train_data/0.other/ZURICH_保険_チューリッヒ保険_30秒.mp4\n",
            "Attached the label : 0\n",
            "________\n",
            "/content/drive/MyDrive/train_data/0.other/刑事7人[2].mp4\n",
            "Attached the label : 0\n",
            "________\n",
            "/content/drive/MyDrive/train_data/0.other/Yamato_宅急便コンパクト.mpg\n",
            "Attached the label : 0\n",
            "________\n",
            "/content/drive/MyDrive/train_data/0.other/XFLAG_ゲーム_モンスターストライク超獣神祭.mp4\n",
            "Attached the label : 0\n",
            "________\n",
            "/content/drive/MyDrive/train_data/0.other/au_MOON Challange.mp4\n",
            "Attached the label : 0\n",
            "________\n",
            "/content/drive/MyDrive/train_data/0.other/gsk_薬品_ボルタレン.mp4\n",
            "Attached the label : 0\n",
            "________\n",
            "/content/drive/MyDrive/train_data/0.other/楽天_RMobile.mp4\n",
            "Attached the label : 0\n",
            "________\n",
            "/content/drive/MyDrive/train_data/0.other/楽天_アプリ_ラクマ.mp4\n",
            "Attached the label : 0\n",
            "________\n",
            "/content/drive/MyDrive/train_data/0.other/亀岡工務店_KDS.mp4\n",
            "Attached the label : 0\n",
            "________\n",
            "/content/drive/MyDrive/train_data/0.other/厚生労働省_臨時福祉給付金.mp4\n",
            "Attached the label : 0\n",
            "________\n",
            "/content/drive/MyDrive/train_data/0.other/楽天_クレジットカード_楽天カード.mp4\n",
            "Attached the label : 0\n",
            "________\n",
            "/content/drive/MyDrive/train_data/0.other/japanet_通販_Goods for you_30秒.mp4\n",
            "Attached the label : 0\n",
            "________\n",
            "/content/drive/MyDrive/train_data/0.other/小林製薬_サラサーティ.mp4\n",
            "Attached the label : 0\n",
            "________\n",
            "/content/drive/MyDrive/train_data/0.other/タケダ_薬品_アリナミンA.mp4\n",
            "Attached the label : 0\n",
            "________\n",
            "/content/drive/MyDrive/train_data/0.other/住友生命_未来デザイン1UP.mp4\n",
            "Attached the label : 0\n",
            "________\n",
            "/content/drive/MyDrive/train_data/0.other/ダイソン_掃除_dyson v8.mp4\n",
            "Attached the label : 0\n",
            "________\n",
            "/content/drive/MyDrive/train_data/0.other/unicharm_シルコット.mp4\n",
            "Attached the label : 0\n",
            "________\n",
            "/content/drive/MyDrive/train_data/0.other/コロプラ_白猫テニス.mp4\n",
            "Attached the label : 0\n",
            "________\n",
            "/content/drive/MyDrive/train_data/0.other/au_ケータイ_au star.mp4\n",
            "Attached the label : 0\n",
            "________\n",
            "/content/drive/MyDrive/train_data/0.other/ノーシンAI頭痛薬.mp4\n",
            "Attached the label : 0\n",
            "________\n",
            "/content/drive/MyDrive/train_data/0.other/健康コーポレーション_美容_ライザップ.mp4\n",
            "Attached the label : 0\n",
            "________\n",
            "/content/drive/MyDrive/train_data/0.other/ロート_スキンAQUA 日焼け留め.mpg\n",
            "Attached the label : 0\n",
            "________\n",
            "/content/drive/MyDrive/train_data/0.other/ソフラン_クイーンズシルク.mp4\n",
            "Attached the label : 0\n",
            "________\n",
            "/content/drive/MyDrive/train_data/0.other/家庭教師のトライ_夏トライ.mp4\n",
            "Attached the label : 0\n",
            "________\n",
            "/content/drive/MyDrive/train_data/0.other/タケダ_薬_アリナミンEX PLUS.mp4\n",
            "Attached the label : 0\n",
            "________\n",
            "/content/drive/MyDrive/train_data/0.other/郡山ふれあい科学館_観光_スペースパーク.mp4\n",
            "Attached the label : 0\n",
            "________\n",
            "/content/drive/MyDrive/train_data/0.other/イーライリリー_医療_いつの間にか骨折.mp4\n",
            "Attached the label : 0\n",
            "________\n",
            "/content/drive/MyDrive/train_data/0.other/unicharm_男性用さわやかうす型パッド.mp4\n",
            "Attached the label : 0\n",
            "________\n",
            "/content/drive/MyDrive/train_data/0.other/ニトリ_わんぱく組.mp4\n",
            "Attached the label : 0\n",
            "________\n",
            "/content/drive/MyDrive/train_data/0.other/コロプラ_白猫プロジェクト.mp4\n",
            "Attached the label : 0\n",
            "________\n",
            "/content/drive/MyDrive/train_data/0.other/たまのや_こころネットグループ.mp4\n",
            "Attached the label : 0\n",
            "________\n",
            "/content/drive/MyDrive/train_data/0.other/会津日新館_観光_会津日新館.mp4\n",
            "Attached the label : 0\n",
            "________\n",
            "/content/drive/MyDrive/train_data/0.other/au_Wallet_30秒.mpg\n",
            "Attached the label : 0\n",
            "________\n",
            "/content/drive/MyDrive/train_data/0.other/niraku_パチスロ_niraku.mp4\n",
            "Attached the label : 0\n",
            "________\n",
            "/content/drive/MyDrive/train_data/0.other/小林製薬_ハレナース.mp4\n",
            "Attached the label : 0\n",
            "________\n",
            "/content/drive/MyDrive/train_data/0.other/music.jp_音楽アプリ_m.mp4\n",
            "Attached the label : 0\n",
            "________\n",
            "/content/drive/MyDrive/train_data/0.other/東宝_青空エール.mp4\n",
            "Attached the label : 0\n",
            "________\n",
            "/content/drive/MyDrive/train_data/0.other/小林製薬_生理用品_サラサーティ 天然コットン100%.mp4\n",
            "Attached the label : 0\n",
            "________\n",
            "/content/drive/MyDrive/train_data/0.other/大成建設_For a lively life_30秒.mpg\n",
            "Attached the label : 0\n",
            "________\n",
            "/content/drive/MyDrive/train_data/0.other/東映アニメーション_映画_ポッピンQ.mp4\n",
            "Attached the label : 0\n",
            "________\n",
            "/content/drive/MyDrive/train_data/0.other/第一三共_第一三共胃腸薬プラス.mp4\n",
            "Attached the label : 0\n",
            "________\n",
            "/content/drive/MyDrive/train_data/0.other/大塚製薬_洗髪料_ULOS.mp4\n",
            "Attached the label : 0\n",
            "________\n",
            "/content/drive/MyDrive/train_data/0.other/東京ディズニーリゾート.mp4\n",
            "Attached the label : 0\n",
            "________\n",
            "/content/drive/MyDrive/train_data/0.other/太田胃散_整腸薬.mp4\n",
            "Attached the label : 0\n",
            "________\n",
            "/content/drive/MyDrive/train_data/0.other/東北電力_よりそうちから_30秒.mp4\n",
            "Attached the label : 0\n",
            "________\n",
            "/content/drive/MyDrive/train_data/0.other/第一三共_クリーンデンタル.mp4\n",
            "Attached the label : 0\n",
            "________\n",
            "/content/drive/MyDrive/train_data/0.other/東北電力_東北電力.mp4\n",
            "Attached the label : 0\n",
            "________\n",
            "/content/drive/MyDrive/train_data/0.other/大東電機工業_THRIVE.mp4\n",
            "Attached the label : 0\n",
            "________\n",
            "/content/drive/MyDrive/train_data/0.other/新潟市水族館_観光_マリアピア.mp4\n",
            "Attached the label : 0\n",
            "________\n",
            "/content/drive/MyDrive/train_data/0.other/大東建託_賃貸経営受託システム.mp4\n",
            "Attached the label : 0\n",
            "________\n",
            "2.car\n",
            "/content/drive/MyDrive/train_data/2.car/NISSAN_X-Trail_Hybrid.mpg\n",
            "Attached the label : 2\n",
            "________\n",
            "/content/drive/MyDrive/train_data/2.car/DAIHATSU_車_NEW WAKE.mp4\n",
            "Attached the label : 2\n",
            "________\n",
            "/content/drive/MyDrive/train_data/2.car/DAIHATSU_Tanto_Custom.mpg\n",
            "Attached the label : 2\n",
            "________\n",
            "/content/drive/MyDrive/train_data/2.car/HONDA_Freed_Hybrid.mpg\n",
            "Attached the label : 2\n",
            "________\n",
            "/content/drive/MyDrive/train_data/2.car/ENEOS_車_ガソリンスタンド_30秒.mp4\n",
            "Attached the label : 2\n",
            "________\n",
            "/content/drive/MyDrive/train_data/2.car/SUBARU_FORESTER.mp4\n",
            "Attached the label : 2\n",
            "________\n",
            "/content/drive/MyDrive/train_data/2.car/Honda_N-Box.mpg\n",
            "Attached the label : 2\n",
            "________\n",
            "/content/drive/MyDrive/train_data/2.car/DAIHATSU_車_CAST.mp4\n",
            "Attached the label : 2\n",
            "________\n",
            "/content/drive/MyDrive/train_data/2.car/HONDA_車_Honda Cars 福島.mp4\n",
            "Attached the label : 2\n",
            "________\n",
            "/content/drive/MyDrive/train_data/2.car/NISSAN_CUBE.mpg\n",
            "Attached the label : 2\n",
            "________\n",
            "/content/drive/MyDrive/train_data/2.car/DUNLOP_タイヤ_Winter MAXX 02.mp4\n",
            "Attached the label : 2\n",
            "________\n",
            "/content/drive/MyDrive/train_data/2.car/HONDA_車_NBOX.mp4\n",
            "Attached the label : 2\n",
            "________\n",
            "/content/drive/MyDrive/train_data/2.car/Honda_N-Custom.mpg\n",
            "Attached the label : 2\n",
            "________\n",
            "/content/drive/MyDrive/train_data/2.car/SUBARU_FORESTER[2].mp4\n",
            "Attached the label : 2\n",
            "________\n",
            "/content/drive/MyDrive/train_data/2.car/cosmo_車_コスモスマートビークル_30秒.mp4\n",
            "Attached the label : 2\n",
            "________\n",
            "/content/drive/MyDrive/train_data/2.car/SUZUKI_車_ソリオ.mp4\n",
            "Attached the label : 2\n",
            "________\n",
            "3.cosme\n",
            "/content/drive/MyDrive/train_data/3.cosme/Biore_洗顔料_おうちdeエステ 洗顔ジェル.mp4\n",
            "Attached the label : 3\n",
            "________\n",
            "/content/drive/MyDrive/train_data/3.cosme/Reveur_洗髪料_Fraicheur.mp4\n",
            "Attached the label : 3\n",
            "________\n",
            "/content/drive/MyDrive/train_data/3.cosme/Kao_Primavista_パウダー.mpg\n",
            "Attached the label : 3\n",
            "________\n",
            "/content/drive/MyDrive/train_data/3.cosme/Kanebo_美容液_DEW.mp4\n",
            "Attached the label : 3\n",
            "________\n",
            "/content/drive/MyDrive/train_data/3.cosme/Biore_洗顔料_おうちdeエステ コットンマスク.mp4\n",
            "Attached the label : 3\n",
            "________\n",
            "/content/drive/MyDrive/train_data/3.cosme/Eisai_薬品_チョコラBBプラス.mp4\n",
            "Attached the label : 3\n",
            "________\n",
            "/content/drive/MyDrive/train_data/3.cosme/IEON_GLAMATICAL.mp4\n",
            "Attached the label : 3\n",
            "________\n",
            "/content/drive/MyDrive/train_data/3.cosme/Kose_化粧品_ファシオワンダーカールマスカラ.mp4\n",
            "Attached the label : 3\n",
            "________\n",
            "/content/drive/MyDrive/train_data/3.cosme/Kao_新エッセンシャルキューティクルケアシャンプー.mpg\n",
            "Attached the label : 3\n",
            "________\n",
            "/content/drive/MyDrive/train_data/3.cosme/Kao_Segreta.mp4\n",
            "Attached the label : 3\n",
            "________\n",
            "/content/drive/MyDrive/train_data/3.cosme/Kao_Primavista_下地.mpg\n",
            "Attached the label : 3\n",
            "________\n",
            "/content/drive/MyDrive/train_data/3.cosme/資生堂_Perfect_Watery_Oil.mpg\n",
            "Attached the label : 3\n",
            "________\n",
            "/content/drive/MyDrive/train_data/3.cosme/Kose_化粧品_ESPRIQUE.mp4\n",
            "Attached the label : 3\n",
            "________\n",
            "/content/drive/MyDrive/train_data/3.cosme/資生堂_Anessa_B.mpg\n",
            "Attached the label : 3\n",
            "________\n",
            "/content/drive/MyDrive/train_data/3.cosme/ガシー・レンカー・ジャパン_proactive+_30秒.mp4\n",
            "Attached the label : 3\n",
            "________\n",
            "/content/drive/MyDrive/train_data/3.cosme/Kao_リーゼ.mpg\n",
            "Attached the label : 3\n",
            "________\n",
            "1.food\n",
            "/content/drive/MyDrive/train_data/1.food/UHA味覚糖_菓子_e-maのど飴.mp4\n",
            "Attached the label : 1\n",
            "________\n",
            "/content/drive/MyDrive/train_data/1.food/幸楽苑_食品_豚バラチャーシュー麺.mp4\n",
            "Attached the label : 1\n",
            "________\n",
            "/content/drive/MyDrive/train_data/1.food/meiji_LG21.mp4\n",
            "Attached the label : 1\n",
            "________\n",
            "/content/drive/MyDrive/train_data/1.food/Yamazaki_ランチパック.mp4\n",
            "Attached the label : 1\n",
            "________\n",
            "/content/drive/MyDrive/train_data/1.food/meiji_ヨーグルト_LG21.mp4\n",
            "Attached the label : 1\n",
            "________\n",
            "/content/drive/MyDrive/train_data/1.food/meiji_エッセルスーパーカップ.mp4\n",
            "Attached the label : 1\n",
            "________\n",
            "/content/drive/MyDrive/train_data/1.food/Yamazaki_Daily_YAMAZAKI.mp4\n",
            "Attached the label : 1\n",
            "________\n",
            "/content/drive/MyDrive/train_data/1.food/UHA味覚糖_ぷっちょ とろけるグミ.mp4\n",
            "Attached the label : 1\n",
            "________\n",
            "/content/drive/MyDrive/train_data/1.food/meiji_Poifull.mp4\n",
            "Attached the label : 1\n",
            "________\n",
            "/content/drive/MyDrive/train_data/1.food/meiji_ポリポリ元気.mp4\n",
            "Attached the label : 1\n",
            "________\n",
            "/content/drive/MyDrive/train_data/1.food/柏屋_薄皮饅頭.mp4\n",
            "Attached the label : 1\n",
            "________\n",
            "/content/drive/MyDrive/train_data/1.food/pal-system_カスタードプリン.mp4\n",
            "Attached the label : 1\n",
            "________\n",
            "/content/drive/MyDrive/train_data/1.food/pepsi_STRONG_5.0GV.mp4\n",
            "Attached the label : 1\n",
            "________\n",
            "/content/drive/MyDrive/train_data/1.food/ケンタッキー_食品_カーネリングポテト.mp4\n",
            "Attached the label : 1\n",
            "________\n",
            "/content/drive/MyDrive/train_data/1.food/ヤクルト_ジョア.mpg\n",
            "Attached the label : 1\n",
            "________\n",
            "/content/drive/MyDrive/train_data/1.food/びっくりドンキー_食品_本格スパイシーカレー.mp4\n",
            "Attached the label : 1\n",
            "________\n",
            "/content/drive/MyDrive/train_data/1.food/雪印メグミルク_食品_ガセリ菌SPヨーグルト.mp4\n",
            "Attached the label : 1\n",
            "________\n",
            "/content/drive/MyDrive/train_data/1.food/pokka sapporo_食品_こんがりパン コーンポタージュ.mp4\n",
            "Attached the label : 1\n",
            "________\n",
            "/content/drive/MyDrive/train_data/1.food/キューピー_食品_黒ごまと五穀.mp4\n",
            "Attached the label : 1\n",
            "________\n",
            "/content/drive/MyDrive/train_data/1.food/かっぱ寿司_食品_うまいもの祭り 夏かっぱ.mp4\n",
            "Attached the label : 1\n",
            "________\n",
            "/content/drive/MyDrive/train_data/1.food/丸亀製麺_釜揚げうどん.mp4\n",
            "Attached the label : 1\n",
            "________\n",
            "/content/drive/MyDrive/train_data/1.food/雪印メグミルク_食品_さけるチーズ.mp4\n",
            "Attached the label : 1\n",
            "________\n",
            "/content/drive/MyDrive/train_data/1.food/はごろもフーズ_シーチキンSmile.mp4\n",
            "Attached the label : 1\n",
            "________\n",
            "/content/drive/MyDrive/train_data/1.food/キリン_コーヒー_FIRE.mp4\n",
            "Attached the label : 1\n",
            "________\n",
            "/content/drive/MyDrive/train_data/1.food/いろはす_飲料_いろはすサイダー.mp4\n",
            "Attached the label : 1\n",
            "________\n",
            "/content/drive/MyDrive/train_data/1.food/大塚製薬_食品_カロリーメイトゼリー.mp4\n",
            "Attached the label : 1\n",
            "________\n",
            "/content/drive/MyDrive/train_data/1.food/poddi_10分ごはん.mp4\n",
            "Attached the label : 1\n",
            "________\n",
            "/content/drive/MyDrive/train_data/1.food/永谷園_あさげ.mp4\n",
            "Attached the label : 1\n",
            "________\n",
            "/content/drive/MyDrive/train_data/1.food/伊藤園_飲料_おーいお茶.mp4\n",
            "Attached the label : 1\n",
            "________\n",
            "/content/drive/MyDrive/train_data/1.food/龍角散_菓子_のどすっきり飴.mp4\n",
            "Attached the label : 1\n",
            "________\n",
            "/content/drive/MyDrive/train_data/1.food/セブン&アイHLDGS_食品_ヨークベニマルの鰻.mp4\n",
            "Attached the label : 1\n",
            "________\n",
            "/content/drive/MyDrive/train_data/1.food/柏屋_薄皮饅頭.mpg\n",
            "Attached the label : 1\n",
            "________\n",
            "/content/drive/MyDrive/train_data/1.food/ペヤング_食品_ペヤングヌードル.mp4\n",
            "Attached the label : 1\n",
            "________\n",
            "/content/drive/MyDrive/train_data/1.food/森永乳業_飲料_アロエステ.mp4\n",
            "Attached the label : 1\n",
            "________\n",
            "/content/drive/MyDrive/train_data/1.food/エバラ_プチッと調味料.mp4\n",
            "Attached the label : 1\n",
            "________\n",
            "/content/drive/MyDrive/train_data/1.food/かっぱ寿司_食品_超うまいもの祭.mp4\n",
            "Attached the label : 1\n",
            "________\n",
            "/content/drive/MyDrive/train_data/1.food/銀のスプーン_三ツ星グルメ.mp4\n",
            "Attached the label : 1\n",
            "________\n",
            "/content/drive/MyDrive/train_data/1.food/白鶴_酒_大吟醸.mp4\n",
            "Attached the label : 1\n",
            "________\n",
            "/content/drive/MyDrive/train_data/1.food/永谷園_お茶漬け海苔.mp4\n",
            "Attached the label : 1\n",
            "________\n",
            "/content/drive/MyDrive/train_data/1.food/大正製薬_飲料_リポビタンfine.mp4\n",
            "Attached the label : 1\n",
            "________\n",
            "/content/drive/MyDrive/train_data/1.food/フジパン_本仕込.mp4\n",
            "Attached the label : 1\n",
            "________\n",
            "/content/drive/MyDrive/train_data/1.food/三幸製菓_チーズアーモンド.mp4\n",
            "Attached the label : 1\n",
            "________\n",
            "/content/drive/MyDrive/train_data/1.food/白鶴_酒_まる.mp4\n",
            "Attached the label : 1\n",
            "________\n",
            "/content/drive/MyDrive/train_data/1.food/永谷園_食品_麦茶漬け.mp4\n",
            "Attached the label : 1\n",
            "________\n"
          ],
          "name": "stdout"
        }
      ]
    },
    {
      "cell_type": "markdown",
      "metadata": {
        "id": "2HJppVhmNrE4"
      },
      "source": [
        "## [A-1-2]データ整形"
      ]
    },
    {
      "cell_type": "code",
      "metadata": {
        "id": "yrXmBPkKtnZm"
      },
      "source": [
        "import numpy as np\n",
        "import math\n",
        "\n",
        "for count_dwl, dwl in enumerate(dwls):\n",
        "  print(\"loading : \", count_dwl)\n",
        "  framesize = int(dwl.data.get(cv2.CAP_PROP_FRAME_COUNT)) # フレームの数\n",
        "  cutTiming = math.floor(framesize / format1.FRAME_SIZE)\n",
        "\n",
        "  cutTail = cutTiming * format1.FRAME_SIZE\n",
        "\n",
        "  normalVideo = []\n",
        "  count = 0\n",
        "  while count <= cutTail - 1:\n",
        "    IO, frame = dwl.data.read()\n",
        "    if (count % cutTiming) == 0:\n",
        "      if not IO:\n",
        "        print(\"error in : \", count_dwl) \n",
        "        break\n",
        "      else: \n",
        "        fixedFrame = cv2.resize(frame, dsize=(format1.WIDTH, format1.HEIGHT))\n",
        "        normalVideo.append(fixedFrame)\n",
        "    else:\n",
        "      pass\n",
        "\n",
        "    count += 1\n",
        "\n",
        "  dwl.data = np.array(normalVideo)"
      ],
      "execution_count": null,
      "outputs": []
    },
    {
      "cell_type": "code",
      "metadata": {
        "id": "XrZbDMf_AabM"
      },
      "source": [
        "# 適当なものを選んで見てみる\n",
        "picks = [39, 40, 89, 112]\n",
        "\n",
        "for pick in picks:\n",
        "  sample = dwls[pick].data\n",
        "  print(pick)\n",
        "  for i in range(30):\n",
        "    display_ndarray(sample[i])"
      ],
      "execution_count": null,
      "outputs": []
    },
    {
      "cell_type": "code",
      "metadata": {
        "id": "jiO3ZwVib3Oh"
      },
      "source": [
        "import matplotlib.pyplot as plt\n",
        "import cv2\n",
        "def display_ndarray(image):\n",
        "  img = cv2.cvtColor(image, cv2.COLOR_BGR2RGB)\n",
        "  plt.imshow(img)\n",
        "  plt.show()"
      ],
      "execution_count": 59,
      "outputs": []
    },
    {
      "cell_type": "code",
      "metadata": {
        "id": "HnxvDwlleaMZ"
      },
      "source": [
        "#整形データを保存\n",
        "np.save(os.path.join(desk, 'normalTrainData'), dwls[0].data)\n",
        "A = np.load('/content/desk/normalTrainData.npy')\n",
        "display_ndarray(A[0])"
      ],
      "execution_count": 307,
      "outputs": []
    },
    {
      "cell_type": "code",
      "metadata": {
        "id": "d4Y85543krGi"
      },
      "source": [
        "videos = []\n",
        "labels = []\n",
        "for dwl in dwls:\n",
        "  videos.append(dwl.data)\n"
      ],
      "execution_count": 311,
      "outputs": []
    },
    {
      "cell_type": "code",
      "metadata": {
        "id": "034x1YJ9ljdv"
      },
      "source": [
        "np.savez(os.path.join(desk, 'normalTrainVideos'), *videos)\n",
        "np.savez(os.path.join(desk, 'normalTrainLabels'), *labels)"
      ],
      "execution_count": 323,
      "outputs": []
    },
    {
      "cell_type": "code",
      "metadata": {
        "id": "lzkqRdHtmGHb"
      },
      "source": [
        "v = np.load('/content/desk/normalTrainVideos.npz')\n",
        "l = np.load('/content/desk/normalTrainLabels.npz')"
      ],
      "execution_count": 324,
      "outputs": []
    },
    {
      "cell_type": "code",
      "metadata": {
        "id": "FFq6_jCfnE2Y",
        "outputId": "c38af85f-8e23-4e2e-c763-3aa6eabf1b18",
        "colab": {
          "base_uri": "https://localhost:8080/",
          "height": 238
        }
      },
      "source": [
        "oneVideo = v['arr_0']\n",
        "display_ndarray(oneVideo[10])"
      ],
      "execution_count": 327,
      "outputs": [
        {
          "output_type": "display_data",
          "data": {
            "image/png": "[encoded data removed]",
            "text/plain": [
              "<Figure size 432x288 with 1 Axes>"
            ]
          },
          "metadata": {
            "tags": [],
            "needs_background": "light"
          }
        }
      ]
    },
    {
      "cell_type": "markdown",
      "metadata": {
        "id": "2AghYWryL0CS"
      },
      "source": [
        "# [A-3]モデルの作成"
      ]
    },
    {
      "cell_type": "code",
      "metadata": {
        "colab": {
          "base_uri": "https://localhost:8080/"
        },
        "id": "S89YfRxnLDud",
        "outputId": "bf4a103b-7e38-4f2d-d441-06348105bdcf"
      },
      "source": [
        "#@title 入力データの情報を規定\n",
        "colorSet = {'BW' : 1, 'RGB' : 3}\n",
        "\n",
        "#入力層の設定\n",
        "input_frameWIDTH = format1.WIDTH\n",
        "input_frameHEIGHT = format1.HEIGHT\n",
        "input_frameSIZE = format1.FRAME_SIZE\n",
        "input_frameCOLOR = colorSet['RGB']\n",
        "input_allPattern = input_frameWIDTH * input_frameHEIGHT * input_frameSIZE * input_frameCOLOR\n",
        "\n",
        "print(\n",
        "    input_frameWIDTH,\n",
        "    input_frameHEIGHT,\n",
        "    input_frameSIZE,\n",
        "    input_frameCOLOR,\n",
        "    input_allPattern )"
      ],
      "execution_count": 263,
      "outputs": [
        {
          "output_type": "stream",
          "text": [
            "80 45 30 3 324000\n"
          ],
          "name": "stdout"
        }
      ]
    },
    {
      "cell_type": "code",
      "metadata": {
        "id": "A9hlEm4-b_ey"
      },
      "source": [
        "#@title モデルの作成\n",
        "from tensorflow.keras import layers, models, initializers, callbacks\n",
        "import tensorflow as tf\n",
        "import numpy as np\n",
        "\n",
        "seedKey = 20201218\n",
        "\n",
        "np.random.seed(seedKey)\n",
        "tf.random.set_seed(seedKey)\n",
        "\n",
        "model = models.Sequential([\n",
        "    # 入力層        \n",
        "    layers.Reshape(\n",
        "        (input_frameSIZE, input_frameHEIGHT, input_frameWIDTH,  input_frameCOLOR), \n",
        "        input_shape=(input_allPattern,),\n",
        "        name='ENTRANCE' ),\n",
        "    # 中間層\n",
        "    layers.Flatten(\n",
        "        name='RIVER' ),\n",
        "    layers.Dense(\n",
        "      1024, # 1024項\n",
        "      activation='relu',\n",
        "      name='DAM' ),\n",
        "    # 出力層\n",
        "    layers.Dense(4, activation='softmax', name='WATERSUPPLY')\n",
        "])\n",
        "\n",
        "name_model = 'key' + str(seedKey)\n",
        "name_model = name_model + '.h5'\n",
        "path_model = os.path.join('/content/desk/', name_model)\n",
        "model.save(path_model)\n",
        "\n",
        "# del model\n",
        "# import gc\n",
        "# gc.collect()"
      ],
      "execution_count": 379,
      "outputs": []
    },
    {
      "cell_type": "code",
      "metadata": {
        "colab": {
          "base_uri": "https://localhost:8080/",
          "height": 805
        },
        "id": "2zTmwfOlcWR6",
        "outputId": "113d5999-6e45-4e93-8e33-74a5c668dd41"
      },
      "source": [
        "#表示\n",
        "model.summary()\n",
        "from tensorflow.keras.utils import plot_model\n",
        "plot_model(\n",
        "  model,\n",
        "  show_shapes=True,\n",
        "  )"
      ],
      "execution_count": 353,
      "outputs": [
        {
          "output_type": "stream",
          "text": [
            "Model: \"sequential_1\"\n",
            "_________________________________________________________________\n",
            "Layer (type)                 Output Shape              Param #   \n",
            "=================================================================\n",
            "ENTRANCE (Reshape)           (None, 30, 45, 80, 3)     0         \n",
            "_________________________________________________________________\n",
            "RIVER (Flatten)              (None, 324000)            0         \n",
            "_________________________________________________________________\n",
            "DAM (Dense)                  (None, 1024)              331777024 \n",
            "_________________________________________________________________\n",
            "WATERSUPPLY (Dense)          (None, 4)                 4100      \n",
            "=================================================================\n",
            "Total params: 331,781,124\n",
            "Trainable params: 331,781,124\n",
            "Non-trainable params: 0\n",
            "_________________________________________________________________\n"
          ],
          "name": "stdout"
        },
        {
          "output_type": "execute_result",
          "data": {
            "image/png": "[encoded data removed]",
            "text/plain": [
              "<IPython.core.display.Image object>"
            ]
          },
          "metadata": {
            "tags": []
          },
          "execution_count": 353
        }
      ]
    },
    {
      "cell_type": "markdown",
      "metadata": {
        "id": "7mYb1Eo8LzSZ"
      },
      "source": [
        "# [A-4]学習"
      ]
    },
    {
      "cell_type": "code",
      "metadata": {
        "id": "st7bA8hCePqA"
      },
      "source": [
        "#@title 学習データ用意\n",
        "import numpy as np\n",
        "\n",
        "v = np.load('/content/desk/normalTrainVideos.npz')\n",
        "l = np.load('/content/desk/normalTrainLabels.npz')"
      ],
      "execution_count": null,
      "outputs": []
    },
    {
      "cell_type": "code",
      "metadata": {
        "id": "rmkL_in2pH3h"
      },
      "source": [
        "\n",
        "  train_videos = data['normalTrainVideos.npz']\n",
        "  train_labels = data['normalTrainLabels.npz']\n",
        "\n",
        "  # test_examples = data['x_test']\n",
        "  # test_labels = data['y_test']"
      ],
      "execution_count": null,
      "outputs": []
    },
    {
      "cell_type": "code",
      "metadata": {
        "id": "nU5WEuZBo_xl",
        "outputId": "6417644b-af0d-4b89-a8e6-a616ea998942",
        "colab": {
          "base_uri": "https://localhost:8080/"
        }
      },
      "source": [
        "print('/content/desk/normalTrainLabels.npz')"
      ],
      "execution_count": 330,
      "outputs": [
        {
          "output_type": "stream",
          "text": [
            "/content/desk/normalTrainLabels.npz\n"
          ],
          "name": "stdout"
        }
      ]
    },
    {
      "cell_type": "code",
      "metadata": {
        "id": "PosuvpOhoqAx"
      },
      "source": [
        "import numpy as np\n",
        "import tensorflow as tf\n",
        "import tensorflow_datasets as tfds\n",
        "\n",
        "train_dataset = tf.data.Dataset.from_tensor_slices((train_examples, train_labels))"
      ],
      "execution_count": null,
      "outputs": []
    },
    {
      "cell_type": "code",
      "metadata": {
        "colab": {
          "base_uri": "https://localhost:8080/"
        },
        "id": "kAdaSO9AYFZD",
        "outputId": "c2bf2dde-ba27-4e37-bebd-b3ab22fc33ca"
      },
      "source": [
        "#@title 学習データ用意\n",
        "import numpy as np\n",
        "\n",
        "try:\n",
        "  print(videos)\n",
        "except:\n",
        "  train_videos = np.load('/content/drive/MyDrive/colab/start/npVideos.npy')  \n",
        "  train_labels = np.load('/content/drive/MyDrive/colab/start/npLabels.npy')  \n",
        "  print(\"Use before data\")\n",
        "else:\n",
        "  train_videos = fixed_videos.reshape(len(videos), input_allPattern).astype('float32')/255\n",
        "  train_labels = []\n",
        "  print(\"Use recent data\")\n",
        "  for video in videos:\n",
        "    train_labels.append(LABEL[video.label])\n",
        "  \n",
        "  train_labels = tf.keras.utils.to_categorical(train_labels, 4)\n",
        "  np.save('/content/desk/npVideos', train_videos)\n",
        "  np.save('/content/desk/npLabels', train_labels)"
      ],
      "execution_count": 37,
      "outputs": [
        {
          "output_type": "stream",
          "text": [
            "Use before data\n"
          ],
          "name": "stdout"
        }
      ]
    },
    {
      "cell_type": "code",
      "metadata": {
        "id": "D_jDvyYmDkYG"
      },
      "source": [
        "def inverse_dict(d):\n",
        "    return {v:k for k,v in d.items()}\n",
        "\n",
        "losses = {\n",
        "    'CEE' : 'categorical_crossentropy',\n",
        "    'MSE' : 'mean_squared_error',\n",
        "    'MSLE' : 'mean_squared_logarithmic_error',\n",
        "    'MAE' : 'mean_absolute_error',\n",
        "}\n",
        "inv_losses = inverse_dict(losses)"
      ],
      "execution_count": 350,
      "outputs": []
    },
    {
      "cell_type": "code",
      "metadata": {
        "id": "AjjNBFulxPgd",
        "outputId": "d49b913e-6e07-4103-a49a-78d882dcc1a2",
        "colab": {
          "base_uri": "https://localhost:8080/"
        }
      },
      "source": [
        "type(train_videos)"
      ],
      "execution_count": 367,
      "outputs": [
        {
          "output_type": "execute_result",
          "data": {
            "text/plain": [
              "numpy.ndarray"
            ]
          },
          "metadata": {
            "tags": []
          },
          "execution_count": 367
        }
      ]
    },
    {
      "cell_type": "code",
      "metadata": {
        "id": "MqL3sIIys4oT",
        "outputId": "c66898dd-c4b0-4353-9710-c8a23f645950",
        "colab": {
          "base_uri": "https://localhost:8080/"
        }
      },
      "source": [
        "train_videos = np.array(videos)\n",
        "train_videos = train_videos.reshape(len(train_videos), input_allPattern).astype('float32')/255\n",
        "train_videos.shape"
      ],
      "execution_count": 365,
      "outputs": [
        {
          "output_type": "execute_result",
          "data": {
            "text/plain": [
              "(129, 324000)"
            ]
          },
          "metadata": {
            "tags": []
          },
          "execution_count": 365
        }
      ]
    },
    {
      "cell_type": "code",
      "metadata": {
        "id": "J9_ASz6RtJX6"
      },
      "source": [
        "train_labels = tf.keras.utils.to_categorical(labels, 4)"
      ],
      "execution_count": 368,
      "outputs": []
    },
    {
      "cell_type": "code",
      "metadata": {
        "id": "X7Hj2dSEsF1x",
        "outputId": "f43c9676-5f8d-4e4e-9917-51f290814ec6",
        "colab": {
          "base_uri": "https://localhost:8080/"
        }
      },
      "source": [
        "model.compile(optimizer='adam', \n",
        "                loss = 'categorical_crossentropy',\n",
        "                # loss = 'mean_squared_error',\n",
        "                metrics=['acc'])\n",
        "\n",
        "history = model.fit(\n",
        "      train_videos, \n",
        "      train_labels, \n",
        "      batch_size=5,\n",
        "      epochs=40\n",
        "      )"
      ],
      "execution_count": 380,
      "outputs": [
        {
          "output_type": "stream",
          "text": [
            "Epoch 1/40\n",
            "26/26 [==============================] - 2s 69ms/step - loss: 539.0819 - acc: 0.3208\n",
            "Epoch 2/40\n",
            "26/26 [==============================] - 2s 68ms/step - loss: 160.7535 - acc: 0.4729\n",
            "Epoch 3/40\n",
            "26/26 [==============================] - 2s 69ms/step - loss: 75.9555 - acc: 0.5632\n",
            "Epoch 4/40\n",
            "26/26 [==============================] - 2s 69ms/step - loss: 37.1179 - acc: 0.7044\n",
            "Epoch 5/40\n",
            "26/26 [==============================] - 2s 69ms/step - loss: 80.1062 - acc: 0.6131\n",
            "Epoch 6/40\n",
            "26/26 [==============================] - 2s 68ms/step - loss: 21.5871 - acc: 0.7473\n",
            "Epoch 7/40\n",
            "26/26 [==============================] - 2s 68ms/step - loss: 41.3338 - acc: 0.7555\n",
            "Epoch 8/40\n",
            "26/26 [==============================] - 2s 68ms/step - loss: 2.9839 - acc: 0.9397\n",
            "Epoch 9/40\n",
            "26/26 [==============================] - 2s 69ms/step - loss: 21.3553 - acc: 0.7477\n",
            "Epoch 10/40\n",
            "26/26 [==============================] - 2s 69ms/step - loss: 28.0160 - acc: 0.7683\n",
            "Epoch 11/40\n",
            "26/26 [==============================] - 2s 69ms/step - loss: 28.4612 - acc: 0.7976\n",
            "Epoch 12/40\n",
            "26/26 [==============================] - 2s 69ms/step - loss: 24.7103 - acc: 0.8286\n",
            "Epoch 13/40\n",
            "26/26 [==============================] - 2s 69ms/step - loss: 7.3479 - acc: 0.9163\n",
            "Epoch 14/40\n",
            "26/26 [==============================] - 2s 68ms/step - loss: 13.1544 - acc: 0.8427\n",
            "Epoch 15/40\n",
            "26/26 [==============================] - 2s 69ms/step - loss: 7.1668 - acc: 0.8845\n",
            "Epoch 16/40\n",
            "26/26 [==============================] - 2s 69ms/step - loss: 18.0639 - acc: 0.8696\n",
            "Epoch 17/40\n",
            "26/26 [==============================] - 2s 69ms/step - loss: 5.0010 - acc: 0.9461\n",
            "Epoch 18/40\n",
            "26/26 [==============================] - 2s 69ms/step - loss: 4.3976 - acc: 0.9154\n",
            "Epoch 19/40\n",
            "26/26 [==============================] - 2s 69ms/step - loss: 1.2433 - acc: 0.9758\n",
            "Epoch 20/40\n",
            "26/26 [==============================] - 2s 69ms/step - loss: 0.8408 - acc: 0.9903\n",
            "Epoch 21/40\n",
            "26/26 [==============================] - 2s 69ms/step - loss: 0.1155 - acc: 0.9884\n",
            "Epoch 22/40\n",
            "26/26 [==============================] - 2s 69ms/step - loss: 0.0839 - acc: 0.9962\n",
            "Epoch 23/40\n",
            "26/26 [==============================] - 2s 70ms/step - loss: 0.6215 - acc: 0.9816\n",
            "Epoch 24/40\n",
            "26/26 [==============================] - 2s 69ms/step - loss: 1.8484 - acc: 0.9452\n",
            "Epoch 25/40\n",
            "26/26 [==============================] - 2s 69ms/step - loss: 4.4893 - acc: 0.8964\n",
            "Epoch 26/40\n",
            "26/26 [==============================] - 2s 69ms/step - loss: 38.3802 - acc: 0.7665\n",
            "Epoch 27/40\n",
            "26/26 [==============================] - 2s 69ms/step - loss: 7.0947 - acc: 0.8756\n",
            "Epoch 28/40\n",
            "26/26 [==============================] - 2s 69ms/step - loss: 5.7048 - acc: 0.9207\n",
            "Epoch 29/40\n",
            "26/26 [==============================] - 2s 68ms/step - loss: 5.7617 - acc: 0.9545\n",
            "Epoch 30/40\n",
            "26/26 [==============================] - 2s 69ms/step - loss: 9.8060 - acc: 0.9157\n",
            "Epoch 31/40\n",
            "26/26 [==============================] - 2s 69ms/step - loss: 0.4864 - acc: 0.9784\n",
            "Epoch 32/40\n",
            "26/26 [==============================] - 2s 69ms/step - loss: 6.5887 - acc: 0.8654\n",
            "Epoch 33/40\n",
            "26/26 [==============================] - 2s 69ms/step - loss: 3.9245 - acc: 0.8826\n",
            "Epoch 34/40\n",
            "26/26 [==============================] - 2s 69ms/step - loss: 2.1638 - acc: 0.9424\n",
            "Epoch 35/40\n",
            "26/26 [==============================] - 2s 69ms/step - loss: 1.8343 - acc: 0.9402\n",
            "Epoch 36/40\n",
            "26/26 [==============================] - 2s 69ms/step - loss: 0.3235 - acc: 0.9678\n",
            "Epoch 37/40\n",
            "26/26 [==============================] - 2s 69ms/step - loss: 0.5288 - acc: 0.9730\n",
            "Epoch 38/40\n",
            "26/26 [==============================] - 2s 69ms/step - loss: 0.1533 - acc: 0.9799\n",
            "Epoch 39/40\n",
            "26/26 [==============================] - 2s 69ms/step - loss: 3.8426 - acc: 0.8943\n",
            "Epoch 40/40\n",
            "26/26 [==============================] - 2s 69ms/step - loss: 0.2651 - acc: 0.9837\n"
          ],
          "name": "stdout"
        }
      ]
    },
    {
      "cell_type": "code",
      "metadata": {
        "id": "J7rX-k_9xuL9",
        "outputId": "da45ddcc-ad80-41fd-81c9-a5ed97e0af96",
        "colab": {
          "base_uri": "https://localhost:8080/",
          "height": 295
        }
      },
      "source": [
        "plotAcc(history)"
      ],
      "execution_count": 381,
      "outputs": [
        {
          "output_type": "display_data",
          "data": {
            "image/png": "[encoded data removed]",
            "text/plain": [
              "<Figure size 432x288 with 1 Axes>"
            ]
          },
          "metadata": {
            "tags": [],
            "needs_background": "light"
          }
        }
      ]
    },
    {
      "cell_type": "code",
      "metadata": {
        "id": "S2QcmAt1xl15"
      },
      "source": [
        "def plotAcc(history):\n",
        "  fig = plt.figure()\n",
        "  ACC = fig.add_subplot(1,1,1)\n",
        "\n",
        "  props = {\n",
        "      'title' : 'plot of ACCURACY',\n",
        "      'xlabel' : 'epoch',\n",
        "      'ylabel' : 'value'\n",
        "  }\n",
        "  ACC.set(**props)\n",
        "\n",
        "  acc = DataFrame(history.history['acc'])\n",
        "  ACC.plot(acc, label='acc', marker='o', color='blue')\n",
        "\n",
        "  ACC.legend()"
      ],
      "execution_count": 375,
      "outputs": []
    },
    {
      "cell_type": "code",
      "metadata": {
        "id": "7NO1lFV13UR7"
      },
      "source": [
        "#@title 学習・学習評価設定\n",
        "def learning(model):\n",
        "  model.compile(optimizer='adam', \n",
        "                loss = losses['CEE'],\n",
        "                metrics=['acc'])\n",
        "  \n",
        "  history = model.fit(\n",
        "      train_videos, \n",
        "      train_labels, \n",
        "      batch_size=5,\n",
        "      epochs=10\n",
        "      )\n",
        "  plotAcc(history, now)\n",
        "  plotLoss(history, now)\n",
        "\n",
        "  return inv_losses[loss]\n",
        "\n",
        "import matplotlib.pyplot as plt\n",
        "from pandas import DataFrame\n",
        "import os\n",
        "\n",
        "def plotAcc(history, now):\n",
        "  fig = plt.figure()\n",
        "  ACC = fig.add_subplot(1,1,1)\n",
        "\n",
        "  props = {\n",
        "      'title' : 'plot of ACCURACY',\n",
        "      'xlabel' : 'epoch',\n",
        "      'ylabel' : 'value',\n",
        "      #  'ylim' : [0.2727,0.27275]\n",
        "  }\n",
        "  ACC.set(**props)\n",
        "\n",
        "  acc = DataFrame(history.history['acc'])\n",
        "  # val_acc = DataFrame(history.history['val_acc'])\n",
        "  ACC.plot(acc, label='acc', marker='o', color='blue')\n",
        "  # ACC.plot(val_acc, label='val_acc', marker='o', linestyle='--', color='orange')\n",
        "\n",
        "  ACC.legend()\n",
        "\n",
        "  #画像保存\n",
        "  name_image = now + '_acc' \n",
        "  path_image = os.path.join('/content/desk', name_image)\n",
        "  fig.savefig(path_image)\n",
        "\n",
        "def plotLoss(history, now):\n",
        "  fig = plt.figure()\n",
        "  LOSS = fig.add_subplot(1,1,1)\n",
        "\n",
        "  props = {\n",
        "      'title' : 'plot of LOSS',\n",
        "      'xlabel' : 'epoch',\n",
        "      'ylabel' : 'value',\n",
        "      # 'ylim' : [0, 0.01]\n",
        "  }\n",
        "  LOSS.set(**props)\n",
        "\n",
        "  loss = DataFrame(history.history['loss'])\n",
        "  # val_loss = DataFrame(history.history['val_loss'])\n",
        "  LOSS.plot(loss, label='loss', marker='o', color='blue')\n",
        "  # LOSS.plot(val_loss, label='val_loss', marker='o', linestyle='--', color='orange')\n",
        "\n",
        "  LOSS.legend()\n",
        "\n",
        "  #画像保存\n",
        "  name_image = now + '_loss' \n",
        "  path_image= os.path.join('/content/desk', name_image)\n",
        "  fig.savefig(path_image)"
      ],
      "execution_count": 348,
      "outputs": []
    },
    {
      "cell_type": "markdown",
      "metadata": {
        "id": "gN9MMkqbuYv9"
      },
      "source": [
        "## 学習"
      ]
    },
    {
      "cell_type": "code",
      "metadata": {
        "colab": {
          "base_uri": "https://localhost:8080/"
        },
        "id": "qlkFoW06nNKu",
        "outputId": "c38945eb-306f-486e-936b-e32cc5c29389"
      },
      "source": [
        "import datetime\n",
        "import time\n",
        "\n",
        "name_model = 'key20201218.h5'  \n",
        "path_model = os.path.join('/content/desk/', name_model)\n",
        "\n",
        "Model = models.load_model(path_model)\n",
        "date = datetime.datetime.now(datetime.timezone(datetime.timedelta(hours=9)))\n",
        "dt_now_jst = date.strftime('%H!%M!%S')\n",
        "\n",
        "try:\n",
        "   use_loss = learning(Model, dt_now_jst)\n",
        "except:\n",
        "  print(\"error\")\n",
        "else:\n",
        "  # モデル保存\n",
        "  when = date.strftime(\"%Y%m%d\") \n",
        "  name_model = use_loss + '_' + when\n",
        "\n",
        "  name_model = name_model + '.h5'\n",
        "  path_model = os.path.join('/content/desk/', name_model)\n",
        "  Model.save(path_model)\n",
        "finally:\n",
        "  del Model\n",
        "  import gc\n",
        "  gc.collect()\n",
        "\n"
      ],
      "execution_count": 349,
      "outputs": [
        {
          "output_type": "stream",
          "text": [
            "WARNING:tensorflow:No training configuration found in the save file, so the model was *not* compiled. Compile it manually.\n",
            "error\n"
          ],
          "name": "stdout"
        }
      ]
    },
    {
      "cell_type": "markdown",
      "metadata": {
        "id": "7xECtuTNphxI"
      },
      "source": [
        "#ストレージへ保存"
      ]
    },
    {
      "cell_type": "code",
      "metadata": {
        "id": "jZAydlvasxPc"
      },
      "source": [
        "shelf = '/content/drive/MyDrive/colab/dence'\n",
        "if not os.path.exists(shelf):\n",
        "  os.mkdir(shelf)"
      ],
      "execution_count": 115,
      "outputs": []
    },
    {
      "cell_type": "code",
      "metadata": {
        "id": "Ss4IH3BWq1ed"
      },
      "source": [
        "wants = [\n",
        "         '/content/desk/key20201218.h5'\n",
        "]"
      ],
      "execution_count": 116,
      "outputs": []
    },
    {
      "cell_type": "code",
      "metadata": {
        "id": "S4fECWqPrT4f"
      },
      "source": [
        "import shutil\n",
        "for want in wants:\n",
        "  shutil.copy2(\n",
        "      want,\n",
        "      shelf\n",
        "  )\n",
        "              "
      ],
      "execution_count": 117,
      "outputs": []
    },
    {
      "cell_type": "code",
      "metadata": {
        "id": "RwMxhwKCIfyo"
      },
      "source": [
        "/content/desk/key20201218.h5"
      ],
      "execution_count": null,
      "outputs": []
    }
  ]
}