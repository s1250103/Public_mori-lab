{
  "nbformat": 4,
  "nbformat_minor": 0,
  "metadata": {
    "colab": {
      "name": "tool.ipynb",
      "provenance": [],
      "collapsed_sections": [
        "o7aF5olQLzzr"
      ],
      "authorship_tag": "ABX9TyOjvYLDT2tZ5wFO58MoSscy",
      "include_colab_link": true
    },
    "kernelspec": {
      "display_name": "Python 3",
      "name": "python3"
    },
    "accelerator": "GPU"
  },
  "cells": [
    {
      "cell_type": "markdown",
      "metadata": {
        "id": "view-in-github",
        "colab_type": "text"
      },
      "source": [
        "<a href=\"https://colab.research.google.com/github/s1250103/Public_mori-lab/blob/b__wide/experiments/b_wide/Implement/tool.ipynb\" target=\"_parent\"><img src=\"https://colab.research.google.com/assets/colab-badge.svg\" alt=\"Open In Colab\"/></a>"
      ]
    },
    {
      "cell_type": "code",
      "metadata": {
        "colab": {
          "base_uri": "https://localhost:8080/"
        },
        "id": "8VLZTe-_Fz-G",
        "outputId": "c929782a-e13b-4b1a-c25a-cd1e1e1b094a"
      },
      "source": [
        "#@title gdrive マウント\n",
        "from google.colab import drive\n",
        "from os import path\n",
        "if not path.exists('/content/drive'):\n",
        "  drive.mount('/content/drive')\n",
        "else:\n",
        "  print(\"Already confirm\")"
      ],
      "execution_count": 1,
      "outputs": [
        {
          "output_type": "stream",
          "text": [
            "Mounted at /content/drive\n"
          ],
          "name": "stdout"
        }
      ]
    },
    {
      "cell_type": "markdown",
      "metadata": {
        "id": "o7aF5olQLzzr"
      },
      "source": [
        "# [A-2]環境構築"
      ]
    },
    {
      "cell_type": "code",
      "metadata": {
        "id": "oYipUsyqxhvC"
      },
      "source": [
        "import tensorflow as tf\n",
        "import numpy as np\n",
        "np.random.seed(20201218)\n",
        "tf.random.set_seed(20201218)"
      ],
      "execution_count": 2,
      "outputs": []
    },
    {
      "cell_type": "code",
      "metadata": {
        "id": "VVHimjBTJ_7Y"
      },
      "source": [
        "import os\n",
        "desk = '/content/desk'\n",
        "if not os.path.exists(desk):\n",
        "  os.mkdir(desk)\n",
        "os.chdir(desk)"
      ],
      "execution_count": 3,
      "outputs": []
    },
    {
      "cell_type": "code",
      "metadata": {
        "id": "eBIQL82BN3Ny"
      },
      "source": [
        "#@title データフォーマットを規定\n",
        "class video_format:\n",
        "  name = \"video_format\"\n",
        "  # サンプリングされたCMデータの仕様\n",
        "  playtime = \"15秒\"\n",
        "  displaysize = \"(any, any, RGB)\"\n",
        "  videoformat = \"any\"\n",
        "  # モデルが扱うCMデータ(上のようなデータは、下のように変換される)\n",
        "  HEIGHT = 45\n",
        "  WIDTH = 80\n",
        "  FRAME_SIZE = 30\n",
        "  COLOR = \"RGB\"\n",
        "  FPS = \"2 (FRAME_SIZE / playtime)\" # 定義ではなく上から導かれた値\n",
        "  \n",
        "format1 = video_format()"
      ],
      "execution_count": 4,
      "outputs": []
    },
    {
      "cell_type": "markdown",
      "metadata": {
        "id": "8acjLttSNX2W"
      },
      "source": [
        "# [A-1]データ取得・整形"
      ]
    },
    {
      "cell_type": "markdown",
      "metadata": {
        "id": "fOOHfdAyM8ev"
      },
      "source": [
        "## [A-1-1]データ取得"
      ]
    },
    {
      "cell_type": "code",
      "metadata": {
        "id": "SW8mokcv-Cxm"
      },
      "source": [
        "# データパス\n",
        "path_data = \"/content/drive/MyDrive/CM_vid2019\""
      ],
      "execution_count": null,
      "outputs": []
    },
    {
      "cell_type": "code",
      "metadata": {
        "id": "YDYnJys3Hn78"
      },
      "source": [
        "#@title 教師ラベルを規定\n",
        "# ラベルの集合とディレクトリ名の対応(既知なので)\n",
        "LABEL = {\n",
        "    'other' : 0, \n",
        "    'food' : 1,\n",
        "    'car' : 2,\n",
        "    'cosme' : 3\n",
        "    }"
      ],
      "execution_count": 3,
      "outputs": []
    },
    {
      "cell_type": "code",
      "metadata": {
        "cellView": "code",
        "colab": {
          "base_uri": "https://localhost:8080/"
        },
        "id": "9z7A9VZfixn1",
        "outputId": "43eb0e5e-6dd5-4ed0-abec-e5d4422fb375"
      },
      "source": [
        "#@title データの取得\n",
        "from os import path\n",
        "from os import listdir\n",
        "import cv2\n",
        "import numpy as np\n",
        "import math\n",
        "\n",
        "class VIDEO:\n",
        "  data = 'original content'\n",
        "  label = 'label for learning'\n",
        "  path = 'path of data'\n",
        "  WIDTTH = 'width of original frame'\n",
        "  HEIGHT = 'height of original frame'\n",
        "  FRAME_SIZE = 'number of all frames in a video'\n",
        "  FPS = 'FRAME_SIZE / play time(second)'\n",
        "  TIME = 'play time'\n",
        "  def __init__ (self, path_video, label):\n",
        "    self.data = cv2.VideoCapture(path_video) # 動画の内容\n",
        "    self.label = label # 教師ラベル\n",
        "\n",
        "    self.path = path_video # 動画の場所 \n",
        "    self.WIDTH = self.data.get(cv2.CAP_PROP_FRAME_WIDTH) # フレームの幅\n",
        "    self.HEIGHT = self.data.get(cv2.CAP_PROP_FRAME_HEIGHT) # フレームの高さ\n",
        "    self.FRAME_SIZE = self.data.get(cv2.CAP_PROP_FRAME_COUNT) # フレームの数\n",
        "    self.FPS = self.data.get(cv2.CAP_PROP_FPS) # FPS = フレーム数 / 秒数：(Frame Per Second)\n",
        "    # 時間\n",
        "    try:\n",
        "      self.time = round(self.FRAME_SIZE / self.FPS)\n",
        "    except ZeroDivisionError:\n",
        "      self.time = None\n",
        "      \n",
        "except_file = '.DS_Store'\n",
        "videos = []\n",
        "\n",
        "sw.start()\n",
        "# 教師ラベル毎に読み込んでいく（仕様により。仕様：教師ラベルのディレクトリがファイルを内包）\n",
        "for dir_label in LABEL:\n",
        "  header = LABEL[dir_label]\n",
        "  package = str(header) + '.' + dir_label\n",
        "  path_dir_label = path.join(path_data, package)\n",
        "  print(path_dir_label, \n",
        "        \"\\n-------------------------------------------------------------------------------------------\")\n",
        "  set_file = listdir(path_dir_label)\n",
        "  # ファイルごとになっている\n",
        "  for file in set_file:\n",
        "    if not file == except_file:\n",
        "      path_file = path.join(path_dir_label, file)\n",
        "      print(path_file)\n",
        "      # ファイルからビデオ情報を取得\n",
        "      video = VIDEO(path_file, dir_label)\n",
        "      # 格納\n",
        "      videos.append(video)\n",
        "  print(\"========================================================\\n\\n \")\n",
        "\n",
        "print(\"SUM : \", len(videos))\n"
      ],
      "execution_count": 5,
      "outputs": [
        {
          "output_type": "stream",
          "text": [
            "/content/drive/MyDrive/CM_vid2019/0.other \n",
            "-------------------------------------------------------------------------------------------\n",
            "/content/drive/MyDrive/CM_vid2019/0.other/Yamato_宅急便コンパクト.mpg\n",
            "/content/drive/MyDrive/CM_vid2019/0.other/ZURICH_保険_チューリッヒ保険_30秒.mp4\n",
            "/content/drive/MyDrive/CM_vid2019/0.other/刑事7人[2].mp4\n",
            "/content/drive/MyDrive/CM_vid2019/0.other/メットライフ生命_MetLife.mp4\n",
            "/content/drive/MyDrive/CM_vid2019/0.other/刑事7人.mp4\n",
            "/content/drive/MyDrive/CM_vid2019/0.other/XFLAG_ゲーム_モンスターストライク超獣神祭.mp4\n",
            "/content/drive/MyDrive/CM_vid2019/0.other/ソフラン_クイーンズシルク.mp4\n",
            "/content/drive/MyDrive/CM_vid2019/0.other/ダイソン_掃除_dyson v8.mp4\n",
            "/content/drive/MyDrive/CM_vid2019/0.other/東宝_青空エール.mp4\n",
            "/content/drive/MyDrive/CM_vid2019/0.other/大東電機工業_THRIVE.mp4\n",
            "/content/drive/MyDrive/CM_vid2019/0.other/au_Wallet_30秒.mpg\n",
            "/content/drive/MyDrive/CM_vid2019/0.other/ロート_スキンAQUA 日焼け留め.mpg\n",
            "/content/drive/MyDrive/CM_vid2019/0.other/大東建託_賃貸経営受託システム.mp4\n",
            "/content/drive/MyDrive/CM_vid2019/0.other/家庭教師のトライ_夏トライ.mp4\n",
            "/content/drive/MyDrive/CM_vid2019/0.other/東北電力_よりそうちから_30秒.mp4\n",
            "/content/drive/MyDrive/CM_vid2019/0.other/第一三共_第一三共胃腸薬プラス.mp4\n",
            "/content/drive/MyDrive/CM_vid2019/0.other/ノーシンAI頭痛薬.mp4\n",
            "/content/drive/MyDrive/CM_vid2019/0.other/第一三共_クリーンデンタル.mp4\n",
            "/content/drive/MyDrive/CM_vid2019/0.other/亀岡工務店_KDS.mp4\n",
            "/content/drive/MyDrive/CM_vid2019/0.other/gsk_薬品_ボルタレン.mp4\n",
            "/content/drive/MyDrive/CM_vid2019/0.other/大塚製薬_洗髪料_ULOS.mp4\n",
            "/content/drive/MyDrive/CM_vid2019/0.other/コロプラ_白猫プロジェクト.mp4\n",
            "/content/drive/MyDrive/CM_vid2019/0.other/太田胃散_整腸薬.mp4\n",
            "/content/drive/MyDrive/CM_vid2019/0.other/楽天_クレジットカード_楽天カード.mp4\n",
            "/content/drive/MyDrive/CM_vid2019/0.other/au_ケータイ_au star.mp4\n",
            "/content/drive/MyDrive/CM_vid2019/0.other/タケダ_薬品_アリナミンA.mp4\n",
            "/content/drive/MyDrive/CM_vid2019/0.other/japanet_通販_Goods for you_30秒.mp4\n",
            "/content/drive/MyDrive/CM_vid2019/0.other/厚生労働省_臨時福祉給付金.mp4\n",
            "/content/drive/MyDrive/CM_vid2019/0.other/niraku_パチスロ_niraku.mp4\n",
            "/content/drive/MyDrive/CM_vid2019/0.other/タケダ_薬_アリナミンEX PLUS.mp4\n",
            "/content/drive/MyDrive/CM_vid2019/0.other/大成建設_For a lively life_30秒.mpg\n",
            "/content/drive/MyDrive/CM_vid2019/0.other/イーライリリー_医療_いつの間にか骨折.mp4\n",
            "/content/drive/MyDrive/CM_vid2019/0.other/会津日新館_観光_会津日新館.mp4\n",
            "/content/drive/MyDrive/CM_vid2019/0.other/住友生命_未来デザイン1UP.mp4\n",
            "/content/drive/MyDrive/CM_vid2019/0.other/新潟市水族館_観光_マリアピア.mp4\n",
            "/content/drive/MyDrive/CM_vid2019/0.other/楽天_RMobile.mp4\n",
            "/content/drive/MyDrive/CM_vid2019/0.other/コロプラ_白猫テニス.mp4\n",
            "/content/drive/MyDrive/CM_vid2019/0.other/東北電力_東北電力.mp4\n",
            "/content/drive/MyDrive/CM_vid2019/0.other/unicharm_男性用さわやかうす型パッド.mp4\n",
            "/content/drive/MyDrive/CM_vid2019/0.other/東映アニメーション_映画_ポッピンQ.mp4\n",
            "/content/drive/MyDrive/CM_vid2019/0.other/小林製薬_生理用品_サラサーティ 天然コットン100%.mp4\n",
            "/content/drive/MyDrive/CM_vid2019/0.other/music.jp_音楽アプリ_m.mp4\n",
            "/content/drive/MyDrive/CM_vid2019/0.other/たまのや_こころネットグループ.mp4\n",
            "/content/drive/MyDrive/CM_vid2019/0.other/unicharm_シルコット.mp4\n",
            "/content/drive/MyDrive/CM_vid2019/0.other/小林製薬_ハレナース.mp4\n",
            "/content/drive/MyDrive/CM_vid2019/0.other/小林製薬_サラサーティ.mp4\n",
            "/content/drive/MyDrive/CM_vid2019/0.other/au_MOON Challange.mp4\n",
            "/content/drive/MyDrive/CM_vid2019/0.other/東京ディズニーリゾート.mp4\n",
            "/content/drive/MyDrive/CM_vid2019/0.other/いきなり！黄金伝説.mp4\n",
            "/content/drive/MyDrive/CM_vid2019/0.other/楽天_アプリ_ラクマ.mp4\n",
            "/content/drive/MyDrive/CM_vid2019/0.other/健康コーポレーション_美容_ライザップ.mp4\n",
            "/content/drive/MyDrive/CM_vid2019/0.other/郡山ふれあい科学館_観光_スペースパーク.mp4\n",
            "/content/drive/MyDrive/CM_vid2019/0.other/ニトリ_わんぱく組.mp4\n",
            "========================================================\n",
            "\n",
            " \n",
            "/content/drive/MyDrive/CM_vid2019/1.food \n",
            "-------------------------------------------------------------------------------------------\n",
            "/content/drive/MyDrive/CM_vid2019/1.food/Yamazaki_ランチパック.mp4\n",
            "/content/drive/MyDrive/CM_vid2019/1.food/UHA味覚糖_ぷっちょ とろけるグミ.mp4\n",
            "/content/drive/MyDrive/CM_vid2019/1.food/meiji_ヨーグルト_LG21.mp4\n",
            "/content/drive/MyDrive/CM_vid2019/1.food/UHA味覚糖_菓子_e-maのど飴.mp4\n",
            "/content/drive/MyDrive/CM_vid2019/1.food/meiji_LG21.mp4\n",
            "/content/drive/MyDrive/CM_vid2019/1.food/meiji_ポリポリ元気.mp4\n",
            "/content/drive/MyDrive/CM_vid2019/1.food/幸楽苑_食品_豚バラチャーシュー麺.mp4\n",
            "/content/drive/MyDrive/CM_vid2019/1.food/meiji_Poifull.mp4\n",
            "/content/drive/MyDrive/CM_vid2019/1.food/Yamazaki_Daily_YAMAZAKI.mp4\n",
            "/content/drive/MyDrive/CM_vid2019/1.food/meiji_エッセルスーパーカップ.mp4\n",
            "/content/drive/MyDrive/CM_vid2019/1.food/pokka sapporo_食品_こんがりパン コーンポタージュ.mp4\n",
            "/content/drive/MyDrive/CM_vid2019/1.food/銀のスプーン_三ツ星グルメ.mp4\n",
            "/content/drive/MyDrive/CM_vid2019/1.food/雪印メグミルク_食品_さけるチーズ.mp4\n",
            "/content/drive/MyDrive/CM_vid2019/1.food/大塚製薬_食品_カロリーメイトゼリー.mp4\n",
            "/content/drive/MyDrive/CM_vid2019/1.food/フジパン_本仕込.mp4\n",
            "/content/drive/MyDrive/CM_vid2019/1.food/丸亀製麺_釜揚げうどん.mp4\n",
            "/content/drive/MyDrive/CM_vid2019/1.food/ヤクルト_ジョア.mpg\n",
            "/content/drive/MyDrive/CM_vid2019/1.food/白鶴_酒_まる.mp4\n",
            "/content/drive/MyDrive/CM_vid2019/1.food/はごろもフーズ_シーチキンSmile.mp4\n",
            "/content/drive/MyDrive/CM_vid2019/1.food/poddi_10分ごはん.mp4\n",
            "/content/drive/MyDrive/CM_vid2019/1.food/pal-system_カスタードプリン.mp4\n",
            "/content/drive/MyDrive/CM_vid2019/1.food/永谷園_あさげ.mp4\n",
            "/content/drive/MyDrive/CM_vid2019/1.food/伊藤園_飲料_おーいお茶.mp4\n",
            "/content/drive/MyDrive/CM_vid2019/1.food/柏屋_薄皮饅頭.mp4\n",
            "/content/drive/MyDrive/CM_vid2019/1.food/キューピー_食品_黒ごまと五穀.mp4\n",
            "/content/drive/MyDrive/CM_vid2019/1.food/森永乳業_飲料_アロエステ.mp4\n",
            "/content/drive/MyDrive/CM_vid2019/1.food/かっぱ寿司_食品_うまいもの祭り 夏かっぱ.mp4\n",
            "/content/drive/MyDrive/CM_vid2019/1.food/セブン&アイHLDGS_食品_ヨークベニマルの鰻.mp4\n",
            "/content/drive/MyDrive/CM_vid2019/1.food/ケンタッキー_食品_カーネリングポテト.mp4\n",
            "/content/drive/MyDrive/CM_vid2019/1.food/ペヤング_食品_ペヤングヌードル.mp4\n",
            "/content/drive/MyDrive/CM_vid2019/1.food/雪印メグミルク_食品_ガセリ菌SPヨーグルト.mp4\n",
            "/content/drive/MyDrive/CM_vid2019/1.food/いろはす_飲料_いろはすサイダー.mp4\n",
            "/content/drive/MyDrive/CM_vid2019/1.food/永谷園_お茶漬け海苔.mp4\n",
            "/content/drive/MyDrive/CM_vid2019/1.food/かっぱ寿司_食品_超うまいもの祭.mp4\n",
            "/content/drive/MyDrive/CM_vid2019/1.food/柏屋_薄皮饅頭.mpg\n",
            "/content/drive/MyDrive/CM_vid2019/1.food/永谷園_食品_麦茶漬け.mp4\n",
            "/content/drive/MyDrive/CM_vid2019/1.food/pepsi_STRONG_5.0GV.mp4\n",
            "/content/drive/MyDrive/CM_vid2019/1.food/龍角散_菓子_のどすっきり飴.mp4\n",
            "/content/drive/MyDrive/CM_vid2019/1.food/三幸製菓_チーズアーモンド.mp4\n",
            "/content/drive/MyDrive/CM_vid2019/1.food/キリン_コーヒー_FIRE.mp4\n",
            "/content/drive/MyDrive/CM_vid2019/1.food/びっくりドンキー_食品_本格スパイシーカレー.mp4\n",
            "/content/drive/MyDrive/CM_vid2019/1.food/エバラ_プチッと調味料.mp4\n",
            "/content/drive/MyDrive/CM_vid2019/1.food/白鶴_酒_大吟醸.mp4\n",
            "/content/drive/MyDrive/CM_vid2019/1.food/大正製薬_飲料_リポビタンfine.mp4\n",
            "========================================================\n",
            "\n",
            " \n",
            "/content/drive/MyDrive/CM_vid2019/2.car \n",
            "-------------------------------------------------------------------------------------------\n",
            "/content/drive/MyDrive/CM_vid2019/2.car/DAIHATSU_車_CAST.mp4\n",
            "/content/drive/MyDrive/CM_vid2019/2.car/HONDA_車_Honda Cars 福島.mp4\n",
            "/content/drive/MyDrive/CM_vid2019/2.car/ENEOS_車_ガソリンスタンド_30秒.mp4\n",
            "/content/drive/MyDrive/CM_vid2019/2.car/Honda_N-Custom.mpg\n",
            "/content/drive/MyDrive/CM_vid2019/2.car/DUNLOP_タイヤ_Winter MAXX 02.mp4\n",
            "/content/drive/MyDrive/CM_vid2019/2.car/HONDA_車_NBOX.mp4\n",
            "/content/drive/MyDrive/CM_vid2019/2.car/SUBARU_FORESTER.mp4\n",
            "/content/drive/MyDrive/CM_vid2019/2.car/DAIHATSU_車_NEW WAKE.mp4\n",
            "/content/drive/MyDrive/CM_vid2019/2.car/HONDA_Freed_Hybrid.mpg\n",
            "/content/drive/MyDrive/CM_vid2019/2.car/SUBARU_FORESTER[2].mp4\n",
            "/content/drive/MyDrive/CM_vid2019/2.car/SUZUKI_車_ソリオ.mp4\n",
            "/content/drive/MyDrive/CM_vid2019/2.car/cosmo_車_コスモスマートビークル_30秒.mp4\n",
            "/content/drive/MyDrive/CM_vid2019/2.car/NISSAN_CUBE.mpg\n",
            "/content/drive/MyDrive/CM_vid2019/2.car/NISSAN_X-Trail_Hybrid.mpg\n",
            "/content/drive/MyDrive/CM_vid2019/2.car/Honda_N-Box.mpg\n",
            "/content/drive/MyDrive/CM_vid2019/2.car/DAIHATSU_Tanto_Custom.mpg\n",
            "========================================================\n",
            "\n",
            " \n",
            "/content/drive/MyDrive/CM_vid2019/3.cosme \n",
            "-------------------------------------------------------------------------------------------\n",
            "/content/drive/MyDrive/CM_vid2019/3.cosme/Kao_Primavista_パウダー.mpg\n",
            "/content/drive/MyDrive/CM_vid2019/3.cosme/Kao_Segreta.mp4\n",
            "/content/drive/MyDrive/CM_vid2019/3.cosme/Reveur_洗髪料_Fraicheur.mp4\n",
            "/content/drive/MyDrive/CM_vid2019/3.cosme/IEON_GLAMATICAL.mp4\n",
            "/content/drive/MyDrive/CM_vid2019/3.cosme/Kose_化粧品_ファシオワンダーカールマスカラ.mp4\n",
            "/content/drive/MyDrive/CM_vid2019/3.cosme/Kao_Primavista_下地.mpg\n",
            "/content/drive/MyDrive/CM_vid2019/3.cosme/Eisai_薬品_チョコラBBプラス.mp4\n",
            "/content/drive/MyDrive/CM_vid2019/3.cosme/資生堂_Anessa_B.mpg\n",
            "/content/drive/MyDrive/CM_vid2019/3.cosme/Kao_リーゼ.mpg\n",
            "/content/drive/MyDrive/CM_vid2019/3.cosme/Kao_新エッセンシャルキューティクルケアシャンプー.mpg\n",
            "/content/drive/MyDrive/CM_vid2019/3.cosme/Biore_洗顔料_おうちdeエステ コットンマスク.mp4\n",
            "/content/drive/MyDrive/CM_vid2019/3.cosme/ガシー・レンカー・ジャパン_proactive+_30秒.mp4\n",
            "/content/drive/MyDrive/CM_vid2019/3.cosme/Kose_化粧品_ESPRIQUE.mp4\n",
            "/content/drive/MyDrive/CM_vid2019/3.cosme/資生堂_Perfect_Watery_Oil.mpg\n",
            "/content/drive/MyDrive/CM_vid2019/3.cosme/Kanebo_美容液_DEW.mp4\n",
            "/content/drive/MyDrive/CM_vid2019/3.cosme/Biore_洗顔料_おうちdeエステ 洗顔ジェル.mp4\n",
            "========================================================\n",
            "\n",
            " \n",
            "SUM :  129\n"
          ],
          "name": "stdout"
        }
      ]
    },
    {
      "cell_type": "markdown",
      "metadata": {
        "id": "2HJppVhmNrE4"
      },
      "source": [
        "## [A-1-2]データ整形"
      ]
    },
    {
      "cell_type": "code",
      "metadata": {
        "id": "YVgPtp0O_LA2"
      },
      "source": [
        "sw = stopWatch()"
      ],
      "execution_count": 9,
      "outputs": []
    },
    {
      "cell_type": "code",
      "metadata": {
        "colab": {
          "base_uri": "https://localhost:8080/"
        },
        "id": "7RuuLbotPo0r",
        "outputId": "d6ab055a-85b6-440a-82c2-97af64f4883a"
      },
      "source": [
        "#@title データ整形\n",
        "def makeup(VIDEO, videoFormat):\n",
        "    if not VIDEO.data.isOpened():\n",
        "      print(\"ビデオが読み込まれていない\")\n",
        "      return \n",
        "    fixedData = []\n",
        "    cut = round(VIDEO.FRAME_SIZE / videoFormat.FRAME_SIZE)\n",
        "  \n",
        "    turn = 0\n",
        "    while True:\n",
        "      ret, frame = VIDEO.data.read()\n",
        "      if not ret:\n",
        "        if len(fixedData) == videoFormat.FRAME_SIZE:\n",
        "          break\n",
        "      # フレーム数を変更\n",
        "      if turn % cut == 0:\n",
        "        # フレームサイズ（縦横）を変更\n",
        "        try: \n",
        "          fixed_frame = cv2.resize(frame, dsize=(videoFormat.WIDTH, videoFormat.HEIGHT))\n",
        "        except: \n",
        "          fixedData.pop()\n",
        "          break\n",
        "          # return fixedData\n",
        "        else:\n",
        "          # width x height x color\n",
        "          fixedData.append(np.array(fixed_frame))\n",
        "\n",
        "      turn = turn + 1    \n",
        "    # /while\n",
        "\n",
        "    fixedData = np.array(fixedData)\n",
        "    return fixedData\n",
        "\n",
        "sw.start()\n",
        "fixed_videos = []\n",
        "i = 0\n",
        "for video in videos:\n",
        "  i += 1\n",
        "  print(\"treating : \", video.path)\n",
        "  work = makeup(video, format1)\n",
        "  print(\"No. \", i, \".shape : \",work.shape, \"\\n\")\n",
        "  fixed_videos.append(work)\n",
        "\n",
        "fixed_videos = np.array(fixed_videos)\n",
        "sw.finish()"
      ],
      "execution_count": 10,
      "outputs": [
        {
          "output_type": "stream",
          "text": [
            "treating :  /content/drive/MyDrive/CM_vid2019/0.other/Yamato_宅急便コンパクト.mpg\n",
            "No.  1 .shape :  (30, 45, 80, 3) \n",
            "\n",
            "treating :  /content/drive/MyDrive/CM_vid2019/0.other/ZURICH_保険_チューリッヒ保険_30秒.mp4\n",
            "No.  2 .shape :  (30, 45, 80, 3) \n",
            "\n",
            "treating :  /content/drive/MyDrive/CM_vid2019/0.other/刑事7人[2].mp4\n",
            "No.  3 .shape :  (30, 45, 80, 3) \n",
            "\n",
            "treating :  /content/drive/MyDrive/CM_vid2019/0.other/メットライフ生命_MetLife.mp4\n",
            "No.  4 .shape :  (30, 45, 80, 3) \n",
            "\n",
            "treating :  /content/drive/MyDrive/CM_vid2019/0.other/刑事7人.mp4\n",
            "No.  5 .shape :  (30, 45, 80, 3) \n",
            "\n",
            "treating :  /content/drive/MyDrive/CM_vid2019/0.other/XFLAG_ゲーム_モンスターストライク超獣神祭.mp4\n",
            "No.  6 .shape :  (30, 45, 80, 3) \n",
            "\n",
            "treating :  /content/drive/MyDrive/CM_vid2019/0.other/ソフラン_クイーンズシルク.mp4\n",
            "No.  7 .shape :  (30, 45, 80, 3) \n",
            "\n",
            "treating :  /content/drive/MyDrive/CM_vid2019/0.other/ダイソン_掃除_dyson v8.mp4\n",
            "No.  8 .shape :  (30, 45, 80, 3) \n",
            "\n",
            "treating :  /content/drive/MyDrive/CM_vid2019/0.other/東宝_青空エール.mp4\n",
            "No.  9 .shape :  (30, 45, 80, 3) \n",
            "\n",
            "treating :  /content/drive/MyDrive/CM_vid2019/0.other/大東電機工業_THRIVE.mp4\n",
            "No.  10 .shape :  (30, 45, 80, 3) \n",
            "\n",
            "treating :  /content/drive/MyDrive/CM_vid2019/0.other/au_Wallet_30秒.mpg\n",
            "No.  11 .shape :  (30, 45, 80, 3) \n",
            "\n",
            "treating :  /content/drive/MyDrive/CM_vid2019/0.other/ロート_スキンAQUA 日焼け留め.mpg\n",
            "No.  12 .shape :  (30, 45, 80, 3) \n",
            "\n",
            "treating :  /content/drive/MyDrive/CM_vid2019/0.other/大東建託_賃貸経営受託システム.mp4\n",
            "No.  13 .shape :  (30, 45, 80, 3) \n",
            "\n",
            "treating :  /content/drive/MyDrive/CM_vid2019/0.other/家庭教師のトライ_夏トライ.mp4\n",
            "No.  14 .shape :  (30, 45, 80, 3) \n",
            "\n",
            "treating :  /content/drive/MyDrive/CM_vid2019/0.other/東北電力_よりそうちから_30秒.mp4\n",
            "No.  15 .shape :  (30, 45, 80, 3) \n",
            "\n",
            "treating :  /content/drive/MyDrive/CM_vid2019/0.other/第一三共_第一三共胃腸薬プラス.mp4\n",
            "No.  16 .shape :  (30, 45, 80, 3) \n",
            "\n",
            "treating :  /content/drive/MyDrive/CM_vid2019/0.other/ノーシンAI頭痛薬.mp4\n",
            "No.  17 .shape :  (30, 45, 80, 3) \n",
            "\n",
            "treating :  /content/drive/MyDrive/CM_vid2019/0.other/第一三共_クリーンデンタル.mp4\n",
            "No.  18 .shape :  (30, 45, 80, 3) \n",
            "\n",
            "treating :  /content/drive/MyDrive/CM_vid2019/0.other/亀岡工務店_KDS.mp4\n",
            "No.  19 .shape :  (30, 45, 80, 3) \n",
            "\n",
            "treating :  /content/drive/MyDrive/CM_vid2019/0.other/gsk_薬品_ボルタレン.mp4\n",
            "No.  20 .shape :  (30, 45, 80, 3) \n",
            "\n",
            "treating :  /content/drive/MyDrive/CM_vid2019/0.other/大塚製薬_洗髪料_ULOS.mp4\n",
            "No.  21 .shape :  (30, 45, 80, 3) \n",
            "\n",
            "treating :  /content/drive/MyDrive/CM_vid2019/0.other/コロプラ_白猫プロジェクト.mp4\n",
            "No.  22 .shape :  (30, 45, 80, 3) \n",
            "\n",
            "treating :  /content/drive/MyDrive/CM_vid2019/0.other/太田胃散_整腸薬.mp4\n",
            "No.  23 .shape :  (30, 45, 80, 3) \n",
            "\n",
            "treating :  /content/drive/MyDrive/CM_vid2019/0.other/楽天_クレジットカード_楽天カード.mp4\n",
            "No.  24 .shape :  (30, 45, 80, 3) \n",
            "\n",
            "treating :  /content/drive/MyDrive/CM_vid2019/0.other/au_ケータイ_au star.mp4\n",
            "No.  25 .shape :  (30, 45, 80, 3) \n",
            "\n",
            "treating :  /content/drive/MyDrive/CM_vid2019/0.other/タケダ_薬品_アリナミンA.mp4\n",
            "No.  26 .shape :  (30, 45, 80, 3) \n",
            "\n",
            "treating :  /content/drive/MyDrive/CM_vid2019/0.other/japanet_通販_Goods for you_30秒.mp4\n",
            "No.  27 .shape :  (30, 45, 80, 3) \n",
            "\n",
            "treating :  /content/drive/MyDrive/CM_vid2019/0.other/厚生労働省_臨時福祉給付金.mp4\n",
            "No.  28 .shape :  (30, 45, 80, 3) \n",
            "\n",
            "treating :  /content/drive/MyDrive/CM_vid2019/0.other/niraku_パチスロ_niraku.mp4\n",
            "No.  29 .shape :  (30, 45, 80, 3) \n",
            "\n",
            "treating :  /content/drive/MyDrive/CM_vid2019/0.other/タケダ_薬_アリナミンEX PLUS.mp4\n",
            "No.  30 .shape :  (30, 45, 80, 3) \n",
            "\n",
            "treating :  /content/drive/MyDrive/CM_vid2019/0.other/大成建設_For a lively life_30秒.mpg\n",
            "No.  31 .shape :  (30, 45, 80, 3) \n",
            "\n",
            "treating :  /content/drive/MyDrive/CM_vid2019/0.other/イーライリリー_医療_いつの間にか骨折.mp4\n",
            "No.  32 .shape :  (30, 45, 80, 3) \n",
            "\n",
            "treating :  /content/drive/MyDrive/CM_vid2019/0.other/会津日新館_観光_会津日新館.mp4\n",
            "No.  33 .shape :  (30, 45, 80, 3) \n",
            "\n",
            "treating :  /content/drive/MyDrive/CM_vid2019/0.other/住友生命_未来デザイン1UP.mp4\n",
            "No.  34 .shape :  (30, 45, 80, 3) \n",
            "\n",
            "treating :  /content/drive/MyDrive/CM_vid2019/0.other/新潟市水族館_観光_マリアピア.mp4\n",
            "No.  35 .shape :  (30, 45, 80, 3) \n",
            "\n",
            "treating :  /content/drive/MyDrive/CM_vid2019/0.other/楽天_RMobile.mp4\n",
            "No.  36 .shape :  (30, 45, 80, 3) \n",
            "\n",
            "treating :  /content/drive/MyDrive/CM_vid2019/0.other/コロプラ_白猫テニス.mp4\n",
            "No.  37 .shape :  (30, 45, 80, 3) \n",
            "\n",
            "treating :  /content/drive/MyDrive/CM_vid2019/0.other/東北電力_東北電力.mp4\n",
            "No.  38 .shape :  (30, 45, 80, 3) \n",
            "\n",
            "treating :  /content/drive/MyDrive/CM_vid2019/0.other/unicharm_男性用さわやかうす型パッド.mp4\n",
            "No.  39 .shape :  (30, 45, 80, 3) \n",
            "\n",
            "treating :  /content/drive/MyDrive/CM_vid2019/0.other/東映アニメーション_映画_ポッピンQ.mp4\n",
            "No.  40 .shape :  (30, 45, 80, 3) \n",
            "\n",
            "treating :  /content/drive/MyDrive/CM_vid2019/0.other/小林製薬_生理用品_サラサーティ 天然コットン100%.mp4\n",
            "No.  41 .shape :  (30, 45, 80, 3) \n",
            "\n",
            "treating :  /content/drive/MyDrive/CM_vid2019/0.other/music.jp_音楽アプリ_m.mp4\n",
            "No.  42 .shape :  (30, 45, 80, 3) \n",
            "\n",
            "treating :  /content/drive/MyDrive/CM_vid2019/0.other/たまのや_こころネットグループ.mp4\n",
            "No.  43 .shape :  (30, 45, 80, 3) \n",
            "\n",
            "treating :  /content/drive/MyDrive/CM_vid2019/0.other/unicharm_シルコット.mp4\n",
            "No.  44 .shape :  (30, 45, 80, 3) \n",
            "\n",
            "treating :  /content/drive/MyDrive/CM_vid2019/0.other/小林製薬_ハレナース.mp4\n",
            "No.  45 .shape :  (30, 45, 80, 3) \n",
            "\n",
            "treating :  /content/drive/MyDrive/CM_vid2019/0.other/小林製薬_サラサーティ.mp4\n",
            "No.  46 .shape :  (30, 45, 80, 3) \n",
            "\n",
            "treating :  /content/drive/MyDrive/CM_vid2019/0.other/au_MOON Challange.mp4\n",
            "No.  47 .shape :  (30, 45, 80, 3) \n",
            "\n",
            "treating :  /content/drive/MyDrive/CM_vid2019/0.other/東京ディズニーリゾート.mp4\n",
            "No.  48 .shape :  (30, 45, 80, 3) \n",
            "\n",
            "treating :  /content/drive/MyDrive/CM_vid2019/0.other/いきなり！黄金伝説.mp4\n",
            "No.  49 .shape :  (30, 45, 80, 3) \n",
            "\n",
            "treating :  /content/drive/MyDrive/CM_vid2019/0.other/楽天_アプリ_ラクマ.mp4\n",
            "No.  50 .shape :  (30, 45, 80, 3) \n",
            "\n",
            "treating :  /content/drive/MyDrive/CM_vid2019/0.other/健康コーポレーション_美容_ライザップ.mp4\n",
            "No.  51 .shape :  (30, 45, 80, 3) \n",
            "\n",
            "treating :  /content/drive/MyDrive/CM_vid2019/0.other/郡山ふれあい科学館_観光_スペースパーク.mp4\n",
            "No.  52 .shape :  (30, 45, 80, 3) \n",
            "\n",
            "treating :  /content/drive/MyDrive/CM_vid2019/0.other/ニトリ_わんぱく組.mp4\n",
            "No.  53 .shape :  (30, 45, 80, 3) \n",
            "\n",
            "treating :  /content/drive/MyDrive/CM_vid2019/1.food/Yamazaki_ランチパック.mp4\n",
            "No.  54 .shape :  (30, 45, 80, 3) \n",
            "\n",
            "treating :  /content/drive/MyDrive/CM_vid2019/1.food/UHA味覚糖_ぷっちょ とろけるグミ.mp4\n",
            "No.  55 .shape :  (30, 45, 80, 3) \n",
            "\n",
            "treating :  /content/drive/MyDrive/CM_vid2019/1.food/meiji_ヨーグルト_LG21.mp4\n",
            "No.  56 .shape :  (30, 45, 80, 3) \n",
            "\n",
            "treating :  /content/drive/MyDrive/CM_vid2019/1.food/UHA味覚糖_菓子_e-maのど飴.mp4\n",
            "No.  57 .shape :  (30, 45, 80, 3) \n",
            "\n",
            "treating :  /content/drive/MyDrive/CM_vid2019/1.food/meiji_LG21.mp4\n",
            "No.  58 .shape :  (30, 45, 80, 3) \n",
            "\n",
            "treating :  /content/drive/MyDrive/CM_vid2019/1.food/meiji_ポリポリ元気.mp4\n",
            "No.  59 .shape :  (30, 45, 80, 3) \n",
            "\n",
            "treating :  /content/drive/MyDrive/CM_vid2019/1.food/幸楽苑_食品_豚バラチャーシュー麺.mp4\n",
            "No.  60 .shape :  (30, 45, 80, 3) \n",
            "\n",
            "treating :  /content/drive/MyDrive/CM_vid2019/1.food/meiji_Poifull.mp4\n",
            "No.  61 .shape :  (30, 45, 80, 3) \n",
            "\n",
            "treating :  /content/drive/MyDrive/CM_vid2019/1.food/Yamazaki_Daily_YAMAZAKI.mp4\n",
            "No.  62 .shape :  (30, 45, 80, 3) \n",
            "\n",
            "treating :  /content/drive/MyDrive/CM_vid2019/1.food/meiji_エッセルスーパーカップ.mp4\n",
            "No.  63 .shape :  (30, 45, 80, 3) \n",
            "\n",
            "treating :  /content/drive/MyDrive/CM_vid2019/1.food/pokka sapporo_食品_こんがりパン コーンポタージュ.mp4\n",
            "No.  64 .shape :  (30, 45, 80, 3) \n",
            "\n",
            "treating :  /content/drive/MyDrive/CM_vid2019/1.food/銀のスプーン_三ツ星グルメ.mp4\n",
            "No.  65 .shape :  (30, 45, 80, 3) \n",
            "\n",
            "treating :  /content/drive/MyDrive/CM_vid2019/1.food/雪印メグミルク_食品_さけるチーズ.mp4\n",
            "No.  66 .shape :  (30, 45, 80, 3) \n",
            "\n",
            "treating :  /content/drive/MyDrive/CM_vid2019/1.food/大塚製薬_食品_カロリーメイトゼリー.mp4\n",
            "No.  67 .shape :  (30, 45, 80, 3) \n",
            "\n",
            "treating :  /content/drive/MyDrive/CM_vid2019/1.food/フジパン_本仕込.mp4\n",
            "No.  68 .shape :  (30, 45, 80, 3) \n",
            "\n",
            "treating :  /content/drive/MyDrive/CM_vid2019/1.food/丸亀製麺_釜揚げうどん.mp4\n",
            "No.  69 .shape :  (30, 45, 80, 3) \n",
            "\n",
            "treating :  /content/drive/MyDrive/CM_vid2019/1.food/ヤクルト_ジョア.mpg\n",
            "No.  70 .shape :  (30, 45, 80, 3) \n",
            "\n",
            "treating :  /content/drive/MyDrive/CM_vid2019/1.food/白鶴_酒_まる.mp4\n",
            "No.  71 .shape :  (30, 45, 80, 3) \n",
            "\n",
            "treating :  /content/drive/MyDrive/CM_vid2019/1.food/はごろもフーズ_シーチキンSmile.mp4\n",
            "No.  72 .shape :  (30, 45, 80, 3) \n",
            "\n",
            "treating :  /content/drive/MyDrive/CM_vid2019/1.food/poddi_10分ごはん.mp4\n",
            "No.  73 .shape :  (30, 45, 80, 3) \n",
            "\n",
            "treating :  /content/drive/MyDrive/CM_vid2019/1.food/pal-system_カスタードプリン.mp4\n",
            "No.  74 .shape :  (30, 45, 80, 3) \n",
            "\n",
            "treating :  /content/drive/MyDrive/CM_vid2019/1.food/永谷園_あさげ.mp4\n",
            "No.  75 .shape :  (30, 45, 80, 3) \n",
            "\n",
            "treating :  /content/drive/MyDrive/CM_vid2019/1.food/伊藤園_飲料_おーいお茶.mp4\n",
            "No.  76 .shape :  (30, 45, 80, 3) \n",
            "\n",
            "treating :  /content/drive/MyDrive/CM_vid2019/1.food/柏屋_薄皮饅頭.mp4\n",
            "No.  77 .shape :  (30, 45, 80, 3) \n",
            "\n",
            "treating :  /content/drive/MyDrive/CM_vid2019/1.food/キューピー_食品_黒ごまと五穀.mp4\n",
            "No.  78 .shape :  (30, 45, 80, 3) \n",
            "\n",
            "treating :  /content/drive/MyDrive/CM_vid2019/1.food/森永乳業_飲料_アロエステ.mp4\n",
            "No.  79 .shape :  (30, 45, 80, 3) \n",
            "\n",
            "treating :  /content/drive/MyDrive/CM_vid2019/1.food/かっぱ寿司_食品_うまいもの祭り 夏かっぱ.mp4\n",
            "No.  80 .shape :  (30, 45, 80, 3) \n",
            "\n",
            "treating :  /content/drive/MyDrive/CM_vid2019/1.food/セブン&アイHLDGS_食品_ヨークベニマルの鰻.mp4\n",
            "No.  81 .shape :  (30, 45, 80, 3) \n",
            "\n",
            "treating :  /content/drive/MyDrive/CM_vid2019/1.food/ケンタッキー_食品_カーネリングポテト.mp4\n",
            "No.  82 .shape :  (30, 45, 80, 3) \n",
            "\n",
            "treating :  /content/drive/MyDrive/CM_vid2019/1.food/ペヤング_食品_ペヤングヌードル.mp4\n",
            "No.  83 .shape :  (30, 45, 80, 3) \n",
            "\n",
            "treating :  /content/drive/MyDrive/CM_vid2019/1.food/雪印メグミルク_食品_ガセリ菌SPヨーグルト.mp4\n",
            "No.  84 .shape :  (30, 45, 80, 3) \n",
            "\n",
            "treating :  /content/drive/MyDrive/CM_vid2019/1.food/いろはす_飲料_いろはすサイダー.mp4\n",
            "No.  85 .shape :  (30, 45, 80, 3) \n",
            "\n",
            "treating :  /content/drive/MyDrive/CM_vid2019/1.food/永谷園_お茶漬け海苔.mp4\n",
            "No.  86 .shape :  (30, 45, 80, 3) \n",
            "\n",
            "treating :  /content/drive/MyDrive/CM_vid2019/1.food/かっぱ寿司_食品_超うまいもの祭.mp4\n",
            "No.  87 .shape :  (30, 45, 80, 3) \n",
            "\n",
            "treating :  /content/drive/MyDrive/CM_vid2019/1.food/柏屋_薄皮饅頭.mpg\n",
            "No.  88 .shape :  (30, 45, 80, 3) \n",
            "\n",
            "treating :  /content/drive/MyDrive/CM_vid2019/1.food/永谷園_食品_麦茶漬け.mp4\n",
            "No.  89 .shape :  (30, 45, 80, 3) \n",
            "\n",
            "treating :  /content/drive/MyDrive/CM_vid2019/1.food/pepsi_STRONG_5.0GV.mp4\n",
            "No.  90 .shape :  (30, 45, 80, 3) \n",
            "\n",
            "treating :  /content/drive/MyDrive/CM_vid2019/1.food/龍角散_菓子_のどすっきり飴.mp4\n",
            "No.  91 .shape :  (30, 45, 80, 3) \n",
            "\n",
            "treating :  /content/drive/MyDrive/CM_vid2019/1.food/三幸製菓_チーズアーモンド.mp4\n",
            "No.  92 .shape :  (30, 45, 80, 3) \n",
            "\n",
            "treating :  /content/drive/MyDrive/CM_vid2019/1.food/キリン_コーヒー_FIRE.mp4\n",
            "No.  93 .shape :  (30, 45, 80, 3) \n",
            "\n",
            "treating :  /content/drive/MyDrive/CM_vid2019/1.food/びっくりドンキー_食品_本格スパイシーカレー.mp4\n",
            "No.  94 .shape :  (30, 45, 80, 3) \n",
            "\n",
            "treating :  /content/drive/MyDrive/CM_vid2019/1.food/エバラ_プチッと調味料.mp4\n",
            "No.  95 .shape :  (30, 45, 80, 3) \n",
            "\n",
            "treating :  /content/drive/MyDrive/CM_vid2019/1.food/白鶴_酒_大吟醸.mp4\n",
            "No.  96 .shape :  (30, 45, 80, 3) \n",
            "\n",
            "treating :  /content/drive/MyDrive/CM_vid2019/1.food/大正製薬_飲料_リポビタンfine.mp4\n",
            "No.  97 .shape :  (30, 45, 80, 3) \n",
            "\n",
            "treating :  /content/drive/MyDrive/CM_vid2019/2.car/DAIHATSU_車_CAST.mp4\n",
            "No.  98 .shape :  (30, 45, 80, 3) \n",
            "\n",
            "treating :  /content/drive/MyDrive/CM_vid2019/2.car/HONDA_車_Honda Cars 福島.mp4\n",
            "No.  99 .shape :  (30, 45, 80, 3) \n",
            "\n",
            "treating :  /content/drive/MyDrive/CM_vid2019/2.car/ENEOS_車_ガソリンスタンド_30秒.mp4\n",
            "No.  100 .shape :  (30, 45, 80, 3) \n",
            "\n",
            "treating :  /content/drive/MyDrive/CM_vid2019/2.car/Honda_N-Custom.mpg\n",
            "No.  101 .shape :  (30, 45, 80, 3) \n",
            "\n",
            "treating :  /content/drive/MyDrive/CM_vid2019/2.car/DUNLOP_タイヤ_Winter MAXX 02.mp4\n",
            "No.  102 .shape :  (30, 45, 80, 3) \n",
            "\n",
            "treating :  /content/drive/MyDrive/CM_vid2019/2.car/HONDA_車_NBOX.mp4\n",
            "No.  103 .shape :  (30, 45, 80, 3) \n",
            "\n",
            "treating :  /content/drive/MyDrive/CM_vid2019/2.car/SUBARU_FORESTER.mp4\n",
            "No.  104 .shape :  (30, 45, 80, 3) \n",
            "\n",
            "treating :  /content/drive/MyDrive/CM_vid2019/2.car/DAIHATSU_車_NEW WAKE.mp4\n",
            "No.  105 .shape :  (30, 45, 80, 3) \n",
            "\n",
            "treating :  /content/drive/MyDrive/CM_vid2019/2.car/HONDA_Freed_Hybrid.mpg\n",
            "No.  106 .shape :  (30, 45, 80, 3) \n",
            "\n",
            "treating :  /content/drive/MyDrive/CM_vid2019/2.car/SUBARU_FORESTER[2].mp4\n",
            "No.  107 .shape :  (30, 45, 80, 3) \n",
            "\n",
            "treating :  /content/drive/MyDrive/CM_vid2019/2.car/SUZUKI_車_ソリオ.mp4\n",
            "No.  108 .shape :  (30, 45, 80, 3) \n",
            "\n",
            "treating :  /content/drive/MyDrive/CM_vid2019/2.car/cosmo_車_コスモスマートビークル_30秒.mp4\n",
            "No.  109 .shape :  (30, 45, 80, 3) \n",
            "\n",
            "treating :  /content/drive/MyDrive/CM_vid2019/2.car/NISSAN_CUBE.mpg\n",
            "No.  110 .shape :  (30, 45, 80, 3) \n",
            "\n",
            "treating :  /content/drive/MyDrive/CM_vid2019/2.car/NISSAN_X-Trail_Hybrid.mpg\n",
            "No.  111 .shape :  (30, 45, 80, 3) \n",
            "\n",
            "treating :  /content/drive/MyDrive/CM_vid2019/2.car/Honda_N-Box.mpg\n",
            "No.  112 .shape :  (30, 45, 80, 3) \n",
            "\n",
            "treating :  /content/drive/MyDrive/CM_vid2019/2.car/DAIHATSU_Tanto_Custom.mpg\n",
            "No.  113 .shape :  (30, 45, 80, 3) \n",
            "\n",
            "treating :  /content/drive/MyDrive/CM_vid2019/3.cosme/Kao_Primavista_パウダー.mpg\n",
            "No.  114 .shape :  (30, 45, 80, 3) \n",
            "\n",
            "treating :  /content/drive/MyDrive/CM_vid2019/3.cosme/Kao_Segreta.mp4\n",
            "No.  115 .shape :  (30, 45, 80, 3) \n",
            "\n",
            "treating :  /content/drive/MyDrive/CM_vid2019/3.cosme/Reveur_洗髪料_Fraicheur.mp4\n",
            "No.  116 .shape :  (30, 45, 80, 3) \n",
            "\n",
            "treating :  /content/drive/MyDrive/CM_vid2019/3.cosme/IEON_GLAMATICAL.mp4\n",
            "No.  117 .shape :  (30, 45, 80, 3) \n",
            "\n",
            "treating :  /content/drive/MyDrive/CM_vid2019/3.cosme/Kose_化粧品_ファシオワンダーカールマスカラ.mp4\n",
            "No.  118 .shape :  (30, 45, 80, 3) \n",
            "\n",
            "treating :  /content/drive/MyDrive/CM_vid2019/3.cosme/Kao_Primavista_下地.mpg\n",
            "No.  119 .shape :  (30, 45, 80, 3) \n",
            "\n",
            "treating :  /content/drive/MyDrive/CM_vid2019/3.cosme/Eisai_薬品_チョコラBBプラス.mp4\n",
            "No.  120 .shape :  (30, 45, 80, 3) \n",
            "\n",
            "treating :  /content/drive/MyDrive/CM_vid2019/3.cosme/資生堂_Anessa_B.mpg\n",
            "No.  121 .shape :  (30, 45, 80, 3) \n",
            "\n",
            "treating :  /content/drive/MyDrive/CM_vid2019/3.cosme/Kao_リーゼ.mpg\n",
            "No.  122 .shape :  (30, 45, 80, 3) \n",
            "\n",
            "treating :  /content/drive/MyDrive/CM_vid2019/3.cosme/Kao_新エッセンシャルキューティクルケアシャンプー.mpg\n",
            "No.  123 .shape :  (30, 45, 80, 3) \n",
            "\n",
            "treating :  /content/drive/MyDrive/CM_vid2019/3.cosme/Biore_洗顔料_おうちdeエステ コットンマスク.mp4\n",
            "No.  124 .shape :  (30, 45, 80, 3) \n",
            "\n",
            "treating :  /content/drive/MyDrive/CM_vid2019/3.cosme/ガシー・レンカー・ジャパン_proactive+_30秒.mp4\n",
            "No.  125 .shape :  (30, 45, 80, 3) \n",
            "\n",
            "treating :  /content/drive/MyDrive/CM_vid2019/3.cosme/Kose_化粧品_ESPRIQUE.mp4\n",
            "No.  126 .shape :  (30, 45, 80, 3) \n",
            "\n",
            "treating :  /content/drive/MyDrive/CM_vid2019/3.cosme/資生堂_Perfect_Watery_Oil.mpg\n",
            "No.  127 .shape :  (30, 45, 80, 3) \n",
            "\n",
            "treating :  /content/drive/MyDrive/CM_vid2019/3.cosme/Kanebo_美容液_DEW.mp4\n",
            "No.  128 .shape :  (30, 45, 80, 3) \n",
            "\n",
            "treating :  /content/drive/MyDrive/CM_vid2019/3.cosme/Biore_洗顔料_おうちdeエステ 洗顔ジェル.mp4\n",
            "No.  129 .shape :  (30, 45, 80, 3) \n",
            "\n"
          ],
          "name": "stdout"
        }
      ]
    },
    {
      "cell_type": "markdown",
      "metadata": {
        "id": "2AghYWryL0CS"
      },
      "source": [
        "# [A-3]モデルの作成"
      ]
    },
    {
      "cell_type": "code",
      "metadata": {
        "colab": {
          "base_uri": "https://localhost:8080/"
        },
        "id": "S89YfRxnLDud",
        "outputId": "8f0e2f00-9c29-4478-a4af-ed1a84bb7d77"
      },
      "source": [
        "#@title 入力データの情報を規定\n",
        "colorSet = {'BW' : 1, 'RGB' : 3}\n",
        "\n",
        "#入力層の設定\n",
        "input_frameWIDTH = format1.WIDTH\n",
        "input_frameHEIGHT = format1.HEIGHT\n",
        "input_frameSIZE = format1.FRAME_SIZE\n",
        "input_frameCOLOR = colorSet['RGB']\n",
        "input_allPattern = input_frameWIDTH * input_frameHEIGHT * input_frameSIZE * input_frameCOLOR\n",
        "\n",
        "print(\n",
        "    input_frameWIDTH,\n",
        "    input_frameHEIGHT,\n",
        "    input_frameSIZE,\n",
        "    input_frameCOLOR,\n",
        "    input_allPattern )"
      ],
      "execution_count": 5,
      "outputs": [
        {
          "output_type": "stream",
          "text": [
            "80 45 30 3 324000\n"
          ],
          "name": "stdout"
        }
      ]
    },
    {
      "cell_type": "code",
      "metadata": {
        "id": "A9hlEm4-b_ey"
      },
      "source": [
        "#@title モデルの作成\n",
        "from tensorflow.keras import layers, models, initializers, callbacks\n",
        "import tensorflow as tf\n",
        "import numpy as np\n",
        "\n",
        "seedKey = 3\n",
        "\n",
        "np.random.seed(seedKey)\n",
        "tf.random.set_seed(seedKey)\n",
        "\n",
        "model = models.Sequential([\n",
        "    # 入力層        \n",
        "    layers.Reshape(\n",
        "        (input_frameSIZE, input_frameHEIGHT, input_frameWIDTH,  input_frameCOLOR), \n",
        "        input_shape=(input_allPattern,),\n",
        "        name='ENTRANCE' ),\n",
        "    # 中間層\n",
        "    layers.Flatten(\n",
        "        name='RIVER' ),\n",
        "    layers.Dense(\n",
        "      1024, # 1024項\n",
        "      activation='tanh',\n",
        "      name='DAM' ),\n",
        "    # 出力層\n",
        "    layers.Dense(4, activation='softmax', name='WATERSUPPLY')\n",
        "])"
      ],
      "execution_count": 11,
      "outputs": []
    },
    {
      "cell_type": "code",
      "metadata": {
        "colab": {
          "base_uri": "https://localhost:8080/",
          "height": 805
        },
        "id": "2zTmwfOlcWR6",
        "outputId": "4a5745ab-416f-4b4f-9c61-ef9c432105db"
      },
      "source": [
        "#表示\n",
        "model.summary()\n",
        "from tensorflow.keras.utils import plot_model\n",
        "plot_model(\n",
        "  model,\n",
        "  show_shapes=True,\n",
        "  )"
      ],
      "execution_count": 7,
      "outputs": [
        {
          "output_type": "stream",
          "text": [
            "Model: \"sequential\"\n",
            "_________________________________________________________________\n",
            "Layer (type)                 Output Shape              Param #   \n",
            "=================================================================\n",
            "ENTRANCE (Reshape)           (None, 30, 45, 80, 3)     0         \n",
            "_________________________________________________________________\n",
            "RIVER (Flatten)              (None, 324000)            0         \n",
            "_________________________________________________________________\n",
            "DAM (Dense)                  (None, 1024)              331777024 \n",
            "_________________________________________________________________\n",
            "WATERSUPPLY (Dense)          (None, 4)                 4100      \n",
            "=================================================================\n",
            "Total params: 331,781,124\n",
            "Trainable params: 331,781,124\n",
            "Non-trainable params: 0\n",
            "_________________________________________________________________\n"
          ],
          "name": "stdout"
        },
        {
          "output_type": "execute_result",
          "data": {
            "image/png": "[encoded data removed]",
            "text/plain": [
              "<IPython.core.display.Image object>"
            ]
          },
          "metadata": {
            "tags": []
          },
          "execution_count": 7
        }
      ]
    },
    {
      "cell_type": "code",
      "metadata": {
        "colab": {
          "base_uri": "https://localhost:8080/"
        },
        "id": "3bEaSLczH_Fv",
        "outputId": "fed71128-d9bb-4aeb-c10d-4164e4f5060c"
      },
      "source": [
        "name_model = 'key' + str(seedKey)\n",
        "\n",
        "name_model = name_model + '.h5'\n",
        "path_model = os.path.join('/content/desk/', name_model)\n",
        "model.save(path_model)\n",
        "del model\n",
        "import gc\n",
        "gc.collect()"
      ],
      "execution_count": 12,
      "outputs": [
        {
          "output_type": "execute_result",
          "data": {
            "text/plain": [
              "543"
            ]
          },
          "metadata": {
            "tags": []
          },
          "execution_count": 12
        }
      ]
    },
    {
      "cell_type": "markdown",
      "metadata": {
        "id": "7mYb1Eo8LzSZ"
      },
      "source": [
        "# [A-4]学習"
      ]
    },
    {
      "cell_type": "code",
      "metadata": {
        "colab": {
          "base_uri": "https://localhost:8080/"
        },
        "id": "kAdaSO9AYFZD",
        "outputId": "580d61b3-6e0b-4920-ead8-9e020b5d596e"
      },
      "source": [
        "#@title 学習データ用意\n",
        "import numpy as np\n",
        "\n",
        "try:\n",
        "  print(videos)\n",
        "except:\n",
        "  train_videos = np.load('/content/drive/MyDrive/colab/start/npVideos.npy')  \n",
        "  train_labels = np.load('/content/drive/MyDrive/colab/start/npLabels.npy')  \n",
        "  print(\"Use before data\")\n",
        "else:\n",
        "  train_videos = fixed_videos.reshape(len(videos), input_allPattern).astype('float32')/255\n",
        "  train_labels = []\n",
        "  print(\"Use recent data\")\n",
        "  for video in videos:\n",
        "    train_labels.append(LABEL[video.label])\n",
        "  \n",
        "  train_labels = tf.keras.utils.to_categorical(train_labels, 4)\n",
        "  np.save('/content/desk/npVideos', train_videos)\n",
        "  np.save('/content/desk/npLabels', train_labels)"
      ],
      "execution_count": 13,
      "outputs": [
        {
          "output_type": "stream",
          "text": [
            "Use before data\n"
          ],
          "name": "stdout"
        }
      ]
    },
    {
      "cell_type": "code",
      "metadata": {
        "id": "7NO1lFV13UR7"
      },
      "source": [
        "#@title 学習・学習評価設定\n",
        "def learning(model, now):\n",
        "  model.compile(optimizer='adam', \n",
        "                loss = 'categorical_crossentropy',\n",
        "                metrics=['acc'])\n",
        "  \n",
        "  history = model.fit(\n",
        "      train_videos, \n",
        "      train_labels, \n",
        "      batch_size=5,\n",
        "      epochs=10\n",
        "      )\n",
        "  plotAcc(history, now)\n",
        "  plotLoss(history, now)\n",
        "\n",
        "\n",
        "import matplotlib.pyplot as plt\n",
        "from pandas import DataFrame\n",
        "import os\n",
        "\n",
        "def plotAcc(history, now):\n",
        "  fig = plt.figure()\n",
        "  ACC = fig.add_subplot(1,1,1)\n",
        "\n",
        "  props = {\n",
        "      'title' : 'plot of ACCURACY',\n",
        "      'xlabel' : 'epoch',\n",
        "      'ylabel' : 'value',\n",
        "      #  'ylim' : [0.2727,0.27275]\n",
        "  }\n",
        "  ACC.set(**props)\n",
        "\n",
        "  acc = DataFrame(history.history['acc'])\n",
        "  # val_acc = DataFrame(history.history['val_acc'])\n",
        "  ACC.plot(acc, label='acc', marker='o', color='blue')\n",
        "  # ACC.plot(val_acc, label='val_acc', marker='o', linestyle='--', color='orange')\n",
        "\n",
        "  ACC.legend()\n",
        "\n",
        "  #画像保存\n",
        "  name_image = now + '_acc' \n",
        "  path_image = os.path.join('/content/desk', name_image)\n",
        "  fig.savefig(path_image)\n",
        "\n",
        "def plotLoss(history, now):\n",
        "  fig = plt.figure()\n",
        "  LOSS = fig.add_subplot(1,1,1)\n",
        "\n",
        "  props = {\n",
        "      'title' : 'plot of LOSS',\n",
        "      'xlabel' : 'epoch',\n",
        "      'ylabel' : 'value',\n",
        "      # 'ylim' : [0, 0.01]\n",
        "  }\n",
        "  LOSS.set(**props)\n",
        "\n",
        "  loss = DataFrame(history.history['loss'])\n",
        "  # val_loss = DataFrame(history.history['val_loss'])\n",
        "  LOSS.plot(loss, label='loss', marker='o', color='blue')\n",
        "  # LOSS.plot(val_loss, label='val_loss', marker='o', linestyle='--', color='orange')\n",
        "\n",
        "  LOSS.legend()\n",
        "\n",
        "  #画像保存\n",
        "  name_image = now + '_loss' \n",
        "  path_image= os.path.join('/content/desk', name_image)\n",
        "  fig.savefig(path_image)"
      ],
      "execution_count": 14,
      "outputs": []
    },
    {
      "cell_type": "code",
      "metadata": {
        "colab": {
          "base_uri": "https://localhost:8080/"
        },
        "id": "kVLBQsvdiKFQ",
        "outputId": "e9e0b258-4053-4720-94b8-78fa4c190b76"
      },
      "source": [
        "#@title モデル用意\n",
        "import os\n",
        "name_model = 'key2.h5'\n",
        "path_model = os.path.join('/content/desk/', name_model)\n",
        "\n",
        "model = models.load_model(path_model)"
      ],
      "execution_count": 32,
      "outputs": [
        {
          "output_type": "stream",
          "text": [
            "WARNING:tensorflow:No training configuration found in the save file, so the model was *not* compiled. Compile it manually.\n"
          ],
          "name": "stdout"
        }
      ]
    },
    {
      "cell_type": "markdown",
      "metadata": {
        "id": "gN9MMkqbuYv9"
      },
      "source": [
        "## 学習"
      ]
    },
    {
      "cell_type": "code",
      "metadata": {
        "id": "qasUXOE7ZypQ"
      },
      "source": [
        "import datetime\n",
        "import time\n",
        "\n",
        "for i in range(3):\n",
        "  dt_now_jst = datetime.datetime.now(datetime.timezone(datetime.timedelta(hours=9)))\n",
        "  dt_now_jst = dt_now_jst.strftime('%H!%M!%S')\n",
        "\n",
        "  name_model = 'key1.h5'\n",
        "  path_model = os.path.join('/content/desk/', name_model)\n",
        "\n",
        "  model = models.load_model(path_model)\n",
        "  %time learning(model, dt_now_jst + 'key2')\n",
        "  del model\n",
        "  import gc\n",
        "  gc.collect()"
      ],
      "execution_count": null,
      "outputs": []
    },
    {
      "cell_type": "code",
      "metadata": {
        "colab": {
          "base_uri": "https://localhost:8080/"
        },
        "id": "Ak8KMMoJ3Q57",
        "outputId": "d63d9515-d16c-4bba-901c-0f3a9ce2a707"
      },
      "source": [
        "import datetime\n",
        "import time\n",
        "\n",
        "for i in range(3):\n",
        "  dt_now_jst = datetime.datetime.now(datetime.timezone(datetime.timedelta(hours=9)))\n",
        "  dt_now_jst = dt_now_jst.strftime('%H!%M!%S')\n",
        "\n",
        "  name_model = 'key1.h5'\n",
        "  path_model = os.path.join('/content/desk/', name_model)\n",
        "\n",
        "  model = models.load_model(path_model)\n",
        "  %time learning(model, dt_now_jst + 'key1')\n",
        "  del model\n",
        "  import gc\n",
        "  gc.collect()"
      ],
      "execution_count": null,
      "outputs": [
        {
          "output_type": "stream",
          "text": [
            "WARNING:tensorflow:No training configuration found in the save file, so the model was *not* compiled. Compile it manually.\n",
            "Epoch 1/10\n",
            "26/26 [==============================] - 36s 1s/step - loss: 14.5404 - acc: 0.3109\n",
            "Epoch 2/10\n",
            "26/26 [==============================] - 33s 1s/step - loss: 3.4695 - acc: 0.2668\n",
            "Epoch 3/10\n",
            "26/26 [==============================] - 33s 1s/step - loss: 1.4561 - acc: 0.3696\n",
            "Epoch 4/10\n",
            "26/26 [==============================] - 33s 1s/step - loss: 1.3775 - acc: 0.4027\n",
            "Epoch 5/10\n",
            "26/26 [==============================] - 33s 1s/step - loss: 1.3009 - acc: 0.4700\n",
            "Epoch 6/10\n",
            "26/26 [==============================] - 33s 1s/step - loss: 1.4443 - acc: 0.3350\n",
            "Epoch 7/10\n",
            "26/26 [==============================] - 33s 1s/step - loss: 1.4493 - acc: 0.2960\n",
            "Epoch 8/10\n",
            "26/26 [==============================] - 33s 1s/step - loss: 1.2972 - acc: 0.4488\n",
            "Epoch 9/10\n",
            "26/26 [==============================] - 33s 1s/step - loss: 1.3816 - acc: 0.3954\n",
            "Epoch 10/10\n",
            "26/26 [==============================] - 33s 1s/step - loss: 1.5831 - acc: 0.3470\n",
            "CPU times: user 10min 32s, sys: 4.44 s, total: 10min 36s\n",
            "Wall time: 5min 31s\n",
            "WARNING:tensorflow:No training configuration found in the save file, so the model was *not* compiled. Compile it manually.\n",
            "Epoch 1/10\n",
            "26/26 [==============================] - 36s 1s/step - loss: 14.5404 - acc: 0.3109\n",
            "Epoch 2/10\n",
            "26/26 [==============================] - 33s 1s/step - loss: 3.4695 - acc: 0.2668\n",
            "Epoch 3/10\n",
            "26/26 [==============================] - 33s 1s/step - loss: 1.4561 - acc: 0.3696\n",
            "Epoch 4/10\n",
            "26/26 [==============================] - 33s 1s/step - loss: 1.3775 - acc: 0.4027\n",
            "Epoch 5/10\n",
            "26/26 [==============================] - 33s 1s/step - loss: 1.3009 - acc: 0.4700\n",
            "Epoch 6/10\n",
            "26/26 [==============================] - 33s 1s/step - loss: 1.4443 - acc: 0.3350\n",
            "Epoch 7/10\n",
            "26/26 [==============================] - 33s 1s/step - loss: 1.4493 - acc: 0.2960\n",
            "Epoch 8/10\n",
            "26/26 [==============================] - 33s 1s/step - loss: 1.2972 - acc: 0.4488\n",
            "Epoch 9/10\n",
            "26/26 [==============================] - 33s 1s/step - loss: 1.3816 - acc: 0.3954\n",
            "Epoch 10/10\n",
            "26/26 [==============================] - 34s 1s/step - loss: 1.5831 - acc: 0.3470\n",
            "CPU times: user 10min 39s, sys: 4.21 s, total: 10min 43s\n",
            "Wall time: 5min 34s\n",
            "WARNING:tensorflow:No training configuration found in the save file, so the model was *not* compiled. Compile it manually.\n",
            "Epoch 1/10\n",
            "26/26 [==============================] - 35s 1s/step - loss: 14.5404 - acc: 0.3109\n",
            "Epoch 2/10\n",
            "26/26 [==============================] - 34s 1s/step - loss: 3.4695 - acc: 0.2668\n",
            "Epoch 3/10\n",
            "26/26 [==============================] - 34s 1s/step - loss: 1.4561 - acc: 0.3696\n",
            "Epoch 4/10\n",
            "26/26 [==============================] - 34s 1s/step - loss: 1.3775 - acc: 0.4027\n",
            "Epoch 5/10\n",
            "26/26 [==============================] - 33s 1s/step - loss: 1.3009 - acc: 0.4700\n",
            "Epoch 6/10\n",
            "26/26 [==============================] - 33s 1s/step - loss: 1.4443 - acc: 0.3350\n",
            "Epoch 7/10\n",
            "26/26 [==============================] - 33s 1s/step - loss: 1.4493 - acc: 0.2960\n",
            "Epoch 8/10\n",
            "26/26 [==============================] - 33s 1s/step - loss: 1.2972 - acc: 0.4488\n",
            "Epoch 9/10\n",
            "26/26 [==============================] - 33s 1s/step - loss: 1.3816 - acc: 0.3954\n",
            "Epoch 10/10\n",
            "26/26 [==============================] - ETA: 0s - loss: 1.5785 - acc: 0.3472"
          ],
          "name": "stdout"
        }
      ]
    },
    {
      "cell_type": "code",
      "metadata": {
        "id": "w9yWLLG8aHB9"
      },
      "source": [
        "import datetime\n",
        "import time\n",
        "\n",
        "for i in range(3):\n",
        "  dt_now_jst = datetime.datetime.now(datetime.timezone(datetime.timedelta(hours=9)))\n",
        "  dt_now_jst = dt_now_jst.strftime('%H!%M!%S')\n",
        "\n",
        "  name_model = 'key2.h5'\n",
        "  path_model = os.path.join('/content/desk/', name_model)\n",
        "\n",
        "  model = models.load_model(path_model)\n",
        "  %time learning(model, dt_now_jst + 'key2')\n",
        "  del model\n",
        "  import gc\n",
        "  gc.collect()"
      ],
      "execution_count": null,
      "outputs": []
    },
    {
      "cell_type": "code",
      "metadata": {
        "id": "7X-1HAypaSAW"
      },
      "source": [
        "import datetime\n",
        "import time\n",
        "\n",
        "for i in range(3):\n",
        "  dt_now_jst = datetime.datetime.now(datetime.timezone(datetime.timedelta(hours=9)))\n",
        "  dt_now_jst = dt_now_jst.strftime('%H!%M!%S')\n",
        "\n",
        "  name_model = 'key3.h5'\n",
        "  path_model = os.path.join('/content/desk/', name_model)\n",
        "\n",
        "  model = models.load_model(path_model)\n",
        "  %time learning(model, dt_now_jst + 'key3')\n",
        "  del model\n",
        "  import gc\n",
        "  gc.collect()"
      ],
      "execution_count": null,
      "outputs": []
    },
    {
      "cell_type": "markdown",
      "metadata": {
        "id": "7xECtuTNphxI"
      },
      "source": [
        "#test "
      ]
    },
    {
      "cell_type": "code",
      "metadata": {
        "id": "jF9-IsA83Iyj"
      },
      "source": [
        "import os\n",
        "home = '/content'\n",
        "os.chdir(home)"
      ],
      "execution_count": null,
      "outputs": []
    },
    {
      "cell_type": "code",
      "metadata": {
        "colab": {
          "base_uri": "https://localhost:8080/"
        },
        "id": "LE_i0MGErtB_",
        "outputId": "ebb0b60a-3175-46ff-806f-c247cc519a95"
      },
      "source": [
        "!git init\n",
        "!git remote add origin git@github.com:s1250103/Public_mori-lab.git\n",
        "!git config core.sparsecheckout true\n",
        "!echo \"experiments/b_wide/Implement\" > .git/info/sparse-checkout\n",
        "\n",
        "!git fetch\n",
        "!git checkout remotes/origin/b__wide\n",
        "!git branch -a"
      ],
      "execution_count": null,
      "outputs": [
        {
          "output_type": "stream",
          "text": [
            "Initialized empty Git repository in /content/.git/\n",
            "Host key verification failed.\n",
            "fatal: Could not read from remote repository.\n",
            "\n",
            "Please make sure you have the correct access rights\n",
            "and the repository exists.\n",
            "error: pathspec 'remotes/origin/b__wide' did not match any file(s) known to git.\n"
          ],
          "name": "stdout"
        }
      ]
    },
    {
      "cell_type": "code",
      "metadata": {
        "colab": {
          "base_uri": "https://localhost:8080/",
          "height": 35
        },
        "id": "sl5gLJQX7HLq",
        "outputId": "b0d09b56-3d37-4770-c51c-2992e8652f60"
      },
      "source": [
        "import shutil\n",
        "shutil.move('/content/desk', '/content/drive/MyDrive/colab/start')"
      ],
      "execution_count": 65,
      "outputs": [
        {
          "output_type": "execute_result",
          "data": {
            "application/vnd.google.colaboratory.intrinsic+json": {
              "type": "string"
            },
            "text/plain": [
              "'/content/drive/MyDrive/colab/start'"
            ]
          },
          "metadata": {
            "tags": []
          },
          "execution_count": 65
        }
      ]
    }
  ]
}