{
  "nbformat": 4,
  "nbformat_minor": 0,
  "metadata": {
    "colab": {
      "name": "learning.ipynb",
      "provenance": [],
      "authorship_tag": "ABX9TyOBzxXPxHRGoH1wErhhu22q",
      "include_colab_link": true
    },
    "kernelspec": {
      "name": "python3",
      "display_name": "Python 3"
    }
  },
  "cells": [
    {
      "cell_type": "markdown",
      "metadata": {
        "id": "view-in-github",
        "colab_type": "text"
      },
      "source": [
        "<a href=\"https://colab.research.google.com/github/s1250103/Public_mori-lab/blob/preprcing-learning/experiments/preprcing-learning/learning.ipynb\" target=\"_parent\"><img src=\"https://colab.research.google.com/assets/colab-badge.svg\" alt=\"Open In Colab\"/></a>"
      ]
    },
    {
      "cell_type": "code",
      "metadata": {
        "id": "ReeI66C5FVCn"
      },
      "source": [
        "import keras\n",
        "import gc\n",
        "keras.backend.clear_session()\n",
        "gc.collect()"
      ],
      "execution_count": null,
      "outputs": []
    },
    {
      "cell_type": "markdown",
      "metadata": {
        "id": "o7aF5olQLzzr"
      },
      "source": [
        "# [環境構築]"
      ]
    },
    {
      "cell_type": "code",
      "metadata": {
        "id": "cT6HCp36Dh1R"
      },
      "source": [
        "from tensorflow.keras.utils import plot_model\n",
        "from tensorflow.keras import layers, models, initializers, callbacks\n",
        "import keras\n",
        "import gc\n",
        "from google.colab import drive\n",
        "import os\n",
        "import shutil\n"
      ],
      "execution_count": null,
      "outputs": []
    },
    {
      "cell_type": "code",
      "metadata": {
        "colab": {
          "base_uri": "https://localhost:8080/"
        },
        "id": "8VLZTe-_Fz-G",
        "outputId": "106622b1-6bfb-403e-f515-b0c4cadd857b"
      },
      "source": [
        "#@title gdrive マウント\n",
        "if not os.path.exists('/content/drive'):\n",
        "  drive.mount('/content/drive')\n",
        "else:\n",
        "  print(\"Already confirm\")\n"
      ],
      "execution_count": null,
      "outputs": [
        {
          "output_type": "stream",
          "text": [
            "Mounted at /content/drive\n"
          ],
          "name": "stdout"
        }
      ]
    },
    {
      "cell_type": "code",
      "metadata": {
        "id": "VVHimjBTJ_7Y"
      },
      "source": [
        "#@title 一時的にファイルを置くディレクトリ'desk'を作成\n",
        "desk = '/content/desk'\n",
        "if not os.path.exists(desk):\n",
        "  os.mkdir(desk)\n",
        "os.chdir(desk)"
      ],
      "execution_count": null,
      "outputs": []
    },
    {
      "cell_type": "code",
      "metadata": {
        "id": "EYjxmEMpAZU1",
        "cellView": "code",
        "colab": {
          "base_uri": "https://localhost:8080/"
        },
        "outputId": "a84cdb65-5b3d-4873-8d21-e89d52c0c31d"
      },
      "source": [
        "#@title 必要なファイルを'desk'にコピー\n",
        "\n",
        "wants_paths = [\n",
        "'/content/drive/MyDrive/colab/dence1223/key20201218.h5',\n",
        "'/content/drive/MyDrive/colab/dence1223/normalTrainLabels.npz',\n",
        "'/content/drive/MyDrive/colab/dence1223/normalTrainVideos.npz',\n",
        "'/content/drive/MyDrive/colab/dence1223/normalTestLabels.npz',\n",
        "'/content/drive/MyDrive/colab/dence1223/normalTestVideos.npz'\n",
        "]\n",
        "\n",
        "for want in wants_paths:\n",
        "  if not os.path.exists(os.path.join(desk, os.path.basename(want))):\n",
        "    shutil.copy2(want, desk)\n",
        "    print(\"get : \", want)\n",
        "            "
      ],
      "execution_count": null,
      "outputs": [
        {
          "output_type": "stream",
          "text": [
            "get :  /content/drive/MyDrive/colab/dence1223/normalTestVideos.npz\n"
          ],
          "name": "stdout"
        }
      ]
    },
    {
      "cell_type": "code",
      "metadata": {
        "id": "eBIQL82BN3Ny"
      },
      "source": [
        "#@title データフォーマットを規定\n",
        "class video_format:\n",
        "  name = \"video_format\"\n",
        "  # サンプリングされたCMデータの仕様\n",
        "  playtime = \"15秒\"\n",
        "  displaysize = \"(any, any, RGB)\"\n",
        "  videoformat = \"any\"\n",
        "  # モデルが扱うCMデータ(上のようなデータは、下のように変換される)\n",
        "  HEIGHT = 45\n",
        "  WIDTH = 80\n",
        "  FRAME_SIZE = 30\n",
        "  COLOR = \"RGB\"\n",
        "  FPS = \"2 (FRAME_SIZE / playtime)\" # 定義ではなく上から導かれた値"
      ],
      "execution_count": null,
      "outputs": []
    },
    {
      "cell_type": "markdown",
      "metadata": {
        "id": "7mYb1Eo8LzSZ"
      },
      "source": [
        "# [データ用意・学習準備]"
      ]
    },
    {
      "cell_type": "code",
      "metadata": {
        "colab": {
          "base_uri": "https://localhost:8080/"
        },
        "id": "m1J7DrpaIYbG",
        "outputId": "e9a2fd75-90ca-4601-c71d-1d77aaa83799"
      },
      "source": [
        "#@title 入力データの情報を規定\n",
        "format1 = video_format()\n",
        "\n",
        "colorSet = {'BW' : 1, 'RGB' : 3}\n",
        "\n",
        "#入力層の設定\n",
        "input_frameWIDTH = format1.WIDTH\n",
        "input_frameHEIGHT = format1.HEIGHT\n",
        "input_frameSIZE = format1.FRAME_SIZE\n",
        "input_frameCOLOR = colorSet['RGB']\n",
        "input_allPattern = input_frameWIDTH * input_frameHEIGHT * input_frameSIZE * input_frameCOLOR\n",
        "\n",
        "print(\n",
        "    input_frameWIDTH,\n",
        "    input_frameHEIGHT,\n",
        "    input_frameSIZE,\n",
        "    input_frameCOLOR,\n",
        "    input_allPattern )"
      ],
      "execution_count": null,
      "outputs": [
        {
          "output_type": "stream",
          "text": [
            "80 45 30 3 324000\n"
          ],
          "name": "stdout"
        }
      ]
    },
    {
      "cell_type": "markdown",
      "metadata": {
        "id": "EtBH4noVG9N3"
      },
      "source": [
        "### [A-4-1-1]訓練データ用意\n"
      ]
    },
    {
      "cell_type": "code",
      "metadata": {
        "id": "st7bA8hCePqA"
      },
      "source": [
        "#@title 訓練データ用意\n",
        "import numpy as np\n",
        "import tensorflow as tf\n",
        "\n",
        "\n",
        "v = np.load('/content/desk/normalTrainVideos.npz')\n",
        "l = np.load('/content/desk/normalTrainLabels.npz')\n",
        "\n",
        "train_videos = []\n",
        "train_labels = []\n",
        "for i in v.files:\n",
        "  train_videos.append(v[i])\n",
        "for i in l.files:\n",
        "  train_labels.append(l[i])\n",
        "\n",
        "train_videos = np.array(train_videos)\n",
        "train_labels = np.array(train_labels)\n",
        "train_labels = tf.keras.utils.to_categorical(train_labels, 4)"
      ],
      "execution_count": null,
      "outputs": []
    },
    {
      "cell_type": "markdown",
      "metadata": {
        "id": "XEmwMArpHHoG"
      },
      "source": [
        "### [A-4-1-2]テストデータ用意\n"
      ]
    },
    {
      "cell_type": "code",
      "metadata": {
        "id": "4u8F_cPhHYHf"
      },
      "source": [
        "#@title テストデータ用意\n",
        "import numpy as np\n",
        "\n",
        "v = np.load('/content/desk/normalTrainVideos.npz')\n",
        "l = np.load('/content/desk/normalTrainLabels.npz')"
      ],
      "execution_count": null,
      "outputs": []
    },
    {
      "cell_type": "code",
      "metadata": {
        "id": "_l6Lz8kwHjkJ"
      },
      "source": [
        "test_videos = []\n",
        "test_labels = []\n",
        "for i in v.files:\n",
        "  test_videos.append(v[i])\n",
        "for i in l.files:\n",
        "  test_labels.append(l[i])\n",
        "\n",
        "test_videos = np.array(test_videos)\n",
        "test_labels = np.array(test_labels)\n",
        "test_labels = tf.keras.utils.to_categorical(test_labels, 4)"
      ],
      "execution_count": null,
      "outputs": []
    },
    {
      "cell_type": "code",
      "metadata": {
        "id": "S2QcmAt1xl15"
      },
      "source": [
        "from pandas import DataFrame\n",
        "import matplotlib.pyplot as plt\n",
        "import os\n",
        "\n",
        "def savePlot(fig, plus):\n",
        "  # name = inv_losses[pick_loss]\n",
        "  name = 'tmp'\n",
        "  name = name + '_' + plus\n",
        "  path_image = os.path.join(desk, name)\n",
        "  fig.savefig(path_image)\n",
        "\n",
        "def plotAcc(history):\n",
        "  fig = plt.figure()\n",
        "  ACC = fig.add_subplot(1,1,1)\n",
        "  props = {\n",
        "      'title' : 'plot of ACCURACY',\n",
        "      'xlabel' : 'epoch',\n",
        "      'ylabel' : 'value'\n",
        "  }\n",
        "  ACC.set(**props)\n",
        "  acc = DataFrame(history.history['acc'])\n",
        "  # val_acc = DataFrame(history.history['val_acc'])\n",
        "  ACC.plot(acc, label='acc', marker='o', color='blue')\n",
        "  # ACC.plot(val_acc, label='val_acc', marker='o', linestyle='--', color='orange')\n",
        "  ACC.legend()\n",
        "\n",
        "  savePlot(fig, 'acc')\n",
        "\n",
        "def plotLoss(history):\n",
        "  fig = plt.figure()\n",
        "  LOSS = fig.add_subplot(1,1,1)\n",
        "  props = {\n",
        "      'title' : 'plot of LOSS',\n",
        "      'xlabel' : 'epoch',\n",
        "      'ylabel' : 'value'\n",
        "  }\n",
        "  LOSS.set(**props)\n",
        "  loss = DataFrame(history.history['loss'])\n",
        "  # val_loss = DataFrame(history.history['val_loss'])\n",
        "  LOSS.plot(loss, label='loss', marker='o', color='blue')\n",
        "  # LOSS.plot(val_loss, label='val_loss', marker='o', linestyle='--', color='orange')\n",
        "  LOSS.legend()\n",
        "\n",
        "  savePlot(fig, 'loss')"
      ],
      "execution_count": null,
      "outputs": []
    },
    {
      "cell_type": "markdown",
      "metadata": {
        "id": "nu5-RNhBFk6t"
      },
      "source": [
        "一覧"
      ]
    },
    {
      "cell_type": "code",
      "metadata": {
        "id": "N-1ykomzuNT7"
      },
      "source": [
        "# loss一覧\n",
        "mse = tf.keras.losses.MeanSquaredError()\n",
        "cce = tf.keras.losses.CategoricalCrossentropy()\n",
        "\n",
        "# optimizer一覧\n",
        "sgd = keras.optimizers.SGD(lr=0.00001, momentum=0.0, decay=0.0, nesterov=False)"
      ],
      "execution_count": null,
      "outputs": []
    },
    {
      "cell_type": "markdown",
      "metadata": {
        "id": "gN9MMkqbuYv9"
      },
      "source": [
        "# [[学習実行]]"
      ]
    },
    {
      "cell_type": "code",
      "metadata": {
        "id": "rsOKFK1vG5Nm"
      },
      "source": [
        "def learning(optimizer, loss):\n",
        "  pass"
      ],
      "execution_count": null,
      "outputs": []
    },
    {
      "cell_type": "code",
      "metadata": {
        "id": "X7Hj2dSEsF1x",
        "colab": {
          "base_uri": "https://localhost:8080/",
          "height": 627
        },
        "outputId": "5e96c4a2-6ab3-45c3-87dc-38efb193ef30"
      },
      "source": [
        "#学習設定\n",
        "loss=cce\n",
        "optimizer=sgd\n",
        "\n",
        "\n",
        "# モデル準備\n",
        "model = models.load_model('/content/desk/key20201218.h5')\n",
        "\n",
        "# コンパイル\n",
        "model.compile(\n",
        "    optimizer=optimizer, \n",
        "    loss=loss,\n",
        "    metrics=['acc'])\n",
        "\n",
        "# 実行\n",
        "history = model.fit(\n",
        "      train_videos, \n",
        "      train_labels, \n",
        "      validation_data=(test_videos, test_labels),\n",
        "      batch_size=16,\n",
        "      epochs=512,\n",
        "      verbose=0)\n",
        "print(\"Complete.\")\n",
        "\n",
        "# プロット\n",
        "plotLoss(history)\n",
        "plotAcc(history)"
      ],
      "execution_count": null,
      "outputs": [
        {
          "output_type": "stream",
          "text": [
            "WARNING:tensorflow:No training configuration found in the save file, so the model was *not* compiled. Compile it manually.\n",
            "Complete.\n"
          ],
          "name": "stdout"
        },
        {
          "output_type": "display_data",
          "data": {
            "image/png": "[encoded data removed]",
            "text/plain": [
              "<Figure size 432x288 with 1 Axes>"
            ]
          },
          "metadata": {
            "tags": [],
            "needs_background": "light"
          }
        },
        {
          "output_type": "display_data",
          "data": {
            "image/png": "[encoded data removed]",
            "text/plain": [
              "<Figure size 432x288 with 1 Axes>"
            ]
          },
          "metadata": {
            "tags": [],
            "needs_background": "light"
          }
        }
      ]
    },
    {
      "cell_type": "code",
      "metadata": {
        "colab": {
          "base_uri": "https://localhost:8080/",
          "height": 627
        },
        "id": "8QC5NCn1GAbM",
        "outputId": "0d6d6ff3-9b30-49de-94b4-40140dc2de8d"
      },
      "source": [
        "#学習設定\n",
        "loss=mse\n",
        "optimizer=sgd\n",
        "\n",
        "\n",
        "# モデル準備\n",
        "model = models.load_model('/content/desk/key20201218.h5')\n",
        "\n",
        "# コンパイル\n",
        "model.compile(\n",
        "    optimizer=sgd, \n",
        "    loss=loss,\n",
        "    metrics=['acc'])\n",
        "\n",
        "# 実行\n",
        "history = model.fit(\n",
        "      train_videos, \n",
        "      train_labels, \n",
        "      # validation_data=(test_videos, test_labels),\n",
        "      batch_size=16,\n",
        "      epochs=1024,\n",
        "      verbose=0)\n",
        "print(\"Complete.\")\n",
        "\n",
        "# プロット\n",
        "plotLoss(history)\n",
        "plotAcc(history)"
      ],
      "execution_count": null,
      "outputs": [
        {
          "output_type": "stream",
          "text": [
            "WARNING:tensorflow:No training configuration found in the save file, so the model was *not* compiled. Compile it manually.\n",
            "Complete.\n"
          ],
          "name": "stdout"
        },
        {
          "output_type": "display_data",
          "data": {
            "image/png": "[encoded data removed]",
            "text/plain": [
              "<Figure size 432x288 with 1 Axes>"
            ]
          },
          "metadata": {
            "tags": [],
            "needs_background": "light"
          }
        },
        {
          "output_type": "display_data",
          "data": {
            "image/png": "[encoded data removed]",
            "text/plain": [
              "<Figure size 432x288 with 1 Axes>"
            ]
          },
          "metadata": {
            "tags": [],
            "needs_background": "light"
          }
        }
      ]
    },
    {
      "cell_type": "markdown",
      "metadata": {
        "id": "7xECtuTNphxI"
      },
      "source": [
        "#[ストレージへ保存]"
      ]
    },
    {
      "cell_type": "code",
      "metadata": {
        "id": "Ss4IH3BWq1ed"
      },
      "source": [
        "shelf = '/content/drive/MyDrive/colab'\n",
        "book = 'dence1223'\n",
        "shelf_book = os.path.join(shelf, book)\n",
        "if not os.path.exists(shelf_book):\n",
        "  os.mkdir(shelf_book)   "
      ],
      "execution_count": null,
      "outputs": []
    },
    {
      "cell_type": "code",
      "metadata": {
        "id": "Df4WB_241-X9"
      },
      "source": [
        "wants_paths = [\n",
        "'/content/desk/normalTestLabels.npz',\n",
        "'/content/desk/normalTestVideos.npz'\n",
        "]    \n",
        "\n",
        "for want in wants_paths:\n",
        "  shutil.copy2(\n",
        "      want,\n",
        "      shelf_book\n",
        "  )"
      ],
      "execution_count": null,
      "outputs": []
    },
    {
      "cell_type": "markdown",
      "metadata": {
        "id": "K4fLap4v1xYb"
      },
      "source": [
        "#[掃き溜め]"
      ]
    },
    {
      "cell_type": "code",
      "metadata": {
        "id": "TbR5DmQysEJl"
      },
      "source": [
        "%tensorflow_version 2.x\n",
        "!pip2 install --upgrade google-auth-oauthlib grpcio >/dev/null 2>&1\n",
        "import shutil\n",
        "from tensorflow.keras import layers, models, initializers, callbacks\n",
        "log_dir = '/tmp/log'\n",
        "shutil.rmtree(log_dir, ignore_errors=True)\n",
        "tensorboard_callback = callbacks.TensorBoard(log_dir=log_dir,\n",
        "                                             histogram_freq=1)"
      ],
      "execution_count": null,
      "outputs": []
    },
    {
      "cell_type": "code",
      "metadata": {
        "id": "D_jDvyYmDkYG"
      },
      "source": [
        "losses = {\n",
        "    'CCE' : 'categorical_crossentropy',\n",
        "    'SCE' : 'sparse_categorical_crossentropy',\n",
        "\n",
        "    'MSE' : 'mean_squared_error',\n",
        "    'MSLE' : 'mean_squared_logarithmic_error',\n",
        "    'MAE' : 'mean_absolute_error',\n",
        "}\n",
        "def inverse_dict(d):\n",
        "    return {v:k for k,v in d.items()}\n",
        "\n",
        "inv_losses = inverse_dict(losses)\n"
      ],
      "execution_count": null,
      "outputs": []
    },
    {
      "cell_type": "code",
      "metadata": {
        "id": "0_l9fiK4yfVu"
      },
      "source": [
        "#@title 学習\n",
        "%%time\n",
        "history = model.fit(\n",
        "      train_videos, train_labels, \n",
        "      validation_data=(test_videos, test_labels),\n",
        "      batch_size=16, epochs= 30,\n",
        "      # callbacks=[tensorboard_callback]\n",
        "      )\n",
        "print(\"Complete.\")"
      ],
      "execution_count": null,
      "outputs": []
    },
    {
      "cell_type": "code",
      "metadata": {
        "id": "mCneOHGy6VXw"
      },
      "source": [
        "!curl -OL https://bin.equinox.io/c/4VmDzA7iaHb/ngrok-stable-linux-amd64.zip\n",
        "!unzip -o ngrok-stable-linux-amd64.zip"
      ],
      "execution_count": null,
      "outputs": []
    },
    {
      "cell_type": "code",
      "metadata": {
        "id": "o3oGrHRwWz58",
        "colab": {
          "base_uri": "https://localhost:8080/"
        },
        "outputId": "77002d56-abf7-48b7-8160-f5523bd62275"
      },
      "source": [
        "get_ipython().system_raw(\n",
        "    'tensorboard --logdir {} --host 0.0.0.0 --port 6006 &'\n",
        "    .format(log_dir)\n",
        ")\n",
        "get_ipython().system_raw('./ngrok http 6006 &')\n",
        "!curl -s http://localhost:4040/api/tunnels | python3 -c \\\n",
        "    \"import sys, json; print(json.load(sys.stdin)['tunnels'][0]['public_url'])\""
      ],
      "execution_count": null,
      "outputs": [
        {
          "output_type": "stream",
          "text": [
            "https://6b5d01d27e35.ngrok.io\n"
          ],
          "name": "stdout"
        }
      ]
    }
  ]
}