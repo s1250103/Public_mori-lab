{
  "nbformat": 4,
  "nbformat_minor": 0,
  "metadata": {
    "colab": {
      "name": "0101.newModel.ipynb",
      "provenance": [],
      "authorship_tag": "ABX9TyMreDXIMGu1u54j57sTbeo8",
      "include_colab_link": true
    },
    "kernelspec": {
      "name": "python3",
      "display_name": "Python 3"
    }
  },
  "cells": [
    {
      "cell_type": "markdown",
      "metadata": {
        "id": "view-in-github",
        "colab_type": "text"
      },
      "source": [
        "<a href=\"https://colab.research.google.com/github/s1250103/Public_mori-lab/blob/eras/eras/tune/programs/0101_newModel.ipynb\" target=\"_parent\"><img src=\"https://colab.research.google.com/assets/colab-badge.svg\" alt=\"Open In Colab\"/></a>"
      ]
    },
    {
      "cell_type": "code",
      "metadata": {
        "id": "d-IEEXJl8kN2"
      },
      "source": [
        ""
      ],
      "execution_count": null,
      "outputs": []
    },
    {
      "cell_type": "markdown",
      "metadata": {
        "id": "eJv5QoBNNxn9"
      },
      "source": [
        "#共通設定"
      ]
    },
    {
      "cell_type": "code",
      "metadata": {
        "id": "7pVngb_1YBOx"
      },
      "source": [
        "%tensorflow_version 2.x"
      ],
      "execution_count": null,
      "outputs": []
    },
    {
      "cell_type": "markdown",
      "metadata": {
        "id": "9E6JU2cCN13h"
      },
      "source": [
        "##スクラッチ"
      ]
    },
    {
      "cell_type": "code",
      "metadata": {
        "id": "MtIB0N8MMNol",
        "colab": {
          "base_uri": "https://localhost:8080/",
          "height": 186
        },
        "outputId": "db113cfa-3d31-418e-9222-dadbec099bfe"
      },
      "source": [
        "keras.backend.clear_session()\n",
        "gc.collect()"
      ],
      "execution_count": null,
      "outputs": [
        {
          "output_type": "error",
          "ename": "NameError",
          "evalue": "ignored",
          "traceback": [
            "\u001b[0;31m---------------------------------------------------------------------------\u001b[0m",
            "\u001b[0;31mNameError\u001b[0m                                 Traceback (most recent call last)",
            "\u001b[0;32m<ipython-input-2-61a860ea1027>\u001b[0m in \u001b[0;36m<module>\u001b[0;34m()\u001b[0m\n\u001b[0;32m----> 1\u001b[0;31m \u001b[0mkeras\u001b[0m\u001b[0;34m.\u001b[0m\u001b[0mbackend\u001b[0m\u001b[0;34m.\u001b[0m\u001b[0mclear_session\u001b[0m\u001b[0;34m(\u001b[0m\u001b[0;34m)\u001b[0m\u001b[0;34m\u001b[0m\u001b[0;34m\u001b[0m\u001b[0m\n\u001b[0m\u001b[1;32m      2\u001b[0m \u001b[0mgc\u001b[0m\u001b[0;34m.\u001b[0m\u001b[0mcollect\u001b[0m\u001b[0;34m(\u001b[0m\u001b[0;34m)\u001b[0m\u001b[0;34m\u001b[0m\u001b[0;34m\u001b[0m\u001b[0m\n",
            "\u001b[0;31mNameError\u001b[0m: name 'keras' is not defined"
          ]
        }
      ]
    },
    {
      "cell_type": "markdown",
      "metadata": {
        "id": "m734DdXEN6sl"
      },
      "source": [
        "##import"
      ]
    },
    {
      "cell_type": "code",
      "metadata": {
        "id": "mrdj6-BQIjeU"
      },
      "source": [
        "# file dealing\n",
        "import os\n",
        "import shutil\n",
        "from google.colab import drive\n",
        "# data dealing\n",
        "import numpy as np\n",
        "from pandas import DataFrame\n",
        "import matplotlib.pyplot as plt\n",
        "# process deasing\n",
        "import gc\n",
        "\n",
        "# machine learning (back)\n",
        "import tensorflow as tf\n",
        "from tensorflow.keras.utils import plot_model\n",
        "from tensorflow.keras import layers, models, initializers, callbacks\n",
        "\n",
        "# machine learning\n",
        "import keras\n",
        "from keras.datasets import mnist\n",
        "from keras.models import Sequential\n",
        "from keras.layers import Dense, Activation, Dropout\n",
        "from keras.utils.np_utils import to_categorical\n"
      ],
      "execution_count": null,
      "outputs": []
    },
    {
      "cell_type": "markdown",
      "metadata": {
        "id": "rfAtQHN6N--8"
      },
      "source": [
        "## データフォーマットを規定"
      ]
    },
    {
      "cell_type": "code",
      "metadata": {
        "id": "X4xSyyRpKq3W"
      },
      "source": [
        "class video_format:\n",
        "  name = \"video_format\"\n",
        "  # サンプリングされたCMデータの仕様\n",
        "  playtime = \"15秒\"\n",
        "  displaysize = \"(any, any, RGB)\"\n",
        "  videoformat = \"any\"\n",
        "  # モデルが扱うCMデータ(上のようなデータは、下のように変換される)\n",
        "  HEIGHT = 45\n",
        "  WIDTH = 80\n",
        "  FRAME_SIZE = 30\n",
        "  COLORinfo = 3 # \"RGB\"\n",
        "  FPS = \"2 (FRAME_SIZE / playtime)\" # 定義ではなく上から導かれた値\n",
        "\n",
        "format1 = video_format()"
      ],
      "execution_count": null,
      "outputs": []
    },
    {
      "cell_type": "markdown",
      "metadata": {
        "id": "bBa2QGgHVOn4"
      },
      "source": [
        "#データをインポート"
      ]
    },
    {
      "cell_type": "code",
      "metadata": {
        "colab": {
          "base_uri": "https://localhost:8080/"
        },
        "id": "8VLZTe-_Fz-G",
        "outputId": "642b6fb5-94bc-4ac9-f7c9-fd9ca85af9ab"
      },
      "source": [
        "#@title gdrive マウント\n",
        "if not os.path.exists('/content/drive'):\n",
        "  drive.mount('/content/drive')\n",
        "else:\n",
        "  print(\"Already confirm\")\n"
      ],
      "execution_count": null,
      "outputs": [
        {
          "output_type": "stream",
          "text": [
            "Mounted at /content/drive\n"
          ],
          "name": "stdout"
        }
      ]
    },
    {
      "cell_type": "code",
      "metadata": {
        "id": "fYNdXlbEVxGM"
      },
      "source": [
        "#@title 一時的にファイルを置くディレクトリ'desk'を作成\n",
        "desk = '/content/desk'\n",
        "if not os.path.exists(desk):\n",
        "  os.mkdir(desk)\n",
        "os.chdir(desk)"
      ],
      "execution_count": null,
      "outputs": []
    },
    {
      "cell_type": "code",
      "metadata": {
        "id": "EYjxmEMpAZU1",
        "cellView": "code",
        "colab": {
          "base_uri": "https://localhost:8080/"
        },
        "outputId": "693d1f74-f513-4a79-fd13-a019c5cf0804"
      },
      "source": [
        "#@title 必要なファイルを'desk'にコピー\n",
        "%%time\n",
        "wants_paths = [\n",
        "'/content/drive/MyDrive/colab/dence1223/normalTrainLabels.npz',\n",
        "'/content/drive/MyDrive/colab/dence1223/normalTrainVideos.npz',\n",
        "'/content/drive/MyDrive/colab/dence1223/normalTestLabels.npz',\n",
        "'/content/drive/MyDrive/colab/dence1223/normalTestVideos.npz'\n",
        "]\n",
        "\n",
        "for want in wants_paths:\n",
        "  if not os.path.exists(os.path.join(desk, os.path.basename(want))):\n",
        "    shutil.copy2(want, desk)\n",
        "    print(\"get : \", want)\n",
        "            "
      ],
      "execution_count": null,
      "outputs": [
        {
          "output_type": "stream",
          "text": [
            "get :  /content/drive/MyDrive/colab/dence1223/normalTrainLabels.npz\n",
            "get :  /content/drive/MyDrive/colab/dence1223/normalTrainVideos.npz\n",
            "get :  /content/drive/MyDrive/colab/dence1223/normalTestLabels.npz\n",
            "get :  /content/drive/MyDrive/colab/dence1223/normalTestVideos.npz\n",
            "CPU times: user 46.7 ms, sys: 457 ms, total: 503 ms\n",
            "Wall time: 5.65 s\n"
          ],
          "name": "stdout"
        }
      ]
    },
    {
      "cell_type": "code",
      "metadata": {
        "id": "z95hdLLJc-VD"
      },
      "source": [
        "def prepare_data():\n",
        "  # traindata\n",
        "  v = np.load('/content/desk/normalTrainVideos.npz')\n",
        "  l = np.load('/content/desk/normalTrainLabels.npz')\n",
        "\n",
        "  train_videos = [] \n",
        "  train_labels = []\n",
        "  for i in v.files:\n",
        "    train_videos.append(v[i])\n",
        "  for i in l.files:\n",
        "    train_labels.append(l[i])\n",
        "\n",
        "  train_videos = np.array(train_videos)\n",
        "  train_labels = np.array(train_labels)\n",
        "  train_labels = tf.keras.utils.to_categorical(train_labels, 4)\n",
        "\n",
        "  # testdata\n",
        "  v = np.load('/content/desk/normalTestVideos.npz')\n",
        "  l = np.load('/content/desk/normalTestLabels.npz')\n",
        "\n",
        "  test_videos = []\n",
        "  test_labels = []\n",
        "  for i in v.files:\n",
        "    test_videos.append(v[i])\n",
        "  for i in l.files:\n",
        "    test_labels.append(l[i])\n",
        "\n",
        "  test_videos = np.array(test_videos)\n",
        "  test_labels = np.array(test_labels)\n",
        "  test_labels = tf.keras.utils.to_categorical(test_labels, 4)\n",
        "  \n",
        "  return train_videos, train_labels,  test_videos, test_labels"
      ],
      "execution_count": null,
      "outputs": []
    },
    {
      "cell_type": "code",
      "metadata": {
        "id": "weiihIiWesyF"
      },
      "source": [
        "train_videos, train_labels,  test_videos, test_labels = prepare_data()"
      ],
      "execution_count": null,
      "outputs": []
    },
    {
      "cell_type": "markdown",
      "metadata": {
        "id": "H8Fa2FDjVVFi"
      },
      "source": [
        "#モデル作成"
      ]
    },
    {
      "cell_type": "code",
      "metadata": {
        "id": "Yo7MltnfbX7e"
      },
      "source": [
        "seed = 20201218\n",
        "np.random.seed(seed)\n",
        "tf.random.set_seed(seed)"
      ],
      "execution_count": null,
      "outputs": []
    },
    {
      "cell_type": "code",
      "metadata": {
        "id": "ouZfojLqyknP"
      },
      "source": [
        "# モデル作成\n",
        "model = models.Sequential()\n",
        "# 入力層\n",
        "model.add(\n",
        "     layers.Reshape(\n",
        "        (format1.FRAME_SIZE,\n",
        "         format1.HEIGHT,\n",
        "         format1.WIDTH,\n",
        "         format1.COLORinfo),\n",
        "        input_shape=(format1.FRAME_SIZE * format1.HEIGHT * format1.WIDTH * format1.COLORinfo,),\n",
        "        name='ENTRANCE' )\n",
        ")\n",
        "# 中間層\n",
        "## dropout_0\n",
        "# model.add(layers.Dropout(0.2))\n",
        "\n",
        "## 畳み込み0\n",
        "model.add(\n",
        "    layers.Conv3D(\n",
        "        filters=32,\n",
        "        kernel_size=(2, 3, 3),\n",
        "        strides=(2, 3, 3),\n",
        "        padding='same',\n",
        "        activation='relu',\n",
        "        name='conv0'))\n",
        "## pool0\n",
        "model.add(\n",
        "    layers.MaxPooling3D(pool_size=(2, 3, 3), name='pool1'))\n",
        "\n",
        "## dropout_1\n",
        "# model.add(layers.Dropout(0.2))\n",
        "\n",
        "## 全結合0\n",
        "model.add(\n",
        "    layers.Flatten(name='pipe'),\n",
        ")\n",
        "model.add(\n",
        "    layers.Dense(1024,\n",
        "      activation='relu',\n",
        "      name='DAM' ),\n",
        ")\n",
        "# 出力層\n",
        "model.add(\n",
        "    layers.Dense(4, activation='softmax', name='WATERSUPPLY')\n",
        ")\n",
        "\n",
        "# 最適化\n",
        "adam = keras.optimizers.Adam(\n",
        "    lr=1e-7, beta_1=0.9, beta_2=0.999,\n",
        "    epsilon=None, decay=0.0, amsgrad=False)\n",
        "# 誤差関数\n",
        "mse = tf.keras.losses.MeanSquaredError()\n",
        "cce = tf.keras.losses.CategoricalCrossentropy()\n",
        "\n",
        "model.compile(\n",
        "    optimizer=adam,\n",
        "    loss=cce,\n",
        "    metrics=['acc', cce])"
      ],
      "execution_count": null,
      "outputs": []
    },
    {
      "cell_type": "markdown",
      "metadata": {
        "id": "62PHow0YW7WT"
      },
      "source": [
        "#学習実行"
      ]
    },
    {
      "cell_type": "code",
      "metadata": {
        "id": "F6JeXdD4PsaV"
      },
      "source": [
        "def plot(history):\n",
        "  HEIGHT = 2\n",
        "  WIDTH = 2\n",
        "\n",
        "  # 下地の用意\n",
        "  fig = plt.figure()\n",
        "  LOSS = fig.add_subplot(HEIGHT, WIDTH, 1)\n",
        "  ACC = fig.add_subplot(HEIGHT, WIDTH, 2)\n",
        "  LOSSDIF = fig.add_subplot(HEIGHT, WIDTH, 3)\n",
        "  plt.subplots_adjust(left=None, bottom=None, right=1.5, top=1.5, wspace=0.5, hspace=0.5)\n",
        "\n",
        "  # 1,1 loss\n",
        "  loss = DataFrame(history.history['loss'])\n",
        "  val_loss = DataFrame(history.history['val_loss'])\n",
        "  loss_props = {\n",
        "        'title' : 'LOSS',\n",
        "        'xlabel' : 'epoch',\n",
        "        'ylabel' : 'value'\n",
        "    }\n",
        "  LOSS.set(**loss_props)\n",
        "  LOSS.plot(loss, label='loss', color='blue')\n",
        "  LOSS.plot(val_loss, label='val_loss', color='orange')\n",
        "\n",
        "  # 1,2 acc\n",
        "  acc = DataFrame(history.history['acc'])\n",
        "  val_acc = DataFrame(history.history['val_acc'])\n",
        "  acc_props = {\n",
        "        'title' : 'ACCURACY',\n",
        "        'xlabel' : 'epoch',\n",
        "        'ylabel' : 'value'\n",
        "    }\n",
        "  ACC.set(**acc_props)\n",
        "  ACC.plot(acc, label='acc', color='blue')\n",
        "  ACC.plot(val_acc, label='val_acc', color='orange')\n",
        "\n",
        "  #2,1 loss.diff\n",
        "  loss_diff_props = {\n",
        "      'title' : 'loss_diff',\n",
        "      'xlabel' : 'epoch',\n",
        "      'ylabel' : 'value'\n",
        "  }\n",
        "  LOSSDIF.set(**loss_diff_props)\n",
        "  LOSSDIF.plot(loss.diff(), label='loss_diff', color='blue')\n",
        "  LOSSDIF.plot(val_loss.diff(), label='val_loss_diff', color='orange')\n",
        "  LOSSDIF.plot(val_loss.diff())\n",
        "  \n",
        "\n",
        "  #save\n",
        "  name = 'tmp'\n",
        "  path_image = os.path.join(desk, name)\n",
        "  fig.savefig(path_image)\n"
      ],
      "execution_count": null,
      "outputs": []
    },
    {
      "cell_type": "code",
      "metadata": {
        "id": "-OOmcZMqXnKn"
      },
      "source": [
        "%%time\n",
        "# 実行\n",
        "history = model.fit(\n",
        "      train_videos, train_labels,\n",
        "      validation_data=(test_videos, test_labels),\n",
        "      batch_size=32,\n",
        "      epochs=2048,\n",
        "      # verbose=0\n",
        "      )\n",
        "\n",
        "print(\"Complete.\")\n",
        "# プロット\n",
        "plot(history)"
      ],
      "execution_count": null,
      "outputs": []
    }
  ]
}