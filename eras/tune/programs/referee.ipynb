{
  "nbformat": 4,
  "nbformat_minor": 0,
  "metadata": {
    "colab": {
      "name": "referee.ipynb",
      "provenance": [],
      "collapsed_sections": [],
      "toc_visible": true,
      "authorship_tag": "ABX9TyPIRnmk2yaFJpYRu5d20wmj",
      "include_colab_link": true
    },
    "kernelspec": {
      "name": "python3",
      "display_name": "Python 3"
    },
    "accelerator": "GPU"
  },
  "cells": [
    {
      "cell_type": "markdown",
      "metadata": {
        "id": "view-in-github",
        "colab_type": "text"
      },
      "source": [
        "<a href=\"https://colab.research.google.com/github/s1250103/Public_mori-lab/blob/eras/eras/tune/programs/referee.ipynb\" target=\"_parent\"><img src=\"https://colab.research.google.com/assets/colab-badge.svg\" alt=\"Open In Colab\"/></a>"
      ]
    },
    {
      "cell_type": "markdown",
      "metadata": {
        "id": "eJv5QoBNNxn9"
      },
      "source": [
        "#共通設定"
      ]
    },
    {
      "cell_type": "code",
      "metadata": {
        "id": "7pVngb_1YBOx"
      },
      "source": [
        "%tensorflow_version 2.x"
      ],
      "execution_count": 2,
      "outputs": []
    },
    {
      "cell_type": "markdown",
      "metadata": {
        "id": "9E6JU2cCN13h"
      },
      "source": [
        "##スクラッチ"
      ]
    },
    {
      "cell_type": "code",
      "metadata": {
        "id": "MtIB0N8MMNol"
      },
      "source": [
        "keras.backend.clear_session()\n",
        "gc.collect()"
      ],
      "execution_count": null,
      "outputs": []
    },
    {
      "cell_type": "markdown",
      "metadata": {
        "id": "m734DdXEN6sl"
      },
      "source": [
        "##import"
      ]
    },
    {
      "cell_type": "code",
      "metadata": {
        "id": "mrdj6-BQIjeU"
      },
      "source": [
        "# file dealing\n",
        "import os\n",
        "import shutil\n",
        "from google.colab import drive\n",
        "# data dealing\n",
        "import numpy as np\n",
        "from pandas import DataFrame\n",
        "import matplotlib.pyplot as plt\n",
        "# process deasing\n",
        "import gc\n",
        "\n",
        "# machine learning (back)\n",
        "import tensorflow as tf\n",
        "from tensorflow.keras.utils import plot_model\n",
        "from tensorflow.keras import layers, models, initializers, callbacks\n",
        "\n",
        "# machine learning\n",
        "import keras\n",
        "from keras.datasets import mnist\n",
        "from keras.models import Sequential\n",
        "from keras.layers import Dense, Activation, Dropout\n",
        "from keras.utils.np_utils import to_categorical\n"
      ],
      "execution_count": 3,
      "outputs": []
    },
    {
      "cell_type": "code",
      "metadata": {
        "id": "iYrayiyZX5cA"
      },
      "source": [
        ""
      ],
      "execution_count": 3,
      "outputs": []
    },
    {
      "cell_type": "markdown",
      "metadata": {
        "id": "rfAtQHN6N--8"
      },
      "source": [
        "## データフォーマットを規定"
      ]
    },
    {
      "cell_type": "code",
      "metadata": {
        "id": "X4xSyyRpKq3W"
      },
      "source": [
        "class video_format:\n",
        "  name = \"video_format\"\n",
        "  # サンプリングされたCMデータの仕様\n",
        "  playtime = \"15秒\"\n",
        "  displaysize = \"(any, any, RGB)\"\n",
        "  videoformat = \"any\"\n",
        "  # モデルが扱うCMデータ(上のようなデータは、下のように変換される)\n",
        "  HEIGHT = 45\n",
        "  WIDTH = 80\n",
        "  FRAME_SIZE = 30\n",
        "  COLORinfo = 3 # \"RGB\"\n",
        "  FPS = \"2 (FRAME_SIZE / playtime)\" # 定義ではなく上から導かれた値\n",
        "\n",
        "format1 = video_format()"
      ],
      "execution_count": 4,
      "outputs": []
    },
    {
      "cell_type": "markdown",
      "metadata": {
        "id": "bBa2QGgHVOn4"
      },
      "source": [
        "#データをインポート"
      ]
    },
    {
      "cell_type": "code",
      "metadata": {
        "colab": {
          "base_uri": "https://localhost:8080/"
        },
        "id": "8VLZTe-_Fz-G",
        "outputId": "b774951d-f0ba-4591-bd81-e4f2cbd5721c"
      },
      "source": [
        "#@title gdrive マウント\n",
        "if not os.path.exists('/content/drive'):\n",
        "  drive.mount('/content/drive')\n",
        "else:\n",
        "  print(\"Already confirm\")\n"
      ],
      "execution_count": 5,
      "outputs": [
        {
          "output_type": "stream",
          "text": [
            "Mounted at /content/drive\n"
          ],
          "name": "stdout"
        }
      ]
    },
    {
      "cell_type": "code",
      "metadata": {
        "id": "fYNdXlbEVxGM"
      },
      "source": [
        "#@title 一時的にファイルを置くディレクトリ'desk'を作成\n",
        "desk = '/content/desk'\n",
        "if not os.path.exists(desk):\n",
        "  os.mkdir(desk)\n",
        "os.chdir(desk)"
      ],
      "execution_count": 6,
      "outputs": []
    },
    {
      "cell_type": "code",
      "metadata": {
        "id": "EYjxmEMpAZU1",
        "cellView": "code",
        "colab": {
          "base_uri": "https://localhost:8080/"
        },
        "outputId": "1bfcae70-5e19-476b-8ea4-e298dcf03cb6"
      },
      "source": [
        "#@title 必要なファイルを'desk'にコピー\n",
        "%%time\n",
        "wants_paths = [\n",
        "'/content/drive/MyDrive/colab/dence1223/normalTrainLabels.npz',\n",
        "'/content/drive/MyDrive/colab/dence1223/normalTrainVideos.npz',\n",
        "'/content/drive/MyDrive/colab/dence1223/normalTestLabels.npz',\n",
        "'/content/drive/MyDrive/colab/dence1223/normalTestVideos.npz'\n",
        "]\n",
        "\n",
        "for want in wants_paths:\n",
        "  if not os.path.exists(os.path.join(desk, os.path.basename(want))):\n",
        "    shutil.copy2(want, desk)\n",
        "    print(\"get : \", want)\n",
        "            "
      ],
      "execution_count": 7,
      "outputs": [
        {
          "output_type": "stream",
          "text": [
            "get :  /content/drive/MyDrive/colab/dence1223/normalTrainLabels.npz\n",
            "get :  /content/drive/MyDrive/colab/dence1223/normalTrainVideos.npz\n",
            "get :  /content/drive/MyDrive/colab/dence1223/normalTestLabels.npz\n",
            "get :  /content/drive/MyDrive/colab/dence1223/normalTestVideos.npz\n",
            "CPU times: user 68.8 ms, sys: 479 ms, total: 547 ms\n",
            "Wall time: 12.2 s\n"
          ],
          "name": "stdout"
        }
      ]
    },
    {
      "cell_type": "code",
      "metadata": {
        "id": "z95hdLLJc-VD"
      },
      "source": [
        "def prepare_data():\n",
        "  # traindata\n",
        "  v = np.load('/content/desk/normalTrainVideos.npz')\n",
        "  l = np.load('/content/desk/normalTrainLabels.npz')\n",
        "\n",
        "  train_videos = [] \n",
        "  train_labels = []\n",
        "  for i in v.files:\n",
        "    train_videos.append(v[i])\n",
        "  for i in l.files:\n",
        "    train_labels.append(l[i])\n",
        "\n",
        "  train_videos = np.array(train_videos)\n",
        "  train_labels = np.array(train_labels)\n",
        "  train_labels = tf.keras.utils.to_categorical(train_labels, 4)\n",
        "\n",
        "  # testdata\n",
        "  v = np.load('/content/desk/normalTestVideos.npz')\n",
        "  l = np.load('/content/desk/normalTestLabels.npz')\n",
        "\n",
        "  test_videos = []\n",
        "  test_labels = []\n",
        "  for i in v.files:\n",
        "    test_videos.append(v[i])\n",
        "  for i in l.files:\n",
        "    test_labels.append(l[i])\n",
        "\n",
        "  test_videos = np.array(test_videos)\n",
        "  test_labels = np.array(test_labels)\n",
        "  test_labels = tf.keras.utils.to_categorical(test_labels, 4)\n",
        "  \n",
        "  return train_videos, train_labels,  test_videos, test_labels"
      ],
      "execution_count": 8,
      "outputs": []
    },
    {
      "cell_type": "code",
      "metadata": {
        "id": "weiihIiWesyF"
      },
      "source": [
        "train_videos, train_labels,  test_videos, test_labels = prepare_data()"
      ],
      "execution_count": 9,
      "outputs": []
    },
    {
      "cell_type": "markdown",
      "metadata": {
        "id": "H8Fa2FDjVVFi"
      },
      "source": [
        "#モデル作成"
      ]
    },
    {
      "cell_type": "code",
      "metadata": {
        "id": "3zrc-n9IITlk"
      },
      "source": [
        "# モデル作成\n",
        "model = models.Sequential()\n",
        "# 入力層\n",
        "model.add(\n",
        "     layers.Reshape(\n",
        "        (format1.FRAME_SIZE,\n",
        "         format1.HEIGHT,\n",
        "         format1.WIDTH,\n",
        "         format1.COLORinfo),\n",
        "        input_shape=(format1.FRAME_SIZE * format1.HEIGHT * format1.WIDTH * format1.COLORinfo,),\n",
        "        name='ENTRANCE' )\n",
        ")\n",
        "# 中間層\n",
        "model.add(\n",
        "    layers.Flatten(name='RIVER' ),\n",
        ")\n",
        "model.add(\n",
        "    layers.Dense(1024,\n",
        "      activation='relu',\n",
        "      name='DAM' ),\n",
        ")\n",
        "# 出力層\n",
        "model.add(\n",
        "    layers.Dense(4, activation='softmax', name='WATERSUPPLY')\n",
        ")\n",
        "\n",
        "# 最適化\n",
        "adam = keras.optimizers.Adam(\n",
        "    lr=1e-5, beta_1=0.9, beta_2=0.999,\n",
        "    epsilon=None, decay=0.0, amsgrad=False)\n",
        "# 誤差関数\n",
        "mse = tf.keras.losses.MeanSquaredError()\n",
        "cce = tf.keras.losses.CategoricalCrossentropy()\n",
        "\n",
        "model.compile(\n",
        "    optimizer=adam,\n",
        "    loss=mse,\n",
        "    metrics=['acc', cce])"
      ],
      "execution_count": 10,
      "outputs": []
    },
    {
      "cell_type": "markdown",
      "metadata": {
        "id": "62PHow0YW7WT"
      },
      "source": [
        "#学習実行"
      ]
    },
    {
      "cell_type": "code",
      "metadata": {
        "id": "F6JeXdD4PsaV"
      },
      "source": [
        "def plot(history):\n",
        "  HEIGHT = 2\n",
        "  WIDTH = 2\n",
        "\n",
        "  # 下地の用意\n",
        "  fig = plt.figure()\n",
        "  LOSS = fig.add_subplot(HEIGHT, WIDTH, 1)\n",
        "  ACC = fig.add_subplot(HEIGHT, WIDTH, 2)\n",
        "  LOSSDIF = fig.add_subplot(HEIGHT, WIDTH, 3)\n",
        "  plt.subplots_adjust(left=None, bottom=None, right=1.5, top=1.5, wspace=None, hspace=None)\n",
        "\n",
        "  # 1,1 loss\n",
        "  loss = DataFrame(history.history['loss'])\n",
        "  val_loss = DataFrame(history.history['val_loss'])\n",
        "  loss_props = {\n",
        "        'title' : 'LOSS',\n",
        "        'xlabel' : 'epoch',\n",
        "        'ylabel' : 'value'\n",
        "    }\n",
        "  LOSS.set(**loss_props)\n",
        "  LOSS.plot(loss, label='loss', marker='o', color='blue')\n",
        "  LOSS.plot(val_loss, label='val_loss', marker='o', linestyle='--', color='orange')\n",
        "\n",
        "  # 1,2 acc\n",
        "  acc = DataFrame(history.history['acc'])\n",
        "  val_acc = DataFrame(history.history['val_acc'])\n",
        "  acc_props = {\n",
        "        'title' : 'ACCURACY',\n",
        "        'xlabel' : 'epoch',\n",
        "        'ylabel' : 'value'\n",
        "    }\n",
        "  ACC.set(**acc_props)\n",
        "  ACC.plot(acc, label='acc', marker='o', color='blue')\n",
        "  ACC.plot(val_acc, label='val_acc', marker='o', linestyle='--', color='orange')\n",
        "\n",
        "  #2,1 loss.diff\n",
        "  LOSSDIF.plot(loss.diff())\n",
        "  LOSSDIF.plot(val_loss.diff())\n",
        "  \n",
        "\n",
        "  #save\n",
        "  name = 'tmp'\n",
        "  path_image = os.path.join(desk, name)\n",
        "  fig.savefig(path_image)\n"
      ],
      "execution_count": 11,
      "outputs": []
    },
    {
      "cell_type": "code",
      "metadata": {
        "id": "-OOmcZMqXnKn",
        "outputId": "54a0e63c-40d8-4b7d-8c31-239340331bbb",
        "colab": {
          "base_uri": "https://localhost:8080/"
        }
      },
      "source": [
        "# 実行\n",
        "history = model.fit(\n",
        "      train_videos, train_labels,\n",
        "      validation_data=(test_videos, test_labels),\n",
        "      batch_size=16,\n",
        "      epochs=512,\n",
        "      # verbose=0\n",
        "      )\n",
        "\n",
        "print(\"Complete.\")\n",
        "# プロット\n",
        "plot(history)"
      ],
      "execution_count": null,
      "outputs": [
        {
          "output_type": "stream",
          "text": [
            "Epoch 1/512\n",
            "9/9 [==============================] - 3s 142ms/step - loss: 0.2550 - acc: 0.4513 - categorical_crossentropy: 14.5869 - val_loss: 0.2742 - val_acc: 0.4516 - val_categorical_crossentropy: 33.0939\n",
            "Epoch 2/512\n",
            "9/9 [==============================] - 1s 92ms/step - loss: 0.2830 - acc: 0.4341 - categorical_crossentropy: 35.7954 - val_loss: 0.2742 - val_acc: 0.4516 - val_categorical_crossentropy: 41.0806\n",
            "Epoch 3/512\n",
            "9/9 [==============================] - 1s 93ms/step - loss: 0.2877 - acc: 0.4246 - categorical_crossentropy: 47.1236 - val_loss: 0.2742 - val_acc: 0.4516 - val_categorical_crossentropy: 44.3560\n",
            "Epoch 4/512\n",
            "9/9 [==============================] - 1s 93ms/step - loss: 0.3081 - acc: 0.3839 - categorical_crossentropy: 51.9052 - val_loss: 0.2742 - val_acc: 0.4516 - val_categorical_crossentropy: 45.7154\n",
            "Epoch 5/512\n",
            "9/9 [==============================] - 1s 92ms/step - loss: 0.2827 - acc: 0.4347 - categorical_crossentropy: 45.3815 - val_loss: 0.2742 - val_acc: 0.4516 - val_categorical_crossentropy: 46.2492\n",
            "Epoch 6/512\n",
            "9/9 [==============================] - 1s 92ms/step - loss: 0.2739 - acc: 0.4522 - categorical_crossentropy: 46.6633 - val_loss: 0.2742 - val_acc: 0.4516 - val_categorical_crossentropy: 46.4369\n",
            "Epoch 7/512\n",
            "9/9 [==============================] - 1s 94ms/step - loss: 0.2902 - acc: 0.4195 - categorical_crossentropy: 47.0022 - val_loss: 0.2742 - val_acc: 0.4516 - val_categorical_crossentropy: 46.4703\n",
            "Epoch 8/512\n",
            "9/9 [==============================] - 1s 91ms/step - loss: 0.2906 - acc: 0.4188 - categorical_crossentropy: 51.0975 - val_loss: 0.2742 - val_acc: 0.4516 - val_categorical_crossentropy: 46.4193\n",
            "Epoch 9/512\n",
            "9/9 [==============================] - 1s 92ms/step - loss: 0.2973 - acc: 0.4055 - categorical_crossentropy: 53.8104 - val_loss: 0.2742 - val_acc: 0.4516 - val_categorical_crossentropy: 46.3442\n",
            "Epoch 10/512\n",
            "9/9 [==============================] - 1s 92ms/step - loss: 0.2936 - acc: 0.4128 - categorical_crossentropy: 48.3681 - val_loss: 0.2742 - val_acc: 0.4516 - val_categorical_crossentropy: 46.2319\n",
            "Epoch 11/512\n",
            "9/9 [==============================] - 1s 91ms/step - loss: 0.2906 - acc: 0.4189 - categorical_crossentropy: 46.2157 - val_loss: 0.2742 - val_acc: 0.4516 - val_categorical_crossentropy: 46.0770\n",
            "Epoch 12/512\n",
            "9/9 [==============================] - 1s 94ms/step - loss: 0.2682 - acc: 0.4636 - categorical_crossentropy: 45.2675 - val_loss: 0.2742 - val_acc: 0.4516 - val_categorical_crossentropy: 45.8923\n",
            "Epoch 13/512\n",
            "9/9 [==============================] - 1s 93ms/step - loss: 0.2636 - acc: 0.4727 - categorical_crossentropy: 42.9842 - val_loss: 0.2742 - val_acc: 0.4516 - val_categorical_crossentropy: 45.6235\n",
            "Epoch 14/512\n",
            "9/9 [==============================] - 1s 91ms/step - loss: 0.2820 - acc: 0.4361 - categorical_crossentropy: 47.0191 - val_loss: 0.2742 - val_acc: 0.4516 - val_categorical_crossentropy: 45.3082\n",
            "Epoch 15/512\n",
            "9/9 [==============================] - 1s 92ms/step - loss: 0.2832 - acc: 0.4335 - categorical_crossentropy: 47.4259 - val_loss: 0.2742 - val_acc: 0.4516 - val_categorical_crossentropy: 44.8398\n",
            "Epoch 16/512\n",
            "9/9 [==============================] - 1s 107ms/step - loss: 0.2896 - acc: 0.4207 - categorical_crossentropy: 46.1954 - val_loss: 0.2742 - val_acc: 0.4516 - val_categorical_crossentropy: 43.2099\n",
            "Epoch 17/512\n",
            "9/9 [==============================] - 1s 92ms/step - loss: 0.2962 - acc: 0.4072 - categorical_crossentropy: 47.8161 - val_loss: 0.2742 - val_acc: 0.4516 - val_categorical_crossentropy: 38.4081\n",
            "Epoch 18/512\n",
            "9/9 [==============================] - 1s 95ms/step - loss: 0.2838 - acc: 0.4323 - categorical_crossentropy: 37.5150 - val_loss: 0.2741 - val_acc: 0.4516 - val_categorical_crossentropy: 31.6839\n",
            "Epoch 19/512\n",
            "9/9 [==============================] - 1s 94ms/step - loss: 0.3075 - acc: 0.3845 - categorical_crossentropy: 33.9481 - val_loss: 0.4314 - val_acc: 0.1371 - val_categorical_crossentropy: 47.8204\n",
            "Epoch 20/512\n",
            "9/9 [==============================] - 1s 92ms/step - loss: 0.4410 - acc: 0.1180 - categorical_crossentropy: 89.7403 - val_loss: 0.4315 - val_acc: 0.1371 - val_categorical_crossentropy: 155.6587\n",
            "Epoch 21/512\n",
            "9/9 [==============================] - 1s 92ms/step - loss: 0.4412 - acc: 0.1177 - categorical_crossentropy: 169.5382 - val_loss: 0.4315 - val_acc: 0.1371 - val_categorical_crossentropy: 187.5233\n",
            "Epoch 22/512\n",
            "9/9 [==============================] - 1s 93ms/step - loss: 0.4243 - acc: 0.1513 - categorical_crossentropy: 189.7217 - val_loss: 0.4315 - val_acc: 0.1371 - val_categorical_crossentropy: 200.2448\n",
            "Epoch 23/512\n",
            "9/9 [==============================] - 1s 94ms/step - loss: 0.4432 - acc: 0.1137 - categorical_crossentropy: 208.6763 - val_loss: 0.4315 - val_acc: 0.1371 - val_categorical_crossentropy: 205.3017\n",
            "Epoch 24/512\n",
            "9/9 [==============================] - 1s 92ms/step - loss: 0.4489 - acc: 0.1021 - categorical_crossentropy: 216.9967 - val_loss: 0.4315 - val_acc: 0.1371 - val_categorical_crossentropy: 207.3088\n",
            "Epoch 25/512\n",
            "9/9 [==============================] - 1s 94ms/step - loss: 0.4477 - acc: 0.1046 - categorical_crossentropy: 216.8401 - val_loss: 0.4315 - val_acc: 0.1371 - val_categorical_crossentropy: 208.1046\n",
            "Epoch 26/512\n",
            "9/9 [==============================] - 1s 92ms/step - loss: 0.4393 - acc: 0.1214 - categorical_crossentropy: 208.8423 - val_loss: 0.4315 - val_acc: 0.1371 - val_categorical_crossentropy: 208.4198\n",
            "Epoch 27/512\n",
            "9/9 [==============================] - 1s 92ms/step - loss: 0.4332 - acc: 0.1336 - categorical_crossentropy: 206.7346 - val_loss: 0.4315 - val_acc: 0.1371 - val_categorical_crossentropy: 208.5446\n",
            "Epoch 28/512\n",
            "9/9 [==============================] - 1s 95ms/step - loss: 0.4160 - acc: 0.1679 - categorical_crossentropy: 205.4951 - val_loss: 0.4315 - val_acc: 0.1371 - val_categorical_crossentropy: 208.5940\n",
            "Epoch 29/512\n",
            "9/9 [==============================] - 1s 94ms/step - loss: 0.4259 - acc: 0.1482 - categorical_crossentropy: 207.7761 - val_loss: 0.4315 - val_acc: 0.1371 - val_categorical_crossentropy: 208.6136\n",
            "Epoch 30/512\n",
            "9/9 [==============================] - 1s 92ms/step - loss: 0.4254 - acc: 0.1491 - categorical_crossentropy: 205.2900 - val_loss: 0.4315 - val_acc: 0.1371 - val_categorical_crossentropy: 208.6212\n",
            "Epoch 31/512\n",
            "9/9 [==============================] - 1s 94ms/step - loss: 0.4314 - acc: 0.1371 - categorical_crossentropy: 210.7503 - val_loss: 0.4315 - val_acc: 0.1371 - val_categorical_crossentropy: 208.6243\n",
            "Epoch 32/512\n",
            "9/9 [==============================] - 1s 93ms/step - loss: 0.4352 - acc: 0.1296 - categorical_crossentropy: 218.6488 - val_loss: 0.4315 - val_acc: 0.1371 - val_categorical_crossentropy: 208.6253\n",
            "Epoch 33/512\n",
            "9/9 [==============================] - 1s 94ms/step - loss: 0.4249 - acc: 0.1502 - categorical_crossentropy: 207.9135 - val_loss: 0.4315 - val_acc: 0.1371 - val_categorical_crossentropy: 208.6255\n",
            "Epoch 34/512\n",
            "9/9 [==============================] - 1s 93ms/step - loss: 0.4407 - acc: 0.1185 - categorical_crossentropy: 217.5226 - val_loss: 0.4315 - val_acc: 0.1371 - val_categorical_crossentropy: 208.6255\n",
            "Epoch 35/512\n",
            "9/9 [==============================] - 1s 93ms/step - loss: 0.4305 - acc: 0.1390 - categorical_crossentropy: 209.2433 - val_loss: 0.4315 - val_acc: 0.1371 - val_categorical_crossentropy: 208.6255\n",
            "Epoch 36/512\n",
            "9/9 [==============================] - 1s 94ms/step - loss: 0.4401 - acc: 0.1197 - categorical_crossentropy: 214.0114 - val_loss: 0.4315 - val_acc: 0.1371 - val_categorical_crossentropy: 208.6255\n",
            "Epoch 37/512\n",
            "9/9 [==============================] - 1s 94ms/step - loss: 0.4343 - acc: 0.1315 - categorical_crossentropy: 207.8031 - val_loss: 0.4315 - val_acc: 0.1371 - val_categorical_crossentropy: 208.6255\n",
            "Epoch 38/512\n",
            "9/9 [==============================] - 1s 95ms/step - loss: 0.4183 - acc: 0.1635 - categorical_crossentropy: 205.7750 - val_loss: 0.4315 - val_acc: 0.1371 - val_categorical_crossentropy: 208.6255\n",
            "Epoch 39/512\n",
            "9/9 [==============================] - 1s 94ms/step - loss: 0.4424 - acc: 0.1151 - categorical_crossentropy: 225.5246 - val_loss: 0.4315 - val_acc: 0.1371 - val_categorical_crossentropy: 208.6255\n",
            "Epoch 40/512\n",
            "9/9 [==============================] - 1s 92ms/step - loss: 0.4431 - acc: 0.1137 - categorical_crossentropy: 215.0737 - val_loss: 0.4315 - val_acc: 0.1371 - val_categorical_crossentropy: 208.6255\n",
            "Epoch 41/512\n",
            "9/9 [==============================] - 1s 93ms/step - loss: 0.4212 - acc: 0.1577 - categorical_crossentropy: 207.7219 - val_loss: 0.4315 - val_acc: 0.1371 - val_categorical_crossentropy: 208.6255\n",
            "Epoch 42/512\n",
            "9/9 [==============================] - 1s 94ms/step - loss: 0.4252 - acc: 0.1496 - categorical_crossentropy: 206.7827 - val_loss: 0.4315 - val_acc: 0.1371 - val_categorical_crossentropy: 208.6255\n",
            "Epoch 43/512\n",
            "9/9 [==============================] - 1s 95ms/step - loss: 0.4196 - acc: 0.1608 - categorical_crossentropy: 200.4250 - val_loss: 0.4315 - val_acc: 0.1371 - val_categorical_crossentropy: 208.6255\n"
          ],
          "name": "stdout"
        }
      ]
    }
  ]
}