{
  "nbformat": 4,
  "nbformat_minor": 0,
  "metadata": {
    "colab": {
      "name": "modelTuner_Drop.ipynb",
      "provenance": [],
      "toc_visible": true,
      "authorship_tag": "ABX9TyMlHjSOZrImj07HyadO495y",
      "include_colab_link": true
    },
    "kernelspec": {
      "name": "python3",
      "display_name": "Python 3"
    },
    "accelerator": "GPU"
  },
  "cells": [
    {
      "cell_type": "markdown",
      "metadata": {
        "id": "view-in-github",
        "colab_type": "text"
      },
      "source": [
        "<a href=\"https://colab.research.google.com/github/s1250103/Public_mori-lab/blob/eras/eras/tune/programs/modelTuner_Drop.ipynb\" target=\"_parent\"><img src=\"https://colab.research.google.com/assets/colab-badge.svg\" alt=\"Open In Colab\"/></a>"
      ]
    },
    {
      "cell_type": "markdown",
      "metadata": {
        "id": "m3yMyhHRb6hZ"
      },
      "source": [
        "# setting"
      ]
    },
    {
      "cell_type": "code",
      "metadata": {
        "id": "7pVngb_1YBOx"
      },
      "source": [
        "%tensorflow_version 2.x"
      ],
      "execution_count": 1,
      "outputs": []
    },
    {
      "cell_type": "code",
      "metadata": {
        "id": "AKHp1q9zXmxd",
        "colab": {
          "base_uri": "https://localhost:8080/"
        },
        "outputId": "49e93407-9cb7-4a79-fee8-47a93aae33f1"
      },
      "source": [
        "!pip install -q keras_tuner"
      ],
      "execution_count": 2,
      "outputs": [
        {
          "output_type": "stream",
          "text": [
            "\u001b[?25l\r\u001b[K     |█████▏                          | 10kB 28.6MB/s eta 0:00:01\r\u001b[K     |██████████▍                     | 20kB 34.7MB/s eta 0:00:01\r\u001b[K     |███████████████▋                | 30kB 23.3MB/s eta 0:00:01\r\u001b[K     |████████████████████▉           | 40kB 21.1MB/s eta 0:00:01\r\u001b[K     |██████████████████████████      | 51kB 22.3MB/s eta 0:00:01\r\u001b[K     |███████████████████████████████▎| 61kB 16.4MB/s eta 0:00:01\r\u001b[K     |████████████████████████████████| 71kB 7.0MB/s \n",
            "\u001b[?25h  Building wheel for keras-tuner (setup.py) ... \u001b[?25l\u001b[?25hdone\n",
            "  Building wheel for terminaltables (setup.py) ... \u001b[?25l\u001b[?25hdone\n"
          ],
          "name": "stdout"
        }
      ]
    },
    {
      "cell_type": "markdown",
      "metadata": {
        "id": "m734DdXEN6sl"
      },
      "source": [
        "import"
      ]
    },
    {
      "cell_type": "code",
      "metadata": {
        "id": "mrdj6-BQIjeU"
      },
      "source": [
        "# file dealing\n",
        "import os\n",
        "import shutil\n",
        "from google.colab import drive\n",
        "# data dealing\n",
        "import numpy as np\n",
        "from pandas import DataFrame\n",
        "import matplotlib.pyplot as plt\n",
        "# process deasing\n",
        "import gc\n",
        "\n",
        "# machine learning (back)\n",
        "import tensorflow as tf\n",
        "from tensorflow.keras.utils import plot_model\n",
        "from tensorflow.keras import layers, models, initializers, callbacks\n",
        "\n",
        "# machine learning\n",
        "import keras\n",
        "from keras.datasets import mnist\n",
        "from keras.models import Sequential\n",
        "from keras.layers import Dense, Activation, Dropout\n",
        "from keras.utils.np_utils import to_categorical\n",
        "\n",
        "seed = 20201218\n",
        "np.random.seed(seed)\n",
        "tf.random.set_seed(seed)"
      ],
      "execution_count": 3,
      "outputs": []
    },
    {
      "cell_type": "markdown",
      "metadata": {
        "id": "rfAtQHN6N--8"
      },
      "source": [
        "データフォーマットを規定"
      ]
    },
    {
      "cell_type": "code",
      "metadata": {
        "id": "X4xSyyRpKq3W"
      },
      "source": [
        "class video_format:\n",
        "  name = \"video_format\"\n",
        "  # サンプリングされたCMデータの仕様\n",
        "  playtime = \"15秒\"\n",
        "  displaysize = \"(any, any, RGB)\"\n",
        "  videoformat = \"any\"\n",
        "  # モデルが扱うCMデータ(上のようなデータは、下のように変換される)\n",
        "  HEIGHT = 45\n",
        "  WIDTH = 80\n",
        "  FRAME_SIZE = 30\n",
        "  COLORinfo = 3 # \"RGB\"\n",
        "  FPS = \"2 (FRAME_SIZE / playtime)\" # 定義ではなく上から導かれた値\n",
        "\n",
        "format1 = video_format()"
      ],
      "execution_count": 4,
      "outputs": []
    },
    {
      "cell_type": "markdown",
      "metadata": {
        "id": "bBa2QGgHVOn4"
      },
      "source": [
        "データをインポート"
      ]
    },
    {
      "cell_type": "code",
      "metadata": {
        "colab": {
          "base_uri": "https://localhost:8080/"
        },
        "id": "8VLZTe-_Fz-G",
        "outputId": "4346466d-40d2-4313-9a14-d8d952e58e82"
      },
      "source": [
        "#@title gdrive マウント\n",
        "if not os.path.exists('/content/drive'):\n",
        "  drive.mount('/content/drive')\n",
        "else:\n",
        "  print(\"Already confirm\")\n"
      ],
      "execution_count": 5,
      "outputs": [
        {
          "output_type": "stream",
          "text": [
            "Mounted at /content/drive\n"
          ],
          "name": "stdout"
        }
      ]
    },
    {
      "cell_type": "code",
      "metadata": {
        "id": "fYNdXlbEVxGM"
      },
      "source": [
        "#@title 一時的にファイルを置くディレクトリ'desk'を作成\n",
        "desk = '/content/desk'\n",
        "if not os.path.exists(desk):\n",
        "  os.mkdir(desk)\n",
        "os.chdir(desk)"
      ],
      "execution_count": 6,
      "outputs": []
    },
    {
      "cell_type": "code",
      "metadata": {
        "id": "EYjxmEMpAZU1",
        "cellView": "code",
        "colab": {
          "base_uri": "https://localhost:8080/"
        },
        "outputId": "d206617a-f934-400a-ef35-0e2942b45a2a"
      },
      "source": [
        "#@title 必要なファイルを'desk'にコピー\n",
        "%%time\n",
        "wants_paths = [\n",
        "'/content/drive/MyDrive/colab/dence1223/normalTrainLabels.npz',\n",
        "'/content/drive/MyDrive/colab/dence1223/normalTrainVideos.npz',\n",
        "'/content/drive/MyDrive/colab/dence1223/normalTestLabels.npz',\n",
        "'/content/drive/MyDrive/colab/dence1223/normalTestVideos.npz'\n",
        "]\n",
        "\n",
        "for want in wants_paths:\n",
        "  if not os.path.exists(os.path.join(desk, os.path.basename(want))):\n",
        "    shutil.copy2(want, desk)\n",
        "    print(\"get : \", want)\n",
        "            "
      ],
      "execution_count": 7,
      "outputs": [
        {
          "output_type": "stream",
          "text": [
            "get :  /content/drive/MyDrive/colab/dence1223/normalTrainLabels.npz\n",
            "get :  /content/drive/MyDrive/colab/dence1223/normalTrainVideos.npz\n",
            "get :  /content/drive/MyDrive/colab/dence1223/normalTestLabels.npz\n",
            "get :  /content/drive/MyDrive/colab/dence1223/normalTestVideos.npz\n",
            "CPU times: user 75.6 ms, sys: 450 ms, total: 526 ms\n",
            "Wall time: 5.36 s\n"
          ],
          "name": "stdout"
        }
      ]
    },
    {
      "cell_type": "markdown",
      "metadata": {
        "id": "Asxnjf4ub9M1"
      },
      "source": [
        "# model creating and hyper prametar designing"
      ]
    },
    {
      "cell_type": "code",
      "metadata": {
        "id": "wzMnCziDW8Ii"
      },
      "source": [
        "from tensorflow import keras\n",
        "from tensorflow.keras.layers import Dense\n",
        "\n",
        "def build_model(hp):\n",
        "    # モデル作成\n",
        "    model = models.Sequential()\n",
        "    # 入力層\n",
        "    model.add(\n",
        "        layers.Reshape(\n",
        "            (format1.FRAME_SIZE,\n",
        "            format1.HEIGHT,\n",
        "            format1.WIDTH,\n",
        "            format1.COLORinfo),\n",
        "            input_shape=(format1.FRAME_SIZE * format1.HEIGHT * format1.WIDTH * format1.COLORinfo,),\n",
        "            name='ENTRANCE' ))\n",
        "    # 中間層\n",
        "    ## dropout_0\n",
        "    # model.add(layers.Dropout(0.2))\n",
        "\n",
        "    ## 畳み込み0\n",
        "    model.add(\n",
        "        layers.Conv3D(\n",
        "            filters=32,\n",
        "            kernel_size=(2, 3, 3),\n",
        "            strides=(2, 3, 3),\n",
        "            padding='same',\n",
        "            activation='relu',\n",
        "            name='conv0'))\n",
        "    ## pool0\n",
        "    model.add(\n",
        "        layers.MaxPooling3D(pool_size=(2, 3, 3), name='pool1'))\n",
        "\n",
        "    ## dropout_1\n",
        "    # model.add(layers.Dropout(0.2))\n",
        "\n",
        "    ## 全結合0\n",
        "    model.add(\n",
        "        layers.Flatten(name='pipe'),\n",
        "    )\n",
        "    # model.add(\n",
        "    #     layers.Dense(1024,\n",
        "    #       activation='relu',\n",
        "          # name='DAM' ), )\n",
        "    model.add(\n",
        "            layers.Dense(units=hp.Choice('units_dence0', values=[512, 1024]),\n",
        "                        activation='relu',\n",
        "                        kernel_initializer=initializers.TruncatedNormal(),\n",
        "                        name='hidden'))\n",
        "                    \n",
        "\n",
        "    # 出力層\n",
        "    model.add(\n",
        "        layers.Dense(4, activation='softmax', name='WATERSUPPLY')\n",
        "    )\n",
        "\n",
        "    # 最適化\n",
        "    adam = keras.optimizers.Adam(\n",
        "        lr=1e-7, beta_1=0.9, beta_2=0.999,\n",
        "        epsilon=None, decay=0.0, amsgrad=False)\n",
        "    # 誤差関数\n",
        "    mse = tf.keras.losses.MeanSquaredError()\n",
        "    cce = tf.keras.losses.CategoricalCrossentropy()\n",
        "\n",
        "    model.compile(\n",
        "        optimizer=adam,\n",
        "        loss=cce,\n",
        "        metrics=['acc', cce])\n",
        "      \n",
        "    return model"
      ],
      "execution_count": 8,
      "outputs": []
    },
    {
      "cell_type": "markdown",
      "metadata": {
        "id": "lB7kISnicPrw"
      },
      "source": [
        "# tuner designing"
      ]
    },
    {
      "cell_type": "code",
      "metadata": {
        "id": "i23XW858XQfb"
      },
      "source": [
        "from kerastuner.tuners import Hyperband\n",
        "\n",
        "tuner = Hyperband(\n",
        "    build_model,\n",
        "    objective='val_acc',\n",
        "    max_epochs=5,\n",
        "    directory='my_dir',\n",
        "    project_name='tf',\n",
        "    overwrite=False\n",
        "    )"
      ],
      "execution_count": 9,
      "outputs": []
    },
    {
      "cell_type": "code",
      "metadata": {
        "id": "bel0nDKmXkWl",
        "colab": {
          "base_uri": "https://localhost:8080/"
        },
        "outputId": "3afcd97f-9892-4a2f-9d95-511a48abd4fa"
      },
      "source": [
        "tuner.search_space_summary()"
      ],
      "execution_count": 10,
      "outputs": [
        {
          "output_type": "stream",
          "text": [
            "Search space summary\n",
            "Default search space size: 1\n",
            "units_dence0 (Choice)\n",
            "{'default': 512, 'conditions': [], 'values': [512, 1024], 'ordered': True}\n"
          ],
          "name": "stdout"
        }
      ]
    },
    {
      "cell_type": "markdown",
      "metadata": {
        "id": "Tln1G4PmcV9e"
      },
      "source": [
        "# gathering data"
      ]
    },
    {
      "cell_type": "code",
      "metadata": {
        "id": "z95hdLLJc-VD"
      },
      "source": [
        "def prepare_data():\n",
        "  # traindata\n",
        "  v = np.load('/content/desk/normalTrainVideos.npz')\n",
        "  l = np.load('/content/desk/normalTrainLabels.npz')\n",
        "\n",
        "  train_videos = [] \n",
        "  train_labels = []\n",
        "  for i in v.files:\n",
        "    train_videos.append(v[i])\n",
        "  for i in l.files:\n",
        "    train_labels.append(l[i])\n",
        "\n",
        "  train_videos = np.array(train_videos)\n",
        "  train_labels = np.array(train_labels)\n",
        "  train_labels = tf.keras.utils.to_categorical(train_labels, 4)\n",
        "\n",
        "  # testdata\n",
        "  v = np.load('/content/desk/normalTestVideos.npz')\n",
        "  l = np.load('/content/desk/normalTestLabels.npz')\n",
        "\n",
        "  test_videos = []\n",
        "  test_labels = []\n",
        "  for i in v.files:\n",
        "    test_videos.append(v[i])\n",
        "  for i in l.files:\n",
        "    test_labels.append(l[i])\n",
        "\n",
        "  test_videos = np.array(test_videos)\n",
        "  test_labels = np.array(test_labels)\n",
        "  test_labels = tf.keras.utils.to_categorical(test_labels, 4)\n",
        "  \n",
        "  return train_videos, train_labels,  test_videos, test_labels"
      ],
      "execution_count": 11,
      "outputs": []
    },
    {
      "cell_type": "code",
      "metadata": {
        "id": "weiihIiWesyF"
      },
      "source": [
        "train_videos, train_labels,  test_videos, test_labels = prepare_data()"
      ],
      "execution_count": 12,
      "outputs": []
    },
    {
      "cell_type": "markdown",
      "metadata": {
        "id": "Cn6XEvMkcatP"
      },
      "source": [
        "# searching param"
      ]
    },
    {
      "cell_type": "code",
      "metadata": {
        "id": "N_lbpxaaLyyz",
        "colab": {
          "base_uri": "https://localhost:8080/"
        },
        "outputId": "f972d05b-05e5-4815-e4a5-de150c734436"
      },
      "source": [
        "%%time\n",
        "tuner.search(train_videos, train_labels,\n",
        "             epochs=1024,\n",
        "             validation_data=(test_videos, test_labels))"
      ],
      "execution_count": 13,
      "outputs": [
        {
          "output_type": "stream",
          "text": [
            "Trial 2 Complete [00h 00m 01s]\n",
            "val_acc: 0.16129031777381897\n",
            "\n",
            "Best val_acc So Far: 0.16129031777381897\n",
            "Total elapsed time: 00h 00m 09s\n",
            "INFO:tensorflow:Oracle triggered exit\n",
            "CPU times: user 4.28 s, sys: 1.13 s, total: 5.4 s\n",
            "Wall time: 9.85 s\n"
          ],
          "name": "stdout"
        }
      ]
    },
    {
      "cell_type": "markdown",
      "metadata": {
        "id": "Hmqx_5h6cpr8"
      },
      "source": [
        "# reloading tuner"
      ]
    },
    {
      "cell_type": "code",
      "metadata": {
        "id": "-VTXvBnXiROe",
        "colab": {
          "base_uri": "https://localhost:8080/"
        },
        "outputId": "2c08a959-8c91-44bd-835f-495c5b4f43ea"
      },
      "source": [
        "# reload existing tuner\n",
        "tuner = Hyperband(\n",
        "    build_model,\n",
        "    objective='val_loss',\n",
        "    max_epochs=0,\n",
        "    directory='my_dir',\n",
        "    project_name='tf',\n",
        "    overwrite=False\n",
        "    )"
      ],
      "execution_count": 14,
      "outputs": [
        {
          "output_type": "stream",
          "text": [
            "INFO:tensorflow:Reloading Oracle from existing project my_dir/tf/oracle.json\n",
            "INFO:tensorflow:Reloading Tuner from my_dir/tf/tuner0.json\n"
          ],
          "name": "stdout"
        }
      ]
    },
    {
      "cell_type": "markdown",
      "metadata": {
        "id": "R6nCyjQBcuRN"
      },
      "source": [
        "# confirming the contents"
      ]
    },
    {
      "cell_type": "code",
      "metadata": {
        "id": "ONesfPyuNG_O",
        "colab": {
          "base_uri": "https://localhost:8080/"
        },
        "outputId": "30dbb631-4a54-4863-d985-d1945b9c8b90"
      },
      "source": [
        "tuner.results_summary()"
      ],
      "execution_count": 15,
      "outputs": [
        {
          "output_type": "stream",
          "text": [
            "Results summary\n",
            "Results in my_dir/tf\n",
            "Showing 10 best trials\n",
            "Objective(name='val_loss', direction='min')\n",
            "Trial summary\n",
            "Hyperparameters:\n",
            "units_dence0: 512\n",
            "tuner/epochs: 2\n",
            "tuner/initial_epoch: 0\n",
            "tuner/bracket: 1\n",
            "tuner/round: 0\n",
            "Score: 0.14516128599643707\n",
            "Trial summary\n",
            "Hyperparameters:\n",
            "units_dence0: 1024\n",
            "tuner/epochs: 2\n",
            "tuner/initial_epoch: 0\n",
            "tuner/bracket: 1\n",
            "tuner/round: 0\n",
            "Score: 0.16129031777381897\n"
          ],
          "name": "stdout"
        }
      ]
    }
  ]
}