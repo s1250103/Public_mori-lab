{
  "nbformat": 4,
  "nbformat_minor": 0,
  "metadata": {
    "colab": {
      "name": "0111.convLayers_auto.ipynb",
      "provenance": [],
      "toc_visible": true,
      "include_colab_link": true
    },
    "kernelspec": {
      "name": "python3",
      "display_name": "Python 3"
    },
    "accelerator": "GPU"
  },
  "cells": [
    {
      "cell_type": "markdown",
      "metadata": {
        "id": "view-in-github",
        "colab_type": "text"
      },
      "source": [
        "<a href=\"https://colab.research.google.com/github/s1250103/Public_mori-lab/blob/eras/eras/tune/programs/0111_convLayers_auto.ipynb\" target=\"_parent\"><img src=\"https://colab.research.google.com/assets/colab-badge.svg\" alt=\"Open In Colab\"/></a>"
      ]
    },
    {
      "cell_type": "markdown",
      "metadata": {
        "id": "-PRd1Kd2sRSd"
      },
      "source": [
        "#実験内容"
      ]
    },
    {
      "cell_type": "code",
      "metadata": {
        "colab": {
          "base_uri": "https://localhost:8080/"
        },
        "id": "mIBWOv_UjDiI",
        "outputId": "b882bda0-07b1-429d-fc44-27cac8c53518"
      },
      "source": [
        "import tensorflow as tf\n",
        "import keras\n",
        "from os import path\n",
        "from google.colab import drive\n",
        "\n",
        "learningDict = {\n",
        "    \"optimizer\" : {\n",
        "        \"this.optimizer\" : \"adam\",\n",
        "        \"learning_rate\" : 1e-8,\n",
        "        \"beta_1\" : 0.9,\n",
        "        \"beta_2\" : 0.999\n",
        "    },\n",
        "    \"theWay\" : {\n",
        "        \"batch_size\" : 32,\n",
        "        \"epochs\" : 512,\n",
        "    },\n",
        "    \"compared_losses\" : [\n",
        "                         tf.keras.losses.CategoricalCrossentropy(),\n",
        "                         tf.keras.losses.MeanSquaredError(), \n",
        "    ]\n",
        "}\n",
        "\n",
        "# 最適化処理 (adamのみ対応)\n",
        "if learningDict[\"optimizer\"][\"this.optimizer\"] == \"adam\":\n",
        "  optimizer = keras.optimizers.Adam(\n",
        "      lr=learningDict[\"optimizer\"][\"learning_rate\"],\n",
        "      beta_1=learningDict[\"optimizer\"][\"beta_1\"],\n",
        "      beta_2=learningDict[\"optimizer\"][\"beta_2\"])\n",
        "else:\n",
        "  print(\"error\")\n",
        "\n",
        "# gdrive 接続\n",
        "if not path.exists('/content/drive'):\n",
        "  drive.mount('/content/drive')\n",
        "else:\n",
        "  print(\"Already confirm\")"
      ],
      "execution_count": 1,
      "outputs": [
        {
          "output_type": "stream",
          "text": [
            "Already confirm\n"
          ],
          "name": "stdout"
        }
      ]
    },
    {
      "cell_type": "markdown",
      "metadata": {
        "id": "eJv5QoBNNxn9"
      },
      "source": [
        "#共通設定"
      ]
    },
    {
      "cell_type": "code",
      "metadata": {
        "id": "7pVngb_1YBOx"
      },
      "source": [
        "%tensorflow_version 2.x"
      ],
      "execution_count": 2,
      "outputs": []
    },
    {
      "cell_type": "markdown",
      "metadata": {
        "id": "o1XXQEFloKtJ"
      },
      "source": [
        "#ツール"
      ]
    },
    {
      "cell_type": "code",
      "metadata": {
        "id": "EPu0Nt30oGZ9"
      },
      "source": [
        "def beep():\n",
        "  from google.colab import output\n",
        "  output.eval_js('new Audio(\\\n",
        "\"https://upload.wikimedia.org/wikipedia/commons/0/05/Beep-09.ogg\")\\\n",
        ".play()') "
      ],
      "execution_count": 3,
      "outputs": []
    },
    {
      "cell_type": "markdown",
      "metadata": {
        "id": "mImM901BtpX0"
      },
      "source": [
        "# モジュールインポート"
      ]
    },
    {
      "cell_type": "code",
      "metadata": {
        "id": "fSYRajvAtS_W"
      },
      "source": [
        "# file dealing\n",
        "import os\n",
        "from os import path\n",
        "import shutil\n",
        "from google.colab import drive\n",
        "import datetime\n",
        "# data dealing\n",
        "import numpy as np\n",
        "import pandas as pd\n",
        "from pandas import DataFrame\n",
        "import matplotlib.pyplot as plt\n",
        "# process deasing\n",
        "import gc\n",
        "from time import sleep\n",
        "\n",
        "# machine learning (back)\n",
        "import tensorflow as tf\n",
        "from tensorflow.keras.utils import plot_model\n",
        "from tensorflow.keras import layers, models, initializers, callbacks\n",
        "\n",
        "# machine learning\n",
        "import keras\n",
        "from keras.datasets import mnist\n",
        "from keras.models import Sequential\n",
        "from keras.layers import Dense, Activation, Dropout\n",
        "from keras.utils.np_utils import to_categorical\n",
        "\n",
        "import json\n",
        "from collections import OrderedDict\n",
        "import pprint\n",
        "\n"
      ],
      "execution_count": 4,
      "outputs": []
    },
    {
      "cell_type": "markdown",
      "metadata": {
        "id": "7qbZWFAfoSEv"
      },
      "source": [
        "#ディレクトリ環境設定"
      ]
    },
    {
      "cell_type": "code",
      "metadata": {
        "id": "ba20PBiDApiV",
        "colab": {
          "base_uri": "https://localhost:8080/"
        },
        "outputId": "88667b99-81d8-4ba1-d86c-e0327ffdcf39"
      },
      "source": [
        "# colab テンポラリディレクトリの作成\n",
        "desk = '/content/desk'\n",
        "if not os.path.exists(desk):\n",
        "  os.mkdir(desk)\n",
        "os.chdir(desk)\n",
        "print(\"Created at /content/desk\")"
      ],
      "execution_count": 5,
      "outputs": [
        {
          "output_type": "stream",
          "text": [
            "Created at /content/desk\n"
          ],
          "name": "stdout"
        }
      ]
    },
    {
      "cell_type": "markdown",
      "metadata": {
        "id": "rfAtQHN6N--8"
      },
      "source": [
        "# データフォーマットを規定"
      ]
    },
    {
      "cell_type": "code",
      "metadata": {
        "id": "X4xSyyRpKq3W"
      },
      "source": [
        "class video_format:\n",
        "  name = \"video_format\"\n",
        "  # サンプリングされたCMデータの仕様\n",
        "  playtime = \"15秒\"\n",
        "  displaysize = \"(any, any, RGB)\"\n",
        "  videoformat = \"any\"\n",
        "  # モデルが扱うCMデータ(上のようなデータは、下のように変換される)\n",
        "  HEIGHT = 45\n",
        "  WIDTH = 80\n",
        "  FRAME_SIZE = 30\n",
        "  COLORinfo = 3 # \"RGB\"\n",
        "  FPS = \"2 (FRAME_SIZE / playtime)\" # 定義ではなく上から導かれた値\n",
        "\n",
        "format1 = video_format()"
      ],
      "execution_count": 6,
      "outputs": []
    },
    {
      "cell_type": "markdown",
      "metadata": {
        "id": "bBa2QGgHVOn4"
      },
      "source": [
        "#データをインポート"
      ]
    },
    {
      "cell_type": "code",
      "metadata": {
        "id": "EYjxmEMpAZU1",
        "cellView": "code",
        "colab": {
          "base_uri": "https://localhost:8080/"
        },
        "outputId": "5d4cf685-a0f1-47f9-e5ac-d5b2a6f55f92"
      },
      "source": [
        "# 必要なファイルを'desk'にコピー\n",
        "%%time\n",
        "wants_paths = [\n",
        "'/content/drive/MyDrive/colab/dence1223/normalTrainLabels.npz',\n",
        "'/content/drive/MyDrive/colab/dence1223/normalTrainVideos.npz',\n",
        "'/content/drive/MyDrive/colab/dence1223/normalTestLabels.npz',\n",
        "'/content/drive/MyDrive/colab/dence1223/normalTestVideos.npz'\n",
        "]\n",
        "\n",
        "for want in wants_paths:\n",
        "  if not os.path.exists(os.path.join(desk, os.path.basename(want))):\n",
        "    shutil.copy2(want, desk)\n",
        "    print(\"get : \", want)\n",
        "            "
      ],
      "execution_count": 7,
      "outputs": [
        {
          "output_type": "stream",
          "text": [
            "CPU times: user 223 µs, sys: 0 ns, total: 223 µs\n",
            "Wall time: 183 µs\n"
          ],
          "name": "stdout"
        }
      ]
    },
    {
      "cell_type": "code",
      "metadata": {
        "id": "z95hdLLJc-VD"
      },
      "source": [
        "# ファイルをメモリにコピー\n",
        "def prepare_data():\n",
        "  # traindata\n",
        "  v = np.load('/content/desk/normalTrainVideos.npz')\n",
        "  l = np.load('/content/desk/normalTrainLabels.npz')\n",
        "\n",
        "  train_videos = [] \n",
        "  train_labels = []\n",
        "  for i in v.files:\n",
        "    train_videos.append(v[i])\n",
        "  for i in l.files:\n",
        "    train_labels.append(l[i])\n",
        "\n",
        "  train_videos = np.array(train_videos)\n",
        "  train_labels = np.array(train_labels)\n",
        "  train_labels = tf.keras.utils.to_categorical(train_labels, 4)\n",
        "\n",
        "  # testdata\n",
        "  v = np.load('/content/desk/normalTestVideos.npz')\n",
        "  l = np.load('/content/desk/normalTestLabels.npz')\n",
        "\n",
        "  test_videos = []\n",
        "  test_labels = []\n",
        "  for i in v.files:\n",
        "    test_videos.append(v[i])\n",
        "  for i in l.files:\n",
        "    test_labels.append(l[i])\n",
        "\n",
        "  test_videos = np.array(test_videos)\n",
        "  test_labels = np.array(test_labels)\n",
        "  test_labels = tf.keras.utils.to_categorical(test_labels, 4)\n",
        "  \n",
        "  return train_videos, train_labels,  test_videos, test_labels\n",
        "\n",
        "if __name__ == '__main__':\n",
        "  train_videos, train_labels,  test_videos, test_labels = prepare_data()\n"
      ],
      "execution_count": 8,
      "outputs": []
    },
    {
      "cell_type": "markdown",
      "metadata": {
        "id": "62PHow0YW7WT"
      },
      "source": [
        "#学習実行"
      ]
    },
    {
      "cell_type": "code",
      "metadata": {
        "id": "F6JeXdD4PsaV"
      },
      "source": [
        "#@title プロット用モジュール\n",
        "def plot(history, elementsDict, name='tmp'):\n",
        "  HEIGHT = 2\n",
        "  WIDTH = 2\n",
        "\n",
        "  # 下地の用意\n",
        "  fig = plt.figure()\n",
        "  LOSS = fig.add_subplot(HEIGHT, WIDTH, 1)\n",
        "  ACC = fig.add_subplot(HEIGHT, WIDTH, 2)\n",
        "  LOSSDIF = fig.add_subplot(HEIGHT, WIDTH, 3)\n",
        "  LEARNING_OUTLINE = fig.add_subplot(HEIGHT, WIDTH, 4)\n",
        "\n",
        "\n",
        "  plt.subplots_adjust(left=None, bottom=None, right=1.5, top=1.5, wspace=0.5, hspace=0.5)\n",
        "\n",
        "  # 1,1 loss\n",
        "  loss = DataFrame(history.history['loss'])\n",
        "  val_loss = DataFrame(history.history['val_loss'])\n",
        "  loss_props = {\n",
        "        'title' : 'Loss values plot',\n",
        "        'xlabel' : 'epoch',\n",
        "        'ylabel' : 'value'\n",
        "    }\n",
        "  LOSS.set(**loss_props)\n",
        "  LOSS.plot(loss, label='loss', color='blue')\n",
        "  LOSS.plot(val_loss, label='val_loss', color='orange')\n",
        "  LOSS.legend(loc='best')\n",
        "\n",
        "  # 1,2 acc\n",
        "  acc = DataFrame(history.history['acc'])\n",
        "  val_acc = DataFrame(history.history['val_acc'])\n",
        "  acc_props = {\n",
        "        'title' : 'Accuracy values plot',\n",
        "        'xlabel' : 'epoch',\n",
        "        'ylabel' : 'value'\n",
        "    }\n",
        "  ACC.set(**acc_props)\n",
        "  ACC.plot(acc, label='acc', color='blue')\n",
        "  ACC.plot(val_acc, label='val_acc', color='orange')\n",
        "  ACC.legend(loc='best')\n",
        "\n",
        "  #2,1 loss.diff\n",
        "  loss_diff_props = {\n",
        "      'title' : 'Derivative values plot',\n",
        "      # 'xlabel' : 'epoch',\n",
        "      'ylabel' : 'value'\n",
        "  }\n",
        "  LOSSDIF.set(**loss_diff_props)\n",
        "  LOSSDIF.plot(loss.diff(), label='loss_diff', color='blue')\n",
        "  LOSSDIF.plot(val_loss.diff(), label='val_loss_diff', color='orange')\n",
        "  LOSSDIF.legend(loc='best')\n",
        "\n",
        "  # 2,2 learning outline\n",
        "  tmp = {\n",
        "      'title' : 'learning outline',\n",
        "      'xticks' : ([]),\n",
        "      'yticks' : ([]),\n",
        "  }\n",
        "\n",
        "  LEARNING_OUTLINE.set(**tmp)\n",
        "  LEARNING_OUTLINE.text(0.1, 0.5, modelOutline(elementsDict), size=10)\n",
        "\n",
        "  #save\n",
        "  path_image = os.path.join(desk, name)\n",
        "  fig.savefig(path_image, bbox_inches='tight')\n",
        "\n",
        "def modelOutline(elementsDict):\n",
        "  sentence = \"\"\n",
        "\n",
        "  for each in elementsDict.keys():\n",
        "    if isinstance(elementsDict[each], int) or isinstance(elementsDict[each], float):\n",
        "      sentence = sentence + each + \" : \" + str(elementsDict[each]) + \"\\n\"\n",
        "      # print(str(elementsDict[each]))\n",
        "    else:\n",
        "      sentence = sentence + each + \" : \" + get_var_name(elementsDict[each]) + \"\\n\"\n",
        "      # print(get_var_name(elementsDict[each]))\n",
        "  return sentence\n",
        "\n",
        "def get_var_name(var):\n",
        "    for k,v in globals().items():\n",
        "        if id(v) == id(var):\n",
        "            name=k\n",
        "    return name\n",
        "\n"
      ],
      "execution_count": 9,
      "outputs": []
    },
    {
      "cell_type": "markdown",
      "metadata": {
        "id": "F-fO9KmJcJo8"
      },
      "source": [
        "実験"
      ]
    },
    {
      "cell_type": "code",
      "metadata": {
        "id": "yX4am7r0cPbC"
      },
      "source": [
        "seed = 20201218\n",
        "np.random.seed(seed)\n",
        "tf.random.set_seed(seed)"
      ],
      "execution_count": 10,
      "outputs": []
    },
    {
      "cell_type": "code",
      "metadata": {
        "id": "vZwi2x9IexH5",
        "outputId": "2908bb74-c83b-400c-c850-f532df6993a0",
        "colab": {
          "base_uri": "https://localhost:8080/",
          "height": 642
        }
      },
      "source": [
        "%%time\n",
        "histories = []\n",
        "\n",
        "# 繰り返しの条件\n",
        "for each_loss in learningDict[\"compared_losses\"]:\n",
        "  # モデル作成\n",
        "  model = models.Sequential()\n",
        "  # 入力層\n",
        "  model.add(\n",
        "      layers.Reshape(\n",
        "          (format1.FRAME_SIZE,\n",
        "          format1.HEIGHT,\n",
        "          format1.WIDTH,\n",
        "          format1.COLORinfo),\n",
        "          input_shape=(format1.FRAME_SIZE * format1.HEIGHT * format1.WIDTH * format1.COLORinfo,),\n",
        "          name='Input_Layer' )\n",
        "  )\n",
        "\n",
        "  ## 畳み込み0\n",
        "  model.add(\n",
        "      layers.Conv3D(\n",
        "          filters=32,\n",
        "          kernel_size=(2, 3, 3),\n",
        "          strides=(1, 1, 1),\n",
        "          padding='same',\n",
        "          activation='relu',\n",
        "          name='conv0'))\n",
        "  ## pool0\n",
        "  model.add(\n",
        "      layers.MaxPooling3D(pool_size=(2, 3, 3), name='pool0'))\n",
        "\n",
        "  ## 畳み込み1\n",
        "  model.add(\n",
        "      layers.Conv3D(\n",
        "          filters=64,\n",
        "          kernel_size=(2, 3, 3),\n",
        "          strides=(1, 1, 1),\n",
        "          padding='same',\n",
        "          activation='relu',\n",
        "          name='conv1'))\n",
        "\n",
        "  ## 全結合0\n",
        "  model.add(\n",
        "      layers.Flatten(name='pipe'),\n",
        "  )\n",
        "  model.add(\n",
        "      layers.Dense(1024,\n",
        "        activation='relu',\n",
        "        name='dence0' ),\n",
        "  )\n",
        "  # 出力層\n",
        "  model.add(\n",
        "      layers.Dense(4, activation='softmax', name='Output_Leayer')\n",
        "  )\n",
        "\n",
        "  model.compile(\n",
        "      optimizer=optimizer,\n",
        "      loss=each_loss,\n",
        "      metrics=['acc'])\n",
        "\n",
        "  # 実行\n",
        "  history = model.fit(\n",
        "        train_videos, train_labels,\n",
        "        validation_data=(test_videos, test_labels),\n",
        "        batch_size=learningDict[\"theWay\"][\"batch_size\"],\n",
        "        epochs=learningDict[\"theWay\"][\"epochs\"],\n",
        "        verbose=0\n",
        "        )\n",
        "  histories.append(history)\n",
        "  print(\"Complete.\")\n",
        "  \n",
        "\n",
        "  # 消去\n",
        "  sleep(60)\n",
        "  del model\n",
        "  keras.backend.clear_session()\n",
        "  gc.collect()\n",
        "\n",
        "\n",
        "beep()\n",
        "\n",
        "\n",
        "dt_now_jst = datetime.datetime.now(datetime.timezone(datetime.timedelta(hours=9)))\n",
        "now = dt_now_jst.strftime('%m%d-%H%M')\n",
        "csvs = []\n",
        "\n",
        "# cce\n",
        "hist_df = pd.DataFrame(histories[0].history)\n",
        "name = now + \"cce.csv\"\n",
        "hist_df.to_csv(name)\n",
        "csvs.append(name)\n",
        "# mse\n",
        "hist_df = pd.DataFrame(histories[1].history)\n",
        "name = now + \"mse.csv\"\n",
        "hist_df.to_csv(name)\n",
        "csvs.append(name)\n",
        "\n",
        "\n",
        "shelf = '/content/drive/MyDrive/colab'\n",
        "book = 'histories'\n",
        "shelf_book = os.path.join(shelf, book)\n",
        "shelf_book_page = os.path.join(shelf_book, now)\n",
        "\n",
        "if not os.path.exists(shelf_book_page):\n",
        "  os.mkdir(shelf_book_page)\n",
        "# 保存\n",
        "for one in csvs:\n",
        "  shutil.copy2(one, shelf_book_page)\n",
        "\n",
        "\n",
        "\n",
        "# 状況を保存\n",
        "for num, each in enumerate(learningDict[\"compared_losses\"]):\n",
        "  learningDict[\"compared_losses\"][num] = str(each)\n",
        "\n",
        "with open(\"situation.json\", 'w') as f:\n",
        "   json.dump(learningDict, f, ensure_ascii=False, indent=4)\n",
        "\n",
        "shutil.copy2(\"situation.json\", shelf_book_page)\n",
        "\n",
        "# # モデル画像保存\n",
        "# plot_model(model, \n",
        "#            show_shapes=True,\n",
        "#            show_layer_names=False,\n",
        "#            to_file='model.png')\n",
        "# shutil.copy2(\"model.png\", shelf_book_page)"
      ],
      "execution_count": 11,
      "outputs": [
        {
          "output_type": "stream",
          "text": [
            "Complete.\n",
            "Complete.\n"
          ],
          "name": "stdout"
        },
        {
          "output_type": "error",
          "ename": "NameError",
          "evalue": "ignored",
          "traceback": [
            "\u001b[0;31m---------------------------------------------------------------------------\u001b[0m",
            "\u001b[0;31mNameError\u001b[0m                                 Traceback (most recent call last)",
            "\u001b[0;32m<ipython-input-11-eb25eb5c01cd>\u001b[0m in \u001b[0;36m<module>\u001b[0;34m()\u001b[0m\n\u001b[0;32m----> 1\u001b[0;31m \u001b[0mget_ipython\u001b[0m\u001b[0;34m(\u001b[0m\u001b[0;34m)\u001b[0m\u001b[0;34m.\u001b[0m\u001b[0mrun_cell_magic\u001b[0m\u001b[0;34m(\u001b[0m\u001b[0;34m'time'\u001b[0m\u001b[0;34m,\u001b[0m \u001b[0;34m''\u001b[0m\u001b[0;34m,\u001b[0m \u001b[0;34m'histories = []\\n\\n# 繰り返しの条件\\nfor each_loss in learningDict[\"compared_losses\"]:\\n  # モデル作成\\n  model = models.Sequential()\\n  # 入力層\\n  model.add(\\n      layers.Reshape(\\n          (format1.FRAME_SIZE,\\n          format1.HEIGHT,\\n          format1.WIDTH,\\n          format1.COLORinfo),\\n          input_shape=(format1.FRAME_SIZE * format1.HEIGHT * format1.WIDTH * format1.COLORinfo,),\\n          name=\\'Input_Layer\\' )\\n  )\\n\\n  ## 畳み込み0\\n  model.add(\\n      layers.Conv3D(\\n          filters=32,\\n          kernel_size=(2, 3, 3),\\n          strides=(1, 1, 1),\\n          padding=\\'same\\',\\n          activation=\\'relu\\',\\n          name=\\'conv0\\'))\\n  ## pool0\\n  model.add(\\n      layers.MaxPooling3D(pool_size=(2, 3, 3), name=\\'pool0\\'))\\n\\n  ## 畳み込み1\\n  model.add(\\n      layers.Conv3D(\\n          filters=64,\\n          kernel_size=(2, 3, 3),\\n          strides=(1, 1, 1),\\n          padding=\\'same\\',\\n          activation=\\'relu\\',\\n          name=\\'conv1\\'))\\n\\n  ## 全結合0\\n  model.add(\\n      layers.Flatten(name=\\'pipe\\'),\\n  )\\n  model.add(\\n      layers.Dense(1024,\\n        activation=\\'relu\\',\\n        name=\\'dence0\\' ),\\n  )\\n  # 出力層\\n  model.add(\\n      layers.Dense(4, activation=\\'softmax\\', name=\\'Output_Leayer\\')\\n  )\\n\\n  model.compile(\\n      optimizer=optimizer,\\n      loss=each_loss,\\n      metrics=...\n\u001b[0m",
            "\u001b[0;32m/usr/local/lib/python3.6/dist-packages/IPython/core/interactiveshell.py\u001b[0m in \u001b[0;36mrun_cell_magic\u001b[0;34m(self, magic_name, line, cell)\u001b[0m\n\u001b[1;32m   2115\u001b[0m             \u001b[0mmagic_arg_s\u001b[0m \u001b[0;34m=\u001b[0m \u001b[0mself\u001b[0m\u001b[0;34m.\u001b[0m\u001b[0mvar_expand\u001b[0m\u001b[0;34m(\u001b[0m\u001b[0mline\u001b[0m\u001b[0;34m,\u001b[0m \u001b[0mstack_depth\u001b[0m\u001b[0;34m)\u001b[0m\u001b[0;34m\u001b[0m\u001b[0;34m\u001b[0m\u001b[0m\n\u001b[1;32m   2116\u001b[0m             \u001b[0;32mwith\u001b[0m \u001b[0mself\u001b[0m\u001b[0;34m.\u001b[0m\u001b[0mbuiltin_trap\u001b[0m\u001b[0;34m:\u001b[0m\u001b[0;34m\u001b[0m\u001b[0;34m\u001b[0m\u001b[0m\n\u001b[0;32m-> 2117\u001b[0;31m                 \u001b[0mresult\u001b[0m \u001b[0;34m=\u001b[0m \u001b[0mfn\u001b[0m\u001b[0;34m(\u001b[0m\u001b[0mmagic_arg_s\u001b[0m\u001b[0;34m,\u001b[0m \u001b[0mcell\u001b[0m\u001b[0;34m)\u001b[0m\u001b[0;34m\u001b[0m\u001b[0;34m\u001b[0m\u001b[0m\n\u001b[0m\u001b[1;32m   2118\u001b[0m             \u001b[0;32mreturn\u001b[0m \u001b[0mresult\u001b[0m\u001b[0;34m\u001b[0m\u001b[0;34m\u001b[0m\u001b[0m\n\u001b[1;32m   2119\u001b[0m \u001b[0;34m\u001b[0m\u001b[0m\n",
            "\u001b[0;32m<decorator-gen-60>\u001b[0m in \u001b[0;36mtime\u001b[0;34m(self, line, cell, local_ns)\u001b[0m\n",
            "\u001b[0;32m/usr/local/lib/python3.6/dist-packages/IPython/core/magic.py\u001b[0m in \u001b[0;36m<lambda>\u001b[0;34m(f, *a, **k)\u001b[0m\n\u001b[1;32m    186\u001b[0m     \u001b[0;31m# but it's overkill for just that one bit of state.\u001b[0m\u001b[0;34m\u001b[0m\u001b[0;34m\u001b[0m\u001b[0;34m\u001b[0m\u001b[0m\n\u001b[1;32m    187\u001b[0m     \u001b[0;32mdef\u001b[0m \u001b[0mmagic_deco\u001b[0m\u001b[0;34m(\u001b[0m\u001b[0marg\u001b[0m\u001b[0;34m)\u001b[0m\u001b[0;34m:\u001b[0m\u001b[0;34m\u001b[0m\u001b[0;34m\u001b[0m\u001b[0m\n\u001b[0;32m--> 188\u001b[0;31m         \u001b[0mcall\u001b[0m \u001b[0;34m=\u001b[0m \u001b[0;32mlambda\u001b[0m \u001b[0mf\u001b[0m\u001b[0;34m,\u001b[0m \u001b[0;34m*\u001b[0m\u001b[0ma\u001b[0m\u001b[0;34m,\u001b[0m \u001b[0;34m**\u001b[0m\u001b[0mk\u001b[0m\u001b[0;34m:\u001b[0m \u001b[0mf\u001b[0m\u001b[0;34m(\u001b[0m\u001b[0;34m*\u001b[0m\u001b[0ma\u001b[0m\u001b[0;34m,\u001b[0m \u001b[0;34m**\u001b[0m\u001b[0mk\u001b[0m\u001b[0;34m)\u001b[0m\u001b[0;34m\u001b[0m\u001b[0;34m\u001b[0m\u001b[0m\n\u001b[0m\u001b[1;32m    189\u001b[0m \u001b[0;34m\u001b[0m\u001b[0m\n\u001b[1;32m    190\u001b[0m         \u001b[0;32mif\u001b[0m \u001b[0mcallable\u001b[0m\u001b[0;34m(\u001b[0m\u001b[0marg\u001b[0m\u001b[0;34m)\u001b[0m\u001b[0;34m:\u001b[0m\u001b[0;34m\u001b[0m\u001b[0;34m\u001b[0m\u001b[0m\n",
            "\u001b[0;32m/usr/local/lib/python3.6/dist-packages/IPython/core/magics/execution.py\u001b[0m in \u001b[0;36mtime\u001b[0;34m(self, line, cell, local_ns)\u001b[0m\n\u001b[1;32m   1191\u001b[0m         \u001b[0;32melse\u001b[0m\u001b[0;34m:\u001b[0m\u001b[0;34m\u001b[0m\u001b[0;34m\u001b[0m\u001b[0m\n\u001b[1;32m   1192\u001b[0m             \u001b[0mst\u001b[0m \u001b[0;34m=\u001b[0m \u001b[0mclock2\u001b[0m\u001b[0;34m(\u001b[0m\u001b[0;34m)\u001b[0m\u001b[0;34m\u001b[0m\u001b[0;34m\u001b[0m\u001b[0m\n\u001b[0;32m-> 1193\u001b[0;31m             \u001b[0mexec\u001b[0m\u001b[0;34m(\u001b[0m\u001b[0mcode\u001b[0m\u001b[0;34m,\u001b[0m \u001b[0mglob\u001b[0m\u001b[0;34m,\u001b[0m \u001b[0mlocal_ns\u001b[0m\u001b[0;34m)\u001b[0m\u001b[0;34m\u001b[0m\u001b[0;34m\u001b[0m\u001b[0m\n\u001b[0m\u001b[1;32m   1194\u001b[0m             \u001b[0mend\u001b[0m \u001b[0;34m=\u001b[0m \u001b[0mclock2\u001b[0m\u001b[0;34m(\u001b[0m\u001b[0;34m)\u001b[0m\u001b[0;34m\u001b[0m\u001b[0;34m\u001b[0m\u001b[0m\n\u001b[1;32m   1195\u001b[0m             \u001b[0mout\u001b[0m \u001b[0;34m=\u001b[0m \u001b[0;32mNone\u001b[0m\u001b[0;34m\u001b[0m\u001b[0;34m\u001b[0m\u001b[0m\n",
            "\u001b[0;32m<timed exec>\u001b[0m in \u001b[0;36m<module>\u001b[0;34m()\u001b[0m\n",
            "\u001b[0;31mNameError\u001b[0m: name 'model' is not defined"
          ]
        }
      ]
    },
    {
      "cell_type": "markdown",
      "metadata": {
        "id": "XBOBDvoQudSL"
      },
      "source": [
        "おわり"
      ]
    },
    {
      "cell_type": "code",
      "metadata": {
        "id": "G7ppHoYBgD0t",
        "outputId": "eee592b5-045d-46ef-8417-f05a40e804f7",
        "colab": {
          "base_uri": "https://localhost:8080/",
          "height": 757
        }
      },
      "source": [
        "for each in histories:\n",
        "  plot(each, learningDict)"
      ],
      "execution_count": 13,
      "outputs": [
        {
          "output_type": "error",
          "ename": "UnboundLocalError",
          "evalue": "ignored",
          "traceback": [
            "\u001b[0;31m---------------------------------------------------------------------------\u001b[0m",
            "\u001b[0;31mUnboundLocalError\u001b[0m                         Traceback (most recent call last)",
            "\u001b[0;32m<ipython-input-13-707254746567>\u001b[0m in \u001b[0;36m<module>\u001b[0;34m()\u001b[0m\n\u001b[1;32m      1\u001b[0m \u001b[0;32mfor\u001b[0m \u001b[0meach\u001b[0m \u001b[0;32min\u001b[0m \u001b[0mhistories\u001b[0m\u001b[0;34m:\u001b[0m\u001b[0;34m\u001b[0m\u001b[0;34m\u001b[0m\u001b[0m\n\u001b[0;32m----> 2\u001b[0;31m   \u001b[0mplot\u001b[0m\u001b[0;34m(\u001b[0m\u001b[0meach\u001b[0m\u001b[0;34m,\u001b[0m \u001b[0mlearningDict\u001b[0m\u001b[0;34m)\u001b[0m\u001b[0;34m\u001b[0m\u001b[0;34m\u001b[0m\u001b[0m\n\u001b[0m",
            "\u001b[0;32m<ipython-input-9-128511e2a5e9>\u001b[0m in \u001b[0;36mplot\u001b[0;34m(history, elementsDict, name)\u001b[0m\n\u001b[1;32m     59\u001b[0m \u001b[0;34m\u001b[0m\u001b[0m\n\u001b[1;32m     60\u001b[0m   \u001b[0mLEARNING_OUTLINE\u001b[0m\u001b[0;34m.\u001b[0m\u001b[0mset\u001b[0m\u001b[0;34m(\u001b[0m\u001b[0;34m**\u001b[0m\u001b[0mtmp\u001b[0m\u001b[0;34m)\u001b[0m\u001b[0;34m\u001b[0m\u001b[0;34m\u001b[0m\u001b[0m\n\u001b[0;32m---> 61\u001b[0;31m   \u001b[0mLEARNING_OUTLINE\u001b[0m\u001b[0;34m.\u001b[0m\u001b[0mtext\u001b[0m\u001b[0;34m(\u001b[0m\u001b[0;36m0.1\u001b[0m\u001b[0;34m,\u001b[0m \u001b[0;36m0.5\u001b[0m\u001b[0;34m,\u001b[0m \u001b[0mmodelOutline\u001b[0m\u001b[0;34m(\u001b[0m\u001b[0melementsDict\u001b[0m\u001b[0;34m)\u001b[0m\u001b[0;34m,\u001b[0m \u001b[0msize\u001b[0m\u001b[0;34m=\u001b[0m\u001b[0;36m10\u001b[0m\u001b[0;34m)\u001b[0m\u001b[0;34m\u001b[0m\u001b[0;34m\u001b[0m\u001b[0m\n\u001b[0m\u001b[1;32m     62\u001b[0m \u001b[0;34m\u001b[0m\u001b[0m\n\u001b[1;32m     63\u001b[0m   \u001b[0;31m#save\u001b[0m\u001b[0;34m\u001b[0m\u001b[0;34m\u001b[0m\u001b[0;34m\u001b[0m\u001b[0m\n",
            "\u001b[0;32m<ipython-input-9-128511e2a5e9>\u001b[0m in \u001b[0;36mmodelOutline\u001b[0;34m(elementsDict)\u001b[0m\n\u001b[1;32m     73\u001b[0m       \u001b[0;31m# print(str(elementsDict[each]))\u001b[0m\u001b[0;34m\u001b[0m\u001b[0;34m\u001b[0m\u001b[0;34m\u001b[0m\u001b[0m\n\u001b[1;32m     74\u001b[0m     \u001b[0;32melse\u001b[0m\u001b[0;34m:\u001b[0m\u001b[0;34m\u001b[0m\u001b[0;34m\u001b[0m\u001b[0m\n\u001b[0;32m---> 75\u001b[0;31m       \u001b[0msentence\u001b[0m \u001b[0;34m=\u001b[0m \u001b[0msentence\u001b[0m \u001b[0;34m+\u001b[0m \u001b[0meach\u001b[0m \u001b[0;34m+\u001b[0m \u001b[0;34m\" : \"\u001b[0m \u001b[0;34m+\u001b[0m \u001b[0mget_var_name\u001b[0m\u001b[0;34m(\u001b[0m\u001b[0melementsDict\u001b[0m\u001b[0;34m[\u001b[0m\u001b[0meach\u001b[0m\u001b[0;34m]\u001b[0m\u001b[0;34m)\u001b[0m \u001b[0;34m+\u001b[0m \u001b[0;34m\"\\n\"\u001b[0m\u001b[0;34m\u001b[0m\u001b[0;34m\u001b[0m\u001b[0m\n\u001b[0m\u001b[1;32m     76\u001b[0m       \u001b[0;31m# print(get_var_name(elementsDict[each]))\u001b[0m\u001b[0;34m\u001b[0m\u001b[0;34m\u001b[0m\u001b[0;34m\u001b[0m\u001b[0m\n\u001b[1;32m     77\u001b[0m   \u001b[0;32mreturn\u001b[0m \u001b[0msentence\u001b[0m\u001b[0;34m\u001b[0m\u001b[0;34m\u001b[0m\u001b[0m\n",
            "\u001b[0;32m<ipython-input-9-128511e2a5e9>\u001b[0m in \u001b[0;36mget_var_name\u001b[0;34m(var)\u001b[0m\n\u001b[1;32m     81\u001b[0m         \u001b[0;32mif\u001b[0m \u001b[0mid\u001b[0m\u001b[0;34m(\u001b[0m\u001b[0mv\u001b[0m\u001b[0;34m)\u001b[0m \u001b[0;34m==\u001b[0m \u001b[0mid\u001b[0m\u001b[0;34m(\u001b[0m\u001b[0mvar\u001b[0m\u001b[0;34m)\u001b[0m\u001b[0;34m:\u001b[0m\u001b[0;34m\u001b[0m\u001b[0;34m\u001b[0m\u001b[0m\n\u001b[1;32m     82\u001b[0m             \u001b[0mname\u001b[0m\u001b[0;34m=\u001b[0m\u001b[0mk\u001b[0m\u001b[0;34m\u001b[0m\u001b[0;34m\u001b[0m\u001b[0m\n\u001b[0;32m---> 83\u001b[0;31m     \u001b[0;32mreturn\u001b[0m \u001b[0mname\u001b[0m\u001b[0;34m\u001b[0m\u001b[0;34m\u001b[0m\u001b[0m\n\u001b[0m\u001b[1;32m     84\u001b[0m \u001b[0;34m\u001b[0m\u001b[0m\n",
            "\u001b[0;31mUnboundLocalError\u001b[0m: local variable 'name' referenced before assignment"
          ]
        },
        {
          "output_type": "display_data",
          "data": {
            "image/png": "[encoded data removed]",
            "text/plain": [
              "<Figure size 432x288 with 4 Axes>"
            ]
          },
          "metadata": {
            "tags": [],
            "needs_background": "light"
          }
        }
      ]
    }
  ]
}