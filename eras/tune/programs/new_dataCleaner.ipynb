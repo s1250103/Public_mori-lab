{
  "nbformat": 4,
  "nbformat_minor": 0,
  "metadata": {
    "colab": {
      "name": "new_dataCleaner.ipynb",
      "provenance": [],
      "toc_visible": true,
      "authorship_tag": "ABX9TyOxLljbAXFmX5yNtGiM3CvN",
      "include_colab_link": true
    },
    "kernelspec": {
      "name": "python3",
      "display_name": "Python 3"
    },
    "accelerator": "GPU"
  },
  "cells": [
    {
      "cell_type": "markdown",
      "metadata": {
        "id": "view-in-github",
        "colab_type": "text"
      },
      "source": [
        "<a href=\"https://colab.research.google.com/github/s1250103/Public_mori-lab/blob/eras/eras/tune/programs/new_dataCleaner.ipynb\" target=\"_parent\"><img src=\"https://colab.research.google.com/assets/colab-badge.svg\" alt=\"Open In Colab\"/></a>"
      ]
    },
    {
      "cell_type": "markdown",
      "metadata": {
        "id": "o1XXQEFloKtJ"
      },
      "source": [
        "#ツール"
      ]
    },
    {
      "cell_type": "code",
      "metadata": {
        "id": "EPu0Nt30oGZ9"
      },
      "source": [
        "def beep():\n",
        "  from google.colab import output\n",
        "  output.eval_js('new Audio(\\\n",
        "\"https://upload.wikimedia.org/wikipedia/commons/0/05/Beep-09.ogg\")\\\n",
        ".play()') "
      ],
      "execution_count": 1,
      "outputs": []
    },
    {
      "cell_type": "code",
      "metadata": {
        "id": "jiO3ZwVib3Oh"
      },
      "source": [
        "import matplotlib.pyplot as plt\n",
        "import cv2\n",
        "def display_ndarray(image):\n",
        "  img = cv2.cvtColor(image, cv2.COLOR_BGR2RGB)\n",
        "  plt.imshow(img)\n",
        "  plt.show()"
      ],
      "execution_count": 2,
      "outputs": []
    },
    {
      "cell_type": "markdown",
      "metadata": {
        "id": "7qbZWFAfoSEv"
      },
      "source": [
        "#ディレクトリ環境設定"
      ]
    },
    {
      "cell_type": "code",
      "metadata": {
        "id": "dAQ372Rwvew8"
      },
      "source": [
        "# file dealing\n",
        "import os\n",
        "import shutil\n",
        "from google.colab import drive\n",
        "# data dealing\n",
        "import numpy as np\n",
        "from pandas import DataFrame\n",
        "import matplotlib.pyplot as plt\n",
        "# process deasing\n",
        "import gc"
      ],
      "execution_count": 3,
      "outputs": []
    },
    {
      "cell_type": "code",
      "metadata": {
        "id": "ba20PBiDApiV"
      },
      "source": [
        "import os\n",
        "from os import path\n",
        "from google.colab import drive\n",
        "\n",
        "def make_dirStruct():\n",
        "  # gdrive 接続\n",
        "  if not path.exists('/content/drive'):\n",
        "    drive.mount('/content/drive')\n",
        "  else:\n",
        "    print(\"Already confirm\")\n",
        "  # colab テンポラリディレクトリの作成\n",
        "  desk = '/content/desk'\n",
        "  if not os.path.exists(desk):\n",
        "    os.mkdir(desk)\n",
        "  os.chdir(desk)\n",
        "  print(\"Created at /content/desk\")\n",
        "  return desk"
      ],
      "execution_count": 4,
      "outputs": []
    },
    {
      "cell_type": "code",
      "metadata": {
        "colab": {
          "base_uri": "https://localhost:8080/"
        },
        "id": "YyAEWeHxBXLB",
        "outputId": "28dedc96-884b-4fe2-ad36-054617ab2421"
      },
      "source": [
        "desk = make_dirStruct()"
      ],
      "execution_count": 5,
      "outputs": [
        {
          "output_type": "stream",
          "text": [
            "Mounted at /content/drive\n",
            "Created at /content/desk\n"
          ],
          "name": "stdout"
        }
      ]
    },
    {
      "cell_type": "code",
      "metadata": {
        "id": "MCcqRnuaBw4f"
      },
      "source": [
        "class video_format:\n",
        "  name = \"video_format\"\n",
        "  # サンプリングされたCMデータの仕様\n",
        "  playtime = \"15秒\"\n",
        "  displaysize = \"(any, any, RGB)\"\n",
        "  videoformat = \"any\"\n",
        "  # モデルが扱うCMデータ(上のようなデータは、下のように変換される)\n",
        "  HEIGHT = 45\n",
        "  WIDTH = 80\n",
        "  FRAME_SIZE = 30\n",
        "  COLOR = \"RGB\"\n",
        "  FPS = \"2 (FRAME_SIZE / playtime)\" # 定義ではなく上から導かれた値"
      ],
      "execution_count": 6,
      "outputs": []
    },
    {
      "cell_type": "code",
      "metadata": {
        "id": "u6xzoQHmB8sQ"
      },
      "source": [
        "format1 = video_format()"
      ],
      "execution_count": 7,
      "outputs": []
    },
    {
      "cell_type": "markdown",
      "metadata": {
        "id": "fOOHfdAyM8ev"
      },
      "source": [
        "## [A-1-1]データ取得"
      ]
    },
    {
      "cell_type": "code",
      "metadata": {
        "id": "6Y_IUYsxCq5N"
      },
      "source": [
        "dataPath = '/content/drive/MyDrive/new_categorize'\n",
        "if not os.path.isdir(dataPath):\n",
        "  print(\"no such data path\")"
      ],
      "execution_count": 8,
      "outputs": []
    },
    {
      "cell_type": "markdown",
      "metadata": {
        "id": "7FSqpJQtGnBS"
      },
      "source": [
        "get paths of each category"
      ]
    },
    {
      "cell_type": "code",
      "metadata": {
        "id": "TeCnK49QDD9I"
      },
      "source": [
        "CATEGORIES = ['product', 'service', 'serviceORproduct', 'unjudgeable']\n",
        "\n",
        "categoryPaths = []\n",
        "for each in CATEGORIES:\n",
        "  thePath = os.path.join(dataPath, each)\n",
        "  if os.path.isdir(thePath):\n",
        "    categoryPaths.append(thePath)\n",
        "  else:\n",
        "    print(\"error\")\n",
        "    break\n",
        "  \n",
        "if len(CATEGORIES) != len(categoryPaths):\n",
        "  print(\"error: in directory struct\")\n",
        "  exit()"
      ],
      "execution_count": 9,
      "outputs": []
    },
    {
      "cell_type": "markdown",
      "metadata": {
        "id": "F6OyrSA9LBiB"
      },
      "source": [
        "get all "
      ]
    },
    {
      "cell_type": "code",
      "metadata": {
        "colab": {
          "base_uri": "https://localhost:8080/"
        },
        "id": "nyiV50EBIuM9",
        "outputId": "de00f4b5-3364-4f5b-edfe-75524adfd7ee"
      },
      "source": [
        "data_inEachCategory = []\n",
        "for eachPath in categoryPaths:\n",
        "  files = os.listdir(eachPath)\n",
        "  if '.DS_Store' in files:\n",
        "    files.remove('.DS_Store')\n",
        "    print(\"remove DS_Store\")\n",
        "  else:\n",
        "    print(\"no DS_Store\")\n",
        "    \n",
        "  data_inEachCategory.append(files)"
      ],
      "execution_count": 10,
      "outputs": [
        {
          "output_type": "stream",
          "text": [
            "remove DS_Store\n",
            "remove DS_Store\n",
            "remove DS_Store\n",
            "remove DS_Store\n"
          ],
          "name": "stdout"
        }
      ]
    },
    {
      "cell_type": "markdown",
      "metadata": {
        "id": "s-PgkukbHY-1"
      },
      "source": [
        "#データの可視化"
      ]
    },
    {
      "cell_type": "code",
      "metadata": {
        "id": "MmtSuErYMMsS"
      },
      "source": [
        "nums_data = []\n",
        "nums = 0\n",
        "for numdata in data_inEachCategory:\n",
        "  nums_data.append(len(numdata))\n",
        "  nums = nums + len(numdata)"
      ],
      "execution_count": 11,
      "outputs": []
    },
    {
      "cell_type": "code",
      "metadata": {
        "id": "iUXPgmuFQlZx",
        "colab": {
          "base_uri": "https://localhost:8080/",
          "height": 368
        },
        "outputId": "15143439-cc72-4ece-daa1-40d38f43bc9f"
      },
      "source": [
        "import matplotlib.pyplot as plt\n",
        " \n",
        "left = [1, 2, 3, 4]\n",
        "height = nums_data\n",
        "\n",
        "labels = ['product', 'service', 'serviceORproduct', 'unjudgeable']\n",
        " \n",
        "plt.bar(left, height, width=0.5, color='#0096c8',\n",
        "        edgecolor='b', linewidth=2, tick_label=labels)\n",
        "\n",
        "plt.text(3, 60, \n",
        "         \"\\n product: 82\\n service: 16\\n serviceORproduct: 10\\n unjudgeable: 4\\n all: 112\",\n",
        "         size=10)\n",
        "\n",
        "plt.savefig(\"img.png\")\n",
        "plt.show()\n",
        "\n",
        "print(\"Number product: \", nums_data[0])\n",
        "print(\"Number service: \", nums_data[1])\n",
        "print(\"Number serviceORproduct: \", nums_data[2])\n",
        "print(\"Number unjudgeable: \", nums_data[3])\n",
        "print(\"-----------------------------------------------------\")\n",
        "print(\"Number All: \", nums)\n",
        "\n"
      ],
      "execution_count": 12,
      "outputs": [
        {
          "output_type": "display_data",
          "data": {
            "image/png": "[encoded data removed]",
            "text/plain": [
              "<Figure size 432x288 with 1 Axes>"
            ]
          },
          "metadata": {
            "tags": [],
            "needs_background": "light"
          }
        },
        {
          "output_type": "stream",
          "text": [
            "Number product:  82\n",
            "Number service:  16\n",
            "Number serviceORproduct:  10\n",
            "Number unjudgeable:  4\n",
            "-----------------------------------------------------\n",
            "Number All:  112\n"
          ],
          "name": "stdout"
        }
      ]
    },
    {
      "cell_type": "markdown",
      "metadata": {
        "id": "gPg4GCo6G6C3"
      },
      "source": [
        "#内部の変数として、適切な形にして取り込む"
      ]
    },
    {
      "cell_type": "markdown",
      "metadata": {
        "id": "mBDHnb2asOwC"
      },
      "source": [
        "学習データとテストデータとで分ける"
      ]
    },
    {
      "cell_type": "code",
      "metadata": {
        "colab": {
          "base_uri": "https://localhost:8080/"
        },
        "id": "CVihsJVVsfdG",
        "outputId": "a97f9690-5f14-4c5b-f232-e22a121e27a3"
      },
      "source": [
        "forTest = 2 \n",
        "forLearn = nums - forTest*4\n",
        "\n",
        "print(\"forTest: \", forTest)\n",
        "print(\"forLearn: \", forLearn)"
      ],
      "execution_count": 13,
      "outputs": [
        {
          "output_type": "stream",
          "text": [
            "forTest:  2\n",
            "forLearn:  104\n"
          ],
          "name": "stdout"
        }
      ]
    },
    {
      "cell_type": "code",
      "metadata": {
        "id": "5hGsLnSOcHdd"
      },
      "source": [
        "import math\n",
        "import cv2\n",
        "def makeupVideo(video):\n",
        "  framesize = int(video.get(cv2.CAP_PROP_FRAME_COUNT))\n",
        "  cutTiming = math.floor(framesize / format1.FRAME_SIZE)\n",
        "  cutTail = cutTiming * format1.FRAME_SIZE\n",
        "\n",
        "  normalizedFrames = []\n",
        "  count = 0\n",
        "\n",
        "  # フレーム３０枚分を１つの動画から間伐する\n",
        "  while count <= cutTail - 1:\n",
        "    IO, frame = video.read()\n",
        "    if (count % cutTiming) == 0: \n",
        "      if not IO:\n",
        "        print(\"error\") \n",
        "        break\n",
        "      else: \n",
        "        fixedFrame = cv2.resize(frame, dsize=(format1.WIDTH, format1.HEIGHT))\n",
        "        # display_ndarray(fixedFrame)\n",
        "        # fixedFrame = fixedFrame.flatten().astype(np.float32)/255.0\n",
        "\n",
        "        # print(fixedFrame.shape)\n",
        "        normalizedFrames.append(fixedFrame)\n",
        "    else:\n",
        "      pass\n",
        "\n",
        "    count += 1\n",
        "\n",
        "\n",
        "  return np.array(normalizedFrames).flatten().astype(np.float32)/255.0"
      ],
      "execution_count": 25,
      "outputs": []
    },
    {
      "cell_type": "code",
      "metadata": {
        "id": "yHuLQ-DkXf94",
        "colab": {
          "base_uri": "https://localhost:8080/",
          "height": 1000
        },
        "outputId": "36dec9c8-3b67-408b-810d-b324a9295d38"
      },
      "source": [
        "%%time\n",
        "# Wall time: 9min 28s\n",
        "# Wall time: 8min 12s\n",
        "\n",
        "videoContener_test = []\n",
        "labelContener_test = []\n",
        "videoContener_train = []\n",
        "labelContener_train = []\n",
        "\n",
        "for index, eachPath in enumerate(categoryPaths):\n",
        "  files = data_inEachCategory[index]\n",
        "  test_files = files[:forTest]\n",
        "  train_files = files[forTest:]\n",
        "  print(eachPath, \"& label =\", index)\n",
        "  print(\"=============================================\")\n",
        "\n",
        "  # test part\n",
        "  print(\"[test part] starts\")\n",
        "  print(\"--------------\")\n",
        "  for f in test_files:\n",
        "    theFile = os.path.join(eachPath, f)\n",
        "    print(\"searching \", theFile)\n",
        "    if os.path.isfile(theFile):\n",
        "      print('@exists.')\n",
        "      print(\"@loading from physical.\")\n",
        "      innnerData_video = cv2.VideoCapture(theFile)\n",
        "      label = index\n",
        "      innnerData_frames = makeupVideo(innnerData_video)\n",
        "\n",
        "      videoContener_test.append(innnerData_frames)\n",
        "      labelContener_test.append(label)\n",
        "\n",
        "      print(\"test finish\")\n",
        "      print(\"-------------------------------------------\\n\")\n",
        "      # break\n",
        "  # /for f\n",
        "  # train part \n",
        "  print(\"[train part] starts\")\n",
        "  print(\"--------------\")\n",
        "  for f in train_files:\n",
        "    theFile = os.path.join(eachPath, f)\n",
        "    print(\"searching \", theFile)\n",
        "    if os.path.isfile(theFile):\n",
        "      print('@exists.')\n",
        "      print(\"@loading from physical.\")\n",
        "      innnerData_video = cv2.VideoCapture(theFile)\n",
        "      label = index\n",
        "      innnerData_frames = makeupVideo(innnerData_video)\n",
        "\n",
        "      videoContener_train.append(innnerData_frames)\n",
        "      labelContener_train.append(label)\n",
        "\n",
        "      print(\"train finish\")\n",
        "      print(\"-------------------------------------------\\n\")\n",
        "      # break\n",
        "  # /for f\n",
        "\n",
        "  # break\n",
        "# /for index\n",
        "beep()"
      ],
      "execution_count": 29,
      "outputs": [
        {
          "output_type": "stream",
          "text": [
            "/content/drive/MyDrive/new_categorize/product & label = 0\n",
            "=============================================\n",
            "[test part] starts\n",
            "--------------\n",
            "searching  /content/drive/MyDrive/new_categorize/product/unicharm_シルコット.mp4\n",
            "@exists.\n",
            "@loading from physical.\n",
            "test finish\n",
            "-------------------------------------------\n",
            "\n",
            "searching  /content/drive/MyDrive/new_categorize/product/UHA味覚糖_ぷっちょ とろけるグミ.mp4\n",
            "@exists.\n",
            "@loading from physical.\n",
            "test finish\n",
            "-------------------------------------------\n",
            "\n",
            "[train part] starts\n",
            "--------------\n",
            "searching  /content/drive/MyDrive/new_categorize/product/ニトリ_わんぱく組.mp4\n",
            "@exists.\n",
            "@loading from physical.\n",
            "train finish\n",
            "-------------------------------------------\n",
            "\n",
            "searching  /content/drive/MyDrive/new_categorize/product/meiji_Poifull.mp4\n",
            "@exists.\n",
            "@loading from physical.\n",
            "train finish\n",
            "-------------------------------------------\n",
            "\n",
            "searching  /content/drive/MyDrive/new_categorize/product/小林製薬_生理用品_サラサーティ 天然コットン100%.mp4\n",
            "@exists.\n",
            "@loading from physical.\n",
            "train finish\n",
            "-------------------------------------------\n",
            "\n",
            "searching  /content/drive/MyDrive/new_categorize/product/第一三共_クリーンデンタル.mp4\n",
            "@exists.\n",
            "@loading from physical.\n",
            "train finish\n",
            "-------------------------------------------\n",
            "\n",
            "searching  /content/drive/MyDrive/new_categorize/product/大東電機工業_THRIVE.mp4\n",
            "@exists.\n",
            "@loading from physical.\n",
            "train finish\n",
            "-------------------------------------------\n",
            "\n",
            "searching  /content/drive/MyDrive/new_categorize/product/幸楽苑_食品_豚バラチャーシュー麺.mp4\n",
            "@exists.\n",
            "@loading from physical.\n",
            "train finish\n",
            "-------------------------------------------\n",
            "\n",
            "searching  /content/drive/MyDrive/new_categorize/product/meiji_LG21.mp4\n",
            "@exists.\n",
            "@loading from physical.\n",
            "train finish\n",
            "-------------------------------------------\n",
            "\n",
            "searching  /content/drive/MyDrive/new_categorize/product/ソフラン_クイーンズシルク.mp4\n",
            "@exists.\n",
            "@loading from physical.\n",
            "train finish\n",
            "-------------------------------------------\n",
            "\n",
            "searching  /content/drive/MyDrive/new_categorize/product/太田胃散_整腸薬.mp4\n",
            "@exists.\n",
            "@loading from physical.\n",
            "train finish\n",
            "-------------------------------------------\n",
            "\n",
            "searching  /content/drive/MyDrive/new_categorize/product/第一三共_第一三共胃腸薬プラス.mp4\n",
            "@exists.\n",
            "@loading from physical.\n",
            "train finish\n",
            "-------------------------------------------\n",
            "\n",
            "searching  /content/drive/MyDrive/new_categorize/product/タケダ_薬品_アリナミンA.mp4\n",
            "@exists.\n",
            "@loading from physical.\n",
            "train finish\n",
            "-------------------------------------------\n",
            "\n",
            "searching  /content/drive/MyDrive/new_categorize/product/meiji_ヨーグルト_LG21.mp4\n",
            "@exists.\n",
            "@loading from physical.\n",
            "train finish\n",
            "-------------------------------------------\n",
            "\n",
            "searching  /content/drive/MyDrive/new_categorize/product/gsk_薬品_ボルタレン.mp4\n",
            "@exists.\n",
            "@loading from physical.\n",
            "train finish\n",
            "-------------------------------------------\n",
            "\n",
            "searching  /content/drive/MyDrive/new_categorize/product/ノーシンAI頭痛薬.mp4\n",
            "@exists.\n",
            "@loading from physical.\n",
            "train finish\n",
            "-------------------------------------------\n",
            "\n",
            "searching  /content/drive/MyDrive/new_categorize/product/小林製薬_サラサーティ.mp4\n",
            "@exists.\n",
            "@loading from physical.\n",
            "train finish\n",
            "-------------------------------------------\n",
            "\n",
            "searching  /content/drive/MyDrive/new_categorize/product/ダイソン_掃除_dyson v8.mp4\n",
            "@exists.\n",
            "@loading from physical.\n",
            "train finish\n",
            "-------------------------------------------\n",
            "\n",
            "searching  /content/drive/MyDrive/new_categorize/product/大塚製薬_洗髪料_ULOS.mp4\n",
            "@exists.\n",
            "@loading from physical.\n",
            "train finish\n",
            "-------------------------------------------\n",
            "\n",
            "searching  /content/drive/MyDrive/new_categorize/product/meiji_ポリポリ元気.mp4\n",
            "@exists.\n",
            "@loading from physical.\n",
            "train finish\n",
            "-------------------------------------------\n",
            "\n",
            "searching  /content/drive/MyDrive/new_categorize/product/タケダ_薬_アリナミンEX PLUS.mp4\n",
            "@exists.\n",
            "@loading from physical.\n",
            "train finish\n",
            "-------------------------------------------\n",
            "\n",
            "searching  /content/drive/MyDrive/new_categorize/product/unicharm_男性用さわやかうす型パッド.mp4\n",
            "@exists.\n",
            "@loading from physical.\n",
            "train finish\n",
            "-------------------------------------------\n",
            "\n",
            "searching  /content/drive/MyDrive/new_categorize/product/Yamazaki_ランチパック.mp4\n",
            "@exists.\n",
            "@loading from physical.\n",
            "train finish\n",
            "-------------------------------------------\n",
            "\n",
            "searching  /content/drive/MyDrive/new_categorize/product/小林製薬_ハレナース.mp4\n",
            "@exists.\n",
            "@loading from physical.\n",
            "train finish\n",
            "-------------------------------------------\n",
            "\n",
            "searching  /content/drive/MyDrive/new_categorize/product/ロート_スキンAQUA 日焼け留め.mpg\n",
            "@exists.\n",
            "@loading from physical.\n",
            "train finish\n",
            "-------------------------------------------\n",
            "\n",
            "searching  /content/drive/MyDrive/new_categorize/product/UHA味覚糖_菓子_e-maのど飴.mp4\n",
            "@exists.\n",
            "@loading from physical.\n",
            "train finish\n",
            "-------------------------------------------\n",
            "\n",
            "searching  /content/drive/MyDrive/new_categorize/product/資生堂_Anessa_B.mpg\n",
            "@exists.\n",
            "@loading from physical.\n",
            "train finish\n",
            "-------------------------------------------\n",
            "\n",
            "searching  /content/drive/MyDrive/new_categorize/product/セブン&アイHLDGS_食品_ヨークベニマルの鰻.mp4\n",
            "@exists.\n",
            "@loading from physical.\n",
            "train finish\n",
            "-------------------------------------------\n",
            "\n",
            "searching  /content/drive/MyDrive/new_categorize/product/Kose_化粧品_ESPRIQUE.mp4\n",
            "@exists.\n",
            "@loading from physical.\n",
            "train finish\n",
            "-------------------------------------------\n",
            "\n",
            "searching  /content/drive/MyDrive/new_categorize/product/はごろもフーズ_シーチキンSmile.mp4\n",
            "@exists.\n",
            "@loading from physical.\n",
            "train finish\n",
            "-------------------------------------------\n",
            "\n",
            "searching  /content/drive/MyDrive/new_categorize/product/ペヤング_食品_ペヤングヌードル.mp4\n",
            "@exists.\n",
            "@loading from physical.\n",
            "train finish\n",
            "-------------------------------------------\n",
            "\n",
            "searching  /content/drive/MyDrive/new_categorize/product/白鶴_酒_大吟醸.mp4\n",
            "@exists.\n",
            "@loading from physical.\n",
            "train finish\n",
            "-------------------------------------------\n",
            "\n",
            "searching  /content/drive/MyDrive/new_categorize/product/永谷園_お茶漬け海苔.mp4\n",
            "@exists.\n",
            "@loading from physical.\n",
            "train finish\n",
            "-------------------------------------------\n",
            "\n",
            "searching  /content/drive/MyDrive/new_categorize/product/Eisai_薬品_チョコラBBプラス.mp4\n",
            "@exists.\n",
            "@loading from physical.\n",
            "train finish\n",
            "-------------------------------------------\n",
            "\n",
            "searching  /content/drive/MyDrive/new_categorize/product/柏屋_薄皮饅頭.mp4\n",
            "@exists.\n",
            "@loading from physical.\n",
            "train finish\n",
            "-------------------------------------------\n",
            "\n",
            "searching  /content/drive/MyDrive/new_categorize/product/pepsi_STRONG_5.0GV.mp4\n",
            "@exists.\n",
            "@loading from physical.\n",
            "train finish\n",
            "-------------------------------------------\n",
            "\n",
            "searching  /content/drive/MyDrive/new_categorize/product/SUBARU_FORESTER.mp4\n",
            "@exists.\n",
            "@loading from physical.\n",
            "train finish\n",
            "-------------------------------------------\n",
            "\n",
            "searching  /content/drive/MyDrive/new_categorize/product/ヤクルト_ジョア.mpg\n",
            "@exists.\n",
            "@loading from physical.\n",
            "train finish\n",
            "-------------------------------------------\n",
            "\n",
            "searching  /content/drive/MyDrive/new_categorize/product/DAIHATSU_車_CAST.mp4\n",
            "@exists.\n",
            "@loading from physical.\n",
            "train finish\n",
            "-------------------------------------------\n",
            "\n",
            "searching  /content/drive/MyDrive/new_categorize/product/キリン_コーヒー_FIRE.mp4\n",
            "@exists.\n",
            "@loading from physical.\n",
            "train finish\n",
            "-------------------------------------------\n",
            "\n",
            "searching  /content/drive/MyDrive/new_categorize/product/Kao_新エッセンシャルキューティクルケアシャンプー.mpg\n",
            "@exists.\n",
            "@loading from physical.\n",
            "train finish\n",
            "-------------------------------------------\n",
            "\n",
            "searching  /content/drive/MyDrive/new_categorize/product/poddi_10分ごはん.mp4\n",
            "@exists.\n",
            "@loading from physical.\n",
            "train finish\n",
            "-------------------------------------------\n",
            "\n",
            "searching  /content/drive/MyDrive/new_categorize/product/永谷園_食品_麦茶漬け.mp4\n",
            "@exists.\n",
            "@loading from physical.\n",
            "train finish\n",
            "-------------------------------------------\n",
            "\n",
            "searching  /content/drive/MyDrive/new_categorize/product/ケンタッキー_食品_カーネリングポテト.mp4\n",
            "@exists.\n",
            "@loading from physical.\n",
            "train finish\n",
            "-------------------------------------------\n",
            "\n",
            "searching  /content/drive/MyDrive/new_categorize/product/白鶴_酒_まる.mp4\n",
            "@exists.\n",
            "@loading from physical.\n",
            "train finish\n",
            "-------------------------------------------\n",
            "\n",
            "searching  /content/drive/MyDrive/new_categorize/product/HONDA_車_NBOX.mp4\n",
            "@exists.\n",
            "@loading from physical.\n",
            "train finish\n",
            "-------------------------------------------\n",
            "\n",
            "searching  /content/drive/MyDrive/new_categorize/product/フジパン_本仕込.mp4\n",
            "@exists.\n",
            "@loading from physical.\n",
            "train finish\n",
            "-------------------------------------------\n",
            "\n",
            "searching  /content/drive/MyDrive/new_categorize/product/Kao_Primavista_パウダー.mpg\n",
            "@exists.\n",
            "@loading from physical.\n",
            "train finish\n",
            "-------------------------------------------\n",
            "\n",
            "searching  /content/drive/MyDrive/new_categorize/product/大塚製薬_食品_カロリーメイトゼリー.mp4\n",
            "@exists.\n",
            "@loading from physical.\n",
            "train finish\n",
            "-------------------------------------------\n",
            "\n",
            "searching  /content/drive/MyDrive/new_categorize/product/DAIHATSU_Tanto_Custom.mpg\n",
            "@exists.\n",
            "@loading from physical.\n",
            "train finish\n",
            "-------------------------------------------\n",
            "\n",
            "searching  /content/drive/MyDrive/new_categorize/product/雪印メグミルク_食品_さけるチーズ.mp4\n",
            "@exists.\n",
            "@loading from physical.\n",
            "train finish\n",
            "-------------------------------------------\n",
            "\n",
            "searching  /content/drive/MyDrive/new_categorize/product/Honda_N-Custom.mpg\n",
            "@exists.\n",
            "@loading from physical.\n",
            "train finish\n",
            "-------------------------------------------\n",
            "\n",
            "searching  /content/drive/MyDrive/new_categorize/product/DUNLOP_タイヤ_Winter MAXX 02.mp4\n",
            "@exists.\n",
            "@loading from physical.\n",
            "train finish\n",
            "-------------------------------------------\n",
            "\n",
            "searching  /content/drive/MyDrive/new_categorize/product/銀のスプーン_三ツ星グルメ.mp4\n",
            "@exists.\n",
            "@loading from physical.\n",
            "train finish\n",
            "-------------------------------------------\n",
            "\n",
            "searching  /content/drive/MyDrive/new_categorize/product/Honda_N-Box.mpg\n",
            "@exists.\n",
            "@loading from physical.\n",
            "train finish\n",
            "-------------------------------------------\n",
            "\n",
            "searching  /content/drive/MyDrive/new_categorize/product/pokka sapporo_食品_こんがりパン コーンポタージュ.mp4\n",
            "@exists.\n",
            "@loading from physical.\n",
            "train finish\n",
            "-------------------------------------------\n",
            "\n",
            "searching  /content/drive/MyDrive/new_categorize/product/柏屋_薄皮饅頭.mpg\n",
            "@exists.\n",
            "@loading from physical.\n",
            "train finish\n",
            "-------------------------------------------\n",
            "\n",
            "searching  /content/drive/MyDrive/new_categorize/product/Kao_リーゼ.mpg\n",
            "@exists.\n",
            "@loading from physical.\n",
            "train finish\n",
            "-------------------------------------------\n",
            "\n",
            "searching  /content/drive/MyDrive/new_categorize/product/三幸製菓_チーズアーモンド.mp4\n",
            "@exists.\n",
            "@loading from physical.\n",
            "train finish\n",
            "-------------------------------------------\n",
            "\n",
            "searching  /content/drive/MyDrive/new_categorize/product/森永乳業_飲料_アロエステ.mp4\n",
            "@exists.\n",
            "@loading from physical.\n",
            "train finish\n",
            "-------------------------------------------\n",
            "\n",
            "searching  /content/drive/MyDrive/new_categorize/product/Kao_Segreta.mp4\n",
            "@exists.\n",
            "@loading from physical.\n",
            "train finish\n",
            "-------------------------------------------\n",
            "\n",
            "searching  /content/drive/MyDrive/new_categorize/product/NISSAN_CUBE.mpg\n",
            "@exists.\n",
            "@loading from physical.\n",
            "train finish\n",
            "-------------------------------------------\n",
            "\n",
            "searching  /content/drive/MyDrive/new_categorize/product/エバラ_プチッと調味料.mp4\n",
            "@exists.\n",
            "@loading from physical.\n",
            "train finish\n",
            "-------------------------------------------\n",
            "\n",
            "searching  /content/drive/MyDrive/new_categorize/product/伊藤園_飲料_おーいお茶.mp4\n",
            "@exists.\n",
            "@loading from physical.\n",
            "train finish\n",
            "-------------------------------------------\n",
            "\n",
            "searching  /content/drive/MyDrive/new_categorize/product/びっくりドンキー_食品_本格スパイシーカレー.mp4\n",
            "@exists.\n",
            "@loading from physical.\n",
            "train finish\n",
            "-------------------------------------------\n",
            "\n",
            "searching  /content/drive/MyDrive/new_categorize/product/資生堂_Perfect_Watery_Oil.mpg\n",
            "@exists.\n",
            "@loading from physical.\n",
            "train finish\n",
            "-------------------------------------------\n",
            "\n",
            "searching  /content/drive/MyDrive/new_categorize/product/大正製薬_飲料_リポビタンfine.mp4\n",
            "@exists.\n",
            "@loading from physical.\n",
            "train finish\n",
            "-------------------------------------------\n",
            "\n",
            "searching  /content/drive/MyDrive/new_categorize/product/永谷園_あさげ.mp4\n",
            "@exists.\n",
            "@loading from physical.\n",
            "train finish\n",
            "-------------------------------------------\n",
            "\n",
            "searching  /content/drive/MyDrive/new_categorize/product/pal-system_カスタードプリン.mp4\n",
            "@exists.\n",
            "@loading from physical.\n",
            "train finish\n",
            "-------------------------------------------\n",
            "\n",
            "searching  /content/drive/MyDrive/new_categorize/product/Kao_Primavista_下地.mpg\n",
            "@exists.\n",
            "@loading from physical.\n",
            "train finish\n",
            "-------------------------------------------\n",
            "\n",
            "searching  /content/drive/MyDrive/new_categorize/product/いろはす_飲料_いろはすサイダー.mp4\n",
            "@exists.\n",
            "@loading from physical.\n",
            "train finish\n",
            "-------------------------------------------\n",
            "\n",
            "searching  /content/drive/MyDrive/new_categorize/product/雪印メグミルク_食品_ガセリ菌SPヨーグルト.mp4\n",
            "@exists.\n",
            "@loading from physical.\n",
            "train finish\n",
            "-------------------------------------------\n",
            "\n",
            "searching  /content/drive/MyDrive/new_categorize/product/Kose_化粧品_ファシオワンダーカールマスカラ.mp4\n",
            "@exists.\n",
            "@loading from physical.\n",
            "train finish\n",
            "-------------------------------------------\n",
            "\n",
            "searching  /content/drive/MyDrive/new_categorize/product/IEON_GLAMATICAL.mp4\n",
            "@exists.\n",
            "@loading from physical.\n",
            "train finish\n",
            "-------------------------------------------\n",
            "\n",
            "searching  /content/drive/MyDrive/new_categorize/product/DAIHATSU_車_NEW WAKE.mp4\n",
            "@exists.\n",
            "@loading from physical.\n",
            "train finish\n",
            "-------------------------------------------\n",
            "\n",
            "searching  /content/drive/MyDrive/new_categorize/product/Biore_洗顔料_おうちdeエステ 洗顔ジェル.mp4\n",
            "@exists.\n",
            "@loading from physical.\n",
            "train finish\n",
            "-------------------------------------------\n",
            "\n",
            "searching  /content/drive/MyDrive/new_categorize/product/Biore_洗顔料_おうちdeエステ コットンマスク.mp4\n",
            "@exists.\n",
            "@loading from physical.\n",
            "train finish\n",
            "-------------------------------------------\n",
            "\n",
            "searching  /content/drive/MyDrive/new_categorize/product/Reveur_洗髪料_Fraicheur.mp4\n",
            "@exists.\n",
            "@loading from physical.\n",
            "train finish\n",
            "-------------------------------------------\n",
            "\n",
            "searching  /content/drive/MyDrive/new_categorize/product/龍角散_菓子_のどすっきり飴.mp4\n",
            "@exists.\n",
            "@loading from physical.\n",
            "train finish\n",
            "-------------------------------------------\n",
            "\n",
            "searching  /content/drive/MyDrive/new_categorize/product/Kanebo_美容液_DEW.mp4\n",
            "@exists.\n",
            "@loading from physical.\n",
            "train finish\n",
            "-------------------------------------------\n",
            "\n",
            "searching  /content/drive/MyDrive/new_categorize/product/丸亀製麺_釜揚げうどん.mp4\n",
            "@exists.\n",
            "@loading from physical.\n",
            "train finish\n",
            "-------------------------------------------\n",
            "\n",
            "searching  /content/drive/MyDrive/new_categorize/product/SUZUKI_車_ソリオ.mp4\n",
            "@exists.\n",
            "@loading from physical.\n",
            "train finish\n",
            "-------------------------------------------\n",
            "\n",
            "/content/drive/MyDrive/new_categorize/service & label = 1\n",
            "=============================================\n",
            "[test part] starts\n",
            "--------------\n",
            "searching  /content/drive/MyDrive/new_categorize/service/いきなり！黄金伝説.mp4\n",
            "@exists.\n",
            "@loading from physical.\n",
            "test finish\n",
            "-------------------------------------------\n",
            "\n",
            "searching  /content/drive/MyDrive/new_categorize/service/刑事7人.mp4\n",
            "@exists.\n",
            "@loading from physical.\n",
            "test finish\n",
            "-------------------------------------------\n",
            "\n",
            "[train part] starts\n",
            "--------------\n",
            "searching  /content/drive/MyDrive/new_categorize/service/メットライフ生命_MetLife.mp4\n",
            "@exists.\n",
            "@loading from physical.\n",
            "train finish\n",
            "-------------------------------------------\n",
            "\n",
            "searching  /content/drive/MyDrive/new_categorize/service/新潟市水族館_観光_マリアピア.mp4\n",
            "@exists.\n",
            "@loading from physical.\n",
            "train finish\n",
            "-------------------------------------------\n",
            "\n",
            "searching  /content/drive/MyDrive/new_categorize/service/郡山ふれあい科学館_観光_スペースパーク.mp4\n",
            "@exists.\n",
            "@loading from physical.\n",
            "train finish\n",
            "-------------------------------------------\n",
            "\n",
            "searching  /content/drive/MyDrive/new_categorize/service/楽天_RMobile.mp4\n",
            "@exists.\n",
            "@loading from physical.\n",
            "train finish\n",
            "-------------------------------------------\n",
            "\n",
            "searching  /content/drive/MyDrive/new_categorize/service/厚生労働省_臨時福祉給付金.mp4\n",
            "@exists.\n",
            "@loading from physical.\n",
            "train finish\n",
            "-------------------------------------------\n",
            "\n",
            "searching  /content/drive/MyDrive/new_categorize/service/たまのや_こころネットグループ.mp4\n",
            "@exists.\n",
            "@loading from physical.\n",
            "train finish\n",
            "-------------------------------------------\n",
            "\n",
            "searching  /content/drive/MyDrive/new_categorize/service/会津日新館_観光_会津日新館.mp4\n",
            "@exists.\n",
            "@loading from physical.\n",
            "train finish\n",
            "-------------------------------------------\n",
            "\n",
            "searching  /content/drive/MyDrive/new_categorize/service/大東建託_賃貸経営受託システム.mp4\n",
            "@exists.\n",
            "@loading from physical.\n",
            "train finish\n",
            "-------------------------------------------\n",
            "\n",
            "searching  /content/drive/MyDrive/new_categorize/service/楽天_クレジットカード_楽天カード.mp4\n",
            "@exists.\n",
            "@loading from physical.\n",
            "train finish\n",
            "-------------------------------------------\n",
            "\n",
            "searching  /content/drive/MyDrive/new_categorize/service/亀岡工務店_KDS.mp4\n",
            "@exists.\n",
            "@loading from physical.\n",
            "train finish\n",
            "-------------------------------------------\n",
            "\n",
            "searching  /content/drive/MyDrive/new_categorize/service/健康コーポレーション_美容_ライザップ.mp4\n",
            "@exists.\n",
            "@loading from physical.\n",
            "train finish\n",
            "-------------------------------------------\n",
            "\n",
            "searching  /content/drive/MyDrive/new_categorize/service/楽天_アプリ_ラクマ.mp4\n",
            "@exists.\n",
            "@loading from physical.\n",
            "train finish\n",
            "-------------------------------------------\n",
            "\n",
            "searching  /content/drive/MyDrive/new_categorize/service/イーライリリー_医療_いつの間にか骨折.mp4\n",
            "@exists.\n",
            "@loading from physical.\n",
            "train finish\n",
            "-------------------------------------------\n",
            "\n",
            "searching  /content/drive/MyDrive/new_categorize/service/HONDA_車_Honda Cars 福島.mp4\n",
            "@exists.\n",
            "@loading from physical.\n",
            "train finish\n",
            "-------------------------------------------\n",
            "\n",
            "/content/drive/MyDrive/new_categorize/serviceORproduct & label = 2\n",
            "=============================================\n",
            "[test part] starts\n",
            "--------------\n",
            "searching  /content/drive/MyDrive/new_categorize/serviceORproduct/XFLAG_ゲーム_モンスターストライク超獣神祭.mp4\n",
            "@exists.\n",
            "@loading from physical.\n",
            "test finish\n",
            "-------------------------------------------\n",
            "\n",
            "searching  /content/drive/MyDrive/new_categorize/serviceORproduct/東映アニメーション_映画_ポッピンQ.mp4\n",
            "@exists.\n",
            "@loading from physical.\n",
            "test finish\n",
            "-------------------------------------------\n",
            "\n",
            "[train part] starts\n",
            "--------------\n",
            "searching  /content/drive/MyDrive/new_categorize/serviceORproduct/コロプラ_白猫プロジェクト.mp4\n",
            "@exists.\n",
            "@loading from physical.\n",
            "train finish\n",
            "-------------------------------------------\n",
            "\n",
            "searching  /content/drive/MyDrive/new_categorize/serviceORproduct/コロプラ_白猫テニス.mp4\n",
            "@exists.\n",
            "@loading from physical.\n",
            "train finish\n",
            "-------------------------------------------\n",
            "\n",
            "searching  /content/drive/MyDrive/new_categorize/serviceORproduct/Yamazaki_Daily_YAMAZAKI.mp4\n",
            "@exists.\n",
            "@loading from physical.\n",
            "train finish\n",
            "-------------------------------------------\n",
            "\n",
            "searching  /content/drive/MyDrive/new_categorize/serviceORproduct/東宝_青空エール.mp4\n",
            "@exists.\n",
            "@loading from physical.\n",
            "train finish\n",
            "-------------------------------------------\n",
            "\n",
            "searching  /content/drive/MyDrive/new_categorize/serviceORproduct/かっぱ寿司_食品_うまいもの祭り 夏かっぱ.mp4\n",
            "@exists.\n",
            "@loading from physical.\n",
            "train finish\n",
            "-------------------------------------------\n",
            "\n",
            "searching  /content/drive/MyDrive/new_categorize/serviceORproduct/かっぱ寿司_食品_超うまいもの祭.mp4\n",
            "@exists.\n",
            "@loading from physical.\n",
            "train finish\n",
            "-------------------------------------------\n",
            "\n",
            "searching  /content/drive/MyDrive/new_categorize/serviceORproduct/ENEOS_車_ガソリンスタンド_30秒.mp4\n",
            "@exists.\n",
            "@loading from physical.\n",
            "train finish\n",
            "-------------------------------------------\n",
            "\n",
            "searching  /content/drive/MyDrive/new_categorize/serviceORproduct/cosmo_車_コスモスマートビークル_30秒.mp4\n",
            "@exists.\n",
            "@loading from physical.\n",
            "train finish\n",
            "-------------------------------------------\n",
            "\n",
            "/content/drive/MyDrive/new_categorize/unjudgeable & label = 3\n",
            "=============================================\n",
            "[test part] starts\n",
            "--------------\n",
            "searching  /content/drive/MyDrive/new_categorize/unjudgeable/au_MOON Challange.mp4\n",
            "@exists.\n",
            "@loading from physical.\n",
            "test finish\n",
            "-------------------------------------------\n",
            "\n",
            "searching  /content/drive/MyDrive/new_categorize/unjudgeable/東北電力_東北電力.mp4\n",
            "@exists.\n",
            "@loading from physical.\n",
            "test finish\n",
            "-------------------------------------------\n",
            "\n",
            "[train part] starts\n",
            "--------------\n",
            "searching  /content/drive/MyDrive/new_categorize/unjudgeable/niraku_パチスロ_niraku.mp4\n",
            "@exists.\n",
            "@loading from physical.\n",
            "train finish\n",
            "-------------------------------------------\n",
            "\n",
            "searching  /content/drive/MyDrive/new_categorize/unjudgeable/au_ケータイ_au star.mp4\n",
            "@exists.\n",
            "@loading from physical.\n",
            "train finish\n",
            "-------------------------------------------\n",
            "\n",
            "CPU times: user 14min 16s, sys: 8.21 s, total: 14min 24s\n",
            "Wall time: 18min 1s\n"
          ],
          "name": "stdout"
        }
      ]
    },
    {
      "cell_type": "markdown",
      "metadata": {
        "id": "VRKFf46D7Rku"
      },
      "source": [
        "Wall time: 32min 8s\n",
        "Wall time: 18min 1s"
      ]
    },
    {
      "cell_type": "markdown",
      "metadata": {
        "id": "htxiuCqapm4E"
      },
      "source": [
        "チェック"
      ]
    },
    {
      "cell_type": "code",
      "metadata": {
        "colab": {
          "base_uri": "https://localhost:8080/"
        },
        "id": "qrIr8jL_mVZt",
        "outputId": "81ce5697-5d99-436f-a883-08fa6a02281d"
      },
      "source": [
        "print(len(videoContener_test))\n",
        "print(len(labelContener_test))\n",
        "\n",
        "print(len(videoContener_train))\n",
        "print(len(labelContener_train))"
      ],
      "execution_count": 30,
      "outputs": [
        {
          "output_type": "stream",
          "text": [
            "8\n",
            "8\n",
            "104\n",
            "104\n"
          ],
          "name": "stdout"
        }
      ]
    },
    {
      "cell_type": "code",
      "metadata": {
        "colab": {
          "base_uri": "https://localhost:8080/"
        },
        "id": "NWKj-scwE5na",
        "outputId": "b6b1944f-d4c9-497c-eede-3cb322e48381"
      },
      "source": [
        "videoContener_test[0].shape"
      ],
      "execution_count": 31,
      "outputs": [
        {
          "output_type": "execute_result",
          "data": {
            "text/plain": [
              "(324000,)"
            ]
          },
          "metadata": {
            "tags": []
          },
          "execution_count": 31
        }
      ]
    },
    {
      "cell_type": "markdown",
      "metadata": {
        "id": "fhxPGNxEmPAz"
      },
      "source": [
        "# パッキング"
      ]
    },
    {
      "cell_type": "code",
      "metadata": {
        "id": "a7ylplepmzuC"
      },
      "source": [
        "def save_data(npdata, saveName):\n",
        "  np.savez(os.path.join(desk, saveName), *npdata)\n"
      ],
      "execution_count": 32,
      "outputs": []
    },
    {
      "cell_type": "code",
      "metadata": {
        "id": "iE32psHu2dtg"
      },
      "source": [
        "save_data(np.array(videoContener_test), \"normalTestVideos\")\n",
        "save_data(np.array(labelContener_test), \"normalTestLabels\")\n",
        "\n",
        "save_data(np.array(videoContener_train), \"normalTrainVideos\")\n",
        "save_data(np.array(labelContener_train), \"normalTrainLabels\")"
      ],
      "execution_count": 33,
      "outputs": []
    },
    {
      "cell_type": "markdown",
      "metadata": {
        "id": "C_n2tzxvwaRv"
      },
      "source": [
        "#ストレージに保存"
      ]
    },
    {
      "cell_type": "code",
      "metadata": {
        "id": "sAoefX3TAByG"
      },
      "source": [
        "import shutil\n",
        "\n",
        "shelf = '/content/drive/MyDrive/colab'\n",
        "book = 'data0110'\n",
        "shelf_book = os.path.join(shelf, book)\n",
        "if not os.path.exists(shelf_book):\n",
        "  os.mkdir(shelf_book)\n",
        "\n"
      ],
      "execution_count": 34,
      "outputs": []
    },
    {
      "cell_type": "code",
      "metadata": {
        "id": "GAYkelS6AWO0"
      },
      "source": [
        "wants_paths = [\n",
        "\"/content/desk/normalTrainLabels.npz\",\n",
        "\"/content/desk/normalTrainVideos.npz\",\n",
        "\"/content/desk/normalTestLabels.npz\",\n",
        "\"/content/desk/normalTestVideos.npz\",\n",
        "\"/content/desk/img.png\"\n",
        "]\n",
        "\n",
        "for want in wants_paths:\n",
        "  shutil.copy2(\n",
        "      want,\n",
        "      shelf_book\n",
        "  )"
      ],
      "execution_count": 35,
      "outputs": []
    }
  ]
}