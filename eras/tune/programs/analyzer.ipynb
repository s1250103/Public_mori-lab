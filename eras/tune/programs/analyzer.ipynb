{
  "nbformat": 4,
  "nbformat_minor": 0,
  "metadata": {
    "colab": {
      "name": "analyzer.ipynb",
      "provenance": [],
      "authorship_tag": "ABX9TyMmPVn+QAxaaeJRkYx652/B",
      "include_colab_link": true
    },
    "kernelspec": {
      "name": "python3",
      "display_name": "Python 3"
    }
  },
  "cells": [
    {
      "cell_type": "markdown",
      "metadata": {
        "id": "view-in-github",
        "colab_type": "text"
      },
      "source": [
        "<a href=\"https://colab.research.google.com/github/s1250103/Public_mori-lab/blob/eras/eras/tune/programs/analyzer.ipynb\" target=\"_parent\"><img src=\"https://colab.research.google.com/assets/colab-badge.svg\" alt=\"Open In Colab\"/></a>"
      ]
    },
    {
      "cell_type": "code",
      "metadata": {
        "id": "c9RgQMO0n90W",
        "colab": {
          "base_uri": "https://localhost:8080/"
        },
        "outputId": "e2f41648-9007-4611-e78b-8b72fd38663c"
      },
      "source": [
        "#@title 前処理\n",
        "# import\n",
        "# file dealing\n",
        "import os\n",
        "from os import path\n",
        "import shutil\n",
        "from google.colab import drive\n",
        "import datetime\n",
        "# data dealing\n",
        "import numpy as np\n",
        "import pandas as pd\n",
        "from pandas import DataFrame\n",
        "import matplotlib.pyplot as plt\n",
        "# process deasing\n",
        "import gc\n",
        "from time import sleep\n",
        "# machine learning (back)\n",
        "import tensorflow as tf\n",
        "from tensorflow.keras.utils import plot_model\n",
        "from tensorflow.keras import layers, models, initializers, callbacks\n",
        "# machine learning\n",
        "import keras\n",
        "from keras.datasets import mnist\n",
        "from keras.models import Sequential\n",
        "from keras.layers import Dense, Activation, Dropout\n",
        "from keras.utils.np_utils import to_categorical\n",
        "# others\n",
        "import json\n",
        "from collections import OrderedDict\n",
        "import pprint\n",
        "\n",
        "\n",
        "# gdrive 接続\n",
        "if not path.exists('/content/drive'):\n",
        "  drive.mount('/content/drive')\n",
        "else:\n",
        "  print(\"Already confirm to build gdrive\")\n",
        "\n",
        "# colab テンポラリディレクトリの作成\n",
        "desk = '/content/desk'\n",
        "if not os.path.exists(desk):\n",
        "  os.mkdir(desk)\n",
        "os.chdir(desk)\n",
        "print(\"Created at /content/desk\")\n"
      ],
      "execution_count": 48,
      "outputs": [
        {
          "output_type": "stream",
          "text": [
            "Already confirm\n",
            "Created at /content/desk\n"
          ],
          "name": "stdout"
        }
      ]
    },
    {
      "cell_type": "markdown",
      "metadata": {
        "id": "bBa2QGgHVOn4"
      },
      "source": [
        "#データをインポート"
      ]
    },
    {
      "cell_type": "code",
      "metadata": {
        "colab": {
          "base_uri": "https://localhost:8080/"
        },
        "id": "piBMR-OfpoXU",
        "outputId": "ee44d4f0-8aff-419f-94ad-36ad6016053f"
      },
      "source": [
        "pathHistories = \"/content/drive/MyDrive/colab/histories\"\n",
        "os.chdir(pathHistories)\n",
        "\n",
        "history_directories = os.listdir(pathHistories)\n",
        "history_directories.remove('.ipynb_checkpoints')\n",
        "history_directories.reverse()\n",
        "\n",
        "for each in history_directories:\n",
        "  print(each)"
      ],
      "execution_count": 54,
      "outputs": [
        {
          "output_type": "stream",
          "text": [
            "0112-1834\n",
            "0112-1631\n",
            "0112-1552\n"
          ],
          "name": "stdout"
        }
      ]
    },
    {
      "cell_type": "code",
      "metadata": {
        "colab": {
          "base_uri": "https://localhost:8080/"
        },
        "id": "cTKIrNo2qQTr",
        "outputId": "bf3e7611-dd00-4eb0-95de-89d6e6580ff8"
      },
      "source": [
        "import re\n",
        "\n",
        "pickups = [0, 1] # pichup the acsending order \n",
        "\n",
        "examines = []\n",
        "\n",
        "csv_pattern = re.compile(\".*\\.csv\")\n",
        "json_pattern = re.compile(\".*\\.json\")\n",
        "for pick_one in pickups:\n",
        "  print(\"the directory : \", history_directories[pick_one])\n",
        "  inFiles = os.listdir(history_directories[pick_one])\n",
        "  print(\"in:\", inFiles)\n",
        "\n",
        "  # desk に持ってくる機能\n",
        "  # dst = os.path.join(desk, history_directories[pick_one])\n",
        "  # shutil.copytree(history_directories[pick_one], dst, ignore=None, copy_function=shutil.copy2)\n",
        "  csvs = []\n",
        "  for file in inFiles:\n",
        "    # when csv files    \n",
        "    if csv_pattern.match(file):\n",
        "      # それを変数として取り込む\n",
        "      file_path = os.path.join(pathHistories, history_directories[pick_one])\n",
        "      file_path = os.path.join(file_path, file)\n",
        "      df = pd.read_csv(file_path, engine='python') \n",
        "      csvs.append(df)\n",
        "  #/for file\n",
        "  examines.append(csvs)\n",
        "  print(\"-----------------------------------------------------------------------------------------------------\")\n",
        "#/for"
      ],
      "execution_count": 125,
      "outputs": [
        {
          "output_type": "stream",
          "text": [
            "the directory :  0112-1834\n",
            "in: ['0112-1834cce.csv', '0112-1834mse.csv', 'situation.json']\n",
            "-----------------------------------------------------------------------------------------------------\n",
            "the directory :  0112-1631\n",
            "in: ['0112-1631mse.csv', '0112-1631cce.csv']\n",
            "-----------------------------------------------------------------------------------------------------\n"
          ],
          "name": "stdout"
        }
      ]
    }
  ]
}