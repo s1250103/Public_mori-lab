{
  "nbformat": 4,
  "nbformat_minor": 0,
  "metadata": {
    "colab": {
      "name": "analyzer.ipynb",
      "provenance": [],
      "authorship_tag": "ABX9TyNUfjaNwiP2gHGHVeyKtlJp",
      "include_colab_link": true
    },
    "kernelspec": {
      "name": "python3",
      "display_name": "Python 3"
    }
  },
  "cells": [
    {
      "cell_type": "markdown",
      "metadata": {
        "id": "view-in-github",
        "colab_type": "text"
      },
      "source": [
        "<a href=\"https://colab.research.google.com/github/s1250103/Public_mori-lab/blob/eras/eras/tune/programs/analyzer.ipynb\" target=\"_parent\"><img src=\"https://colab.research.google.com/assets/colab-badge.svg\" alt=\"Open In Colab\"/></a>"
      ]
    },
    {
      "cell_type": "code",
      "metadata": {
        "id": "c9RgQMO0n90W",
        "colab": {
          "base_uri": "https://localhost:8080/"
        },
        "outputId": "c39a8faa-df3a-4f64-f579-c2089ab97136"
      },
      "source": [
        "#@title 前処理\n",
        "# import\n",
        "# file dealing\n",
        "import os\n",
        "from os import path\n",
        "import shutil\n",
        "from google.colab import drive\n",
        "import datetime\n",
        "# data dealing\n",
        "import numpy as np\n",
        "import pandas as pd\n",
        "from pandas import DataFrame\n",
        "import matplotlib.pyplot as plt\n",
        "# process deasing\n",
        "import gc\n",
        "from time import sleep\n",
        "# machine learning (back)\n",
        "import tensorflow as tf\n",
        "from tensorflow.keras.utils import plot_model\n",
        "from tensorflow.keras import layers, models, initializers, callbacks\n",
        "# machine learning\n",
        "import keras\n",
        "from keras.datasets import mnist\n",
        "from keras.models import Sequential\n",
        "from keras.layers import Dense, Activation, Dropout\n",
        "from keras.utils.np_utils import to_categorical\n",
        "# others\n",
        "import json\n",
        "from collections import OrderedDict\n",
        "import pprint\n",
        "\n",
        "\n",
        "# gdrive 接続\n",
        "if not path.exists('/content/drive'):\n",
        "  drive.mount('/content/drive')\n",
        "else:\n",
        "  print(\"Already confirm to build gdrive\")\n",
        "\n",
        "# colab テンポラリディレクトリの作成\n",
        "desk = '/content/desk'\n",
        "if not os.path.exists(desk):\n",
        "  os.mkdir(desk)\n",
        "os.chdir(desk)\n",
        "print(\"Created at /content/desk\")\n"
      ],
      "execution_count": 1,
      "outputs": [
        {
          "output_type": "stream",
          "text": [
            "Already confirm to build gdrive\n",
            "Created at /content/desk\n"
          ],
          "name": "stdout"
        }
      ]
    },
    {
      "cell_type": "markdown",
      "metadata": {
        "id": "bBa2QGgHVOn4"
      },
      "source": [
        "#データをインポート"
      ]
    },
    {
      "cell_type": "code",
      "metadata": {
        "colab": {
          "base_uri": "https://localhost:8080/"
        },
        "id": "piBMR-OfpoXU",
        "outputId": "4e654842-af4a-4148-a82e-ba60d87f9d70"
      },
      "source": [
        "pathHistories = \"/content/drive/MyDrive/colab/histories\"\n",
        "os.chdir(pathHistories)\n",
        "\n",
        "history_directories = os.listdir(pathHistories)\n",
        "history_directories.remove('.ipynb_checkpoints')\n",
        "history_directories.reverse()\n",
        "\n",
        "for each in history_directories:\n",
        "  print(each)"
      ],
      "execution_count": 67,
      "outputs": [
        {
          "output_type": "stream",
          "text": [
            "0113-1408\n",
            "0112-1834\n",
            "0112-1631\n",
            "0112-1552\n"
          ],
          "name": "stdout"
        }
      ]
    },
    {
      "cell_type": "code",
      "metadata": {
        "colab": {
          "base_uri": "https://localhost:8080/"
        },
        "id": "cTKIrNo2qQTr",
        "outputId": "9e4753ed-05fe-4476-dcb4-1fe33ea777c4"
      },
      "source": [
        "import re\n",
        "\n",
        "pickups = [0] # pichup the acsending order \n",
        "\n",
        "examines = []\n",
        "\n",
        "csv_pattern = re.compile(\".*\\.csv\")\n",
        "json_pattern = re.compile(\".*\\.json\")\n",
        "cce_pattern = re.compile(\".*cce.*\")\n",
        "mse_pattern = re.compile(\".*mse.*\")\n",
        "\n",
        "for pick_one in pickups:\n",
        "  print(\"the directory : \", history_directories[pick_one])\n",
        "  inFiles = os.listdir(history_directories[pick_one])\n",
        "  print(\"in:\", inFiles)\n",
        "\n",
        "  # desk に持ってくる機能\n",
        "  # dst = os.path.join(desk, history_directories[pick_one])\n",
        "  # shutil.copytree(history_directories[pick_one], dst, ignore=None, copy_function=shutil.copy2)\n",
        "  csvs = []\n",
        "  for file in inFiles:\n",
        "    # when csv files    \n",
        "    if csv_pattern.match(file):\n",
        "      # それを変数として取り込む\n",
        "      file_path = os.path.join(pathHistories, history_directories[pick_one])\n",
        "      file_path = os.path.join(file_path, file)\n",
        "\n",
        "      if cce_pattern.match(file):\n",
        "        page = {\n",
        "            \"loss\" : \"cce\",\n",
        "            \"data\" : pd.read_csv(file_path, engine='python') \n",
        "        }\n",
        "      elif mse_pattern.match(file):\n",
        "        page = {\n",
        "            \"loss\" : \"mse\",\n",
        "            \"data\" : pd.read_csv(file_path, engine='python')\n",
        "        }\n",
        "\n",
        "      csvs.append(page)\n",
        "  #/for file\n",
        "  examines.append(csvs)\n",
        "  print(\"-----------------------------------------------------------------------------------------------------\")\n",
        "#/for"
      ],
      "execution_count": 68,
      "outputs": [
        {
          "output_type": "stream",
          "text": [
            "the directory :  0113-1408\n",
            "in: ['0113-1408cce.csv', 'situation.json', '0113-1408mse.csv']\n",
            "-----------------------------------------------------------------------------------------------------\n"
          ],
          "name": "stdout"
        }
      ]
    },
    {
      "cell_type": "code",
      "metadata": {
        "id": "dNL_QqNvHCl7"
      },
      "source": [
        "def plot_one_learning(one_learning):\n",
        "  HEIGHT = 2\n",
        "  WIDTH = 2\n",
        "  fig = plt.figure()\n",
        "  LOSS = fig.add_subplot(HEIGHT, WIDTH, 1)\n",
        "  ACC = fig.add_subplot(HEIGHT, WIDTH, 2)\n",
        "  plt.subplots_adjust(left=None, bottom=None, right=1.5, top=1.5, wspace=0.5, hspace=0.5)\n",
        "\n",
        "  # 1,1 loss\n",
        "  loss = one_learning[\"loss\"]\n",
        "  val_loss = one_learning[\"val_loss\"]\n",
        "\n",
        "  loss_props = {\n",
        "        'title' : 'Loss values plot',\n",
        "        'xlabel' : 'epoch',\n",
        "        'ylabel' : 'value'\n",
        "    }\n",
        "  LOSS.set(**loss_props)\n",
        "  LOSS.plot(loss, label='loss', color='blue')\n",
        "  LOSS.plot(val_loss, label='val_loss', color='orange')\n",
        "  LOSS.legend(loc='best')\n",
        "\n",
        "  # 1,2 acc\n",
        "  acc = one_learning['acc']\n",
        "  val_acc = one_learning['val_acc']\n",
        "  acc_props = {\n",
        "        'title' : 'Accuracy values plot',\n",
        "        'xlabel' : 'epoch',\n",
        "        'ylabel' : 'value'\n",
        "    }\n",
        "  ACC.set(**acc_props)\n",
        "  ACC.plot(acc, label='acc', color='blue')\n",
        "  ACC.plot(val_acc, label='val_acc', color='orange')\n",
        "  ACC.legend(loc='best')\n"
      ],
      "execution_count": 57,
      "outputs": []
    },
    {
      "cell_type": "code",
      "metadata": {
        "colab": {
          "base_uri": "https://localhost:8080/",
          "height": 489
        },
        "id": "BXizlcQ2OEDA",
        "outputId": "c45f724b-5662-42fe-dd9d-13ea8a1e128f"
      },
      "source": [
        "for n, one in enumerate(examines[0]):\n",
        "  print(one[\"loss\"])\n",
        "  plot_one_learning(one[\"data\"])"
      ],
      "execution_count": 69,
      "outputs": [
        {
          "output_type": "stream",
          "text": [
            "cce\n",
            "mse\n"
          ],
          "name": "stdout"
        },
        {
          "output_type": "display_data",
          "data": {
            "image/png": "[encoded data removed]",
            "text/plain": [
              "<Figure size 432x288 with 2 Axes>"
            ]
          },
          "metadata": {
            "tags": [],
            "needs_background": "light"
          }
        },
        {
          "output_type": "display_data",
          "data": {
            "image/png": "[encoded data removed]",
            "text/plain": [
              "<Figure size 432x288 with 2 Axes>"
            ]
          },
          "metadata": {
            "tags": [],
            "needs_background": "light"
          }
        }
      ]
    }
  ]
}