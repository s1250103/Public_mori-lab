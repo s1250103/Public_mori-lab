{
  "nbformat": 4,
  "nbformat_minor": 0,
  "metadata": {
    "colab": {
      "name": "prototypeModelMaker.ipynb",
      "provenance": [],
      "collapsed_sections": [],
      "toc_visible": true,
      "authorship_tag": "ABX9TyO1poYbypiUHPBQO252R3wo",
      "include_colab_link": true
    },
    "kernelspec": {
      "name": "python3",
      "display_name": "Python 3"
    }
  },
  "cells": [
    {
      "cell_type": "markdown",
      "metadata": {
        "id": "view-in-github",
        "colab_type": "text"
      },
      "source": [
        "<a href=\"https://colab.research.google.com/github/s1250103/Public_mori-lab/blob/eras/eras/tune/programs/prototypeModelMaker.ipynb\" target=\"_parent\"><img src=\"https://colab.research.google.com/assets/colab-badge.svg\" alt=\"Open In Colab\"/></a>"
      ]
    },
    {
      "cell_type": "markdown",
      "metadata": {
        "id": "DXcuUf2eOKUz"
      },
      "source": [
        "2021/01/08：\n",
        "全結合層のみのモデル"
      ]
    },
    {
      "cell_type": "markdown",
      "metadata": {
        "id": "eJv5QoBNNxn9"
      },
      "source": [
        "#共通設定"
      ]
    },
    {
      "cell_type": "code",
      "metadata": {
        "id": "7pVngb_1YBOx"
      },
      "source": [
        "%tensorflow_version 2.x"
      ],
      "execution_count": 2,
      "outputs": []
    },
    {
      "cell_type": "markdown",
      "metadata": {
        "id": "m734DdXEN6sl"
      },
      "source": [
        "##import"
      ]
    },
    {
      "cell_type": "code",
      "metadata": {
        "id": "mrdj6-BQIjeU"
      },
      "source": [
        "# file dealing\n",
        "import os\n",
        "import shutil\n",
        "from google.colab import drive\n",
        "# data dealing\n",
        "import numpy as np\n",
        "from pandas import DataFrame\n",
        "import matplotlib.pyplot as plt\n",
        "# process deasing\n",
        "import gc\n",
        "from time import sleep\n",
        "\n",
        "# machine learning (back)\n",
        "import tensorflow as tf\n",
        "from tensorflow.keras.utils import plot_model\n",
        "from tensorflow.keras import layers, models, initializers, callbacks\n",
        "from tensorflow.keras.layers import SimpleRNN\n",
        "\n",
        "# machine learning\n",
        "import keras\n",
        "from keras.datasets import mnist\n",
        "from keras.models import Sequential\n",
        "from keras.layers import Dense, Activation, Dropout\n",
        "from keras.utils.np_utils import to_categorical\n",
        "\n",
        "\n",
        "seed = 20201218\n",
        "np.random.seed(seed)\n",
        "tf.random.set_seed(seed)"
      ],
      "execution_count": 12,
      "outputs": []
    },
    {
      "cell_type": "markdown",
      "metadata": {
        "id": "9E6JU2cCN13h"
      },
      "source": [
        "##スクラッチ"
      ]
    },
    {
      "cell_type": "code",
      "metadata": {
        "id": "MtIB0N8MMNol",
        "colab": {
          "base_uri": "https://localhost:8080/",
          "height": 221
        },
        "outputId": "f6ecf329-d528-4a7c-ec2f-6a0d13c113c0"
      },
      "source": [
        "#@title デフォルトのタイトル テキスト\n",
        "del model\n",
        "keras.backend.clear_session()\n",
        "gc.collect()"
      ],
      "execution_count": 16,
      "outputs": [
        {
          "output_type": "error",
          "ename": "NameError",
          "evalue": "ignored",
          "traceback": [
            "\u001b[0;31m---------------------------------------------------------------------------\u001b[0m",
            "\u001b[0;31mNameError\u001b[0m                                 Traceback (most recent call last)",
            "\u001b[0;32m<ipython-input-16-0f4b981c73e7>\u001b[0m in \u001b[0;36m<module>\u001b[0;34m()\u001b[0m\n\u001b[1;32m      1\u001b[0m \u001b[0;31m#@title デフォルトのタイトル テキスト\u001b[0m\u001b[0;34m\u001b[0m\u001b[0;34m\u001b[0m\u001b[0;34m\u001b[0m\u001b[0m\n\u001b[0;32m----> 2\u001b[0;31m \u001b[0;32mdel\u001b[0m \u001b[0mmodel\u001b[0m\u001b[0;34m\u001b[0m\u001b[0;34m\u001b[0m\u001b[0m\n\u001b[0m\u001b[1;32m      3\u001b[0m \u001b[0mkeras\u001b[0m\u001b[0;34m.\u001b[0m\u001b[0mbackend\u001b[0m\u001b[0;34m.\u001b[0m\u001b[0mclear_session\u001b[0m\u001b[0;34m(\u001b[0m\u001b[0;34m)\u001b[0m\u001b[0;34m\u001b[0m\u001b[0;34m\u001b[0m\u001b[0m\n\u001b[1;32m      4\u001b[0m \u001b[0mgc\u001b[0m\u001b[0;34m.\u001b[0m\u001b[0mcollect\u001b[0m\u001b[0;34m(\u001b[0m\u001b[0;34m)\u001b[0m\u001b[0;34m\u001b[0m\u001b[0;34m\u001b[0m\u001b[0m\n",
            "\u001b[0;31mNameError\u001b[0m: name 'model' is not defined"
          ]
        }
      ]
    },
    {
      "cell_type": "markdown",
      "metadata": {
        "id": "rfAtQHN6N--8"
      },
      "source": [
        "## データフォーマットを規定"
      ]
    },
    {
      "cell_type": "code",
      "metadata": {
        "id": "X4xSyyRpKq3W"
      },
      "source": [
        "class video_format:\n",
        "  name = \"video_format\"\n",
        "  # サンプリングされたCMデータの仕様\n",
        "  playtime = \"15秒\"\n",
        "  displaysize = \"(any, any, RGB)\"\n",
        "  videoformat = \"any\"\n",
        "  # モデルが扱うCMデータ(上のようなデータは、下のように変換される)\n",
        "  HEIGHT = 45\n",
        "  WIDTH = 80\n",
        "  FRAME_SIZE = 30\n",
        "  COLORinfo = 3 # \"RGB\"\n",
        "  FPS = \"2 (FRAME_SIZE / playtime)\" # 定義ではなく上から導かれた値\n",
        "\n",
        "format1 = video_format()"
      ],
      "execution_count": 4,
      "outputs": []
    },
    {
      "cell_type": "markdown",
      "metadata": {
        "id": "gIE4GGRwOB3H"
      },
      "source": [
        "#モデル作成"
      ]
    },
    {
      "cell_type": "code",
      "metadata": {
        "id": "XrqKqzvC2Otp"
      },
      "source": [
        "# モデル作成\n",
        "model = models.Sequential()\n",
        "# 入力層\n",
        "model.add(\n",
        "     layers.Reshape(\n",
        "        (format1.FRAME_SIZE,\n",
        "         format1.HEIGHT,\n",
        "         format1.WIDTH,\n",
        "         format1.COLORinfo),\n",
        "        input_shape=(format1.FRAME_SIZE * format1.HEIGHT * format1.WIDTH * format1.COLORinfo,),\n",
        "        name='ENTRANCE' )\n",
        ")\n",
        "# 中間層\n",
        "## dropout_0\n",
        "# model.add(layers.Dropout(0.2))\n",
        "\n",
        "## 畳み込み0\n",
        "model.add(\n",
        "    layers.Conv3D(\n",
        "        filters=32,\n",
        "        kernel_size=(2, 3, 3),\n",
        "        strides=(1, 1, 1),\n",
        "        padding='same',\n",
        "        activation='relu',\n",
        "        name='conv0'))\n",
        "## pool0\n",
        "model.add(\n",
        "    layers.MaxPooling3D(pool_size=(2, 3, 3), name='pool0'))\n",
        "\n",
        "## 畳み込み1\n",
        "model.add(\n",
        "    layers.Conv3D(\n",
        "        filters=64,\n",
        "        kernel_size=(2, 3, 3),\n",
        "        strides=(1, 1, 1),\n",
        "        padding='same',\n",
        "        activation='relu',\n",
        "        name='conv1'))\n",
        "## pool1\n",
        "model.add(\n",
        "    layers.MaxPooling3D(pool_size=(2, 3, 3), name='pool1'))\n",
        "\n",
        "# ## 畳み込み2\n",
        "# model.add(\n",
        "#     layers.Conv3D(\n",
        "#         filters=128,\n",
        "#         kernel_size=(2, 3, 3),\n",
        "#         strides=(1, 1, 1),\n",
        "#         padding='same',\n",
        "#         activation='relu',\n",
        "#         name='conv2'))\n",
        "# ## pool2\n",
        "# model.add(\n",
        "#     layers.MaxPooling3D(pool_size=(2, 3, 3), name='pool2'))\n",
        "\n",
        "## dropout_1\n",
        "# model.add(layers.Dropout(0.2))\n",
        "\n",
        "## 全結合0\n",
        "model.add(\n",
        "    layers.Flatten(name='flatten'),\n",
        ")\n",
        "model.add(\n",
        "    layers.Dense(1024,\n",
        "      activation='relu',\n",
        "      name='dence0' ),\n",
        ")\n",
        "# 出力層\n",
        "model.add(\n",
        "    layers.Dense(4, activation='softmax', name='WATERSUPPLY')\n",
        ")\n",
        "\n",
        "# 最適化\n",
        "adam = keras.optimizers.Adam(\n",
        "    lr=1e-7, beta_1=0.9, beta_2=0.999,\n",
        "    epsilon=None, decay=0.0, amsgrad=False)\n",
        "# 誤差関数\n",
        "mse = tf.keras.losses.MeanSquaredError()\n",
        "cce = tf.keras.losses.CategoricalCrossentropy()\n",
        "\n",
        "model.compile(\n",
        "    optimizer=adam,\n",
        "    loss=cce,\n",
        "    metrics=['acc', cce])"
      ],
      "execution_count": 46,
      "outputs": []
    },
    {
      "cell_type": "code",
      "metadata": {
        "id": "oQYYHqjqUUQO"
      },
      "source": [
        "plot_model(model, \n",
        "           show_shapes=True,\n",
        "           show_layer_names=False,\n",
        "           to_file='model.png')"
      ],
      "execution_count": null,
      "outputs": []
    },
    {
      "cell_type": "code",
      "metadata": {
        "id": "4HxgwrI_a9gH",
        "outputId": "b78d3a7d-b13c-485b-c4b5-2964acba8eab",
        "colab": {
          "base_uri": "https://localhost:8080/"
        }
      },
      "source": [
        "print(type(model))\n"
      ],
      "execution_count": 75,
      "outputs": [
        {
          "output_type": "stream",
          "text": [
            "<class 'tensorflow.python.keras.engine.sequential.Sequential'>\n"
          ],
          "name": "stdout"
        }
      ]
    },
    {
      "cell_type": "markdown",
      "metadata": {
        "id": "9ChZfZplz25_"
      },
      "source": [
        "# 表示"
      ]
    },
    {
      "cell_type": "code",
      "metadata": {
        "id": "vRBTB6uWMXQR"
      },
      "source": [
        "model.summary()\n",
        "plot_model(model ,show_shapes=True,)"
      ],
      "execution_count": null,
      "outputs": []
    },
    {
      "cell_type": "code",
      "metadata": {
        "id": "67axRqGmz0AU",
        "outputId": "ef4b298a-adbb-4652-c3c5-f61a34e2d44a",
        "colab": {
          "base_uri": "https://localhost:8080/"
        }
      },
      "source": [
        "sleep(10)\n",
        "del model\n",
        "keras.backend.clear_session()\n",
        "gc.collect()"
      ],
      "execution_count": 45,
      "outputs": [
        {
          "output_type": "execute_result",
          "data": {
            "text/plain": [
              "4374"
            ]
          },
          "metadata": {
            "tags": []
          },
          "execution_count": 45
        }
      ]
    }
  ]
}