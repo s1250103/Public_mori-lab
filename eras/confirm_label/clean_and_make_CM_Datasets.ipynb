{
  "nbformat": 4,
  "nbformat_minor": 0,
  "metadata": {
    "colab": {
      "name": "clean_and_make_CM_Datasets.ipynb",
      "provenance": [],
      "toc_visible": true,
      "authorship_tag": "ABX9TyMv//LlCuqyWflDvdlL/U6v",
      "include_colab_link": true
    },
    "kernelspec": {
      "name": "python3",
      "display_name": "Python 3"
    }
  },
  "cells": [
    {
      "cell_type": "markdown",
      "metadata": {
        "id": "view-in-github",
        "colab_type": "text"
      },
      "source": [
        "<a href=\"https://colab.research.google.com/github/s1250103/Public_mori-lab/blob/confirm_label_noize_for_cm_data/eras/confirm_label/clean_and_make_CM_Datasets.ipynb\" target=\"_parent\"><img src=\"https://colab.research.google.com/assets/colab-badge.svg\" alt=\"Open In Colab\"/></a>"
      ]
    },
    {
      "cell_type": "markdown",
      "metadata": {
        "id": "yD5NNFtmCpwP"
      },
      "source": [
        "<h1 id=title>このコードの意図：</h1>\n",
        "  <p id=content>収集したCM（生データ）を加工情報を使って加工し、ニューラルネットの学習で使用できるように整形データとすること </p>\n",
        "\n",
        "<h1 id=relations>関連：</h1>\n",
        "  <ul>\n",
        "    <li><h2>生データ</h2></li>\n",
        "    <li><h2>整形データ</h2></li>\n",
        "    <li><h2>加工情報</h2></li>\n",
        "  </ul>\n",
        "\n",
        "<table>\n",
        "  <tr><th>変更日時（降順）</th> <th>変更者</th></tr>\n",
        "  <tr><td>2021/01/29</td><td>森谷亮太</td>\n",
        "</table>\n",
        "\n"
      ]
    },
    {
      "cell_type": "markdown",
      "metadata": {
        "id": "Gj0iVWcYBORD"
      },
      "source": [
        "# 環境設定"
      ]
    },
    {
      "cell_type": "markdown",
      "metadata": {
        "id": "gPoohPW_HWJf"
      },
      "source": [
        "<h2>生データ</h2>\n",
        "<ul>\n",
        "  <li>入力される生データは特定のパス（dataPath)にファイルとして存在する。</li>\n",
        "  <li>生データはラベルによってクラス毎のディレクトリで振り分けられている。（前のプロセス/first_process）</li>\n",
        "\n",
        "</ul>"
      ]
    },
    {
      "cell_type": "code",
      "metadata": {
        "id": "ucq4a1O8NSJu"
      },
      "source": [
        "dataPath = \"/content/drive/MyDrive/original_CM_data\" # Need to access to certain gdrive account.\n",
        "CLASSES = [\"0.other\", \"1.food\", \"2.car\", \"3.cosme\"] # Designed already."
      ],
      "execution_count": 10,
      "outputs": []
    },
    {
      "cell_type": "markdown",
      "metadata": {
        "id": "p2GeTX4FJ4pp"
      },
      "source": [
        "<h2>出力フォーマット</h2>\n",
        "<ul>\n",
        "  <li>整形データの出力先は特定のパス(outPath)に定められている。</li>\n",
        "  <li>整形データは1次元となったnumpy形式のビデオを複数含む配列となり、npz形式で保存される。</li>\n",
        "\n",
        "</ul>"
      ]
    },
    {
      "cell_type": "markdown",
      "metadata": {
        "id": "gpR_XlG5M8K8"
      },
      "source": [
        "<h2>加工情報</h2>\n",
        "<ul>\n",
        "  <li>整形データの出力先は特定のパス(outPath)に定められている。</li>\n",
        "  <li>整形データは1次元となったnumpy形式のビデオを複数含む配列となり、npz形式で保存される。</li>\n",
        "\n",
        "</ul>"
      ]
    },
    {
      "cell_type": "code",
      "metadata": {
        "id": "aMQpYy-bEwwO"
      },
      "source": [
        "class video_format:\n",
        "  # Absolutely\n",
        "  HEIGHT = 45\n",
        "  WIDTH = 80\n",
        "  FRAME_SIZE = 30\n",
        "  COLOR = \"RGB\"\n",
        "  # About\n",
        "  playtime = 15 # second\n",
        "  FPS = 2 "
      ],
      "execution_count": 8,
      "outputs": []
    },
    {
      "cell_type": "markdown",
      "metadata": {
        "id": "wQNM5067PQU4"
      },
      "source": [
        "#実行"
      ]
    },
    {
      "cell_type": "code",
      "metadata": {
        "colab": {
          "base_uri": "https://localhost:8080/"
        },
        "id": "-I0z1GHTWrX9",
        "outputId": "f8d0b7db-fe0c-4827-8cbb-5dcf42817b43"
      },
      "source": [
        "desk = '/content/desk'\n",
        "if not os.path.exists(desk):\n",
        "  os.mkdir(desk)\n",
        "print(\"Created at /content/desk\")"
      ],
      "execution_count": 42,
      "outputs": [
        {
          "output_type": "stream",
          "text": [
            "Created at /content/desk\n"
          ],
          "name": "stdout"
        }
      ]
    },
    {
      "cell_type": "code",
      "metadata": {
        "id": "m97opyuoFH5p"
      },
      "source": [
        "#@title import\n",
        "# file dealing\n",
        "import os\n",
        "from os import path\n",
        "import shutil\n",
        "from google.colab import drive\n",
        "# data dealing\n",
        "import numpy as np\n",
        "import pandas as pd\n",
        "from pandas import DataFrame\n",
        "import matplotlib.pyplot as plt\n",
        "# process deasing\n",
        "import gc\n",
        "\n",
        "# other\n",
        "import re\n",
        "import requests\n",
        "import datetime"
      ],
      "execution_count": 49,
      "outputs": []
    },
    {
      "cell_type": "code",
      "metadata": {
        "id": "kGs8nPQIFw3J"
      },
      "source": [
        "def beep():\n",
        "  from google.colab import output\n",
        "  output.eval_js('new Audio(\\\n",
        "\"https://upload.wikimedia.org/wikipedia/commons/0/05/Beep-09.ogg\")\\\n",
        ".play()') "
      ],
      "execution_count": null,
      "outputs": []
    },
    {
      "cell_type": "code",
      "metadata": {
        "id": "MTzMBmYKGGHK"
      },
      "source": [
        "def send_line_notify(notification_message):\n",
        "    \"\"\"\n",
        "    LINEに通知する\n",
        "    \"\"\"\n",
        "    line_notify_token = 'cHdELzsau6ve8hNVL3FxPz65Jdyquzuj2kd021u8q1L'\n",
        "    line_notify_api = 'https://notify-api.line.me/api/notify'\n",
        "    headers = {'Authorization': f'Bearer {line_notify_token}'}\n",
        "    data = {'message': notification_message}\n",
        "    requests.post(line_notify_api, headers = headers, data = data)"
      ],
      "execution_count": null,
      "outputs": []
    },
    {
      "cell_type": "code",
      "metadata": {
        "id": "ba20PBiDApiV"
      },
      "source": [
        "def connect_to_gdrive():\n",
        "  # gdrive 接続\n",
        "  if not os.path.exists('/content/drive'):\n",
        "    drive.mount('/content/drive')\n",
        "  else:\n",
        "    print(\"Already confirm\")\n",
        "\n",
        "def create_and_connect_to_desk():\n",
        "  # colab テンポラリディレクトリの作成\n",
        "  desk = '/content/desk'\n",
        "  if not os.path.exists(desk):\n",
        "    os.mkdir(desk)\n",
        "  print(\"Created at /content/desk\")\n",
        "  return desk\n",
        "\n"
      ],
      "execution_count": 3,
      "outputs": []
    },
    {
      "cell_type": "code",
      "metadata": {
        "colab": {
          "base_uri": "https://localhost:8080/"
        },
        "id": "s6m8cKa-FZYw",
        "outputId": "ce8035cc-7c4e-4aeb-85df-486a13f615a8"
      },
      "source": [
        "connect_to_gdrive()"
      ],
      "execution_count": 4,
      "outputs": [
        {
          "output_type": "stream",
          "text": [
            "Mounted at /content/drive\n"
          ],
          "name": "stdout"
        }
      ]
    },
    {
      "cell_type": "markdown",
      "metadata": {
        "id": "2CE2-IhxRkc1"
      },
      "source": [
        "##データ確認"
      ]
    },
    {
      "cell_type": "code",
      "metadata": {
        "colab": {
          "base_uri": "https://localhost:8080/",
          "height": 756
        },
        "id": "3y5tiDTwHxpt",
        "outputId": "9e9798c3-601d-4e22-b679-75e5d83729d5"
      },
      "source": [
        "if os.path.isdir(dataPath):\n",
        "  print(\"exist the path.\")\n",
        "\n",
        "  accumulated_value_for_cleaned_data = []\n",
        "\n",
        "  # into each class\n",
        "  for each_class in CLASSES:\n",
        "    print(\"clean the class : \", each_class)\n",
        "    each_class_path = path.join(dataPath, each_class)\n",
        "    if os.path.isdir(each_class_path):\n",
        "      print(\"|------------- exist the path : \", each_class_path)\n",
        "      files_in_each_class = os.listdir(each_class_path)\n",
        "      size_of_each_class = len(files_in_each_class)\n",
        "      accumulated_value_for_cleaned_data.append(size_of_each_class)\n",
        "      print(\"____|------------ exist\", size_of_each_class, \"files in the class\")\n",
        "      print(\"____|------------ accumulated is\", sum(accumulated_value_for_cleaned_data))\n",
        "\n",
        "    else:\n",
        "      print(\"error\")\n",
        "      exit(0)\n",
        "    print(\"===========================================================================\")\n",
        "  \n",
        "  # plot and save original data\n",
        "  fig, axes = plt.subplots(1, 1)\n",
        "  data = pd.Series(accumulated_value_for_cleaned_data, index=CLASSES)\n",
        "  data.plot.bar()\n",
        "\n",
        "  plt.show()\n",
        "\n",
        "\n",
        "else:\n",
        "  print(\"no such path.\")\n"
      ],
      "execution_count": 56,
      "outputs": [
        {
          "output_type": "stream",
          "text": [
            "exist the path.\n",
            "clean the class :  0.other\n",
            "|------------- exist the path :  /content/drive/MyDrive/original_CM_data/0.other\n",
            "____|------------ exist 17 files in the class\n",
            "____|------------ accumulated is 17\n",
            "===========================================================================\n",
            "clean the class :  1.food\n",
            "|------------- exist the path :  /content/drive/MyDrive/original_CM_data/1.food\n",
            "____|------------ exist 0 files in the class\n",
            "____|------------ accumulated is 17\n",
            "===========================================================================\n",
            "clean the class :  2.car\n",
            "|------------- exist the path :  /content/drive/MyDrive/original_CM_data/2.car\n",
            "____|------------ exist 0 files in the class\n",
            "____|------------ accumulated is 17\n",
            "===========================================================================\n",
            "clean the class :  3.cosme\n",
            "|------------- exist the path :  /content/drive/MyDrive/original_CM_data/3.cosme\n",
            "____|------------ exist 0 files in the class\n",
            "____|------------ accumulated is 17\n",
            "===========================================================================\n"
          ],
          "name": "stdout"
        },
        {
          "output_type": "display_data",
          "data": {
            "image/png": "[encoded data removed]",
            "text/plain": [
              "<Figure size 432x288 with 1 Axes>"
            ]
          },
          "metadata": {
            "tags": [],
            "needs_background": "light"
          }
        },
        {
          "output_type": "stream",
          "text": [
            "0.other : 17\n",
            "1.food : 0\n",
            "2.car : 0\n",
            "3.cosme : 0\n",
            "__________________________________________________________\n",
            "Sum :  17\n"
          ],
          "name": "stdout"
        }
      ]
    },
    {
      "cell_type": "markdown",
      "metadata": {
        "id": "FS2sOZ-VQMHn"
      },
      "source": [
        "##データ取込・整形"
      ]
    },
    {
      "cell_type": "code",
      "metadata": {
        "id": "MeHFohX6dSTn"
      },
      "source": [
        "import math\n",
        "import cv2\n",
        "def makeupVideo(video_path, debug=False):\n",
        "  format1=video_format()\n",
        "  video = cv2.VideoCapture(video_path)\n",
        "  framesize = int(video.get(cv2.CAP_PROP_FRAME_COUNT))\n",
        "  cutTiming = math.floor(framesize / format1.FRAME_SIZE)\n",
        "  cutTail = cutTiming * format1.FRAME_SIZE\n",
        "  normalizedFrames = []\n",
        "  count = 0\n",
        "  while count <= cutTail - 1:\n",
        "    IO, frame = video.read()\n",
        "    if (count % cutTiming) == 0: \n",
        "      if not IO:\n",
        "        print(\"error\") \n",
        "        send_line_notify(\"error\")\n",
        "        return False, False, False\n",
        "\n",
        "      else: \n",
        "        fixedFrame = cv2.resize(frame, dsize=(format1.WIDTH, format1.HEIGHT))\n",
        "        check(fixedFrame, debug)\n",
        "        fixedFrame = fixedFrame.flatten().astype(np.float32)/255.0\n",
        "        normalizedFrames.append(fixedFrame)\n",
        "    else:\n",
        "      pass\n",
        "    count += 1\n",
        "\n",
        "  normalizedFrames = np.array(normalizedFrames)\n",
        "  normalizedFrames = normalizedFrames.flatten()\n",
        "  return True, normalizedFrames, framesize\n",
        "\n",
        "def check(image, debug):\n",
        "  if debug == True:\n",
        "    img = cv2.cvtColor(image, cv2.COLOR_BGR2RGB)\n",
        "    plt.imshow(img)\n",
        "    plt.show()\n",
        "  else:\n",
        "    return"
      ],
      "execution_count": 61,
      "outputs": []
    },
    {
      "cell_type": "code",
      "metadata": {
        "id": "E84OX-W4W_ay"
      },
      "source": [
        "%%time\n",
        "# into each class\n",
        "debug = False\n",
        "cleaned_data_contener = []\n",
        "label_contener = []\n",
        "frame_sizes = []\n",
        "for counter_class, each_class in enumerate(CLASSES):\n",
        "  print(\"clean the files in the class : \", each_class)\n",
        "  each_class_path = path.join(dataPath, each_class)\n",
        "  if os.path.isdir(each_class_path):\n",
        "    print(\"|------------- the path : \", each_class_path)\n",
        "    files_in_each_class = os.listdir(each_class_path)\n",
        "    size_of_each_class = len(files_in_each_class)\n",
        "    # into each file\n",
        "    for each_file in files_in_each_class:\n",
        "      if re.match(r\".*\\..*\", each_file,):\n",
        "        print(\"________|------------ start to clean: \", each_file)\n",
        "        each_file_path = path.join(each_class_path, each_file)\n",
        "        if path.exists(each_file_path):\n",
        "          print(\"________________|------------- confirm the file.\")\n",
        "          IO, cleaned_data, frame_size = makeupVideo(each_file_path, False)\n",
        "          if IO:\n",
        "            print(\"________________|------------- the frame size:\", frame_size)\n",
        "            cleaned_data_contener.append(cleaned_data)\n",
        "            frame_sizes.append(frame_size)\n",
        "            label_contener.append(counter_class)\n",
        "            print(\"________________|------------- finish the treatment.\")\n",
        "          else:\n",
        "            accumulated_value_for_cleaned_data[counter_class] -= 1\n",
        "            print(\"________________|------------- skip by the file broken\")\n",
        "        else:\n",
        "          print(\"________________|------------- can not confirm the file.\")\n",
        "          exit(0)\n",
        "      else:\n",
        "        print(\"________|------------ ignore the system file\")\n",
        "      # break\n",
        "  else:\n",
        "    exit(0)\n",
        "print(\"===========================================================================\")\n",
        "\n",
        "print(\"finish all\")\n",
        "#/for\n"
      ],
      "execution_count": null,
      "outputs": []
    },
    {
      "cell_type": "code",
      "metadata": {
        "id": "oe98j5PBzGwr",
        "outputId": "a98981f6-f63b-457c-bf98-7be7c5673985",
        "colab": {
          "base_uri": "https://localhost:8080/",
          "height": 316
        }
      },
      "source": [
        "def sentence():\n",
        "  sentence = \"\"\n",
        "  sum = 0\n",
        "  for i, each_class in enumerate(CLASSES):\n",
        "    sum += accumulated_value_for_cleaned_data[i]\n",
        "    sentence += str(each_class) + \" : \"\n",
        "    sentence += str(accumulated_value_for_cleaned_data[i]) + \"\\n\"\n",
        "  \n",
        "  sentence += \"--------------------\\n\"\n",
        "  sentence += \"Sum : \" + str(sum)\n",
        "\n",
        "  return sentence\n",
        "\n",
        "\n",
        "\n",
        "HEIGHT = 1\n",
        "WIDTH = 2\n",
        "rate = 5.0\n",
        "WpH_rate = 1.5\n",
        "fig = plt.figure(figsize=(WIDTH*rate*WpH_rate, HEIGHT*rate))\n",
        "# plot of main\n",
        "main = fig.add_subplot(HEIGHT, WIDTH, 1) \n",
        "COLOR_SET = ['red', 'blue', 'green', 'black']\n",
        "main.bar(CLASSES, accumulated_value_for_cleaned_data, color=COLOR_SET)\n",
        "# plot of memo\n",
        "memo = fig.add_subplot(HEIGHT, WIDTH, 2) \n",
        "\n",
        "sentence = sentence()\n",
        "\n",
        "memo.text(0.2, 0.2, sentence, size=30)\n",
        "\n",
        "# save\n",
        "save_name = \"summary_CM_data\"\n",
        "save_name += today\n",
        "save_name += \".png\"\n",
        "\n",
        "plt.savefig(path.join(desk, save_name))\n",
        "plt.show()\n",
        "\n"
      ],
      "execution_count": 139,
      "outputs": [
        {
          "output_type": "display_data",
          "data": {
            "image/png": "[encoded data removed]",
            "text/plain": [
              "<Figure size 1080x360 with 2 Axes>"
            ]
          },
          "metadata": {
            "tags": [],
            "needs_background": "light"
          }
        }
      ]
    }
  ]
}