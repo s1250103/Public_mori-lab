{
  "nbformat": 4,
  "nbformat_minor": 0,
  "metadata": {
    "colab": {
      "name": "clean_and_make_CM_Datasets.ipynb",
      "provenance": [],
      "authorship_tag": "ABX9TyMM7yjPJGgk/U/4bz2GVlRU",
      "include_colab_link": true
    },
    "kernelspec": {
      "name": "python3",
      "display_name": "Python 3"
    }
  },
  "cells": [
    {
      "cell_type": "markdown",
      "metadata": {
        "id": "view-in-github",
        "colab_type": "text"
      },
      "source": [
        "<a href=\"https://colab.research.google.com/github/s1250103/Public_mori-lab/blob/confirm_label_noize_for_cm_data/eras/confirm_label/clean_and_make_CM_Datasets.ipynb\" target=\"_parent\"><img src=\"https://colab.research.google.com/assets/colab-badge.svg\" alt=\"Open In Colab\"/></a>"
      ]
    },
    {
      "cell_type": "markdown",
      "metadata": {
        "id": "yD5NNFtmCpwP"
      },
      "source": [
        "<h1 id=title>このコードの意図：</h1>\n",
        "  <p id=content>収集したCM（生データ）を加工情報を使って加工し、ニューラルネットの学習で使用できるように整形データとすること </p>\n",
        "\n",
        "<h1 id=relations>関連：</h1>\n",
        "  <ul>\n",
        "    <li><h2>生データ</h2></li>\n",
        "    <li><h2>整形データ</h2></li>\n",
        "    <li><h2>加工情報</h2></li>\n",
        "  </ul>\n",
        "\n",
        "<table>\n",
        "  <tr><th>変更日時（降順）</th> <th>変更者</th></tr>\n",
        "  <tr><td>2021/01/29</td><td>森谷亮太</td>\n",
        "</table>\n",
        "\n"
      ]
    },
    {
      "cell_type": "markdown",
      "metadata": {
        "id": "Gj0iVWcYBORD"
      },
      "source": [
        "# 環境設定"
      ]
    },
    {
      "cell_type": "markdown",
      "metadata": {
        "id": "gPoohPW_HWJf"
      },
      "source": [
        "<h2>生データ</h2>\n",
        "<ul>\n",
        "  <li>入力される生データは特定のパス（dataPath)にファイルとして存在する。</li>\n",
        "  <li>生データはラベルによってクラス毎のディレクトリで振り分けられている。（前のプロセス/first_process）</li>\n",
        "\n",
        "</ul>"
      ]
    },
    {
      "cell_type": "code",
      "metadata": {
        "id": "ucq4a1O8NSJu"
      },
      "source": [
        "dataPath = \"/content/drive/MyDrive/original_CM_data\" # Need to access to certain gdrive account.\n",
        "CLASSES = [\"0.other\", \"1.food\", \"2.car\", \"3.cosme\"] # Designed already."
      ],
      "execution_count": 8,
      "outputs": []
    },
    {
      "cell_type": "markdown",
      "metadata": {
        "id": "p2GeTX4FJ4pp"
      },
      "source": [
        "<h2>出力フォーマット</h2>\n",
        "<ul>\n",
        "  <li>整形データの出力先は特定のパス(outPath)に定められている。</li>\n",
        "  <li>整形データは1次元となったnumpy形式のビデオを複数含む配列となり、npz形式で保存される。</li>\n",
        "  <li>整形データ、ラベルデータ、可視化したグラフは以下のようなファイル名で保存される。ファイル名には処理をした日付が含まれる。</li>\n",
        "\n",
        "</ul>"
      ]
    },
    {
      "cell_type": "code",
      "metadata": {
        "id": "v383MxLi-cPi"
      },
      "source": [
        "outPath = \"/content/drive/MyDrive/colab/CM_source/cleaned_CM\" # Need to access to certain gdrive account."
      ],
      "execution_count": 9,
      "outputs": []
    },
    {
      "cell_type": "code",
      "metadata": {
        "id": "DXEt1pEmFYYL"
      },
      "source": [
        "Label_npz_pattern = r\"Label(\\d{4})\\.npz\"\n",
        "Data_npz_pattern = r\"Data(\\d{4})\\.npz\"\n",
        "Summary_image_pattern = r\"summary_CM_data(\\d{4})\\.png\""
      ],
      "execution_count": 28,
      "outputs": []
    },
    {
      "cell_type": "markdown",
      "metadata": {
        "id": "gpR_XlG5M8K8"
      },
      "source": [
        "<h2>加工情報</h2>\n",
        "<ul>\n",
        "  <li>整形されたビデオ１つは以下のように表現される。</li>\n",
        "  <li>フレームの高さ, 幅, 枚数, 色情報がそれぞれ、45, 80, 30, RGB で定められたもの。</li>\n",
        "  <li>実際的には以上の４次元で表されたものが、引き延ばされ１次元で表されたもの。</li>\n",
        "\n",
        "\n",
        "</ul>"
      ]
    },
    {
      "cell_type": "code",
      "metadata": {
        "id": "aMQpYy-bEwwO"
      },
      "source": [
        "class video_format:\n",
        "  HEIGHT = 45\n",
        "  WIDTH = 80\n",
        "  FRAME_SIZE = 30\n",
        "  COLOR = \"RGB\""
      ],
      "execution_count": 11,
      "outputs": []
    },
    {
      "cell_type": "markdown",
      "metadata": {
        "id": "wQNM5067PQU4"
      },
      "source": [
        "#実行"
      ]
    },
    {
      "cell_type": "code",
      "metadata": {
        "id": "m97opyuoFH5p"
      },
      "source": [
        "#@title import\n",
        "# file dealing\n",
        "import os\n",
        "from os import path\n",
        "import shutil\n",
        "from google.colab import drive\n",
        "# data dealing\n",
        "import numpy as np\n",
        "import pandas as pd\n",
        "from pandas import DataFrame\n",
        "import matplotlib.pyplot as plt\n",
        "# process dealing\n",
        "import gc\n",
        "\n",
        "# other\n",
        "import re\n",
        "import requests\n",
        "import datetime\n",
        "\n",
        "now_time = datetime.datetime.now(datetime.timezone(datetime.timedelta(hours=9)))\n",
        "today = now_time.strftime('%m%d')"
      ],
      "execution_count": 20,
      "outputs": []
    },
    {
      "cell_type": "markdown",
      "metadata": {
        "id": "YzcricE1Hs6T"
      },
      "source": [
        "## パス接続"
      ]
    },
    {
      "cell_type": "code",
      "metadata": {
        "id": "ba20PBiDApiV"
      },
      "source": [
        "def connect_to_gdrive():\n",
        "  if not os.path.exists('/content/drive'):\n",
        "    drive.mount('/content/drive')\n",
        "  else:\n",
        "    print(\"Already confirm\")\n",
        "\n",
        "def create_and_connect_to_desk():\n",
        "  desk = '/content/desk'\n",
        "  if not os.path.exists(desk):\n",
        "    os.mkdir(desk)\n",
        "  print(\"Created at /content/desk\")\n",
        "  return desk\n"
      ],
      "execution_count": 14,
      "outputs": []
    },
    {
      "cell_type": "code",
      "metadata": {
        "id": "zHnmTxvWH4zZ",
        "outputId": "75688676-7e18-4ee5-a2cb-cb8fcfeed629",
        "colab": {
          "base_uri": "https://localhost:8080/"
        }
      },
      "source": [
        "connect_to_gdrive()\n",
        "desk = create_and_connect_to_desk()"
      ],
      "execution_count": 15,
      "outputs": [
        {
          "output_type": "stream",
          "text": [
            "Mounted at /content/drive\n",
            "Created at /content/desk\n"
          ],
          "name": "stdout"
        }
      ]
    },
    {
      "cell_type": "markdown",
      "metadata": {
        "id": "2CE2-IhxRkc1"
      },
      "source": [
        "##データ確認"
      ]
    },
    {
      "cell_type": "code",
      "metadata": {
        "colab": {
          "base_uri": "https://localhost:8080/",
          "height": 654
        },
        "id": "3y5tiDTwHxpt",
        "outputId": "0af68e7f-711a-4b71-a7ba-4118ffe5e8e0"
      },
      "source": [
        "if os.path.isdir(dataPath):\n",
        "  print(\"exist the path.\")\n",
        "\n",
        "  accumulated_value_for_cleaned_data = []\n",
        "\n",
        "  # into each class\n",
        "  for each_class in CLASSES:\n",
        "    print(\"clean the class : \", each_class)\n",
        "    each_class_path = path.join(dataPath, each_class)\n",
        "    if os.path.isdir(each_class_path):\n",
        "      print(\"|------------- exist the path : \", each_class_path)\n",
        "      files_in_each_class = os.listdir(each_class_path)\n",
        "      size_of_each_class = len(files_in_each_class)\n",
        "      accumulated_value_for_cleaned_data.append(size_of_each_class)\n",
        "      print(\"____|------------ exist\", size_of_each_class, \"files in the class\")\n",
        "      print(\"____|------------ accumulated is\", sum(accumulated_value_for_cleaned_data))\n",
        "\n",
        "    else:\n",
        "      print(\"error\")\n",
        "      exit(0)\n",
        "    print(\"===========================================================================\")\n",
        "  \n",
        "  # plot and save original data\n",
        "  fig, axes = plt.subplots(1, 1)\n",
        "  data = pd.Series(accumulated_value_for_cleaned_data, index=CLASSES)\n",
        "  data.plot.bar()\n",
        "\n",
        "  plt.show()\n",
        "\n",
        "\n",
        "else:\n",
        "  print(\"no such path.\")\n"
      ],
      "execution_count": 16,
      "outputs": [
        {
          "output_type": "stream",
          "text": [
            "exist the path.\n",
            "clean the class :  0.other\n",
            "|------------- exist the path :  /content/drive/MyDrive/original_CM_data/0.other\n",
            "____|------------ exist 35 files in the class\n",
            "____|------------ accumulated is 35\n",
            "===========================================================================\n",
            "clean the class :  1.food\n",
            "|------------- exist the path :  /content/drive/MyDrive/original_CM_data/1.food\n",
            "____|------------ exist 0 files in the class\n",
            "____|------------ accumulated is 35\n",
            "===========================================================================\n",
            "clean the class :  2.car\n",
            "|------------- exist the path :  /content/drive/MyDrive/original_CM_data/2.car\n",
            "____|------------ exist 0 files in the class\n",
            "____|------------ accumulated is 35\n",
            "===========================================================================\n",
            "clean the class :  3.cosme\n",
            "|------------- exist the path :  /content/drive/MyDrive/original_CM_data/3.cosme\n",
            "____|------------ exist 0 files in the class\n",
            "____|------------ accumulated is 35\n",
            "===========================================================================\n"
          ],
          "name": "stdout"
        },
        {
          "output_type": "display_data",
          "data": {
            "image/png": "[encoded data removed]",
            "text/plain": [
              "<Figure size 432x288 with 1 Axes>"
            ]
          },
          "metadata": {
            "tags": [],
            "needs_background": "light"
          }
        }
      ]
    },
    {
      "cell_type": "markdown",
      "metadata": {
        "id": "FS2sOZ-VQMHn"
      },
      "source": [
        "##データ取込・整形"
      ]
    },
    {
      "cell_type": "code",
      "metadata": {
        "id": "MeHFohX6dSTn"
      },
      "source": [
        "import math\n",
        "import cv2\n",
        "def makeupVideo(video_path, debug=False):\n",
        "  format1=video_format()\n",
        "  video = cv2.VideoCapture(video_path)\n",
        "  framesize = int(video.get(cv2.CAP_PROP_FRAME_COUNT))\n",
        "  cutTiming = math.floor(framesize / format1.FRAME_SIZE)\n",
        "  cutTail = cutTiming * format1.FRAME_SIZE\n",
        "  normalizedFrames = []\n",
        "  count = 0\n",
        "  while count <= cutTail - 1:\n",
        "    IO, frame = video.read()\n",
        "    if (count % cutTiming) == 0: \n",
        "      if not IO:\n",
        "        print(\"error\") \n",
        "        send_line_notify(\"error\")\n",
        "        return False, False, False\n",
        "\n",
        "      else: \n",
        "        fixedFrame = cv2.resize(frame, dsize=(format1.WIDTH, format1.HEIGHT))\n",
        "        check(fixedFrame, debug)\n",
        "        fixedFrame = fixedFrame.flatten().astype(np.float32)/255.0\n",
        "        normalizedFrames.append(fixedFrame)\n",
        "    else:\n",
        "      pass\n",
        "    count += 1\n",
        "\n",
        "  normalizedFrames = np.array(normalizedFrames)\n",
        "  normalizedFrames = normalizedFrames.flatten()\n",
        "  return True, normalizedFrames, framesize\n",
        "\n",
        "def check(image, debug):\n",
        "  if debug == True:\n",
        "    img = cv2.cvtColor(image, cv2.COLOR_BGR2RGB)\n",
        "    plt.imshow(img)\n",
        "    plt.show()\n",
        "  else:\n",
        "    return"
      ],
      "execution_count": 17,
      "outputs": []
    },
    {
      "cell_type": "code",
      "metadata": {
        "id": "E84OX-W4W_ay",
        "colab": {
          "base_uri": "https://localhost:8080/"
        },
        "outputId": "b0836939-112b-448b-a3de-798f38f2a79b"
      },
      "source": [
        "%%time\n",
        "# into each class\n",
        "debug = False\n",
        "cleaned_data_contener = []\n",
        "label_contener = []\n",
        "frame_sizes = []\n",
        "for counter_class, each_class in enumerate(CLASSES):\n",
        "  print(\"clean the files in the class : \", each_class)\n",
        "  each_class_path = path.join(dataPath, each_class)\n",
        "  if os.path.isdir(each_class_path):\n",
        "    print(\"|------------- the path : \", each_class_path)\n",
        "    files_in_each_class = os.listdir(each_class_path)\n",
        "    size_of_each_class = len(files_in_each_class)\n",
        "    # into each file\n",
        "    for each_file in files_in_each_class:\n",
        "      if re.match(r\".*\\..*\", each_file,):\n",
        "        print(\"________|------------ start to clean: \", each_file)\n",
        "        each_file_path = path.join(each_class_path, each_file)\n",
        "        if path.exists(each_file_path):\n",
        "          print(\"________________|------------- confirm the file.\")\n",
        "          IO, cleaned_data, frame_size = makeupVideo(each_file_path, False)\n",
        "          if IO:\n",
        "            print(\"________________|------------- the frame size:\", frame_size)\n",
        "            cleaned_data_contener.append(cleaned_data)\n",
        "            frame_sizes.append(frame_size)\n",
        "            label_contener.append(counter_class)\n",
        "            print(\"________________|------------- finish the treatment.\")\n",
        "          else:\n",
        "            accumulated_value_for_cleaned_data[counter_class] -= 1\n",
        "            print(\"________________|------------- skip by the file broken\")\n",
        "        else:\n",
        "          print(\"________________|------------- can not confirm the file.\")\n",
        "          exit(0)\n",
        "      else:\n",
        "        print(\"________|------------ ignore the system file\")\n",
        "      # break\n",
        "  else:\n",
        "    exit(0)\n",
        "print(\"===========================================================================\")\n",
        "\n",
        "print(\"finish all\")\n",
        "#/for\n"
      ],
      "execution_count": 18,
      "outputs": [
        {
          "output_type": "stream",
          "text": [
            "clean the files in the class :  0.other\n",
            "|------------- the path :  /content/drive/MyDrive/original_CM_data/0.other\n",
            "________|------------ start to clean:  au_Wallet_30秒.mpg\n",
            "________________|------------- confirm the file.\n",
            "________________|------------- the frame size: 899\n",
            "________________|------------- finish the treatment.\n",
            "________|------------ start to clean:  Yamato_宅急便コンパクト.mpg\n",
            "________________|------------- confirm the file.\n",
            "________________|------------- the frame size: 899\n",
            "________________|------------- finish the treatment.\n",
            "________|------------ start to clean:  住友生命_未来デザイン1UP.mp4\n",
            "________________|------------- confirm the file.\n",
            "________________|------------- the frame size: 899\n",
            "________________|------------- finish the treatment.\n",
            "________|------------ start to clean:  ニトリ_わんぱく組.mp4\n",
            "________________|------------- confirm the file.\n",
            "________________|------------- the frame size: 450\n",
            "________________|------------- finish the treatment.\n",
            "________|------------ start to clean:  ソフラン_クイーンズシルク.mp4\n",
            "________________|------------- confirm the file.\n",
            "________________|------------- the frame size: 450\n",
            "________________|------------- finish the treatment.\n",
            "________|------------ start to clean:  コロプラ_白猫プロジェクト.mp4\n",
            "________________|------------- confirm the file.\n",
            "________________|------------- the frame size: 450\n",
            "________________|------------- finish the treatment.\n",
            "________|------------ start to clean:  コロプラ_白猫テニス.mp4\n",
            "________________|------------- confirm the file.\n",
            "________________|------------- the frame size: 450\n",
            "________________|------------- finish the treatment.\n",
            "________|------------ start to clean:  第一三共_第一三共胃腸薬プラス.mp4\n",
            "________________|------------- confirm the file.\n",
            "________________|------------- the frame size: 450\n",
            "________________|------------- finish the treatment.\n",
            "________|------------ start to clean:  第一三共_クリーンデンタル.mp4\n",
            "________________|------------- confirm the file.\n",
            "________________|------------- the frame size: 450\n",
            "________________|------------- finish the treatment.\n",
            "________|------------ start to clean:  たまのや_こころネットグループ.mp4\n",
            "________________|------------- confirm the file.\n",
            "________________|------------- the frame size: 450\n",
            "________________|------------- finish the treatment.\n",
            "________|------------ start to clean:  いきなり！黄金伝説.mp4\n",
            "________________|------------- confirm the file.\n",
            "________________|------------- the frame size: 450\n",
            "________________|------------- finish the treatment.\n",
            "________|------------ start to clean:  東京ディズニーリゾート.mp4\n",
            "________________|------------- confirm the file.\n",
            "________________|------------- the frame size: 899\n",
            "________________|------------- finish the treatment.\n",
            "________|------------ start to clean:  unicharm_シルコット.mp4\n",
            "________________|------------- confirm the file.\n",
            "________________|------------- the frame size: 450\n",
            "________________|------------- finish the treatment.\n",
            "________|------------ start to clean:  東北電力_よりそうちから_30秒.mp4\n",
            "________________|------------- confirm the file.\n",
            "________________|------------- the frame size: 899\n",
            "________________|------------- finish the treatment.\n",
            "________|------------ start to clean:  大東電機工業_THRIVE.mp4\n",
            "________________|------------- confirm the file.\n",
            "________________|------------- the frame size: 450\n",
            "________________|------------- finish the treatment.\n",
            "________|------------ start to clean:  厚生労働省_臨時福祉給付金.mp4\n",
            "________________|------------- confirm the file.\n",
            "________________|------------- the frame size: 450\n",
            "________________|------------- finish the treatment.\n",
            "________|------------ start to clean:  小林製薬_サラサーティ.mp4\n",
            "________________|------------- confirm the file.\n",
            "________________|------------- the frame size: 450\n",
            "________________|------------- finish the treatment.\n",
            "________|------------ start to clean:  unicharm_男性用さわやかうす型パッド.mp4\n",
            "________________|------------- confirm the file.\n",
            "________________|------------- the frame size: 450\n",
            "________________|------------- finish the treatment.\n",
            "________|------------ start to clean:  au_MOON Challange.mp4\n",
            "________________|------------- confirm the file.\n",
            "________________|------------- the frame size: 449\n",
            "________________|------------- finish the treatment.\n",
            "________|------------ start to clean:  亀岡工務店_KDS.mp4\n",
            "________________|------------- confirm the file.\n",
            "________________|------------- the frame size: 450\n",
            "________________|------------- finish the treatment.\n",
            "________|------------ start to clean:  小林製薬_ハレナース.mp4\n",
            "________________|------------- confirm the file.\n",
            "________________|------------- the frame size: 449\n",
            "________________|------------- finish the treatment.\n",
            "________|------------ start to clean:  タケダ_薬_アリナミンEX PLUS.mp4\n",
            "________________|------------- confirm the file.\n",
            "________________|------------- the frame size: 450\n",
            "________________|------------- finish the treatment.\n",
            "________|------------ start to clean:  au_ケータイ_au star.mp4\n",
            "________________|------------- confirm the file.\n",
            "________________|------------- the frame size: 450\n",
            "________________|------------- finish the treatment.\n",
            "________|------------ start to clean:  東映アニメーション_映画_ポッピンQ.mp4\n",
            "________________|------------- confirm the file.\n",
            "________________|------------- the frame size: 450\n",
            "________________|------------- finish the treatment.\n",
            "________|------------ start to clean:  ZURICH_保険_チューリッヒ保険_30秒.mp4\n",
            "________________|------------- confirm the file.\n",
            "________________|------------- the frame size: 899\n",
            "________________|------------- finish the treatment.\n",
            "________|------------ start to clean:  ダイソン_掃除_dyson v8.mp4\n",
            "________________|------------- confirm the file.\n",
            "________________|------------- the frame size: 450\n",
            "________________|------------- finish the treatment.\n",
            "________|------------ start to clean:  gsk_薬品_ボルタレン.mp4\n",
            "________________|------------- confirm the file.\n",
            "________________|------------- the frame size: 449\n",
            "________________|------------- finish the treatment.\n",
            "________|------------ start to clean:  楽天_アプリ_ラクマ.mp4\n",
            "________________|------------- confirm the file.\n",
            "________________|------------- the frame size: 450\n",
            "________________|------------- finish the treatment.\n",
            "________|------------ start to clean:  健康コーポレーション_美容_ライザップ.mp4\n",
            "________________|------------- confirm the file.\n",
            "________________|------------- the frame size: 449\n",
            "________________|------------- finish the treatment.\n",
            "________|------------ start to clean:  XFLAG_ゲーム_モンスターストライク超獣神祭.mp4\n",
            "________________|------------- confirm the file.\n",
            "________________|------------- the frame size: 450\n",
            "________________|------------- finish the treatment.\n",
            "________|------------ start to clean:  大塚製薬_洗髪料_ULOS.mp4\n",
            "________________|------------- confirm the file.\n",
            "________________|------------- the frame size: 449\n",
            "________________|------------- finish the treatment.\n",
            "________|------------ start to clean:  郡山ふれあい科学館_観光_スペースパーク.mp4\n",
            "________________|------------- confirm the file.\n",
            "________________|------------- the frame size: 450\n",
            "________________|------------- finish the treatment.\n",
            "________|------------ start to clean:  新潟市水族館_観光_マリアピア.mp4\n",
            "________________|------------- confirm the file.\n",
            "________________|------------- the frame size: 449\n",
            "________________|------------- finish the treatment.\n",
            "________|------------ start to clean:  会津日新館_観光_会津日新館.mp4\n",
            "________________|------------- confirm the file.\n",
            "________________|------------- the frame size: 449\n",
            "________________|------------- finish the treatment.\n",
            "________|------------ start to clean:  japanet_通販_Goods for you_30秒.mp4\n",
            "________________|------------- confirm the file.\n",
            "________________|------------- the frame size: 898\n",
            "________________|------------- finish the treatment.\n",
            "clean the files in the class :  1.food\n",
            "|------------- the path :  /content/drive/MyDrive/original_CM_data/1.food\n",
            "clean the files in the class :  2.car\n",
            "|------------- the path :  /content/drive/MyDrive/original_CM_data/2.car\n",
            "clean the files in the class :  3.cosme\n",
            "|------------- the path :  /content/drive/MyDrive/original_CM_data/3.cosme\n",
            "===========================================================================\n",
            "finish all\n",
            "CPU times: user 6min 34s, sys: 3.78 s, total: 6min 38s\n",
            "Wall time: 4min 18s\n"
          ],
          "name": "stdout"
        }
      ]
    },
    {
      "cell_type": "code",
      "metadata": {
        "colab": {
          "base_uri": "https://localhost:8080/",
          "height": 316
        },
        "id": "oe98j5PBzGwr",
        "outputId": "25a64718-66c9-4e8f-b6de-4cb5d4fc67a1"
      },
      "source": [
        "def sentence():\n",
        "  sentence = \"\"\n",
        "  sum = 0\n",
        "  for i, each_class in enumerate(CLASSES):\n",
        "    sum += accumulated_value_for_cleaned_data[i]\n",
        "    sentence += str(each_class) + \" : \"\n",
        "    sentence += str(accumulated_value_for_cleaned_data[i]) + \"\\n\"\n",
        "  \n",
        "  sentence += \"--------------------\\n\"\n",
        "  sentence += \"Sum : \" + str(sum)\n",
        "\n",
        "  return sentence\n",
        "\n",
        "\n",
        "\n",
        "HEIGHT = 1\n",
        "WIDTH = 2\n",
        "rate = 5.0\n",
        "WpH_rate = 1.5\n",
        "fig = plt.figure(figsize=(WIDTH*rate*WpH_rate, HEIGHT*rate))\n",
        "# plot of main\n",
        "main = fig.add_subplot(HEIGHT, WIDTH, 1) \n",
        "COLOR_SET = ['red', 'blue', 'green', 'black']\n",
        "main.bar(CLASSES, accumulated_value_for_cleaned_data, color=COLOR_SET)\n",
        "# plot of memo\n",
        "memo = fig.add_subplot(HEIGHT, WIDTH, 2) \n",
        "\n",
        "sentence = sentence()\n",
        "\n",
        "memo.text(0.2, 0.2, sentence, size=30)\n",
        "\n",
        "# save\n",
        "save_name = \"summary_CM_data\"\n",
        "save_name += today\n",
        "save_name += \".png\"\n",
        "\n",
        "plt.savefig(path.join(desk, save_name))\n",
        "plt.show()"
      ],
      "execution_count": 21,
      "outputs": [
        {
          "output_type": "display_data",
          "data": {
            "image/png": "[encoded data removed]",
            "text/plain": [
              "<Figure size 1080x360 with 2 Axes>"
            ]
          },
          "metadata": {
            "tags": [],
            "needs_background": "light"
          }
        }
      ]
    },
    {
      "cell_type": "markdown",
      "metadata": {
        "id": "JQp04CmW8GxC"
      },
      "source": [
        "# データ出力"
      ]
    },
    {
      "cell_type": "code",
      "metadata": {
        "id": "xLBnX8bqudkC"
      },
      "source": [
        "def save_data(set_of_npdata, saveName):\n",
        "  np.savez(os.path.join(desk, saveName), *set_of_npdata)\n",
        "\n",
        "if len(cleaned_data_contener) == len(label_contener):\n",
        "  save_data(cleaned_data_contener, \"Data\"+today)\n",
        "  save_data(label_contener, \"Label\"+today)"
      ],
      "execution_count": 24,
      "outputs": []
    },
    {
      "cell_type": "code",
      "metadata": {
        "id": "ChzXQPLJwfyu",
        "outputId": "627e24ed-95c3-41f3-c55e-c60964302205",
        "colab": {
          "base_uri": "https://localhost:8080/"
        }
      },
      "source": [
        "want_objects = []\n",
        "for each in os.listdir(desk):\n",
        "  if re.match(Label_npz_pattern, each) or re.match(Data_npz_pattern, each) or re.match(Summary_image_pattern, each):\n",
        "    print(each, \"is appended.\")\n",
        "    want_objects.append(each)\n",
        "  else:\n",
        "    pass"
      ],
      "execution_count": 32,
      "outputs": [
        {
          "output_type": "stream",
          "text": [
            "summary_CM_data0129.png is appended.\n",
            "Label0129.npz is appended.\n",
            "Data0129.npz is appended.\n"
          ],
          "name": "stdout"
        }
      ]
    },
    {
      "cell_type": "code",
      "metadata": {
        "id": "8PqCEUqyLKIT"
      },
      "source": [
        "if os.path.exists(outPath):\n",
        "  for each in os.listdir(outPath):\n",
        "    if re.match(Label_npz_pattern, each) or re.match(Data_npz_pattern, each) or re.match(Summary_image_pattern, each):\n",
        "      print(\"exist already. so fix any:\")\n",
        "      print(os.listdir(outPath))\n",
        "      print(\"update? Y/n\")\n",
        "      jud = input()\n",
        "      if jud == 'Y':\n",
        "        shutil.rmtree(outPath)\n",
        "        os.mkdir(outPath)\n",
        "      else:\n",
        "        print(\"Done\")\n",
        "        break\n",
        "\n",
        "else:\n",
        "  os.mkdir(outPath)"
      ],
      "execution_count": 47,
      "outputs": []
    },
    {
      "cell_type": "code",
      "metadata": {
        "id": "fc-qegtGwgzk"
      },
      "source": [
        "for each in want_objects:\n",
        "  shutil.copy2(\n",
        "      os.path.join(desk, each),\n",
        "      outPath\n",
        "  )"
      ],
      "execution_count": 48,
      "outputs": []
    }
  ]
}