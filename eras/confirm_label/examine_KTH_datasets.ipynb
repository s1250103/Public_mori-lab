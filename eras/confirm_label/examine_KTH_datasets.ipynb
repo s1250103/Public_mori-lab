{
  "nbformat": 4,
  "nbformat_minor": 0,
  "metadata": {
    "colab": {
      "name": "examine_KTH_datasets.ipynb",
      "provenance": [],
      "toc_visible": true,
      "authorship_tag": "ABX9TyN3pKZ7hpoG9k7VkiWrOt5M",
      "include_colab_link": true
    },
    "kernelspec": {
      "name": "python3",
      "display_name": "Python 3"
    },
    "accelerator": "GPU"
  },
  "cells": [
    {
      "cell_type": "markdown",
      "metadata": {
        "id": "view-in-github",
        "colab_type": "text"
      },
      "source": [
        "<a href=\"https://colab.research.google.com/github/s1250103/Public_mori-lab/blob/confirm_label_noize_for_cm_data/eras/confirm_label/examine_KTH_datasets.ipynb\" target=\"_parent\"><img src=\"https://colab.research.google.com/assets/colab-badge.svg\" alt=\"Open In Colab\"/></a>"
      ]
    },
    {
      "cell_type": "markdown",
      "metadata": {
        "id": "bn8mY7TNKCVG"
      },
      "source": [
        "#環境設定"
      ]
    },
    {
      "cell_type": "code",
      "metadata": {
        "id": "7jJi-oO2J_on"
      },
      "source": [
        "%tensorflow_version 2.x\n",
        "\n",
        "## import\n",
        "# file dealing\n",
        "import os\n",
        "from os import path\n",
        "\n",
        "import shutil\n",
        "from google.colab import drive\n",
        "import datetime\n",
        "# data dealing\n",
        "import numpy as np\n",
        "import pandas as pd\n",
        "from pandas import DataFrame\n",
        "import matplotlib.pyplot as plt\n",
        "# process deasing\n",
        "import gc\n",
        "from time import sleep\n",
        "\n",
        "# machine learning (back)\n",
        "import tensorflow as tf\n",
        "from tensorflow.keras.utils import plot_model\n",
        "from tensorflow.keras import layers, models, initializers, callbacks\n",
        "\n",
        "# machine learning\n",
        "import keras\n",
        "from keras.datasets import mnist\n",
        "from keras.models import Sequential\n",
        "from keras.layers import Dense, Activation, Dropout\n",
        "from keras.utils.np_utils import to_categorical\n",
        "\n",
        "import json\n",
        "from collections import OrderedDict\n",
        "import pprint\n",
        "import re\n",
        "import requests"
      ],
      "execution_count": 1,
      "outputs": []
    },
    {
      "cell_type": "code",
      "metadata": {
        "id": "vxGMERAvX3P8"
      },
      "source": [
        "def send_line_notify(notification_message):\n",
        "    \"\"\"\n",
        "    LINEに通知する\n",
        "    \"\"\"\n",
        "    line_notify_token = 'cHdELzsau6ve8hNVL3FxPz65Jdyquzuj2kd021u8q1L'\n",
        "    line_notify_api = 'https://notify-api.line.me/api/notify'\n",
        "    headers = {'Authorization': f'Bearer {line_notify_token}'}\n",
        "    data = {'message': notification_message}\n",
        "    requests.post(line_notify_api, headers = headers, data = data)"
      ],
      "execution_count": 16,
      "outputs": []
    },
    {
      "cell_type": "markdown",
      "metadata": {
        "id": "CemsuBxCnpSD"
      },
      "source": [
        "# 実験条件（外乱）を定める"
      ]
    },
    {
      "cell_type": "code",
      "metadata": {
        "id": "eXCV5Urc5PUH"
      },
      "source": [
        "LABEL_NOISE_RATE = 0\n",
        "TEST_DATA_RATE = 0.25"
      ],
      "execution_count": 2,
      "outputs": []
    },
    {
      "cell_type": "markdown",
      "metadata": {
        "id": "-FH7fepQ6Fo1"
      },
      "source": [
        "#学習条件を定める"
      ]
    },
    {
      "cell_type": "markdown",
      "metadata": {
        "id": "UScShR1lmM_U"
      },
      "source": [
        "##学習手法の仕様"
      ]
    },
    {
      "cell_type": "code",
      "metadata": {
        "id": "qUl9mQXfk7eS"
      },
      "source": [
        "seed = 20201218\n",
        "np.random.seed(seed)\n",
        "tf.random.set_seed(seed)\n",
        "\n",
        "learningDict = {\n",
        "    \"optimizer\" : {\n",
        "        \"this.optimizer\" : \"sgd\",\n",
        "        \"learning_rate\" : 0.01,\n",
        "        \"momentum\" : 0.9,\n",
        "        \"decay\" : 1e-4,\n",
        "        \"nesterov\" : True\n",
        "    },\n",
        "    \"theWay\" : {\n",
        "        \"batch_size\" : 32,\n",
        "        \"epochs\" : 128,\n",
        "    },\n",
        "    \"compared_losses\" : [\n",
        "                        #  tf.keras.losses.CategoricalCrossentropy(),\n",
        "                        #  tf.keras.losses.MeanSquaredError(), \n",
        "                         tf.keras.losses.MeanAbsoluteError(),\n",
        "                        #  tf.keras.losses.SquaredHinge()               \n",
        "    ]\n",
        "}\n",
        "\n",
        "def compile_optimizer():\n",
        "  # 最適化処理 (adamのみ対応)\n",
        "  if learningDict[\"optimizer\"][\"this.optimizer\"] == \"adam\":\n",
        "    optimizer = keras.optimizers.Adam(\n",
        "        lr=learningDict[\"optimizer\"][\"learning_rate\"],\n",
        "        beta_1=learningDict[\"optimizer\"][\"beta_1\"],\n",
        "        beta_2=learningDict[\"optimizer\"][\"beta_2\"])\n",
        "    print(\"adam is used as a optimizer\")\n",
        "\n",
        "  elif learningDict[\"optimizer\"][\"this.optimizer\"] == \"Nadam\":\n",
        "    optimizer = keras.optimizers.Nadam(\n",
        "        lr=learningDict[\"optimizer\"][\"learning_rate\"],\n",
        "        beta_1=learningDict[\"optimizer\"][\"beta_1\"],\n",
        "        beta_2=learningDict[\"optimizer\"][\"beta_2\"],\n",
        "        epsilon=None, \n",
        "        schedule_decay=0.4)\n",
        "    print(\"Nadam is used as a optimizer\")\n",
        "\n",
        "  elif learningDict[\"optimizer\"][\"this.optimizer\"] == \"sgd\":\n",
        "    optimizer = keras.optimizers.SGD(\n",
        "        lr=learningDict[\"optimizer\"][\"learning_rate\"],\n",
        "        momentum=learningDict[\"optimizer\"][\"momentum\"],\n",
        "        decay=learningDict[\"optimizer\"][\"decay\"],\n",
        "        nesterov=learningDict[\"optimizer\"][\"nesterov\"]) \n",
        "    print(\"sgd is used as a optimizer\")\n",
        "  else:\n",
        "    print(\"error\")\n",
        "  \n",
        "  return optimizer"
      ],
      "execution_count": 30,
      "outputs": []
    },
    {
      "cell_type": "markdown",
      "metadata": {
        "id": "pXCt9_EOhkSt"
      },
      "source": [
        "## モデルの仕様（ニューラルネットワーク）\n",
        "<ul>\n",
        "  <li>入力層(フレームサイズ, フレームの高さ, フレームの横幅, RGB情報) </li>\n",
        "  <li>出力層(予測値) </li>\n",
        "  <li> 中間層 \n",
        "    <ol>\n",
        "      <li>conv0</li>\n",
        "      <li>pool0</li>\n",
        "      <li>conv1</li>\n",
        "      <li>pool1</li>\n",
        "      <li>dence0</li>\n",
        "  </li>\n",
        "</ui>"
      ]
    },
    {
      "cell_type": "code",
      "metadata": {
        "id": "xeda9UgKf23z"
      },
      "source": [
        "def make_model(video_format):\n",
        "  # モデル作成\n",
        "  model = models.Sequential()\n",
        "  # 入力層\n",
        "  model.add(\n",
        "      layers.Reshape(\n",
        "          (video_format.FRAME_SIZE,\n",
        "          video_format.HEIGHT,\n",
        "          video_format.WIDTH,\n",
        "          video_format.COLORinfo),\n",
        "          input_shape=(video_format.FRAME_SIZE * video_format.HEIGHT * video_format.WIDTH * video_format.COLORinfo,),\n",
        "          name='Input_Layer' )\n",
        "  )\n",
        "  # 畳み込み0\n",
        "  model.add(\n",
        "      layers.Conv3D(\n",
        "          filters=32,\n",
        "          kernel_size=(3, 3, 3),\n",
        "          strides=(1, 1, 1),\n",
        "          padding='same',\n",
        "          activation='relu',\n",
        "          name='conv0'))\n",
        "  # pool0\n",
        "  model.add(\n",
        "      layers.MaxPooling3D(pool_size=(2, 2, 2), name='pool0'))\n",
        "\n",
        "  # 畳み込み1\n",
        "  model.add(\n",
        "      layers.Conv3D(\n",
        "          filters=32,\n",
        "          kernel_size=(3, 3, 3),\n",
        "          strides=(1, 1, 1),\n",
        "          padding='same',\n",
        "          activation='relu',\n",
        "          name='conv1'))\n",
        "  # pool1\n",
        "  model.add(\n",
        "      layers.MaxPooling3D(pool_size=(2, 2, 2), name='pool1'))\n",
        "\n",
        "  ## 全結合0\n",
        "  model.add(\n",
        "      layers.Flatten(name='pipe'),\n",
        "  )\n",
        "  model.add(\n",
        "      layers.Dense(1024,\n",
        "        activation='relu',\n",
        "        name='dence0' ),\n",
        "  )\n",
        "  # 出力層\n",
        "  model.add(\n",
        "      layers.Dense(4, activation='softmax', name='WATERSUPPLY')\n",
        "  )\n",
        "  return model\n"
      ],
      "execution_count": 4,
      "outputs": []
    },
    {
      "cell_type": "markdown",
      "metadata": {
        "id": "tEbRDHGlku0r"
      },
      "source": [
        "##データの仕様"
      ]
    },
    {
      "cell_type": "code",
      "metadata": {
        "id": "y-SMSh_TkVjG"
      },
      "source": [
        "## フォーマットの設定\n",
        "class video_format:\n",
        "  # 想定された入力CMデータの仕様\n",
        "  playtime = \"15秒\"\n",
        "  displaysize = \"(any, any, RGB)\"\n",
        "  videoformat = \"any\"\n",
        "  # モデルが扱うCMデータ(上のようなデータは、下のように変換される)\n",
        "  HEIGHT = 45\n",
        "  WIDTH = 80\n",
        "  FRAME_SIZE = 30\n",
        "  COLORinfo = 3 # \"RGB\"\n",
        "  FPS = \"2 (FRAME_SIZE / playtime)\" # 定義ではなく上から計算される値"
      ],
      "execution_count": 5,
      "outputs": []
    },
    {
      "cell_type": "markdown",
      "metadata": {
        "id": "MnSHYRFpKdfa"
      },
      "source": [
        "# 学習データの用意"
      ]
    },
    {
      "cell_type": "code",
      "metadata": {
        "colab": {
          "base_uri": "https://localhost:8080/"
        },
        "id": "00VyH9N3Kl8h",
        "outputId": "b20b556d-fc28-4dcb-a20b-2f4747d213a3"
      },
      "source": [
        "## gdrive 接続\n",
        "if not path.exists('/content/drive'):\n",
        "  drive.mount('/content/drive')\n",
        "else:\n",
        "  print(\"Already confirm\")\n",
        "\n",
        "## colab テンポラリディレクトリの作成\n",
        "desk = '/content/desk'\n",
        "if not os.path.exists(desk):\n",
        "  os.mkdir(desk)\n",
        "os.chdir(desk)\n",
        "print(\"Created at /content/desk\")"
      ],
      "execution_count": 6,
      "outputs": [
        {
          "output_type": "stream",
          "text": [
            "Mounted at /content/drive\n",
            "Created at /content/desk\n"
          ],
          "name": "stdout"
        }
      ]
    },
    {
      "cell_type": "code",
      "metadata": {
        "id": "LjO2EXNfnW1i"
      },
      "source": [
        "learning_data_path = \"/content/drive/MyDrive/colab/cleaned_detasets/KTH\""
      ],
      "execution_count": 7,
      "outputs": []
    },
    {
      "cell_type": "code",
      "metadata": {
        "colab": {
          "base_uri": "https://localhost:8080/"
        },
        "id": "UNUgCm4Ina0K",
        "outputId": "df2f7482-9399-4266-c56d-f358006799c2"
      },
      "source": [
        "if path.isdir(learning_data_path):\n",
        "  print(\"actually exist the\", learning_data_path)\n",
        "  for each_data in os.listdir(learning_data_path):\n",
        "    if re.match(r\"Data.*\\.npz\", each_data):\n",
        "      print(\"________|------------ reading [\", each_data, \"] as learning data.\")\n",
        "      learning_data_np = np.load(path.join(learning_data_path, each_data))\n",
        "    elif re.match(r\"Label.*\\.npz\", each_data):\n",
        "      print(\"________|------------ reading [\", each_data, \"] as label data.\")\n",
        "      label_data_np = np.load(path.join(learning_data_path, each_data))\n",
        "    else:\n",
        "      print(\"Not reading such data\", each_data)\n",
        "else:\n",
        "  print(\"no such path\")\n"
      ],
      "execution_count": 8,
      "outputs": [
        {
          "output_type": "stream",
          "text": [
            "actually exist the /content/drive/MyDrive/colab/cleaned_detasets/KTH\n",
            "Not reading such data .ipynb_checkpoints\n",
            "________|------------ reading [ Data_of_KTH.npz ] as learning data.\n",
            "________|------------ reading [ Label_of_KTH.npz ] as label data.\n"
          ],
          "name": "stdout"
        }
      ]
    },
    {
      "cell_type": "code",
      "metadata": {
        "id": "yBPqzDUMqokn"
      },
      "source": [
        "learning_data = []\n",
        "label_data = []\n",
        "for i in learning_data_np.files:\n",
        "  learning_data.append(learning_data_np[i])\n",
        "for i in label_data_np.files:\n",
        "  label_data.append(label_data_np[i])\n",
        "\n",
        "learning_data = np.array(learning_data)\n",
        "label_data = np.array(label_data)\n",
        "label_data = tf.keras.utils.to_categorical(label_data, 4)"
      ],
      "execution_count": 9,
      "outputs": []
    },
    {
      "cell_type": "markdown",
      "metadata": {
        "id": "7HzCVZtzp4d1"
      },
      "source": [
        "## 訓練データとテストデータとで分割"
      ]
    },
    {
      "cell_type": "code",
      "metadata": {
        "id": "eHeiuRSl2ATW"
      },
      "source": [
        "from sklearn.model_selection import train_test_split\n",
        "X_train, X_test, Y_train, Y_test = train_test_split(learning_data, label_data, random_state=20200120, train_size=(1-TEST_DATA_RATE))"
      ],
      "execution_count": 11,
      "outputs": []
    },
    {
      "cell_type": "markdown",
      "metadata": {
        "id": "4DoTGxOV5Ach"
      },
      "source": [
        "## テストデータに意図的なノイズを加える(実験のために)"
      ]
    },
    {
      "cell_type": "code",
      "metadata": {
        "id": "EXMxF1H-645e"
      },
      "source": [
        "import random\n",
        "def rand_ints_nodup(a, b, k):\n",
        "  ns = []\n",
        "  while len(ns) < k:\n",
        "    n = random.randint(a, b)\n",
        "    if not n in ns:\n",
        "      ns.append(n)\n",
        "  return ns\n",
        "def changed_number(original_num, set_min, set_max):\n",
        "  while True:\n",
        "    tmpRndVal = random.randint(set_min, set_max)\n",
        "    if original_num != tmpRndVal:\n",
        "      return tmpRndVal"
      ],
      "execution_count": 13,
      "outputs": []
    },
    {
      "cell_type": "code",
      "metadata": {
        "colab": {
          "base_uri": "https://localhost:8080/"
        },
        "id": "O6rf5RcI7AzI",
        "outputId": "b4b396b8-c615-4135-8892-346a4e7ee236"
      },
      "source": [
        "changed_label_number_for_experiment = int(len(Y_test) * LABEL_NOISE_RATE)\n",
        "change_points = rand_ints_nodup(0, len(Y_test)-1, changed_label_number_for_experiment )\n",
        "print(\"change map:\", sorted(change_points))\n",
        "print(\"the size:\", len(change_points))\n",
        "\n",
        "set_min = np.min(Y_test)\n",
        "set_max = np.max(Y_test)\n",
        "if LABEL_NOISE_RATE != 0:\n",
        "  for i in range(len(Y_test)):\n",
        "    if i in change_points:\n",
        "      print(\"No.\", i, \", original number is\", Y_test[i], end=\" -> \")\n",
        "      Y_test[i] = changed_number(Y_test[i], set_min, set_max)\n",
        "      print(\"changed number is\", Y_test[i])\n",
        "    else:\n",
        "      print(\"error\")\n",
        "      break\n",
        "else:\n",
        "  print(\"No label noizes\")\n",
        "  "
      ],
      "execution_count": 14,
      "outputs": [
        {
          "output_type": "stream",
          "text": [
            "change map: []\n",
            "the size: 0\n",
            "No label noizes\n"
          ],
          "name": "stdout"
        }
      ]
    },
    {
      "cell_type": "markdown",
      "metadata": {
        "id": "CAjtSgxaGvBz"
      },
      "source": [
        "# 学習開始"
      ]
    },
    {
      "cell_type": "code",
      "metadata": {
        "colab": {
          "base_uri": "https://localhost:8080/"
        },
        "id": "LXCHuDWpGxz-",
        "outputId": "05e7fe5a-dd8b-4b1b-b231-583f01df3fa7"
      },
      "source": [
        "%%time\n",
        "obj_video_format = video_format()\n",
        "\n",
        "histories = []\n",
        "for i, each_loss in enumerate(learningDict[\"compared_losses\"]):\n",
        "  print(\"try\", each_loss)\n",
        "  send_line_notify('学習開始 ' + str(i+1) + \"/\" + str(each_loss))\n",
        "\n",
        "  try:\n",
        "    # モデル構築\n",
        "    model = make_model(obj_video_format)\n",
        "    model.compile(\n",
        "          optimizer=compile_optimizer(),\n",
        "          loss=each_loss,\n",
        "          metrics=['acc'])\n",
        "    # 実行\n",
        "    \n",
        "    history = model.fit(\n",
        "          X_train, Y_train,\n",
        "          validation_data=(X_test, Y_test),\n",
        "          batch_size=learningDict[\"theWay\"][\"batch_size\"],\n",
        "          epochs=learningDict[\"theWay\"][\"epochs\"]\n",
        "          # verbose=0\n",
        "          )\n",
        "  except KeyboardInterrupt: \n",
        "    del model\n",
        "    keras.backend.clear_session()\n",
        "    gc.collect()\n",
        "    print(\"\\n\\nProcessed the KeyboardInterrupt\")\n",
        "    print(\" and the model is erased.\")\n",
        "\n",
        "  histories.append(history)\n",
        "  print(\"Complete.\")\n",
        "  send_line_notify('学習完了 ' + str(i+1) + \"/\" + str(each_loss))\n",
        "\n",
        "  sleep(5)\n",
        "  del model\n",
        "  keras.backend.clear_session()\n",
        "  gc.collect()"
      ],
      "execution_count": null,
      "outputs": [
        {
          "output_type": "stream",
          "text": [
            "try <tensorflow.python.keras.losses.MeanAbsoluteError object at 0x7f71cf8bd518>\n",
            "sgd is used as a optimizer\n",
            "Epoch 1/128\n",
            "10/10 [==============================] - 4s 373ms/step - loss: 0.3766 - acc: 0.2514 - val_loss: 0.3807 - val_acc: 0.2200\n",
            "Epoch 2/128\n",
            "10/10 [==============================] - 3s 351ms/step - loss: 0.3745 - acc: 0.2556 - val_loss: 0.3853 - val_acc: 0.2200\n",
            "Epoch 3/128\n",
            "10/10 [==============================] - 3s 351ms/step - loss: 0.3700 - acc: 0.2549 - val_loss: 0.3864 - val_acc: 0.2200\n",
            "Epoch 4/128\n",
            "10/10 [==============================] - 4s 354ms/step - loss: 0.3731 - acc: 0.2495 - val_loss: 0.3832 - val_acc: 0.2200\n",
            "Epoch 5/128\n",
            "10/10 [==============================] - 3s 353ms/step - loss: 0.3516 - acc: 0.3085 - val_loss: 0.3795 - val_acc: 0.2200\n",
            "Epoch 6/128\n",
            "10/10 [==============================] - 3s 353ms/step - loss: 0.3564 - acc: 0.2727 - val_loss: 0.3779 - val_acc: 0.2200\n",
            "Epoch 7/128\n",
            "10/10 [==============================] - 3s 351ms/step - loss: 0.3588 - acc: 0.2529 - val_loss: 0.3759 - val_acc: 0.2200\n",
            "Epoch 8/128\n",
            "10/10 [==============================] - 4s 353ms/step - loss: 0.3541 - acc: 0.3005 - val_loss: 0.3650 - val_acc: 0.2400\n",
            "Epoch 9/128\n",
            "10/10 [==============================] - 4s 356ms/step - loss: 0.3260 - acc: 0.4084 - val_loss: 0.3396 - val_acc: 0.4300\n",
            "Epoch 10/128\n",
            "10/10 [==============================] - 4s 367ms/step - loss: 0.3108 - acc: 0.4297 - val_loss: 0.3694 - val_acc: 0.2400\n",
            "Epoch 11/128\n",
            "10/10 [==============================] - 3s 353ms/step - loss: 0.3029 - acc: 0.4118 - val_loss: 0.3559 - val_acc: 0.2400\n",
            "Epoch 12/128\n",
            "10/10 [==============================] - 3s 353ms/step - loss: 0.2898 - acc: 0.4431 - val_loss: 0.3129 - val_acc: 0.4400\n",
            "Epoch 13/128\n",
            "10/10 [==============================] - 3s 351ms/step - loss: 0.2765 - acc: 0.4780 - val_loss: 0.2935 - val_acc: 0.4400\n",
            "Epoch 14/128\n",
            "10/10 [==============================] - 3s 353ms/step - loss: 0.2569 - acc: 0.5005 - val_loss: 0.2893 - val_acc: 0.4400\n",
            "Epoch 15/128\n",
            "10/10 [==============================] - 3s 353ms/step - loss: 0.2490 - acc: 0.5223 - val_loss: 0.2914 - val_acc: 0.4400\n",
            "Epoch 16/128\n",
            "10/10 [==============================] - 3s 351ms/step - loss: 0.2391 - acc: 0.5411 - val_loss: 0.2842 - val_acc: 0.4400\n",
            "Epoch 17/128\n",
            "10/10 [==============================] - 4s 355ms/step - loss: 0.2474 - acc: 0.5093 - val_loss: 0.2839 - val_acc: 0.4400\n",
            "Epoch 18/128\n",
            "10/10 [==============================] - 3s 352ms/step - loss: 0.2567 - acc: 0.4896 - val_loss: 0.2829 - val_acc: 0.4400\n",
            "Epoch 19/128\n",
            "10/10 [==============================] - 3s 354ms/step - loss: 0.2362 - acc: 0.5358 - val_loss: 0.2828 - val_acc: 0.4400\n",
            "Epoch 20/128\n",
            "10/10 [==============================] - 4s 357ms/step - loss: 0.2242 - acc: 0.5586 - val_loss: 0.2823 - val_acc: 0.4400\n",
            "Epoch 21/128\n",
            "10/10 [==============================] - 3s 348ms/step - loss: 0.2487 - acc: 0.5088 - val_loss: 0.2814 - val_acc: 0.4400\n",
            "Epoch 22/128\n",
            "10/10 [==============================] - 3s 352ms/step - loss: 0.2484 - acc: 0.5072 - val_loss: 0.2813 - val_acc: 0.4400\n",
            "Epoch 23/128\n",
            "10/10 [==============================] - 3s 353ms/step - loss: 0.2281 - acc: 0.5477 - val_loss: 0.2811 - val_acc: 0.4400\n",
            "Epoch 24/128\n",
            "10/10 [==============================] - 3s 354ms/step - loss: 0.2462 - acc: 0.5104 - val_loss: 0.2809 - val_acc: 0.4400\n",
            "Epoch 25/128\n",
            "10/10 [==============================] - 4s 355ms/step - loss: 0.2452 - acc: 0.5120 - val_loss: 0.2807 - val_acc: 0.4400\n",
            "Epoch 26/128\n",
            "10/10 [==============================] - 3s 351ms/step - loss: 0.2624 - acc: 0.4772 - val_loss: 0.2811 - val_acc: 0.4400\n",
            "Epoch 27/128\n",
            "10/10 [==============================] - 3s 352ms/step - loss: 0.2233 - acc: 0.5548 - val_loss: 0.2807 - val_acc: 0.4400\n",
            "Epoch 28/128\n",
            "10/10 [==============================] - 3s 351ms/step - loss: 0.2420 - acc: 0.5194 - val_loss: 0.2813 - val_acc: 0.4400\n",
            "Epoch 29/128\n",
            "10/10 [==============================] - 4s 364ms/step - loss: 0.2571 - acc: 0.4867 - val_loss: 0.2804 - val_acc: 0.4400\n",
            "Epoch 30/128\n",
            "10/10 [==============================] - 3s 353ms/step - loss: 0.2717 - acc: 0.4579 - val_loss: 0.2803 - val_acc: 0.4400\n",
            "Epoch 31/128\n",
            "10/10 [==============================] - 3s 352ms/step - loss: 0.2465 - acc: 0.5078 - val_loss: 0.2799 - val_acc: 0.4400\n",
            "Epoch 32/128\n",
            "10/10 [==============================] - 4s 354ms/step - loss: 0.2430 - acc: 0.5141 - val_loss: 0.2730 - val_acc: 0.4500\n",
            "Epoch 33/128\n",
            "10/10 [==============================] - 3s 352ms/step - loss: 0.2554 - acc: 0.4977 - val_loss: 0.2583 - val_acc: 0.4900\n",
            "Epoch 34/128\n",
            "10/10 [==============================] - 3s 348ms/step - loss: 0.2791 - acc: 0.4656 - val_loss: 0.2638 - val_acc: 0.4800\n",
            "Epoch 35/128\n",
            "10/10 [==============================] - 3s 352ms/step - loss: 0.2758 - acc: 0.4651 - val_loss: 0.2559 - val_acc: 0.4900\n",
            "Epoch 36/128\n",
            "10/10 [==============================] - 3s 353ms/step - loss: 0.2716 - acc: 0.4649 - val_loss: 0.2546 - val_acc: 0.4900\n",
            "Epoch 37/128\n",
            "10/10 [==============================] - 3s 353ms/step - loss: 0.2559 - acc: 0.4951 - val_loss: 0.2536 - val_acc: 0.5000\n",
            "Epoch 38/128\n",
            "10/10 [==============================] - 3s 352ms/step - loss: 0.2649 - acc: 0.4701 - val_loss: 0.2526 - val_acc: 0.5000\n",
            "Epoch 39/128\n",
            "10/10 [==============================] - 4s 353ms/step - loss: 0.2487 - acc: 0.5041 - val_loss: 0.2510 - val_acc: 0.5000\n",
            "Epoch 40/128\n",
            "10/10 [==============================] - 3s 351ms/step - loss: 0.2722 - acc: 0.4639 - val_loss: 0.2512 - val_acc: 0.5000\n",
            "Epoch 41/128\n",
            "10/10 [==============================] - 3s 353ms/step - loss: 0.2612 - acc: 0.4790 - val_loss: 0.2495 - val_acc: 0.5000\n",
            "Epoch 42/128\n",
            "10/10 [==============================] - 4s 355ms/step - loss: 0.2650 - acc: 0.4712 - val_loss: 0.2556 - val_acc: 0.4600\n",
            "Epoch 43/128\n",
            "10/10 [==============================] - 4s 355ms/step - loss: 0.2179 - acc: 0.5914 - val_loss: 0.2187 - val_acc: 0.5900\n",
            "Epoch 44/128\n",
            "10/10 [==============================] - 4s 356ms/step - loss: 0.2212 - acc: 0.5768 - val_loss: 0.2078 - val_acc: 0.6200\n",
            "Epoch 45/128\n",
            "10/10 [==============================] - 4s 354ms/step - loss: 0.1836 - acc: 0.6634 - val_loss: 0.2268 - val_acc: 0.5500\n",
            "Epoch 46/128\n",
            "10/10 [==============================] - 3s 353ms/step - loss: 0.1899 - acc: 0.6482 - val_loss: 0.2159 - val_acc: 0.5800\n",
            "Epoch 47/128\n",
            "10/10 [==============================] - 4s 354ms/step - loss: 0.1714 - acc: 0.6679 - val_loss: 0.2163 - val_acc: 0.6100\n",
            "Epoch 48/128\n",
            "10/10 [==============================] - 4s 363ms/step - loss: 0.1836 - acc: 0.6404 - val_loss: 0.2323 - val_acc: 0.5300\n",
            "Epoch 49/128\n",
            "10/10 [==============================] - 3s 351ms/step - loss: 0.2102 - acc: 0.5796 - val_loss: 0.2793 - val_acc: 0.4400\n",
            "Epoch 50/128\n",
            "10/10 [==============================] - 3s 351ms/step - loss: 0.2358 - acc: 0.5283 - val_loss: 0.2793 - val_acc: 0.4400\n",
            "Epoch 51/128\n",
            "10/10 [==============================] - 3s 353ms/step - loss: 0.2370 - acc: 0.5244 - val_loss: 0.2773 - val_acc: 0.4400\n",
            "Epoch 52/128\n",
            "10/10 [==============================] - 3s 349ms/step - loss: 0.2391 - acc: 0.5169 - val_loss: 0.2598 - val_acc: 0.4700\n",
            "Epoch 53/128\n",
            "10/10 [==============================] - 3s 351ms/step - loss: 0.2209 - acc: 0.5726 - val_loss: 0.2035 - val_acc: 0.6000\n",
            "Epoch 54/128\n",
            "10/10 [==============================] - 3s 352ms/step - loss: 0.1863 - acc: 0.6449 - val_loss: 0.1959 - val_acc: 0.6400\n",
            "Epoch 55/128\n",
            "10/10 [==============================] - 4s 354ms/step - loss: 0.1602 - acc: 0.7022 - val_loss: 0.1887 - val_acc: 0.6200\n",
            "Epoch 56/128\n",
            "10/10 [==============================] - 4s 355ms/step - loss: 0.1449 - acc: 0.7253 - val_loss: 0.1939 - val_acc: 0.6400\n",
            "Epoch 57/128\n",
            "10/10 [==============================] - 3s 353ms/step - loss: 0.1608 - acc: 0.7032 - val_loss: 0.1850 - val_acc: 0.6700\n",
            "Epoch 58/128\n",
            "10/10 [==============================] - 3s 353ms/step - loss: 0.1508 - acc: 0.7163 - val_loss: 0.1838 - val_acc: 0.6300\n",
            "Epoch 59/128\n",
            "10/10 [==============================] - 3s 351ms/step - loss: 0.1179 - acc: 0.7847 - val_loss: 0.1677 - val_acc: 0.6800\n",
            "Epoch 60/128\n",
            "10/10 [==============================] - 3s 352ms/step - loss: 0.1078 - acc: 0.7987 - val_loss: 0.1656 - val_acc: 0.7000\n",
            "Epoch 61/128\n",
            "10/10 [==============================] - 3s 351ms/step - loss: 0.1053 - acc: 0.8217 - val_loss: 0.1612 - val_acc: 0.6900\n",
            "Epoch 62/128\n",
            "10/10 [==============================] - 3s 353ms/step - loss: 0.0928 - acc: 0.8357 - val_loss: 0.1647 - val_acc: 0.6900\n",
            "Epoch 63/128\n",
            "10/10 [==============================] - 3s 352ms/step - loss: 0.0709 - acc: 0.8889 - val_loss: 0.1543 - val_acc: 0.7000\n",
            "Epoch 64/128\n",
            "10/10 [==============================] - 3s 349ms/step - loss: 0.0688 - acc: 0.8940 - val_loss: 0.1578 - val_acc: 0.6900\n",
            "Epoch 65/128\n",
            "10/10 [==============================] - 3s 353ms/step - loss: 0.0671 - acc: 0.8865 - val_loss: 0.1524 - val_acc: 0.7000\n",
            "Epoch 66/128\n",
            "10/10 [==============================] - 4s 365ms/step - loss: 0.0528 - acc: 0.9078 - val_loss: 0.1520 - val_acc: 0.7200\n",
            "Epoch 67/128\n",
            "10/10 [==============================] - 3s 351ms/step - loss: 0.0596 - acc: 0.9008 - val_loss: 0.1471 - val_acc: 0.7500\n",
            "Epoch 68/128\n",
            "10/10 [==============================] - 3s 352ms/step - loss: 0.0429 - acc: 0.9241 - val_loss: 0.1514 - val_acc: 0.6900\n",
            "Epoch 69/128\n",
            "10/10 [==============================] - 3s 352ms/step - loss: 0.0335 - acc: 0.9521 - val_loss: 0.1508 - val_acc: 0.7300\n",
            "Epoch 70/128\n",
            "10/10 [==============================] - 4s 354ms/step - loss: 0.0495 - acc: 0.9257 - val_loss: 0.1407 - val_acc: 0.7300\n",
            "Epoch 71/128\n",
            "10/10 [==============================] - 3s 350ms/step - loss: 0.0264 - acc: 0.9607 - val_loss: 0.1414 - val_acc: 0.7500\n",
            "Epoch 72/128\n",
            "10/10 [==============================] - 4s 356ms/step - loss: 0.0289 - acc: 0.9573 - val_loss: 0.1477 - val_acc: 0.7000\n",
            "Epoch 73/128\n",
            "10/10 [==============================] - 4s 355ms/step - loss: 0.0237 - acc: 0.9660 - val_loss: 0.1363 - val_acc: 0.7500\n",
            "Epoch 74/128\n",
            "10/10 [==============================] - 3s 354ms/step - loss: 0.0200 - acc: 0.9753 - val_loss: 0.1430 - val_acc: 0.6900\n",
            "Epoch 75/128\n",
            "10/10 [==============================] - 4s 355ms/step - loss: 0.0227 - acc: 0.9631 - val_loss: 0.1525 - val_acc: 0.7100\n",
            "Epoch 76/128\n",
            "10/10 [==============================] - 4s 354ms/step - loss: 0.0214 - acc: 0.9767 - val_loss: 0.1384 - val_acc: 0.7500\n",
            "Epoch 77/128\n",
            "10/10 [==============================] - 4s 354ms/step - loss: 0.0213 - acc: 0.9681 - val_loss: 0.1376 - val_acc: 0.7500\n",
            "Epoch 78/128\n",
            "10/10 [==============================] - 4s 355ms/step - loss: 0.0102 - acc: 0.9850 - val_loss: 0.1441 - val_acc: 0.7200\n",
            "Epoch 79/128\n",
            "10/10 [==============================] - 4s 355ms/step - loss: 0.0233 - acc: 0.9590 - val_loss: 0.1428 - val_acc: 0.7200\n",
            "Epoch 80/128\n",
            "10/10 [==============================] - 3s 350ms/step - loss: 0.0178 - acc: 0.9693 - val_loss: 0.1407 - val_acc: 0.7200\n",
            "Epoch 81/128\n",
            "10/10 [==============================] - 4s 353ms/step - loss: 0.0138 - acc: 0.9755 - val_loss: 0.1412 - val_acc: 0.7300\n",
            "Epoch 82/128\n",
            "10/10 [==============================] - 4s 356ms/step - loss: 0.0140 - acc: 0.9751 - val_loss: 0.1438 - val_acc: 0.7200\n",
            "Epoch 83/128\n",
            "10/10 [==============================] - 3s 351ms/step - loss: 0.0153 - acc: 0.9704 - val_loss: 0.1406 - val_acc: 0.7300\n",
            "Epoch 84/128\n",
            "10/10 [==============================] - 4s 365ms/step - loss: 0.0144 - acc: 0.9756 - val_loss: 0.1393 - val_acc: 0.7400\n",
            "Epoch 85/128\n",
            "10/10 [==============================] - 4s 354ms/step - loss: 0.0146 - acc: 0.9742 - val_loss: 0.1390 - val_acc: 0.7300\n",
            "Epoch 86/128\n"
          ],
          "name": "stdout"
        }
      ]
    }
  ]
}