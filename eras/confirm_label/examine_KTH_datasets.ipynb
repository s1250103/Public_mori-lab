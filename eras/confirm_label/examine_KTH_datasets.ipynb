{
  "nbformat": 4,
  "nbformat_minor": 0,
  "metadata": {
    "colab": {
      "name": "examine_KTH_datasets.ipynb",
      "provenance": [],
      "toc_visible": true,
      "authorship_tag": "ABX9TyMGhPlGRD/mXq4oy5nbD0gg",
      "include_colab_link": true
    },
    "kernelspec": {
      "name": "python3",
      "display_name": "Python 3"
    },
    "accelerator": "GPU"
  },
  "cells": [
    {
      "cell_type": "markdown",
      "metadata": {
        "id": "view-in-github",
        "colab_type": "text"
      },
      "source": [
        "<a href=\"https://colab.research.google.com/github/s1250103/Public_mori-lab/blob/confirm_label_noize_for_cm_data/eras/confirm_label/examine_KTH_datasets.ipynb\" target=\"_parent\"><img src=\"https://colab.research.google.com/assets/colab-badge.svg\" alt=\"Open In Colab\"/></a>"
      ]
    },
    {
      "cell_type": "markdown",
      "metadata": {
        "id": "bn8mY7TNKCVG"
      },
      "source": [
        "#環境設定"
      ]
    },
    {
      "cell_type": "code",
      "metadata": {
        "id": "7jJi-oO2J_on"
      },
      "source": [
        "%tensorflow_version 2.x\n",
        "\n",
        "## import\n",
        "# file dealing\n",
        "import os\n",
        "from os import path\n",
        "\n",
        "import shutil\n",
        "from google.colab import drive\n",
        "import datetime\n",
        "# data dealing\n",
        "import numpy as np\n",
        "import pandas as pd\n",
        "from pandas import DataFrame\n",
        "import matplotlib.pyplot as plt\n",
        "# process deasing\n",
        "import gc\n",
        "from time import sleep\n",
        "\n",
        "# machine learning (back)\n",
        "import tensorflow as tf\n",
        "from tensorflow.keras.utils import plot_model\n",
        "from tensorflow.keras import layers, models, initializers, callbacks\n",
        "\n",
        "# machine learning\n",
        "import keras\n",
        "from keras.datasets import mnist\n",
        "from keras.models import Sequential\n",
        "from keras.layers import Dense, Activation, Dropout\n",
        "from keras.utils.np_utils import to_categorical\n",
        "\n",
        "import json\n",
        "from collections import OrderedDict\n",
        "import pprint\n",
        "import re\n",
        "import requests"
      ],
      "execution_count": 1,
      "outputs": []
    },
    {
      "cell_type": "code",
      "metadata": {
        "id": "vxGMERAvX3P8"
      },
      "source": [
        "def send_line_notify(notification_message):\n",
        "    \"\"\"\n",
        "    LINEに通知する\n",
        "    \"\"\"\n",
        "    line_notify_token = 'cHdELzsau6ve8hNVL3FxPz65Jdyquzuj2kd021u8q1L'\n",
        "    line_notify_api = 'https://notify-api.line.me/api/notify'\n",
        "    headers = {'Authorization': f'Bearer {line_notify_token}'}\n",
        "    data = {'message': notification_message}\n",
        "    requests.post(line_notify_api, headers = headers, data = data)"
      ],
      "execution_count": 2,
      "outputs": []
    },
    {
      "cell_type": "markdown",
      "metadata": {
        "id": "CemsuBxCnpSD"
      },
      "source": [
        "# 実験条件（外乱）を定める"
      ]
    },
    {
      "cell_type": "code",
      "metadata": {
        "id": "eXCV5Urc5PUH"
      },
      "source": [
        "LABEL_NOISE_RATE = 0\n",
        "TEST_DATA_RATE = 0.25\n",
        "EXPERIMENTS_NUMBER = 6"
      ],
      "execution_count": 14,
      "outputs": []
    },
    {
      "cell_type": "markdown",
      "metadata": {
        "id": "-FH7fepQ6Fo1"
      },
      "source": [
        "#学習条件を定める"
      ]
    },
    {
      "cell_type": "markdown",
      "metadata": {
        "id": "UScShR1lmM_U"
      },
      "source": [
        "##学習手法の仕様"
      ]
    },
    {
      "cell_type": "code",
      "metadata": {
        "id": "qUl9mQXfk7eS"
      },
      "source": [
        "seed = 20201218\n",
        "\n",
        "learningDict = {\n",
        "    \"optimizer\" : {\n",
        "        \"this.optimizer\" : \"sgd\",\n",
        "        \"learning_rate\" : 0.01,\n",
        "        \"momentum\" : 0.9,\n",
        "        \"decay\" : 1e-4,\n",
        "        \"nesterov\" : True\n",
        "    },\n",
        "    \"theWay\" : {\n",
        "        \"batch_size\" : 32,\n",
        "        \"epochs\" : 128,\n",
        "    },\n",
        "    \"compared_losses\" : [\n",
        "                         tf.keras.losses.CategoricalCrossentropy(),\n",
        "                         tf.keras.losses.MeanSquaredError(), \n",
        "                         tf.keras.losses.MeanAbsoluteError(),\n",
        "                        #  tf.keras.losses.SquaredHinge()               \n",
        "    ]\n",
        "}\n",
        "\n",
        "# learningDict = {\n",
        "#     \"optimizer\" : {\n",
        "#         \"this.optimizer\" : \"adam\",\n",
        "#         \"learning_rate\" : 0.001,\n",
        "#         \"epsilon\" : 1e-8,\n",
        "#         \"beta_1\" : 0.9,\n",
        "#         \"beta_2\" : 0.999\n",
        "#     },\n",
        "#     \"theWay\" : {\n",
        "#         \"batch_size\" : 32,\n",
        "#         \"epochs\" : 128,\n",
        "#     },\n",
        "#     \"compared_losses\" : [\n",
        "#                         tf.keras.losses.MeanAbsoluteError(),\n",
        "#     ]\n",
        "# }\n",
        "\n",
        "def compile_optimizer():\n",
        "  # 最適化処理 (adamのみ対応)\n",
        "  if learningDict[\"optimizer\"][\"this.optimizer\"] == \"adam\":\n",
        "    optimizer = keras.optimizers.Adam(\n",
        "        lr=learningDict[\"optimizer\"][\"learning_rate\"],\n",
        "        epsilon=learningDict[\"optimizer\"][\"epsilon\"],\n",
        "        beta_1=learningDict[\"optimizer\"][\"beta_1\"],\n",
        "        beta_2=learningDict[\"optimizer\"][\"beta_2\"])\n",
        "    print(\"adam is used as a optimizer\")\n",
        "\n",
        "  elif learningDict[\"optimizer\"][\"this.optimizer\"] == \"Nadam\":\n",
        "    optimizer = keras.optimizers.Nadam(\n",
        "        lr=learningDict[\"optimizer\"][\"learning_rate\"],\n",
        "        beta_1=learningDict[\"optimizer\"][\"beta_1\"],\n",
        "        beta_2=learningDict[\"optimizer\"][\"beta_2\"],\n",
        "        epsilon=None, \n",
        "        schedule_decay=0.4)\n",
        "    print(\"Nadam is used as a optimizer\")\n",
        "\n",
        "  elif learningDict[\"optimizer\"][\"this.optimizer\"] == \"sgd\":\n",
        "    optimizer = keras.optimizers.SGD(\n",
        "        lr=learningDict[\"optimizer\"][\"learning_rate\"],\n",
        "        momentum=learningDict[\"optimizer\"][\"momentum\"],\n",
        "        decay=learningDict[\"optimizer\"][\"decay\"],\n",
        "        nesterov=learningDict[\"optimizer\"][\"nesterov\"]) \n",
        "    print(\"sgd is used as a optimizer\")\n",
        "  else:\n",
        "    print(\"error\")\n",
        "  \n",
        "  return optimizer"
      ],
      "execution_count": 25,
      "outputs": []
    },
    {
      "cell_type": "markdown",
      "metadata": {
        "id": "pXCt9_EOhkSt"
      },
      "source": [
        "## モデルの仕様（ニューラルネットワーク）\n",
        "<ul>\n",
        "  <li>入力層(フレームサイズ, フレームの高さ, フレームの横幅, RGB情報) </li>\n",
        "  <li>出力層(予測値) </li>\n",
        "  <li> 中間層 \n",
        "    <ol>\n",
        "      <li>conv0</li>\n",
        "      <li>pool0</li>\n",
        "      <li>conv1</li>\n",
        "      <li>pool1</li>\n",
        "      <li>dence0</li>\n",
        "  </li>\n",
        "</ui>"
      ]
    },
    {
      "cell_type": "code",
      "metadata": {
        "id": "xeda9UgKf23z"
      },
      "source": [
        "def make_model(video_format):\n",
        "  # モデル作成\n",
        "  model = models.Sequential()\n",
        "  # 入力層\n",
        "  model.add(\n",
        "      layers.Reshape(\n",
        "          (video_format.FRAME_SIZE,\n",
        "          video_format.HEIGHT,\n",
        "          video_format.WIDTH,\n",
        "          video_format.COLORinfo),\n",
        "          input_shape=(video_format.FRAME_SIZE * video_format.HEIGHT * video_format.WIDTH * video_format.COLORinfo,),\n",
        "          name='Input_Layer' )\n",
        "  )\n",
        "  # 畳み込み0\n",
        "  model.add(\n",
        "      layers.Conv3D(\n",
        "          filters=32,\n",
        "          kernel_size=(3, 3, 3),\n",
        "          strides=(1, 1, 1),\n",
        "          padding='same',\n",
        "          activation='relu',\n",
        "          name='conv0'))\n",
        "  # pool0\n",
        "  model.add(\n",
        "      layers.MaxPooling3D(pool_size=(2, 2, 2), name='pool0'))\n",
        "\n",
        "  # 畳み込み1\n",
        "  model.add(\n",
        "      layers.Conv3D(\n",
        "          filters=32,\n",
        "          kernel_size=(3, 3, 3),\n",
        "          strides=(1, 1, 1),\n",
        "          padding='same',\n",
        "          activation='relu',\n",
        "          name='conv1'))\n",
        "  # pool1\n",
        "  model.add(\n",
        "      layers.MaxPooling3D(pool_size=(2, 2, 2), name='pool1'))\n",
        "\n",
        "  ## 全結合0\n",
        "  model.add(\n",
        "      layers.Flatten(name='pipe'),\n",
        "  )\n",
        "  model.add(\n",
        "      layers.Dense(1024,\n",
        "        activation='relu',\n",
        "        name='dence0' ),\n",
        "  )\n",
        "  # 出力層\n",
        "  model.add(\n",
        "      layers.Dense(4, activation='softmax', name='WATERSUPPLY')\n",
        "  )\n",
        "  return model\n"
      ],
      "execution_count": 5,
      "outputs": []
    },
    {
      "cell_type": "markdown",
      "metadata": {
        "id": "tEbRDHGlku0r"
      },
      "source": [
        "##データの仕様"
      ]
    },
    {
      "cell_type": "code",
      "metadata": {
        "id": "y-SMSh_TkVjG"
      },
      "source": [
        "## フォーマットの設定\n",
        "class video_format:\n",
        "  # 想定された入力CMデータの仕様\n",
        "  playtime = \"15秒\"\n",
        "  displaysize = \"(any, any, RGB)\"\n",
        "  videoformat = \"any\"\n",
        "  # モデルが扱うCMデータ(上のようなデータは、下のように変換される)\n",
        "  HEIGHT = 45\n",
        "  WIDTH = 80\n",
        "  FRAME_SIZE = 30\n",
        "  COLORinfo = 3 # \"RGB\"\n",
        "  FPS = \"2 (FRAME_SIZE / playtime)\" # 定義ではなく上から計算される値"
      ],
      "execution_count": 6,
      "outputs": []
    },
    {
      "cell_type": "markdown",
      "metadata": {
        "id": "MnSHYRFpKdfa"
      },
      "source": [
        "# 学習データの用意"
      ]
    },
    {
      "cell_type": "code",
      "metadata": {
        "colab": {
          "base_uri": "https://localhost:8080/"
        },
        "id": "00VyH9N3Kl8h",
        "outputId": "1b043109-9138-4c7e-f225-0fd378233478"
      },
      "source": [
        "## gdrive 接続\n",
        "if not path.exists('/content/drive'):\n",
        "  drive.mount('/content/drive')\n",
        "else:\n",
        "  print(\"Already confirm\")\n",
        "\n",
        "## colab テンポラリディレクトリの作成\n",
        "desk = '/content/desk'\n",
        "if not os.path.exists(desk):\n",
        "  os.mkdir(desk)\n",
        "os.chdir(desk)\n",
        "print(\"Created at /content/desk\")"
      ],
      "execution_count": 7,
      "outputs": [
        {
          "output_type": "stream",
          "text": [
            "Mounted at /content/drive\n",
            "Created at /content/desk\n"
          ],
          "name": "stdout"
        }
      ]
    },
    {
      "cell_type": "code",
      "metadata": {
        "id": "LjO2EXNfnW1i"
      },
      "source": [
        "learning_data_path = \"/content/drive/MyDrive/colab/cleaned_detasets/KTH\""
      ],
      "execution_count": 8,
      "outputs": []
    },
    {
      "cell_type": "code",
      "metadata": {
        "colab": {
          "base_uri": "https://localhost:8080/"
        },
        "id": "UNUgCm4Ina0K",
        "outputId": "bfd1dae1-fd8b-47f8-80cc-f3f5c564c7e8"
      },
      "source": [
        "if path.isdir(learning_data_path):\n",
        "  print(\"actually exist the\", learning_data_path)\n",
        "  for each_data in os.listdir(learning_data_path):\n",
        "    if re.match(r\"Data.*\\.npz\", each_data):\n",
        "      print(\"________|------------ reading [\", each_data, \"] as learning data.\")\n",
        "      learning_data_np = np.load(path.join(learning_data_path, each_data))\n",
        "    elif re.match(r\"Label.*\\.npz\", each_data):\n",
        "      print(\"________|------------ reading [\", each_data, \"] as label data.\")\n",
        "      label_data_np = np.load(path.join(learning_data_path, each_data))\n",
        "    else:\n",
        "      print(\"Not reading such data\", each_data)\n",
        "else:\n",
        "  print(\"no such path\")\n"
      ],
      "execution_count": 9,
      "outputs": [
        {
          "output_type": "stream",
          "text": [
            "actually exist the /content/drive/MyDrive/colab/cleaned_detasets/KTH\n",
            "Not reading such data .ipynb_checkpoints\n",
            "________|------------ reading [ Data_of_KTH.npz ] as learning data.\n",
            "________|------------ reading [ Label_of_KTH.npz ] as label data.\n"
          ],
          "name": "stdout"
        }
      ]
    },
    {
      "cell_type": "code",
      "metadata": {
        "id": "yBPqzDUMqokn"
      },
      "source": [
        "learning_data = []\n",
        "label_data = []\n",
        "for i in learning_data_np.files:\n",
        "  learning_data.append(learning_data_np[i])\n",
        "for i in label_data_np.files:\n",
        "  label_data.append(label_data_np[i])\n",
        "\n",
        "learning_data = np.array(learning_data)\n",
        "label_data = np.array(label_data)\n",
        "label_data = tf.keras.utils.to_categorical(label_data, 4)"
      ],
      "execution_count": 10,
      "outputs": []
    },
    {
      "cell_type": "markdown",
      "metadata": {
        "id": "7HzCVZtzp4d1"
      },
      "source": [
        "## 訓練データとテストデータとで分割"
      ]
    },
    {
      "cell_type": "code",
      "metadata": {
        "id": "eHeiuRSl2ATW"
      },
      "source": [
        "from sklearn.model_selection import train_test_split\n",
        "X_train, X_test, Y_train, Y_test = train_test_split(learning_data, label_data, random_state=20200120, train_size=(1-TEST_DATA_RATE))"
      ],
      "execution_count": 11,
      "outputs": []
    },
    {
      "cell_type": "markdown",
      "metadata": {
        "id": "4DoTGxOV5Ach"
      },
      "source": [
        "## テストデータに意図的なノイズを加える(実験のために)"
      ]
    },
    {
      "cell_type": "code",
      "metadata": {
        "id": "EXMxF1H-645e"
      },
      "source": [
        "import random\n",
        "def rand_ints_nodup(a, b, k):\n",
        "  ns = []\n",
        "  while len(ns) < k:\n",
        "    n = random.randint(a, b)\n",
        "    if not n in ns:\n",
        "      ns.append(n)\n",
        "  return ns\n",
        "def changed_number(original_num, set_min, set_max):\n",
        "  while True:\n",
        "    tmpRndVal = random.randint(set_min, set_max)\n",
        "    if original_num != tmpRndVal:\n",
        "      return tmpRndVal"
      ],
      "execution_count": 12,
      "outputs": []
    },
    {
      "cell_type": "code",
      "metadata": {
        "colab": {
          "base_uri": "https://localhost:8080/"
        },
        "id": "O6rf5RcI7AzI",
        "outputId": "344a12e4-1d6a-401b-b661-c3f60ad47eb4"
      },
      "source": [
        "changed_label_number_for_experiment = int(len(Y_test) * LABEL_NOISE_RATE)\n",
        "change_points = rand_ints_nodup(0, len(Y_test)-1, changed_label_number_for_experiment )\n",
        "print(\"change map:\", sorted(change_points))\n",
        "print(\"the size:\", len(change_points))\n",
        "\n",
        "set_min = np.min(Y_test)\n",
        "set_max = np.max(Y_test)\n",
        "if LABEL_NOISE_RATE != 0:\n",
        "  for i in range(len(Y_test)):\n",
        "    if i in change_points:\n",
        "      print(\"No.\", i, \", original number is\", Y_test[i], end=\" -> \")\n",
        "      Y_test[i] = changed_number(Y_test[i], set_min, set_max)\n",
        "      print(\"changed number is\", Y_test[i])\n",
        "    else:\n",
        "      print(\"error\")\n",
        "      break\n",
        "else:\n",
        "  print(\"No label noizes\")\n",
        "  "
      ],
      "execution_count": 13,
      "outputs": [
        {
          "output_type": "stream",
          "text": [
            "change map: []\n",
            "the size: 0\n",
            "No label noizes\n"
          ],
          "name": "stdout"
        }
      ]
    },
    {
      "cell_type": "markdown",
      "metadata": {
        "id": "CAjtSgxaGvBz"
      },
      "source": [
        "# 学習開始"
      ]
    },
    {
      "cell_type": "code",
      "metadata": {
        "id": "zrxLWQdNZrpU",
        "outputId": "6cf45548-71d5-4036-824e-c3b949428597",
        "colab": {
          "base_uri": "https://localhost:8080/"
        }
      },
      "source": [
        ""
      ],
      "execution_count": 16,
      "outputs": [
        {
          "output_type": "stream",
          "text": [
            "0\n",
            "1\n",
            "2\n",
            "3\n",
            "4\n",
            "5\n"
          ],
          "name": "stdout"
        }
      ]
    },
    {
      "cell_type": "code",
      "metadata": {
        "id": "TP3JzbydcYRv"
      },
      "source": [
        "def fix_loss_text(original):\n",
        "  result = re.sub(r\"<tensorflow\\.python\\.keras\\.losses\\.\", \"\", str(original))\n",
        "  result = re.sub(r\"\\sobject.+\", \"\", result)\n",
        "  return result\n"
      ],
      "execution_count": 78,
      "outputs": []
    },
    {
      "cell_type": "code",
      "metadata": {
        "id": "OZQGLjvFcLRA"
      },
      "source": [
        "used_losses_set = []\n",
        "for each_loss in learningDict[\"compared_losses\"]:\n",
        "  used_losses_set.append(fix_loss_text(each_loss))\n",
        "  \n",
        "    "
      ],
      "execution_count": 84,
      "outputs": []
    },
    {
      "cell_type": "code",
      "metadata": {
        "id": "mlTJnek9iJwN",
        "outputId": "4b7bf998-9432-4729-d95b-630791abdf45",
        "colab": {
          "base_uri": "https://localhost:8080/"
        }
      },
      "source": [
        ""
      ],
      "execution_count": 85,
      "outputs": [
        {
          "output_type": "execute_result",
          "data": {
            "text/plain": [
              "['CategoricalCrossentropy', 'MeanSquaredError', 'MeanAbsoluteError']"
            ]
          },
          "metadata": {
            "tags": []
          },
          "execution_count": 85
        }
      ]
    },
    {
      "cell_type": "code",
      "metadata": {
        "colab": {
          "base_uri": "https://localhost:8080/"
        },
        "id": "LXCHuDWpGxz-",
        "outputId": "2747dcb2-9054-4aaa-8e8e-c28c3956b037"
      },
      "source": [
        "%%time\n",
        "obj_video_format = video_format()\n",
        "all_histories = [] # append EXPERIMENTS_NUMBER * used losses size\n",
        "for j in range(EXPERIMENTS_NUMBER):\n",
        "  seed_in_roop = seed + j\n",
        "  np.random.seed(seed_in_roop)\n",
        "  tf.random.set_seed(seed_in_roop)\n",
        "  massage = \"Start experiment in the No.\" + str(j+1) + \" loop.\"\n",
        "  print(massage)\n",
        "  print(\"also assigned[\", seed_in_roop, \"]as the seed. (the format is integer).\")\n",
        "  print(\"used loss functions\", len(used_losses_set), \"is :\", used_losses_set)\n",
        "  print(\"then notifying to certain line account\")\n",
        "  send_line_notify(massage)\n",
        "  print(\"runnng...\")\n",
        "\n",
        "  roop_histories = [] # append used losses size\n",
        "  for i, each_loss in enumerate(learningDict[\"compared_losses\"]):\n",
        "    massage = \"try \" + fix_loss_text(each_loss) + \"the No.[\" + str(i+1) +\"]\"\n",
        "    print(massage)\n",
        "    send_line_notify(massage)\n",
        "\n",
        "    try:\n",
        "      # モデル構築\n",
        "      model = make_model(obj_video_format)\n",
        "      model.compile(\n",
        "            optimizer=compile_optimizer(),\n",
        "            loss=each_loss,\n",
        "            metrics=['acc'])\n",
        "      # 実行\n",
        "      \n",
        "      history = model.fit(\n",
        "            X_train, Y_train,\n",
        "            validation_data=(X_test, Y_test),\n",
        "            batch_size=learningDict[\"theWay\"][\"batch_size\"],\n",
        "            epochs=learningDict[\"theWay\"][\"epochs\"]\n",
        "            # verbose=0\n",
        "            )\n",
        "    except KeyboardInterrupt: \n",
        "      print(\"\\n\\nProcessing the KeyboardInterrupt\")\n",
        "\n",
        "    else:\n",
        "      roop_histories.append(history)\n",
        "      massage = \"Complete \" + fix_loss_text(each_loss) + \" the No.[\" + str(i+1) +\"]\"\n",
        "      print(massage)\n",
        "      send_line_notify(massage)\n",
        "    finally:\n",
        "      del model\n",
        "      keras.backend.clear_session()\n",
        "      gc.collect()\n",
        "      sleep(10)\n",
        "      print(\" and the model is erased.\")\n",
        "\n",
        "  #/for i\n",
        "  all_histories.append(roop_histories)\n",
        "  massage = \"Finish experiment in the No.\" + str(j+1) + \" loop.\"\n",
        "  print(massage)\n",
        "  print(\"then notifying to certain line account\")\n",
        "  send_line_notify(massage)\n",
        "\n",
        "#/for j\n"
      ],
      "execution_count": null,
      "outputs": [
        {
          "output_type": "stream",
          "text": [
            "Start experiment in the No.1 loop.\n",
            "also assigned[ 20201218 ]as the seed. (the format is integer).\n",
            "used loss functions 3 is : ['CategoricalCrossentropy', 'MeanSquaredError', 'MeanAbsoluteError']\n",
            "then notifying to certain line account\n",
            "runnng...\n",
            "tryCategoricalCrossentropythe No.[1]\n",
            "sgd is used as a optimizer\n",
            "Epoch 1/128\n",
            "10/10 [==============================] - 9s 200ms/step - loss: 1.6303 - acc: 0.2265 - val_loss: 1.3837 - val_acc: 0.3200\n",
            "Epoch 2/128\n",
            "10/10 [==============================] - 1s 145ms/step - loss: 1.3872 - acc: 0.1883 - val_loss: 1.3854 - val_acc: 0.2200\n",
            "Epoch 3/128\n",
            "10/10 [==============================] - 1s 147ms/step - loss: 1.3828 - acc: 0.2549 - val_loss: 1.3836 - val_acc: 0.2700\n",
            "Epoch 4/128\n",
            "10/10 [==============================] - 1s 149ms/step - loss: 1.3753 - acc: 0.3802 - val_loss: 1.4137 - val_acc: 0.2200\n",
            "Epoch 5/128\n",
            "10/10 [==============================] - 1s 149ms/step - loss: 1.3630 - acc: 0.2943 - val_loss: 1.3885 - val_acc: 0.2500\n",
            "Epoch 6/128\n",
            "10/10 [==============================] - 1s 149ms/step - loss: 1.3846 - acc: 0.2703 - val_loss: 1.3882 - val_acc: 0.2200\n",
            "Epoch 7/128\n",
            "10/10 [==============================] - 1s 149ms/step - loss: 1.3849 - acc: 0.2875 - val_loss: 1.3887 - val_acc: 0.2700\n",
            "Epoch 8/128\n",
            "10/10 [==============================] - 1s 147ms/step - loss: 1.3845 - acc: 0.3642 - val_loss: 1.3871 - val_acc: 0.2200\n",
            "Epoch 9/128\n",
            "10/10 [==============================] - 1s 149ms/step - loss: 1.3839 - acc: 0.2531 - val_loss: 1.3876 - val_acc: 0.2300\n",
            "Epoch 10/128\n",
            "10/10 [==============================] - 1s 147ms/step - loss: 1.3782 - acc: 0.3179 - val_loss: 1.3728 - val_acc: 0.3800\n",
            "Epoch 11/128\n",
            "10/10 [==============================] - 1s 145ms/step - loss: 1.3601 - acc: 0.4191 - val_loss: 1.3771 - val_acc: 0.3100\n",
            "Epoch 12/128\n",
            "10/10 [==============================] - 1s 146ms/step - loss: 1.3781 - acc: 0.3151 - val_loss: 1.3716 - val_acc: 0.4300\n",
            "Epoch 13/128\n",
            "10/10 [==============================] - 1s 146ms/step - loss: 1.3683 - acc: 0.3714 - val_loss: 1.3670 - val_acc: 0.2500\n",
            "Epoch 14/128\n",
            "10/10 [==============================] - 1s 149ms/step - loss: 1.3343 - acc: 0.3377 - val_loss: 1.1804 - val_acc: 0.4500\n",
            "Epoch 15/128\n",
            "10/10 [==============================] - 1s 149ms/step - loss: 1.1073 - acc: 0.4954 - val_loss: 1.0855 - val_acc: 0.4700\n",
            "Epoch 16/128\n",
            "10/10 [==============================] - 1s 149ms/step - loss: 0.8660 - acc: 0.5973 - val_loss: 0.8008 - val_acc: 0.6000\n",
            "Epoch 17/128\n",
            "10/10 [==============================] - 2s 159ms/step - loss: 0.7363 - acc: 0.6092 - val_loss: 0.9181 - val_acc: 0.5700\n",
            "Epoch 18/128\n",
            "10/10 [==============================] - 1s 147ms/step - loss: 0.7976 - acc: 0.6798 - val_loss: 0.9426 - val_acc: 0.4700\n",
            "Epoch 19/128\n",
            "10/10 [==============================] - 1s 149ms/step - loss: 0.6373 - acc: 0.6732 - val_loss: 1.2927 - val_acc: 0.5200\n",
            "Epoch 20/128\n",
            "10/10 [==============================] - 1s 150ms/step - loss: 0.6462 - acc: 0.6319 - val_loss: 0.8386 - val_acc: 0.5900\n",
            "Epoch 21/128\n",
            "10/10 [==============================] - 1s 148ms/step - loss: 0.5498 - acc: 0.7368 - val_loss: 0.6646 - val_acc: 0.5900\n",
            "Epoch 22/128\n",
            "10/10 [==============================] - 1s 147ms/step - loss: 0.4660 - acc: 0.7752 - val_loss: 1.0644 - val_acc: 0.5000\n",
            "Epoch 23/128\n",
            "10/10 [==============================] - 1s 147ms/step - loss: 1.0675 - acc: 0.4805 - val_loss: 0.9774 - val_acc: 0.4900\n",
            "Epoch 24/128\n",
            "10/10 [==============================] - 1s 146ms/step - loss: 0.7767 - acc: 0.6719 - val_loss: 0.8604 - val_acc: 0.5500\n",
            "Epoch 25/128\n",
            "10/10 [==============================] - 1s 148ms/step - loss: 0.6021 - acc: 0.7404 - val_loss: 0.8262 - val_acc: 0.5800\n",
            "Epoch 26/128\n",
            "10/10 [==============================] - 1s 147ms/step - loss: 0.4243 - acc: 0.7705 - val_loss: 0.6995 - val_acc: 0.6400\n",
            "Epoch 27/128\n",
            "10/10 [==============================] - 1s 146ms/step - loss: 0.3781 - acc: 0.8365 - val_loss: 0.7311 - val_acc: 0.6600\n",
            "Epoch 28/128\n",
            "10/10 [==============================] - 1s 147ms/step - loss: 0.3691 - acc: 0.8386 - val_loss: 0.7293 - val_acc: 0.6600\n",
            "Epoch 29/128\n",
            "10/10 [==============================] - 1s 151ms/step - loss: 0.3135 - acc: 0.8341 - val_loss: 1.0606 - val_acc: 0.6200\n",
            "Epoch 30/128\n",
            "10/10 [==============================] - 1s 151ms/step - loss: 0.2571 - acc: 0.8719 - val_loss: 0.7467 - val_acc: 0.6700\n",
            "Epoch 31/128\n",
            "10/10 [==============================] - 1s 149ms/step - loss: 0.2110 - acc: 0.9320 - val_loss: 0.7909 - val_acc: 0.6900\n",
            "Epoch 32/128\n",
            "10/10 [==============================] - 1s 148ms/step - loss: 0.1557 - acc: 0.9539 - val_loss: 0.8704 - val_acc: 0.6700\n",
            "Epoch 33/128\n",
            "10/10 [==============================] - 1s 148ms/step - loss: 0.1329 - acc: 0.9385 - val_loss: 0.9492 - val_acc: 0.6300\n",
            "Epoch 34/128\n",
            "10/10 [==============================] - 1s 146ms/step - loss: 0.1047 - acc: 0.9595 - val_loss: 0.8934 - val_acc: 0.6800\n",
            "Epoch 35/128\n",
            "10/10 [==============================] - 1s 149ms/step - loss: 0.0739 - acc: 0.9830 - val_loss: 1.2830 - val_acc: 0.6800\n",
            "Epoch 36/128\n",
            "10/10 [==============================] - 2s 158ms/step - loss: 0.0877 - acc: 0.9639 - val_loss: 0.8529 - val_acc: 0.7100\n",
            "Epoch 37/128\n",
            "10/10 [==============================] - 1s 149ms/step - loss: 0.0853 - acc: 0.9557 - val_loss: 1.4697 - val_acc: 0.6500\n",
            "Epoch 38/128\n",
            "10/10 [==============================] - 1s 150ms/step - loss: 0.1068 - acc: 0.9443 - val_loss: 1.1899 - val_acc: 0.6900\n",
            "Epoch 39/128\n",
            "10/10 [==============================] - 1s 149ms/step - loss: 0.0360 - acc: 0.9930 - val_loss: 1.8655 - val_acc: 0.6400\n",
            "Epoch 40/128\n",
            "10/10 [==============================] - 1s 150ms/step - loss: 0.0412 - acc: 0.9841 - val_loss: 1.2230 - val_acc: 0.6900\n",
            "Epoch 41/128\n",
            "10/10 [==============================] - 1s 149ms/step - loss: 0.0605 - acc: 0.9839 - val_loss: 1.2907 - val_acc: 0.6800\n",
            "Epoch 42/128\n",
            "10/10 [==============================] - 1s 148ms/step - loss: 0.0786 - acc: 0.9740 - val_loss: 1.2110 - val_acc: 0.6600\n",
            "Epoch 43/128\n",
            "10/10 [==============================] - 1s 149ms/step - loss: 0.3263 - acc: 0.9045 - val_loss: 1.4066 - val_acc: 0.6400\n",
            "Epoch 44/128\n",
            "10/10 [==============================] - 1s 151ms/step - loss: 0.1720 - acc: 0.9453 - val_loss: 1.6339 - val_acc: 0.6500\n",
            "Epoch 45/128\n",
            "10/10 [==============================] - 1s 145ms/step - loss: 0.0438 - acc: 0.9847 - val_loss: 1.3729 - val_acc: 0.7100\n",
            "Epoch 46/128\n",
            "10/10 [==============================] - 1s 149ms/step - loss: 0.0300 - acc: 0.9956 - val_loss: 1.4701 - val_acc: 0.6900\n",
            "Epoch 47/128\n",
            "10/10 [==============================] - 1s 148ms/step - loss: 0.0229 - acc: 0.9940 - val_loss: 1.4242 - val_acc: 0.6800\n",
            "Epoch 48/128\n",
            "10/10 [==============================] - 1s 150ms/step - loss: 0.0325 - acc: 0.9914 - val_loss: 1.6859 - val_acc: 0.6800\n",
            "Epoch 49/128\n",
            "10/10 [==============================] - 1s 149ms/step - loss: 0.0049 - acc: 1.0000 - val_loss: 1.6819 - val_acc: 0.6900\n",
            "Epoch 50/128\n",
            "10/10 [==============================] - 1s 149ms/step - loss: 0.0061 - acc: 1.0000 - val_loss: 1.4287 - val_acc: 0.7100\n",
            "Epoch 51/128\n",
            "10/10 [==============================] - 1s 151ms/step - loss: 0.0044 - acc: 1.0000 - val_loss: 1.5701 - val_acc: 0.7100\n",
            "Epoch 52/128\n",
            "10/10 [==============================] - 1s 152ms/step - loss: 0.0029 - acc: 1.0000 - val_loss: 1.6023 - val_acc: 0.7000\n",
            "Epoch 53/128\n",
            "10/10 [==============================] - 1s 150ms/step - loss: 0.0034 - acc: 1.0000 - val_loss: 1.6626 - val_acc: 0.7100\n",
            "Epoch 54/128\n",
            "10/10 [==============================] - 1s 150ms/step - loss: 0.0016 - acc: 1.0000 - val_loss: 1.6438 - val_acc: 0.7200\n",
            "Epoch 55/128\n",
            "10/10 [==============================] - 2s 158ms/step - loss: 0.0019 - acc: 1.0000 - val_loss: 1.6325 - val_acc: 0.7000\n",
            "Epoch 56/128\n",
            "10/10 [==============================] - 1s 148ms/step - loss: 0.0015 - acc: 1.0000 - val_loss: 1.6161 - val_acc: 0.7000\n",
            "Epoch 57/128\n",
            "10/10 [==============================] - 1s 151ms/step - loss: 0.0019 - acc: 1.0000 - val_loss: 1.6714 - val_acc: 0.7000\n",
            "Epoch 58/128\n",
            "10/10 [==============================] - 1s 148ms/step - loss: 0.0017 - acc: 1.0000 - val_loss: 1.6541 - val_acc: 0.6900\n",
            "Epoch 59/128\n",
            "10/10 [==============================] - 1s 149ms/step - loss: 0.0014 - acc: 1.0000 - val_loss: 1.6758 - val_acc: 0.6900\n",
            "Epoch 60/128\n",
            "10/10 [==============================] - 1s 148ms/step - loss: 0.0011 - acc: 1.0000 - val_loss: 1.6850 - val_acc: 0.7000\n",
            "Epoch 61/128\n",
            "10/10 [==============================] - 1s 149ms/step - loss: 8.7710e-04 - acc: 1.0000 - val_loss: 1.6836 - val_acc: 0.6900\n",
            "Epoch 62/128\n",
            "10/10 [==============================] - 1s 149ms/step - loss: 8.4454e-04 - acc: 1.0000 - val_loss: 1.6898 - val_acc: 0.6900\n",
            "Epoch 63/128\n",
            "10/10 [==============================] - 1s 149ms/step - loss: 0.0011 - acc: 1.0000 - val_loss: 1.7096 - val_acc: 0.7100\n",
            "Epoch 64/128\n",
            "10/10 [==============================] - 1s 152ms/step - loss: 8.9656e-04 - acc: 1.0000 - val_loss: 1.7192 - val_acc: 0.7200\n",
            "Epoch 65/128\n",
            "10/10 [==============================] - 1s 148ms/step - loss: 8.9727e-04 - acc: 1.0000 - val_loss: 1.7184 - val_acc: 0.7000\n",
            "Epoch 66/128\n",
            "10/10 [==============================] - 1s 150ms/step - loss: 9.1951e-04 - acc: 1.0000 - val_loss: 1.7254 - val_acc: 0.6900\n",
            "Epoch 67/128\n",
            "10/10 [==============================] - 1s 150ms/step - loss: 7.1711e-04 - acc: 1.0000 - val_loss: 1.7303 - val_acc: 0.7000\n",
            "Epoch 68/128\n",
            "10/10 [==============================] - 1s 149ms/step - loss: 7.0030e-04 - acc: 1.0000 - val_loss: 1.7354 - val_acc: 0.6900\n",
            "Epoch 69/128\n",
            "10/10 [==============================] - 1s 149ms/step - loss: 7.5797e-04 - acc: 1.0000 - val_loss: 1.7645 - val_acc: 0.6900\n",
            "Epoch 70/128\n",
            "10/10 [==============================] - 1s 150ms/step - loss: 7.2224e-04 - acc: 1.0000 - val_loss: 1.7669 - val_acc: 0.6900\n",
            "Epoch 71/128\n",
            "10/10 [==============================] - 1s 150ms/step - loss: 6.5214e-04 - acc: 1.0000 - val_loss: 1.7560 - val_acc: 0.6900\n",
            "Epoch 72/128\n",
            "10/10 [==============================] - 1s 149ms/step - loss: 6.5734e-04 - acc: 1.0000 - val_loss: 1.7638 - val_acc: 0.6900\n",
            "Epoch 73/128\n",
            "10/10 [==============================] - 2s 160ms/step - loss: 5.2411e-04 - acc: 1.0000 - val_loss: 1.7787 - val_acc: 0.6900\n",
            "Epoch 74/128\n",
            "10/10 [==============================] - 1s 151ms/step - loss: 6.0971e-04 - acc: 1.0000 - val_loss: 1.7762 - val_acc: 0.7000\n",
            "Epoch 75/128\n",
            "10/10 [==============================] - 2s 153ms/step - loss: 5.7027e-04 - acc: 1.0000 - val_loss: 1.7820 - val_acc: 0.6900\n",
            "Epoch 76/128\n",
            "10/10 [==============================] - 1s 150ms/step - loss: 6.1052e-04 - acc: 1.0000 - val_loss: 1.7955 - val_acc: 0.6900\n",
            "Epoch 77/128\n",
            "10/10 [==============================] - 2s 152ms/step - loss: 5.3789e-04 - acc: 1.0000 - val_loss: 1.7902 - val_acc: 0.6900\n",
            "Epoch 78/128\n",
            "10/10 [==============================] - 1s 152ms/step - loss: 3.9948e-04 - acc: 1.0000 - val_loss: 1.7921 - val_acc: 0.6900\n",
            "Epoch 79/128\n",
            "10/10 [==============================] - 2s 164ms/step - loss: 4.8624e-04 - acc: 1.0000 - val_loss: 1.7875 - val_acc: 0.6900\n",
            "Epoch 80/128\n",
            "10/10 [==============================] - 2s 152ms/step - loss: 3.8712e-04 - acc: 1.0000 - val_loss: 1.7959 - val_acc: 0.6900\n",
            "Epoch 81/128\n",
            "10/10 [==============================] - 1s 150ms/step - loss: 3.3521e-04 - acc: 1.0000 - val_loss: 1.8016 - val_acc: 0.6900\n",
            "Epoch 82/128\n",
            "10/10 [==============================] - 1s 151ms/step - loss: 4.6114e-04 - acc: 1.0000 - val_loss: 1.8100 - val_acc: 0.6900\n",
            "Epoch 83/128\n",
            "10/10 [==============================] - 1s 151ms/step - loss: 3.8361e-04 - acc: 1.0000 - val_loss: 1.8227 - val_acc: 0.6900\n",
            "Epoch 84/128\n",
            "10/10 [==============================] - 2s 154ms/step - loss: 5.0404e-04 - acc: 1.0000 - val_loss: 1.8209 - val_acc: 0.6900\n",
            "Epoch 85/128\n",
            "10/10 [==============================] - 1s 152ms/step - loss: 4.5121e-04 - acc: 1.0000 - val_loss: 1.8202 - val_acc: 0.6900\n",
            "Epoch 86/128\n",
            "10/10 [==============================] - 1s 151ms/step - loss: 3.2537e-04 - acc: 1.0000 - val_loss: 1.8242 - val_acc: 0.6900\n",
            "Epoch 87/128\n",
            "10/10 [==============================] - 2s 153ms/step - loss: 3.7018e-04 - acc: 1.0000 - val_loss: 1.8274 - val_acc: 0.6900\n",
            "Epoch 88/128\n",
            "10/10 [==============================] - 1s 149ms/step - loss: 4.0439e-04 - acc: 1.0000 - val_loss: 1.8290 - val_acc: 0.6900\n",
            "Epoch 89/128\n",
            "10/10 [==============================] - 2s 155ms/step - loss: 3.7525e-04 - acc: 1.0000 - val_loss: 1.8355 - val_acc: 0.6900\n",
            "Epoch 90/128\n",
            "10/10 [==============================] - 2s 152ms/step - loss: 3.1623e-04 - acc: 1.0000 - val_loss: 1.8493 - val_acc: 0.6800\n",
            "Epoch 91/128\n",
            "10/10 [==============================] - 1s 149ms/step - loss: 4.9373e-04 - acc: 1.0000 - val_loss: 1.8487 - val_acc: 0.6900\n",
            "Epoch 92/128\n",
            "10/10 [==============================] - 2s 163ms/step - loss: 2.8792e-04 - acc: 1.0000 - val_loss: 1.8480 - val_acc: 0.6900\n",
            "Epoch 93/128\n",
            "10/10 [==============================] - 2s 152ms/step - loss: 3.2644e-04 - acc: 1.0000 - val_loss: 1.8478 - val_acc: 0.6900\n",
            "Epoch 94/128\n",
            "10/10 [==============================] - 2s 154ms/step - loss: 3.1620e-04 - acc: 1.0000 - val_loss: 1.8477 - val_acc: 0.6900\n",
            "Epoch 95/128\n",
            "10/10 [==============================] - 2s 155ms/step - loss: 2.9434e-04 - acc: 1.0000 - val_loss: 1.8520 - val_acc: 0.6900\n",
            "Epoch 96/128\n",
            "10/10 [==============================] - 2s 154ms/step - loss: 3.1115e-04 - acc: 1.0000 - val_loss: 1.8512 - val_acc: 0.6900\n",
            "Epoch 97/128\n",
            "10/10 [==============================] - 2s 157ms/step - loss: 2.8745e-04 - acc: 1.0000 - val_loss: 1.8534 - val_acc: 0.6900\n",
            "Epoch 98/128\n",
            "10/10 [==============================] - 2s 154ms/step - loss: 2.9538e-04 - acc: 1.0000 - val_loss: 1.8588 - val_acc: 0.6900\n",
            "Epoch 99/128\n",
            "10/10 [==============================] - 2s 154ms/step - loss: 3.0150e-04 - acc: 1.0000 - val_loss: 1.8596 - val_acc: 0.6900\n",
            "Epoch 100/128\n",
            "10/10 [==============================] - 1s 153ms/step - loss: 3.7515e-04 - acc: 1.0000 - val_loss: 1.8616 - val_acc: 0.6900\n",
            "Epoch 101/128\n",
            "10/10 [==============================] - 2s 152ms/step - loss: 3.0639e-04 - acc: 1.0000 - val_loss: 1.8670 - val_acc: 0.6900\n",
            "Epoch 102/128\n",
            "10/10 [==============================] - 2s 155ms/step - loss: 2.7480e-04 - acc: 1.0000 - val_loss: 1.8716 - val_acc: 0.6900\n",
            "Epoch 103/128\n",
            "10/10 [==============================] - 2s 154ms/step - loss: 2.7824e-04 - acc: 1.0000 - val_loss: 1.8700 - val_acc: 0.6900\n",
            "Epoch 104/128\n",
            "10/10 [==============================] - 2s 155ms/step - loss: 3.2584e-04 - acc: 1.0000 - val_loss: 1.8686 - val_acc: 0.6900\n",
            "Epoch 105/128\n",
            "10/10 [==============================] - 1s 151ms/step - loss: 2.1803e-04 - acc: 1.0000 - val_loss: 1.8707 - val_acc: 0.6900\n",
            "Epoch 106/128\n",
            "10/10 [==============================] - 2s 153ms/step - loss: 2.7136e-04 - acc: 1.0000 - val_loss: 1.8772 - val_acc: 0.6900\n",
            "Epoch 107/128\n",
            "10/10 [==============================] - 2s 153ms/step - loss: 2.2520e-04 - acc: 1.0000 - val_loss: 1.8783 - val_acc: 0.7000\n",
            "Epoch 108/128\n",
            "10/10 [==============================] - 2s 154ms/step - loss: 2.3973e-04 - acc: 1.0000 - val_loss: 1.8784 - val_acc: 0.7000\n",
            "Epoch 109/128\n",
            "10/10 [==============================] - 2s 153ms/step - loss: 2.3559e-04 - acc: 1.0000 - val_loss: 1.8825 - val_acc: 0.7000\n",
            "Epoch 110/128\n",
            "10/10 [==============================] - 2s 155ms/step - loss: 2.5257e-04 - acc: 1.0000 - val_loss: 1.8838 - val_acc: 0.7000\n",
            "Epoch 111/128\n",
            "10/10 [==============================] - 2s 162ms/step - loss: 2.3780e-04 - acc: 1.0000 - val_loss: 1.8888 - val_acc: 0.7000\n",
            "Epoch 112/128\n",
            "10/10 [==============================] - 1s 151ms/step - loss: 2.1813e-04 - acc: 1.0000 - val_loss: 1.8962 - val_acc: 0.7000\n",
            "Epoch 113/128\n",
            "10/10 [==============================] - 2s 152ms/step - loss: 2.3597e-04 - acc: 1.0000 - val_loss: 1.8950 - val_acc: 0.7000\n",
            "Epoch 114/128\n",
            "10/10 [==============================] - 2s 154ms/step - loss: 1.9943e-04 - acc: 1.0000 - val_loss: 1.8982 - val_acc: 0.7000\n",
            "Epoch 115/128\n",
            "10/10 [==============================] - 2s 153ms/step - loss: 2.4061e-04 - acc: 1.0000 - val_loss: 1.9004 - val_acc: 0.7000\n",
            "Epoch 116/128\n",
            "10/10 [==============================] - 2s 152ms/step - loss: 2.1982e-04 - acc: 1.0000 - val_loss: 1.9044 - val_acc: 0.7000\n",
            "Epoch 117/128\n",
            "10/10 [==============================] - 2s 153ms/step - loss: 2.1093e-04 - acc: 1.0000 - val_loss: 1.9095 - val_acc: 0.6900\n",
            "Epoch 118/128\n",
            "10/10 [==============================] - 1s 151ms/step - loss: 2.0205e-04 - acc: 1.0000 - val_loss: 1.9094 - val_acc: 0.6900\n",
            "Epoch 119/128\n",
            "10/10 [==============================] - 2s 156ms/step - loss: 2.1157e-04 - acc: 1.0000 - val_loss: 1.9099 - val_acc: 0.7000\n",
            "Epoch 120/128\n",
            "10/10 [==============================] - 2s 153ms/step - loss: 2.1023e-04 - acc: 1.0000 - val_loss: 1.9089 - val_acc: 0.7000\n",
            "Epoch 121/128\n",
            "10/10 [==============================] - 2s 153ms/step - loss: 2.5867e-04 - acc: 1.0000 - val_loss: 1.9064 - val_acc: 0.7000\n",
            "Epoch 122/128\n",
            "10/10 [==============================] - 2s 155ms/step - loss: 2.0097e-04 - acc: 1.0000 - val_loss: 1.9077 - val_acc: 0.7000\n",
            "Epoch 123/128\n",
            "10/10 [==============================] - 1s 152ms/step - loss: 2.3357e-04 - acc: 1.0000 - val_loss: 1.9090 - val_acc: 0.7000\n",
            "Epoch 124/128\n",
            "10/10 [==============================] - 2s 153ms/step - loss: 1.5947e-04 - acc: 1.0000 - val_loss: 1.9112 - val_acc: 0.7000\n",
            "Epoch 125/128\n",
            "10/10 [==============================] - 2s 155ms/step - loss: 1.5722e-04 - acc: 1.0000 - val_loss: 1.9151 - val_acc: 0.7000\n",
            "Epoch 126/128\n",
            "10/10 [==============================] - 2s 154ms/step - loss: 2.0376e-04 - acc: 1.0000 - val_loss: 1.9222 - val_acc: 0.7000\n",
            "Epoch 127/128\n",
            "10/10 [==============================] - 1s 152ms/step - loss: 1.8572e-04 - acc: 1.0000 - val_loss: 1.9215 - val_acc: 0.7000\n",
            "Epoch 128/128\n",
            "10/10 [==============================] - 1s 151ms/step - loss: 1.6909e-04 - acc: 1.0000 - val_loss: 1.9200 - val_acc: 0.7000\n",
            "CompleteCategoricalCrossentropythe No.[1]\n",
            " and the model is erased.\n",
            "tryMeanSquaredErrorthe No.[2]\n",
            "sgd is used as a optimizer\n",
            "Epoch 1/128\n",
            "10/10 [==============================] - 2s 169ms/step - loss: 0.1895 - acc: 0.2732 - val_loss: 0.1859 - val_acc: 0.2400\n",
            "Epoch 2/128\n",
            "10/10 [==============================] - 2s 155ms/step - loss: 0.1862 - acc: 0.3295 - val_loss: 0.1860 - val_acc: 0.4000\n",
            "Epoch 3/128\n",
            "10/10 [==============================] - 2s 153ms/step - loss: 0.1821 - acc: 0.4723 - val_loss: 0.1806 - val_acc: 0.4200\n",
            "Epoch 4/128\n",
            "10/10 [==============================] - 1s 152ms/step - loss: 0.1761 - acc: 0.5034 - val_loss: 0.1740 - val_acc: 0.4500\n",
            "Epoch 5/128\n",
            "10/10 [==============================] - 2s 153ms/step - loss: 0.1672 - acc: 0.5405 - val_loss: 0.1657 - val_acc: 0.4400\n",
            "Epoch 6/128\n",
            "10/10 [==============================] - 2s 155ms/step - loss: 0.1565 - acc: 0.5910 - val_loss: 0.1564 - val_acc: 0.4700\n",
            "Epoch 7/128\n",
            "10/10 [==============================] - 2s 152ms/step - loss: 0.1436 - acc: 0.6048 - val_loss: 0.1436 - val_acc: 0.5300\n",
            "Epoch 8/128\n",
            "10/10 [==============================] - 2s 156ms/step - loss: 0.1284 - acc: 0.5953 - val_loss: 0.1355 - val_acc: 0.5800\n",
            "Epoch 9/128\n",
            "10/10 [==============================] - 2s 158ms/step - loss: 0.1161 - acc: 0.7073 - val_loss: 0.1338 - val_acc: 0.5300\n",
            "Epoch 10/128\n",
            "10/10 [==============================] - 2s 156ms/step - loss: 0.1028 - acc: 0.7477 - val_loss: 0.1162 - val_acc: 0.6500\n",
            "Epoch 11/128\n",
            " 1/10 [==>...........................] - ETA: 1s - loss: 0.0962 - acc: 0.8438"
          ],
          "name": "stdout"
        }
      ]
    },
    {
      "cell_type": "markdown",
      "metadata": {
        "id": "rKELx5csgTNC"
      },
      "source": [
        "# 学習可視化"
      ]
    },
    {
      "cell_type": "code",
      "metadata": {
        "colab": {
          "base_uri": "https://localhost:8080/"
        },
        "id": "ypG238EdgVWy",
        "outputId": "579a02c1-0d13-44b5-99f6-595e0d4927aa"
      },
      "source": [
        "now_time = datetime.datetime.now(datetime.timezone(datetime.timedelta(hours=9)))\n",
        "today = now_time.strftime('%m%d')\n",
        "\n",
        "print(today)\n",
        "def plot_learning(history, experiment_name=\"No name\"):\n",
        "  HEIGHT = 1\n",
        "  WIDTH = 2\n",
        "  rate = 5.0\n",
        "  WpH_rate = 1.5\n",
        "  fig = plt.figure(figsize=(WIDTH*rate*WpH_rate, HEIGHT*rate))\n",
        "  plt.subplots_adjust(left=None, bottom=None, right=None, top=None, wspace=None, hspace=None)\n",
        "\n",
        "  LOSS = fig.add_subplot(HEIGHT, WIDTH, 1) # loss, val_loss\n",
        "  ACC = fig.add_subplot(HEIGHT, WIDTH, 2) # acc, val_acc\n",
        "\n",
        "  # 1,1 loss\n",
        "  loss = history.history[\"loss\"]\n",
        "  val_loss = history.history[\"val_loss\"]\n",
        "\n",
        "  loss_props = {\n",
        "        'title' : 'Loss values plot',\n",
        "        'xlabel' : 'epoch',\n",
        "        'ylabel' : 'value'\n",
        "    }\n",
        "  LOSS.set(**loss_props)\n",
        "  LOSS.plot(loss, label='loss', color='blue')\n",
        "  LOSS.plot(val_loss, label='val_loss', color='orange')\n",
        "  LOSS.legend(loc='best')\n",
        "\n",
        "  # 1,2 acc\n",
        "  acc = history.history['acc']\n",
        "  val_acc = history.history['val_acc']\n",
        "  acc_props = {\n",
        "        'title' : 'Accuracy values plot',\n",
        "        'xlabel' : 'epoch',\n",
        "        'ylabel' : 'value'\n",
        "    }\n",
        "\n",
        "  ACC.set(**acc_props)\n",
        "  ACC.plot(acc, label='acc', color='blue')\n",
        "  ACC.plot(val_acc, label='val_acc', color='orange')\n",
        "  ACC.legend(loc='best')\n",
        "\n",
        "  #save\n",
        "  image_path = path.join(desk, experiment_name+today)\n",
        "  fig.savefig(image_path, bbox_inches='tight')"
      ],
      "execution_count": 66,
      "outputs": [
        {
          "output_type": "stream",
          "text": [
            "0121\n"
          ],
          "name": "stdout"
        }
      ]
    },
    {
      "cell_type": "code",
      "metadata": {
        "colab": {
          "base_uri": "https://localhost:8080/",
          "height": 332
        },
        "id": "IvhBOvD-hCMX",
        "outputId": "d9b4936d-d548-4672-9c44-302aa09f062e"
      },
      "source": [
        "plot_learning(histories[0], \"how_adam_used_for_KTH_in_certain_model\")"
      ],
      "execution_count": 90,
      "outputs": [
        {
          "output_type": "display_data",
          "data": {
            "image/png": "[encoded data removed]",
            "text/plain": [
              "<Figure size 1080x360 with 2 Axes>"
            ]
          },
          "metadata": {
            "tags": [],
            "needs_background": "light"
          }
        }
      ]
    },
    {
      "cell_type": "markdown",
      "metadata": {
        "id": "w57fZL4pkqsy"
      },
      "source": [
        "# 学習可視化データ保存"
      ]
    },
    {
      "cell_type": "code",
      "metadata": {
        "colab": {
          "base_uri": "https://localhost:8080/"
        },
        "id": "hDnwRrMtkqWi",
        "outputId": "5953eb4e-8ca9-4fc4-d899-4943a288ae84"
      },
      "source": [
        "shelf = '/content/drive/MyDrive/colab'\n",
        "book = 'tuning_results'\n",
        "shelf_book = os.path.join(shelf, book)\n",
        "shelf_book_page = path.join(shelf_book, today)\n",
        "print(shelf_book_page)\n",
        "# 保存\n",
        "if not os.path.exists(shelf_book_page):\n",
        "  os.makedirs(shelf_book_page)\n",
        "\n",
        "print(\"Please confirm in the desk\")\n",
        "print(\"OK? y/n\")\n",
        "IO = input()\n",
        "if IO == 'y':\n",
        "  print(\"writing all to a strage now.\")\n",
        "  for each_file in os.listdir(desk):\n",
        "    if re.match(r\"\\..*\", each_file,):\n",
        "      pass\n",
        "    elif re.match(r\".*\\.png\", each_file,):\n",
        "      print(\"->\", each_file)\n",
        "      shutil.copy2(each_file, shelf_book_page)\n",
        "    else:\n",
        "      pass\n",
        "else:\n",
        "  pass\n"
      ],
      "execution_count": 91,
      "outputs": [
        {
          "output_type": "stream",
          "text": [
            "/content/drive/MyDrive/colab/tuning_results/0121\n",
            "Please confirm in the desk\n",
            "OK? y/n\n",
            "y\n",
            "writing all to a strage now.\n",
            "-> how_adam_used_for_KTH_in_certain_model0121.png\n",
            "-> how_sgd_used_for_KTH_in_certain_model0121.png\n"
          ],
          "name": "stdout"
        }
      ]
    }
  ]
}