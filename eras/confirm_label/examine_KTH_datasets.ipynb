{
  "nbformat": 4,
  "nbformat_minor": 0,
  "metadata": {
    "colab": {
      "name": "examine_KTH_datasets.ipynb",
      "provenance": [],
      "toc_visible": true,
      "authorship_tag": "ABX9TyMMGOQP5m66lJ0i4dmdCeQn",
      "include_colab_link": true
    },
    "kernelspec": {
      "name": "python3",
      "display_name": "Python 3"
    },
    "accelerator": "GPU"
  },
  "cells": [
    {
      "cell_type": "markdown",
      "metadata": {
        "id": "view-in-github",
        "colab_type": "text"
      },
      "source": [
        "<a href=\"https://colab.research.google.com/github/s1250103/Public_mori-lab/blob/confirm_label_noize_for_cm_data/eras/confirm_label/examine_KTH_datasets.ipynb\" target=\"_parent\"><img src=\"https://colab.research.google.com/assets/colab-badge.svg\" alt=\"Open In Colab\"/></a>"
      ]
    },
    {
      "cell_type": "markdown",
      "metadata": {
        "id": "bn8mY7TNKCVG"
      },
      "source": [
        "#環境設定"
      ]
    },
    {
      "cell_type": "code",
      "metadata": {
        "id": "7jJi-oO2J_on"
      },
      "source": [
        "%tensorflow_version 2.x\n",
        "\n",
        "## import\n",
        "# file dealing\n",
        "import os\n",
        "from os import path\n",
        "\n",
        "import shutil\n",
        "from google.colab import drive\n",
        "import datetime\n",
        "# data dealing\n",
        "import numpy as np\n",
        "import pandas as pd\n",
        "from pandas import DataFrame\n",
        "import matplotlib.pyplot as plt\n",
        "# process deasing\n",
        "import gc\n",
        "from time import sleep\n",
        "\n",
        "# machine learning (back)\n",
        "import tensorflow as tf\n",
        "from tensorflow.keras.utils import plot_model\n",
        "from tensorflow.keras import layers, models, initializers, callbacks\n",
        "\n",
        "# machine learning\n",
        "import keras\n",
        "from keras.datasets import mnist\n",
        "from keras.models import Sequential\n",
        "from keras.layers import Dense, Activation, Dropout\n",
        "from keras.utils.np_utils import to_categorical\n",
        "\n",
        "import json\n",
        "from collections import OrderedDict\n",
        "import pprint\n",
        "import re\n",
        "import requests"
      ],
      "execution_count": 1,
      "outputs": []
    },
    {
      "cell_type": "code",
      "metadata": {
        "id": "vxGMERAvX3P8"
      },
      "source": [
        "def send_line_notify(notification_message):\n",
        "    \"\"\"\n",
        "    LINEに通知する\n",
        "    \"\"\"\n",
        "    line_notify_token = 'cHdELzsau6ve8hNVL3FxPz65Jdyquzuj2kd021u8q1L'\n",
        "    line_notify_api = 'https://notify-api.line.me/api/notify'\n",
        "    headers = {'Authorization': f'Bearer {line_notify_token}'}\n",
        "    data = {'message': notification_message}\n",
        "    requests.post(line_notify_api, headers = headers, data = data)"
      ],
      "execution_count": 16,
      "outputs": []
    },
    {
      "cell_type": "markdown",
      "metadata": {
        "id": "CemsuBxCnpSD"
      },
      "source": [
        "# 実験条件（外乱）を定める"
      ]
    },
    {
      "cell_type": "code",
      "metadata": {
        "id": "eXCV5Urc5PUH"
      },
      "source": [
        "LABEL_NOISE_RATE = 0\n",
        "TEST_DATA_RATE = 0.25"
      ],
      "execution_count": 2,
      "outputs": []
    },
    {
      "cell_type": "markdown",
      "metadata": {
        "id": "-FH7fepQ6Fo1"
      },
      "source": [
        "#学習条件を定める"
      ]
    },
    {
      "cell_type": "markdown",
      "metadata": {
        "id": "UScShR1lmM_U"
      },
      "source": [
        "##学習手法の仕様"
      ]
    },
    {
      "cell_type": "code",
      "metadata": {
        "id": "qUl9mQXfk7eS"
      },
      "source": [
        "seed = 20201218\n",
        "np.random.seed(seed)\n",
        "tf.random.set_seed(seed)\n",
        "\n",
        "learningDict = {\n",
        "    \"optimizer\" : {\n",
        "        \"this.optimizer\" : \"sgd\",\n",
        "        \"learning_rate\" : 0.01,\n",
        "        \"momentum\" : 0.9,\n",
        "        \"decay\" : 1e-4,\n",
        "        \"nesterov\" : True\n",
        "    },\n",
        "    \"theWay\" : {\n",
        "        \"batch_size\" : 32,\n",
        "        \"epochs\" : 128,\n",
        "    },\n",
        "    \"compared_losses\" : [\n",
        "                        #  tf.keras.losses.CategoricalCrossentropy(),\n",
        "                        #  tf.keras.losses.MeanSquaredError(), \n",
        "                         tf.keras.losses.MeanAbsoluteError(),\n",
        "                        #  tf.keras.losses.SquaredHinge()               \n",
        "    ]\n",
        "}\n",
        "\n",
        "# learningDict = {\n",
        "#     \"optimizer\" : {\n",
        "#         \"this.optimizer\" : \"adam\",\n",
        "#         \"learning_rate\" : 0.001,\n",
        "#         \"epsilon\" : 1e-8,\n",
        "#         \"beta_1\" : 0.9,\n",
        "#         \"beta_2\" : 0.999\n",
        "#     },\n",
        "#     \"theWay\" : {\n",
        "#         \"batch_size\" : 32,\n",
        "#         \"epochs\" : 128,\n",
        "#     },\n",
        "#     \"compared_losses\" : [\n",
        "#                         tf.keras.losses.MeanAbsoluteError(),\n",
        "#     ]\n",
        "# }\n",
        "\n",
        "def compile_optimizer():\n",
        "  # 最適化処理 (adamのみ対応)\n",
        "  if learningDict[\"optimizer\"][\"this.optimizer\"] == \"adam\":\n",
        "    optimizer = keras.optimizers.Adam(\n",
        "        lr=learningDict[\"optimizer\"][\"learning_rate\"],\n",
        "        epsilon=learningDict[\"optimizer\"][\"epsilon\"],\n",
        "        beta_1=learningDict[\"optimizer\"][\"beta_1\"],\n",
        "        beta_2=learningDict[\"optimizer\"][\"beta_2\"])\n",
        "    print(\"adam is used as a optimizer\")\n",
        "\n",
        "  elif learningDict[\"optimizer\"][\"this.optimizer\"] == \"Nadam\":\n",
        "    optimizer = keras.optimizers.Nadam(\n",
        "        lr=learningDict[\"optimizer\"][\"learning_rate\"],\n",
        "        beta_1=learningDict[\"optimizer\"][\"beta_1\"],\n",
        "        beta_2=learningDict[\"optimizer\"][\"beta_2\"],\n",
        "        epsilon=None, \n",
        "        schedule_decay=0.4)\n",
        "    print(\"Nadam is used as a optimizer\")\n",
        "\n",
        "  elif learningDict[\"optimizer\"][\"this.optimizer\"] == \"sgd\":\n",
        "    optimizer = keras.optimizers.SGD(\n",
        "        lr=learningDict[\"optimizer\"][\"learning_rate\"],\n",
        "        momentum=learningDict[\"optimizer\"][\"momentum\"],\n",
        "        decay=learningDict[\"optimizer\"][\"decay\"],\n",
        "        nesterov=learningDict[\"optimizer\"][\"nesterov\"]) \n",
        "    print(\"sgd is used as a optimizer\")\n",
        "  else:\n",
        "    print(\"error\")\n",
        "  \n",
        "  return optimizer"
      ],
      "execution_count": 88,
      "outputs": []
    },
    {
      "cell_type": "markdown",
      "metadata": {
        "id": "pXCt9_EOhkSt"
      },
      "source": [
        "## モデルの仕様（ニューラルネットワーク）\n",
        "<ul>\n",
        "  <li>入力層(フレームサイズ, フレームの高さ, フレームの横幅, RGB情報) </li>\n",
        "  <li>出力層(予測値) </li>\n",
        "  <li> 中間層 \n",
        "    <ol>\n",
        "      <li>conv0</li>\n",
        "      <li>pool0</li>\n",
        "      <li>conv1</li>\n",
        "      <li>pool1</li>\n",
        "      <li>dence0</li>\n",
        "  </li>\n",
        "</ui>"
      ]
    },
    {
      "cell_type": "code",
      "metadata": {
        "id": "xeda9UgKf23z"
      },
      "source": [
        "def make_model(video_format):\n",
        "  # モデル作成\n",
        "  model = models.Sequential()\n",
        "  # 入力層\n",
        "  model.add(\n",
        "      layers.Reshape(\n",
        "          (video_format.FRAME_SIZE,\n",
        "          video_format.HEIGHT,\n",
        "          video_format.WIDTH,\n",
        "          video_format.COLORinfo),\n",
        "          input_shape=(video_format.FRAME_SIZE * video_format.HEIGHT * video_format.WIDTH * video_format.COLORinfo,),\n",
        "          name='Input_Layer' )\n",
        "  )\n",
        "  # 畳み込み0\n",
        "  model.add(\n",
        "      layers.Conv3D(\n",
        "          filters=32,\n",
        "          kernel_size=(3, 3, 3),\n",
        "          strides=(1, 1, 1),\n",
        "          padding='same',\n",
        "          activation='relu',\n",
        "          name='conv0'))\n",
        "  # pool0\n",
        "  model.add(\n",
        "      layers.MaxPooling3D(pool_size=(2, 2, 2), name='pool0'))\n",
        "\n",
        "  # 畳み込み1\n",
        "  model.add(\n",
        "      layers.Conv3D(\n",
        "          filters=32,\n",
        "          kernel_size=(3, 3, 3),\n",
        "          strides=(1, 1, 1),\n",
        "          padding='same',\n",
        "          activation='relu',\n",
        "          name='conv1'))\n",
        "  # pool1\n",
        "  model.add(\n",
        "      layers.MaxPooling3D(pool_size=(2, 2, 2), name='pool1'))\n",
        "\n",
        "  ## 全結合0\n",
        "  model.add(\n",
        "      layers.Flatten(name='pipe'),\n",
        "  )\n",
        "  model.add(\n",
        "      layers.Dense(1024,\n",
        "        activation='relu',\n",
        "        name='dence0' ),\n",
        "  )\n",
        "  # 出力層\n",
        "  model.add(\n",
        "      layers.Dense(4, activation='softmax', name='WATERSUPPLY')\n",
        "  )\n",
        "  return model\n"
      ],
      "execution_count": 4,
      "outputs": []
    },
    {
      "cell_type": "markdown",
      "metadata": {
        "id": "tEbRDHGlku0r"
      },
      "source": [
        "##データの仕様"
      ]
    },
    {
      "cell_type": "code",
      "metadata": {
        "id": "y-SMSh_TkVjG"
      },
      "source": [
        "## フォーマットの設定\n",
        "class video_format:\n",
        "  # 想定された入力CMデータの仕様\n",
        "  playtime = \"15秒\"\n",
        "  displaysize = \"(any, any, RGB)\"\n",
        "  videoformat = \"any\"\n",
        "  # モデルが扱うCMデータ(上のようなデータは、下のように変換される)\n",
        "  HEIGHT = 45\n",
        "  WIDTH = 80\n",
        "  FRAME_SIZE = 30\n",
        "  COLORinfo = 3 # \"RGB\"\n",
        "  FPS = \"2 (FRAME_SIZE / playtime)\" # 定義ではなく上から計算される値"
      ],
      "execution_count": 5,
      "outputs": []
    },
    {
      "cell_type": "markdown",
      "metadata": {
        "id": "MnSHYRFpKdfa"
      },
      "source": [
        "# 学習データの用意"
      ]
    },
    {
      "cell_type": "code",
      "metadata": {
        "colab": {
          "base_uri": "https://localhost:8080/"
        },
        "id": "00VyH9N3Kl8h",
        "outputId": "b20b556d-fc28-4dcb-a20b-2f4747d213a3"
      },
      "source": [
        "## gdrive 接続\n",
        "if not path.exists('/content/drive'):\n",
        "  drive.mount('/content/drive')\n",
        "else:\n",
        "  print(\"Already confirm\")\n",
        "\n",
        "## colab テンポラリディレクトリの作成\n",
        "desk = '/content/desk'\n",
        "if not os.path.exists(desk):\n",
        "  os.mkdir(desk)\n",
        "os.chdir(desk)\n",
        "print(\"Created at /content/desk\")"
      ],
      "execution_count": 6,
      "outputs": [
        {
          "output_type": "stream",
          "text": [
            "Mounted at /content/drive\n",
            "Created at /content/desk\n"
          ],
          "name": "stdout"
        }
      ]
    },
    {
      "cell_type": "code",
      "metadata": {
        "id": "LjO2EXNfnW1i"
      },
      "source": [
        "learning_data_path = \"/content/drive/MyDrive/colab/cleaned_detasets/KTH\""
      ],
      "execution_count": 7,
      "outputs": []
    },
    {
      "cell_type": "code",
      "metadata": {
        "colab": {
          "base_uri": "https://localhost:8080/"
        },
        "id": "UNUgCm4Ina0K",
        "outputId": "df2f7482-9399-4266-c56d-f358006799c2"
      },
      "source": [
        "if path.isdir(learning_data_path):\n",
        "  print(\"actually exist the\", learning_data_path)\n",
        "  for each_data in os.listdir(learning_data_path):\n",
        "    if re.match(r\"Data.*\\.npz\", each_data):\n",
        "      print(\"________|------------ reading [\", each_data, \"] as learning data.\")\n",
        "      learning_data_np = np.load(path.join(learning_data_path, each_data))\n",
        "    elif re.match(r\"Label.*\\.npz\", each_data):\n",
        "      print(\"________|------------ reading [\", each_data, \"] as label data.\")\n",
        "      label_data_np = np.load(path.join(learning_data_path, each_data))\n",
        "    else:\n",
        "      print(\"Not reading such data\", each_data)\n",
        "else:\n",
        "  print(\"no such path\")\n"
      ],
      "execution_count": 8,
      "outputs": [
        {
          "output_type": "stream",
          "text": [
            "actually exist the /content/drive/MyDrive/colab/cleaned_detasets/KTH\n",
            "Not reading such data .ipynb_checkpoints\n",
            "________|------------ reading [ Data_of_KTH.npz ] as learning data.\n",
            "________|------------ reading [ Label_of_KTH.npz ] as label data.\n"
          ],
          "name": "stdout"
        }
      ]
    },
    {
      "cell_type": "code",
      "metadata": {
        "id": "yBPqzDUMqokn"
      },
      "source": [
        "learning_data = []\n",
        "label_data = []\n",
        "for i in learning_data_np.files:\n",
        "  learning_data.append(learning_data_np[i])\n",
        "for i in label_data_np.files:\n",
        "  label_data.append(label_data_np[i])\n",
        "\n",
        "learning_data = np.array(learning_data)\n",
        "label_data = np.array(label_data)\n",
        "label_data = tf.keras.utils.to_categorical(label_data, 4)"
      ],
      "execution_count": 9,
      "outputs": []
    },
    {
      "cell_type": "markdown",
      "metadata": {
        "id": "7HzCVZtzp4d1"
      },
      "source": [
        "## 訓練データとテストデータとで分割"
      ]
    },
    {
      "cell_type": "code",
      "metadata": {
        "id": "eHeiuRSl2ATW"
      },
      "source": [
        "from sklearn.model_selection import train_test_split\n",
        "X_train, X_test, Y_train, Y_test = train_test_split(learning_data, label_data, random_state=20200120, train_size=(1-TEST_DATA_RATE))"
      ],
      "execution_count": 11,
      "outputs": []
    },
    {
      "cell_type": "markdown",
      "metadata": {
        "id": "4DoTGxOV5Ach"
      },
      "source": [
        "## テストデータに意図的なノイズを加える(実験のために)"
      ]
    },
    {
      "cell_type": "code",
      "metadata": {
        "id": "EXMxF1H-645e"
      },
      "source": [
        "import random\n",
        "def rand_ints_nodup(a, b, k):\n",
        "  ns = []\n",
        "  while len(ns) < k:\n",
        "    n = random.randint(a, b)\n",
        "    if not n in ns:\n",
        "      ns.append(n)\n",
        "  return ns\n",
        "def changed_number(original_num, set_min, set_max):\n",
        "  while True:\n",
        "    tmpRndVal = random.randint(set_min, set_max)\n",
        "    if original_num != tmpRndVal:\n",
        "      return tmpRndVal"
      ],
      "execution_count": 13,
      "outputs": []
    },
    {
      "cell_type": "code",
      "metadata": {
        "colab": {
          "base_uri": "https://localhost:8080/"
        },
        "id": "O6rf5RcI7AzI",
        "outputId": "b4b396b8-c615-4135-8892-346a4e7ee236"
      },
      "source": [
        "changed_label_number_for_experiment = int(len(Y_test) * LABEL_NOISE_RATE)\n",
        "change_points = rand_ints_nodup(0, len(Y_test)-1, changed_label_number_for_experiment )\n",
        "print(\"change map:\", sorted(change_points))\n",
        "print(\"the size:\", len(change_points))\n",
        "\n",
        "set_min = np.min(Y_test)\n",
        "set_max = np.max(Y_test)\n",
        "if LABEL_NOISE_RATE != 0:\n",
        "  for i in range(len(Y_test)):\n",
        "    if i in change_points:\n",
        "      print(\"No.\", i, \", original number is\", Y_test[i], end=\" -> \")\n",
        "      Y_test[i] = changed_number(Y_test[i], set_min, set_max)\n",
        "      print(\"changed number is\", Y_test[i])\n",
        "    else:\n",
        "      print(\"error\")\n",
        "      break\n",
        "else:\n",
        "  print(\"No label noizes\")\n",
        "  "
      ],
      "execution_count": 14,
      "outputs": [
        {
          "output_type": "stream",
          "text": [
            "change map: []\n",
            "the size: 0\n",
            "No label noizes\n"
          ],
          "name": "stdout"
        }
      ]
    },
    {
      "cell_type": "markdown",
      "metadata": {
        "id": "CAjtSgxaGvBz"
      },
      "source": [
        "# 学習開始"
      ]
    },
    {
      "cell_type": "code",
      "metadata": {
        "colab": {
          "base_uri": "https://localhost:8080/"
        },
        "id": "LXCHuDWpGxz-",
        "outputId": "ec0bf0d9-6c88-417c-9aa1-0f25c6761d45"
      },
      "source": [
        "%%time\n",
        "obj_video_format = video_format()\n",
        "\n",
        "histories = []\n",
        "for i, each_loss in enumerate(learningDict[\"compared_losses\"]):\n",
        "  print(\"try\", each_loss)\n",
        "  send_line_notify('学習開始 ' + str(i+1) + \"/\" + str(each_loss))\n",
        "\n",
        "  try:\n",
        "    # モデル構築\n",
        "    model = make_model(obj_video_format)\n",
        "    model.compile(\n",
        "          optimizer=compile_optimizer(),\n",
        "          loss=each_loss,\n",
        "          metrics=['acc'])\n",
        "    # 実行\n",
        "    \n",
        "    history = model.fit(\n",
        "          X_train, Y_train,\n",
        "          validation_data=(X_test, Y_test),\n",
        "          batch_size=learningDict[\"theWay\"][\"batch_size\"],\n",
        "          epochs=learningDict[\"theWay\"][\"epochs\"]\n",
        "          # verbose=0\n",
        "          )\n",
        "  except KeyboardInterrupt: \n",
        "    del model\n",
        "    keras.backend.clear_session()\n",
        "    gc.collect()\n",
        "    print(\"\\n\\nProcessed the KeyboardInterrupt\")\n",
        "    print(\" and the model is erased.\")\n",
        "\n",
        "  histories.append(history)\n",
        "  print(\"Complete.\")\n",
        "  send_line_notify('学習完了 ' + str(i+1) + \"/\" + str(each_loss))\n",
        "\n",
        "  sleep(5)\n",
        "  del model\n",
        "  keras.backend.clear_session()\n",
        "  gc.collect()"
      ],
      "execution_count": 89,
      "outputs": [
        {
          "output_type": "stream",
          "text": [
            "try <tensorflow.python.keras.losses.MeanAbsoluteError object at 0x7f71c6ebb630>\n",
            "adam is used as a optimizer\n",
            "Epoch 1/128\n",
            "10/10 [==============================] - 4s 373ms/step - loss: 0.3839 - acc: 0.2335 - val_loss: 0.3900 - val_acc: 0.2200\n",
            "Epoch 2/128\n",
            "10/10 [==============================] - 3s 353ms/step - loss: 0.3749 - acc: 0.2503 - val_loss: 0.3900 - val_acc: 0.2200\n",
            "Epoch 3/128\n",
            "10/10 [==============================] - 3s 354ms/step - loss: 0.3743 - acc: 0.2514 - val_loss: 0.3900 - val_acc: 0.2200\n",
            "Epoch 4/128\n",
            "10/10 [==============================] - 3s 349ms/step - loss: 0.3728 - acc: 0.2545 - val_loss: 0.3900 - val_acc: 0.2200\n",
            "Epoch 5/128\n",
            "10/10 [==============================] - 3s 346ms/step - loss: 0.3824 - acc: 0.2351 - val_loss: 0.3900 - val_acc: 0.2200\n",
            "Epoch 6/128\n",
            "10/10 [==============================] - 3s 349ms/step - loss: 0.3643 - acc: 0.2715 - val_loss: 0.3900 - val_acc: 0.2200\n",
            "Epoch 7/128\n",
            "10/10 [==============================] - 3s 351ms/step - loss: 0.3632 - acc: 0.2737 - val_loss: 0.3900 - val_acc: 0.2200\n",
            "Epoch 8/128\n",
            "10/10 [==============================] - 3s 347ms/step - loss: 0.3636 - acc: 0.2728 - val_loss: 0.3900 - val_acc: 0.2200\n",
            "Epoch 9/128\n",
            "10/10 [==============================] - 3s 348ms/step - loss: 0.3665 - acc: 0.2670 - val_loss: 0.3900 - val_acc: 0.2200\n",
            "Epoch 10/128\n",
            "10/10 [==============================] - 3s 352ms/step - loss: 0.3780 - acc: 0.2439 - val_loss: 0.3900 - val_acc: 0.2200\n",
            "Epoch 11/128\n",
            "10/10 [==============================] - 3s 348ms/step - loss: 0.3764 - acc: 0.2472 - val_loss: 0.3900 - val_acc: 0.2200\n",
            "Epoch 12/128\n",
            "10/10 [==============================] - 4s 362ms/step - loss: 0.3701 - acc: 0.2597 - val_loss: 0.3900 - val_acc: 0.2200\n",
            "Epoch 13/128\n",
            "10/10 [==============================] - 3s 352ms/step - loss: 0.3747 - acc: 0.2506 - val_loss: 0.3900 - val_acc: 0.2200\n",
            "Epoch 14/128\n",
            "10/10 [==============================] - 3s 349ms/step - loss: 0.3728 - acc: 0.2543 - val_loss: 0.3900 - val_acc: 0.2200\n",
            "Epoch 15/128\n",
            "10/10 [==============================] - 3s 350ms/step - loss: 0.3659 - acc: 0.2681 - val_loss: 0.3900 - val_acc: 0.2200\n",
            "Epoch 16/128\n",
            "10/10 [==============================] - 3s 349ms/step - loss: 0.3624 - acc: 0.2753 - val_loss: 0.3900 - val_acc: 0.2200\n",
            "Epoch 17/128\n",
            "10/10 [==============================] - 3s 350ms/step - loss: 0.3607 - acc: 0.2786 - val_loss: 0.3900 - val_acc: 0.2200\n",
            "Epoch 18/128\n",
            "10/10 [==============================] - 3s 350ms/step - loss: 0.3703 - acc: 0.2595 - val_loss: 0.3900 - val_acc: 0.2200\n",
            "Epoch 19/128\n",
            "10/10 [==============================] - 3s 351ms/step - loss: 0.3652 - acc: 0.2695 - val_loss: 0.3900 - val_acc: 0.2200\n",
            "Epoch 20/128\n",
            "10/10 [==============================] - 3s 347ms/step - loss: 0.3465 - acc: 0.3071 - val_loss: 0.3900 - val_acc: 0.2200\n",
            "Epoch 21/128\n",
            "10/10 [==============================] - 3s 349ms/step - loss: 0.3731 - acc: 0.2538 - val_loss: 0.3900 - val_acc: 0.2200\n",
            "Epoch 22/128\n",
            "10/10 [==============================] - 3s 350ms/step - loss: 0.3724 - acc: 0.2553 - val_loss: 0.3900 - val_acc: 0.2200\n",
            "Epoch 23/128\n",
            "10/10 [==============================] - 3s 347ms/step - loss: 0.3600 - acc: 0.2800 - val_loss: 0.3900 - val_acc: 0.2200\n",
            "Epoch 24/128\n",
            "10/10 [==============================] - 3s 347ms/step - loss: 0.3620 - acc: 0.2759 - val_loss: 0.3900 - val_acc: 0.2200\n",
            "Epoch 25/128\n",
            "10/10 [==============================] - 3s 349ms/step - loss: 0.3772 - acc: 0.2456 - val_loss: 0.3900 - val_acc: 0.2200\n",
            "Epoch 26/128\n",
            "10/10 [==============================] - 3s 351ms/step - loss: 0.3805 - acc: 0.2389 - val_loss: 0.3900 - val_acc: 0.2200\n",
            "Epoch 27/128\n",
            "10/10 [==============================] - 3s 348ms/step - loss: 0.3622 - acc: 0.2756 - val_loss: 0.3900 - val_acc: 0.2200\n",
            "Epoch 28/128\n",
            "10/10 [==============================] - 4s 362ms/step - loss: 0.3791 - acc: 0.2419 - val_loss: 0.3900 - val_acc: 0.2200\n",
            "Epoch 29/128\n",
            "10/10 [==============================] - 3s 350ms/step - loss: 0.3816 - acc: 0.2368 - val_loss: 0.3900 - val_acc: 0.2200\n",
            "Epoch 30/128\n",
            "10/10 [==============================] - 3s 346ms/step - loss: 0.3811 - acc: 0.2378 - val_loss: 0.3900 - val_acc: 0.2200\n",
            "Epoch 31/128\n",
            "10/10 [==============================] - 3s 349ms/step - loss: 0.3720 - acc: 0.2560 - val_loss: 0.3900 - val_acc: 0.2200\n",
            "Epoch 32/128\n",
            "10/10 [==============================] - 3s 347ms/step - loss: 0.3709 - acc: 0.2581 - val_loss: 0.3900 - val_acc: 0.2200\n",
            "Epoch 33/128\n",
            "10/10 [==============================] - 3s 349ms/step - loss: 0.3751 - acc: 0.2498 - val_loss: 0.3900 - val_acc: 0.2200\n",
            "Epoch 34/128\n",
            "10/10 [==============================] - 3s 348ms/step - loss: 0.3632 - acc: 0.2736 - val_loss: 0.3900 - val_acc: 0.2200\n",
            "Epoch 35/128\n",
            "10/10 [==============================] - 3s 346ms/step - loss: 0.3693 - acc: 0.2615 - val_loss: 0.3900 - val_acc: 0.2200\n",
            "Epoch 36/128\n",
            "10/10 [==============================] - 3s 348ms/step - loss: 0.3709 - acc: 0.2582 - val_loss: 0.3900 - val_acc: 0.2200\n",
            "Epoch 37/128\n",
            "10/10 [==============================] - 3s 352ms/step - loss: 0.3741 - acc: 0.2518 - val_loss: 0.3900 - val_acc: 0.2200\n",
            "Epoch 38/128\n",
            "10/10 [==============================] - 3s 349ms/step - loss: 0.3646 - acc: 0.2707 - val_loss: 0.3900 - val_acc: 0.2200\n",
            "Epoch 39/128\n",
            "10/10 [==============================] - 3s 348ms/step - loss: 0.3718 - acc: 0.2564 - val_loss: 0.3900 - val_acc: 0.2200\n",
            "Epoch 40/128\n",
            "10/10 [==============================] - 3s 346ms/step - loss: 0.3806 - acc: 0.2388 - val_loss: 0.3900 - val_acc: 0.2200\n",
            "Epoch 41/128\n",
            "10/10 [==============================] - 3s 347ms/step - loss: 0.3681 - acc: 0.2639 - val_loss: 0.3900 - val_acc: 0.2200\n",
            "Epoch 42/128\n",
            "10/10 [==============================] - 3s 347ms/step - loss: 0.3764 - acc: 0.2472 - val_loss: 0.3900 - val_acc: 0.2200\n",
            "Epoch 43/128\n",
            "10/10 [==============================] - 4s 360ms/step - loss: 0.3586 - acc: 0.2828 - val_loss: 0.3900 - val_acc: 0.2200\n",
            "Epoch 44/128\n",
            "10/10 [==============================] - 3s 346ms/step - loss: 0.3808 - acc: 0.2385 - val_loss: 0.3900 - val_acc: 0.2200\n",
            "Epoch 45/128\n",
            "10/10 [==============================] - 3s 348ms/step - loss: 0.3535 - acc: 0.2930 - val_loss: 0.3900 - val_acc: 0.2200\n",
            "Epoch 46/128\n",
            "10/10 [==============================] - 3s 348ms/step - loss: 0.3705 - acc: 0.2590 - val_loss: 0.3900 - val_acc: 0.2200\n",
            "Epoch 47/128\n",
            "10/10 [==============================] - 3s 346ms/step - loss: 0.3524 - acc: 0.2951 - val_loss: 0.3900 - val_acc: 0.2200\n",
            "Epoch 48/128\n",
            "10/10 [==============================] - 3s 345ms/step - loss: 0.3633 - acc: 0.2734 - val_loss: 0.3900 - val_acc: 0.2200\n",
            "Epoch 49/128\n",
            "10/10 [==============================] - 3s 349ms/step - loss: 0.3665 - acc: 0.2671 - val_loss: 0.3900 - val_acc: 0.2200\n",
            "Epoch 50/128\n",
            "10/10 [==============================] - 3s 350ms/step - loss: 0.3588 - acc: 0.2823 - val_loss: 0.3900 - val_acc: 0.2200\n",
            "Epoch 51/128\n",
            "10/10 [==============================] - 3s 350ms/step - loss: 0.3653 - acc: 0.2694 - val_loss: 0.3900 - val_acc: 0.2200\n",
            "Epoch 52/128\n",
            "10/10 [==============================] - 3s 348ms/step - loss: 0.3687 - acc: 0.2625 - val_loss: 0.3900 - val_acc: 0.2200\n",
            "Epoch 53/128\n",
            "10/10 [==============================] - 3s 347ms/step - loss: 0.3833 - acc: 0.2334 - val_loss: 0.3900 - val_acc: 0.2200\n",
            "Epoch 54/128\n",
            "10/10 [==============================] - 3s 347ms/step - loss: 0.3567 - acc: 0.2866 - val_loss: 0.3900 - val_acc: 0.2200\n",
            "Epoch 55/128\n",
            "10/10 [==============================] - 3s 347ms/step - loss: 0.3768 - acc: 0.2464 - val_loss: 0.3900 - val_acc: 0.2200\n",
            "Epoch 56/128\n",
            "10/10 [==============================] - 3s 345ms/step - loss: 0.3708 - acc: 0.2583 - val_loss: 0.3900 - val_acc: 0.2200\n",
            "Epoch 57/128\n",
            "10/10 [==============================] - 3s 350ms/step - loss: 0.3722 - acc: 0.2556 - val_loss: 0.3900 - val_acc: 0.2200\n",
            "Epoch 58/128\n",
            "10/10 [==============================] - 4s 360ms/step - loss: 0.3589 - acc: 0.2822 - val_loss: 0.3900 - val_acc: 0.2200\n",
            "Epoch 59/128\n",
            "10/10 [==============================] - 3s 349ms/step - loss: 0.3732 - acc: 0.2536 - val_loss: 0.3900 - val_acc: 0.2200\n",
            "Epoch 60/128\n",
            "10/10 [==============================] - 3s 346ms/step - loss: 0.3665 - acc: 0.2671 - val_loss: 0.3900 - val_acc: 0.2200\n",
            "Epoch 61/128\n",
            "10/10 [==============================] - 3s 345ms/step - loss: 0.3601 - acc: 0.2797 - val_loss: 0.3900 - val_acc: 0.2200\n",
            "Epoch 62/128\n",
            "10/10 [==============================] - 3s 349ms/step - loss: 0.3947 - acc: 0.2106 - val_loss: 0.3900 - val_acc: 0.2200\n",
            "Epoch 63/128\n",
            "10/10 [==============================] - 3s 348ms/step - loss: 0.3842 - acc: 0.2316 - val_loss: 0.3900 - val_acc: 0.2200\n",
            "Epoch 64/128\n",
            "10/10 [==============================] - 3s 349ms/step - loss: 0.3543 - acc: 0.2914 - val_loss: 0.3900 - val_acc: 0.2200\n",
            "Epoch 65/128\n",
            "10/10 [==============================] - 3s 346ms/step - loss: 0.3759 - acc: 0.2482 - val_loss: 0.3900 - val_acc: 0.2200\n",
            "Epoch 66/128\n",
            "10/10 [==============================] - 3s 345ms/step - loss: 0.3753 - acc: 0.2493 - val_loss: 0.3900 - val_acc: 0.2200\n",
            "Epoch 67/128\n",
            "10/10 [==============================] - 3s 347ms/step - loss: 0.3707 - acc: 0.2587 - val_loss: 0.3900 - val_acc: 0.2200\n",
            "Epoch 68/128\n",
            "10/10 [==============================] - 3s 346ms/step - loss: 0.3650 - acc: 0.2700 - val_loss: 0.3900 - val_acc: 0.2200\n",
            "Epoch 69/128\n",
            "10/10 [==============================] - 3s 346ms/step - loss: 0.3644 - acc: 0.2712 - val_loss: 0.3900 - val_acc: 0.2200\n",
            "Epoch 70/128\n",
            "10/10 [==============================] - 3s 349ms/step - loss: 0.3673 - acc: 0.2654 - val_loss: 0.3900 - val_acc: 0.2200\n",
            "Epoch 71/128\n",
            "10/10 [==============================] - 3s 347ms/step - loss: 0.3682 - acc: 0.2635 - val_loss: 0.3900 - val_acc: 0.2200\n",
            "Epoch 72/128\n",
            "10/10 [==============================] - 3s 348ms/step - loss: 0.3691 - acc: 0.2617 - val_loss: 0.3900 - val_acc: 0.2200\n",
            "Epoch 73/128\n",
            "10/10 [==============================] - 3s 348ms/step - loss: 0.3666 - acc: 0.2667 - val_loss: 0.3900 - val_acc: 0.2200\n",
            "Epoch 74/128\n",
            "10/10 [==============================] - 4s 359ms/step - loss: 0.3798 - acc: 0.2405 - val_loss: 0.3900 - val_acc: 0.2200\n",
            "Epoch 75/128\n",
            "10/10 [==============================] - 3s 348ms/step - loss: 0.3730 - acc: 0.2539 - val_loss: 0.3900 - val_acc: 0.2200\n",
            "Epoch 76/128\n",
            "10/10 [==============================] - 3s 344ms/step - loss: 0.3694 - acc: 0.2611 - val_loss: 0.3900 - val_acc: 0.2200\n",
            "Epoch 77/128\n",
            "10/10 [==============================] - 3s 349ms/step - loss: 0.3824 - acc: 0.2353 - val_loss: 0.3900 - val_acc: 0.2200\n",
            "Epoch 78/128\n",
            "10/10 [==============================] - 3s 347ms/step - loss: 0.3782 - acc: 0.2436 - val_loss: 0.3900 - val_acc: 0.2200\n",
            "Epoch 79/128\n",
            "10/10 [==============================] - 3s 350ms/step - loss: 0.3657 - acc: 0.2685 - val_loss: 0.3900 - val_acc: 0.2200\n",
            "Epoch 80/128\n",
            "10/10 [==============================] - 3s 343ms/step - loss: 0.3851 - acc: 0.2298 - val_loss: 0.3900 - val_acc: 0.2200\n",
            "Epoch 81/128\n",
            "10/10 [==============================] - 3s 347ms/step - loss: 0.3530 - acc: 0.2941 - val_loss: 0.3900 - val_acc: 0.2200\n",
            "Epoch 82/128\n",
            "10/10 [==============================] - 3s 348ms/step - loss: 0.3820 - acc: 0.2360 - val_loss: 0.3900 - val_acc: 0.2200\n",
            "Epoch 83/128\n",
            "10/10 [==============================] - 3s 349ms/step - loss: 0.3711 - acc: 0.2577 - val_loss: 0.3900 - val_acc: 0.2200\n",
            "Epoch 84/128\n",
            "10/10 [==============================] - 3s 347ms/step - loss: 0.3679 - acc: 0.2642 - val_loss: 0.3900 - val_acc: 0.2200\n",
            "Epoch 85/128\n",
            "10/10 [==============================] - 3s 346ms/step - loss: 0.3885 - acc: 0.2229 - val_loss: 0.3900 - val_acc: 0.2200\n",
            "Epoch 86/128\n",
            "10/10 [==============================] - 3s 349ms/step - loss: 0.3760 - acc: 0.2481 - val_loss: 0.3900 - val_acc: 0.2200\n",
            "Epoch 87/128\n",
            "10/10 [==============================] - 3s 349ms/step - loss: 0.3697 - acc: 0.2606 - val_loss: 0.3900 - val_acc: 0.2200\n",
            "Epoch 88/128\n",
            "10/10 [==============================] - 3s 344ms/step - loss: 0.3892 - acc: 0.2216 - val_loss: 0.3900 - val_acc: 0.2200\n",
            "Epoch 89/128\n",
            "10/10 [==============================] - 4s 359ms/step - loss: 0.3802 - acc: 0.2396 - val_loss: 0.3900 - val_acc: 0.2200\n",
            "Epoch 90/128\n",
            "10/10 [==============================] - 3s 346ms/step - loss: 0.3755 - acc: 0.2490 - val_loss: 0.3900 - val_acc: 0.2200\n",
            "Epoch 91/128\n",
            "10/10 [==============================] - 3s 349ms/step - loss: 0.3681 - acc: 0.2638 - val_loss: 0.3900 - val_acc: 0.2200\n",
            "Epoch 92/128\n",
            "10/10 [==============================] - 3s 348ms/step - loss: 0.3847 - acc: 0.2305 - val_loss: 0.3900 - val_acc: 0.2200\n",
            "Epoch 93/128\n",
            "10/10 [==============================] - 3s 345ms/step - loss: 0.3786 - acc: 0.2427 - val_loss: 0.3900 - val_acc: 0.2200\n",
            "Epoch 94/128\n",
            "10/10 [==============================] - 3s 344ms/step - loss: 0.3615 - acc: 0.2770 - val_loss: 0.3900 - val_acc: 0.2200\n",
            "Epoch 95/128\n",
            "10/10 [==============================] - 3s 350ms/step - loss: 0.3541 - acc: 0.2917 - val_loss: 0.3900 - val_acc: 0.2200\n",
            "Epoch 96/128\n",
            "10/10 [==============================] - 3s 348ms/step - loss: 0.3671 - acc: 0.2657 - val_loss: 0.3900 - val_acc: 0.2200\n",
            "Epoch 97/128\n",
            "10/10 [==============================] - 3s 349ms/step - loss: 0.3708 - acc: 0.2584 - val_loss: 0.3900 - val_acc: 0.2200\n",
            "Epoch 98/128\n",
            "10/10 [==============================] - 3s 346ms/step - loss: 0.3638 - acc: 0.2724 - val_loss: 0.3900 - val_acc: 0.2200\n",
            "Epoch 99/128\n",
            "10/10 [==============================] - 3s 343ms/step - loss: 0.3704 - acc: 0.2592 - val_loss: 0.3900 - val_acc: 0.2200\n",
            "Epoch 100/128\n",
            "10/10 [==============================] - 3s 345ms/step - loss: 0.3644 - acc: 0.2711 - val_loss: 0.3900 - val_acc: 0.2200\n",
            "Epoch 101/128\n",
            "10/10 [==============================] - 3s 349ms/step - loss: 0.3833 - acc: 0.2333 - val_loss: 0.3900 - val_acc: 0.2200\n",
            "Epoch 102/128\n",
            "10/10 [==============================] - 3s 349ms/step - loss: 0.3718 - acc: 0.2565 - val_loss: 0.3900 - val_acc: 0.2200\n",
            "Epoch 103/128\n",
            "10/10 [==============================] - 3s 347ms/step - loss: 0.3807 - acc: 0.2387 - val_loss: 0.3900 - val_acc: 0.2200\n",
            "Epoch 104/128\n",
            "10/10 [==============================] - 4s 358ms/step - loss: 0.3633 - acc: 0.2735 - val_loss: 0.3900 - val_acc: 0.2200\n",
            "Epoch 105/128\n",
            "10/10 [==============================] - 3s 347ms/step - loss: 0.3714 - acc: 0.2572 - val_loss: 0.3900 - val_acc: 0.2200\n",
            "Epoch 106/128\n",
            "10/10 [==============================] - 3s 343ms/step - loss: 0.3572 - acc: 0.2856 - val_loss: 0.3900 - val_acc: 0.2200\n",
            "Epoch 107/128\n",
            "10/10 [==============================] - 3s 348ms/step - loss: 0.3606 - acc: 0.2788 - val_loss: 0.3900 - val_acc: 0.2200\n",
            "Epoch 108/128\n",
            "10/10 [==============================] - 3s 346ms/step - loss: 0.3777 - acc: 0.2445 - val_loss: 0.3900 - val_acc: 0.2200\n",
            "Epoch 109/128\n",
            "10/10 [==============================] - 3s 348ms/step - loss: 0.3731 - acc: 0.2538 - val_loss: 0.3900 - val_acc: 0.2200\n",
            "Epoch 110/128\n",
            "10/10 [==============================] - 3s 347ms/step - loss: 0.3696 - acc: 0.2608 - val_loss: 0.3900 - val_acc: 0.2200\n",
            "Epoch 111/128\n",
            "10/10 [==============================] - 3s 345ms/step - loss: 0.3682 - acc: 0.2636 - val_loss: 0.3900 - val_acc: 0.2200\n",
            "Epoch 112/128\n",
            "10/10 [==============================] - 3s 350ms/step - loss: 0.3657 - acc: 0.2686 - val_loss: 0.3900 - val_acc: 0.2200\n",
            "Epoch 113/128\n",
            "10/10 [==============================] - 3s 347ms/step - loss: 0.3708 - acc: 0.2584 - val_loss: 0.3900 - val_acc: 0.2200\n",
            "Epoch 114/128\n",
            "10/10 [==============================] - 3s 346ms/step - loss: 0.3671 - acc: 0.2658 - val_loss: 0.3900 - val_acc: 0.2200\n",
            "Epoch 115/128\n",
            "10/10 [==============================] - 3s 347ms/step - loss: 0.3634 - acc: 0.2732 - val_loss: 0.3900 - val_acc: 0.2200\n",
            "Epoch 116/128\n",
            "10/10 [==============================] - 3s 347ms/step - loss: 0.3630 - acc: 0.2739 - val_loss: 0.3900 - val_acc: 0.2200\n",
            "Epoch 117/128\n",
            "10/10 [==============================] - 3s 351ms/step - loss: 0.3713 - acc: 0.2574 - val_loss: 0.3900 - val_acc: 0.2200\n",
            "Epoch 118/128\n",
            "10/10 [==============================] - 3s 348ms/step - loss: 0.3637 - acc: 0.2726 - val_loss: 0.3900 - val_acc: 0.2200\n",
            "Epoch 119/128\n",
            "10/10 [==============================] - 3s 346ms/step - loss: 0.3907 - acc: 0.2187 - val_loss: 0.3900 - val_acc: 0.2200\n",
            "Epoch 120/128\n",
            "10/10 [==============================] - 4s 358ms/step - loss: 0.3620 - acc: 0.2761 - val_loss: 0.3900 - val_acc: 0.2200\n",
            "Epoch 121/128\n",
            "10/10 [==============================] - 3s 349ms/step - loss: 0.3612 - acc: 0.2776 - val_loss: 0.3900 - val_acc: 0.2200\n",
            "Epoch 122/128\n",
            "10/10 [==============================] - 3s 348ms/step - loss: 0.3745 - acc: 0.2510 - val_loss: 0.3900 - val_acc: 0.2200\n",
            "Epoch 123/128\n",
            "10/10 [==============================] - 3s 347ms/step - loss: 0.3669 - acc: 0.2662 - val_loss: 0.3900 - val_acc: 0.2200\n",
            "Epoch 124/128\n",
            "10/10 [==============================] - 3s 347ms/step - loss: 0.3712 - acc: 0.2576 - val_loss: 0.3900 - val_acc: 0.2200\n",
            "Epoch 125/128\n",
            "10/10 [==============================] - 3s 350ms/step - loss: 0.3700 - acc: 0.2599 - val_loss: 0.3900 - val_acc: 0.2200\n",
            "Epoch 126/128\n",
            "10/10 [==============================] - 3s 349ms/step - loss: 0.3852 - acc: 0.2295 - val_loss: 0.3900 - val_acc: 0.2200\n",
            "Epoch 127/128\n",
            "10/10 [==============================] - 3s 346ms/step - loss: 0.3584 - acc: 0.2831 - val_loss: 0.3900 - val_acc: 0.2200\n",
            "Epoch 128/128\n",
            "10/10 [==============================] - 3s 343ms/step - loss: 0.3730 - acc: 0.2540 - val_loss: 0.3900 - val_acc: 0.2200\n",
            "Complete.\n",
            "CPU times: user 3min 42s, sys: 1min 49s, total: 5min 32s\n",
            "Wall time: 7min 31s\n"
          ],
          "name": "stdout"
        }
      ]
    },
    {
      "cell_type": "markdown",
      "metadata": {
        "id": "rKELx5csgTNC"
      },
      "source": [
        "# 学習可視化"
      ]
    },
    {
      "cell_type": "code",
      "metadata": {
        "colab": {
          "base_uri": "https://localhost:8080/"
        },
        "id": "ypG238EdgVWy",
        "outputId": "579a02c1-0d13-44b5-99f6-595e0d4927aa"
      },
      "source": [
        "now_time = datetime.datetime.now(datetime.timezone(datetime.timedelta(hours=9)))\n",
        "today = now_time.strftime('%m%d')\n",
        "\n",
        "print(today)\n",
        "def plot_learning(history, experiment_name=\"No name\"):\n",
        "  HEIGHT = 1\n",
        "  WIDTH = 2\n",
        "  rate = 5.0\n",
        "  WpH_rate = 1.5\n",
        "  fig = plt.figure(figsize=(WIDTH*rate*WpH_rate, HEIGHT*rate))\n",
        "  plt.subplots_adjust(left=None, bottom=None, right=None, top=None, wspace=None, hspace=None)\n",
        "\n",
        "  LOSS = fig.add_subplot(HEIGHT, WIDTH, 1) # loss, val_loss\n",
        "  ACC = fig.add_subplot(HEIGHT, WIDTH, 2) # acc, val_acc\n",
        "\n",
        "  # 1,1 loss\n",
        "  loss = history.history[\"loss\"]\n",
        "  val_loss = history.history[\"val_loss\"]\n",
        "\n",
        "  loss_props = {\n",
        "        'title' : 'Loss values plot',\n",
        "        'xlabel' : 'epoch',\n",
        "        'ylabel' : 'value'\n",
        "    }\n",
        "  LOSS.set(**loss_props)\n",
        "  LOSS.plot(loss, label='loss', color='blue')\n",
        "  LOSS.plot(val_loss, label='val_loss', color='orange')\n",
        "  LOSS.legend(loc='best')\n",
        "\n",
        "  # 1,2 acc\n",
        "  acc = history.history['acc']\n",
        "  val_acc = history.history['val_acc']\n",
        "  acc_props = {\n",
        "        'title' : 'Accuracy values plot',\n",
        "        'xlabel' : 'epoch',\n",
        "        'ylabel' : 'value'\n",
        "    }\n",
        "\n",
        "  ACC.set(**acc_props)\n",
        "  ACC.plot(acc, label='acc', color='blue')\n",
        "  ACC.plot(val_acc, label='val_acc', color='orange')\n",
        "  ACC.legend(loc='best')\n",
        "\n",
        "  #save\n",
        "  image_path = path.join(desk, experiment_name+today)\n",
        "  fig.savefig(image_path, bbox_inches='tight')"
      ],
      "execution_count": 66,
      "outputs": [
        {
          "output_type": "stream",
          "text": [
            "0121\n"
          ],
          "name": "stdout"
        }
      ]
    },
    {
      "cell_type": "code",
      "metadata": {
        "colab": {
          "base_uri": "https://localhost:8080/",
          "height": 326
        },
        "id": "IvhBOvD-hCMX",
        "outputId": "d9b4936d-d548-4672-9c44-302aa09f062e"
      },
      "source": [
        "plot_learning(histories[0], \"how_adam_used_for_KTH_in_certain_model\")"
      ],
      "execution_count": 90,
      "outputs": [
        {
          "output_type": "display_data",
          "data": {
            "image/png": "[encoded data removed]",
            "text/plain": [
              "<Figure size 1080x360 with 2 Axes>"
            ]
          },
          "metadata": {
            "tags": [],
            "needs_background": "light"
          }
        }
      ]
    },
    {
      "cell_type": "markdown",
      "metadata": {
        "id": "w57fZL4pkqsy"
      },
      "source": [
        "# 学習可視化データ保存"
      ]
    },
    {
      "cell_type": "code",
      "metadata": {
        "colab": {
          "base_uri": "https://localhost:8080/"
        },
        "id": "hDnwRrMtkqWi",
        "outputId": "5953eb4e-8ca9-4fc4-d899-4943a288ae84"
      },
      "source": [
        "shelf = '/content/drive/MyDrive/colab'\n",
        "book = 'tuning_results'\n",
        "shelf_book = os.path.join(shelf, book)\n",
        "shelf_book_page = path.join(shelf_book, today)\n",
        "print(shelf_book_page)\n",
        "# 保存\n",
        "if not os.path.exists(shelf_book_page):\n",
        "  os.makedirs(shelf_book_page)\n",
        "\n",
        "print(\"Please confirm in the desk\")\n",
        "print(\"OK? y/n\")\n",
        "IO = input()\n",
        "if IO == 'y':\n",
        "  print(\"writing all to a strage now.\")\n",
        "  for each_file in os.listdir(desk):\n",
        "    if re.match(r\"\\..*\", each_file,):\n",
        "      pass\n",
        "    elif re.match(r\".*\\.png\", each_file,):\n",
        "      print(\"->\", each_file)\n",
        "      shutil.copy2(each_file, shelf_book_page)\n",
        "    else:\n",
        "      pass\n",
        "else:\n",
        "  pass\n"
      ],
      "execution_count": 91,
      "outputs": [
        {
          "output_type": "stream",
          "text": [
            "/content/drive/MyDrive/colab/tuning_results/0121\n",
            "Please confirm in the desk\n",
            "OK? y/n\n",
            "y\n",
            "writing all to a strage now.\n",
            "-> how_adam_used_for_KTH_in_certain_model0121.png\n",
            "-> how_sgd_used_for_KTH_in_certain_model0121.png\n"
          ],
          "name": "stdout"
        }
      ]
    }
  ]
}