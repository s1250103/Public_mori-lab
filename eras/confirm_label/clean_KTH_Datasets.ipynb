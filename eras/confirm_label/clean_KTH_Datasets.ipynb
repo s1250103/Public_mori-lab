{
  "nbformat": 4,
  "nbformat_minor": 0,
  "metadata": {
    "colab": {
      "name": "clean_KTH_Datasets.ipynb",
      "provenance": [],
      "toc_visible": true,
      "authorship_tag": "ABX9TyPCENigPtQyIcMfgg4fJeED",
      "include_colab_link": true
    },
    "kernelspec": {
      "name": "python3",
      "display_name": "Python 3"
    },
    "accelerator": "GPU"
  },
  "cells": [
    {
      "cell_type": "markdown",
      "metadata": {
        "id": "view-in-github",
        "colab_type": "text"
      },
      "source": [
        "<a href=\"https://colab.research.google.com/github/s1250103/Public_mori-lab/blob/confirm_label_noize_for_cm_data/eras/confirm_label/clean_KTH_Datasets.ipynb\" target=\"_parent\"><img src=\"https://colab.research.google.com/assets/colab-badge.svg\" alt=\"Open In Colab\"/></a>"
      ]
    },
    {
      "cell_type": "markdown",
      "metadata": {
        "id": "yD5NNFtmCpwP"
      },
      "source": [
        "このシステムは以下のような変換を意図している: <br>\n",
        "  データ→[このシステム]→(変換されたデータ, 教師ラベル) <br>\n",
        "ここで、\n",
        "*   データとは：動画を表現した形式の複数\n",
        "*   変換されたデータとは：ニューラルネットワークの入力として適した形式になっているデータ\n",
        "*   教師ラベルとは：教師あり学習における正解ラベルのこと。\n",
        "\n",
        "2021/01/19：森谷亮太\n",
        "\n",
        "\n"
      ]
    },
    {
      "cell_type": "markdown",
      "metadata": {
        "id": "Gj0iVWcYBORD"
      },
      "source": [
        "# 環境設定"
      ]
    },
    {
      "cell_type": "code",
      "metadata": {
        "id": "aMQpYy-bEwwO"
      },
      "source": [
        "#@title 絶対条件（実験の条件に関わり最も重要）\n",
        "LABEL_NOISE_RATE = 0\n",
        "CLASSES = [\"walking\", \"boxing\", \"running\", \"handwaving\"]\n",
        "\n",
        "rate_of_testdata = 0.3\n",
        "\n",
        "class video_format:\n",
        "  name = \"video_format\"\n",
        "  # サンプリングされたCMデータの仕様\n",
        "  playtime = \"15秒\"\n",
        "  displaysize = \"(any, any, RGB)\"\n",
        "  videoformat = \"any\"\n",
        "  # モデルが扱うCMデータ(上のようなデータは、下のように変換される)\n",
        "  HEIGHT = 45\n",
        "  WIDTH = 80\n",
        "  FRAME_SIZE = 30\n",
        "  COLOR = \"RGB\"\n",
        "  FPS = \"2 (FRAME_SIZE / playtime)\" # 定義ではなく上から導かれた値"
      ],
      "execution_count": 1,
      "outputs": []
    },
    {
      "cell_type": "code",
      "metadata": {
        "id": "ucq4a1O8NSJu"
      },
      "source": [
        "dataPath = \"/content/drive/MyDrive/colab/KTH_datasets\""
      ],
      "execution_count": 2,
      "outputs": []
    },
    {
      "cell_type": "code",
      "metadata": {
        "id": "m97opyuoFH5p"
      },
      "source": [
        "#@title import\n",
        "# file dealing\n",
        "import os\n",
        "from os import path\n",
        "import shutil\n",
        "from google.colab import drive\n",
        "# data dealing\n",
        "import numpy as np\n",
        "from pandas import DataFrame\n",
        "import matplotlib.pyplot as plt\n",
        "# process deasing\n",
        "import gc\n",
        "\n",
        "# other\n",
        "import re"
      ],
      "execution_count": 3,
      "outputs": []
    },
    {
      "cell_type": "markdown",
      "metadata": {
        "id": "vsPBjPEDBfZV"
      },
      "source": [
        "# データの変換とラベリング"
      ]
    },
    {
      "cell_type": "code",
      "metadata": {
        "id": "ba20PBiDApiV"
      },
      "source": [
        "def connect_to_gdrive():\n",
        "  # gdrive 接続\n",
        "  if not os.path.exists('/content/drive'):\n",
        "    drive.mount('/content/drive')\n",
        "  else:\n",
        "    print(\"Already confirm\")\n",
        "\n",
        "def create_and_connect_to_desk():\n",
        "  # colab テンポラリディレクトリの作成\n",
        "  desk = '/content/desk'\n",
        "  if not os.path.exists(desk):\n",
        "    os.mkdir(desk)\n",
        "  print(\"Created at /content/desk\")\n",
        "  return desk\n",
        "\n"
      ],
      "execution_count": 4,
      "outputs": []
    },
    {
      "cell_type": "code",
      "metadata": {
        "colab": {
          "base_uri": "https://localhost:8080/"
        },
        "id": "XWpO47C2HHNH",
        "outputId": "3cafb002-0d05-4600-f066-585dd25b277f"
      },
      "source": [
        "connect_to_gdrive()\n",
        "desk = create_and_connect_to_desk()"
      ],
      "execution_count": 5,
      "outputs": [
        {
          "output_type": "stream",
          "text": [
            "Mounted at /content/drive\n",
            "Created at /content/desk\n"
          ],
          "name": "stdout"
        }
      ]
    },
    {
      "cell_type": "code",
      "metadata": {
        "colab": {
          "base_uri": "https://localhost:8080/"
        },
        "id": "3y5tiDTwHxpt",
        "outputId": "a02be59b-f7c0-486f-cdf2-29101087a399"
      },
      "source": [
        "if os.path.isdir(dataPath):\n",
        "  print(\"exist the path\")\n",
        "else:\n",
        "  print(\"no such path\")\n"
      ],
      "execution_count": 6,
      "outputs": [
        {
          "output_type": "stream",
          "text": [
            "exist the path\n"
          ],
          "name": "stdout"
        }
      ]
    },
    {
      "cell_type": "markdown",
      "metadata": {
        "id": "RJiCxmWMXKMj"
      },
      "source": [
        "概要"
      ]
    },
    {
      "cell_type": "code",
      "metadata": {
        "colab": {
          "base_uri": "https://localhost:8080/"
        },
        "id": "lWPNz4qGOp_J",
        "outputId": "70c2773d-8619-411d-d13b-cf751c700b82"
      },
      "source": [
        "accumulated_value_for_cleaned_data = []\n",
        "\n",
        "# into each class\n",
        "for each_class in CLASSES:\n",
        "  print(\"clean the class : \", each_class)\n",
        "  each_class_path = path.join(dataPath, each_class)\n",
        "  if os.path.isdir(each_class_path):\n",
        "    print(\"|------------- exist the path : \", each_class_path)\n",
        "    files_in_each_class = os.listdir(each_class_path)\n",
        "    size_of_each_class = len(files_in_each_class)\n",
        "    accumulated_value_for_cleaned_data.append(size_of_each_class)\n",
        "    print(\"____|------------ exist\", size_of_each_class, \"files in the class & accumulated value is\", sum(accumulated_value_for_cleaned_data))\n",
        "\n",
        "  else:\n",
        "    exit(0)\n",
        "  print(\"===========================================================================\")"
      ],
      "execution_count": 7,
      "outputs": [
        {
          "output_type": "stream",
          "text": [
            "clean the class :  walking\n",
            "|------------- exist the path :  /content/drive/MyDrive/colab/KTH_datasets/walking\n",
            "____|------------ exist 100 files in the class & accumulated value is 100\n",
            "===========================================================================\n",
            "clean the class :  boxing\n",
            "|------------- exist the path :  /content/drive/MyDrive/colab/KTH_datasets/boxing\n",
            "____|------------ exist 100 files in the class & accumulated value is 200\n",
            "===========================================================================\n",
            "clean the class :  running\n",
            "|------------- exist the path :  /content/drive/MyDrive/colab/KTH_datasets/running\n",
            "____|------------ exist 100 files in the class & accumulated value is 300\n",
            "===========================================================================\n",
            "clean the class :  handwaving\n",
            "|------------- exist the path :  /content/drive/MyDrive/colab/KTH_datasets/handwaving\n",
            "____|------------ exist 100 files in the class & accumulated value is 400\n",
            "===========================================================================\n"
          ],
          "name": "stdout"
        }
      ]
    },
    {
      "cell_type": "code",
      "metadata": {
        "colab": {
          "base_uri": "https://localhost:8080/",
          "height": 367
        },
        "id": "MkzFX91eXX5Y",
        "outputId": "6a345c73-0830-4f38-d462-3bb0648f1770"
      },
      "source": [
        "import matplotlib.pyplot as plt\n",
        " \n",
        "left = [1, 2, 3, 4]\n",
        "height = accumulated_value_for_cleaned_data\n",
        "\n",
        "labels = CLASSES\n",
        " \n",
        "plt.bar(left, height, width=0.5, color='#0096c8',\n",
        "        edgecolor='b', linewidth=2, tick_label=labels)\n",
        "\n",
        "plt.savefig(\"img.png\")\n",
        "plt.show()\n",
        "\n",
        "for i, each_label in enumerate(labels):\n",
        "  print(each_label, \":\", accumulated_value_for_cleaned_data[i])\n",
        "print(\"__________________________________________________________\")\n",
        "print(\"Sum : \", sum(accumulated_value_for_cleaned_data))"
      ],
      "execution_count": 8,
      "outputs": [
        {
          "output_type": "display_data",
          "data": {
            "image/png": "[encoded data removed]",
            "text/plain": [
              "<Figure size 432x288 with 1 Axes>"
            ]
          },
          "metadata": {
            "tags": [],
            "needs_background": "light"
          }
        },
        {
          "output_type": "stream",
          "text": [
            "walking : 100\n",
            "boxing : 100\n",
            "running : 100\n",
            "handwaving : 100\n",
            "__________________________________________________________\n",
            "Sum :  400\n"
          ],
          "name": "stdout"
        }
      ]
    },
    {
      "cell_type": "code",
      "metadata": {
        "id": "MeHFohX6dSTn"
      },
      "source": [
        "import math\n",
        "import cv2\n",
        "def makeupVideo(video_path):\n",
        "  format1=video_format()\n",
        "  video = cv2.VideoCapture(video_path)\n",
        "  framesize = int(video.get(cv2.CAP_PROP_FRAME_COUNT))\n",
        "  cutTiming = math.floor(framesize / format1.FRAME_SIZE)\n",
        "  cutTail = cutTiming * format1.FRAME_SIZE\n",
        "  normalizedFrames = []\n",
        "  contener_normalized_frames = []\n",
        "  count = 0\n",
        "  # フレーム３０枚分を１つの動画から間伐する\n",
        "  while count <= cutTail - 1:\n",
        "    IO, frame = video.read()\n",
        "    if (count % cutTiming) == 0: \n",
        "      if not IO:\n",
        "        print(\"error\") \n",
        "        break\n",
        "      else: \n",
        "        fixedFrame = cv2.resize(frame, dsize=(format1.WIDTH, format1.HEIGHT))\n",
        "        fixedFrame = fixedFrame.flatten().astype(np.float32)/255.0\n",
        "        check(fixedFrame) # デバッグ用\n",
        "        normalizedFrames.append(fixedFrame)\n",
        "    else:\n",
        "      pass\n",
        "    \n",
        "    contener_normalized_frames.append(normalizedFrames)\n",
        "    count += 1\n",
        "\n",
        "  contener_normalized_frames = np.array(contener_normalized_frames)\n",
        "  return contener_normalized_frames\n",
        "\n",
        "def check(image):\n",
        "  if debug == True:\n",
        "    img = cv2.cvtColor(image, cv2.COLOR_BGR2RGB)\n",
        "    plt.imshow(img)\n",
        "    plt.show()\n",
        "  else:\n",
        "    return"
      ],
      "execution_count": 9,
      "outputs": []
    },
    {
      "cell_type": "code",
      "metadata": {
        "id": "E84OX-W4W_ay",
        "outputId": "dc118b60-2002-46d3-84a3-2b8e5fbe0da4",
        "colab": {
          "base_uri": "https://localhost:8080/"
        }
      },
      "source": [
        "%%time\n",
        "# into each class\n",
        "debug = False\n",
        "cleaned_data_contener = []\n",
        "label_contener = []\n",
        "for counter_class, each_class in enumerate(CLASSES):\n",
        "  print(\"clean the files in the class : \", each_class)\n",
        "  each_class_path = path.join(dataPath, each_class)\n",
        "  if os.path.isdir(each_class_path):\n",
        "    print(\"|------------- the path : \", each_class_path)\n",
        "    files_in_each_class = os.listdir(each_class_path)\n",
        "    size_of_each_class = len(files_in_each_class)\n",
        "    # into each file\n",
        "    for each_file in files_in_each_class:\n",
        "      if re.match(r\".*\\..*\", each_file,):\n",
        "        print(\"________|------------ start to clean: \", each_file)\n",
        "        each_file_path = path.join(each_class_path, each_file)\n",
        "        if path.exists(each_file_path):\n",
        "          print(\"________________|------------- confirm the file.\")\n",
        "          cleaned_data = makeupVideo(each_file_path)\n",
        "          cleaned_data_contener.append(cleaned_data)\n",
        "          label_contener.append(counter_class)\n",
        "          print(\"________________|------------- finish the treatment.\")\n",
        "\n",
        "        else:\n",
        "          print(\"________________|------------- can not confirm the file.\")\n",
        "          exit(0)\n",
        "      else:\n",
        "        print(\"________|------------ ignore the system file\")\n",
        "      # break\n",
        "  else:\n",
        "    exit(0)\n",
        "print(\"===========================================================================\")\n",
        "print(\"finish all\")\n",
        "#/for\n"
      ],
      "execution_count": null,
      "outputs": [
        {
          "output_type": "stream",
          "text": [
            "clean the files in the class :  walking\n",
            "|------------- the path :  /content/drive/MyDrive/colab/KTH_datasets/walking\n",
            "________|------------ start to clean:  person01_walking_d1_uncomp.avi\n",
            "________________|------------- confirm the file.\n",
            "________________|------------- finish the treatment.\n",
            "________|------------ start to clean:  person01_walking_d2_uncomp.avi\n",
            "________________|------------- confirm the file.\n",
            "________________|------------- finish the treatment.\n",
            "________|------------ start to clean:  person01_walking_d3_uncomp.avi\n",
            "________________|------------- confirm the file.\n",
            "________________|------------- finish the treatment.\n",
            "________|------------ start to clean:  person01_walking_d4_uncomp.avi\n",
            "________________|------------- confirm the file.\n",
            "________________|------------- finish the treatment.\n",
            "________|------------ start to clean:  person02_walking_d1_uncomp.avi\n",
            "________________|------------- confirm the file.\n",
            "________________|------------- finish the treatment.\n",
            "________|------------ start to clean:  person02_walking_d2_uncomp.avi\n",
            "________________|------------- confirm the file.\n",
            "________________|------------- finish the treatment.\n",
            "________|------------ start to clean:  person02_walking_d3_uncomp.avi\n",
            "________________|------------- confirm the file.\n",
            "________________|------------- finish the treatment.\n",
            "________|------------ start to clean:  person02_walking_d4_uncomp.avi\n",
            "________________|------------- confirm the file.\n",
            "________________|------------- finish the treatment.\n",
            "________|------------ start to clean:  person03_walking_d1_uncomp.avi\n",
            "________________|------------- confirm the file.\n",
            "________________|------------- finish the treatment.\n",
            "________|------------ start to clean:  person03_walking_d2_uncomp.avi\n",
            "________________|------------- confirm the file.\n",
            "________________|------------- finish the treatment.\n",
            "________|------------ start to clean:  person03_walking_d3_uncomp.avi\n",
            "________________|------------- confirm the file.\n",
            "________________|------------- finish the treatment.\n",
            "________|------------ start to clean:  person03_walking_d4_uncomp.avi\n",
            "________________|------------- confirm the file.\n",
            "________________|------------- finish the treatment.\n",
            "________|------------ start to clean:  person04_walking_d1_uncomp.avi\n",
            "________________|------------- confirm the file.\n",
            "________________|------------- finish the treatment.\n",
            "________|------------ start to clean:  person04_walking_d2_uncomp.avi\n",
            "________________|------------- confirm the file.\n"
          ],
          "name": "stdout"
        }
      ]
    },
    {
      "cell_type": "markdown",
      "metadata": {
        "id": "IkSYV6fdBzCY"
      },
      "source": [
        "# データをエクスポート"
      ]
    },
    {
      "cell_type": "code",
      "metadata": {
        "id": "-CP99BVGuZ0_"
      },
      "source": [
        "def save_data(npdata, saveName):\n",
        "  np.savez(os.path.join(desk, saveName), *npdata)"
      ],
      "execution_count": null,
      "outputs": []
    },
    {
      "cell_type": "code",
      "metadata": {
        "id": "xLBnX8bqudkC",
        "colab": {
          "base_uri": "https://localhost:8080/",
          "height": 219
        },
        "outputId": "8c69ac54-a6c6-4ecd-b49f-9c946947d08d"
      },
      "source": [
        "if len(cleaned_data_contener) == len(label_contener):\n",
        "  cleaned_data_contener = np.array(cleaned_data_contener)\n",
        "  label_contener = np.array(label_contener)\n",
        "  save_data(cleaned_data_contener, \"Data_of_KTH\")\n",
        "  save_data(label_contener, \"Label_of_KTH\")"
      ],
      "execution_count": 39,
      "outputs": [
        {
          "output_type": "error",
          "ename": "NameError",
          "evalue": "ignored",
          "traceback": [
            "\u001b[0;31m---------------------------------------------------------------------------\u001b[0m",
            "\u001b[0;31mNameError\u001b[0m                                 Traceback (most recent call last)",
            "\u001b[0;32m<ipython-input-39-4f752e1dbae9>\u001b[0m in \u001b[0;36m<module>\u001b[0;34m()\u001b[0m\n\u001b[1;32m      2\u001b[0m   \u001b[0mcleaned_data_contener\u001b[0m \u001b[0;34m=\u001b[0m \u001b[0mnp\u001b[0m\u001b[0;34m.\u001b[0m\u001b[0marray\u001b[0m\u001b[0;34m(\u001b[0m\u001b[0mcleaned_data_contener\u001b[0m\u001b[0;34m)\u001b[0m\u001b[0;34m\u001b[0m\u001b[0;34m\u001b[0m\u001b[0m\n\u001b[1;32m      3\u001b[0m   \u001b[0mlabel_contener\u001b[0m \u001b[0;34m=\u001b[0m \u001b[0mnp\u001b[0m\u001b[0;34m.\u001b[0m\u001b[0marray\u001b[0m\u001b[0;34m(\u001b[0m\u001b[0mlabel_contener\u001b[0m\u001b[0;34m)\u001b[0m\u001b[0;34m\u001b[0m\u001b[0;34m\u001b[0m\u001b[0m\n\u001b[0;32m----> 4\u001b[0;31m   \u001b[0msave_data\u001b[0m\u001b[0;34m(\u001b[0m\u001b[0mcleaned_data_contener\u001b[0m\u001b[0;34m,\u001b[0m \u001b[0;34m\"Data_of_KTH\"\u001b[0m\u001b[0;34m)\u001b[0m\u001b[0;34m\u001b[0m\u001b[0;34m\u001b[0m\u001b[0m\n\u001b[0m\u001b[1;32m      5\u001b[0m   \u001b[0msave_data\u001b[0m\u001b[0;34m(\u001b[0m\u001b[0mlabel_contener\u001b[0m\u001b[0;34m,\u001b[0m \u001b[0;34m\"Label_of_KTH\"\u001b[0m\u001b[0;34m)\u001b[0m\u001b[0;34m\u001b[0m\u001b[0;34m\u001b[0m\u001b[0m\n",
            "\u001b[0;31mNameError\u001b[0m: name 'save_data' is not defined"
          ]
        }
      ]
    },
    {
      "cell_type": "code",
      "metadata": {
        "id": "a6tRLdh6XiHH",
        "outputId": "512f5c34-3542-4200-d648-956d40849dd3",
        "colab": {
          "base_uri": "https://localhost:8080/"
        }
      },
      "source": [
        "cleaned_data_contener.shape\n",
        "label_contener[0]"
      ],
      "execution_count": 29,
      "outputs": [
        {
          "output_type": "execute_result",
          "data": {
            "text/plain": [
              "0"
            ]
          },
          "metadata": {
            "tags": []
          },
          "execution_count": 29
        }
      ]
    },
    {
      "cell_type": "code",
      "metadata": {
        "id": "V6zoHZ0ZXvWs",
        "outputId": "ba589b1f-904b-401b-96c9-b711280adae9",
        "colab": {
          "base_uri": "https://localhost:8080/"
        }
      },
      "source": [
        "print(cleaned_data_contener[0].shape)\n"
      ],
      "execution_count": 42,
      "outputs": [
        {
          "output_type": "stream",
          "text": [
            "(324000,)\n"
          ],
          "name": "stdout"
        }
      ]
    },
    {
      "cell_type": "code",
      "metadata": {
        "id": "ChzXQPLJwfyu"
      },
      "source": [
        "shelf = '/content/drive/MyDrive/colab/cleaned_detasets'\n",
        "book = \"KTH\"\n",
        "shelf_book = os.path.join(shelf, book)\n",
        "if not os.path.exists(shelf_book):\n",
        "  os.mkdir(shelf_book)"
      ],
      "execution_count": null,
      "outputs": []
    },
    {
      "cell_type": "code",
      "metadata": {
        "id": "fc-qegtGwgzk"
      },
      "source": [
        "wants_paths = [\n",
        "\"/content/desk/Data_of_KTH.npz\",\n",
        "\"/content/desk/Label_of_KTH.npz\",\n",
        "]\n",
        "\n",
        "for want in wants_paths:\n",
        "  shutil.copy2(\n",
        "      want,\n",
        "      shelf_book\n",
        "  )"
      ],
      "execution_count": null,
      "outputs": []
    }
  ]
}