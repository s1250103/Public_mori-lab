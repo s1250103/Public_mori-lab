{
  "nbformat": 4,
  "nbformat_minor": 0,
  "metadata": {
    "colab": {
      "name": "clean_KTH_Datasets.ipynb",
      "provenance": [],
      "toc_visible": true,
      "include_colab_link": true
    },
    "kernelspec": {
      "name": "python3",
      "display_name": "Python 3"
    },
    "accelerator": "GPU"
  },
  "cells": [
    {
      "cell_type": "markdown",
      "metadata": {
        "id": "view-in-github",
        "colab_type": "text"
      },
      "source": [
        "<a href=\"https://colab.research.google.com/github/s1250103/Public_mori-lab/blob/confirm_label_noize_for_cm_data/eras/confirm_label/clean_KTH_Datasets.ipynb\" target=\"_parent\"><img src=\"https://colab.research.google.com/assets/colab-badge.svg\" alt=\"Open In Colab\"/></a>"
      ]
    },
    {
      "cell_type": "markdown",
      "metadata": {
        "id": "yD5NNFtmCpwP"
      },
      "source": [
        "このシステムは以下のような変換を意図している: <br>\n",
        "  データ→[このシステム]→(変換されたデータ, 教師ラベル) <br>\n",
        "ここで、\n",
        "*   データとは：動画を表現した形式の複数\n",
        "*   変換されたデータとは：ニューラルネットワークの入力として適した形式になっているデータ\n",
        "*   教師ラベルとは：教師あり学習における正解ラベルのこと。\n",
        "\n",
        "2021/01/19：森谷亮太\n",
        "\n",
        "\n"
      ]
    },
    {
      "cell_type": "markdown",
      "metadata": {
        "id": "Gj0iVWcYBORD"
      },
      "source": [
        "# 環境設定"
      ]
    },
    {
      "cell_type": "code",
      "metadata": {
        "id": "aMQpYy-bEwwO"
      },
      "source": [
        "#@title 絶対条件（実験の条件に関わり最も重要）\n",
        "LABEL_NOISE_RATE = 0\n",
        "CLASSES = [\"walking\", \"boxing\", \"running\", \"handwaving\"]\n",
        "\n",
        "rate_of_testdata = 0.3\n",
        "\n",
        "class video_format:\n",
        "  name = \"video_format\"\n",
        "  # サンプリングされたCMデータの仕様\n",
        "  playtime = \"15秒\"\n",
        "  displaysize = \"(any, any, RGB)\"\n",
        "  videoformat = \"any\"\n",
        "  # モデルが扱うCMデータ(上のようなデータは、下のように変換される)\n",
        "  HEIGHT = 45\n",
        "  WIDTH = 80\n",
        "  FRAME_SIZE = 30\n",
        "  COLOR = \"RGB\"\n",
        "  FPS = \"2 (FRAME_SIZE / playtime)\" # 定義ではなく上から導かれた値"
      ],
      "execution_count": 3,
      "outputs": []
    },
    {
      "cell_type": "code",
      "metadata": {
        "id": "ucq4a1O8NSJu"
      },
      "source": [
        "dataPath = \"/content/drive/MyDrive/colab/KTH_datasets\""
      ],
      "execution_count": 4,
      "outputs": []
    },
    {
      "cell_type": "code",
      "metadata": {
        "id": "m97opyuoFH5p"
      },
      "source": [
        "#@title import\n",
        "# file dealing\n",
        "import os\n",
        "from os import path\n",
        "import shutil\n",
        "from google.colab import drive\n",
        "# data dealing\n",
        "import numpy as np\n",
        "from pandas import DataFrame\n",
        "import matplotlib.pyplot as plt\n",
        "# process deasing\n",
        "import gc\n",
        "\n",
        "# other\n",
        "import re\n",
        "import requests"
      ],
      "execution_count": 77,
      "outputs": []
    },
    {
      "cell_type": "code",
      "metadata": {
        "id": "kGs8nPQIFw3J"
      },
      "source": [
        "def beep():\n",
        "  from google.colab import output\n",
        "  output.eval_js('new Audio(\\\n",
        "\"https://upload.wikimedia.org/wikipedia/commons/0/05/Beep-09.ogg\")\\\n",
        ".play()') "
      ],
      "execution_count": 71,
      "outputs": []
    },
    {
      "cell_type": "code",
      "metadata": {
        "id": "MTzMBmYKGGHK"
      },
      "source": [
        "def send_line_notify(notification_message):\n",
        "    \"\"\"\n",
        "    LINEに通知する\n",
        "    \"\"\"\n",
        "    line_notify_token = 'cHdELzsau6ve8hNVL3FxPz65Jdyquzuj2kd021u8q1L'\n",
        "    line_notify_api = 'https://notify-api.line.me/api/notify'\n",
        "    headers = {'Authorization': f'Bearer {line_notify_token}'}\n",
        "    data = {'message': notification_message}\n",
        "    requests.post(line_notify_api, headers = headers, data = data)"
      ],
      "execution_count": 74,
      "outputs": []
    },
    {
      "cell_type": "markdown",
      "metadata": {
        "id": "vsPBjPEDBfZV"
      },
      "source": [
        "# データの変換とラベリング"
      ]
    },
    {
      "cell_type": "code",
      "metadata": {
        "id": "ba20PBiDApiV"
      },
      "source": [
        "def connect_to_gdrive():\n",
        "  # gdrive 接続\n",
        "  if not os.path.exists('/content/drive'):\n",
        "    drive.mount('/content/drive')\n",
        "  else:\n",
        "    print(\"Already confirm\")\n",
        "\n",
        "def create_and_connect_to_desk():\n",
        "  # colab テンポラリディレクトリの作成\n",
        "  desk = '/content/desk'\n",
        "  if not os.path.exists(desk):\n",
        "    os.mkdir(desk)\n",
        "  print(\"Created at /content/desk\")\n",
        "  return desk\n",
        "\n"
      ],
      "execution_count": 6,
      "outputs": []
    },
    {
      "cell_type": "code",
      "metadata": {
        "colab": {
          "base_uri": "https://localhost:8080/"
        },
        "id": "XWpO47C2HHNH",
        "outputId": "337be4f4-1ef7-4c67-9665-15d260071a72"
      },
      "source": [
        "connect_to_gdrive()\n",
        "desk = create_and_connect_to_desk()"
      ],
      "execution_count": 7,
      "outputs": [
        {
          "output_type": "stream",
          "text": [
            "Already confirm\n",
            "Created at /content/desk\n"
          ],
          "name": "stdout"
        }
      ]
    },
    {
      "cell_type": "code",
      "metadata": {
        "colab": {
          "base_uri": "https://localhost:8080/"
        },
        "id": "3y5tiDTwHxpt",
        "outputId": "0804b0b0-2e24-4958-fa94-51bfcef24a7e"
      },
      "source": [
        "if os.path.isdir(dataPath):\n",
        "  print(\"exist the path\")\n",
        "else:\n",
        "  print(\"no such path\")\n"
      ],
      "execution_count": 8,
      "outputs": [
        {
          "output_type": "stream",
          "text": [
            "exist the path\n"
          ],
          "name": "stdout"
        }
      ]
    },
    {
      "cell_type": "markdown",
      "metadata": {
        "id": "RJiCxmWMXKMj"
      },
      "source": [
        "概要"
      ]
    },
    {
      "cell_type": "code",
      "metadata": {
        "colab": {
          "base_uri": "https://localhost:8080/"
        },
        "id": "lWPNz4qGOp_J",
        "outputId": "70dd6b38-5df9-4b26-bb5b-a772986124fb"
      },
      "source": [
        "accumulated_value_for_cleaned_data = []\n",
        "\n",
        "# into each class\n",
        "for each_class in CLASSES:\n",
        "  print(\"clean the class : \", each_class)\n",
        "  each_class_path = path.join(dataPath, each_class)\n",
        "  if os.path.isdir(each_class_path):\n",
        "    print(\"|------------- exist the path : \", each_class_path)\n",
        "    files_in_each_class = os.listdir(each_class_path)\n",
        "    size_of_each_class = len(files_in_each_class)\n",
        "    accumulated_value_for_cleaned_data.append(size_of_each_class)\n",
        "    print(\"____|------------ exist\", size_of_each_class, \"files in the class & accumulated value is\", sum(accumulated_value_for_cleaned_data))\n",
        "\n",
        "  else:\n",
        "    exit(0)\n",
        "  print(\"===========================================================================\")"
      ],
      "execution_count": 104,
      "outputs": [
        {
          "output_type": "stream",
          "text": [
            "clean the class :  walking\n",
            "|------------- exist the path :  /content/drive/MyDrive/colab/KTH_datasets/walking\n",
            "____|------------ exist 100 files in the class & accumulated value is 100\n",
            "===========================================================================\n",
            "clean the class :  boxing\n",
            "|------------- exist the path :  /content/drive/MyDrive/colab/KTH_datasets/boxing\n",
            "____|------------ exist 100 files in the class & accumulated value is 200\n",
            "===========================================================================\n",
            "clean the class :  running\n",
            "|------------- exist the path :  /content/drive/MyDrive/colab/KTH_datasets/running\n",
            "____|------------ exist 100 files in the class & accumulated value is 300\n",
            "===========================================================================\n",
            "clean the class :  handwaving\n",
            "|------------- exist the path :  /content/drive/MyDrive/colab/KTH_datasets/handwaving\n",
            "____|------------ exist 100 files in the class & accumulated value is 400\n",
            "===========================================================================\n"
          ],
          "name": "stdout"
        }
      ]
    },
    {
      "cell_type": "code",
      "metadata": {
        "colab": {
          "base_uri": "https://localhost:8080/",
          "height": 367
        },
        "id": "MkzFX91eXX5Y",
        "outputId": "24796c17-3440-4334-d212-75ddc7a3059a"
      },
      "source": [
        "import matplotlib.pyplot as plt\n",
        " \n",
        "left = [1, 2, 3, 4]\n",
        "height = accumulated_value_for_cleaned_data\n",
        "\n",
        "labels = CLASSES\n",
        " \n",
        "plt.bar(left, height, width=0.5, color='#0096c8',\n",
        "        edgecolor='b', linewidth=2, tick_label=labels)\n",
        "\n",
        "plt.savefig(\"img.png\")\n",
        "plt.show()\n",
        "\n",
        "for i, each_label in enumerate(labels):\n",
        "  print(each_label, \":\", accumulated_value_for_cleaned_data[i])\n",
        "print(\"__________________________________________________________\")\n",
        "print(\"Sum : \", sum(accumulated_value_for_cleaned_data))"
      ],
      "execution_count": 105,
      "outputs": [
        {
          "output_type": "display_data",
          "data": {
            "image/png": "[encoded data removed]",
            "text/plain": [
              "<Figure size 432x288 with 1 Axes>"
            ]
          },
          "metadata": {
            "tags": [],
            "needs_background": "light"
          }
        },
        {
          "output_type": "stream",
          "text": [
            "walking : 100\n",
            "boxing : 100\n",
            "running : 100\n",
            "handwaving : 100\n",
            "__________________________________________________________\n",
            "Sum :  400\n"
          ],
          "name": "stdout"
        }
      ]
    },
    {
      "cell_type": "code",
      "metadata": {
        "id": "MeHFohX6dSTn"
      },
      "source": [
        "import math\n",
        "import cv2\n",
        "def makeupVideo(video_path):\n",
        "  format1=video_format()\n",
        "  video = cv2.VideoCapture(video_path)\n",
        "  framesize = int(video.get(cv2.CAP_PROP_FRAME_COUNT))\n",
        "  cutTiming = math.floor(framesize / format1.FRAME_SIZE)\n",
        "  cutTail = cutTiming * format1.FRAME_SIZE\n",
        "  normalizedFrames = []\n",
        "  count = 0\n",
        "  # フレーム３０枚分を１つの動画から間伐する\n",
        "  while count <= cutTail - 1:\n",
        "    IO, frame = video.read()\n",
        "    if (count % cutTiming) == 0: \n",
        "      if not IO:\n",
        "        print(\"error\") \n",
        "        send_line_notify(\"error\")\n",
        "        return False, False, False\n",
        "\n",
        "      else: \n",
        "        fixedFrame = cv2.resize(frame, dsize=(format1.WIDTH, format1.HEIGHT))\n",
        "        # fixedFrame = fixedFrame.flatten().astype(np.float32)/255.0\n",
        "        check(fixedFrame) # デバッグ用\n",
        "        normalizedFrames.append(fixedFrame)\n",
        "    else:\n",
        "      pass\n",
        "    count += 1\n",
        "\n",
        "  normalizedFrames = np.array(normalizedFrames)\n",
        "  normalizedFrames = normalizedFrames.flatten()\n",
        "  return True, normalizedFrames, framesize\n",
        "\n",
        "def check(image):\n",
        "  if debug == True:\n",
        "    img = cv2.cvtColor(image, cv2.COLOR_BGR2RGB)\n",
        "    plt.imshow(img)\n",
        "    plt.show()\n",
        "  else:\n",
        "    return"
      ],
      "execution_count": 82,
      "outputs": []
    },
    {
      "cell_type": "code",
      "metadata": {
        "id": "E84OX-W4W_ay",
        "colab": {
          "base_uri": "https://localhost:8080/"
        },
        "outputId": "fe2249ef-5d18-43a5-f070-329c95e4fb1e"
      },
      "source": [
        "%%time\n",
        "# into each class\n",
        "debug = False\n",
        "cleaned_data_contener = []\n",
        "label_contener = []\n",
        "frame_sizes = []\n",
        "for counter_class, each_class in enumerate(CLASSES):\n",
        "  print(\"clean the files in the class : \", each_class)\n",
        "  each_class_path = path.join(dataPath, each_class)\n",
        "  if os.path.isdir(each_class_path):\n",
        "    print(\"|------------- the path : \", each_class_path)\n",
        "    files_in_each_class = os.listdir(each_class_path)\n",
        "    size_of_each_class = len(files_in_each_class)\n",
        "    # into each file\n",
        "    for each_file in files_in_each_class:\n",
        "      if re.match(r\".*\\..*\", each_file,):\n",
        "        print(\"________|------------ start to clean: \", each_file)\n",
        "        each_file_path = path.join(each_class_path, each_file)\n",
        "        if path.exists(each_file_path):\n",
        "          print(\"________________|------------- confirm the file.\")\n",
        "          IO, cleaned_data, frame_size = makeupVideo(each_file_path)\n",
        "          if IO:\n",
        "            print(\"________________|------------- the frame size:\", frame_size)\n",
        "            cleaned_data_contener.append(cleaned_data)\n",
        "            frame_sizes.append(frame_size)\n",
        "            label_contener.append(counter_class)\n",
        "            print(\"________________|------------- finish the treatment.\")\n",
        "          else:\n",
        "            accumulated_value_for_cleaned_data[counter_class] -= 1\n",
        "            print(\"________________|------------- skip by the file broken\")\n",
        "        else:\n",
        "          print(\"________________|------------- can not confirm the file.\")\n",
        "          exit(0)\n",
        "      else:\n",
        "        print(\"________|------------ ignore the system file\")\n",
        "      # break\n",
        "  else:\n",
        "    exit(0)\n",
        "print(\"===========================================================================\")\n",
        "\n",
        "print(\"finish all\")\n",
        "#/for\n"
      ],
      "execution_count": null,
      "outputs": [
        {
          "output_type": "stream",
          "text": [
            "clean the files in the class :  walking\n",
            "|------------- the path :  /content/drive/MyDrive/colab/KTH_datasets/walking\n",
            "________|------------ start to clean:  person01_walking_d1_uncomp.avi\n",
            "________________|------------- confirm the file.\n",
            "________________|------------- the frame size: 555\n",
            "________________|------------- finish the treatment.\n",
            "________|------------ start to clean:  person01_walking_d2_uncomp.avi\n",
            "________________|------------- confirm the file.\n",
            "________________|------------- the frame size: 675\n",
            "________________|------------- finish the treatment.\n",
            "________|------------ start to clean:  person01_walking_d3_uncomp.avi\n",
            "________________|------------- confirm the file.\n",
            "________________|------------- the frame size: 950\n",
            "________________|------------- finish the treatment.\n",
            "________|------------ start to clean:  person01_walking_d4_uncomp.avi\n",
            "________________|------------- confirm the file.\n",
            "________________|------------- the frame size: 565\n",
            "________________|------------- finish the treatment.\n",
            "________|------------ start to clean:  person02_walking_d1_uncomp.avi\n",
            "________________|------------- confirm the file.\n",
            "________________|------------- the frame size: 450\n",
            "________________|------------- finish the treatment.\n",
            "________|------------ start to clean:  person02_walking_d2_uncomp.avi\n",
            "________________|------------- confirm the file.\n",
            "________________|------------- the frame size: 1060\n",
            "________________|------------- finish the treatment.\n",
            "________|------------ start to clean:  person02_walking_d3_uncomp.avi\n",
            "________________|------------- confirm the file.\n",
            "________________|------------- the frame size: 542\n",
            "________________|------------- finish the treatment.\n",
            "________|------------ start to clean:  person02_walking_d4_uncomp.avi\n",
            "________________|------------- confirm the file.\n",
            "________________|------------- the frame size: 460\n",
            "________________|------------- finish the treatment.\n",
            "________|------------ start to clean:  person03_walking_d1_uncomp.avi\n",
            "________________|------------- confirm the file.\n",
            "________________|------------- the frame size: 640\n",
            "________________|------------- finish the treatment.\n",
            "________|------------ start to clean:  person03_walking_d2_uncomp.avi\n",
            "________________|------------- confirm the file.\n",
            "________________|------------- the frame size: 960\n",
            "________________|------------- finish the treatment.\n",
            "________|------------ start to clean:  person03_walking_d3_uncomp.avi\n",
            "________________|------------- confirm the file.\n",
            "________________|------------- the frame size: 1120\n",
            "________________|------------- finish the treatment.\n",
            "________|------------ start to clean:  person03_walking_d4_uncomp.avi\n",
            "________________|------------- confirm the file.\n",
            "________________|------------- the frame size: 432\n",
            "________________|------------- finish the treatment.\n",
            "________|------------ start to clean:  person04_walking_d1_uncomp.avi\n",
            "________________|------------- confirm the file.\n",
            "________________|------------- the frame size: 470\n",
            "________________|------------- finish the treatment.\n",
            "________|------------ start to clean:  person04_walking_d2_uncomp.avi\n",
            "________________|------------- confirm the file.\n",
            "________________|------------- the frame size: 840\n",
            "________________|------------- finish the treatment.\n",
            "________|------------ start to clean:  person04_walking_d3_uncomp.avi\n",
            "________________|------------- confirm the file.\n",
            "________________|------------- the frame size: 480\n",
            "________________|------------- finish the treatment.\n",
            "________|------------ start to clean:  person04_walking_d4_uncomp.avi\n",
            "________________|------------- confirm the file.\n",
            "________________|------------- the frame size: 418\n",
            "________________|------------- finish the treatment.\n",
            "________|------------ start to clean:  person05_walking_d1_uncomp.avi\n",
            "________________|------------- confirm the file.\n",
            "________________|------------- the frame size: 535\n",
            "________________|------------- finish the treatment.\n",
            "________|------------ start to clean:  person05_walking_d2_uncomp.avi\n",
            "________________|------------- confirm the file.\n",
            "________________|------------- the frame size: 675\n",
            "________________|------------- finish the treatment.\n",
            "________|------------ start to clean:  person05_walking_d3_uncomp.avi\n",
            "________________|------------- confirm the file.\n",
            "________________|------------- the frame size: 552\n",
            "________________|------------- finish the treatment.\n",
            "________|------------ start to clean:  person05_walking_d4_uncomp.avi\n",
            "________________|------------- confirm the file.\n",
            "________________|------------- the frame size: 515\n",
            "________________|------------- finish the treatment.\n",
            "________|------------ start to clean:  person06_walking_d1_uncomp.avi\n",
            "________________|------------- confirm the file.\n",
            "________________|------------- the frame size: 420\n",
            "________________|------------- finish the treatment.\n",
            "________|------------ start to clean:  person06_walking_d2_uncomp.avi\n",
            "________________|------------- confirm the file.\n",
            "________________|------------- the frame size: 868\n",
            "________________|------------- finish the treatment.\n",
            "________|------------ start to clean:  person06_walking_d3_uncomp.avi\n",
            "________________|------------- confirm the file.\n",
            "________________|------------- the frame size: 408\n",
            "________________|------------- finish the treatment.\n",
            "________|------------ start to clean:  person06_walking_d4_uncomp.avi\n",
            "________________|------------- confirm the file.\n",
            "________________|------------- the frame size: 478\n",
            "________________|------------- finish the treatment.\n",
            "________|------------ start to clean:  person07_walking_d1_uncomp.avi\n",
            "________________|------------- confirm the file.\n",
            "________________|------------- the frame size: 475\n",
            "________________|------------- finish the treatment.\n",
            "________|------------ start to clean:  person07_walking_d2_uncomp.avi\n",
            "________________|------------- confirm the file.\n",
            "________________|------------- the frame size: 636\n",
            "________________|------------- finish the treatment.\n",
            "________|------------ start to clean:  person07_walking_d3_uncomp.avi\n",
            "________________|------------- confirm the file.\n",
            "________________|------------- the frame size: 495\n",
            "________________|------------- finish the treatment.\n",
            "________|------------ start to clean:  person07_walking_d4_uncomp.avi\n",
            "________________|------------- confirm the file.\n",
            "________________|------------- the frame size: 550\n",
            "________________|------------- finish the treatment.\n",
            "________|------------ start to clean:  person08_walking_d1_uncomp.avi\n",
            "________________|------------- confirm the file.\n",
            "________________|------------- the frame size: 647\n",
            "________________|------------- finish the treatment.\n",
            "________|------------ start to clean:  person08_walking_d2_uncomp.avi\n",
            "________________|------------- confirm the file.\n",
            "________________|------------- the frame size: 750\n",
            "________________|------------- finish the treatment.\n",
            "________|------------ start to clean:  person08_walking_d3_uncomp.avi\n",
            "________________|------------- confirm the file.\n",
            "________________|------------- the frame size: 585\n",
            "________________|------------- finish the treatment.\n",
            "________|------------ start to clean:  person08_walking_d4_uncomp.avi\n",
            "________________|------------- confirm the file.\n",
            "________________|------------- the frame size: 625\n",
            "________________|------------- finish the treatment.\n",
            "________|------------ start to clean:  person09_walking_d1_uncomp.avi\n",
            "________________|------------- confirm the file.\n",
            "________________|------------- the frame size: 685\n",
            "________________|------------- finish the treatment.\n",
            "________|------------ start to clean:  person09_walking_d2_uncomp.avi\n",
            "________________|------------- confirm the file.\n",
            "________________|------------- the frame size: 805\n",
            "________________|------------- finish the treatment.\n",
            "________|------------ start to clean:  person09_walking_d3_uncomp.avi\n",
            "________________|------------- confirm the file.\n",
            "________________|------------- the frame size: 640\n",
            "________________|------------- finish the treatment.\n",
            "________|------------ start to clean:  person09_walking_d4_uncomp.avi\n",
            "________________|------------- confirm the file.\n",
            "________________|------------- the frame size: 422\n",
            "________________|------------- finish the treatment.\n",
            "________|------------ start to clean:  person10_walking_d1_uncomp.avi\n",
            "________________|------------- confirm the file.\n",
            "________________|------------- the frame size: 655\n",
            "________________|------------- finish the treatment.\n",
            "________|------------ start to clean:  person10_walking_d2_uncomp.avi\n",
            "________________|------------- confirm the file.\n",
            "________________|------------- the frame size: 1092\n",
            "________________|------------- finish the treatment.\n",
            "________|------------ start to clean:  person10_walking_d3_uncomp.avi\n",
            "________________|------------- confirm the file.\n",
            "________________|------------- the frame size: 615\n",
            "________________|------------- finish the treatment.\n",
            "________|------------ start to clean:  person10_walking_d4_uncomp.avi\n",
            "________________|------------- confirm the file.\n",
            "________________|------------- the frame size: 544\n",
            "________________|------------- finish the treatment.\n",
            "________|------------ start to clean:  person11_walking_d1_uncomp.avi\n",
            "________________|------------- confirm the file.\n",
            "________________|------------- the frame size: 640\n",
            "________________|------------- finish the treatment.\n",
            "________|------------ start to clean:  person11_walking_d2_uncomp.avi\n",
            "________________|------------- confirm the file.\n",
            "________________|------------- the frame size: 810\n",
            "________________|------------- finish the treatment.\n",
            "________|------------ start to clean:  person11_walking_d3_uncomp.avi\n",
            "________________|------------- confirm the file.\n",
            "________________|------------- the frame size: 680\n",
            "________________|------------- finish the treatment.\n",
            "________|------------ start to clean:  person11_walking_d4_uncomp.avi\n",
            "________________|------------- confirm the file.\n",
            "________________|------------- the frame size: 520\n",
            "________________|------------- finish the treatment.\n",
            "________|------------ start to clean:  person12_walking_d1_uncomp.avi\n",
            "________________|------------- confirm the file.\n",
            "________________|------------- the frame size: 570\n",
            "________________|------------- finish the treatment.\n",
            "________|------------ start to clean:  person12_walking_d2_uncomp.avi\n",
            "________________|------------- confirm the file.\n",
            "________________|------------- the frame size: 850\n",
            "________________|------------- finish the treatment.\n",
            "________|------------ start to clean:  person12_walking_d3_uncomp.avi\n",
            "________________|------------- confirm the file.\n",
            "________________|------------- the frame size: 510\n",
            "________________|------------- finish the treatment.\n",
            "________|------------ start to clean:  person12_walking_d4_uncomp.avi\n",
            "________________|------------- confirm the file.\n",
            "________________|------------- the frame size: 640\n",
            "________________|------------- finish the treatment.\n",
            "________|------------ start to clean:  person13_walking_d1_uncomp.avi\n",
            "________________|------------- confirm the file.\n",
            "________________|------------- the frame size: 690\n",
            "________________|------------- finish the treatment.\n",
            "________|------------ start to clean:  person13_walking_d2_uncomp.avi\n",
            "________________|------------- confirm the file.\n",
            "________________|------------- the frame size: 940\n",
            "________________|------------- finish the treatment.\n",
            "________|------------ start to clean:  person13_walking_d3_uncomp.avi\n",
            "________________|------------- confirm the file.\n",
            "________________|------------- the frame size: 670\n",
            "________________|------------- finish the treatment.\n",
            "________|------------ start to clean:  person13_walking_d4_uncomp.avi\n",
            "________________|------------- confirm the file.\n",
            "________________|------------- the frame size: 600\n",
            "________________|------------- finish the treatment.\n",
            "________|------------ start to clean:  person14_walking_d1_uncomp.avi\n",
            "________________|------------- confirm the file.\n",
            "________________|------------- the frame size: 720\n",
            "________________|------------- finish the treatment.\n",
            "________|------------ start to clean:  person14_walking_d2_uncomp.avi\n",
            "________________|------------- confirm the file.\n",
            "________________|------------- the frame size: 870\n",
            "________________|------------- finish the treatment.\n",
            "________|------------ start to clean:  person14_walking_d3_uncomp.avi\n",
            "________________|------------- confirm the file.\n",
            "________________|------------- the frame size: 713\n",
            "________________|------------- finish the treatment.\n",
            "________|------------ start to clean:  person14_walking_d4_uncomp.avi\n",
            "________________|------------- confirm the file.\n",
            "________________|------------- the frame size: 555\n",
            "________________|------------- finish the treatment.\n",
            "________|------------ start to clean:  person15_walking_d1_uncomp.avi\n",
            "________________|------------- confirm the file.\n",
            "________________|------------- the frame size: 741\n",
            "________________|------------- finish the treatment.\n",
            "________|------------ start to clean:  person15_walking_d2_uncomp.avi\n",
            "________________|------------- confirm the file.\n",
            "________________|------------- the frame size: 790\n",
            "________________|------------- finish the treatment.\n",
            "________|------------ start to clean:  person15_walking_d3_uncomp.avi\n",
            "________________|------------- confirm the file.\n",
            "________________|------------- the frame size: 655\n",
            "________________|------------- finish the treatment.\n",
            "________|------------ start to clean:  person15_walking_d4_uncomp.avi\n",
            "________________|------------- confirm the file.\n",
            "________________|------------- the frame size: 678\n",
            "________________|------------- finish the treatment.\n",
            "________|------------ start to clean:  person16_walking_d1_uncomp.avi\n",
            "________________|------------- confirm the file.\n",
            "________________|------------- the frame size: 605\n",
            "________________|------------- finish the treatment.\n",
            "________|------------ start to clean:  person16_walking_d2_uncomp.avi\n",
            "________________|------------- confirm the file.\n",
            "________________|------------- the frame size: 750\n",
            "________________|------------- finish the treatment.\n",
            "________|------------ start to clean:  person16_walking_d3_uncomp.avi\n",
            "________________|------------- confirm the file.\n",
            "________________|------------- the frame size: 695\n",
            "________________|------------- finish the treatment.\n",
            "________|------------ start to clean:  person16_walking_d4_uncomp.avi\n",
            "________________|------------- confirm the file.\n",
            "________________|------------- the frame size: 565\n",
            "________________|------------- finish the treatment.\n",
            "________|------------ start to clean:  person17_walking_d1_uncomp.avi\n",
            "________________|------------- confirm the file.\n",
            "________________|------------- the frame size: 666\n",
            "________________|------------- finish the treatment.\n",
            "________|------------ start to clean:  person17_walking_d2_uncomp.avi\n",
            "________________|------------- confirm the file.\n",
            "________________|------------- the frame size: 1065\n",
            "________________|------------- finish the treatment.\n",
            "________|------------ start to clean:  person17_walking_d3_uncomp.avi\n",
            "________________|------------- confirm the file.\n",
            "________________|------------- the frame size: 725\n",
            "________________|------------- finish the treatment.\n",
            "________|------------ start to clean:  person17_walking_d4_uncomp.avi\n",
            "________________|------------- confirm the file.\n",
            "________________|------------- the frame size: 560\n",
            "________________|------------- finish the treatment.\n",
            "________|------------ start to clean:  person18_walking_d1_uncomp.avi\n",
            "________________|------------- confirm the file.\n",
            "________________|------------- the frame size: 745\n",
            "________________|------------- finish the treatment.\n",
            "________|------------ start to clean:  person18_walking_d2_uncomp.avi\n",
            "________________|------------- confirm the file.\n",
            "________________|------------- the frame size: 645\n",
            "________________|------------- finish the treatment.\n",
            "________|------------ start to clean:  person18_walking_d3_uncomp.avi\n",
            "________________|------------- confirm the file.\n",
            "________________|------------- the frame size: 640\n",
            "________________|------------- finish the treatment.\n",
            "________|------------ start to clean:  person18_walking_d4_uncomp.avi\n",
            "________________|------------- confirm the file.\n",
            "________________|------------- the frame size: 492\n",
            "________________|------------- finish the treatment.\n",
            "________|------------ start to clean:  person19_walking_d1_uncomp.avi\n",
            "________________|------------- confirm the file.\n",
            "________________|------------- the frame size: 525\n",
            "________________|------------- finish the treatment.\n",
            "________|------------ start to clean:  person19_walking_d2_uncomp.avi\n",
            "________________|------------- confirm the file.\n",
            "________________|------------- the frame size: 805\n",
            "________________|------------- finish the treatment.\n",
            "________|------------ start to clean:  person19_walking_d3_uncomp.avi\n",
            "________________|------------- confirm the file.\n",
            "________________|------------- the frame size: 525\n",
            "________________|------------- finish the treatment.\n",
            "________|------------ start to clean:  person19_walking_d4_uncomp.avi\n",
            "________________|------------- confirm the file.\n",
            "________________|------------- the frame size: 570\n",
            "________________|------------- finish the treatment.\n",
            "________|------------ start to clean:  person20_walking_d1_uncomp.avi\n",
            "________________|------------- confirm the file.\n",
            "________________|------------- the frame size: 635\n",
            "________________|------------- finish the treatment.\n",
            "________|------------ start to clean:  person20_walking_d2_uncomp.avi\n",
            "________________|------------- confirm the file.\n",
            "________________|------------- the frame size: 888\n",
            "________________|------------- finish the treatment.\n",
            "________|------------ start to clean:  person20_walking_d3_uncomp.avi\n",
            "________________|------------- confirm the file.\n",
            "________________|------------- the frame size: 495\n",
            "________________|------------- finish the treatment.\n",
            "________|------------ start to clean:  person20_walking_d4_uncomp.avi\n",
            "________________|------------- confirm the file.\n",
            "________________|------------- the frame size: 480\n",
            "________________|------------- finish the treatment.\n",
            "________|------------ start to clean:  person21_walking_d1_uncomp.avi\n",
            "________________|------------- confirm the file.\n",
            "________________|------------- the frame size: 740\n",
            "________________|------------- finish the treatment.\n",
            "________|------------ start to clean:  person21_walking_d2_uncomp.avi\n",
            "________________|------------- confirm the file.\n",
            "________________|------------- the frame size: 930\n",
            "________________|------------- finish the treatment.\n",
            "________|------------ start to clean:  person21_walking_d3_uncomp.avi\n",
            "________________|------------- confirm the file.\n",
            "________________|------------- the frame size: 775\n",
            "________________|------------- finish the treatment.\n",
            "________|------------ start to clean:  person21_walking_d4_uncomp.avi\n",
            "________________|------------- confirm the file.\n",
            "________________|------------- the frame size: 612\n",
            "________________|------------- finish the treatment.\n",
            "________|------------ start to clean:  person22_walking_d1_uncomp.avi\n",
            "________________|------------- confirm the file.\n",
            "________________|------------- the frame size: 700\n",
            "________________|------------- finish the treatment.\n",
            "________|------------ start to clean:  person22_walking_d2_uncomp.avi\n",
            "________________|------------- confirm the file.\n",
            "________________|------------- the frame size: 920\n",
            "________________|------------- finish the treatment.\n",
            "________|------------ start to clean:  person22_walking_d3_uncomp.avi\n",
            "________________|------------- confirm the file.\n",
            "________________|------------- the frame size: 815\n",
            "________________|------------- finish the treatment.\n",
            "________|------------ start to clean:  person22_walking_d4_uncomp.avi\n",
            "________________|------------- confirm the file.\n",
            "________________|------------- the frame size: 540\n",
            "________________|------------- finish the treatment.\n",
            "________|------------ start to clean:  person23_walking_d1_uncomp.avi\n",
            "________________|------------- confirm the file.\n",
            "________________|------------- the frame size: 590\n",
            "________________|------------- finish the treatment.\n",
            "________|------------ start to clean:  person23_walking_d2_uncomp.avi\n",
            "________________|------------- confirm the file.\n",
            "________________|------------- the frame size: 850\n",
            "________________|------------- finish the treatment.\n",
            "________|------------ start to clean:  person23_walking_d3_uncomp.avi\n",
            "________________|------------- confirm the file.\n",
            "________________|------------- the frame size: 555\n",
            "________________|------------- finish the treatment.\n",
            "________|------------ start to clean:  person23_walking_d4_uncomp.avi\n",
            "________________|------------- confirm the file.\n",
            "________________|------------- the frame size: 478\n",
            "________________|------------- finish the treatment.\n",
            "________|------------ start to clean:  person24_walking_d1_uncomp.avi\n",
            "________________|------------- confirm the file.\n",
            "________________|------------- the frame size: 664\n",
            "________________|------------- finish the treatment.\n",
            "________|------------ start to clean:  person24_walking_d2_uncomp.avi\n",
            "________________|------------- confirm the file.\n",
            "________________|------------- the frame size: 960\n",
            "________________|------------- finish the treatment.\n",
            "________|------------ start to clean:  person24_walking_d3_uncomp.avi\n",
            "________________|------------- confirm the file.\n",
            "________________|------------- the frame size: 580\n",
            "________________|------------- finish the treatment.\n",
            "________|------------ start to clean:  person24_walking_d4_uncomp.avi\n",
            "________________|------------- confirm the file.\n",
            "________________|------------- the frame size: 395\n",
            "________________|------------- finish the treatment.\n",
            "________|------------ start to clean:  person25_walking_d1_uncomp.avi\n",
            "________________|------------- confirm the file.\n",
            "________________|------------- the frame size: 572\n",
            "________________|------------- finish the treatment.\n",
            "________|------------ start to clean:  person25_walking_d2_uncomp.avi\n",
            "________________|------------- confirm the file.\n",
            "________________|------------- the frame size: 800\n",
            "________________|------------- finish the treatment.\n",
            "________|------------ start to clean:  person25_walking_d3_uncomp.avi\n",
            "________________|------------- confirm the file.\n",
            "________________|------------- the frame size: 520\n",
            "________________|------------- finish the treatment.\n",
            "________|------------ start to clean:  person25_walking_d4_uncomp.avi\n",
            "________________|------------- confirm the file.\n",
            "________________|------------- the frame size: 592\n",
            "________________|------------- finish the treatment.\n",
            "clean the files in the class :  boxing\n",
            "|------------- the path :  /content/drive/MyDrive/colab/KTH_datasets/boxing\n",
            "________|------------ start to clean:  person01_boxing_d1_uncomp.avi\n",
            "________________|------------- confirm the file.\n",
            "________________|------------- the frame size: 360\n",
            "________________|------------- finish the treatment.\n",
            "________|------------ start to clean:  person01_boxing_d2_uncomp.avi\n",
            "________________|------------- confirm the file.\n",
            "________________|------------- the frame size: 390\n",
            "________________|------------- finish the treatment.\n",
            "________|------------ start to clean:  person01_boxing_d3_uncomp.avi\n",
            "________________|------------- confirm the file.\n",
            "________________|------------- the frame size: 465\n",
            "________________|------------- finish the treatment.\n",
            "________|------------ start to clean:  person01_boxing_d4_uncomp.avi\n",
            "________________|------------- confirm the file.\n",
            "error\n",
            "________________|------------- skip by the file broken\n",
            "________|------------ start to clean:  person02_boxing_d1_uncomp.avi\n",
            "________________|------------- confirm the file.\n",
            "________________|------------- the frame size: 428\n",
            "________________|------------- finish the treatment.\n",
            "________|------------ start to clean:  person02_boxing_d2_uncomp.avi\n",
            "________________|------------- confirm the file.\n",
            "________________|------------- the frame size: 460\n",
            "________________|------------- finish the treatment.\n",
            "________|------------ start to clean:  person02_boxing_d3_uncomp.avi\n",
            "________________|------------- confirm the file.\n",
            "________________|------------- the frame size: 490\n",
            "________________|------------- finish the treatment.\n",
            "________|------------ start to clean:  person02_boxing_d4_uncomp.avi\n",
            "________________|------------- confirm the file.\n",
            "________________|------------- the frame size: 522\n",
            "________________|------------- finish the treatment.\n",
            "________|------------ start to clean:  person03_boxing_d1_uncomp.avi\n",
            "________________|------------- confirm the file.\n",
            "________________|------------- the frame size: 442\n",
            "________________|------------- finish the treatment.\n",
            "________|------------ start to clean:  person03_boxing_d2_uncomp.avi\n",
            "________________|------------- confirm the file.\n",
            "________________|------------- the frame size: 502\n",
            "________________|------------- finish the treatment.\n",
            "________|------------ start to clean:  person03_boxing_d3_uncomp.avi\n",
            "________________|------------- confirm the file.\n",
            "________________|------------- the frame size: 414\n",
            "________________|------------- finish the treatment.\n",
            "________|------------ start to clean:  person03_boxing_d4_uncomp.avi\n",
            "________________|------------- confirm the file.\n",
            "________________|------------- the frame size: 512\n",
            "________________|------------- finish the treatment.\n",
            "________|------------ start to clean:  person04_boxing_d1_uncomp.avi\n",
            "________________|------------- confirm the file.\n",
            "________________|------------- the frame size: 328\n",
            "________________|------------- finish the treatment.\n",
            "________|------------ start to clean:  person04_boxing_d2_uncomp.avi\n",
            "________________|------------- confirm the file.\n",
            "________________|------------- the frame size: 475\n",
            "________________|------------- finish the treatment.\n",
            "________|------------ start to clean:  person04_boxing_d3_uncomp.avi\n",
            "________________|------------- confirm the file.\n",
            "________________|------------- the frame size: 390\n",
            "________________|------------- finish the treatment.\n",
            "________|------------ start to clean:  person04_boxing_d4_uncomp.avi\n",
            "________________|------------- confirm the file.\n",
            "________________|------------- the frame size: 378\n",
            "________________|------------- finish the treatment.\n",
            "________|------------ start to clean:  person05_boxing_d1_uncomp.avi\n",
            "________________|------------- confirm the file.\n",
            "________________|------------- the frame size: 438\n",
            "________________|------------- finish the treatment.\n",
            "________|------------ start to clean:  person05_boxing_d2_uncomp.avi\n",
            "________________|------------- confirm the file.\n",
            "________________|------------- the frame size: 444\n",
            "________________|------------- finish the treatment.\n",
            "________|------------ start to clean:  person05_boxing_d3_uncomp.avi\n",
            "________________|------------- confirm the file.\n",
            "________________|------------- the frame size: 430\n",
            "________________|------------- finish the treatment.\n",
            "________|------------ start to clean:  person05_boxing_d4_uncomp.avi\n",
            "________________|------------- confirm the file.\n",
            "________________|------------- the frame size: 450\n",
            "________________|------------- finish the treatment.\n",
            "________|------------ start to clean:  person06_boxing_d1_uncomp.avi\n",
            "________________|------------- confirm the file.\n",
            "________________|------------- the frame size: 412\n",
            "________________|------------- finish the treatment.\n",
            "________|------------ start to clean:  person06_boxing_d2_uncomp.avi\n",
            "________________|------------- confirm the file.\n",
            "________________|------------- the frame size: 408\n",
            "________________|------------- finish the treatment.\n",
            "________|------------ start to clean:  person06_boxing_d3_uncomp.avi\n",
            "________________|------------- confirm the file.\n",
            "________________|------------- the frame size: 392\n",
            "________________|------------- finish the treatment.\n",
            "________|------------ start to clean:  person06_boxing_d4_uncomp.avi\n",
            "________________|------------- confirm the file.\n",
            "________________|------------- the frame size: 392\n",
            "________________|------------- finish the treatment.\n",
            "________|------------ start to clean:  person07_boxing_d1_uncomp.avi\n",
            "________________|------------- confirm the file.\n",
            "________________|------------- the frame size: 385\n",
            "________________|------------- finish the treatment.\n",
            "________|------------ start to clean:  person07_boxing_d2_uncomp.avi\n",
            "________________|------------- confirm the file.\n",
            "________________|------------- the frame size: 478\n",
            "________________|------------- finish the treatment.\n",
            "________|------------ start to clean:  person07_boxing_d3_uncomp.avi\n",
            "________________|------------- confirm the file.\n",
            "________________|------------- the frame size: 384\n",
            "________________|------------- finish the treatment.\n",
            "________|------------ start to clean:  person07_boxing_d4_uncomp.avi\n",
            "________________|------------- confirm the file.\n"
          ],
          "name": "stdout"
        }
      ]
    },
    {
      "cell_type": "code",
      "metadata": {
        "id": "MHcVKAWGJMSt",
        "outputId": "5b813698-826a-4d6e-9bac-e62b17ad2461",
        "colab": {
          "base_uri": "https://localhost:8080/"
        }
      },
      "source": [
        "len(cleaned_data_contener)"
      ],
      "execution_count": 87,
      "outputs": [
        {
          "output_type": "execute_result",
          "data": {
            "text/plain": [
              "399"
            ]
          },
          "metadata": {
            "tags": []
          },
          "execution_count": 87
        }
      ]
    },
    {
      "cell_type": "code",
      "metadata": {
        "id": "mytYH8_JMKEU",
        "outputId": "171e47c2-bcd9-4b1e-c3d9-c63ee4c5f335",
        "colab": {
          "base_uri": "https://localhost:8080/"
        }
      },
      "source": [
        "e = 1\n",
        "e += 1\n",
        "e"
      ],
      "execution_count": 102,
      "outputs": [
        {
          "output_type": "execute_result",
          "data": {
            "text/plain": [
              "2"
            ]
          },
          "metadata": {
            "tags": []
          },
          "execution_count": 102
        }
      ]
    },
    {
      "cell_type": "code",
      "metadata": {
        "id": "TJmeZq7vKEIt"
      },
      "source": [
        "a = np.arange(0, dtype='float32')\n",
        "for i in cleaned_data_contener:\n",
        "  a = np.append(a, i)"
      ],
      "execution_count": 88,
      "outputs": []
    },
    {
      "cell_type": "code",
      "metadata": {
        "id": "qSdWe7OCLEvu",
        "outputId": "242a6489-9921-4d08-bdcc-f49407fd2f48",
        "colab": {
          "base_uri": "https://localhost:8080/"
        }
      },
      "source": [
        "accumulated_value_for_cleaned_data"
      ],
      "execution_count": 99,
      "outputs": [
        {
          "output_type": "execute_result",
          "data": {
            "text/plain": [
              "[100, -1, 100, 100]"
            ]
          },
          "metadata": {
            "tags": []
          },
          "execution_count": 99
        }
      ]
    },
    {
      "cell_type": "code",
      "metadata": {
        "colab": {
          "base_uri": "https://localhost:8080/",
          "height": 367
        },
        "id": "f1XQNXNWKleX",
        "outputId": "ec08c8eb-0f31-4fb3-ae49-2f46db0d9c3a"
      },
      "source": [
        "import matplotlib.pyplot as plt\n",
        " \n",
        "left = [1, 2, 3, 4]\n",
        "height = accumulated_value_for_cleaned_data\n",
        "\n",
        "labels = CLASSES\n",
        " \n",
        "plt.bar(left, height, width=0.5, color='#0096c8',\n",
        "        edgecolor='b', linewidth=2, tick_label=labels)\n",
        "\n",
        "plt.savefig(\"img.png\")\n",
        "plt.show()\n",
        "\n",
        "for i, each_label in enumerate(labels):\n",
        "  print(each_label, \":\", accumulated_value_for_cleaned_data[i])\n",
        "print(\"__________________________________________________________\")\n",
        "print(\"Sum : \", sum(accumulated_value_for_cleaned_data))"
      ],
      "execution_count": null,
      "outputs": [
        {
          "output_type": "display_data",
          "data": {
            "image/png": "[encoded data removed]",
            "text/plain": [
              "<Figure size 432x288 with 1 Axes>"
            ]
          },
          "metadata": {
            "tags": [],
            "needs_background": "light"
          }
        },
        {
          "output_type": "stream",
          "text": [
            "walking : 100\n",
            "boxing : 100\n",
            "running : 100\n",
            "handwaving : 100\n",
            "__________________________________________________________\n",
            "Sum :  400\n"
          ],
          "name": "stdout"
        }
      ]
    },
    {
      "cell_type": "markdown",
      "metadata": {
        "id": "IkSYV6fdBzCY"
      },
      "source": [
        "# データをエクスポート"
      ]
    },
    {
      "cell_type": "code",
      "metadata": {
        "id": "l_rspVe__LA0",
        "outputId": "247c8b71-99ec-447e-ce2a-1c0ce395acce",
        "colab": {
          "base_uri": "https://localhost:8080/"
        }
      },
      "source": [
        "cleaned_data_contener[0]"
      ],
      "execution_count": 62,
      "outputs": [
        {
          "output_type": "execute_result",
          "data": {
            "text/plain": [
              "array([141, 141, 141, ..., 122, 122, 122], dtype=uint8)"
            ]
          },
          "metadata": {
            "tags": []
          },
          "execution_count": 62
        }
      ]
    },
    {
      "cell_type": "code",
      "metadata": {
        "id": "-CP99BVGuZ0_"
      },
      "source": [
        "def save_data(set_of_npdata, saveName):\n",
        "  np.savez(os.path.join(desk, saveName), *set_of_npdata)"
      ],
      "execution_count": 57,
      "outputs": []
    },
    {
      "cell_type": "code",
      "metadata": {
        "id": "xLBnX8bqudkC"
      },
      "source": [
        "if len(cleaned_data_contener) == len(label_contener):\n",
        "  save_data(cleaned_data_contener, \"Data_of_KTH\")\n",
        "  save_data(label_contener, \"Label_of_KTH\")"
      ],
      "execution_count": 58,
      "outputs": []
    },
    {
      "cell_type": "code",
      "metadata": {
        "id": "ChzXQPLJwfyu"
      },
      "source": [
        "shelf = '/content/drive/MyDrive/colab/cleaned_detasets'\n",
        "book = \"KTH\"\n",
        "shelf_book = os.path.join(shelf, book)\n",
        "if not os.path.exists(shelf_book):\n",
        "  os.mkdir(shelf_book)"
      ],
      "execution_count": 59,
      "outputs": []
    },
    {
      "cell_type": "code",
      "metadata": {
        "id": "fc-qegtGwgzk"
      },
      "source": [
        "wants_paths = [\n",
        "\"/content/desk/Data_of_KTH.npz\",\n",
        "\"/content/desk/Label_of_KTH.npz\",\n",
        "]\n",
        "\n",
        "for want in wants_paths:\n",
        "  shutil.copy2(\n",
        "      want,\n",
        "      shelf_book\n",
        "  )"
      ],
      "execution_count": 61,
      "outputs": []
    }
  ]
}