{
  "nbformat": 4,
  "nbformat_minor": 0,
  "metadata": {
    "colab": {
      "name": "clean_KTH_Datasets.ipynb",
      "provenance": [],
      "authorship_tag": "ABX9TyNRLI+P3N6bVtphUpXTOLPa",
      "include_colab_link": true
    },
    "kernelspec": {
      "name": "python3",
      "display_name": "Python 3"
    }
  },
  "cells": [
    {
      "cell_type": "markdown",
      "metadata": {
        "id": "view-in-github",
        "colab_type": "text"
      },
      "source": [
        "<a href=\"https://colab.research.google.com/github/s1250103/Public_mori-lab/blob/confirm_label_noize_for_cm_data/eras/confirm_label/clean_KTH_Datasets.ipynb\" target=\"_parent\"><img src=\"https://colab.research.google.com/assets/colab-badge.svg\" alt=\"Open In Colab\"/></a>"
      ]
    },
    {
      "cell_type": "markdown",
      "metadata": {
        "id": "yD5NNFtmCpwP"
      },
      "source": [
        "このシステムは以下のような変換を意図している: <br>\n",
        "  データ→[このシステム]→(変換されたデータ, 教師ラベル) <br>\n",
        "ここで、\n",
        "*   データとは：動画を表現した形式の複数\n",
        "*   変換されたデータとは：ニューラルネットワークの入力として適した形式になっているデータ\n",
        "*   教師ラベルとは：教師あり学習における正解ラベルのこと。ただし、ラベルノイズの研究をしているため、必ずしも正しいラベルであるとも限らない。\n",
        "\n",
        "2021/01/19：森谷亮太\n",
        "\n",
        "\n"
      ]
    },
    {
      "cell_type": "markdown",
      "metadata": {
        "id": "Gj0iVWcYBORD"
      },
      "source": [
        "# 環境設定"
      ]
    },
    {
      "cell_type": "markdown",
      "metadata": {
        "id": "bizjFsa_BS5W"
      },
      "source": [
        "# データ取り込み（任意のストレージ→指定のディレクトリ）"
      ]
    },
    {
      "cell_type": "markdown",
      "metadata": {
        "id": "vsPBjPEDBfZV"
      },
      "source": [
        "# データの変換とラベリング"
      ]
    },
    {
      "cell_type": "markdown",
      "metadata": {
        "id": "IkSYV6fdBzCY"
      },
      "source": [
        "# データをエクスポート"
      ]
    }
  ]
}