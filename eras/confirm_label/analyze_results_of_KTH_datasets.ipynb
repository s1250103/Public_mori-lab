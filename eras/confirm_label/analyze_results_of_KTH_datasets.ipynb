{
  "nbformat": 4,
  "nbformat_minor": 0,
  "metadata": {
    "colab": {
      "name": "analyze_results_of_KTH_datasets.ipynb",
      "provenance": [],
      "toc_visible": true,
      "authorship_tag": "ABX9TyO4ZBzSsoPJbiXe8QoVv/IQ",
      "include_colab_link": true
    },
    "kernelspec": {
      "name": "python3",
      "display_name": "Python 3"
    }
  },
  "cells": [
    {
      "cell_type": "markdown",
      "metadata": {
        "id": "view-in-github",
        "colab_type": "text"
      },
      "source": [
        "<a href=\"https://colab.research.google.com/github/s1250103/Public_mori-lab/blob/confirm_label_noize_for_cm_data/eras/confirm_label/analyze_results_of_KTH_datasets.ipynb\" target=\"_parent\"><img src=\"https://colab.research.google.com/assets/colab-badge.svg\" alt=\"Open In Colab\"/></a>"
      ]
    },
    {
      "cell_type": "markdown",
      "metadata": {
        "id": "UkB8xKKwvZka"
      },
      "source": [
        "# 環境設定"
      ]
    },
    {
      "cell_type": "code",
      "metadata": {
        "id": "WeiF_FkDvWls"
      },
      "source": [
        "## import\n",
        "# file dealing\n",
        "import os\n",
        "from os import path\n",
        "import shutil\n",
        "from google.colab import drive\n",
        "import datetime\n",
        "# data dealing\n",
        "import numpy as np\n",
        "import pandas as pd\n",
        "from pandas import DataFrame\n",
        "import matplotlib.pyplot as plt\n",
        "# process deasing\n",
        "import gc\n",
        "from time import sleep\n",
        "# machine learning (back)\n",
        "import tensorflow as tf\n",
        "from tensorflow.keras.utils import plot_model\n",
        "from tensorflow.keras import layers, models, initializers, callbacks\n",
        "# machine learning\n",
        "import keras\n",
        "from keras.datasets import mnist\n",
        "from keras.models import Sequential\n",
        "from keras.layers import Dense, Activation, Dropout\n",
        "from keras.utils.np_utils import to_categorical\n",
        "# others\n",
        "import json\n",
        "from collections import OrderedDict\n",
        "import pprint\n",
        "import re\n",
        "from IPython.display import clear_output\n"
      ],
      "execution_count": 10,
      "outputs": []
    },
    {
      "cell_type": "markdown",
      "metadata": {
        "id": "GuP6MWHJvBvx"
      },
      "source": [
        "#Historyデータの用意"
      ]
    },
    {
      "cell_type": "code",
      "metadata": {
        "colab": {
          "base_uri": "https://localhost:8080/"
        },
        "id": "00VyH9N3Kl8h",
        "outputId": "a24d774b-813f-43a2-fe89-0c3c3ef05bec"
      },
      "source": [
        "## gdrive 接続\n",
        "if not path.exists('/content/drive'):\n",
        "  drive.mount('/content/drive')\n",
        "else:\n",
        "  print(\"Already confirm\")\n",
        "\n",
        "## colab テンポラリディレクトリの作成\n",
        "desk = '/content/desk'\n",
        "if not os.path.exists(desk):\n",
        "  os.mkdir(desk)\n",
        "os.chdir(desk)\n",
        "print(\"Created at /content/desk\")"
      ],
      "execution_count": 3,
      "outputs": [
        {
          "output_type": "stream",
          "text": [
            "Mounted at /content/drive\n",
            "Created at /content/desk\n"
          ],
          "name": "stdout"
        }
      ]
    },
    {
      "cell_type": "code",
      "metadata": {
        "colab": {
          "base_uri": "https://localhost:8080/"
        },
        "id": "66kEUuVM6IjD",
        "outputId": "139e231f-874a-4dfc-9f8c-f2d7a371134a"
      },
      "source": [
        "path_KTH_Histories = \"/content/drive/MyDrive/colab/histories/KTH_robust\"\n",
        "all_history_directories = os.listdir(path_KTH_Histories)\n",
        "all_history_directories = sorted(all_history_directories)\n",
        "print(\"Pick up one key from the below directories\")\n",
        "for key, each_noize_histories in enumerate(all_history_directories):\n",
        "  print(each_noize_histories, \"key:\", key)\n",
        "\n",
        "pick_key = int(input())\n",
        "\n",
        "clear_output()\n",
        "print(\"The key is\", pick_key, \"and\", all_history_directories[pick_key])"
      ],
      "execution_count": 85,
      "outputs": [
        {
          "output_type": "stream",
          "text": [
            "The key is 0 and noize=0\n"
          ],
          "name": "stdout"
        }
      ]
    },
    {
      "cell_type": "code",
      "metadata": {
        "id": "BKxCIkCEkAKP",
        "outputId": "f3858747-1632-4161-d4fb-6afad0d60c4a",
        "colab": {
          "base_uri": "https://localhost:8080/"
        }
      },
      "source": [
        "path_pickup_histories = path.join(path_KTH_Histories, all_history_directories[pick_key])\n",
        "\n",
        "each_loss_pattern = r\"KTH\\.(\\d+\\.)+\\w+\"\n",
        "\n",
        "\n",
        "if path.isdir(path_pickup_histories):\n",
        "  print(\"expand\", path_pickup_histories)\n",
        "  partial_histories = os.listdir(path_pickup_histories)\n",
        "  partial_histories = sorted(partial_histories)\n",
        "\n",
        "  count_each = 0\n",
        "  each_loss_header_old = \"\"\n",
        "  some_histories = []\n",
        "  each_loss_histories = []\n",
        "\n",
        "  for i, each_history in enumerate(partial_histories):\n",
        "    each_loss_header = re.match(each_loss_pattern, each_history).group()\n",
        "    if each_loss_header != each_loss_header_old and each_loss_header_old != \"\": # change different loss\n",
        "      # update for the next loss\n",
        "      count_each = 0\n",
        "      some_histories.append(each_loss_histories)\n",
        "      each_loss_histories = []\n",
        "      print(\"------------------------------------------------------------------------------\")\n",
        "\n",
        "    else:\n",
        "      pass\n",
        "    \n",
        "    the_history = pd.read_csv(path.join(path_pickup_histories, each_history))\n",
        "    each_loss_histories.append(the_history)\n",
        "      \n",
        "\n",
        "    print(each_loss_header, \"-\", count_each+1, \"@\", i+1)\n",
        "    count_each += 1\n",
        "    each_loss_header_old = each_loss_header\n",
        "\n",
        "    if (i+1) == len(partial_histories):\n",
        "      some_histories.append(each_loss_histories)\n",
        "    else:\n",
        "      pass\n"
      ],
      "execution_count": 132,
      "outputs": [
        {
          "output_type": "stream",
          "text": [
            "expand /content/drive/MyDrive/colab/histories/KTH_robust/noize=0\n",
            "KTH.0.CategoricalCrossentropy - 1 @ 1\n",
            "KTH.0.CategoricalCrossentropy - 2 @ 2\n",
            "KTH.0.CategoricalCrossentropy - 3 @ 3\n",
            "KTH.0.CategoricalCrossentropy - 4 @ 4\n",
            "KTH.0.CategoricalCrossentropy - 5 @ 5\n",
            "KTH.0.CategoricalCrossentropy - 6 @ 6\n",
            "------------------------------------------------------------------------------\n",
            "KTH.0.MeanAbsoluteError - 1 @ 7\n",
            "KTH.0.MeanAbsoluteError - 2 @ 8\n",
            "KTH.0.MeanAbsoluteError - 3 @ 9\n",
            "KTH.0.MeanAbsoluteError - 4 @ 10\n",
            "KTH.0.MeanAbsoluteError - 5 @ 11\n",
            "KTH.0.MeanAbsoluteError - 6 @ 12\n",
            "------------------------------------------------------------------------------\n",
            "KTH.0.MeanSquaredError - 1 @ 13\n",
            "KTH.0.MeanSquaredError - 2 @ 14\n",
            "KTH.0.MeanSquaredError - 3 @ 15\n",
            "KTH.0.MeanSquaredError - 4 @ 16\n",
            "KTH.0.MeanSquaredError - 5 @ 17\n",
            "KTH.0.MeanSquaredError - 6 @ 18\n"
          ],
          "name": "stdout"
        }
      ]
    },
    {
      "cell_type": "code",
      "metadata": {
        "id": "3wdQkFuGrrnv",
        "outputId": "1fb298f2-2624-48da-b750-0092dbf1ab38",
        "colab": {
          "base_uri": "https://localhost:8080/"
        }
      },
      "source": [
        "print(len(some_histories))\n",
        "print(len(each_loss_histories))\n",
        "print(len(some_histories[0]))"
      ],
      "execution_count": 135,
      "outputs": [
        {
          "output_type": "stream",
          "text": [
            "3\n",
            "6\n",
            "6\n"
          ],
          "name": "stdout"
        }
      ]
    }
  ]
}