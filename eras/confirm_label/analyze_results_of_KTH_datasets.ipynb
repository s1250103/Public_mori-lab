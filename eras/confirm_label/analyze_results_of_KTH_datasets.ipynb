{
  "nbformat": 4,
  "nbformat_minor": 0,
  "metadata": {
    "colab": {
      "name": "analyze_results_of_KTH_datasets.ipynb",
      "provenance": [],
      "toc_visible": true,
      "authorship_tag": "ABX9TyPDaLDvEi6pPJkFSHLC6uQW",
      "include_colab_link": true
    },
    "kernelspec": {
      "name": "python3",
      "display_name": "Python 3"
    }
  },
  "cells": [
    {
      "cell_type": "markdown",
      "metadata": {
        "id": "view-in-github",
        "colab_type": "text"
      },
      "source": [
        "<a href=\"https://colab.research.google.com/github/s1250103/Public_mori-lab/blob/confirm_label_noize_for_cm_data/eras/confirm_label/analyze_results_of_KTH_datasets.ipynb\" target=\"_parent\"><img src=\"https://colab.research.google.com/assets/colab-badge.svg\" alt=\"Open In Colab\"/></a>"
      ]
    },
    {
      "cell_type": "markdown",
      "metadata": {
        "id": "UkB8xKKwvZka"
      },
      "source": [
        "# 環境設定"
      ]
    },
    {
      "cell_type": "code",
      "metadata": {
        "id": "WeiF_FkDvWls"
      },
      "source": [
        "## import\n",
        "# file dealing\n",
        "import os\n",
        "from os import path\n",
        "import shutil\n",
        "from google.colab import drive\n",
        "import datetime\n",
        "# data dealing\n",
        "import numpy as np\n",
        "import pandas as pd\n",
        "from pandas import DataFrame\n",
        "import matplotlib.pyplot as plt\n",
        "# process deasing\n",
        "import gc\n",
        "from time import sleep\n",
        "# machine learning (back)\n",
        "import tensorflow as tf\n",
        "from tensorflow.keras.utils import plot_model\n",
        "from tensorflow.keras import layers, models, initializers, callbacks\n",
        "# machine learning\n",
        "import keras\n",
        "from keras.datasets import mnist\n",
        "from keras.models import Sequential\n",
        "from keras.layers import Dense, Activation, Dropout\n",
        "from keras.utils.np_utils import to_categorical\n",
        "# others\n",
        "import json\n",
        "from collections import OrderedDict\n",
        "import pprint\n",
        "import re\n"
      ],
      "execution_count": 10,
      "outputs": []
    },
    {
      "cell_type": "markdown",
      "metadata": {
        "id": "GuP6MWHJvBvx"
      },
      "source": [
        "#Historyデータの用意"
      ]
    },
    {
      "cell_type": "code",
      "metadata": {
        "colab": {
          "base_uri": "https://localhost:8080/"
        },
        "id": "00VyH9N3Kl8h",
        "outputId": "a24d774b-813f-43a2-fe89-0c3c3ef05bec"
      },
      "source": [
        "## gdrive 接続\n",
        "if not path.exists('/content/drive'):\n",
        "  drive.mount('/content/drive')\n",
        "else:\n",
        "  print(\"Already confirm\")\n",
        "\n",
        "## colab テンポラリディレクトリの作成\n",
        "desk = '/content/desk'\n",
        "if not os.path.exists(desk):\n",
        "  os.mkdir(desk)\n",
        "os.chdir(desk)\n",
        "print(\"Created at /content/desk\")"
      ],
      "execution_count": 3,
      "outputs": [
        {
          "output_type": "stream",
          "text": [
            "Mounted at /content/drive\n",
            "Created at /content/desk\n"
          ],
          "name": "stdout"
        }
      ]
    },
    {
      "cell_type": "code",
      "metadata": {
        "id": "66kEUuVM6IjD",
        "outputId": "775c748d-5de7-4aca-ac6c-fa230acbe447",
        "colab": {
          "base_uri": "https://localhost:8080/"
        }
      },
      "source": [
        "print(len(tmp_six_group))"
      ],
      "execution_count": 48,
      "outputs": [
        {
          "output_type": "execute_result",
          "data": {
            "text/plain": [
              "5"
            ]
          },
          "metadata": {
            "tags": []
          },
          "execution_count": 48
        }
      ]
    },
    {
      "cell_type": "code",
      "metadata": {
        "colab": {
          "base_uri": "https://localhost:8080/"
        },
        "id": "piBMR-OfpoXU",
        "outputId": "4e1124ae-d355-4087-fd1b-5c2f8ab33d44"
      },
      "source": [
        "path_KTH_Histories = \"/content/drive/MyDrive/colab/histories/KTH_robust\"\n",
        "\n",
        "all_history_directories = os.listdir(path_KTH_Histories)\n",
        "all_history_directories = sorted(all_history_directories)\n",
        "\n",
        "history_name_pattern = r\"KTH\\.(\\d+\\.)+\\w+\\.(\\d+)\\.(\\d){4}\\.csv\"\n",
        "each_experiment_pattern = r\"KTH\\.(\\d+\\.)+\"\n",
        "each_loss_pattern = r\"KTH\\.(\\d+\\.)+\\w+\"\n",
        "\n",
        "\n",
        "each_experiment_header_old = \"\"\n",
        "each_loss_header_old = \"\"\n",
        "elements_six_group = []\n",
        "column_experiments_size_group = []\n",
        "row_noizes_size_group = []\n",
        "\n",
        "for i, each_history_file in enumerate(all_history_directories):\n",
        "  if re.match(history_name_pattern, each_history_file):\n",
        "    each_experiment_header = re.match(each_experiment_pattern, each_history_file).group()\n",
        "\n",
        "    if each_experiment_header_old != each_experiment_header and each_experiment_header_old !=\"\":\n",
        "    \n",
        "      print(\"++++++++++++++++++++++++++++++++++++++++++++++\")\n",
        "      print(\"++++++++++++++++++++++++++++++++++++++++++++++\")\n",
        "      print(\"++++++++++++++++++++++++++++++++++++++++++++++\")\n",
        "      row_noizes_size_group.append(column_experiments_size_group)\n",
        "      column_experiments_size_group = []\n",
        "      \n",
        "  \n",
        "    else: # same experiment header with the back\n",
        "      pass\n",
        "      \n",
        "\n",
        "    each_loss_header = re.match(each_loss_pattern, each_history_file).group()\n",
        "    if each_loss_header_old != each_loss_header and each_loss_header_old !=\"\":\n",
        "      print(\"------------------------------------------------------------------------------\")\n",
        "      column_experiments_size_group.append(elements_six_group)\n",
        "      elements_six_group = []\n",
        "    else:  # same loss header with the back\n",
        "      \n",
        "      pass\n",
        "      \n",
        "      \n",
        "\n",
        "    \n",
        "    elements_six_group.append(each_history_file)\n",
        "    each_loss_header_old = each_loss_header\n",
        "    each_experiment_header_old = each_experiment_header\n",
        "\n",
        "    print(each_history_file)\n",
        "  #/if\n",
        "    \n",
        "    \n",
        "\n",
        "    # if "
      ],
      "execution_count": 70,
      "outputs": [
        {
          "output_type": "stream",
          "text": [
            "KTH.0.03.CategoricalCrossentropy.0.0122.csv\n",
            "KTH.0.03.CategoricalCrossentropy.1.0122.csv\n",
            "KTH.0.03.CategoricalCrossentropy.2.0122.csv\n",
            "KTH.0.03.CategoricalCrossentropy.3.0122.csv\n",
            "KTH.0.03.CategoricalCrossentropy.4.0122.csv\n",
            "KTH.0.03.CategoricalCrossentropy.5.0122.csv\n",
            "------------------------------------------------------------------------------\n",
            "KTH.0.03.MeanAbsoluteError.0.0122.csv\n",
            "KTH.0.03.MeanAbsoluteError.1.0122.csv\n",
            "KTH.0.03.MeanAbsoluteError.2.0122.csv\n",
            "KTH.0.03.MeanAbsoluteError.3.0122.csv\n",
            "KTH.0.03.MeanAbsoluteError.4.0122.csv\n",
            "KTH.0.03.MeanAbsoluteError.5.0122.csv\n",
            "------------------------------------------------------------------------------\n",
            "KTH.0.03.MeanSquaredError.0.0122.csv\n",
            "KTH.0.03.MeanSquaredError.1.0122.csv\n",
            "KTH.0.03.MeanSquaredError.2.0122.csv\n",
            "KTH.0.03.MeanSquaredError.3.0122.csv\n",
            "KTH.0.03.MeanSquaredError.4.0122.csv\n",
            "KTH.0.03.MeanSquaredError.5.0122.csv\n",
            "++++++++++++++++++++++++++++++++++++++++++++++\n",
            "++++++++++++++++++++++++++++++++++++++++++++++\n",
            "++++++++++++++++++++++++++++++++++++++++++++++\n",
            "------------------------------------------------------------------------------\n",
            "KTH.0.CategoricalCrossentropy.0.0121.csv\n",
            "KTH.0.CategoricalCrossentropy.1.0121.csv\n",
            "KTH.0.CategoricalCrossentropy.2.0121.csv\n",
            "KTH.0.CategoricalCrossentropy.3.0121.csv\n",
            "KTH.0.CategoricalCrossentropy.4.0121.csv\n",
            "KTH.0.CategoricalCrossentropy.5.0121.csv\n",
            "------------------------------------------------------------------------------\n",
            "KTH.0.MeanAbsoluteError.0.0121.csv\n",
            "KTH.0.MeanAbsoluteError.1.0121.csv\n",
            "KTH.0.MeanAbsoluteError.2.0121.csv\n",
            "KTH.0.MeanAbsoluteError.3.0121.csv\n",
            "KTH.0.MeanAbsoluteError.4.0121.csv\n",
            "KTH.0.MeanAbsoluteError.5.0121.csv\n",
            "------------------------------------------------------------------------------\n",
            "KTH.0.MeanSquaredError.0.0121.csv\n",
            "KTH.0.MeanSquaredError.1.0121.csv\n",
            "KTH.0.MeanSquaredError.2.0121.csv\n",
            "KTH.0.MeanSquaredError.3.0121.csv\n",
            "KTH.0.MeanSquaredError.4.0121.csv\n",
            "KTH.0.MeanSquaredError.5.0121.csv\n"
          ],
          "name": "stdout"
        }
      ]
    },
    {
      "cell_type": "code",
      "metadata": {
        "id": "M61R2oW0-hCF",
        "outputId": "6094662c-fb1d-40a5-a74b-f91498f44a94",
        "colab": {
          "base_uri": "https://localhost:8080/"
        }
      },
      "source": [
        "for i in row_noizes_size_group:\n",
        "  print(i)"
      ],
      "execution_count": 72,
      "outputs": [
        {
          "output_type": "stream",
          "text": [
            "[['KTH.0.03.CategoricalCrossentropy.0.0122.csv', 'KTH.0.03.CategoricalCrossentropy.1.0122.csv', 'KTH.0.03.CategoricalCrossentropy.2.0122.csv', 'KTH.0.03.CategoricalCrossentropy.3.0122.csv', 'KTH.0.03.CategoricalCrossentropy.4.0122.csv', 'KTH.0.03.CategoricalCrossentropy.5.0122.csv'], ['KTH.0.03.MeanAbsoluteError.0.0122.csv', 'KTH.0.03.MeanAbsoluteError.1.0122.csv', 'KTH.0.03.MeanAbsoluteError.2.0122.csv', 'KTH.0.03.MeanAbsoluteError.3.0122.csv', 'KTH.0.03.MeanAbsoluteError.4.0122.csv', 'KTH.0.03.MeanAbsoluteError.5.0122.csv']]\n"
          ],
          "name": "stdout"
        }
      ]
    }
  ]
}