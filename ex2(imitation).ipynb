{
  "nbformat": 4,
  "nbformat_minor": 0,
  "metadata": {
    "colab": {
      "name": "ex2(imitation).ipynb",
      "provenance": [],
      "collapsed_sections": [
        "m3yMyhHRb6hZ"
      ],
      "toc_visible": true,
      "authorship_tag": "ABX9TyM2bkuiXfZhI3q2bS2isDrt",
      "include_colab_link": true
    },
    "kernelspec": {
      "name": "python3",
      "display_name": "Python 3"
    },
    "accelerator": "GPU"
  },
  "cells": [
    {
      "cell_type": "markdown",
      "metadata": {
        "id": "view-in-github",
        "colab_type": "text"
      },
      "source": [
        "<a href=\"https://colab.research.google.com/github/s1250103/Public_mori-lab/blob/preprcing-learning/ex2(imitation).ipynb\" target=\"_parent\"><img src=\"https://colab.research.google.com/assets/colab-badge.svg\" alt=\"Open In Colab\"/></a>"
      ]
    },
    {
      "cell_type": "markdown",
      "metadata": {
        "id": "m3yMyhHRb6hZ"
      },
      "source": [
        "# setting"
      ]
    },
    {
      "cell_type": "code",
      "metadata": {
        "id": "o3p428c0W3gq"
      },
      "source": [
        "%tensorflow_version 2.x"
      ],
      "execution_count": 1,
      "outputs": []
    },
    {
      "cell_type": "code",
      "metadata": {
        "id": "AKHp1q9zXmxd",
        "colab": {
          "base_uri": "https://localhost:8080/"
        },
        "outputId": "73ed6728-fabb-4b94-975d-1c479365320d"
      },
      "source": [
        "!pip install -q keras_tuner"
      ],
      "execution_count": 2,
      "outputs": [
        {
          "output_type": "stream",
          "text": [
            "\u001b[?25l\r\u001b[K     |█████▏                          | 10kB 24.0MB/s eta 0:00:01\r\u001b[K     |██████████▍                     | 20kB 18.0MB/s eta 0:00:01\r\u001b[K     |███████████████▋                | 30kB 9.9MB/s eta 0:00:01\r\u001b[K     |████████████████████▉           | 40kB 8.1MB/s eta 0:00:01\r\u001b[K     |██████████████████████████      | 51kB 4.1MB/s eta 0:00:01\r\u001b[K     |███████████████████████████████▎| 61kB 4.6MB/s eta 0:00:01\r\u001b[K     |████████████████████████████████| 71kB 3.6MB/s \n",
            "\u001b[?25h  Building wheel for keras-tuner (setup.py) ... \u001b[?25l\u001b[?25hdone\n",
            "  Building wheel for terminaltables (setup.py) ... \u001b[?25l\u001b[?25hdone\n"
          ],
          "name": "stdout"
        }
      ]
    },
    {
      "cell_type": "code",
      "metadata": {
        "id": "znQ9JQepdabP"
      },
      "source": [
        "import numpy as np\n",
        "import shutil\n",
        "  \n",
        "import tensorflow as tf\n",
        "from tensorflow.keras import layers, models, initializers, callbacks\n",
        "from tensorflow.keras.datasets import mnist\n",
        "\n",
        "from pandas import DataFrame\n",
        "import matplotlib as mpl\n",
        "import matplotlib.pyplot as plt\n",
        "\n",
        "np.random.seed(20190222)\n",
        "tf.random.set_seed(20190222)"
      ],
      "execution_count": 3,
      "outputs": []
    },
    {
      "cell_type": "markdown",
      "metadata": {
        "id": "Asxnjf4ub9M1"
      },
      "source": [
        "# model creating and hyper prametar designing"
      ]
    },
    {
      "cell_type": "code",
      "metadata": {
        "id": "wzMnCziDW8Ii"
      },
      "source": [
        "from tensorflow import keras\n",
        "from tensorflow.keras.layers import Dense\n",
        "\n",
        "def build_model(hp):\n",
        "    model = models.Sequential()\n",
        "    model.add(layers.Reshape((28, 28, 1), input_shape=(28*28,), name='reshape'))\n",
        "\n",
        "    # drop1\n",
        "\n",
        "    ## tune\n",
        "    # model.add(layers.Dropout(hp.Choice('drop1_rate', values=[0.001, 0.5])))\n",
        "    model.add(layers.Dropout(0.5))\n",
        "\n",
        "    ##before\n",
        "    model.add(layers.Conv2D(16, (5, 5), padding='same',\n",
        "                        kernel_initializer=initializers.TruncatedNormal(),\n",
        "                        use_bias=True, activation='relu',\n",
        "                        name='conv_filter'))\n",
        "\n",
        "    ##tune\n",
        "    # model.add(layers.Conv2D(hp.Int('conv1_units',\n",
        "    #                                min_value=8,\n",
        "    #                                max_value=64,\n",
        "    #                                step=8), (5, 5), padding='same',\n",
        "    #                     kernel_initializer=initializers.TruncatedNormal(),\n",
        "    #                     use_bias=True, activation='relu',\n",
        "    #                     name='conv_filter'))\n",
        "    \n",
        "    \n",
        "\n",
        "    model.add(layers.MaxPooling2D((2, 2), name='max_pooling'))\n",
        "    model.add(layers.Flatten(name='flatten'))\n",
        "    #before\n",
        "    model.add(layers.Dense(1024, activation='relu',\n",
        "                          kernel_initializer=initializers.TruncatedNormal(),\n",
        "                          name='hidden'))\n",
        "    # # tune\n",
        "    # model.add(\n",
        "    #     layers.Dense(units=hp.Int('units',\n",
        "    #                               min_value=512,\n",
        "    #                               max_value=1024,\n",
        "    #                               step=512),\n",
        "    #                  activation='relu',\n",
        "    #                 kernel_initializer=initializers.TruncatedNormal(),\n",
        "    #                 name='hidden'))\n",
        "\n",
        "    model.add(layers.Dropout(hp.Choice('drop_rate', values=[0.001, 0.5])))\n",
        "\n",
        "    model.add(layers.Dense(10, activation='softmax', name='softmax'))\n",
        "\n",
        "\n",
        "    model.compile(\n",
        "        optimizer=keras.optimizers.Adam(\n",
        "            hp.Choice('learning_rate',\n",
        "                      values=[1e-3, 1e-4])),\n",
        "              loss='categorical_crossentropy',\n",
        "              metrics=['acc'])\n",
        "    \n",
        "    \n",
        "    return model"
      ],
      "execution_count": 4,
      "outputs": []
    },
    {
      "cell_type": "markdown",
      "metadata": {
        "id": "lB7kISnicPrw"
      },
      "source": [
        "# tuner designing"
      ]
    },
    {
      "cell_type": "code",
      "metadata": {
        "id": "i23XW858XQfb",
        "colab": {
          "base_uri": "https://localhost:8080/"
        },
        "outputId": "665094c4-0794-44d1-e382-25bf14a9da4a"
      },
      "source": [
        "from kerastuner.tuners import Hyperband\n",
        "\n",
        "tuner = Hyperband(\n",
        "    build_model,\n",
        "    objective='val_acc',\n",
        "    max_epochs=5,\n",
        "    directory='my_dir',\n",
        "    project_name='tf',\n",
        "    overwrite=False\n",
        "    )"
      ],
      "execution_count": 9,
      "outputs": [
        {
          "output_type": "stream",
          "text": [
            "INFO:tensorflow:Reloading Oracle from existing project my_dir/tf/oracle.json\n",
            "INFO:tensorflow:Reloading Tuner from my_dir/tf/tuner0.json\n"
          ],
          "name": "stdout"
        }
      ]
    },
    {
      "cell_type": "code",
      "metadata": {
        "id": "bel0nDKmXkWl",
        "colab": {
          "base_uri": "https://localhost:8080/"
        },
        "outputId": "fc736003-6e45-4b63-b9ee-ebf3cb23d5e3"
      },
      "source": [
        "tuner.search_space_summary()"
      ],
      "execution_count": 6,
      "outputs": [
        {
          "output_type": "stream",
          "text": [
            "Search space summary\n",
            "Default search space size: 2\n",
            "drop_rate (Choice)\n",
            "{'default': 0.001, 'conditions': [], 'values': [0.001, 0.5], 'ordered': True}\n",
            "learning_rate (Choice)\n",
            "{'default': 0.001, 'conditions': [], 'values': [0.001, 0.0001], 'ordered': True}\n"
          ],
          "name": "stdout"
        }
      ]
    },
    {
      "cell_type": "markdown",
      "metadata": {
        "id": "Tln1G4PmcV9e"
      },
      "source": [
        "# gathering data"
      ]
    },
    {
      "cell_type": "code",
      "metadata": {
        "id": "FP-pPUlPZzC9",
        "colab": {
          "base_uri": "https://localhost:8080/"
        },
        "outputId": "98e0ba81-300d-49a1-e6eb-2f32ebac8799"
      },
      "source": [
        "(train_images, train_labels), (test_images, test_labels) = mnist.load_data()\n",
        "train_images = train_images.reshape(\n",
        "                  (len(train_images), 784)).astype('float32') / 255\n",
        "test_images = test_images.reshape(\n",
        "                  (len(test_images), 784)).astype('float32') / 255\n",
        "train_labels = tf.keras.utils.to_categorical(train_labels, 10)\n",
        "test_labels = tf.keras.utils.to_categorical(test_labels, 10)"
      ],
      "execution_count": 7,
      "outputs": [
        {
          "output_type": "stream",
          "text": [
            "Downloading data from https://storage.googleapis.com/tensorflow/tf-keras-datasets/mnist.npz\n",
            "11493376/11490434 [==============================] - 0s 0us/step\n"
          ],
          "name": "stdout"
        }
      ]
    },
    {
      "cell_type": "markdown",
      "metadata": {
        "id": "Cn6XEvMkcatP"
      },
      "source": [
        "# searching param"
      ]
    },
    {
      "cell_type": "code",
      "metadata": {
        "id": "N_lbpxaaLyyz",
        "colab": {
          "base_uri": "https://localhost:8080/"
        },
        "outputId": "b57002e9-6dcb-4448-a08e-92153dbf9923"
      },
      "source": [
        "%%time\n",
        "tuner.search(train_images, train_labels,\n",
        "             epochs=10,\n",
        "             validation_data=(test_images, test_labels))"
      ],
      "execution_count": 8,
      "outputs": [
        {
          "output_type": "stream",
          "text": [
            "Trial 4 Complete [00h 00m 25s]\n",
            "val_acc: 0.9595999717712402\n",
            "\n",
            "Best val_acc So Far: 0.9789000153541565\n",
            "Total elapsed time: 00h 01m 48s\n",
            "INFO:tensorflow:Oracle triggered exit\n",
            "CPU times: user 1min 21s, sys: 26.5 s, total: 1min 48s\n",
            "Wall time: 1min 48s\n"
          ],
          "name": "stdout"
        }
      ]
    },
    {
      "cell_type": "markdown",
      "metadata": {
        "id": "Hmqx_5h6cpr8"
      },
      "source": [
        "# reloading tuner"
      ]
    },
    {
      "cell_type": "code",
      "metadata": {
        "id": "-VTXvBnXiROe",
        "colab": {
          "base_uri": "https://localhost:8080/"
        },
        "outputId": "30757cc2-6ff9-42b7-84ac-0770133f7a99"
      },
      "source": [
        "# reload existing tuner\n",
        "tuner = Hyperband(\n",
        "    build_model,\n",
        "    objective='val_loss',\n",
        "    max_epochs=0,\n",
        "    directory='my_dir',\n",
        "    project_name='tf',\n",
        "    overwrite=False\n",
        "    )"
      ],
      "execution_count": 21,
      "outputs": [
        {
          "output_type": "stream",
          "text": [
            "INFO:tensorflow:Reloading Oracle from existing project my_dir/tf/oracle.json\n",
            "INFO:tensorflow:Reloading Tuner from my_dir/tf/tuner0.json\n"
          ],
          "name": "stdout"
        }
      ]
    },
    {
      "cell_type": "markdown",
      "metadata": {
        "id": "R6nCyjQBcuRN"
      },
      "source": [
        "# confirming the contents"
      ]
    },
    {
      "cell_type": "code",
      "metadata": {
        "id": "ONesfPyuNG_O",
        "colab": {
          "base_uri": "https://localhost:8080/"
        },
        "outputId": "877a9052-c049-48da-e416-66a79df01520"
      },
      "source": [
        "tuner.results_summary()"
      ],
      "execution_count": 22,
      "outputs": [
        {
          "output_type": "stream",
          "text": [
            "Results summary\n",
            "Results in my_dir/tf\n",
            "Showing 10 best trials\n",
            "Objective(name='val_loss', direction='min')\n",
            "Trial summary\n",
            "Hyperparameters:\n",
            "drop1_rate: 0.001\n",
            "learning_rate: 0.0001\n",
            "tuner/epochs: 2\n",
            "tuner/initial_epoch: 0\n",
            "tuner/bracket: 1\n",
            "tuner/round: 0\n",
            "Score: 0.9786999821662903\n",
            "Trial summary\n",
            "Hyperparameters:\n",
            "drop1_rate: 0.5\n",
            "learning_rate: 0.0001\n",
            "tuner/epochs: 2\n",
            "tuner/initial_epoch: 0\n",
            "tuner/bracket: 1\n",
            "tuner/round: 0\n",
            "Score: 0.9800999760627747\n",
            "Trial summary\n",
            "Hyperparameters:\n",
            "drop1_rate: 0.001\n",
            "learning_rate: 0.001\n",
            "tuner/epochs: 2\n",
            "tuner/initial_epoch: 0\n",
            "tuner/bracket: 1\n",
            "tuner/round: 0\n",
            "Score: 0.9860000014305115\n",
            "Trial summary\n",
            "Hyperparameters:\n",
            "drop1_rate: 0.5\n",
            "learning_rate: 0.001\n",
            "tuner/epochs: 2\n",
            "tuner/initial_epoch: 0\n",
            "tuner/bracket: 1\n",
            "tuner/round: 0\n",
            "Score: 0.9861999750137329\n"
          ],
          "name": "stdout"
        }
      ]
    }
  ]
}