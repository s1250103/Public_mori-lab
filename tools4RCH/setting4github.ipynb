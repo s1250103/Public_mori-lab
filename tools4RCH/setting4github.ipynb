{
  "nbformat": 4,
  "nbformat_minor": 0,
  "metadata": {
    "colab": {
      "name": "setting4github.ipynb",
      "provenance": [],
      "collapsed_sections": [],
      "authorship_tag": "ABX9TyM4X2dBdQYvB6uoNjTMCGe9",
      "include_colab_link": true
    },
    "kernelspec": {
      "name": "python3",
      "display_name": "Python 3"
    }
  },
  "cells": [
    {
      "cell_type": "markdown",
      "metadata": {
        "id": "view-in-github",
        "colab_type": "text"
      },
      "source": [
        "<a href=\"https://colab.research.google.com/github/s1250103/Public_mori-lab/blob/master/tools4RCH/setting4github.ipynb\" target=\"_parent\"><img src=\"https://colab.research.google.com/assets/colab-badge.svg\" alt=\"Open In Colab\"/></a>"
      ]
    },
    {
      "cell_type": "code",
      "metadata": {
        "colab": {
          "base_uri": "https://localhost:8080/"
        },
        "id": "f6ecU2jxPXDH",
        "outputId": "7f2fba79-ff99-4dc9-82b6-8c0cb86124a2"
      },
      "source": [
        "import os\n",
        "PATH = '/content/Public_mori-lab/tools4RCH/'\n",
        "os.chdir(PATH)\n",
        "!pwd"
      ],
      "execution_count": null,
      "outputs": [
        {
          "output_type": "stream",
          "text": [
            "/content/Public_mori-lab/tools4RCH\n"
          ],
          "name": "stdout"
        }
      ]
    },
    {
      "cell_type": "code",
      "metadata": {
        "id": "hXCqW5a4Wae3",
        "colab": {
          "base_uri": "https://localhost:8080/"
        },
        "outputId": "3b94560e-3457-4ae4-cc6f-432cfda43005"
      },
      "source": [
        "!git add -A\n",
        "!git commit -m \"test\"\n",
        "!git push"
      ],
      "execution_count": null,
      "outputs": [
        {
          "output_type": "stream",
          "text": [
            "warning: adding embedded git repository: tools4RCH/Public_mori-lab\n",
            "hint: You've added another git repository inside your current repository.\n",
            "hint: Clones of the outer repository will not contain the contents of\n",
            "hint: the embedded repository and will not know how to obtain it.\n",
            "hint: If you meant to add a submodule, use:\n",
            "hint: \n",
            "hint: \tgit submodule add <url> tools4RCH/Public_mori-lab\n",
            "hint: \n",
            "hint: If you added this path by mistake, you can remove it from the\n",
            "hint: index with:\n",
            "hint: \n",
            "hint: \tgit rm --cached tools4RCH/Public_mori-lab\n",
            "hint: \n",
            "hint: See \"git help submodule\" for more information.\n",
            "[master b9535cc] test\n",
            " 1 file changed, 1 insertion(+)\n",
            " create mode 160000 tools4RCH/Public_mori-lab\n",
            "Counting objects: 3, done.\n",
            "Delta compression using up to 2 threads.\n",
            "Compressing objects: 100% (3/3), done.\n",
            "Writing objects: 100% (3/3), 328 bytes | 328.00 KiB/s, done.\n",
            "Total 3 (delta 2), reused 0 (delta 0)\n",
            "remote: Resolving deltas: 100% (2/2), completed with 2 local objects.\u001b[K\n",
            "To https://github.com/s1250103/Public_mori-lab.git\n",
            "   00380e0..b9535cc  master -> master\n"
          ],
          "name": "stdout"
        }
      ]
    }
  ]
}